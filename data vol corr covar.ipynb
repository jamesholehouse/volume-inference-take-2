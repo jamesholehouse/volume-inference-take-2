{
 "cells": [
  {
   "cell_type": "code",
   "execution_count": 1,
   "id": "aa1a2211",
   "metadata": {},
   "outputs": [],
   "source": [
    "using Random, Plots, Distributions, StatsBase, DataFrames, CSV, Plots.PlotMeasures"
   ]
  },
  {
   "cell_type": "code",
   "execution_count": 2,
   "id": "0807513e",
   "metadata": {},
   "outputs": [],
   "source": [
    "df = DataFrame(CSV.File(\"./mad1WTGFP/FISH_toShare_NoTSlabel_celldata_long_220620_simple_woMad3Outlier_withColDescription.csv\"));"
   ]
  },
  {
   "cell_type": "code",
   "execution_count": 3,
   "id": "84235298",
   "metadata": {},
   "outputs": [
    {
     "data": {
      "text/plain": [
       "15-element Vector{String}:\n",
       " \"sampleID\"\n",
       " \"gene\"\n",
       " \"probe\"\n",
       " \"strain\"\n",
       " \"imageID\"\n",
       " \"CellNo\"\n",
       " \"NucleiCount\"\n",
       " \"Compartment\"\n",
       " \"CountMethod\"\n",
       " \"RNAperCell\"\n",
       " \"Cell_Pseudovol_um\"\n",
       " \"Cell_Area_um\"\n",
       " \"Cell_Length_um\"\n",
       " \"Cell_Width_um\"\n",
       " \"Nuc_Vol_um\""
      ]
     },
     "execution_count": 3,
     "metadata": {},
     "output_type": "execute_result"
    }
   ],
   "source": [
    "names(df)"
   ]
  },
  {
   "cell_type": "code",
   "execution_count": 4,
   "id": "4314d2be",
   "metadata": {},
   "outputs": [],
   "source": [
    "df = df[:,[:gene,:NucleiCount,:Compartment,:CountMethod,:RNAperCell,:Cell_Length_um]];"
   ]
  },
  {
   "cell_type": "code",
   "execution_count": 35,
   "id": "7ee07693",
   "metadata": {},
   "outputs": [],
   "source": [
    "# filter NucleiCount = 1\n",
    "dfa = subset(df,:NucleiCount => n -> n.==1)\n",
    "# make cyto and nuc table separately.\n",
    "dfcyto = subset(dfa, :Compartment=>c->c.==\"Cytoplasm\")\n",
    "dfnuc = subset(dfa, :Compartment=>c->c.==\"Nucleus\")\n",
    "# separate the 7 different genes\n",
    "dfsN = []; dfsC = [];\n",
    "genes = unique(dfa[!,:gene])\n",
    "# add each to the vectors\n",
    "for i in 1:10\n",
    "    dftempN = subset(dfnuc, :gene=>S->S.==genes[i])\n",
    "    dftempC = subset(dfcyto, :gene=>S->S.==genes[i])\n",
    "    push!(dfsN,dftempN)\n",
    "    push!(dfsC,dftempC)\n",
    "end"
   ]
  },
  {
   "cell_type": "code",
   "execution_count": 36,
   "id": "operating-uganda",
   "metadata": {},
   "outputs": [],
   "source": [
    "n_vols = [dfsN[i][!,:Cell_Length_um] for i in 1:length(dfsN)]\n",
    "c_vols = [dfsC[i][!,:Cell_Length_um] for i in 1:length(dfsN)]\n",
    "n_ints = [dfsN[i][!,:RNAperCell] for i in 1:length(dfsN)]\n",
    "c_ints = [dfsC[i][!,:RNAperCell] for i in 1:length(dfsN)];"
   ]
  },
  {
   "cell_type": "code",
   "execution_count": 37,
   "id": "unavailable-clinic",
   "metadata": {},
   "outputs": [],
   "source": [
    "Ns = [length(c_ints[i]) for i in 1:7];"
   ]
  },
  {
   "cell_type": "markdown",
   "id": "11d027b7",
   "metadata": {},
   "source": [
    "For the linear model fits we use the Julia package GLM. This is a very convenient and fast way to construct linear models."
   ]
  },
  {
   "cell_type": "code",
   "execution_count": 38,
   "id": "552f3e83",
   "metadata": {},
   "outputs": [],
   "source": [
    "using GLM"
   ]
  },
  {
   "cell_type": "markdown",
   "id": "e0cc9bc2",
   "metadata": {},
   "source": [
    "Perform the linear model fits. Note in the below that our fitting parameters are stored in `npar` and `cpar` in the order `[intercept, gradient]`."
   ]
  },
  {
   "cell_type": "code",
   "execution_count": 39,
   "id": "9bbfc111",
   "metadata": {},
   "outputs": [
    {
     "data": {
      "text/plain": [
       "10-element Vector{Float64}:\n",
       "  3.2543858520376427\n",
       "  0.3027547144895288\n",
       "  1.862936344101668\n",
       "  0.4486839874995193\n",
       "  0.4733008577390787\n",
       "  0.3872917294645617\n",
       "  0.5636688403707902\n",
       "  0.33229267946068464\n",
       " -0.01903586284508915\n",
       "  0.6386458986387803"
      ]
     },
     "execution_count": 39,
     "metadata": {},
     "output_type": "execute_result"
    }
   ],
   "source": [
    "nlms = [lm(@formula(RNAperCell ~ Cell_Length_um), dfsN[i]) for i in 1:length(dfsN)]\n",
    "npars = [coef(nlms[i]) for i in 1:length(dfsN)]\n",
    "cs = hcat(npars...)[1,:]; ds = hcat(npars...)[2,:]\n",
    "clms = [lm(@formula(RNAperCell ~ Cell_Length_um), dfsC[i]) for i in 1:length(dfsN)]\n",
    "cpars = [coef(clms[i]) for i in 1:length(dfsN)]\n",
    "as = hcat(cpars...)[1,:]; bs = hcat(cpars...)[2,:]"
   ]
  },
  {
   "cell_type": "markdown",
   "id": "8a39fa7a",
   "metadata": {},
   "source": [
    "A quick look at the linear model fit itself will tell us some properties of the fit."
   ]
  },
  {
   "cell_type": "code",
   "execution_count": 40,
   "id": "1c63acbb",
   "metadata": {},
   "outputs": [
    {
     "data": {
      "text/plain": [
       "StatsModels.TableRegressionModel{LinearModel{GLM.LmResp{Vector{Float64}}, GLM.DensePredChol{Float64, LinearAlgebra.CholeskyPivoted{Float64, Matrix{Float64}, Vector{Int64}}}}, Matrix{Float64}}\n",
       "\n",
       "RNAperCell ~ 1 + Cell_Length_um\n",
       "\n",
       "Coefficients:\n",
       "─────────────────────────────────────────────────────────────────────────────\n",
       "                    Coef.  Std. Error       t  Pr(>|t|)  Lower 95%  Upper 95%\n",
       "─────────────────────────────────────────────────────────────────────────────\n",
       "(Intercept)     -12.2665    0.40463    -30.32    <1e-99  -13.0598   -11.4731\n",
       "Cell_Length_um    3.25439   0.0423445   76.85    <1e-99    3.17136    3.33741\n",
       "─────────────────────────────────────────────────────────────────────────────"
      ]
     },
     "execution_count": 40,
     "metadata": {},
     "output_type": "execute_result"
    }
   ],
   "source": [
    "clms[1]"
   ]
  },
  {
   "cell_type": "markdown",
   "id": "fe494940",
   "metadata": {},
   "source": [
    "Now, to construct the volume corrected moments we first need to know the mean values for the volumes and intensities. Collect these from the data."
   ]
  },
  {
   "cell_type": "code",
   "execution_count": 41,
   "id": "f7b86a0c",
   "metadata": {},
   "outputs": [
    {
     "data": {
      "text/plain": [
       "10-element Vector{Float64}:\n",
       " 18.287384616295455\n",
       "  1.7151718625745296\n",
       " 17.610967268107835\n",
       "  2.818037297496365\n",
       "  2.853951370509465\n",
       "  4.341669328347927\n",
       "  3.471709988317795\n",
       "  5.38877324092077\n",
       " 24.879556910694966\n",
       "  3.2043133962584487"
      ]
     },
     "execution_count": 41,
     "metadata": {},
     "output_type": "execute_result"
    }
   ],
   "source": [
    "n_vol_avgs = [mean(n_vols[i]) for i in 1:length(dfsN)]\n",
    "c_vol_avgs = [mean(c_vols[i]) for i in 1:length(dfsN)]\n",
    "n_avgs = [mean(n_ints[i]) for i in 1:length(dfsN)]\n",
    "c_avgs = [mean(c_ints[i]) for i in 1:length(dfsN)]"
   ]
  },
  {
   "cell_type": "markdown",
   "id": "cad2ffea",
   "metadata": {},
   "source": [
    "Note that even the means of the cytoplasmic can vary quite significantly between the replicates. As can the observed mean cell volumes in each experiment."
   ]
  },
  {
   "cell_type": "markdown",
   "id": "86b0a1ba",
   "metadata": {},
   "source": [
    "We know theoretically that to first order volume corrections to the means are nil. Let's just clarify this."
   ]
  },
  {
   "cell_type": "code",
   "execution_count": 42,
   "id": "ae9e3336",
   "metadata": {},
   "outputs": [
    {
     "data": {
      "text/plain": [
       "10-element Vector{Float64}:\n",
       "  0.2245899921869469\n",
       "  0.023980893063671654\n",
       "  0.07916482934427854\n",
       "  0.03721835148155214\n",
       "  0.05860329908418444\n",
       "  0.014392613422049557\n",
       "  0.025157783464598515\n",
       " -0.07699645804600715\n",
       " -0.42355363127884743\n",
       "  0.07902465901807378"
      ]
     },
     "execution_count": 42,
     "metadata": {},
     "output_type": "execute_result"
    }
   ],
   "source": [
    "ds"
   ]
  },
  {
   "cell_type": "code",
   "execution_count": 43,
   "id": "af7ad26b",
   "metadata": {},
   "outputs": [
    {
     "data": {
      "text/plain": [
       "10-element Vector{Float64}:\n",
       " 18.287384616295448\n",
       "  1.7151718625745302\n",
       " 17.61096726810785\n",
       "  2.8180372974963643\n",
       "  2.853951370509466\n",
       "  4.341669328347927\n",
       "  3.4717099883177935\n",
       "  5.388773240920772\n",
       " 24.87955691069497\n",
       "  3.2043133962584456"
      ]
     },
     "execution_count": 43,
     "metadata": {},
     "output_type": "execute_result"
    }
   ],
   "source": [
    "vc_mean_ns = [cs[i] + n_vol_avgs[i]*ds[i] for i in 1:length(dfsN)]\n",
    "vc_mean_cs = [as[i] + c_vol_avgs[i]*bs[i] for i in 1:length(dfsN)]\n",
    "# vc_mean_cs = a + c_vol_avg*b"
   ]
  },
  {
   "cell_type": "code",
   "execution_count": 44,
   "id": "6331c0e6",
   "metadata": {},
   "outputs": [],
   "source": [
    "μ20s = [moment(n_ints[i], 2, n_avgs[i]) for i in 1:length(dfsN)];\n",
    "μ02s = [moment(c_ints[i], 2, c_avgs[i]) for i in 1:length(dfsN)];\n",
    "μ2Ωs = [moment(n_vols[i], 2, n_vol_avgs[i]) for i in 1:length(dfsN)];"
   ]
  },
  {
   "cell_type": "code",
   "execution_count": 45,
   "id": "wireless-kelly",
   "metadata": {},
   "outputs": [],
   "source": [
    "n_ints[1];"
   ]
  },
  {
   "cell_type": "code",
   "execution_count": 46,
   "id": "collected-fraction",
   "metadata": {},
   "outputs": [
    {
     "data": {
      "text/plain": [
       "10-element Vector{Float64}:\n",
       "  2.9335350934066327\n",
       " -0.0836773344948758\n",
       "  0.48620505966952265\n",
       " -0.03015119208490591\n",
       " -0.18106725911585242\n",
       " -0.12170287246755862\n",
       " -0.028301554043778765\n",
       " -0.23404003525394756\n",
       " 26.9683403826363\n",
       "  1.2544683731175614"
      ]
     },
     "execution_count": 46,
     "metadata": {},
     "output_type": "execute_result"
    }
   ],
   "source": [
    "μ11s = [(sum(n_ints[i].*c_ints[i])/length(n_ints[i])) - n_avgs[i]*c_avgs[i] for i in 1:length(dfsN)]"
   ]
  },
  {
   "cell_type": "code",
   "execution_count": 47,
   "id": "21e86d08",
   "metadata": {},
   "outputs": [],
   "source": [
    "μ20s_i = [μ20s[i] - ds[i]^2 * μ2Ωs[i] for i in 1:length(dfsN)]\n",
    "μ02s_i = [μ02s[i] - bs[i]^2 * μ2Ωs[i] for i in 1:length(dfsN)];"
   ]
  },
  {
   "cell_type": "code",
   "execution_count": 48,
   "id": "patent-healing",
   "metadata": {},
   "outputs": [
    {
     "data": {
      "text/plain": [
       "10-element Vector{String31}:\n",
       " \"cdc13endog\"\n",
       " \"mad1endog\"\n",
       " \"rpb1endog\"\n",
       " \"mad1WTymEGFP\"\n",
       " \"mad2WTymEGFP\"\n",
       " \"bub1WTymEGFP\"\n",
       " \"mad3WTymEGFP\"\n",
       " \"sep1WTymEGFP-hph\"\n",
       " \"SPAC27D709cWTymEGFP-hph\"\n",
       " \"SPAC2H1001WTymEGFP-hph\""
      ]
     },
     "execution_count": 48,
     "metadata": {},
     "output_type": "execute_result"
    }
   ],
   "source": [
    "genes"
   ]
  },
  {
   "cell_type": "code",
   "execution_count": 49,
   "id": "cleared-packaging",
   "metadata": {},
   "outputs": [
    {
     "data": {
      "text/plain": [
       "10-element Vector{Float64}:\n",
       "  0.6191902799315514\n",
       " -0.10095622435350413\n",
       "  0.04742611860024876\n",
       " -0.08693640723020321\n",
       " -0.259091630280019\n",
       " -0.14074223584828016\n",
       " -0.08221160809740848\n",
       " -0.1619172598908808\n",
       " 26.951994588562876\n",
       "  1.1327239805867395"
      ]
     },
     "execution_count": 49,
     "metadata": {},
     "output_type": "execute_result"
    }
   ],
   "source": [
    "μ11s_i = [μ11s[i] - ds[i]*bs[i] * μ2Ωs[i] for i in 1:length(dfsN)]"
   ]
  },
  {
   "cell_type": "markdown",
   "id": "4e37cbc0",
   "metadata": {},
   "source": [
    "Clearly the volume corrected means are simply the means if one averaged over the data. Can now store the values for the VC FF's along with the mean cyto #."
   ]
  },
  {
   "cell_type": "code",
   "execution_count": 50,
   "id": "48999c0e",
   "metadata": {},
   "outputs": [
    {
     "data": {
      "text/plain": [
       "10-element Vector{Float64}:\n",
       " 0.9159105819018832\n",
       " 0.919476115404893\n",
       " 0.9490127578051145\n",
       " 0.983497126450783\n",
       " 0.8537487742762156\n",
       " 0.9475595569623816\n",
       " 0.9655228330073937\n",
       " 0.8475446192260743\n",
       " 2.6213179658115164\n",
       " 1.9368249625358231"
      ]
     },
     "execution_count": 50,
     "metadata": {},
     "output_type": "execute_result"
    }
   ],
   "source": [
    "nuc_FFs = μ20s_i./vc_mean_ns"
   ]
  },
  {
   "cell_type": "code",
   "execution_count": 51,
   "id": "dff707ae",
   "metadata": {},
   "outputs": [
    {
     "data": {
      "text/plain": [
       "10-element Vector{Float64}:\n",
       " 1.0648919795756426\n",
       " 0.627576686821267\n",
       " 0.7623392272382672\n",
       " 0.6725957863020816\n",
       " 0.8431401698178076\n",
       " 0.646448735849169\n",
       " 0.7239662326468429\n",
       " 0.9175703591365221\n",
       " 9.943713931875054\n",
       " 4.103832374474887"
      ]
     },
     "execution_count": 51,
     "metadata": {},
     "output_type": "execute_result"
    }
   ],
   "source": [
    "cyto_FFs = μ02s_i./vc_mean_cs"
   ]
  },
  {
   "cell_type": "code",
   "execution_count": 52,
   "id": "d251eb27",
   "metadata": {},
   "outputs": [
    {
     "data": {
      "text/plain": [
       "10-element Vector{Float64}:\n",
       " 18.287384616295448\n",
       "  1.7151718625745302\n",
       " 17.61096726810785\n",
       "  2.8180372974963643\n",
       "  2.853951370509466\n",
       "  4.341669328347927\n",
       "  3.4717099883177935\n",
       "  5.388773240920772\n",
       " 24.87955691069497\n",
       "  3.2043133962584456"
      ]
     },
     "execution_count": 52,
     "metadata": {},
     "output_type": "execute_result"
    }
   ],
   "source": [
    "cyto_means = vc_mean_cs"
   ]
  },
  {
   "cell_type": "code",
   "execution_count": null,
   "id": "supported-junior",
   "metadata": {},
   "outputs": [],
   "source": []
  },
  {
   "cell_type": "code",
   "execution_count": null,
   "id": "fundamental-awareness",
   "metadata": {},
   "outputs": [],
   "source": []
  },
  {
   "cell_type": "code",
   "execution_count": null,
   "id": "emerging-mitchell",
   "metadata": {},
   "outputs": [],
   "source": []
  }
 ],
 "metadata": {
  "kernelspec": {
   "display_name": "Julia 1.8.5",
   "language": "julia",
   "name": "julia-1.8"
  },
  "language_info": {
   "file_extension": ".jl",
   "mimetype": "application/julia",
   "name": "julia",
   "version": "1.8.5"
  }
 },
 "nbformat": 4,
 "nbformat_minor": 5
}
