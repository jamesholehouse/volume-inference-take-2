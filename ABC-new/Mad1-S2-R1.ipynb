{
 "cells": [
  {
   "cell_type": "markdown",
   "id": "0bf8155b",
   "metadata": {},
   "source": [
    "# Mad1 inference new objective function "
   ]
  },
  {
   "cell_type": "markdown",
   "id": "88748b80",
   "metadata": {},
   "source": [
    "Set the hyperparameters to $S=2,R=1$."
   ]
  },
  {
   "cell_type": "code",
   "execution_count": 1,
   "id": "fb1b0f9e",
   "metadata": {},
   "outputs": [
    {
     "data": {
      "text/plain": [
       "0.5"
      ]
     },
     "execution_count": 1,
     "metadata": {},
     "output_type": "execute_result"
    }
   ],
   "source": [
    "hypars = [2,1]; # [S,R]\n",
    "# pf defined for the priors (see SI).\n",
    "pf = (hypars[1]-1)/2"
   ]
  },
  {
   "cell_type": "markdown",
   "id": "5c3c9f57",
   "metadata": {},
   "source": [
    "Gene number is 3 for mad1endog."
   ]
  },
  {
   "cell_type": "code",
   "execution_count": 2,
   "id": "a3c392d2",
   "metadata": {},
   "outputs": [],
   "source": [
    "gn = 3;"
   ]
  },
  {
   "cell_type": "markdown",
   "id": "d090d5ee",
   "metadata": {},
   "source": [
    "Import the relevant packages and simulations."
   ]
  },
  {
   "cell_type": "code",
   "execution_count": 3,
   "id": "3c62fd95",
   "metadata": {},
   "outputs": [],
   "source": [
    "using Random, Plots, LaTeXStrings, Distributions, StatsBase, DataFrames, CSV, Plots.PlotMeasures, Revise, GpABC, JLD, FileIO"
   ]
  },
  {
   "cell_type": "code",
   "execution_count": 4,
   "id": "ffa29b4f",
   "metadata": {},
   "outputs": [],
   "source": [
    "Plots.theme(:dao)\n",
    "Plots.gr_cbar_width[] = 0.01;"
   ]
  },
  {
   "cell_type": "code",
   "execution_count": 5,
   "id": "e0c8fe24",
   "metadata": {},
   "outputs": [
    {
     "name": "stderr",
     "output_type": "stream",
     "text": [
      "WARNING: replacing module SSAnonVD.\n"
     ]
    }
   ],
   "source": [
    "Revise.track(\"/home/jamesh/GitHub/volume-inference-take-2/SSA-basic.jl\")\n",
    "include(\"/home/jamesh/GitHub/volume-inference-take-2/SSA-basic.jl\")\n",
    "using .SSAnonVD"
   ]
  },
  {
   "cell_type": "markdown",
   "id": "e52f53ab",
   "metadata": {},
   "source": [
    "Define a nice colorblind color scheme."
   ]
  },
  {
   "cell_type": "code",
   "execution_count": 6,
   "id": "6b682f17",
   "metadata": {},
   "outputs": [
    {
     "data": {
      "image/svg+xml": [
       "<?xml version=\"1.0\" encoding=\"UTF-8\"?>\n",
       "<!DOCTYPE svg PUBLIC \"-//W3C//DTD SVG 1.1//EN\"\n",
       " \"http://www.w3.org/Graphics/SVG/1.1/DTD/svg11.dtd\">\n",
       "<svg xmlns=\"http://www.w3.org/2000/svg\" version=\"1.1\"\n",
       "     width=\"175mm\" height=\"25mm\" viewBox=\"0 0 7 1\" stroke=\"none\"\n",
       "     preserveAspectRatio=\"none\" shape-rendering=\"crispEdges\">\n",
       "<defs>\n",
       "    <pattern id=\"pat_2256Yh\" width=\".2\" height=\".2\"\n",
       "             patternUnits=\"userSpaceOnUse\" >\n",
       "        <path d=\"M.1,0h.1v.1h-.2v.1h.1z\" fill=\"#999\" opacity=\".5\" />\n",
       "    </pattern>\n",
       "</defs>\n",
       "<rect width=\"7\" height=\"1\" fill=\"url(#pat_2256Yh)\" />\n",
       "<path d=\"M1,0v1h-1z\" fill=\"#7EC7E2\" />\n",
       "<path d=\"M0,0h1v1h-1z\" fill=\"#7EC7E2\" fill-opacity=\"1\" />\n",
       "<path d=\"M2,0v1h-1z\" fill=\"#359B7C\" />\n",
       "<path d=\"M1,0h1v1h-1z\" fill=\"#359B7C\" fill-opacity=\"1\" />\n",
       "<path d=\"M3,0v1h-1z\" fill=\"#4B8633\" />\n",
       "<path d=\"M2,0h1v1h-1z\" fill=\"#4B8633\" fill-opacity=\"1\" />\n",
       "<path d=\"M4,0v1h-1z\" fill=\"#C0B65A\" />\n",
       "<path d=\"M3,0h1v1h-1z\" fill=\"#C0B65A\" fill-opacity=\"1\" />\n",
       "<path d=\"M5,0v1h-1z\" fill=\"#D18377\" />\n",
       "<path d=\"M4,0h1v1h-1z\" fill=\"#D18377\" fill-opacity=\"1\" />\n",
       "<path d=\"M6,0v1h-1z\" fill=\"#922C5A\" />\n",
       "<path d=\"M5,0h1v1h-1z\" fill=\"#922C5A\" fill-opacity=\"1\" />\n",
       "<path d=\"M7,0v1h-1z\" fill=\"#AA4499\" />\n",
       "<path d=\"M6,0h1v1h-1z\" fill=\"#AA4499\" fill-opacity=\"1\" />\n",
       "</svg>"
      ],
      "text/plain": [
       "7-element Array{RGBA{Float64},1} with eltype RGBA{Float64}:\n",
       " RGBA{Float64}(0.49523809523809526,0.7809523809523811,0.8857142857142857,1.0)\n",
       " RGBA{Float64}(0.20952380952380956,0.6095238095238096,0.48571428571428577,1.0)\n",
       " RGBA{Float64}(0.29523809523809535,0.5238095238095238,0.2,1.0)\n",
       " RGBA{Float64}(0.7523809523809524,0.7142857142857142,0.35238095238095235,1.0)\n",
       " RGBA{Float64}(0.819047619047619,0.5142857142857142,0.4666666666666667,1.0)\n",
       " RGBA{Float64}(0.5714285714285715,0.17142857142857154,0.35238095238095246,1.0)\n",
       " RGBA{Float64}(0.6666666666666666,0.26666666666666666,0.6,1.0)"
      ]
     },
     "execution_count": 6,
     "metadata": {},
     "output_type": "execute_result"
    }
   ],
   "source": [
    "pal = cgrad(:tol_muted);\n",
    "cpal = [pal[i] for i in 1/7:1/7:1.0]\n",
    "population_colors = cpal"
   ]
  },
  {
   "cell_type": "markdown",
   "id": "a097f499",
   "metadata": {},
   "source": [
    "Import the data."
   ]
  },
  {
   "cell_type": "code",
   "execution_count": 7,
   "id": "889509da",
   "metadata": {},
   "outputs": [],
   "source": [
    "df_nuc = DataFrame(CSV.File(\"/home/jamesh/GitHub/volume-inference-take-2/data/nuclear-vol-corr.csv\"));\n",
    "df_cyto = DataFrame(CSV.File(\"/home/jamesh/GitHub/volume-inference-take-2/data/cyto-vol-corr.csv\"));\n",
    "delete!(df_nuc, 2);\n",
    "delete!(df_cyto, 2);"
   ]
  },
  {
   "cell_type": "code",
   "execution_count": 8,
   "id": "8d7c2423",
   "metadata": {},
   "outputs": [],
   "source": [
    "gnames = df_cyto[!,\"gene\"]\n",
    "Ns = df_nuc[!,\"N\"];\n",
    "cyto_means = df_cyto[!,\"Mean\"];\n",
    "nuc_FFs = df_nuc[!,\"FF\"];\n",
    "cyto_FFs = df_cyto[!,\"FF\"];"
   ]
  },
  {
   "cell_type": "code",
   "execution_count": 9,
   "id": "e280b633",
   "metadata": {},
   "outputs": [
    {
     "data": {
      "text/plain": [
       "\"mad1endog\""
      ]
     },
     "execution_count": 9,
     "metadata": {},
     "output_type": "execute_result"
    }
   ],
   "source": [
    "gnames[gn]"
   ]
  },
  {
   "cell_type": "markdown",
   "id": "1cd4fa7e",
   "metadata": {},
   "source": [
    "Define the timescales necessary to predict the steady-state time. `sim_time` defines the point at which the steady state is assumed to be reached."
   ]
  },
  {
   "cell_type": "code",
   "execution_count": 10,
   "id": "2257d9bc",
   "metadata": {},
   "outputs": [],
   "source": [
    "tdeg = 1;\n",
    "texpt(kA,kB,kC,S,R) = 1/kC;\n",
    "tinit(kA,kB,kC,S,R) = (1/kB)+(S-1)/kA;"
   ]
  },
  {
   "cell_type": "code",
   "execution_count": 11,
   "id": "65cdc12b",
   "metadata": {},
   "outputs": [
    {
     "data": {
      "text/plain": [
       "sim_time (generic function with 1 method)"
      ]
     },
     "execution_count": 11,
     "metadata": {},
     "output_type": "execute_result"
    }
   ],
   "source": [
    "function sim_time(pars)\n",
    "    kA, kB, kC = pars;\n",
    "    return 10*maximum([1,texpt(pars...,hypars...),tinit(pars...,hypars...)])\n",
    "end"
   ]
  },
  {
   "cell_type": "markdown",
   "id": "3adadcf8",
   "metadata": {},
   "source": [
    "Import the values from the bootstrapping for the distance function weighting. It is the inverse of these errors that multiples each square error (larger variance in the sample statistic gives it a lesser weighting in the objective function). "
   ]
  },
  {
   "cell_type": "code",
   "execution_count": 12,
   "id": "da14dcb6",
   "metadata": {},
   "outputs": [],
   "source": [
    "# bootstrapping = DataFrame(CSV.File(\"/home/jamesh/GitHub/volume-inference-take-2/data/meanCyto_FF_withVar_forJames_230422.csv\"))\n",
    "# ro_df = DataFrame([[] for i in 1:length(names(bootstrapping))], names(bootstrapping)) # empty df\n",
    "# for name in gnames\n",
    "#     ind = findfirst(isequal(name), bootstrapping[!,:gene])\n",
    "#     push!(ro_df, bootstrapping[ind,:])\n",
    "# end\n",
    "# save(\"./ABC-new/ABC-redo/bootstrapping.jld\", \"reordered-BS\", ro_df)"
   ]
  },
  {
   "cell_type": "code",
   "execution_count": 13,
   "id": "864c2403",
   "metadata": {},
   "outputs": [
    {
     "name": "stderr",
     "output_type": "stream",
     "text": [
      "\u001b[33m\u001b[1m┌ \u001b[22m\u001b[39m\u001b[33m\u001b[1mWarning: \u001b[22m\u001b[39mtype InlineStrings.String31 not present in workspace; reconstructing\n",
      "\u001b[33m\u001b[1m└ \u001b[22m\u001b[39m\u001b[90m@ JLD ~/.julia/packages/JLD/S6t6A/src/jld_types.jl:697\u001b[39m\n",
      "\u001b[33m\u001b[1m┌ \u001b[22m\u001b[39m\u001b[33m\u001b[1mWarning: \u001b[22m\u001b[39mtype InlineStrings.String15 not present in workspace; reconstructing\n",
      "\u001b[33m\u001b[1m└ \u001b[22m\u001b[39m\u001b[90m@ JLD ~/.julia/packages/JLD/S6t6A/src/jld_types.jl:697\u001b[39m\n"
     ]
    }
   ],
   "source": [
    "bootstrapping=load(\"./ABC-new/ABC-redo/bootstrapping.jld\")[\"reordered-BS\"];"
   ]
  },
  {
   "cell_type": "code",
   "execution_count": 14,
   "id": "8486411e",
   "metadata": {},
   "outputs": [],
   "source": [
    "names(bootstrapping);"
   ]
  },
  {
   "cell_type": "markdown",
   "id": "461523cb",
   "metadata": {},
   "source": [
    "Take the bootstrapped sample variances (can now use the index `gn` defined above)."
   ]
  },
  {
   "cell_type": "code",
   "execution_count": 15,
   "id": "c6d46cd6",
   "metadata": {},
   "outputs": [
    {
     "data": {
      "text/plain": [
       "3-element Vector{Float64}:\n",
       " 0.00091527517086321\n",
       " 0.00092299262167585\n",
       " 0.00053918925784561"
      ]
     },
     "execution_count": 15,
     "metadata": {},
     "output_type": "execute_result"
    }
   ],
   "source": [
    "bs_cyto = bootstrapping[!,\"varmeanRNA_Cytoplasm\"][gn]\n",
    "bs_ffn = bootstrapping[!,\"varFF_Nucleus\"][gn]\n",
    "bs_ffc = bootstrapping[!,\"varFF_Cytoplasm\"][gn];\n",
    "bs_vec = [bs_cyto, bs_ffn, bs_ffc]"
   ]
  },
  {
   "cell_type": "markdown",
   "id": "db09971a",
   "metadata": {},
   "source": [
    "Define the distance function."
   ]
  },
  {
   "cell_type": "code",
   "execution_count": 16,
   "id": "11458f3f",
   "metadata": {},
   "outputs": [
    {
     "data": {
      "text/plain": [
       "new_distance (generic function with 2 methods)"
      ]
     },
     "execution_count": 16,
     "metadata": {},
     "output_type": "execute_result"
    }
   ],
   "source": [
    "function new_distance(traj1::Matrix, traj2::Matrix)\n",
    "    return sum([bs_vec[i]^(-1)*((traj1[i]-traj2[i])/traj2[i])^2 for i in 1:length(traj1)])\n",
    "end\n",
    "function new_distance(traj1::Vector, traj2::Vector)\n",
    "    return sum([bs_vec[i]^(-1)*((traj1[i]-traj2[i])/traj2[i])^2 for i in 1:length(traj1)])\n",
    "end"
   ]
  },
  {
   "cell_type": "markdown",
   "id": "c83b4a5f",
   "metadata": {},
   "source": [
    "# Let's do the ABC!"
   ]
  },
  {
   "cell_type": "code",
   "execution_count": 17,
   "id": "3e784dd7",
   "metadata": {},
   "outputs": [
    {
     "data": {
      "text/plain": [
       "\"mad1endog\""
      ]
     },
     "execution_count": 17,
     "metadata": {},
     "output_type": "execute_result"
    }
   ],
   "source": [
    "gnames[gn]"
   ]
  },
  {
   "cell_type": "code",
   "execution_count": 18,
   "id": "e4721113",
   "metadata": {},
   "outputs": [
    {
     "data": {
      "text/plain": [
       "simulator_fn_3 (generic function with 1 method)"
      ]
     },
     "execution_count": 18,
     "metadata": {},
     "output_type": "execute_result"
    }
   ],
   "source": [
    "function simulator_fn_3(pars)\n",
    "    op = SSA(Ns[gn], pars, hypars, sim_time(pars), sim_time(pars));\n",
    "    nuc_pop = op[1][:,2];\n",
    "    cyto_pop = op[2][:,2];\n",
    "    nuc_FF = var(nuc_pop)/mean(nuc_pop);\n",
    "    cyto_mean = 2*mean(cyto_pop);\n",
    "    cyto_FF = var(cyto_pop)/mean(cyto_pop);\n",
    "    # return the moments of interest\n",
    "    return reshape([cyto_mean, nuc_FF, cyto_FF],(3,1))\n",
    "end"
   ]
  },
  {
   "cell_type": "markdown",
   "id": "d1d62a4a",
   "metadata": {},
   "source": [
    "Let's look at the value of the objective function for something close to an optimum value. This informs what our threshold schedule for the ABC will be."
   ]
  },
  {
   "cell_type": "code",
   "execution_count": 19,
   "id": "dcb155ba",
   "metadata": {},
   "outputs": [
    {
     "data": {
      "text/plain": [
       "787.2327150938522"
      ]
     },
     "execution_count": 19,
     "metadata": {},
     "output_type": "execute_result"
    }
   ],
   "source": [
    "new_distance(simulator_fn_3([2.54,3.64,20.0]),reshape([cyto_means[gn],nuc_FFs[gn],cyto_FFs[gn]],(3,1)))"
   ]
  },
  {
   "cell_type": "code",
   "execution_count": 44,
   "id": "6a1a68d9",
   "metadata": {},
   "outputs": [
    {
     "data": {
      "text/plain": [
       "7-element Vector{Float64}:\n",
       " 200.0\n",
       " 100.0\n",
       "  50.0\n",
       "  25.0\n",
       "  20.0\n",
       "  10.0\n",
       "   5.0"
      ]
     },
     "execution_count": 44,
     "metadata": {},
     "output_type": "execute_result"
    }
   ],
   "source": [
    "# ABC priors\n",
    "priors_3 = [Uniform(pf*0.5,pf*10.5), Uniform(0.5, 10.5), Uniform(0.5,100.5)]\n",
    "\n",
    "# number of particles\n",
    "n_particles = 1000\n",
    "\n",
    "# ABC hpars\n",
    "threshold_schedule_3 = [200.0, 100.0, 50.0, 25.0, 20.0, 10.0, 5.0]"
   ]
  },
  {
   "cell_type": "code",
   "execution_count": 45,
   "id": "e6acb772",
   "metadata": {
    "scrolled": true
   },
   "outputs": [
    {
     "name": "stderr",
     "output_type": "stream",
     "text": [
      "\u001b[36m\u001b[1m[ \u001b[22m\u001b[39m\u001b[36m\u001b[1mInfo: \u001b[22m\u001b[39mGpABC rejection simulation. ϵ = 200.0.\n",
      "\u001b[36m\u001b[1m[ \u001b[22m\u001b[39m\u001b[36m\u001b[1mInfo: \u001b[22m\u001b[39mGpABC rejection simulation. Accepted 28/1000 particles.\n",
      "\u001b[36m\u001b[1m[ \u001b[22m\u001b[39m\u001b[36m\u001b[1mInfo: \u001b[22m\u001b[39mGpABC rejection simulation. Accepted 56/2000 particles.\n",
      "\u001b[36m\u001b[1m[ \u001b[22m\u001b[39m\u001b[36m\u001b[1mInfo: \u001b[22m\u001b[39mGpABC rejection simulation. Accepted 83/3000 particles.\n"
     ]
    },
    {
     "ename": "LoadError",
     "evalue": "InterruptException:",
     "output_type": "error",
     "traceback": [
      "InterruptException:",
      "",
      "Stacktrace:",
      " [1] ABCrejection(input::GpABC.SimulatedABCRejectionInput; write_progress::Bool, progress_every::Int64)",
      "   @ GpABC ~/.julia/packages/GpABC/o0EN1/src/abc/rejection.jl:73",
      " [2] initialiseABCSMC(input::GpABC.SimulatedABCSMCInput; write_progress::Bool, progress_every::Int64)",
      "   @ GpABC ~/.julia/packages/GpABC/o0EN1/src/abc/smc.jl:120",
      " [3] ABCSMC(input::GpABC.SimulatedABCSMCInput; write_progress::Bool, progress_every::Int64)",
      "   @ GpABC ~/.julia/packages/GpABC/o0EN1/src/abc/smc.jl:357",
      " [4] SimulatedABCSMC(reference_data::Matrix{Float64}, simulator_function::Function, priors::Vector{Uniform{Float64}}, threshold_schedule::Vector{Float64}, n_particles::Int64; summary_statistic::String, distance_function::typeof(new_distance), max_iter::Int64, kwargs::Base.Pairs{Symbol, Bool, Tuple{Symbol}, NamedTuple{(:write_progress,), Tuple{Bool}}})",
      "   @ GpABC ~/.julia/packages/GpABC/o0EN1/src/abc/simulation.jl:128",
      " [5] top-level scope",
      "   @ In[45]:1"
     ]
    }
   ],
   "source": [
    "sim_abcsmc_res_3 = SimulatedABCSMC(reshape([cyto_means[gn],nuc_FFs[gn],cyto_FFs[gn]],(3,1)),\n",
    "    simulator_fn_3,\n",
    "    priors_3,\n",
    "    threshold_schedule_3,\n",
    "    n_particles; \n",
    "    max_iter=convert(Int, 1e5),\n",
    "    distance_function = new_distance,\n",
    "    write_progress=true);"
   ]
  },
  {
   "cell_type": "markdown",
   "id": "b59b31fe",
   "metadata": {},
   "source": [
    "Quick look at the results..."
   ]
  },
  {
   "cell_type": "code",
   "execution_count": 46,
   "id": "c03eeb4d",
   "metadata": {},
   "outputs": [
    {
     "ename": "LoadError",
     "evalue": "UndefVarError: sim_abcsmc_res_3 not defined",
     "output_type": "error",
     "traceback": [
      "UndefVarError: sim_abcsmc_res_3 not defined",
      "",
      "Stacktrace:",
      " [1] top-level scope",
      "   @ In[46]:1"
     ]
    }
   ],
   "source": [
    "plot(sim_abcsmc_res_3, population_colors=population_colors)"
   ]
  },
  {
   "cell_type": "markdown",
   "id": "09744e74",
   "metadata": {},
   "source": [
    "Save these results using the JLD package."
   ]
  },
  {
   "cell_type": "code",
   "execution_count": 47,
   "id": "29d37caa",
   "metadata": {},
   "outputs": [
    {
     "ename": "LoadError",
     "evalue": "UndefVarError: sim_abcsmc_res_3 not defined",
     "output_type": "error",
     "traceback": [
      "UndefVarError: sim_abcsmc_res_3 not defined",
      "",
      "Stacktrace:",
      " [1] top-level scope",
      "   @ In[47]:1"
     ]
    }
   ],
   "source": [
    "save(\"./ABC-new/ABC-redo/$(gnames[gn])/S$(hypars[1])R$(hypars[2]).jld\", \"ABC\", sim_abcsmc_res_3)"
   ]
  },
  {
   "cell_type": "markdown",
   "id": "b5512c42",
   "metadata": {},
   "source": [
    "Let's collect the important aspects of this ABC for analysis. We want:\n",
    "- 1. The parameter values of the accepted particles.\n",
    "- 2. The acceptance rate for the final threshold.\n",
    "\n",
    "Note the different field names are: `n_accepted`, `n_tries`, `threshold_schedule`, `population`, `distances`, `weights`."
   ]
  },
  {
   "cell_type": "code",
   "execution_count": 24,
   "id": "7e9acc75",
   "metadata": {},
   "outputs": [
    {
     "ename": "LoadError",
     "evalue": "UndefVarError: sim_abcsmc_res_3 not defined",
     "output_type": "error",
     "traceback": [
      "UndefVarError: sim_abcsmc_res_3 not defined",
      "",
      "Stacktrace:",
      " [1] top-level scope",
      "   @ In[24]:1"
     ]
    }
   ],
   "source": [
    "acc_rate = sim_abcsmc_res_3.n_accepted[end]/sim_abcsmc_res_3.n_tries[end]"
   ]
  },
  {
   "cell_type": "markdown",
   "id": "03f65d4a",
   "metadata": {},
   "source": [
    "So the acceptance rate at the final threshold was around 0.2. Let's now look at the mean and standard deviations of the predicted values of $k_A$, $k_B$ and $k_C$ from the population."
   ]
  },
  {
   "cell_type": "code",
   "execution_count": 25,
   "id": "1f246ee3",
   "metadata": {
    "scrolled": true
   },
   "outputs": [
    {
     "ename": "LoadError",
     "evalue": "UndefVarError: sim_abcsmc_res_3 not defined",
     "output_type": "error",
     "traceback": [
      "UndefVarError: sim_abcsmc_res_3 not defined",
      "",
      "Stacktrace:",
      " [1] top-level scope",
      "   @ In[25]:1"
     ]
    }
   ],
   "source": [
    "pop = sim_abcsmc_res_3.population[end];"
   ]
  },
  {
   "cell_type": "code",
   "execution_count": 26,
   "id": "73da1c7e",
   "metadata": {},
   "outputs": [
    {
     "ename": "LoadError",
     "evalue": "UndefVarError: pop not defined",
     "output_type": "error",
     "traceback": [
      "UndefVarError: pop not defined",
      "",
      "Stacktrace:",
      " [1] top-level scope",
      "   @ In[26]:1"
     ]
    }
   ],
   "source": [
    "kA = pop[:,1]; kB = pop[:,2]; kC = pop[:,3];"
   ]
  },
  {
   "cell_type": "code",
   "execution_count": 27,
   "id": "59653c64",
   "metadata": {},
   "outputs": [
    {
     "ename": "LoadError",
     "evalue": "UndefVarError: kA not defined",
     "output_type": "error",
     "traceback": [
      "UndefVarError: kA not defined",
      "",
      "Stacktrace:",
      " [1] top-level scope",
      "   @ In[27]:1"
     ]
    }
   ],
   "source": [
    "kAmed = median(kA)"
   ]
  },
  {
   "cell_type": "code",
   "execution_count": 28,
   "id": "101cfedc",
   "metadata": {},
   "outputs": [
    {
     "ename": "LoadError",
     "evalue": "UndefVarError: kA not defined",
     "output_type": "error",
     "traceback": [
      "UndefVarError: kA not defined",
      "",
      "Stacktrace:",
      " [1] top-level scope",
      "   @ In[28]:1"
     ]
    }
   ],
   "source": [
    "kAstd = std(kA)"
   ]
  },
  {
   "cell_type": "code",
   "execution_count": 29,
   "id": "c33a18dc",
   "metadata": {},
   "outputs": [
    {
     "ename": "LoadError",
     "evalue": "UndefVarError: kB not defined",
     "output_type": "error",
     "traceback": [
      "UndefVarError: kB not defined",
      "",
      "Stacktrace:",
      " [1] top-level scope",
      "   @ In[29]:1"
     ]
    }
   ],
   "source": [
    "kBmed = median(kB)"
   ]
  },
  {
   "cell_type": "code",
   "execution_count": 30,
   "id": "5445afb8",
   "metadata": {},
   "outputs": [
    {
     "ename": "LoadError",
     "evalue": "UndefVarError: kB not defined",
     "output_type": "error",
     "traceback": [
      "UndefVarError: kB not defined",
      "",
      "Stacktrace:",
      " [1] top-level scope",
      "   @ In[30]:1"
     ]
    }
   ],
   "source": [
    "kBstd = std(kB)"
   ]
  },
  {
   "cell_type": "code",
   "execution_count": 31,
   "id": "3c292cb9",
   "metadata": {},
   "outputs": [
    {
     "ename": "LoadError",
     "evalue": "UndefVarError: kC not defined",
     "output_type": "error",
     "traceback": [
      "UndefVarError: kC not defined",
      "",
      "Stacktrace:",
      " [1] top-level scope",
      "   @ In[31]:1"
     ]
    }
   ],
   "source": [
    "kCmed = median(kC)"
   ]
  },
  {
   "cell_type": "code",
   "execution_count": 32,
   "id": "ec648df2",
   "metadata": {},
   "outputs": [
    {
     "ename": "LoadError",
     "evalue": "UndefVarError: kC not defined",
     "output_type": "error",
     "traceback": [
      "UndefVarError: kC not defined",
      "",
      "Stacktrace:",
      " [1] top-level scope",
      "   @ In[32]:1"
     ]
    }
   ],
   "source": [
    "kCstd = std(kC)"
   ]
  },
  {
   "cell_type": "markdown",
   "id": "00d4a44c",
   "metadata": {},
   "source": [
    "Let's make some nice plots of these (the three histograms followed by the joint uncertainty plots as a 2D hist)."
   ]
  },
  {
   "cell_type": "code",
   "execution_count": 33,
   "id": "3c70f962",
   "metadata": {},
   "outputs": [
    {
     "ename": "LoadError",
     "evalue": "UndefVarError: kA not defined",
     "output_type": "error",
     "traceback": [
      "UndefVarError: kA not defined",
      "",
      "Stacktrace:",
      " [1] top-level scope",
      "   @ In[33]:1"
     ]
    }
   ],
   "source": [
    "h1 = stephist(kA, fill = true, fillalpha = 0.5, color = cpal[1], label = :none, norm = true, titlelocation = :left)\n",
    "plot!(grid = false, minorgrid = false, legend = :topright, size = (450,400), xlabel = L\"k_A\", title = \"(a)\", ylims = [0,3.5])\n",
    "plot!([kAmed,kAmed],[0,100], style = :dash, color = :black, label = L\"$k_C$ median\");"
   ]
  },
  {
   "cell_type": "code",
   "execution_count": 34,
   "id": "1334710f",
   "metadata": {},
   "outputs": [
    {
     "ename": "LoadError",
     "evalue": "UndefVarError: kB not defined",
     "output_type": "error",
     "traceback": [
      "UndefVarError: kB not defined",
      "",
      "Stacktrace:",
      " [1] top-level scope",
      "   @ In[34]:1"
     ]
    }
   ],
   "source": [
    "h2 = stephist(kB, fill = true, fillalpha = 0.5, color = cpal[2], label = :none, norm = true, titlelocation = :left)\n",
    "plot!(grid = false, minorgrid = false, legend = :topright, size = (450,400), xlabel = L\"k_B\", title = \"(b)\", ylims = [0,0.3])\n",
    "plot!([kBmed,kBmed],[0,1.2], style = :dash, color = :black, label = L\"$k_B$ median\");"
   ]
  },
  {
   "cell_type": "code",
   "execution_count": 35,
   "id": "dfa2e7b5",
   "metadata": {},
   "outputs": [
    {
     "ename": "LoadError",
     "evalue": "UndefVarError: kC not defined",
     "output_type": "error",
     "traceback": [
      "UndefVarError: kC not defined",
      "",
      "Stacktrace:",
      " [1] top-level scope",
      "   @ In[35]:1"
     ]
    }
   ],
   "source": [
    "h3 = stephist(kC, fill = true, fillalpha = 0.5, color = cpal[3], label = :none, norm = true, titlelocation = :left)\n",
    "plot!(grid = false, minorgrid = false, legend = :topright, size = (450,400), xlabel = L\"k_C\", \n",
    "        title = \"(c)\", ylims = [0,0.025])\n",
    "plot!([kCmed,kCmed],[0,2], style = :dash, color = :black, label = L\"$k_C$ median\");"
   ]
  },
  {
   "cell_type": "code",
   "execution_count": 36,
   "id": "e8674331",
   "metadata": {},
   "outputs": [
    {
     "ename": "LoadError",
     "evalue": "UndefVarError: h1 not defined",
     "output_type": "error",
     "traceback": [
      "UndefVarError: h1 not defined",
      "",
      "Stacktrace:",
      " [1] top-level scope",
      "   @ In[36]:1"
     ]
    }
   ],
   "source": [
    "c1 = plot(h1, h2, h3, layout = (1,3), size = (1000, 300), bottom_margin = 5mm, top_margin = 5mm);"
   ]
  },
  {
   "cell_type": "code",
   "execution_count": 37,
   "id": "c3472cef",
   "metadata": {},
   "outputs": [
    {
     "ename": "LoadError",
     "evalue": "UndefVarError: kA not defined",
     "output_type": "error",
     "traceback": [
      "UndefVarError: kA not defined",
      "",
      "Stacktrace:",
      " [1] top-level scope",
      "   @ In[37]:1"
     ]
    }
   ],
   "source": [
    "p1 = histogram2d(kA, kB, color=:tol_muted, show_empty_bins=true, titlelocation = :left, \n",
    "    bins = (collect(minimum(kA):(maximum(kA)-minimum(kA))/15:maximum(kA)), collect(minimum(kB):(maximum(kB)-minimum(kB))/15:maximum(kB))))\n",
    "plot!(grid = false, minorgrid = false, legend = :topright, size = (450,400), \n",
    "    xlabel = L\"k_A\", ylabel = L\"k_B\", title = \"(d)\");"
   ]
  },
  {
   "cell_type": "code",
   "execution_count": 38,
   "id": "a7dcf8dc",
   "metadata": {},
   "outputs": [
    {
     "ename": "LoadError",
     "evalue": "UndefVarError: kA not defined",
     "output_type": "error",
     "traceback": [
      "UndefVarError: kA not defined",
      "",
      "Stacktrace:",
      " [1] top-level scope",
      "   @ In[38]:1"
     ]
    }
   ],
   "source": [
    "p2 = histogram2d(kA, kC, color=:tol_muted, show_empty_bins=true, titlelocation = :left, \n",
    "    bins = (collect(minimum(kA):(maximum(kA)-minimum(kA))/15:maximum(kA)), collect(minimum(kC):(maximum(kC)-minimum(kC))/15:maximum(kC))))\n",
    "plot!(grid = false, minorgrid = false, legend = :topright, size = (450,400), \n",
    "    xlabel = L\"k_A\", ylabel = L\"k_C\", title = \"(e)\");"
   ]
  },
  {
   "cell_type": "code",
   "execution_count": 39,
   "id": "7f67001a",
   "metadata": {},
   "outputs": [
    {
     "ename": "LoadError",
     "evalue": "UndefVarError: kB not defined",
     "output_type": "error",
     "traceback": [
      "UndefVarError: kB not defined",
      "",
      "Stacktrace:",
      " [1] top-level scope",
      "   @ In[39]:1"
     ]
    }
   ],
   "source": [
    "p3 = histogram2d(kB, kC, color=:tol_muted, show_empty_bins=true, titlelocation = :left, \n",
    "    bins = (collect(minimum(kB):(maximum(kB)-minimum(kB))/15:maximum(kB)), collect(minimum(kC):(maximum(kC)-minimum(kC))/15:maximum(kC))))\n",
    "plot!(grid = false, minorgrid = false, legend = :topright, size = (450,400), \n",
    "    xlabel = L\"k_B\", ylabel = L\"k_C\", title = \"(f)\");"
   ]
  },
  {
   "cell_type": "code",
   "execution_count": 40,
   "id": "e906526f",
   "metadata": {},
   "outputs": [
    {
     "ename": "LoadError",
     "evalue": "UndefVarError: p1 not defined",
     "output_type": "error",
     "traceback": [
      "UndefVarError: p1 not defined",
      "",
      "Stacktrace:",
      " [1] top-level scope",
      "   @ In[40]:1"
     ]
    }
   ],
   "source": [
    "c2 = plot(p1, p2, p3, layout = (1,3), size = (1000, 300), bottom_margin = 5mm, top_margin = 5mm, left_margin = 5.0mm, right_margin = -10mm);"
   ]
  },
  {
   "cell_type": "code",
   "execution_count": 41,
   "id": "77da7be2",
   "metadata": {},
   "outputs": [
    {
     "ename": "LoadError",
     "evalue": "UndefVarError: c1 not defined",
     "output_type": "error",
     "traceback": [
      "UndefVarError: c1 not defined",
      "",
      "Stacktrace:",
      " [1] top-level scope",
      "   @ In[41]:1"
     ]
    }
   ],
   "source": [
    "plot(c1,c2, layout = (2,1), size = (1000,600), plot_title=L\"%$(gnames[gn]): $S=R=3$\")\n",
    "# savefig(\"./ABC-new/figs/$(gnames[gn])/S$(hypars[1])R$(hypars[2]).pdf\")"
   ]
  },
  {
   "cell_type": "markdown",
   "id": "2b910e8e",
   "metadata": {},
   "source": [
    "Check if the moments replicate those from the original data."
   ]
  },
  {
   "cell_type": "code",
   "execution_count": 42,
   "id": "bd528571",
   "metadata": {},
   "outputs": [
    {
     "data": {
      "text/plain": [
       "3-element Vector{Float64}:\n",
       " 1.74181548708104\n",
       " 0.92893586062368\n",
       " 0.619817985303977"
      ]
     },
     "execution_count": 42,
     "metadata": {},
     "output_type": "execute_result"
    }
   ],
   "source": [
    "[cyto_means[gn],nuc_FFs[gn],cyto_FFs[gn]]"
   ]
  },
  {
   "cell_type": "code",
   "execution_count": 43,
   "id": "28ef969e",
   "metadata": {},
   "outputs": [
    {
     "ename": "LoadError",
     "evalue": "UndefVarError: kAmed not defined",
     "output_type": "error",
     "traceback": [
      "UndefVarError: kAmed not defined",
      "",
      "Stacktrace:",
      " [1] (::var\"#7#8\")(i::Int64)",
      "   @ Main ./none:0",
      " [2] iterate",
      "   @ ./generator.jl:47 [inlined]",
      " [3] collect(itr::Base.Generator{UnitRange{Int64}, var\"#7#8\"})",
      "   @ Base ./array.jl:787",
      " [4] top-level scope",
      "   @ In[43]:1"
     ]
    }
   ],
   "source": [
    "mean([simulator_fn_3([kAmed,kBmed,kCmed]) for i in 1:100])"
   ]
  },
  {
   "cell_type": "markdown",
   "id": "f077fa90",
   "metadata": {},
   "source": [
    "So, pretty good overall."
   ]
  },
  {
   "cell_type": "code",
   "execution_count": null,
   "id": "1b0ed30b",
   "metadata": {},
   "outputs": [],
   "source": []
  }
 ],
 "metadata": {
  "kernelspec": {
   "display_name": "Julia 1.8.5",
   "language": "julia",
   "name": "julia-1.8"
  },
  "language_info": {
   "file_extension": ".jl",
   "mimetype": "application/julia",
   "name": "julia",
   "version": "1.8.5"
  }
 },
 "nbformat": 4,
 "nbformat_minor": 5
}
