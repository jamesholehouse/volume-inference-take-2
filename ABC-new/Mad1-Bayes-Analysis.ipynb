{
 "cells": [
  {
   "cell_type": "markdown",
   "id": "approximate-supervision",
   "metadata": {},
   "source": [
    "# Model selection for mad1endog"
   ]
  },
  {
   "cell_type": "code",
   "execution_count": 56,
   "id": "therapeutic-office",
   "metadata": {},
   "outputs": [],
   "source": [
    "using JLD2, Plots, LaTeXStrings, DataFrames"
   ]
  },
  {
   "cell_type": "markdown",
   "id": "waiting-median",
   "metadata": {},
   "source": [
    "Iterate over the possible model values of $S$ and $R$. This gives the orders of the acceptance rates in `ABCoutputs` that follows."
   ]
  },
  {
   "cell_type": "code",
   "execution_count": 48,
   "id": "optimum-leonard",
   "metadata": {},
   "outputs": [],
   "source": [
    "hypars = [[i,j] for i in 2:4 for j in 1:4];"
   ]
  },
  {
   "cell_type": "code",
   "execution_count": 54,
   "id": "final-greenhouse",
   "metadata": {},
   "outputs": [
    {
     "data": {
      "text/plain": [
       "12-element Vector{String}:\n",
       " \"S=2, R=1\"\n",
       " \"S=2, R=2\"\n",
       " \"S=2, R=3\"\n",
       " \"S=2, R=4\"\n",
       " \"S=3, R=1\"\n",
       " \"S=3, R=2\"\n",
       " \"S=3, R=3\"\n",
       " \"S=3, R=4\"\n",
       " \"S=4, R=1\"\n",
       " \"S=4, R=2\"\n",
       " \"S=4, R=3\"\n",
       " \"S=4, R=4\""
      ]
     },
     "execution_count": 54,
     "metadata": {},
     "output_type": "execute_result"
    }
   ],
   "source": [
    "labels = [\"S=$(i), R=$(j)\" for i in 2:4 for j in 1:4]"
   ]
  },
  {
   "cell_type": "markdown",
   "id": "approximate-subscription",
   "metadata": {},
   "source": [
    "Import all the outputs of the ABC sims."
   ]
  },
  {
   "cell_type": "code",
   "execution_count": 36,
   "id": "willing-passion",
   "metadata": {},
   "outputs": [
    {
     "name": "stderr",
     "output_type": "stream",
     "text": [
      "\u001b[33m\u001b[1m┌ \u001b[22m\u001b[39m\u001b[33m\u001b[1mWarning: \u001b[22m\u001b[39mtype GpABC.SimulatedABCSMCOutput does not exist in workspace; reconstructing\n",
      "\u001b[33m\u001b[1m└ \u001b[22m\u001b[39m\u001b[90m@ JLD2 ~/.julia/packages/JLD2/ryhNR/src/data/reconstructing_datatypes.jl:495\u001b[39m\n",
      "\u001b[33m\u001b[1m┌ \u001b[22m\u001b[39m\u001b[33m\u001b[1mWarning: \u001b[22m\u001b[39mtype GpABC.SimulatedABCSMCOutput does not exist in workspace; reconstructing\n",
      "\u001b[33m\u001b[1m└ \u001b[22m\u001b[39m\u001b[90m@ JLD2 ~/.julia/packages/JLD2/ryhNR/src/data/reconstructing_datatypes.jl:495\u001b[39m\n",
      "\u001b[33m\u001b[1m┌ \u001b[22m\u001b[39m\u001b[33m\u001b[1mWarning: \u001b[22m\u001b[39mtype GpABC.SimulatedABCSMCOutput does not exist in workspace; reconstructing\n",
      "\u001b[33m\u001b[1m└ \u001b[22m\u001b[39m\u001b[90m@ JLD2 ~/.julia/packages/JLD2/ryhNR/src/data/reconstructing_datatypes.jl:495\u001b[39m\n",
      "\u001b[33m\u001b[1m┌ \u001b[22m\u001b[39m\u001b[33m\u001b[1mWarning: \u001b[22m\u001b[39mtype GpABC.SimulatedABCSMCOutput does not exist in workspace; reconstructing\n",
      "\u001b[33m\u001b[1m└ \u001b[22m\u001b[39m\u001b[90m@ JLD2 ~/.julia/packages/JLD2/ryhNR/src/data/reconstructing_datatypes.jl:495\u001b[39m\n",
      "\u001b[33m\u001b[1m┌ \u001b[22m\u001b[39m\u001b[33m\u001b[1mWarning: \u001b[22m\u001b[39mtype GpABC.SimulatedABCSMCOutput does not exist in workspace; reconstructing\n",
      "\u001b[33m\u001b[1m└ \u001b[22m\u001b[39m\u001b[90m@ JLD2 ~/.julia/packages/JLD2/ryhNR/src/data/reconstructing_datatypes.jl:495\u001b[39m\n",
      "\u001b[33m\u001b[1m┌ \u001b[22m\u001b[39m\u001b[33m\u001b[1mWarning: \u001b[22m\u001b[39mtype GpABC.SimulatedABCSMCOutput does not exist in workspace; reconstructing\n",
      "\u001b[33m\u001b[1m└ \u001b[22m\u001b[39m\u001b[90m@ JLD2 ~/.julia/packages/JLD2/ryhNR/src/data/reconstructing_datatypes.jl:495\u001b[39m\n",
      "\u001b[33m\u001b[1m┌ \u001b[22m\u001b[39m\u001b[33m\u001b[1mWarning: \u001b[22m\u001b[39mtype GpABC.SimulatedABCSMCOutput does not exist in workspace; reconstructing\n",
      "\u001b[33m\u001b[1m└ \u001b[22m\u001b[39m\u001b[90m@ JLD2 ~/.julia/packages/JLD2/ryhNR/src/data/reconstructing_datatypes.jl:495\u001b[39m\n",
      "\u001b[33m\u001b[1m┌ \u001b[22m\u001b[39m\u001b[33m\u001b[1mWarning: \u001b[22m\u001b[39mtype GpABC.SimulatedABCSMCOutput does not exist in workspace; reconstructing\n",
      "\u001b[33m\u001b[1m└ \u001b[22m\u001b[39m\u001b[90m@ JLD2 ~/.julia/packages/JLD2/ryhNR/src/data/reconstructing_datatypes.jl:495\u001b[39m\n",
      "\u001b[33m\u001b[1m┌ \u001b[22m\u001b[39m\u001b[33m\u001b[1mWarning: \u001b[22m\u001b[39mtype GpABC.SimulatedABCSMCOutput does not exist in workspace; reconstructing\n",
      "\u001b[33m\u001b[1m└ \u001b[22m\u001b[39m\u001b[90m@ JLD2 ~/.julia/packages/JLD2/ryhNR/src/data/reconstructing_datatypes.jl:495\u001b[39m\n",
      "\u001b[33m\u001b[1m┌ \u001b[22m\u001b[39m\u001b[33m\u001b[1mWarning: \u001b[22m\u001b[39mtype GpABC.SimulatedABCSMCOutput does not exist in workspace; reconstructing\n",
      "\u001b[33m\u001b[1m└ \u001b[22m\u001b[39m\u001b[90m@ JLD2 ~/.julia/packages/JLD2/ryhNR/src/data/reconstructing_datatypes.jl:495\u001b[39m\n",
      "\u001b[33m\u001b[1m┌ \u001b[22m\u001b[39m\u001b[33m\u001b[1mWarning: \u001b[22m\u001b[39mtype GpABC.SimulatedABCSMCOutput does not exist in workspace; reconstructing\n",
      "\u001b[33m\u001b[1m└ \u001b[22m\u001b[39m\u001b[90m@ JLD2 ~/.julia/packages/JLD2/ryhNR/src/data/reconstructing_datatypes.jl:495\u001b[39m\n",
      "\u001b[33m\u001b[1m┌ \u001b[22m\u001b[39m\u001b[33m\u001b[1mWarning: \u001b[22m\u001b[39mtype GpABC.SimulatedABCSMCOutput does not exist in workspace; reconstructing\n",
      "\u001b[33m\u001b[1m└ \u001b[22m\u001b[39m\u001b[90m@ JLD2 ~/.julia/packages/JLD2/ryhNR/src/data/reconstructing_datatypes.jl:495\u001b[39m\n"
     ]
    }
   ],
   "source": [
    "ABCoutputs = [load(\"./mad1endog/S$(i)R$(j).jld2\",\"ABC\") for i in 2:4 for j in 1:4];"
   ]
  },
  {
   "cell_type": "code",
   "execution_count": 39,
   "id": "under-business",
   "metadata": {},
   "outputs": [],
   "source": [
    "ABCoutputs;"
   ]
  },
  {
   "cell_type": "code",
   "execution_count": 81,
   "id": "floral-prescription",
   "metadata": {},
   "outputs": [],
   "source": [
    "acc_rates = [ABCoutputs[i].n_accepted[end]/ABCoutputs[i].n_tries[end] for i in 1:length(ABCoutputs)];\n",
    "acc_rates[1] = 1e-5; # S2R2 returned 0 accepted particles"
   ]
  },
  {
   "cell_type": "code",
   "execution_count": 83,
   "id": "dimensional-driving",
   "metadata": {},
   "outputs": [
    {
     "data": {
      "text/plain": [
       "12-element Vector{Float64}:\n",
       " 1.0e-5\n",
       " 1.0e-5\n",
       " 1.0e-5\n",
       " 1.0e-5\n",
       " 0.0002\n",
       " 0.00755\n",
       " 0.07454342154304883\n",
       " 0.07454342154304883\n",
       " 0.00088\n",
       " 0.05173841059602649\n",
       " 0.021827389007726895\n",
       " 0.019445038598401618"
      ]
     },
     "execution_count": 83,
     "metadata": {},
     "output_type": "execute_result"
    }
   ],
   "source": [
    "acc_rates"
   ]
  },
  {
   "cell_type": "code",
   "execution_count": 84,
   "id": "sharp-correction",
   "metadata": {},
   "outputs": [
    {
     "data": {
      "text/plain": [
       "12×12 Matrix{Float64}:\n",
       "    1.0      1.0      1.0      1.0   …  0.00019328  0.00045814  0.00051427\n",
       "    1.0      1.0      1.0      1.0      0.00019328  0.00045814  0.00051427\n",
       "    1.0      1.0      1.0      1.0      0.00019328  0.00045814  0.00051427\n",
       "    1.0      1.0      1.0      1.0      0.00019328  0.00045814  0.00051427\n",
       "   20.0     20.0     20.0     20.0      0.0038656   0.0091628   0.0102854\n",
       "  755.0    755.0    755.0    755.0   …  0.145926    0.345896    0.388274\n",
       " 7454.34  7454.34  7454.34  7454.34     1.44078     3.41513     3.83354\n",
       " 7454.34  7454.34  7454.34  7454.34     1.44078     3.41513     3.83354\n",
       "   88.0     88.0     88.0     88.0      0.0170086   0.0403163   0.0452558\n",
       " 5173.84  5173.84  5173.84  5173.84     1.0         2.37034     2.66075\n",
       " 2182.74  2182.74  2182.74  2182.74  …  0.42188     1.0         1.12252\n",
       " 1944.5   1944.5   1944.5   1944.5      0.375834    0.890855    1.0"
      ]
     },
     "execution_count": 84,
     "metadata": {},
     "output_type": "execute_result"
    }
   ],
   "source": [
    "bayes_table = ones(length(ABCoutputs),length(ABCoutputs));\n",
    "for i in 1:length(ABCoutputs)\n",
    "    for j in 1:length(ABCoutputs)\n",
    "        bayes_table[i,j] = acc_rates[i]/acc_rates[j]\n",
    "    end\n",
    "end\n",
    "bayes_table"
   ]
  },
  {
   "cell_type": "code",
   "execution_count": 85,
   "id": "alternative-artwork",
   "metadata": {},
   "outputs": [],
   "source": [
    "bayes_df = DataFrame([[] for i in 1:length(labels)], labels)\n",
    "for i in 1:length(labels)\n",
    "    push!(bayes_df,bayes_table[i,:])\n",
    "end"
   ]
  },
  {
   "cell_type": "code",
   "execution_count": 86,
   "id": "theoretical-semester",
   "metadata": {},
   "outputs": [
    {
     "data": {
      "text/html": [
       "<div><div style = \"float: left;\"><span>12×12 DataFrame</span></div><div style = \"clear: both;\"></div></div><div class = \"data-frame\" style = \"overflow-x: scroll;\"><table class = \"data-frame\" style = \"margin-bottom: 6px;\"><thead><tr class = \"header\"><th class = \"rowNumber\" style = \"font-weight: bold; text-align: right;\">Row</th><th style = \"text-align: left;\">S=2, R=1</th><th style = \"text-align: left;\">S=2, R=2</th><th style = \"text-align: left;\">S=2, R=3</th><th style = \"text-align: left;\">S=2, R=4</th><th style = \"text-align: left;\">S=3, R=1</th><th style = \"text-align: left;\">S=3, R=2</th><th style = \"text-align: left;\">S=3, R=3</th><th style = \"text-align: left;\">S=3, R=4</th><th style = \"text-align: left;\">S=4, R=1</th><th style = \"text-align: left;\">S=4, R=2</th><th style = \"text-align: left;\">S=4, R=3</th><th style = \"text-align: left;\">S=4, R=4</th></tr><tr class = \"subheader headerLastRow\"><th class = \"rowNumber\" style = \"font-weight: bold; text-align: right;\"></th><th title = \"Any\" style = \"text-align: left;\">Any</th><th title = \"Any\" style = \"text-align: left;\">Any</th><th title = \"Any\" style = \"text-align: left;\">Any</th><th title = \"Any\" style = \"text-align: left;\">Any</th><th title = \"Any\" style = \"text-align: left;\">Any</th><th title = \"Any\" style = \"text-align: left;\">Any</th><th title = \"Any\" style = \"text-align: left;\">Any</th><th title = \"Any\" style = \"text-align: left;\">Any</th><th title = \"Any\" style = \"text-align: left;\">Any</th><th title = \"Any\" style = \"text-align: left;\">Any</th><th title = \"Any\" style = \"text-align: left;\">Any</th><th title = \"Any\" style = \"text-align: left;\">Any</th></tr></thead><tbody><tr><td class = \"rowNumber\" style = \"font-weight: bold; text-align: right;\">1</td><td style = \"text-align: left;\">1.0</td><td style = \"text-align: left;\">1.0</td><td style = \"text-align: left;\">1.0</td><td style = \"text-align: left;\">1.0</td><td style = \"text-align: left;\">0.05</td><td style = \"text-align: left;\">0.0013245</td><td style = \"text-align: left;\">0.00013415</td><td style = \"text-align: left;\">0.00013415</td><td style = \"text-align: left;\">0.0113636</td><td style = \"text-align: left;\">0.00019328</td><td style = \"text-align: left;\">0.00045814</td><td style = \"text-align: left;\">0.00051427</td></tr><tr><td class = \"rowNumber\" style = \"font-weight: bold; text-align: right;\">2</td><td style = \"text-align: left;\">1.0</td><td style = \"text-align: left;\">1.0</td><td style = \"text-align: left;\">1.0</td><td style = \"text-align: left;\">1.0</td><td style = \"text-align: left;\">0.05</td><td style = \"text-align: left;\">0.0013245</td><td style = \"text-align: left;\">0.00013415</td><td style = \"text-align: left;\">0.00013415</td><td style = \"text-align: left;\">0.0113636</td><td style = \"text-align: left;\">0.00019328</td><td style = \"text-align: left;\">0.00045814</td><td style = \"text-align: left;\">0.00051427</td></tr><tr><td class = \"rowNumber\" style = \"font-weight: bold; text-align: right;\">3</td><td style = \"text-align: left;\">1.0</td><td style = \"text-align: left;\">1.0</td><td style = \"text-align: left;\">1.0</td><td style = \"text-align: left;\">1.0</td><td style = \"text-align: left;\">0.05</td><td style = \"text-align: left;\">0.0013245</td><td style = \"text-align: left;\">0.00013415</td><td style = \"text-align: left;\">0.00013415</td><td style = \"text-align: left;\">0.0113636</td><td style = \"text-align: left;\">0.00019328</td><td style = \"text-align: left;\">0.00045814</td><td style = \"text-align: left;\">0.00051427</td></tr><tr><td class = \"rowNumber\" style = \"font-weight: bold; text-align: right;\">4</td><td style = \"text-align: left;\">1.0</td><td style = \"text-align: left;\">1.0</td><td style = \"text-align: left;\">1.0</td><td style = \"text-align: left;\">1.0</td><td style = \"text-align: left;\">0.05</td><td style = \"text-align: left;\">0.0013245</td><td style = \"text-align: left;\">0.00013415</td><td style = \"text-align: left;\">0.00013415</td><td style = \"text-align: left;\">0.0113636</td><td style = \"text-align: left;\">0.00019328</td><td style = \"text-align: left;\">0.00045814</td><td style = \"text-align: left;\">0.00051427</td></tr><tr><td class = \"rowNumber\" style = \"font-weight: bold; text-align: right;\">5</td><td style = \"text-align: left;\">20.0</td><td style = \"text-align: left;\">20.0</td><td style = \"text-align: left;\">20.0</td><td style = \"text-align: left;\">20.0</td><td style = \"text-align: left;\">1.0</td><td style = \"text-align: left;\">0.0264901</td><td style = \"text-align: left;\">0.002683</td><td style = \"text-align: left;\">0.002683</td><td style = \"text-align: left;\">0.227273</td><td style = \"text-align: left;\">0.0038656</td><td style = \"text-align: left;\">0.0091628</td><td style = \"text-align: left;\">0.0102854</td></tr><tr><td class = \"rowNumber\" style = \"font-weight: bold; text-align: right;\">6</td><td style = \"text-align: left;\">755.0</td><td style = \"text-align: left;\">755.0</td><td style = \"text-align: left;\">755.0</td><td style = \"text-align: left;\">755.0</td><td style = \"text-align: left;\">37.75</td><td style = \"text-align: left;\">1.0</td><td style = \"text-align: left;\">0.101283</td><td style = \"text-align: left;\">0.101283</td><td style = \"text-align: left;\">8.57955</td><td style = \"text-align: left;\">0.145926</td><td style = \"text-align: left;\">0.345896</td><td style = \"text-align: left;\">0.388274</td></tr><tr><td class = \"rowNumber\" style = \"font-weight: bold; text-align: right;\">7</td><td style = \"text-align: left;\">7454.34</td><td style = \"text-align: left;\">7454.34</td><td style = \"text-align: left;\">7454.34</td><td style = \"text-align: left;\">7454.34</td><td style = \"text-align: left;\">372.717</td><td style = \"text-align: left;\">9.8733</td><td style = \"text-align: left;\">1.0</td><td style = \"text-align: left;\">1.0</td><td style = \"text-align: left;\">84.7084</td><td style = \"text-align: left;\">1.44078</td><td style = \"text-align: left;\">3.41513</td><td style = \"text-align: left;\">3.83354</td></tr><tr><td class = \"rowNumber\" style = \"font-weight: bold; text-align: right;\">8</td><td style = \"text-align: left;\">7454.34</td><td style = \"text-align: left;\">7454.34</td><td style = \"text-align: left;\">7454.34</td><td style = \"text-align: left;\">7454.34</td><td style = \"text-align: left;\">372.717</td><td style = \"text-align: left;\">9.8733</td><td style = \"text-align: left;\">1.0</td><td style = \"text-align: left;\">1.0</td><td style = \"text-align: left;\">84.7084</td><td style = \"text-align: left;\">1.44078</td><td style = \"text-align: left;\">3.41513</td><td style = \"text-align: left;\">3.83354</td></tr><tr><td class = \"rowNumber\" style = \"font-weight: bold; text-align: right;\">9</td><td style = \"text-align: left;\">88.0</td><td style = \"text-align: left;\">88.0</td><td style = \"text-align: left;\">88.0</td><td style = \"text-align: left;\">88.0</td><td style = \"text-align: left;\">4.4</td><td style = \"text-align: left;\">0.116556</td><td style = \"text-align: left;\">0.0118052</td><td style = \"text-align: left;\">0.0118052</td><td style = \"text-align: left;\">1.0</td><td style = \"text-align: left;\">0.0170086</td><td style = \"text-align: left;\">0.0403163</td><td style = \"text-align: left;\">0.0452558</td></tr><tr><td class = \"rowNumber\" style = \"font-weight: bold; text-align: right;\">10</td><td style = \"text-align: left;\">5173.84</td><td style = \"text-align: left;\">5173.84</td><td style = \"text-align: left;\">5173.84</td><td style = \"text-align: left;\">5173.84</td><td style = \"text-align: left;\">258.692</td><td style = \"text-align: left;\">6.85277</td><td style = \"text-align: left;\">0.694071</td><td style = \"text-align: left;\">0.694071</td><td style = \"text-align: left;\">58.7936</td><td style = \"text-align: left;\">1.0</td><td style = \"text-align: left;\">2.37034</td><td style = \"text-align: left;\">2.66075</td></tr><tr><td class = \"rowNumber\" style = \"font-weight: bold; text-align: right;\">11</td><td style = \"text-align: left;\">2182.74</td><td style = \"text-align: left;\">2182.74</td><td style = \"text-align: left;\">2182.74</td><td style = \"text-align: left;\">2182.74</td><td style = \"text-align: left;\">109.137</td><td style = \"text-align: left;\">2.89104</td><td style = \"text-align: left;\">0.292814</td><td style = \"text-align: left;\">0.292814</td><td style = \"text-align: left;\">24.8039</td><td style = \"text-align: left;\">0.42188</td><td style = \"text-align: left;\">1.0</td><td style = \"text-align: left;\">1.12252</td></tr><tr><td class = \"rowNumber\" style = \"font-weight: bold; text-align: right;\">12</td><td style = \"text-align: left;\">1944.5</td><td style = \"text-align: left;\">1944.5</td><td style = \"text-align: left;\">1944.5</td><td style = \"text-align: left;\">1944.5</td><td style = \"text-align: left;\">97.2252</td><td style = \"text-align: left;\">2.5755</td><td style = \"text-align: left;\">0.260855</td><td style = \"text-align: left;\">0.260855</td><td style = \"text-align: left;\">22.0966</td><td style = \"text-align: left;\">0.375834</td><td style = \"text-align: left;\">0.890855</td><td style = \"text-align: left;\">1.0</td></tr></tbody></table></div>"
      ],
      "text/latex": [
       "\\begin{tabular}{r|ccccccccc}\n",
       "\t& S=2, R=1 & S=2, R=2 & S=2, R=3 & S=2, R=4 & S=3, R=1 & S=3, R=2 & S=3, R=3 & S=3, R=4 & \\\\\n",
       "\t\\hline\n",
       "\t& Any & Any & Any & Any & Any & Any & Any & Any & \\\\\n",
       "\t\\hline\n",
       "\t1 & 1.0 & 1.0 & 1.0 & 1.0 & 0.05 & 0.0013245 & 0.00013415 & 0.00013415 & $\\dots$ \\\\\n",
       "\t2 & 1.0 & 1.0 & 1.0 & 1.0 & 0.05 & 0.0013245 & 0.00013415 & 0.00013415 & $\\dots$ \\\\\n",
       "\t3 & 1.0 & 1.0 & 1.0 & 1.0 & 0.05 & 0.0013245 & 0.00013415 & 0.00013415 & $\\dots$ \\\\\n",
       "\t4 & 1.0 & 1.0 & 1.0 & 1.0 & 0.05 & 0.0013245 & 0.00013415 & 0.00013415 & $\\dots$ \\\\\n",
       "\t5 & 20.0 & 20.0 & 20.0 & 20.0 & 1.0 & 0.0264901 & 0.002683 & 0.002683 & $\\dots$ \\\\\n",
       "\t6 & 755.0 & 755.0 & 755.0 & 755.0 & 37.75 & 1.0 & 0.101283 & 0.101283 & $\\dots$ \\\\\n",
       "\t7 & 7454.34 & 7454.34 & 7454.34 & 7454.34 & 372.717 & 9.8733 & 1.0 & 1.0 & $\\dots$ \\\\\n",
       "\t8 & 7454.34 & 7454.34 & 7454.34 & 7454.34 & 372.717 & 9.8733 & 1.0 & 1.0 & $\\dots$ \\\\\n",
       "\t9 & 88.0 & 88.0 & 88.0 & 88.0 & 4.4 & 0.116556 & 0.0118052 & 0.0118052 & $\\dots$ \\\\\n",
       "\t10 & 5173.84 & 5173.84 & 5173.84 & 5173.84 & 258.692 & 6.85277 & 0.694071 & 0.694071 & $\\dots$ \\\\\n",
       "\t11 & 2182.74 & 2182.74 & 2182.74 & 2182.74 & 109.137 & 2.89104 & 0.292814 & 0.292814 & $\\dots$ \\\\\n",
       "\t12 & 1944.5 & 1944.5 & 1944.5 & 1944.5 & 97.2252 & 2.5755 & 0.260855 & 0.260855 & $\\dots$ \\\\\n",
       "\\end{tabular}\n"
      ],
      "text/plain": [
       "\u001b[1m12×12 DataFrame\u001b[0m\n",
       "\u001b[1m Row \u001b[0m│\u001b[1m S=2, R=1 \u001b[0m\u001b[1m S=2, R=2 \u001b[0m\u001b[1m S=2, R=3 \u001b[0m\u001b[1m S=2, R=4 \u001b[0m\u001b[1m S=3, R=1 \u001b[0m\u001b[1m S=3, R=2  \u001b[0m\u001b[1m S=3, R=3  \u001b[0m ⋯\n",
       "     │\u001b[90m Any      \u001b[0m\u001b[90m Any      \u001b[0m\u001b[90m Any      \u001b[0m\u001b[90m Any      \u001b[0m\u001b[90m Any      \u001b[0m\u001b[90m Any       \u001b[0m\u001b[90m Any       \u001b[0m ⋯\n",
       "─────┼──────────────────────────────────────────────────────────────────────────\n",
       "   1 │ 1.0       1.0       1.0       1.0       0.05      0.0013245  0.00013415 ⋯\n",
       "   2 │ 1.0       1.0       1.0       1.0       0.05      0.0013245  0.00013415\n",
       "   3 │ 1.0       1.0       1.0       1.0       0.05      0.0013245  0.00013415\n",
       "   4 │ 1.0       1.0       1.0       1.0       0.05      0.0013245  0.00013415\n",
       "   5 │ 20.0      20.0      20.0      20.0      1.0       0.0264901  0.002683   ⋯\n",
       "   6 │ 755.0     755.0     755.0     755.0     37.75     1.0        0.101283\n",
       "   7 │ 7454.34   7454.34   7454.34   7454.34   372.717   9.8733     1.0\n",
       "   8 │ 7454.34   7454.34   7454.34   7454.34   372.717   9.8733     1.0\n",
       "   9 │ 88.0      88.0      88.0      88.0      4.4       0.116556   0.0118052  ⋯\n",
       "  10 │ 5173.84   5173.84   5173.84   5173.84   258.692   6.85277    0.694071\n",
       "  11 │ 2182.74   2182.74   2182.74   2182.74   109.137   2.89104    0.292814\n",
       "  12 │ 1944.5    1944.5    1944.5    1944.5    97.2252   2.5755     0.260855\n",
       "\u001b[36m                                                               5 columns omitted\u001b[0m"
      ]
     },
     "execution_count": 86,
     "metadata": {},
     "output_type": "execute_result"
    }
   ],
   "source": [
    "bayes_df"
   ]
  },
  {
   "cell_type": "code",
   "execution_count": 89,
   "id": "russian-supply",
   "metadata": {},
   "outputs": [],
   "source": [
    "model_sel_tab = convert(Matrix{Any},zeros(length(ABCoutputs),length(ABCoutputs)));\n",
    "for i in 1:length(ABCoutputs)\n",
    "    for j in 1:length(ABCoutputs)\n",
    "        if bayes_table[i,j]>10\n",
    "            model_sel_tab[i,j] = \"row\"\n",
    "        elseif bayes_table[i,j]<0.1\n",
    "            model_sel_tab[i,j] = \"col\"\n",
    "        end\n",
    "    end\n",
    "end\n",
    "model_sel_tab;"
   ]
  },
  {
   "cell_type": "code",
   "execution_count": 90,
   "id": "burning-dover",
   "metadata": {},
   "outputs": [
    {
     "data": {
      "text/html": [
       "<div><div style = \"float: left;\"><span>12×12 DataFrame</span></div><div style = \"clear: both;\"></div></div><div class = \"data-frame\" style = \"overflow-x: scroll;\"><table class = \"data-frame\" style = \"margin-bottom: 6px;\"><thead><tr class = \"header\"><th class = \"rowNumber\" style = \"font-weight: bold; text-align: right;\">Row</th><th style = \"text-align: left;\">S=2, R=1</th><th style = \"text-align: left;\">S=2, R=2</th><th style = \"text-align: left;\">S=2, R=3</th><th style = \"text-align: left;\">S=2, R=4</th><th style = \"text-align: left;\">S=3, R=1</th><th style = \"text-align: left;\">S=3, R=2</th><th style = \"text-align: left;\">S=3, R=3</th><th style = \"text-align: left;\">S=3, R=4</th><th style = \"text-align: left;\">S=4, R=1</th><th style = \"text-align: left;\">S=4, R=2</th><th style = \"text-align: left;\">S=4, R=3</th><th style = \"text-align: left;\">S=4, R=4</th></tr><tr class = \"subheader headerLastRow\"><th class = \"rowNumber\" style = \"font-weight: bold; text-align: right;\"></th><th title = \"Any\" style = \"text-align: left;\">Any</th><th title = \"Any\" style = \"text-align: left;\">Any</th><th title = \"Any\" style = \"text-align: left;\">Any</th><th title = \"Any\" style = \"text-align: left;\">Any</th><th title = \"Any\" style = \"text-align: left;\">Any</th><th title = \"Any\" style = \"text-align: left;\">Any</th><th title = \"Any\" style = \"text-align: left;\">Any</th><th title = \"Any\" style = \"text-align: left;\">Any</th><th title = \"Any\" style = \"text-align: left;\">Any</th><th title = \"Any\" style = \"text-align: left;\">Any</th><th title = \"Any\" style = \"text-align: left;\">Any</th><th title = \"Any\" style = \"text-align: left;\">Any</th></tr></thead><tbody><tr><td class = \"rowNumber\" style = \"font-weight: bold; text-align: right;\">1</td><td style = \"text-align: left;\">0.0</td><td style = \"text-align: left;\">0.0</td><td style = \"text-align: left;\">0.0</td><td style = \"text-align: left;\">0.0</td><td style = \"text-align: left;\">col</td><td style = \"text-align: left;\">col</td><td style = \"text-align: left;\">col</td><td style = \"text-align: left;\">col</td><td style = \"text-align: left;\">col</td><td style = \"text-align: left;\">col</td><td style = \"text-align: left;\">col</td><td style = \"text-align: left;\">col</td></tr><tr><td class = \"rowNumber\" style = \"font-weight: bold; text-align: right;\">2</td><td style = \"text-align: left;\">0.0</td><td style = \"text-align: left;\">0.0</td><td style = \"text-align: left;\">0.0</td><td style = \"text-align: left;\">0.0</td><td style = \"text-align: left;\">col</td><td style = \"text-align: left;\">col</td><td style = \"text-align: left;\">col</td><td style = \"text-align: left;\">col</td><td style = \"text-align: left;\">col</td><td style = \"text-align: left;\">col</td><td style = \"text-align: left;\">col</td><td style = \"text-align: left;\">col</td></tr><tr><td class = \"rowNumber\" style = \"font-weight: bold; text-align: right;\">3</td><td style = \"text-align: left;\">0.0</td><td style = \"text-align: left;\">0.0</td><td style = \"text-align: left;\">0.0</td><td style = \"text-align: left;\">0.0</td><td style = \"text-align: left;\">col</td><td style = \"text-align: left;\">col</td><td style = \"text-align: left;\">col</td><td style = \"text-align: left;\">col</td><td style = \"text-align: left;\">col</td><td style = \"text-align: left;\">col</td><td style = \"text-align: left;\">col</td><td style = \"text-align: left;\">col</td></tr><tr><td class = \"rowNumber\" style = \"font-weight: bold; text-align: right;\">4</td><td style = \"text-align: left;\">0.0</td><td style = \"text-align: left;\">0.0</td><td style = \"text-align: left;\">0.0</td><td style = \"text-align: left;\">0.0</td><td style = \"text-align: left;\">col</td><td style = \"text-align: left;\">col</td><td style = \"text-align: left;\">col</td><td style = \"text-align: left;\">col</td><td style = \"text-align: left;\">col</td><td style = \"text-align: left;\">col</td><td style = \"text-align: left;\">col</td><td style = \"text-align: left;\">col</td></tr><tr><td class = \"rowNumber\" style = \"font-weight: bold; text-align: right;\">5</td><td style = \"text-align: left;\">row</td><td style = \"text-align: left;\">row</td><td style = \"text-align: left;\">row</td><td style = \"text-align: left;\">row</td><td style = \"text-align: left;\">0.0</td><td style = \"text-align: left;\">col</td><td style = \"text-align: left;\">col</td><td style = \"text-align: left;\">col</td><td style = \"text-align: left;\">0.0</td><td style = \"text-align: left;\">col</td><td style = \"text-align: left;\">col</td><td style = \"text-align: left;\">col</td></tr><tr><td class = \"rowNumber\" style = \"font-weight: bold; text-align: right;\">6</td><td style = \"text-align: left;\">row</td><td style = \"text-align: left;\">row</td><td style = \"text-align: left;\">row</td><td style = \"text-align: left;\">row</td><td style = \"text-align: left;\">row</td><td style = \"text-align: left;\">0.0</td><td style = \"text-align: left;\">0.0</td><td style = \"text-align: left;\">0.0</td><td style = \"text-align: left;\">0.0</td><td style = \"text-align: left;\">0.0</td><td style = \"text-align: left;\">0.0</td><td style = \"text-align: left;\">0.0</td></tr><tr><td class = \"rowNumber\" style = \"font-weight: bold; text-align: right;\">7</td><td style = \"text-align: left;\">row</td><td style = \"text-align: left;\">row</td><td style = \"text-align: left;\">row</td><td style = \"text-align: left;\">row</td><td style = \"text-align: left;\">row</td><td style = \"text-align: left;\">0.0</td><td style = \"text-align: left;\">0.0</td><td style = \"text-align: left;\">0.0</td><td style = \"text-align: left;\">row</td><td style = \"text-align: left;\">0.0</td><td style = \"text-align: left;\">0.0</td><td style = \"text-align: left;\">0.0</td></tr><tr><td class = \"rowNumber\" style = \"font-weight: bold; text-align: right;\">8</td><td style = \"text-align: left;\">row</td><td style = \"text-align: left;\">row</td><td style = \"text-align: left;\">row</td><td style = \"text-align: left;\">row</td><td style = \"text-align: left;\">row</td><td style = \"text-align: left;\">0.0</td><td style = \"text-align: left;\">0.0</td><td style = \"text-align: left;\">0.0</td><td style = \"text-align: left;\">row</td><td style = \"text-align: left;\">0.0</td><td style = \"text-align: left;\">0.0</td><td style = \"text-align: left;\">0.0</td></tr><tr><td class = \"rowNumber\" style = \"font-weight: bold; text-align: right;\">9</td><td style = \"text-align: left;\">row</td><td style = \"text-align: left;\">row</td><td style = \"text-align: left;\">row</td><td style = \"text-align: left;\">row</td><td style = \"text-align: left;\">0.0</td><td style = \"text-align: left;\">0.0</td><td style = \"text-align: left;\">col</td><td style = \"text-align: left;\">col</td><td style = \"text-align: left;\">0.0</td><td style = \"text-align: left;\">col</td><td style = \"text-align: left;\">col</td><td style = \"text-align: left;\">col</td></tr><tr><td class = \"rowNumber\" style = \"font-weight: bold; text-align: right;\">10</td><td style = \"text-align: left;\">row</td><td style = \"text-align: left;\">row</td><td style = \"text-align: left;\">row</td><td style = \"text-align: left;\">row</td><td style = \"text-align: left;\">row</td><td style = \"text-align: left;\">0.0</td><td style = \"text-align: left;\">0.0</td><td style = \"text-align: left;\">0.0</td><td style = \"text-align: left;\">row</td><td style = \"text-align: left;\">0.0</td><td style = \"text-align: left;\">0.0</td><td style = \"text-align: left;\">0.0</td></tr><tr><td class = \"rowNumber\" style = \"font-weight: bold; text-align: right;\">11</td><td style = \"text-align: left;\">row</td><td style = \"text-align: left;\">row</td><td style = \"text-align: left;\">row</td><td style = \"text-align: left;\">row</td><td style = \"text-align: left;\">row</td><td style = \"text-align: left;\">0.0</td><td style = \"text-align: left;\">0.0</td><td style = \"text-align: left;\">0.0</td><td style = \"text-align: left;\">row</td><td style = \"text-align: left;\">0.0</td><td style = \"text-align: left;\">0.0</td><td style = \"text-align: left;\">0.0</td></tr><tr><td class = \"rowNumber\" style = \"font-weight: bold; text-align: right;\">12</td><td style = \"text-align: left;\">row</td><td style = \"text-align: left;\">row</td><td style = \"text-align: left;\">row</td><td style = \"text-align: left;\">row</td><td style = \"text-align: left;\">row</td><td style = \"text-align: left;\">0.0</td><td style = \"text-align: left;\">0.0</td><td style = \"text-align: left;\">0.0</td><td style = \"text-align: left;\">row</td><td style = \"text-align: left;\">0.0</td><td style = \"text-align: left;\">0.0</td><td style = \"text-align: left;\">0.0</td></tr></tbody></table></div>"
      ],
      "text/latex": [
       "\\begin{tabular}{r|ccccccccc}\n",
       "\t& S=2, R=1 & S=2, R=2 & S=2, R=3 & S=2, R=4 & S=3, R=1 & S=3, R=2 & S=3, R=3 & S=3, R=4 & \\\\\n",
       "\t\\hline\n",
       "\t& Any & Any & Any & Any & Any & Any & Any & Any & \\\\\n",
       "\t\\hline\n",
       "\t1 & 0.0 & 0.0 & 0.0 & 0.0 & col & col & col & col & $\\dots$ \\\\\n",
       "\t2 & 0.0 & 0.0 & 0.0 & 0.0 & col & col & col & col & $\\dots$ \\\\\n",
       "\t3 & 0.0 & 0.0 & 0.0 & 0.0 & col & col & col & col & $\\dots$ \\\\\n",
       "\t4 & 0.0 & 0.0 & 0.0 & 0.0 & col & col & col & col & $\\dots$ \\\\\n",
       "\t5 & row & row & row & row & 0.0 & col & col & col & $\\dots$ \\\\\n",
       "\t6 & row & row & row & row & row & 0.0 & 0.0 & 0.0 & $\\dots$ \\\\\n",
       "\t7 & row & row & row & row & row & 0.0 & 0.0 & 0.0 & $\\dots$ \\\\\n",
       "\t8 & row & row & row & row & row & 0.0 & 0.0 & 0.0 & $\\dots$ \\\\\n",
       "\t9 & row & row & row & row & 0.0 & 0.0 & col & col & $\\dots$ \\\\\n",
       "\t10 & row & row & row & row & row & 0.0 & 0.0 & 0.0 & $\\dots$ \\\\\n",
       "\t11 & row & row & row & row & row & 0.0 & 0.0 & 0.0 & $\\dots$ \\\\\n",
       "\t12 & row & row & row & row & row & 0.0 & 0.0 & 0.0 & $\\dots$ \\\\\n",
       "\\end{tabular}\n"
      ],
      "text/plain": [
       "\u001b[1m12×12 DataFrame\u001b[0m\n",
       "\u001b[1m Row \u001b[0m│\u001b[1m S=2, R=1 \u001b[0m\u001b[1m S=2, R=2 \u001b[0m\u001b[1m S=2, R=3 \u001b[0m\u001b[1m S=2, R=4 \u001b[0m\u001b[1m S=3, R=1 \u001b[0m\u001b[1m S=3, R=2 \u001b[0m\u001b[1m S=3, R=3 \u001b[0m\u001b[1m S\u001b[0m ⋯\n",
       "     │\u001b[90m Any      \u001b[0m\u001b[90m Any      \u001b[0m\u001b[90m Any      \u001b[0m\u001b[90m Any      \u001b[0m\u001b[90m Any      \u001b[0m\u001b[90m Any      \u001b[0m\u001b[90m Any      \u001b[0m\u001b[90m A\u001b[0m ⋯\n",
       "─────┼──────────────────────────────────────────────────────────────────────────\n",
       "   1 │ 0.0       0.0       0.0       0.0       col       col       col       c ⋯\n",
       "   2 │ 0.0       0.0       0.0       0.0       col       col       col       c\n",
       "   3 │ 0.0       0.0       0.0       0.0       col       col       col       c\n",
       "   4 │ 0.0       0.0       0.0       0.0       col       col       col       c\n",
       "   5 │ row       row       row       row       0.0       col       col       c ⋯\n",
       "   6 │ row       row       row       row       row       0.0       0.0       0\n",
       "   7 │ row       row       row       row       row       0.0       0.0       0\n",
       "   8 │ row       row       row       row       row       0.0       0.0       0\n",
       "   9 │ row       row       row       row       0.0       0.0       col       c ⋯\n",
       "  10 │ row       row       row       row       row       0.0       0.0       0\n",
       "  11 │ row       row       row       row       row       0.0       0.0       0\n",
       "  12 │ row       row       row       row       row       0.0       0.0       0\n",
       "\u001b[36m                                                               5 columns omitted\u001b[0m"
      ]
     },
     "execution_count": 90,
     "metadata": {},
     "output_type": "execute_result"
    }
   ],
   "source": [
    "model_sel_df = DataFrame([[] for i in 1:length(labels)], labels)\n",
    "for i in 1:length(labels)\n",
    "    push!(model_sel_df,model_sel_tab[i,:])\n",
    "end\n",
    "model_sel_df"
   ]
  },
  {
   "cell_type": "code",
   "execution_count": null,
   "id": "recent-touch",
   "metadata": {},
   "outputs": [],
   "source": []
  }
 ],
 "metadata": {
  "kernelspec": {
   "display_name": "Julia 1.8.5",
   "language": "julia",
   "name": "julia-1.8"
  },
  "language_info": {
   "file_extension": ".jl",
   "mimetype": "application/julia",
   "name": "julia",
   "version": "1.8.5"
  }
 },
 "nbformat": 4,
 "nbformat_minor": 5
}
