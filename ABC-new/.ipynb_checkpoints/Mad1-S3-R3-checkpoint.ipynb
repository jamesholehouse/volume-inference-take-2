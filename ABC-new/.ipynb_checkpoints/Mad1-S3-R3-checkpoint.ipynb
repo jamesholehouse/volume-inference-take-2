{
 "cells": [
  {
   "cell_type": "markdown",
   "id": "af47310a",
   "metadata": {},
   "source": [
    "# Mad1 inference new objective function "
   ]
  },
  {
   "cell_type": "markdown",
   "id": "c112cc78",
   "metadata": {},
   "source": [
    "Import the relevant packages and simulations."
   ]
  },
  {
   "cell_type": "code",
   "execution_count": 1,
   "id": "94361fd3",
   "metadata": {},
   "outputs": [],
   "source": [
    "using Random, Plots, LaTeXStrings, Distributions, StatsBase, DataFrames, CSV, Plots.PlotMeasures, Revise, GpABC, JLD"
   ]
  },
  {
   "cell_type": "code",
   "execution_count": 2,
   "id": "17a363c1",
   "metadata": {},
   "outputs": [],
   "source": [
    "Plots.theme(:dao)\n",
    "Plots.gr_cbar_width[] = 0.01;"
   ]
  },
  {
   "cell_type": "code",
   "execution_count": 3,
   "id": "e0c8fe24",
   "metadata": {},
   "outputs": [
    {
     "name": "stderr",
     "output_type": "stream",
     "text": [
      "WARNING: replacing module SSAnonVD.\n"
     ]
    }
   ],
   "source": [
    "Revise.track(\"/home/jamesh/GitHub/volume-inference-take-2/SSA-basic.jl\")\n",
    "include(\"/home/jamesh/GitHub/volume-inference-take-2/SSA-basic.jl\")\n",
    "using .SSAnonVD"
   ]
  },
  {
   "cell_type": "markdown",
   "id": "e4b76e35",
   "metadata": {},
   "source": [
    "Define a nice colorblind color scheme."
   ]
  },
  {
   "cell_type": "code",
   "execution_count": 4,
   "id": "73df04c3",
   "metadata": {},
   "outputs": [
    {
     "data": {
      "image/svg+xml": [
       "<?xml version=\"1.0\" encoding=\"UTF-8\"?>\n",
       "<!DOCTYPE svg PUBLIC \"-//W3C//DTD SVG 1.1//EN\"\n",
       " \"http://www.w3.org/Graphics/SVG/1.1/DTD/svg11.dtd\">\n",
       "<svg xmlns=\"http://www.w3.org/2000/svg\" version=\"1.1\"\n",
       "     width=\"175mm\" height=\"25mm\" viewBox=\"0 0 7 1\" stroke=\"none\"\n",
       "     preserveAspectRatio=\"none\" shape-rendering=\"crispEdges\">\n",
       "<defs>\n",
       "    <pattern id=\"pat_IVErz\" width=\".2\" height=\".2\"\n",
       "             patternUnits=\"userSpaceOnUse\" >\n",
       "        <path d=\"M.1,0h.1v.1h-.2v.1h.1z\" fill=\"#999\" opacity=\".5\" />\n",
       "    </pattern>\n",
       "</defs>\n",
       "<rect width=\"7\" height=\"1\" fill=\"url(#pat_IVErz)\" />\n",
       "<path d=\"M1,0v1h-1z\" fill=\"#7EC7E2\" />\n",
       "<path d=\"M0,0h1v1h-1z\" fill=\"#7EC7E2\" fill-opacity=\"1\" />\n",
       "<path d=\"M2,0v1h-1z\" fill=\"#359B7C\" />\n",
       "<path d=\"M1,0h1v1h-1z\" fill=\"#359B7C\" fill-opacity=\"1\" />\n",
       "<path d=\"M3,0v1h-1z\" fill=\"#4B8633\" />\n",
       "<path d=\"M2,0h1v1h-1z\" fill=\"#4B8633\" fill-opacity=\"1\" />\n",
       "<path d=\"M4,0v1h-1z\" fill=\"#C0B65A\" />\n",
       "<path d=\"M3,0h1v1h-1z\" fill=\"#C0B65A\" fill-opacity=\"1\" />\n",
       "<path d=\"M5,0v1h-1z\" fill=\"#D18377\" />\n",
       "<path d=\"M4,0h1v1h-1z\" fill=\"#D18377\" fill-opacity=\"1\" />\n",
       "<path d=\"M6,0v1h-1z\" fill=\"#922C5A\" />\n",
       "<path d=\"M5,0h1v1h-1z\" fill=\"#922C5A\" fill-opacity=\"1\" />\n",
       "<path d=\"M7,0v1h-1z\" fill=\"#AA4499\" />\n",
       "<path d=\"M6,0h1v1h-1z\" fill=\"#AA4499\" fill-opacity=\"1\" />\n",
       "</svg>"
      ],
      "text/plain": [
       "7-element Array{RGBA{Float64},1} with eltype RGBA{Float64}:\n",
       " RGBA{Float64}(0.49523809523809526,0.7809523809523811,0.8857142857142857,1.0)\n",
       " RGBA{Float64}(0.20952380952380956,0.6095238095238096,0.48571428571428577,1.0)\n",
       " RGBA{Float64}(0.29523809523809535,0.5238095238095238,0.2,1.0)\n",
       " RGBA{Float64}(0.7523809523809524,0.7142857142857142,0.35238095238095235,1.0)\n",
       " RGBA{Float64}(0.819047619047619,0.5142857142857142,0.4666666666666667,1.0)\n",
       " RGBA{Float64}(0.5714285714285715,0.17142857142857154,0.35238095238095246,1.0)\n",
       " RGBA{Float64}(0.6666666666666666,0.26666666666666666,0.6,1.0)"
      ]
     },
     "execution_count": 4,
     "metadata": {},
     "output_type": "execute_result"
    }
   ],
   "source": [
    "pal = cgrad(:tol_muted);\n",
    "cpal = [pal[i] for i in 1/7:1/7:1.0]\n",
    "population_colors = cpal"
   ]
  },
  {
   "cell_type": "markdown",
   "id": "8d329544",
   "metadata": {},
   "source": [
    "Import the data."
   ]
  },
  {
   "cell_type": "code",
   "execution_count": 5,
   "id": "889509da",
   "metadata": {},
   "outputs": [],
   "source": [
    "df_nuc = DataFrame(CSV.File(\"/home/jamesh/GitHub/volume-inference-take-2/data/nuclear-vol-corr.csv\"));\n",
    "df_cyto = DataFrame(CSV.File(\"/home/jamesh/GitHub/volume-inference-take-2/data/cyto-vol-corr.csv\"));\n",
    "delete!(df_nuc, 2);\n",
    "delete!(df_cyto, 2);"
   ]
  },
  {
   "cell_type": "code",
   "execution_count": 6,
   "id": "8d7c2423",
   "metadata": {},
   "outputs": [],
   "source": [
    "gnames = df_cyto[!,\"gene\"]\n",
    "Ns = df_nuc[!,\"N\"];\n",
    "cyto_means = df_cyto[!,\"Mean\"];\n",
    "nuc_FFs = df_nuc[!,\"FF\"];\n",
    "cyto_FFs = df_cyto[!,\"FF\"];"
   ]
  },
  {
   "cell_type": "markdown",
   "id": "81976e1a",
   "metadata": {},
   "source": [
    "Mad1-endog is the third gene in `gnames`."
   ]
  },
  {
   "cell_type": "code",
   "execution_count": 7,
   "id": "93953103",
   "metadata": {},
   "outputs": [],
   "source": [
    "mad1N = Ns[3]; mad1cyto = cyto_means[3]; mad1FFn = nuc_FFs[3]; mad1FFc = cyto_FFs[3];"
   ]
  },
  {
   "cell_type": "markdown",
   "id": "67b44b73",
   "metadata": {},
   "source": [
    "Define the timescales necessary to predict the steady-state time. `sim_time` defines the point at which the steady state is assumed to be reached."
   ]
  },
  {
   "cell_type": "code",
   "execution_count": 8,
   "id": "2257d9bc",
   "metadata": {},
   "outputs": [],
   "source": [
    "tdeg = 1;\n",
    "texpt(kA,kB,kC,S,R) = 1/kC;\n",
    "tinit(kA,kB,kC,S,R) = (1/kB)+(S-1)/kA;"
   ]
  },
  {
   "cell_type": "code",
   "execution_count": 9,
   "id": "65cdc12b",
   "metadata": {},
   "outputs": [
    {
     "data": {
      "text/plain": [
       "sim_time (generic function with 1 method)"
      ]
     },
     "execution_count": 9,
     "metadata": {},
     "output_type": "execute_result"
    }
   ],
   "source": [
    "function sim_time(pars)\n",
    "    kA, kB, kC = pars;\n",
    "    return 10*maximum([1,texpt(pars...,hypars...),tinit(pars...,hypars...)])\n",
    "end"
   ]
  },
  {
   "cell_type": "markdown",
   "id": "40150483",
   "metadata": {},
   "source": [
    "Import the values from the bootstrapping for the distance function weighting. It is the inverse of these errors that multiples each square error (larger variance in the sample statistic gives it a lesser weighting in the objective function). "
   ]
  },
  {
   "cell_type": "code",
   "execution_count": 10,
   "id": "60c32438",
   "metadata": {},
   "outputs": [
    {
     "data": {
      "text/html": [
       "<div class=\"data-frame\"><p>10 rows × 12 columns (omitted printing of 7 columns)</p><table class=\"data-frame\"><thead><tr><th></th><th>gene</th><th>meanRNA_Cytoplasm</th><th>FF_Nucleus</th><th>FF_Cytoplasm</th><th>varmeanRNA_Cytoplasm</th></tr><tr><th></th><th title=\"String31\">String31</th><th title=\"Float64\">Float64</th><th title=\"Float64\">Float64</th><th title=\"Float64\">Float64</th><th title=\"Float64\">Float64</th></tr></thead><tbody><tr><th>1</th><td>mad1endog</td><td>1.74188</td><td>0.927854</td><td>0.61919</td><td>0.000915275</td></tr><tr><th>2</th><td>mad1WTymEGFP</td><td>2.85198</td><td>0.981871</td><td>0.65653</td><td>0.0011888</td></tr><tr><th>3</th><td>mad2WTymEGFP</td><td>2.89682</td><td>0.843934</td><td>0.823882</td><td>0.00097598</td></tr><tr><th>4</th><td>mad3WTymEGFP</td><td>3.51958</td><td>0.973071</td><td>0.70773</td><td>0.00140474</td></tr><tr><th>5</th><td>bub1WTymEGFP</td><td>4.40106</td><td>0.951047</td><td>0.619662</td><td>0.00281702</td></tr><tr><th>6</th><td>sep1WTymEGFP-hph</td><td>5.42775</td><td>0.863251</td><td>0.87657</td><td>0.00847755</td></tr><tr><th>7</th><td>rpb1endog</td><td>17.8805</td><td>0.824811</td><td>0.646176</td><td>0.0156431</td></tr><tr><th>8</th><td>cdc13endog</td><td>18.5235</td><td>0.92621</td><td>0.994492</td><td>0.0449313</td></tr><tr><th>9</th><td>SPAC2H1001WTymEGFP-hph</td><td>3.24427</td><td>2.19847</td><td>4.08452</td><td>0.0283231</td></tr><tr><th>10</th><td>SPAC27D709cWTymEGFP-hph</td><td>25.2452</td><td>2.83368</td><td>9.69815</td><td>1.16535</td></tr></tbody></table></div>"
      ],
      "text/latex": [
       "\\begin{tabular}{r|cccccc}\n",
       "\t& gene & meanRNA\\_Cytoplasm & FF\\_Nucleus & FF\\_Cytoplasm & varmeanRNA\\_Cytoplasm & \\\\\n",
       "\t\\hline\n",
       "\t& String31 & Float64 & Float64 & Float64 & Float64 & \\\\\n",
       "\t\\hline\n",
       "\t1 & mad1endog & 1.74188 & 0.927854 & 0.61919 & 0.000915275 & $\\dots$ \\\\\n",
       "\t2 & mad1WTymEGFP & 2.85198 & 0.981871 & 0.65653 & 0.0011888 & $\\dots$ \\\\\n",
       "\t3 & mad2WTymEGFP & 2.89682 & 0.843934 & 0.823882 & 0.00097598 & $\\dots$ \\\\\n",
       "\t4 & mad3WTymEGFP & 3.51958 & 0.973071 & 0.70773 & 0.00140474 & $\\dots$ \\\\\n",
       "\t5 & bub1WTymEGFP & 4.40106 & 0.951047 & 0.619662 & 0.00281702 & $\\dots$ \\\\\n",
       "\t6 & sep1WTymEGFP-hph & 5.42775 & 0.863251 & 0.87657 & 0.00847755 & $\\dots$ \\\\\n",
       "\t7 & rpb1endog & 17.8805 & 0.824811 & 0.646176 & 0.0156431 & $\\dots$ \\\\\n",
       "\t8 & cdc13endog & 18.5235 & 0.92621 & 0.994492 & 0.0449313 & $\\dots$ \\\\\n",
       "\t9 & SPAC2H1001WTymEGFP-hph & 3.24427 & 2.19847 & 4.08452 & 0.0283231 & $\\dots$ \\\\\n",
       "\t10 & SPAC27D709cWTymEGFP-hph & 25.2452 & 2.83368 & 9.69815 & 1.16535 & $\\dots$ \\\\\n",
       "\\end{tabular}\n"
      ],
      "text/plain": [
       "\u001b[1m10×12 DataFrame\u001b[0m\n",
       "\u001b[1m Row \u001b[0m│\u001b[1m gene                    \u001b[0m\u001b[1m meanRNA_Cytoplasm \u001b[0m\u001b[1m FF_Nucleus \u001b[0m\u001b[1m FF_Cytoplasm \u001b[0m\u001b[1m v\u001b[0m ⋯\n",
       "\u001b[1m     \u001b[0m│\u001b[90m String31                \u001b[0m\u001b[90m Float64           \u001b[0m\u001b[90m Float64    \u001b[0m\u001b[90m Float64      \u001b[0m\u001b[90m F\u001b[0m ⋯\n",
       "─────┼──────────────────────────────────────────────────────────────────────────\n",
       "   1 │ mad1endog                          1.74188    0.927854      0.61919     ⋯\n",
       "   2 │ mad1WTymEGFP                       2.85198    0.981871      0.65653\n",
       "   3 │ mad2WTymEGFP                       2.89682    0.843934      0.823882\n",
       "   4 │ mad3WTymEGFP                       3.51958    0.973071      0.70773\n",
       "   5 │ bub1WTymEGFP                       4.40106    0.951047      0.619662    ⋯\n",
       "   6 │ sep1WTymEGFP-hph                   5.42775    0.863251      0.87657\n",
       "   7 │ rpb1endog                         17.8805     0.824811      0.646176\n",
       "   8 │ cdc13endog                        18.5235     0.92621       0.994492\n",
       "   9 │ SPAC2H1001WTymEGFP-hph             3.24427    2.19847       4.08452     ⋯\n",
       "  10 │ SPAC27D709cWTymEGFP-hph           25.2452     2.83368       9.69815\n",
       "\u001b[36m                                                               8 columns omitted\u001b[0m"
      ]
     },
     "execution_count": 10,
     "metadata": {},
     "output_type": "execute_result"
    }
   ],
   "source": [
    "bootstrapping = DataFrame(CSV.File(\"/home/jamesh/GitHub/volume-inference-take-2/data/meanCyto_FF_withVar_forJames_230422.csv\"))"
   ]
  },
  {
   "cell_type": "code",
   "execution_count": 11,
   "id": "ce9f1566",
   "metadata": {},
   "outputs": [],
   "source": [
    "names(bootstrapping);"
   ]
  },
  {
   "cell_type": "markdown",
   "id": "4539a42f",
   "metadata": {},
   "source": [
    "Take the bootstrapped sample variances."
   ]
  },
  {
   "cell_type": "code",
   "execution_count": 12,
   "id": "51600540",
   "metadata": {},
   "outputs": [],
   "source": [
    "bs_cyto = bootstrapping[!,\"varmeanRNA_Cytoplasm\"][1]\n",
    "bs_ffn = bootstrapping[!,\"varFF_Nucleus\"][1]\n",
    "bs_ffc = bootstrapping[!,\"varFF_Cytoplasm\"][1];\n",
    "bs_vec = [bs_cyto, bs_ffn, bs_ffc];"
   ]
  },
  {
   "cell_type": "markdown",
   "id": "2f4363f4",
   "metadata": {},
   "source": [
    "Define the distance function."
   ]
  },
  {
   "cell_type": "code",
   "execution_count": 13,
   "id": "11458f3f",
   "metadata": {},
   "outputs": [
    {
     "data": {
      "text/plain": [
       "new_distance (generic function with 2 methods)"
      ]
     },
     "execution_count": 13,
     "metadata": {},
     "output_type": "execute_result"
    }
   ],
   "source": [
    "function new_distance(traj1::Matrix, traj2::Matrix)\n",
    "    return sum([bs_vec[i]^(-1)*((traj1[i]-traj2[i])/traj2[i])^2 for i in 1:length(traj1)])\n",
    "end\n",
    "function new_distance(traj1::Vector, traj2::Vector)\n",
    "    return sum([bs_vec[i]^(-1)*((traj1[i]-traj2[i])/traj2[i])^2 for i in 1:length(traj1)])\n",
    "end"
   ]
  },
  {
   "cell_type": "markdown",
   "id": "ab41f464",
   "metadata": {},
   "source": [
    "# Let's do for $R=S=3$"
   ]
  },
  {
   "cell_type": "markdown",
   "id": "88748b80",
   "metadata": {},
   "source": [
    "Set the hyperparameters to $S=R=3$."
   ]
  },
  {
   "cell_type": "code",
   "execution_count": 14,
   "id": "fb1b0f9e",
   "metadata": {},
   "outputs": [
    {
     "data": {
      "text/plain": [
       "1.0"
      ]
     },
     "execution_count": 14,
     "metadata": {},
     "output_type": "execute_result"
    }
   ],
   "source": [
    "hypars = [3,3]; # [S,R]\n",
    "# pf defined for the priors (see SI).\n",
    "pf = (hypars[1]-1)/2"
   ]
  },
  {
   "cell_type": "code",
   "execution_count": 15,
   "id": "3e784dd7",
   "metadata": {},
   "outputs": [
    {
     "data": {
      "text/plain": [
       "\"mad1endog\""
      ]
     },
     "execution_count": 15,
     "metadata": {},
     "output_type": "execute_result"
    }
   ],
   "source": [
    "gnames[3]"
   ]
  },
  {
   "cell_type": "code",
   "execution_count": 16,
   "id": "e4721113",
   "metadata": {},
   "outputs": [
    {
     "data": {
      "text/plain": [
       "simulator_fn_3 (generic function with 1 method)"
      ]
     },
     "execution_count": 16,
     "metadata": {},
     "output_type": "execute_result"
    }
   ],
   "source": [
    "function simulator_fn_3(pars)\n",
    "    op = SSA(Ns[3], pars, hypars, sim_time(pars), sim_time(pars));\n",
    "    nuc_pop = op[1][:,2];\n",
    "    cyto_pop = op[2][:,2];\n",
    "    nuc_FF = var(nuc_pop)/mean(nuc_pop);\n",
    "    cyto_mean = 2*mean(cyto_pop);\n",
    "    cyto_FF = var(cyto_pop)/mean(cyto_pop);\n",
    "    # return the moments of interest\n",
    "    return reshape([cyto_mean, nuc_FF, cyto_FF],(3,1))\n",
    "end"
   ]
  },
  {
   "cell_type": "markdown",
   "id": "e51eddb6",
   "metadata": {},
   "source": [
    "Let's look at the value of the objective function for something close to an optimum value. This informs what our threshold schedule for the ABC will be."
   ]
  },
  {
   "cell_type": "code",
   "execution_count": 17,
   "id": "bb90e0d0",
   "metadata": {},
   "outputs": [
    {
     "data": {
      "text/plain": [
       "35.17130476853963"
      ]
     },
     "execution_count": 17,
     "metadata": {},
     "output_type": "execute_result"
    }
   ],
   "source": [
    "new_distance(simulator_fn_3([2.54,3.64,20.0]),reshape([cyto_means[3],nuc_FFs[3],cyto_FFs[3]],(3,1)))"
   ]
  },
  {
   "cell_type": "code",
   "execution_count": 18,
   "id": "6a1a68d9",
   "metadata": {},
   "outputs": [
    {
     "data": {
      "text/plain": [
       "7-element Vector{Float64}:\n",
       " 200.0\n",
       " 100.0\n",
       "  50.0\n",
       "  25.0\n",
       "  20.0\n",
       "  10.0\n",
       "   5.0"
      ]
     },
     "execution_count": 18,
     "metadata": {},
     "output_type": "execute_result"
    }
   ],
   "source": [
    "# ABC priors\n",
    "priors_3 = [Uniform(pf*0.5,pf*10.5), Uniform(0.5, 10.5), Uniform(0.5,100.5)]\n",
    "\n",
    "# number of particles\n",
    "n_particles = 1000\n",
    "\n",
    "# ABC hpars\n",
    "threshold_schedule_3 = [200.0, 100.0, 50.0, 25.0, 20.0, 10.0, 5.0]"
   ]
  },
  {
   "cell_type": "code",
   "execution_count": null,
   "id": "e6acb772",
   "metadata": {
    "scrolled": true
   },
   "outputs": [
    {
     "name": "stderr",
     "output_type": "stream",
     "text": [
      "\u001b[36m\u001b[1m[ \u001b[22m\u001b[39m\u001b[36m\u001b[1mInfo: \u001b[22m\u001b[39mGpABC rejection simulation. ϵ = 200.0.\n",
      "\u001b[36m\u001b[1m[ \u001b[22m\u001b[39m\u001b[36m\u001b[1mInfo: \u001b[22m\u001b[39mGpABC rejection simulation. Accepted 246/1000 particles.\n",
      "\u001b[36m\u001b[1m[ \u001b[22m\u001b[39m\u001b[36m\u001b[1mInfo: \u001b[22m\u001b[39mGpABC rejection simulation. Accepted 492/2000 particles.\n",
      "\u001b[36m\u001b[1m[ \u001b[22m\u001b[39m\u001b[36m\u001b[1mInfo: \u001b[22m\u001b[39mGpABC rejection simulation. Accepted 754/3000 particles.\n",
      "\u001b[36m\u001b[1m[ \u001b[22m\u001b[39m\u001b[36m\u001b[1mInfo: \u001b[22m\u001b[39mGpABC rejection simulation. Accepted 991/4000 particles.\n",
      "\u001b[36m\u001b[1m[ \u001b[22m\u001b[39m\u001b[36m\u001b[1mInfo: \u001b[22m\u001b[39mGpABC SMC simulation ϵ = 100.0\n",
      "\u001b[36m\u001b[1m[ \u001b[22m\u001b[39m\u001b[36m\u001b[1mInfo: \u001b[22m\u001b[39mGpABC SMC simulation accepted 256/1000 particles.\n",
      "\u001b[36m\u001b[1m[ \u001b[22m\u001b[39m\u001b[36m\u001b[1mInfo: \u001b[22m\u001b[39mGpABC SMC simulation accepted 505/2000 particles.\n",
      "\u001b[36m\u001b[1m[ \u001b[22m\u001b[39m\u001b[36m\u001b[1mInfo: \u001b[22m\u001b[39mGpABC SMC simulation accepted 729/3000 particles.\n",
      "\u001b[36m\u001b[1m[ \u001b[22m\u001b[39m\u001b[36m\u001b[1mInfo: \u001b[22m\u001b[39mGpABC SMC simulation accepted 984/4000 particles.\n",
      "\u001b[36m\u001b[1m[ \u001b[22m\u001b[39m\u001b[36m\u001b[1mInfo: \u001b[22m\u001b[39mGpABC SMC simulation ϵ = 50.0\n",
      "\u001b[36m\u001b[1m[ \u001b[22m\u001b[39m\u001b[36m\u001b[1mInfo: \u001b[22m\u001b[39mGpABC SMC simulation accepted 280/1000 particles.\n",
      "\u001b[36m\u001b[1m[ \u001b[22m\u001b[39m\u001b[36m\u001b[1mInfo: \u001b[22m\u001b[39mGpABC SMC simulation accepted 541/2000 particles.\n",
      "\u001b[36m\u001b[1m[ \u001b[22m\u001b[39m\u001b[36m\u001b[1mInfo: \u001b[22m\u001b[39mGpABC SMC simulation accepted 802/3000 particles.\n",
      "\u001b[36m\u001b[1m[ \u001b[22m\u001b[39m\u001b[36m\u001b[1mInfo: \u001b[22m\u001b[39mGpABC SMC simulation ϵ = 25.0\n",
      "\u001b[36m\u001b[1m[ \u001b[22m\u001b[39m\u001b[36m\u001b[1mInfo: \u001b[22m\u001b[39mGpABC SMC simulation accepted 242/1000 particles.\n",
      "\u001b[36m\u001b[1m[ \u001b[22m\u001b[39m\u001b[36m\u001b[1mInfo: \u001b[22m\u001b[39mGpABC SMC simulation accepted 466/2000 particles.\n",
      "\u001b[36m\u001b[1m[ \u001b[22m\u001b[39m\u001b[36m\u001b[1mInfo: \u001b[22m\u001b[39mGpABC SMC simulation accepted 691/3000 particles.\n",
      "\u001b[36m\u001b[1m[ \u001b[22m\u001b[39m\u001b[36m\u001b[1mInfo: \u001b[22m\u001b[39mGpABC SMC simulation accepted 902/4000 particles.\n",
      "\u001b[36m\u001b[1m[ \u001b[22m\u001b[39m\u001b[36m\u001b[1mInfo: \u001b[22m\u001b[39mGpABC SMC simulation ϵ = 20.0\n",
      "\u001b[36m\u001b[1m[ \u001b[22m\u001b[39m\u001b[36m\u001b[1mInfo: \u001b[22m\u001b[39mGpABC SMC simulation accepted 248/1000 particles.\n",
      "\u001b[36m\u001b[1m[ \u001b[22m\u001b[39m\u001b[36m\u001b[1mInfo: \u001b[22m\u001b[39mGpABC SMC simulation accepted 487/2000 particles.\n",
      "\u001b[36m\u001b[1m[ \u001b[22m\u001b[39m\u001b[36m\u001b[1mInfo: \u001b[22m\u001b[39mGpABC SMC simulation accepted 731/3000 particles.\n",
      "\u001b[36m\u001b[1m[ \u001b[22m\u001b[39m\u001b[36m\u001b[1mInfo: \u001b[22m\u001b[39mGpABC SMC simulation accepted 993/4000 particles.\n",
      "\u001b[36m\u001b[1m[ \u001b[22m\u001b[39m\u001b[36m\u001b[1mInfo: \u001b[22m\u001b[39mGpABC SMC simulation ϵ = 10.0\n",
      "\u001b[36m\u001b[1m[ \u001b[22m\u001b[39m\u001b[36m\u001b[1mInfo: \u001b[22m\u001b[39mGpABC SMC simulation accepted 124/1000 particles.\n",
      "\u001b[36m\u001b[1m[ \u001b[22m\u001b[39m\u001b[36m\u001b[1mInfo: \u001b[22m\u001b[39mGpABC SMC simulation accepted 247/2000 particles.\n",
      "\u001b[36m\u001b[1m[ \u001b[22m\u001b[39m\u001b[36m\u001b[1mInfo: \u001b[22m\u001b[39mGpABC SMC simulation accepted 362/3000 particles.\n",
      "\u001b[36m\u001b[1m[ \u001b[22m\u001b[39m\u001b[36m\u001b[1mInfo: \u001b[22m\u001b[39mGpABC SMC simulation accepted 476/4000 particles.\n",
      "\u001b[36m\u001b[1m[ \u001b[22m\u001b[39m\u001b[36m\u001b[1mInfo: \u001b[22m\u001b[39mGpABC SMC simulation accepted 586/5000 particles.\n",
      "\u001b[36m\u001b[1m[ \u001b[22m\u001b[39m\u001b[36m\u001b[1mInfo: \u001b[22m\u001b[39mGpABC SMC simulation accepted 698/6000 particles.\n",
      "\u001b[36m\u001b[1m[ \u001b[22m\u001b[39m\u001b[36m\u001b[1mInfo: \u001b[22m\u001b[39mGpABC SMC simulation accepted 812/7000 particles.\n",
      "\u001b[36m\u001b[1m[ \u001b[22m\u001b[39m\u001b[36m\u001b[1mInfo: \u001b[22m\u001b[39mGpABC SMC simulation accepted 930/8000 particles.\n",
      "\u001b[36m\u001b[1m[ \u001b[22m\u001b[39m\u001b[36m\u001b[1mInfo: \u001b[22m\u001b[39mGpABC SMC simulation ϵ = 5.0\n",
      "\u001b[36m\u001b[1m[ \u001b[22m\u001b[39m\u001b[36m\u001b[1mInfo: \u001b[22m\u001b[39mGpABC SMC simulation accepted 35/1000 particles.\n",
      "\u001b[36m\u001b[1m[ \u001b[22m\u001b[39m\u001b[36m\u001b[1mInfo: \u001b[22m\u001b[39mGpABC SMC simulation accepted 72/2000 particles.\n",
      "\u001b[36m\u001b[1m[ \u001b[22m\u001b[39m\u001b[36m\u001b[1mInfo: \u001b[22m\u001b[39mGpABC SMC simulation accepted 126/3000 particles.\n",
      "\u001b[36m\u001b[1m[ \u001b[22m\u001b[39m\u001b[36m\u001b[1mInfo: \u001b[22m\u001b[39mGpABC SMC simulation accepted 152/4000 particles.\n",
      "\u001b[36m\u001b[1m[ \u001b[22m\u001b[39m\u001b[36m\u001b[1mInfo: \u001b[22m\u001b[39mGpABC SMC simulation accepted 185/5000 particles.\n",
      "\u001b[36m\u001b[1m[ \u001b[22m\u001b[39m\u001b[36m\u001b[1mInfo: \u001b[22m\u001b[39mGpABC SMC simulation accepted 223/6000 particles.\n",
      "\u001b[36m\u001b[1m[ \u001b[22m\u001b[39m\u001b[36m\u001b[1mInfo: \u001b[22m\u001b[39mGpABC SMC simulation accepted 266/7000 particles.\n",
      "\u001b[36m\u001b[1m[ \u001b[22m\u001b[39m\u001b[36m\u001b[1mInfo: \u001b[22m\u001b[39mGpABC SMC simulation accepted 306/8000 particles.\n",
      "\u001b[36m\u001b[1m[ \u001b[22m\u001b[39m\u001b[36m\u001b[1mInfo: \u001b[22m\u001b[39mGpABC SMC simulation accepted 336/9000 particles.\n",
      "\u001b[36m\u001b[1m[ \u001b[22m\u001b[39m\u001b[36m\u001b[1mInfo: \u001b[22m\u001b[39mGpABC SMC simulation accepted 369/10000 particles.\n",
      "\u001b[36m\u001b[1m[ \u001b[22m\u001b[39m\u001b[36m\u001b[1mInfo: \u001b[22m\u001b[39mGpABC SMC simulation accepted 405/11000 particles.\n",
      "\u001b[36m\u001b[1m[ \u001b[22m\u001b[39m\u001b[36m\u001b[1mInfo: \u001b[22m\u001b[39mGpABC SMC simulation accepted 447/12000 particles.\n",
      "\u001b[36m\u001b[1m[ \u001b[22m\u001b[39m\u001b[36m\u001b[1mInfo: \u001b[22m\u001b[39mGpABC SMC simulation accepted 483/13000 particles.\n",
      "\u001b[36m\u001b[1m[ \u001b[22m\u001b[39m\u001b[36m\u001b[1mInfo: \u001b[22m\u001b[39mGpABC SMC simulation accepted 521/14000 particles.\n",
      "\u001b[36m\u001b[1m[ \u001b[22m\u001b[39m\u001b[36m\u001b[1mInfo: \u001b[22m\u001b[39mGpABC SMC simulation accepted 552/15000 particles.\n",
      "\u001b[36m\u001b[1m[ \u001b[22m\u001b[39m\u001b[36m\u001b[1mInfo: \u001b[22m\u001b[39mGpABC SMC simulation accepted 579/16000 particles.\n",
      "\u001b[36m\u001b[1m[ \u001b[22m\u001b[39m\u001b[36m\u001b[1mInfo: \u001b[22m\u001b[39mGpABC SMC simulation accepted 616/17000 particles.\n",
      "\u001b[36m\u001b[1m[ \u001b[22m\u001b[39m\u001b[36m\u001b[1mInfo: \u001b[22m\u001b[39mGpABC SMC simulation accepted 662/18000 particles.\n",
      "\u001b[36m\u001b[1m[ \u001b[22m\u001b[39m\u001b[36m\u001b[1mInfo: \u001b[22m\u001b[39mGpABC SMC simulation accepted 706/19000 particles.\n",
      "\u001b[36m\u001b[1m[ \u001b[22m\u001b[39m\u001b[36m\u001b[1mInfo: \u001b[22m\u001b[39mGpABC SMC simulation accepted 741/20000 particles.\n",
      "\u001b[36m\u001b[1m[ \u001b[22m\u001b[39m\u001b[36m\u001b[1mInfo: \u001b[22m\u001b[39mGpABC SMC simulation accepted 764/21000 particles.\n",
      "\u001b[36m\u001b[1m[ \u001b[22m\u001b[39m\u001b[36m\u001b[1mInfo: \u001b[22m\u001b[39mGpABC SMC simulation accepted 799/22000 particles.\n"
     ]
    }
   ],
   "source": [
    "sim_abcsmc_res_3 = SimulatedABCSMC(reshape([cyto_means[3],nuc_FFs[3],cyto_FFs[3]],(3,1)),\n",
    "    simulator_fn_3,\n",
    "    priors_3,\n",
    "    threshold_schedule_3,\n",
    "    n_particles; \n",
    "    max_iter=convert(Int, 1e5),\n",
    "    distance_function = new_distance,\n",
    "    write_progress=true);"
   ]
  },
  {
   "cell_type": "markdown",
   "id": "388b8903",
   "metadata": {},
   "source": [
    "Quick look at the results..."
   ]
  },
  {
   "cell_type": "code",
   "execution_count": null,
   "id": "5e11e4f0",
   "metadata": {},
   "outputs": [],
   "source": [
    "plot(sim_abcsmc_res_3, population_colors=population_colors)"
   ]
  },
  {
   "cell_type": "markdown",
   "id": "86b767c1",
   "metadata": {},
   "source": [
    "Save these results using the JLD package."
   ]
  },
  {
   "cell_type": "code",
   "execution_count": null,
   "id": "29d37caa",
   "metadata": {},
   "outputs": [],
   "source": [
    "save(\"./ABC-new/ABC-redo/mad1endog/S3R3.jld\", \"ABC\", sim_abcsmc_res_3)"
   ]
  },
  {
   "cell_type": "markdown",
   "id": "4f5b5331",
   "metadata": {},
   "source": [
    "Let's collect the important aspects of this ABC for analysis. We want:\n",
    "- 1. The parameter values of the accepted particles.\n",
    "- 2. The acceptance rate for the final threshold.\n",
    "\n",
    "Note the different field names are: `n_accepted`, `n_tries`, `threshold_schedule`, `population`, `distances`, `weights`."
   ]
  },
  {
   "cell_type": "code",
   "execution_count": null,
   "id": "7a148d4b",
   "metadata": {},
   "outputs": [],
   "source": [
    "acc_rate = sim_abcsmc_res_3.n_accepted[end]/sim_abcsmc_res_3.n_tries[end]"
   ]
  },
  {
   "cell_type": "markdown",
   "id": "b6af5736",
   "metadata": {},
   "source": [
    "So the acceptance rate at the final threshold was around 0.2. Let's now look at the mean and standard deviations of the predicted values of $k_A$, $k_B$ and $k_C$ from the population."
   ]
  },
  {
   "cell_type": "code",
   "execution_count": null,
   "id": "bf553bbc",
   "metadata": {
    "scrolled": true
   },
   "outputs": [],
   "source": [
    "pop = sim_abcsmc_res_3.population[end];"
   ]
  },
  {
   "cell_type": "code",
   "execution_count": null,
   "id": "75ebbf5a",
   "metadata": {},
   "outputs": [],
   "source": [
    "kA = pop[:,1]; kB = pop[:,2]; kC = pop[:,3];"
   ]
  },
  {
   "cell_type": "code",
   "execution_count": null,
   "id": "0299cfe5",
   "metadata": {},
   "outputs": [],
   "source": [
    "kAmed = median(kA)"
   ]
  },
  {
   "cell_type": "code",
   "execution_count": null,
   "id": "ffb273d9",
   "metadata": {},
   "outputs": [],
   "source": [
    "kAstd = std(kA)"
   ]
  },
  {
   "cell_type": "code",
   "execution_count": null,
   "id": "3022adf9",
   "metadata": {},
   "outputs": [],
   "source": [
    "kBmed = median(kB)"
   ]
  },
  {
   "cell_type": "code",
   "execution_count": null,
   "id": "786e045b",
   "metadata": {},
   "outputs": [],
   "source": [
    "kBstd = std(kB)"
   ]
  },
  {
   "cell_type": "code",
   "execution_count": null,
   "id": "8d6933ea",
   "metadata": {},
   "outputs": [],
   "source": [
    "kCmed = median(kC)"
   ]
  },
  {
   "cell_type": "code",
   "execution_count": null,
   "id": "3d2d92fb",
   "metadata": {},
   "outputs": [],
   "source": [
    "kCstd = std(kC)"
   ]
  },
  {
   "cell_type": "markdown",
   "id": "5b881f53",
   "metadata": {},
   "source": [
    "Let's make some nice plots of these (the three histograms followed by the joint uncertainty plots as a 2D hist)."
   ]
  },
  {
   "cell_type": "code",
   "execution_count": null,
   "id": "d8d2b4be",
   "metadata": {},
   "outputs": [],
   "source": [
    "h1 = stephist(kA, fill = true, fillalpha = 0.5, color = cpal[1], label = :none, norm = true, titlelocation = :left)\n",
    "plot!(grid = false, minorgrid = false, legend = :topright, size = (450,400), xlabel = L\"k_A\", title = \"(a)\", ylims = [0,3.5])\n",
    "plot!([kAmed,kAmed],[0,100], style = :dash, color = :black, label = L\"$k_C$ median\");"
   ]
  },
  {
   "cell_type": "code",
   "execution_count": null,
   "id": "a1453533",
   "metadata": {},
   "outputs": [],
   "source": [
    "h2 = stephist(kB, fill = true, fillalpha = 0.5, color = cpal[2], label = :none, norm = true, titlelocation = :left)\n",
    "plot!(grid = false, minorgrid = false, legend = :topright, size = (450,400), xlabel = L\"k_B\", title = \"(b)\", ylims = [0,0.3])\n",
    "plot!([kBmed,kBmed],[0,1.2], style = :dash, color = :black, label = L\"$k_B$ median\");"
   ]
  },
  {
   "cell_type": "code",
   "execution_count": null,
   "id": "0042235b",
   "metadata": {},
   "outputs": [],
   "source": [
    "h3 = stephist(kC, fill = true, fillalpha = 0.5, color = cpal[3], label = :none, norm = true, titlelocation = :left)\n",
    "plot!(grid = false, minorgrid = false, legend = :topright, size = (450,400), xlabel = L\"k_C\", \n",
    "        title = \"(c)\", ylims = [0,0.025])\n",
    "plot!([kCmed,kCmed],[0,2], style = :dash, color = :black, label = L\"$k_C$ median\");"
   ]
  },
  {
   "cell_type": "code",
   "execution_count": null,
   "id": "9dfa437e",
   "metadata": {},
   "outputs": [],
   "source": [
    "c1 = plot(h1, h2, h3, layout = (1,3), size = (1000, 300), bottom_margin = 5mm, top_margin = 5mm);"
   ]
  },
  {
   "cell_type": "code",
   "execution_count": null,
   "id": "84356b2d",
   "metadata": {},
   "outputs": [],
   "source": [
    "p1 = histogram2d(kA, kB, color=:tol_muted, show_empty_bins=true, titlelocation = :left, \n",
    "    bins = (collect(minimum(kA):(maximum(kA)-minimum(kA))/15:maximum(kA)), collect(minimum(kB):(maximum(kB)-minimum(kB))/15:maximum(kB))))\n",
    "plot!(grid = false, minorgrid = false, legend = :topright, size = (450,400), \n",
    "    xlabel = L\"k_A\", ylabel = L\"k_B\", title = \"(d)\");"
   ]
  },
  {
   "cell_type": "code",
   "execution_count": null,
   "id": "9c46832b",
   "metadata": {},
   "outputs": [],
   "source": [
    "p2 = histogram2d(kA, kC, color=:tol_muted, show_empty_bins=true, titlelocation = :left, \n",
    "    bins = (collect(minimum(kA):(maximum(kA)-minimum(kA))/15:maximum(kA)), collect(minimum(kC):(maximum(kC)-minimum(kC))/15:maximum(kC))))\n",
    "plot!(grid = false, minorgrid = false, legend = :topright, size = (450,400), \n",
    "    xlabel = L\"k_A\", ylabel = L\"k_C\", title = \"(e)\");"
   ]
  },
  {
   "cell_type": "code",
   "execution_count": null,
   "id": "e9a109a3",
   "metadata": {},
   "outputs": [],
   "source": [
    "p3 = histogram2d(kB, kC, color=:tol_muted, show_empty_bins=true, titlelocation = :left, \n",
    "    bins = (collect(minimum(kB):(maximum(kB)-minimum(kB))/15:maximum(kB)), collect(minimum(kC):(maximum(kC)-minimum(kC))/15:maximum(kC))))\n",
    "plot!(grid = false, minorgrid = false, legend = :topright, size = (450,400), \n",
    "    xlabel = L\"k_B\", ylabel = L\"k_C\", title = \"(f)\");"
   ]
  },
  {
   "cell_type": "code",
   "execution_count": null,
   "id": "55777c28",
   "metadata": {},
   "outputs": [],
   "source": [
    "c2 = plot(p1, p2, p3, layout = (1,3), size = (1000, 300), bottom_margin = 5mm, top_margin = 5mm, left_margin = 5.0mm, right_margin = -10mm);"
   ]
  },
  {
   "cell_type": "code",
   "execution_count": null,
   "id": "c72cf21a",
   "metadata": {},
   "outputs": [],
   "source": [
    "plot(c1,c2, layout = (2,1), size = (1000,600), plot_title=L\"mad1-endog: $S=R=3$\")\n",
    "# savefig(\"./ABC-new/figs/mad1endog/S3_R3.pdf\")"
   ]
  },
  {
   "cell_type": "markdown",
   "id": "436f0762",
   "metadata": {},
   "source": [
    "Check if the moments replicate those from the original data."
   ]
  },
  {
   "cell_type": "code",
   "execution_count": null,
   "id": "c637ebe2",
   "metadata": {},
   "outputs": [],
   "source": [
    "[cyto_means[3],nuc_FFs[3],cyto_FFs[3]]"
   ]
  },
  {
   "cell_type": "code",
   "execution_count": null,
   "id": "cf9a6548",
   "metadata": {},
   "outputs": [],
   "source": [
    "mean([simulator_fn_3([kAmed,kBmed,kCmed]) for i in 1:100])"
   ]
  },
  {
   "cell_type": "markdown",
   "id": "2f28ca77",
   "metadata": {},
   "source": [
    "So, pretty good overall."
   ]
  },
  {
   "cell_type": "code",
   "execution_count": null,
   "id": "a68260d7",
   "metadata": {},
   "outputs": [],
   "source": []
  }
 ],
 "metadata": {
  "kernelspec": {
   "display_name": "Julia 1.8.5",
   "language": "julia",
   "name": "julia-1.8"
  },
  "language_info": {
   "file_extension": ".jl",
   "mimetype": "application/julia",
   "name": "julia",
   "version": "1.8.5"
  }
 },
 "nbformat": 4,
 "nbformat_minor": 5
}
