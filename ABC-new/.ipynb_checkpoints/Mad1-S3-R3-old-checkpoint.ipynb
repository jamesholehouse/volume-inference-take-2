{
 "cells": [
  {
   "cell_type": "markdown",
   "id": "1d6439d8",
   "metadata": {},
   "source": [
    "# Mad1 inference new objective function "
   ]
  },
  {
   "cell_type": "markdown",
   "id": "8d83e87c",
   "metadata": {},
   "source": [
    "Import the relevant packages and simulations."
   ]
  },
  {
   "cell_type": "code",
   "execution_count": 1,
   "id": "156cb2bf",
   "metadata": {},
   "outputs": [],
   "source": [
    "using Random, Plots, LaTeXStrings, Distributions, StatsBase, DataFrames, CSV, Plots.PlotMeasures, Revise, GpABC, JLD2"
   ]
  },
  {
   "cell_type": "code",
   "execution_count": 2,
   "id": "106c6ae5",
   "metadata": {},
   "outputs": [],
   "source": [
    "Plots.theme(:dao)\n",
    "Plots.gr_cbar_width[] = 0.01;"
   ]
  },
  {
   "cell_type": "code",
   "execution_count": 5,
   "id": "e0c8fe24",
   "metadata": {},
   "outputs": [
    {
     "name": "stderr",
     "output_type": "stream",
     "text": [
      "WARNING: replacing module SSAnonVD.\n"
     ]
    }
   ],
   "source": [
    "Revise.track(\"/users/jamesh/GitHub/volume-inference-take-2/SSA-basic.jl\")\n",
    "include(\"/users/jamesh/GitHub/volume-inference-take-2/SSA-basic.jl\")\n",
    "using .SSAnonVD"
   ]
  },
  {
   "cell_type": "markdown",
   "id": "306299b2",
   "metadata": {},
   "source": [
    "Define a nice colorblind color scheme."
   ]
  },
  {
   "cell_type": "code",
   "execution_count": 6,
   "id": "298a556c",
   "metadata": {},
   "outputs": [
    {
     "data": {
      "image/svg+xml": [
       "<?xml version=\"1.0\" encoding=\"UTF-8\"?>\n",
       "<!DOCTYPE svg PUBLIC \"-//W3C//DTD SVG 1.1//EN\"\n",
       " \"http://www.w3.org/Graphics/SVG/1.1/DTD/svg11.dtd\">\n",
       "<svg xmlns=\"http://www.w3.org/2000/svg\" version=\"1.1\"\n",
       "     width=\"175mm\" height=\"25mm\" viewBox=\"0 0 7 1\" stroke=\"none\"\n",
       "     preserveAspectRatio=\"none\" shape-rendering=\"crispEdges\">\n",
       "<defs>\n",
       "    <pattern id=\"pat_4ROueB\" width=\".2\" height=\".2\"\n",
       "             patternUnits=\"userSpaceOnUse\" >\n",
       "        <path d=\"M.1,0h.1v.1h-.2v.1h.1z\" fill=\"#999\" opacity=\".5\" />\n",
       "    </pattern>\n",
       "</defs>\n",
       "<rect width=\"7\" height=\"1\" fill=\"url(#pat_4ROueB)\" />\n",
       "<path d=\"M1,0v1h-1z\" fill=\"#7EC7E2\" />\n",
       "<path d=\"M0,0h1v1h-1z\" fill=\"#7EC7E2\" fill-opacity=\"1\" />\n",
       "<path d=\"M2,0v1h-1z\" fill=\"#359B7C\" />\n",
       "<path d=\"M1,0h1v1h-1z\" fill=\"#359B7C\" fill-opacity=\"1\" />\n",
       "<path d=\"M3,0v1h-1z\" fill=\"#4B8633\" />\n",
       "<path d=\"M2,0h1v1h-1z\" fill=\"#4B8633\" fill-opacity=\"1\" />\n",
       "<path d=\"M4,0v1h-1z\" fill=\"#C0B65A\" />\n",
       "<path d=\"M3,0h1v1h-1z\" fill=\"#C0B65A\" fill-opacity=\"1\" />\n",
       "<path d=\"M5,0v1h-1z\" fill=\"#D18377\" />\n",
       "<path d=\"M4,0h1v1h-1z\" fill=\"#D18377\" fill-opacity=\"1\" />\n",
       "<path d=\"M6,0v1h-1z\" fill=\"#922C5A\" />\n",
       "<path d=\"M5,0h1v1h-1z\" fill=\"#922C5A\" fill-opacity=\"1\" />\n",
       "<path d=\"M7,0v1h-1z\" fill=\"#AA4499\" />\n",
       "<path d=\"M6,0h1v1h-1z\" fill=\"#AA4499\" fill-opacity=\"1\" />\n",
       "</svg>"
      ],
      "text/plain": [
       "7-element Array{RGBA{Float64},1} with eltype RGBA{Float64}:\n",
       " RGBA{Float64}(0.49523809523809526,0.7809523809523811,0.8857142857142857,1.0)\n",
       " RGBA{Float64}(0.20952380952380956,0.6095238095238096,0.48571428571428577,1.0)\n",
       " RGBA{Float64}(0.29523809523809535,0.5238095238095238,0.2,1.0)\n",
       " RGBA{Float64}(0.7523809523809524,0.7142857142857142,0.35238095238095235,1.0)\n",
       " RGBA{Float64}(0.819047619047619,0.5142857142857142,0.4666666666666667,1.0)\n",
       " RGBA{Float64}(0.5714285714285715,0.17142857142857154,0.35238095238095246,1.0)\n",
       " RGBA{Float64}(0.6666666666666666,0.26666666666666666,0.6,1.0)"
      ]
     },
     "execution_count": 6,
     "metadata": {},
     "output_type": "execute_result"
    }
   ],
   "source": [
    "pal = cgrad(:tol_muted);\n",
    "cpal = [pal[i] for i in 1/7:1/7:1.0]\n",
    "population_colors = cpal"
   ]
  },
  {
   "cell_type": "markdown",
   "id": "e853ff48",
   "metadata": {},
   "source": [
    "Import the data."
   ]
  },
  {
   "cell_type": "code",
   "execution_count": 7,
   "id": "889509da",
   "metadata": {},
   "outputs": [],
   "source": [
    "df_nuc = DataFrame(CSV.File(\"/users/jamesh/GitHub/volume-inference-take-2/data/nuclear-vol-corr.csv\"));\n",
    "df_cyto = DataFrame(CSV.File(\"/users/jamesh/GitHub/volume-inference-take-2/data/cyto-vol-corr.csv\"));\n",
    "delete!(df_nuc, 2);\n",
    "delete!(df_cyto, 2);"
   ]
  },
  {
   "cell_type": "code",
   "execution_count": 8,
   "id": "8d7c2423",
   "metadata": {},
   "outputs": [],
   "source": [
    "gnames = df_cyto[!,\"gene\"]\n",
    "Ns = df_nuc[!,\"N\"];\n",
    "cyto_means = df_cyto[!,\"Mean\"];\n",
    "nuc_FFs = df_nuc[!,\"FF\"];\n",
    "cyto_FFs = df_cyto[!,\"FF\"];"
   ]
  },
  {
   "cell_type": "markdown",
   "id": "93bb8ad3",
   "metadata": {},
   "source": [
    "Mad1-endog is the third gene in `gnames`."
   ]
  },
  {
   "cell_type": "code",
   "execution_count": 9,
   "id": "b0b37990",
   "metadata": {},
   "outputs": [],
   "source": [
    "mad1N = Ns[3]; mad1cyto = cyto_means[3]; mad1FFn = nuc_FFs[3]; mad1FFc = cyto_FFs[3];"
   ]
  },
  {
   "cell_type": "markdown",
   "id": "27539e19",
   "metadata": {},
   "source": [
    "Define the timescales necessary to predict the steady-state time. `sim_time` defines the point at which the steady state is assumed to be reached."
   ]
  },
  {
   "cell_type": "code",
   "execution_count": 10,
   "id": "2257d9bc",
   "metadata": {},
   "outputs": [],
   "source": [
    "tdeg = 1;\n",
    "texpt(kA,kB,kC,S,R) = 1/kC;\n",
    "tinit(kA,kB,kC,S,R) = (1/kB)+(S-1)/kA;"
   ]
  },
  {
   "cell_type": "code",
   "execution_count": 11,
   "id": "65cdc12b",
   "metadata": {},
   "outputs": [
    {
     "data": {
      "text/plain": [
       "sim_time (generic function with 1 method)"
      ]
     },
     "execution_count": 11,
     "metadata": {},
     "output_type": "execute_result"
    }
   ],
   "source": [
    "function sim_time(pars)\n",
    "    kA, kB, kC = pars;\n",
    "    return 10*maximum([1,texpt(pars...,hypars...),tinit(pars...,hypars...)])\n",
    "end"
   ]
  },
  {
   "cell_type": "markdown",
   "id": "e6f643b3",
   "metadata": {},
   "source": [
    "Import the values from the bootstrapping for the distance function weighting. It is the inverse of these errors that multiples each square error (larger variance in the sample statistic gives it a lesser weighting in the objective function). "
   ]
  },
  {
   "cell_type": "code",
   "execution_count": 13,
   "id": "1178620a",
   "metadata": {},
   "outputs": [
    {
     "data": {
      "text/html": [
       "<div><div style = \"float: left;\"><span>10×12 DataFrame</span></div><div style = \"clear: both;\"></div></div><div class = \"data-frame\" style = \"overflow-x: scroll;\"><table class = \"data-frame\" style = \"margin-bottom: 6px;\"><thead><tr class = \"header\"><th class = \"rowNumber\" style = \"font-weight: bold; text-align: right;\">Row</th><th style = \"text-align: left;\">gene</th><th style = \"text-align: left;\">meanRNA_Cytoplasm</th><th style = \"text-align: left;\">FF_Nucleus</th><th style = \"text-align: left;\">FF_Cytoplasm</th><th style = \"text-align: left;\">varmeanRNA_Cytoplasm</th><th style = \"text-align: left;\">varFF_Nucleus</th><th style = \"text-align: left;\">varFF_Cytoplasm</th><th style = \"text-align: left;\">nCells</th><th style = \"text-align: left;\">CellSizeVar</th><th style = \"text-align: left;\">CountMethod</th><th style = \"text-align: left;\">NucleiCount</th><th style = \"text-align: left;\">gene.short</th></tr><tr class = \"subheader headerLastRow\"><th class = \"rowNumber\" style = \"font-weight: bold; text-align: right;\"></th><th title = \"String31\" style = \"text-align: left;\">String31</th><th title = \"Float64\" style = \"text-align: left;\">Float64</th><th title = \"Float64\" style = \"text-align: left;\">Float64</th><th title = \"Float64\" style = \"text-align: left;\">Float64</th><th title = \"Float64\" style = \"text-align: left;\">Float64</th><th title = \"Float64\" style = \"text-align: left;\">Float64</th><th title = \"Float64\" style = \"text-align: left;\">Float64</th><th title = \"Int64\" style = \"text-align: left;\">Int64</th><th title = \"String15\" style = \"text-align: left;\">String15</th><th title = \"String15\" style = \"text-align: left;\">String15</th><th title = \"Int64\" style = \"text-align: left;\">Int64</th><th title = \"String31\" style = \"text-align: left;\">String31</th></tr></thead><tbody><tr><td class = \"rowNumber\" style = \"font-weight: bold; text-align: right;\">1</td><td style = \"text-align: left;\">mad1endog</td><td style = \"text-align: right;\">1.74188</td><td style = \"text-align: right;\">0.927854</td><td style = \"text-align: right;\">0.61919</td><td style = \"text-align: right;\">0.000915275</td><td style = \"text-align: right;\">0.000922993</td><td style = \"text-align: right;\">0.000539189</td><td style = \"text-align: right;\">1382</td><td style = \"text-align: left;\">Cell_Length_um</td><td style = \"text-align: left;\">HybridCount</td><td style = \"text-align: right;\">1</td><td style = \"text-align: left;\">mad1</td></tr><tr><td class = \"rowNumber\" style = \"font-weight: bold; text-align: right;\">2</td><td style = \"text-align: left;\">mad1WTymEGFP</td><td style = \"text-align: right;\">2.85198</td><td style = \"text-align: right;\">0.981871</td><td style = \"text-align: right;\">0.65653</td><td style = \"text-align: right;\">0.0011888</td><td style = \"text-align: right;\">0.000842575</td><td style = \"text-align: right;\">0.000471416</td><td style = \"text-align: right;\">2155</td><td style = \"text-align: left;\">Cell_Length_um</td><td style = \"text-align: left;\">HybridCount</td><td style = \"text-align: right;\">1</td><td style = \"text-align: left;\">mad1-GFP</td></tr><tr><td class = \"rowNumber\" style = \"font-weight: bold; text-align: right;\">3</td><td style = \"text-align: left;\">mad2WTymEGFP</td><td style = \"text-align: right;\">2.89682</td><td style = \"text-align: right;\">0.843934</td><td style = \"text-align: right;\">0.823882</td><td style = \"text-align: right;\">0.00097598</td><td style = \"text-align: right;\">0.000468468</td><td style = \"text-align: right;\">0.000465426</td><td style = \"text-align: right;\">3064</td><td style = \"text-align: left;\">Cell_Length_um</td><td style = \"text-align: left;\">HybridCount</td><td style = \"text-align: right;\">1</td><td style = \"text-align: left;\">mad2-GFP</td></tr><tr><td class = \"rowNumber\" style = \"font-weight: bold; text-align: right;\">4</td><td style = \"text-align: left;\">mad3WTymEGFP</td><td style = \"text-align: right;\">3.51958</td><td style = \"text-align: right;\">0.973071</td><td style = \"text-align: right;\">0.70773</td><td style = \"text-align: right;\">0.00140474</td><td style = \"text-align: right;\">0.000597573</td><td style = \"text-align: right;\">0.000494119</td><td style = \"text-align: right;\">2660</td><td style = \"text-align: left;\">Cell_Length_um</td><td style = \"text-align: left;\">HybridCount</td><td style = \"text-align: right;\">1</td><td style = \"text-align: left;\">mad3-GFP</td></tr><tr><td class = \"rowNumber\" style = \"font-weight: bold; text-align: right;\">5</td><td style = \"text-align: left;\">bub1WTymEGFP</td><td style = \"text-align: right;\">4.40106</td><td style = \"text-align: right;\">0.951047</td><td style = \"text-align: right;\">0.619662</td><td style = \"text-align: right;\">0.00281702</td><td style = \"text-align: right;\">0.00150485</td><td style = \"text-align: right;\">0.0007822</td><td style = \"text-align: right;\">1142</td><td style = \"text-align: left;\">Cell_Length_um</td><td style = \"text-align: left;\">HybridCount</td><td style = \"text-align: right;\">1</td><td style = \"text-align: left;\">bub1-GFP</td></tr><tr><td class = \"rowNumber\" style = \"font-weight: bold; text-align: right;\">6</td><td style = \"text-align: left;\">sep1WTymEGFP-hph</td><td style = \"text-align: right;\">5.42775</td><td style = \"text-align: right;\">0.863251</td><td style = \"text-align: right;\">0.87657</td><td style = \"text-align: right;\">0.00847755</td><td style = \"text-align: right;\">0.00234728</td><td style = \"text-align: right;\">0.0025029</td><td style = \"text-align: right;\">589</td><td style = \"text-align: left;\">Cell_Length_um</td><td style = \"text-align: left;\">HybridCount</td><td style = \"text-align: right;\">1</td><td style = \"text-align: left;\">sep1-GFP</td></tr><tr><td class = \"rowNumber\" style = \"font-weight: bold; text-align: right;\">7</td><td style = \"text-align: left;\">rpb1endog</td><td style = \"text-align: right;\">17.8805</td><td style = \"text-align: right;\">0.824811</td><td style = \"text-align: right;\">0.646176</td><td style = \"text-align: right;\">0.0156431</td><td style = \"text-align: right;\">0.00110304</td><td style = \"text-align: right;\">0.000595443</td><td style = \"text-align: right;\">1425</td><td style = \"text-align: left;\">Cell_Length_um</td><td style = \"text-align: left;\">HybridCount</td><td style = \"text-align: right;\">1</td><td style = \"text-align: left;\">rpb1</td></tr><tr><td class = \"rowNumber\" style = \"font-weight: bold; text-align: right;\">8</td><td style = \"text-align: left;\">cdc13endog</td><td style = \"text-align: right;\">18.5235</td><td style = \"text-align: right;\">0.92621</td><td style = \"text-align: right;\">0.994492</td><td style = \"text-align: right;\">0.0449313</td><td style = \"text-align: right;\">0.00189396</td><td style = \"text-align: right;\">0.00422707</td><td style = \"text-align: right;\">1144</td><td style = \"text-align: left;\">Cell_Length_um</td><td style = \"text-align: left;\">HybridCount</td><td style = \"text-align: right;\">1</td><td style = \"text-align: left;\">cdc13</td></tr><tr><td class = \"rowNumber\" style = \"font-weight: bold; text-align: right;\">9</td><td style = \"text-align: left;\">SPAC2H1001WTymEGFP-hph</td><td style = \"text-align: right;\">3.24427</td><td style = \"text-align: right;\">2.19847</td><td style = \"text-align: right;\">4.08452</td><td style = \"text-align: right;\">0.0283231</td><td style = \"text-align: right;\">0.148131</td><td style = \"text-align: right;\">0.209223</td><td style = \"text-align: right;\">503</td><td style = \"text-align: left;\">Cell_Length_um</td><td style = \"text-align: left;\">HybridCount</td><td style = \"text-align: right;\">1</td><td style = \"text-align: left;\">SPAC2H10.01-GFP</td></tr><tr><td class = \"rowNumber\" style = \"font-weight: bold; text-align: right;\">10</td><td style = \"text-align: left;\">SPAC27D709cWTymEGFP-hph</td><td style = \"text-align: right;\">25.2452</td><td style = \"text-align: right;\">2.83368</td><td style = \"text-align: right;\">9.69815</td><td style = \"text-align: right;\">1.16535</td><td style = \"text-align: right;\">0.199025</td><td style = \"text-align: right;\">1.01159</td><td style = \"text-align: right;\">212</td><td style = \"text-align: left;\">Cell_Length_um</td><td style = \"text-align: left;\">HybridCount</td><td style = \"text-align: right;\">1</td><td style = \"text-align: left;\">SPAC27D7.09c-GFP</td></tr></tbody></table></div>"
      ],
      "text/latex": [
       "\\begin{tabular}{r|cccccc}\n",
       "\t& gene & meanRNA\\_Cytoplasm & FF\\_Nucleus & FF\\_Cytoplasm & varmeanRNA\\_Cytoplasm & \\\\\n",
       "\t\\hline\n",
       "\t& String31 & Float64 & Float64 & Float64 & Float64 & \\\\\n",
       "\t\\hline\n",
       "\t1 & mad1endog & 1.74188 & 0.927854 & 0.61919 & 0.000915275 & $\\dots$ \\\\\n",
       "\t2 & mad1WTymEGFP & 2.85198 & 0.981871 & 0.65653 & 0.0011888 & $\\dots$ \\\\\n",
       "\t3 & mad2WTymEGFP & 2.89682 & 0.843934 & 0.823882 & 0.00097598 & $\\dots$ \\\\\n",
       "\t4 & mad3WTymEGFP & 3.51958 & 0.973071 & 0.70773 & 0.00140474 & $\\dots$ \\\\\n",
       "\t5 & bub1WTymEGFP & 4.40106 & 0.951047 & 0.619662 & 0.00281702 & $\\dots$ \\\\\n",
       "\t6 & sep1WTymEGFP-hph & 5.42775 & 0.863251 & 0.87657 & 0.00847755 & $\\dots$ \\\\\n",
       "\t7 & rpb1endog & 17.8805 & 0.824811 & 0.646176 & 0.0156431 & $\\dots$ \\\\\n",
       "\t8 & cdc13endog & 18.5235 & 0.92621 & 0.994492 & 0.0449313 & $\\dots$ \\\\\n",
       "\t9 & SPAC2H1001WTymEGFP-hph & 3.24427 & 2.19847 & 4.08452 & 0.0283231 & $\\dots$ \\\\\n",
       "\t10 & SPAC27D709cWTymEGFP-hph & 25.2452 & 2.83368 & 9.69815 & 1.16535 & $\\dots$ \\\\\n",
       "\\end{tabular}\n"
      ],
      "text/plain": [
       "\u001b[1m10×12 DataFrame\u001b[0m\n",
       "\u001b[1m Row \u001b[0m│\u001b[1m gene                    \u001b[0m\u001b[1m meanRNA_Cytoplasm \u001b[0m\u001b[1m FF_Nucleus \u001b[0m\u001b[1m FF_Cytoplasm \u001b[0m\u001b[1m v\u001b[0m ⋯\n",
       "     │\u001b[90m String31                \u001b[0m\u001b[90m Float64           \u001b[0m\u001b[90m Float64    \u001b[0m\u001b[90m Float64      \u001b[0m\u001b[90m F\u001b[0m ⋯\n",
       "─────┼──────────────────────────────────────────────────────────────────────────\n",
       "   1 │ mad1endog                          1.74188    0.927854      0.61919     ⋯\n",
       "   2 │ mad1WTymEGFP                       2.85198    0.981871      0.65653\n",
       "   3 │ mad2WTymEGFP                       2.89682    0.843934      0.823882\n",
       "   4 │ mad3WTymEGFP                       3.51958    0.973071      0.70773\n",
       "   5 │ bub1WTymEGFP                       4.40106    0.951047      0.619662    ⋯\n",
       "   6 │ sep1WTymEGFP-hph                   5.42775    0.863251      0.87657\n",
       "   7 │ rpb1endog                         17.8805     0.824811      0.646176\n",
       "   8 │ cdc13endog                        18.5235     0.92621       0.994492\n",
       "   9 │ SPAC2H1001WTymEGFP-hph             3.24427    2.19847       4.08452     ⋯\n",
       "  10 │ SPAC27D709cWTymEGFP-hph           25.2452     2.83368       9.69815\n",
       "\u001b[36m                                                               8 columns omitted\u001b[0m"
      ]
     },
     "execution_count": 13,
     "metadata": {},
     "output_type": "execute_result"
    }
   ],
   "source": [
    "bootstrapping = DataFrame(CSV.File(\"/users/jamesh/GitHub/volume-inference-take-2/data/meanCyto_FF_withVar_forJames_230422.csv\"))"
   ]
  },
  {
   "cell_type": "code",
   "execution_count": 14,
   "id": "d390d018",
   "metadata": {},
   "outputs": [],
   "source": [
    "names(bootstrapping);"
   ]
  },
  {
   "cell_type": "markdown",
   "id": "bb17d5ca",
   "metadata": {},
   "source": [
    "Take the bootstrapped sample variances."
   ]
  },
  {
   "cell_type": "code",
   "execution_count": 15,
   "id": "78649fdf",
   "metadata": {},
   "outputs": [],
   "source": [
    "bs_cyto = bootstrapping[!,\"varmeanRNA_Cytoplasm\"][1]\n",
    "bs_ffn = bootstrapping[!,\"varFF_Nucleus\"][1]\n",
    "bs_ffc = bootstrapping[!,\"varFF_Cytoplasm\"][1];\n",
    "bs_vec = [bs_cyto, bs_ffn, bs_ffc];"
   ]
  },
  {
   "cell_type": "markdown",
   "id": "f917bc1a",
   "metadata": {},
   "source": [
    "Define the distance function."
   ]
  },
  {
   "cell_type": "code",
   "execution_count": 16,
   "id": "11458f3f",
   "metadata": {},
   "outputs": [
    {
     "data": {
      "text/plain": [
       "new_distance (generic function with 2 methods)"
      ]
     },
     "execution_count": 16,
     "metadata": {},
     "output_type": "execute_result"
    }
   ],
   "source": [
    "function new_distance(traj1::Matrix, traj2::Matrix)\n",
    "    return sum([bs_vec[i]^(-1)*((traj1[i]-traj2[i])/traj2[i])^2 for i in 1:length(traj1)])\n",
    "end\n",
    "function new_distance(traj1::Vector, traj2::Vector)\n",
    "    return sum([bs_vec[i]^(-1)*((traj1[i]-traj2[i])/traj2[i])^2 for i in 1:length(traj1)])\n",
    "end"
   ]
  },
  {
   "cell_type": "markdown",
   "id": "bdd91f55",
   "metadata": {},
   "source": [
    "# Let's do for $R=S=3$"
   ]
  },
  {
   "cell_type": "markdown",
   "id": "88748b80",
   "metadata": {},
   "source": [
    "Set the hyperparameters to $S=R=3$."
   ]
  },
  {
   "cell_type": "code",
   "execution_count": 17,
   "id": "fb1b0f9e",
   "metadata": {},
   "outputs": [
    {
     "data": {
      "text/plain": [
       "1.0"
      ]
     },
     "execution_count": 17,
     "metadata": {},
     "output_type": "execute_result"
    }
   ],
   "source": [
    "hypars = [3,3]; # [S,R]\n",
    "# pf defined for the priors (see SI).\n",
    "pf = (hypars[1]-1)/2"
   ]
  },
  {
   "cell_type": "code",
   "execution_count": 18,
   "id": "3e784dd7",
   "metadata": {},
   "outputs": [
    {
     "data": {
      "text/plain": [
       "\"mad1endog\""
      ]
     },
     "execution_count": 18,
     "metadata": {},
     "output_type": "execute_result"
    }
   ],
   "source": [
    "gnames[3]"
   ]
  },
  {
   "cell_type": "code",
   "execution_count": 19,
   "id": "e4721113",
   "metadata": {},
   "outputs": [
    {
     "data": {
      "text/plain": [
       "simulator_fn_3 (generic function with 1 method)"
      ]
     },
     "execution_count": 19,
     "metadata": {},
     "output_type": "execute_result"
    }
   ],
   "source": [
    "function simulator_fn_3(pars)\n",
    "    op = SSA(Ns[3], pars, hypars, sim_time(pars), sim_time(pars));\n",
    "    nuc_pop = op[1][:,2];\n",
    "    cyto_pop = op[2][:,2];\n",
    "    nuc_FF = var(nuc_pop)/mean(nuc_pop);\n",
    "    cyto_mean = 2*mean(cyto_pop);\n",
    "    cyto_FF = var(cyto_pop)/mean(cyto_pop);\n",
    "    # return the moments of interest\n",
    "    return reshape([cyto_mean, nuc_FF, cyto_FF],(3,1))\n",
    "end"
   ]
  },
  {
   "cell_type": "markdown",
   "id": "009fea90",
   "metadata": {},
   "source": [
    "Let's look at the value of the objective function for something close to an optimum value. This informs what our threshold schedule for the ABC will be."
   ]
  },
  {
   "cell_type": "code",
   "execution_count": 20,
   "id": "a16b7612",
   "metadata": {},
   "outputs": [
    {
     "data": {
      "text/plain": [
       "21.978681902536984"
      ]
     },
     "execution_count": 20,
     "metadata": {},
     "output_type": "execute_result"
    }
   ],
   "source": [
    "new_distance(simulator_fn_3([2.54,3.64,20.0]),reshape([cyto_means[3],nuc_FFs[3],cyto_FFs[3]],(3,1)))"
   ]
  },
  {
   "cell_type": "code",
   "execution_count": 21,
   "id": "6a1a68d9",
   "metadata": {},
   "outputs": [
    {
     "data": {
      "text/plain": [
       "7-element Vector{Float64}:\n",
       " 200.0\n",
       " 100.0\n",
       "  50.0\n",
       "  25.0\n",
       "  20.0\n",
       "  10.0\n",
       "   5.0"
      ]
     },
     "execution_count": 21,
     "metadata": {},
     "output_type": "execute_result"
    }
   ],
   "source": [
    "# ABC priors\n",
    "priors_3 = [Uniform(pf*0.5,pf*10.5), Uniform(0.5, 10.5), Uniform(0.5,100.5)]\n",
    "\n",
    "# number of particles\n",
    "n_particles = 1000\n",
    "\n",
    "# ABC hpars\n",
    "threshold_schedule_3 = [200.0, 100.0, 50.0, 25.0, 20.0, 10.0, 5.0]"
   ]
  },
  {
   "cell_type": "code",
   "execution_count": null,
   "id": "e6acb772",
   "metadata": {
    "scrolled": true
   },
   "outputs": [],
   "source": [
    "sim_abcsmc_res_3 = SimulatedABCSMC(reshape([cyto_means[3],nuc_FFs[3],cyto_FFs[3]],(3,1)),\n",
    "    simulator_fn_3,\n",
    "    priors_3,\n",
    "    threshold_schedule_3,\n",
    "    n_particles; \n",
    "    max_iter=convert(Int, 1e5),\n",
    "    distance_function = new_distance,\n",
    "    write_progress=true);"
   ]
  },
  {
   "cell_type": "markdown",
   "id": "88f20279",
   "metadata": {},
   "source": [
    "Quick look at the results..."
   ]
  },
  {
   "cell_type": "code",
   "execution_count": null,
   "id": "c52701e2",
   "metadata": {},
   "outputs": [],
   "source": [
    "plot(sim_abcsmc_res_3, population_colors=population_colors)"
   ]
  },
  {
   "cell_type": "markdown",
   "id": "8698029f",
   "metadata": {},
   "source": [
    "Save these results using the JLD package."
   ]
  },
  {
   "cell_type": "code",
   "execution_count": null,
   "id": "29d37caa",
   "metadata": {},
   "outputs": [],
   "source": [
    "save(\"./mad1endog/S3R3.jld2\", \"ABC\", sim_abcsmc_res_3)"
   ]
  },
  {
   "cell_type": "markdown",
   "id": "182dc1bb",
   "metadata": {},
   "source": [
    "Let's collect the important aspects of this ABC for analysis. We want:\n",
    "- 1. The parameter values of the accepted particles.\n",
    "- 2. The acceptance rate for the final threshold.\n",
    "\n",
    "Note the different field names are: `n_accepted`, `n_tries`, `threshold_schedule`, `population`, `distances`, `weights`."
   ]
  },
  {
   "cell_type": "code",
   "execution_count": null,
   "id": "42eea258",
   "metadata": {},
   "outputs": [],
   "source": [
    "acc_rate = sim_abcsmc_res_3.n_accepted[end]/sim_abcsmc_res_3.n_tries[end]"
   ]
  },
  {
   "cell_type": "markdown",
   "id": "081135ec",
   "metadata": {},
   "source": [
    "So the acceptance rate at the final threshold was around 0.2. Let's now look at the mean and standard deviations of the predicted values of $k_A$, $k_B$ and $k_C$ from the population."
   ]
  },
  {
   "cell_type": "code",
   "execution_count": null,
   "id": "e7ef73d6",
   "metadata": {
    "scrolled": true
   },
   "outputs": [],
   "source": [
    "pop = sim_abcsmc_res_3.population[end];"
   ]
  },
  {
   "cell_type": "code",
   "execution_count": null,
   "id": "e167cb72",
   "metadata": {},
   "outputs": [],
   "source": [
    "kA = pop[:,1]; kB = pop[:,2]; kC = pop[:,3];"
   ]
  },
  {
   "cell_type": "code",
   "execution_count": null,
   "id": "e15e6ecc",
   "metadata": {},
   "outputs": [],
   "source": [
    "kAmed = median(kA)"
   ]
  },
  {
   "cell_type": "code",
   "execution_count": null,
   "id": "a45e959c",
   "metadata": {},
   "outputs": [],
   "source": [
    "kAstd = std(kA)"
   ]
  },
  {
   "cell_type": "code",
   "execution_count": null,
   "id": "499e5995",
   "metadata": {},
   "outputs": [],
   "source": [
    "kBmed = median(kB)"
   ]
  },
  {
   "cell_type": "code",
   "execution_count": null,
   "id": "957693e4",
   "metadata": {},
   "outputs": [],
   "source": [
    "kBstd = std(kB)"
   ]
  },
  {
   "cell_type": "code",
   "execution_count": null,
   "id": "c4fb6418",
   "metadata": {},
   "outputs": [],
   "source": [
    "kCmed = median(kC)"
   ]
  },
  {
   "cell_type": "code",
   "execution_count": null,
   "id": "deeaa9cd",
   "metadata": {},
   "outputs": [],
   "source": [
    "kCstd = std(kC)"
   ]
  },
  {
   "cell_type": "markdown",
   "id": "ff5eb9dc",
   "metadata": {},
   "source": [
    "Let's make some nice plots of these (the three histograms followed by the joint uncertainty plots as a 2D hist)."
   ]
  },
  {
   "cell_type": "code",
   "execution_count": null,
   "id": "c4b16f25",
   "metadata": {},
   "outputs": [],
   "source": [
    "h1 = stephist(kA, fill = true, fillalpha = 0.5, color = cpal[1], label = :none, norm = true, titlelocation = :left)\n",
    "plot!(grid = false, minorgrid = false, legend = :topright, size = (450,400), xlabel = L\"k_A\", title = \"(a)\", ylims = [0,1.3])\n",
    "plot!([kAmed,kAmed],[0,100], style = :dash, color = :black, label = L\"$k_C$ median\");"
   ]
  },
  {
   "cell_type": "code",
   "execution_count": null,
   "id": "bb794ad1",
   "metadata": {},
   "outputs": [],
   "source": [
    "h2 = stephist(kB, fill = true, fillalpha = 0.5, color = cpal[2], label = :none, norm = true, titlelocation = :left)\n",
    "plot!(grid = false, minorgrid = false, legend = :topright, size = (450,400), xlabel = L\"k_B\", title = \"(b)\", ylims = [0,0.8])\n",
    "plot!([kBmed,kBmed],[0,1.2], style = :dash, color = :black, label = L\"$k_B$ median\");"
   ]
  },
  {
   "cell_type": "code",
   "execution_count": null,
   "id": "65b0cf04",
   "metadata": {},
   "outputs": [],
   "source": [
    "h3 = stephist(kC, fill = true, fillalpha = 0.5, color = cpal[3], label = :none, norm = true, titlelocation = :left)\n",
    "plot!(grid = false, minorgrid = false, legend = :topright, size = (450,400), xlabel = L\"k_C\", \n",
    "        title = \"(c)\", ylims = [0,0.023])\n",
    "plot!([kCmed,kCmed],[0,2], style = :dash, color = :black, label = L\"$k_C$ median\");"
   ]
  },
  {
   "cell_type": "code",
   "execution_count": null,
   "id": "e1cf069e",
   "metadata": {},
   "outputs": [],
   "source": [
    "c1 = plot(h1, h2, h3, layout = (1,3), size = (1000, 300), bottom_margin = 5mm, top_margin = 5mm);"
   ]
  },
  {
   "cell_type": "code",
   "execution_count": null,
   "id": "fccf9357",
   "metadata": {},
   "outputs": [],
   "source": [
    "p1 = histogram2d(kA, kB, color=:tol_muted, show_empty_bins=true, titlelocation = :left, \n",
    "    bins = (collect(minimum(kA):(maximum(kA)-minimum(kA))/20:maximum(kA)), collect(minimum(kB):(maximum(kB)-minimum(kB))/20:maximum(kB))))\n",
    "plot!(grid = false, minorgrid = false, legend = :topright, size = (450,400), \n",
    "    xlabel = L\"k_A\", ylabel = L\"k_B\", title = \"(d)\");"
   ]
  },
  {
   "cell_type": "code",
   "execution_count": null,
   "id": "11228f06",
   "metadata": {},
   "outputs": [],
   "source": [
    "p2 = histogram2d(kA, kC, color=:tol_muted, show_empty_bins=true, titlelocation = :left, \n",
    "    bins = (collect(minimum(kA):(maximum(kA)-minimum(kA))/20:maximum(kA)), collect(minimum(kC):(maximum(kC)-minimum(kC))/20:maximum(kC))))\n",
    "plot!(grid = false, minorgrid = false, legend = :topright, size = (450,400), \n",
    "    xlabel = L\"k_A\", ylabel = L\"k_C\", title = \"(e)\");"
   ]
  },
  {
   "cell_type": "code",
   "execution_count": null,
   "id": "095646f5",
   "metadata": {},
   "outputs": [],
   "source": [
    "p3 = histogram2d(kB, kC, color=:tol_muted, show_empty_bins=true, titlelocation = :left, \n",
    "    bins = (collect(minimum(kB):(maximum(kB)-minimum(kB))/20:maximum(kB)), collect(minimum(kC):(maximum(kC)-minimum(kC))/20:maximum(kC))))\n",
    "plot!(grid = false, minorgrid = false, legend = :topright, size = (450,400), \n",
    "    xlabel = L\"k_B\", ylabel = L\"k_C\", title = \"(f)\");"
   ]
  },
  {
   "cell_type": "code",
   "execution_count": null,
   "id": "ca7a92da",
   "metadata": {},
   "outputs": [],
   "source": [
    "c2 = plot(p1, p2, p3, layout = (1,3), size = (1000, 300), bottom_margin = 5mm, top_margin = 5mm, left_margin = 5.0mm, right_margin = -10mm);"
   ]
  },
  {
   "cell_type": "code",
   "execution_count": null,
   "id": "bb1f3be6",
   "metadata": {},
   "outputs": [],
   "source": [
    "plot(c1,c2, layout = (2,1), size = (1000,600), plot_title=L\"%$(gnames[3]): $S=R=3$\")\n",
    "# savefig(\"./ABC-new/figs/mad1endog/S3R3.pdf\")"
   ]
  },
  {
   "cell_type": "markdown",
   "id": "0723d760",
   "metadata": {},
   "source": [
    "Check if the moments replicate those from the original data."
   ]
  },
  {
   "cell_type": "code",
   "execution_count": null,
   "id": "a97bba39",
   "metadata": {},
   "outputs": [],
   "source": [
    "[cyto_means[3],nuc_FFs[3],cyto_FFs[3]]"
   ]
  },
  {
   "cell_type": "code",
   "execution_count": null,
   "id": "b3ac4a4a",
   "metadata": {},
   "outputs": [],
   "source": [
    "mean([simulator_fn_3([kAmed,kBmed,kCmed]) for i in 1:100])"
   ]
  },
  {
   "cell_type": "markdown",
   "id": "a32a60e7",
   "metadata": {},
   "source": [
    "So, pretty good overall."
   ]
  },
  {
   "cell_type": "code",
   "execution_count": null,
   "id": "c1fde5ab",
   "metadata": {},
   "outputs": [],
   "source": []
  },
  {
   "cell_type": "code",
   "execution_count": null,
   "id": "vulnerable-hamilton",
   "metadata": {},
   "outputs": [],
   "source": []
  }
 ],
 "metadata": {
  "kernelspec": {
   "display_name": "Julia 1.8.5",
   "language": "julia",
   "name": "julia-1.8"
  },
  "language_info": {
   "file_extension": ".jl",
   "mimetype": "application/julia",
   "name": "julia",
   "version": "1.8.5"
  }
 },
 "nbformat": 4,
 "nbformat_minor": 5
}
