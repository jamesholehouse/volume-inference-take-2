{
 "cells": [
  {
   "cell_type": "markdown",
   "id": "approximate-supervision",
   "metadata": {},
   "source": [
    "# Model selection for mad1endog"
   ]
  },
  {
   "cell_type": "code",
   "execution_count": 56,
   "id": "therapeutic-office",
   "metadata": {},
   "outputs": [],
   "source": [
    "using JLD2, Plots, LaTeXStrings, DataFrames"
   ]
  },
  {
   "cell_type": "markdown",
   "id": "waiting-median",
   "metadata": {},
   "source": [
    "Iterate over the possible model values of $S$ and $R$. This gives the orders of the acceptance rates in `ABCoutputs` that follows."
   ]
  },
  {
   "cell_type": "code",
   "execution_count": 48,
   "id": "optimum-leonard",
   "metadata": {},
   "outputs": [],
   "source": [
    "hypars = [[i,j] for i in 2:4 for j in 1:4];"
   ]
  },
  {
   "cell_type": "code",
   "execution_count": 54,
   "id": "further-front",
   "metadata": {},
   "outputs": [
    {
     "data": {
      "text/plain": [
       "12-element Vector{String}:\n",
       " \"S=2, R=1\"\n",
       " \"S=2, R=2\"\n",
       " \"S=2, R=3\"\n",
       " \"S=2, R=4\"\n",
       " \"S=3, R=1\"\n",
       " \"S=3, R=2\"\n",
       " \"S=3, R=3\"\n",
       " \"S=3, R=4\"\n",
       " \"S=4, R=1\"\n",
       " \"S=4, R=2\"\n",
       " \"S=4, R=3\"\n",
       " \"S=4, R=4\""
      ]
     },
     "execution_count": 54,
     "metadata": {},
     "output_type": "execute_result"
    }
   ],
   "source": [
    "labels = [\"S=$(i), R=$(j)\" for i in 2:4 for j in 1:4]"
   ]
  },
  {
   "cell_type": "markdown",
   "id": "approximate-subscription",
   "metadata": {},
   "source": [
    "Import all the outputs of the ABC sims."
   ]
  },
  {
   "cell_type": "code",
   "execution_count": 36,
   "id": "willing-passion",
   "metadata": {},
   "outputs": [
    {
     "name": "stderr",
     "output_type": "stream",
     "text": [
      "\u001b[33m\u001b[1m┌ \u001b[22m\u001b[39m\u001b[33m\u001b[1mWarning: \u001b[22m\u001b[39mtype GpABC.SimulatedABCSMCOutput does not exist in workspace; reconstructing\n",
      "\u001b[33m\u001b[1m└ \u001b[22m\u001b[39m\u001b[90m@ JLD2 ~/.julia/packages/JLD2/ryhNR/src/data/reconstructing_datatypes.jl:495\u001b[39m\n",
      "\u001b[33m\u001b[1m┌ \u001b[22m\u001b[39m\u001b[33m\u001b[1mWarning: \u001b[22m\u001b[39mtype GpABC.SimulatedABCSMCOutput does not exist in workspace; reconstructing\n",
      "\u001b[33m\u001b[1m└ \u001b[22m\u001b[39m\u001b[90m@ JLD2 ~/.julia/packages/JLD2/ryhNR/src/data/reconstructing_datatypes.jl:495\u001b[39m\n",
      "\u001b[33m\u001b[1m┌ \u001b[22m\u001b[39m\u001b[33m\u001b[1mWarning: \u001b[22m\u001b[39mtype GpABC.SimulatedABCSMCOutput does not exist in workspace; reconstructing\n",
      "\u001b[33m\u001b[1m└ \u001b[22m\u001b[39m\u001b[90m@ JLD2 ~/.julia/packages/JLD2/ryhNR/src/data/reconstructing_datatypes.jl:495\u001b[39m\n",
      "\u001b[33m\u001b[1m┌ \u001b[22m\u001b[39m\u001b[33m\u001b[1mWarning: \u001b[22m\u001b[39mtype GpABC.SimulatedABCSMCOutput does not exist in workspace; reconstructing\n",
      "\u001b[33m\u001b[1m└ \u001b[22m\u001b[39m\u001b[90m@ JLD2 ~/.julia/packages/JLD2/ryhNR/src/data/reconstructing_datatypes.jl:495\u001b[39m\n",
      "\u001b[33m\u001b[1m┌ \u001b[22m\u001b[39m\u001b[33m\u001b[1mWarning: \u001b[22m\u001b[39mtype GpABC.SimulatedABCSMCOutput does not exist in workspace; reconstructing\n",
      "\u001b[33m\u001b[1m└ \u001b[22m\u001b[39m\u001b[90m@ JLD2 ~/.julia/packages/JLD2/ryhNR/src/data/reconstructing_datatypes.jl:495\u001b[39m\n",
      "\u001b[33m\u001b[1m┌ \u001b[22m\u001b[39m\u001b[33m\u001b[1mWarning: \u001b[22m\u001b[39mtype GpABC.SimulatedABCSMCOutput does not exist in workspace; reconstructing\n",
      "\u001b[33m\u001b[1m└ \u001b[22m\u001b[39m\u001b[90m@ JLD2 ~/.julia/packages/JLD2/ryhNR/src/data/reconstructing_datatypes.jl:495\u001b[39m\n",
      "\u001b[33m\u001b[1m┌ \u001b[22m\u001b[39m\u001b[33m\u001b[1mWarning: \u001b[22m\u001b[39mtype GpABC.SimulatedABCSMCOutput does not exist in workspace; reconstructing\n",
      "\u001b[33m\u001b[1m└ \u001b[22m\u001b[39m\u001b[90m@ JLD2 ~/.julia/packages/JLD2/ryhNR/src/data/reconstructing_datatypes.jl:495\u001b[39m\n",
      "\u001b[33m\u001b[1m┌ \u001b[22m\u001b[39m\u001b[33m\u001b[1mWarning: \u001b[22m\u001b[39mtype GpABC.SimulatedABCSMCOutput does not exist in workspace; reconstructing\n",
      "\u001b[33m\u001b[1m└ \u001b[22m\u001b[39m\u001b[90m@ JLD2 ~/.julia/packages/JLD2/ryhNR/src/data/reconstructing_datatypes.jl:495\u001b[39m\n",
      "\u001b[33m\u001b[1m┌ \u001b[22m\u001b[39m\u001b[33m\u001b[1mWarning: \u001b[22m\u001b[39mtype GpABC.SimulatedABCSMCOutput does not exist in workspace; reconstructing\n",
      "\u001b[33m\u001b[1m└ \u001b[22m\u001b[39m\u001b[90m@ JLD2 ~/.julia/packages/JLD2/ryhNR/src/data/reconstructing_datatypes.jl:495\u001b[39m\n",
      "\u001b[33m\u001b[1m┌ \u001b[22m\u001b[39m\u001b[33m\u001b[1mWarning: \u001b[22m\u001b[39mtype GpABC.SimulatedABCSMCOutput does not exist in workspace; reconstructing\n",
      "\u001b[33m\u001b[1m└ \u001b[22m\u001b[39m\u001b[90m@ JLD2 ~/.julia/packages/JLD2/ryhNR/src/data/reconstructing_datatypes.jl:495\u001b[39m\n",
      "\u001b[33m\u001b[1m┌ \u001b[22m\u001b[39m\u001b[33m\u001b[1mWarning: \u001b[22m\u001b[39mtype GpABC.SimulatedABCSMCOutput does not exist in workspace; reconstructing\n",
      "\u001b[33m\u001b[1m└ \u001b[22m\u001b[39m\u001b[90m@ JLD2 ~/.julia/packages/JLD2/ryhNR/src/data/reconstructing_datatypes.jl:495\u001b[39m\n",
      "\u001b[33m\u001b[1m┌ \u001b[22m\u001b[39m\u001b[33m\u001b[1mWarning: \u001b[22m\u001b[39mtype GpABC.SimulatedABCSMCOutput does not exist in workspace; reconstructing\n",
      "\u001b[33m\u001b[1m└ \u001b[22m\u001b[39m\u001b[90m@ JLD2 ~/.julia/packages/JLD2/ryhNR/src/data/reconstructing_datatypes.jl:495\u001b[39m\n"
     ]
    }
   ],
   "source": [
    "ABCoutputs = [load(\"./mad1endog/S$(i)R$(j).jld2\",\"ABC\") for i in 2:4 for j in 1:4];"
   ]
  },
  {
   "cell_type": "code",
   "execution_count": 39,
   "id": "enclosed-victory",
   "metadata": {},
   "outputs": [],
   "source": [
    "ABCoutputs;"
   ]
  },
  {
   "cell_type": "code",
   "execution_count": 40,
   "id": "floral-prescription",
   "metadata": {},
   "outputs": [],
   "source": [
    "acc_rates = [ABCoutputs[i].n_accepted[end]/ABCoutputs[i].n_tries[end] for i in 1:length(ABCoutputs)];"
   ]
  },
  {
   "cell_type": "code",
   "execution_count": 46,
   "id": "black-dispute",
   "metadata": {},
   "outputs": [],
   "source": [
    "bayes_table = ones(length(ABCoutputs),length(ABCoutputs));"
   ]
  },
  {
   "cell_type": "code",
   "execution_count": 47,
   "id": "related-arrangement",
   "metadata": {},
   "outputs": [
    {
     "data": {
      "text/plain": [
       "12×12 Matrix{Float64}:\n",
       "  1.0         0.0769231   0.0769231   0.0769231   …   167.903      149.577\n",
       " 13.0         1.0         1.0         1.0            2182.74      1944.5\n",
       " 13.0         1.0         1.0         1.0            2182.74      1944.5\n",
       " 13.0         1.0         1.0         1.0            2182.74      1944.5\n",
       "  0.65        0.05        0.05        0.05            109.137       97.2252\n",
       "  0.0172185   0.0013245   0.0013245   0.0013245   …     2.89104      2.5755\n",
       "  0.00174395  0.00013415  0.00013415  0.00013415        0.292814     0.260855\n",
       "  0.00174395  0.00013415  0.00013415  0.00013415        0.292814     0.260855\n",
       "  0.147727    0.0113636   0.0113636   0.0113636        24.8039      22.0966\n",
       "  0.00251264  0.00019328  0.00019328  0.00019328        0.42188      0.375834\n",
       "  0.00595582  0.00045814  0.00045814  0.00045814  …     1.0          0.890855\n",
       "  0.00668551  0.00051427  0.00051427  0.00051427        1.12252      1.0"
      ]
     },
     "execution_count": 47,
     "metadata": {},
     "output_type": "execute_result"
    }
   ],
   "source": [
    "for i in 1:length(ABCoutputs)\n",
    "    for j in 1:length(ABCoutputs)\n",
    "        bayes_table[i,j] = acc_rates[j]/acc_rates[i]\n",
    "    end\n",
    "end\n",
    "bayes_table"
   ]
  },
  {
   "cell_type": "code",
   "execution_count": 61,
   "id": "dominican-invention",
   "metadata": {},
   "outputs": [
    {
     "data": {
      "text/html": [
       "<div><div style = \"float: left;\"><span>0×12 DataFrame</span></div><div style = \"clear: both;\"></div></div><div class = \"data-frame\" style = \"overflow-x: scroll;\"><table class = \"data-frame\" style = \"margin-bottom: 6px;\"><thead><tr class = \"header\"><th class = \"rowNumber\" style = \"font-weight: bold; text-align: right;\">Row</th><th style = \"text-align: left;\">S=2, R=1</th><th style = \"text-align: left;\">S=2, R=2</th><th style = \"text-align: left;\">S=2, R=3</th><th style = \"text-align: left;\">S=2, R=4</th><th style = \"text-align: left;\">S=3, R=1</th><th style = \"text-align: left;\">S=3, R=2</th><th style = \"text-align: left;\">S=3, R=3</th><th style = \"text-align: left;\">S=3, R=4</th><th style = \"text-align: left;\">S=4, R=1</th><th style = \"text-align: left;\">S=4, R=2</th><th style = \"text-align: left;\">S=4, R=3</th><th style = \"text-align: left;\">S=4, R=4</th></tr><tr class = \"subheader headerLastRow\"><th class = \"rowNumber\" style = \"font-weight: bold; text-align: right;\"></th><th title = \"Any\" style = \"text-align: left;\">Any</th><th title = \"Any\" style = \"text-align: left;\">Any</th><th title = \"Any\" style = \"text-align: left;\">Any</th><th title = \"Any\" style = \"text-align: left;\">Any</th><th title = \"Any\" style = \"text-align: left;\">Any</th><th title = \"Any\" style = \"text-align: left;\">Any</th><th title = \"Any\" style = \"text-align: left;\">Any</th><th title = \"Any\" style = \"text-align: left;\">Any</th><th title = \"Any\" style = \"text-align: left;\">Any</th><th title = \"Any\" style = \"text-align: left;\">Any</th><th title = \"Any\" style = \"text-align: left;\">Any</th><th title = \"Any\" style = \"text-align: left;\">Any</th></tr></thead><tbody></tbody></table></div>"
      ],
      "text/latex": [
       "\\begin{tabular}{r|ccccccccc}\n",
       "\t& S=2, R=1 & S=2, R=2 & S=2, R=3 & S=2, R=4 & S=3, R=1 & S=3, R=2 & S=3, R=3 & S=3, R=4 & \\\\\n",
       "\t\\hline\n",
       "\t& Any & Any & Any & Any & Any & Any & Any & Any & \\\\\n",
       "\t\\hline\n",
       "\\end{tabular}\n"
      ],
      "text/plain": [
       "\u001b[1m0×12 DataFrame\u001b[0m\n",
       "\u001b[1m Row \u001b[0m│\u001b[1m S=2, R=1 \u001b[0m\u001b[1m S=2, R=2 \u001b[0m\u001b[1m S=2, R=3 \u001b[0m\u001b[1m S=2, R=4 \u001b[0m\u001b[1m S=3, R=1 \u001b[0m\u001b[1m S=3, R=2 \u001b[0m\u001b[1m S=3, R=3 \u001b[0m\u001b[1m S\u001b[0m ⋯\n",
       "     │\u001b[90m Any      \u001b[0m\u001b[90m Any      \u001b[0m\u001b[90m Any      \u001b[0m\u001b[90m Any      \u001b[0m\u001b[90m Any      \u001b[0m\u001b[90m Any      \u001b[0m\u001b[90m Any      \u001b[0m\u001b[90m A\u001b[0m ⋯\n",
       "─────┴──────────────────────────────────────────────────────────────────────────\n",
       "\u001b[36m                                                               5 columns omitted\u001b[0m"
      ]
     },
     "execution_count": 61,
     "metadata": {},
     "output_type": "execute_result"
    }
   ],
   "source": [
    "bayes_df = DataFrame([[] for i in 1:length(labels)], labels)"
   ]
  },
  {
   "cell_type": "code",
   "execution_count": 64,
   "id": "extra-reason",
   "metadata": {},
   "outputs": [],
   "source": [
    "for i in 1:length(labels)\n",
    "    push!(bayes_df,bayes_table[i,:])\n",
    "end"
   ]
  },
  {
   "cell_type": "code",
   "execution_count": 65,
   "id": "amazing-miller",
   "metadata": {},
   "outputs": [
    {
     "data": {
      "text/html": [
       "<div><div style = \"float: left;\"><span>12×12 DataFrame</span></div><div style = \"clear: both;\"></div></div><div class = \"data-frame\" style = \"overflow-x: scroll;\"><table class = \"data-frame\" style = \"margin-bottom: 6px;\"><thead><tr class = \"header\"><th class = \"rowNumber\" style = \"font-weight: bold; text-align: right;\">Row</th><th style = \"text-align: left;\">S=2, R=1</th><th style = \"text-align: left;\">S=2, R=2</th><th style = \"text-align: left;\">S=2, R=3</th><th style = \"text-align: left;\">S=2, R=4</th><th style = \"text-align: left;\">S=3, R=1</th><th style = \"text-align: left;\">S=3, R=2</th><th style = \"text-align: left;\">S=3, R=3</th><th style = \"text-align: left;\">S=3, R=4</th><th style = \"text-align: left;\">S=4, R=1</th><th style = \"text-align: left;\">S=4, R=2</th><th style = \"text-align: left;\">S=4, R=3</th><th style = \"text-align: left;\">S=4, R=4</th></tr><tr class = \"subheader headerLastRow\"><th class = \"rowNumber\" style = \"font-weight: bold; text-align: right;\"></th><th title = \"Any\" style = \"text-align: left;\">Any</th><th title = \"Any\" style = \"text-align: left;\">Any</th><th title = \"Any\" style = \"text-align: left;\">Any</th><th title = \"Any\" style = \"text-align: left;\">Any</th><th title = \"Any\" style = \"text-align: left;\">Any</th><th title = \"Any\" style = \"text-align: left;\">Any</th><th title = \"Any\" style = \"text-align: left;\">Any</th><th title = \"Any\" style = \"text-align: left;\">Any</th><th title = \"Any\" style = \"text-align: left;\">Any</th><th title = \"Any\" style = \"text-align: left;\">Any</th><th title = \"Any\" style = \"text-align: left;\">Any</th><th title = \"Any\" style = \"text-align: left;\">Any</th></tr></thead><tbody><tr><td class = \"rowNumber\" style = \"font-weight: bold; text-align: right;\">1</td><td style = \"text-align: left;\">1.0</td><td style = \"text-align: left;\">0.0769231</td><td style = \"text-align: left;\">0.0769231</td><td style = \"text-align: left;\">0.0769231</td><td style = \"text-align: left;\">1.53846</td><td style = \"text-align: left;\">58.0769</td><td style = \"text-align: left;\">573.411</td><td style = \"text-align: left;\">573.411</td><td style = \"text-align: left;\">6.76923</td><td style = \"text-align: left;\">397.988</td><td style = \"text-align: left;\">167.903</td><td style = \"text-align: left;\">149.577</td></tr><tr><td class = \"rowNumber\" style = \"font-weight: bold; text-align: right;\">2</td><td style = \"text-align: left;\">13.0</td><td style = \"text-align: left;\">1.0</td><td style = \"text-align: left;\">1.0</td><td style = \"text-align: left;\">1.0</td><td style = \"text-align: left;\">20.0</td><td style = \"text-align: left;\">755.0</td><td style = \"text-align: left;\">7454.34</td><td style = \"text-align: left;\">7454.34</td><td style = \"text-align: left;\">88.0</td><td style = \"text-align: left;\">5173.84</td><td style = \"text-align: left;\">2182.74</td><td style = \"text-align: left;\">1944.5</td></tr><tr><td class = \"rowNumber\" style = \"font-weight: bold; text-align: right;\">3</td><td style = \"text-align: left;\">13.0</td><td style = \"text-align: left;\">1.0</td><td style = \"text-align: left;\">1.0</td><td style = \"text-align: left;\">1.0</td><td style = \"text-align: left;\">20.0</td><td style = \"text-align: left;\">755.0</td><td style = \"text-align: left;\">7454.34</td><td style = \"text-align: left;\">7454.34</td><td style = \"text-align: left;\">88.0</td><td style = \"text-align: left;\">5173.84</td><td style = \"text-align: left;\">2182.74</td><td style = \"text-align: left;\">1944.5</td></tr><tr><td class = \"rowNumber\" style = \"font-weight: bold; text-align: right;\">4</td><td style = \"text-align: left;\">13.0</td><td style = \"text-align: left;\">1.0</td><td style = \"text-align: left;\">1.0</td><td style = \"text-align: left;\">1.0</td><td style = \"text-align: left;\">20.0</td><td style = \"text-align: left;\">755.0</td><td style = \"text-align: left;\">7454.34</td><td style = \"text-align: left;\">7454.34</td><td style = \"text-align: left;\">88.0</td><td style = \"text-align: left;\">5173.84</td><td style = \"text-align: left;\">2182.74</td><td style = \"text-align: left;\">1944.5</td></tr><tr><td class = \"rowNumber\" style = \"font-weight: bold; text-align: right;\">5</td><td style = \"text-align: left;\">0.65</td><td style = \"text-align: left;\">0.05</td><td style = \"text-align: left;\">0.05</td><td style = \"text-align: left;\">0.05</td><td style = \"text-align: left;\">1.0</td><td style = \"text-align: left;\">37.75</td><td style = \"text-align: left;\">372.717</td><td style = \"text-align: left;\">372.717</td><td style = \"text-align: left;\">4.4</td><td style = \"text-align: left;\">258.692</td><td style = \"text-align: left;\">109.137</td><td style = \"text-align: left;\">97.2252</td></tr><tr><td class = \"rowNumber\" style = \"font-weight: bold; text-align: right;\">6</td><td style = \"text-align: left;\">0.0172185</td><td style = \"text-align: left;\">0.0013245</td><td style = \"text-align: left;\">0.0013245</td><td style = \"text-align: left;\">0.0013245</td><td style = \"text-align: left;\">0.0264901</td><td style = \"text-align: left;\">1.0</td><td style = \"text-align: left;\">9.8733</td><td style = \"text-align: left;\">9.8733</td><td style = \"text-align: left;\">0.116556</td><td style = \"text-align: left;\">6.85277</td><td style = \"text-align: left;\">2.89104</td><td style = \"text-align: left;\">2.5755</td></tr><tr><td class = \"rowNumber\" style = \"font-weight: bold; text-align: right;\">7</td><td style = \"text-align: left;\">0.00174395</td><td style = \"text-align: left;\">0.00013415</td><td style = \"text-align: left;\">0.00013415</td><td style = \"text-align: left;\">0.00013415</td><td style = \"text-align: left;\">0.002683</td><td style = \"text-align: left;\">0.101283</td><td style = \"text-align: left;\">1.0</td><td style = \"text-align: left;\">1.0</td><td style = \"text-align: left;\">0.0118052</td><td style = \"text-align: left;\">0.694071</td><td style = \"text-align: left;\">0.292814</td><td style = \"text-align: left;\">0.260855</td></tr><tr><td class = \"rowNumber\" style = \"font-weight: bold; text-align: right;\">8</td><td style = \"text-align: left;\">0.00174395</td><td style = \"text-align: left;\">0.00013415</td><td style = \"text-align: left;\">0.00013415</td><td style = \"text-align: left;\">0.00013415</td><td style = \"text-align: left;\">0.002683</td><td style = \"text-align: left;\">0.101283</td><td style = \"text-align: left;\">1.0</td><td style = \"text-align: left;\">1.0</td><td style = \"text-align: left;\">0.0118052</td><td style = \"text-align: left;\">0.694071</td><td style = \"text-align: left;\">0.292814</td><td style = \"text-align: left;\">0.260855</td></tr><tr><td class = \"rowNumber\" style = \"font-weight: bold; text-align: right;\">9</td><td style = \"text-align: left;\">0.147727</td><td style = \"text-align: left;\">0.0113636</td><td style = \"text-align: left;\">0.0113636</td><td style = \"text-align: left;\">0.0113636</td><td style = \"text-align: left;\">0.227273</td><td style = \"text-align: left;\">8.57955</td><td style = \"text-align: left;\">84.7084</td><td style = \"text-align: left;\">84.7084</td><td style = \"text-align: left;\">1.0</td><td style = \"text-align: left;\">58.7936</td><td style = \"text-align: left;\">24.8039</td><td style = \"text-align: left;\">22.0966</td></tr><tr><td class = \"rowNumber\" style = \"font-weight: bold; text-align: right;\">10</td><td style = \"text-align: left;\">0.00251264</td><td style = \"text-align: left;\">0.00019328</td><td style = \"text-align: left;\">0.00019328</td><td style = \"text-align: left;\">0.00019328</td><td style = \"text-align: left;\">0.0038656</td><td style = \"text-align: left;\">0.145926</td><td style = \"text-align: left;\">1.44078</td><td style = \"text-align: left;\">1.44078</td><td style = \"text-align: left;\">0.0170086</td><td style = \"text-align: left;\">1.0</td><td style = \"text-align: left;\">0.42188</td><td style = \"text-align: left;\">0.375834</td></tr><tr><td class = \"rowNumber\" style = \"font-weight: bold; text-align: right;\">11</td><td style = \"text-align: left;\">0.00595582</td><td style = \"text-align: left;\">0.00045814</td><td style = \"text-align: left;\">0.00045814</td><td style = \"text-align: left;\">0.00045814</td><td style = \"text-align: left;\">0.0091628</td><td style = \"text-align: left;\">0.345896</td><td style = \"text-align: left;\">3.41513</td><td style = \"text-align: left;\">3.41513</td><td style = \"text-align: left;\">0.0403163</td><td style = \"text-align: left;\">2.37034</td><td style = \"text-align: left;\">1.0</td><td style = \"text-align: left;\">0.890855</td></tr><tr><td class = \"rowNumber\" style = \"font-weight: bold; text-align: right;\">12</td><td style = \"text-align: left;\">0.00668551</td><td style = \"text-align: left;\">0.00051427</td><td style = \"text-align: left;\">0.00051427</td><td style = \"text-align: left;\">0.00051427</td><td style = \"text-align: left;\">0.0102854</td><td style = \"text-align: left;\">0.388274</td><td style = \"text-align: left;\">3.83354</td><td style = \"text-align: left;\">3.83354</td><td style = \"text-align: left;\">0.0452558</td><td style = \"text-align: left;\">2.66075</td><td style = \"text-align: left;\">1.12252</td><td style = \"text-align: left;\">1.0</td></tr></tbody></table></div>"
      ],
      "text/latex": [
       "\\begin{tabular}{r|ccccccccc}\n",
       "\t& S=2, R=1 & S=2, R=2 & S=2, R=3 & S=2, R=4 & S=3, R=1 & S=3, R=2 & S=3, R=3 & S=3, R=4 & \\\\\n",
       "\t\\hline\n",
       "\t& Any & Any & Any & Any & Any & Any & Any & Any & \\\\\n",
       "\t\\hline\n",
       "\t1 & 1.0 & 0.0769231 & 0.0769231 & 0.0769231 & 1.53846 & 58.0769 & 573.411 & 573.411 & $\\dots$ \\\\\n",
       "\t2 & 13.0 & 1.0 & 1.0 & 1.0 & 20.0 & 755.0 & 7454.34 & 7454.34 & $\\dots$ \\\\\n",
       "\t3 & 13.0 & 1.0 & 1.0 & 1.0 & 20.0 & 755.0 & 7454.34 & 7454.34 & $\\dots$ \\\\\n",
       "\t4 & 13.0 & 1.0 & 1.0 & 1.0 & 20.0 & 755.0 & 7454.34 & 7454.34 & $\\dots$ \\\\\n",
       "\t5 & 0.65 & 0.05 & 0.05 & 0.05 & 1.0 & 37.75 & 372.717 & 372.717 & $\\dots$ \\\\\n",
       "\t6 & 0.0172185 & 0.0013245 & 0.0013245 & 0.0013245 & 0.0264901 & 1.0 & 9.8733 & 9.8733 & $\\dots$ \\\\\n",
       "\t7 & 0.00174395 & 0.00013415 & 0.00013415 & 0.00013415 & 0.002683 & 0.101283 & 1.0 & 1.0 & $\\dots$ \\\\\n",
       "\t8 & 0.00174395 & 0.00013415 & 0.00013415 & 0.00013415 & 0.002683 & 0.101283 & 1.0 & 1.0 & $\\dots$ \\\\\n",
       "\t9 & 0.147727 & 0.0113636 & 0.0113636 & 0.0113636 & 0.227273 & 8.57955 & 84.7084 & 84.7084 & $\\dots$ \\\\\n",
       "\t10 & 0.00251264 & 0.00019328 & 0.00019328 & 0.00019328 & 0.0038656 & 0.145926 & 1.44078 & 1.44078 & $\\dots$ \\\\\n",
       "\t11 & 0.00595582 & 0.00045814 & 0.00045814 & 0.00045814 & 0.0091628 & 0.345896 & 3.41513 & 3.41513 & $\\dots$ \\\\\n",
       "\t12 & 0.00668551 & 0.00051427 & 0.00051427 & 0.00051427 & 0.0102854 & 0.388274 & 3.83354 & 3.83354 & $\\dots$ \\\\\n",
       "\\end{tabular}\n"
      ],
      "text/plain": [
       "\u001b[1m12×12 DataFrame\u001b[0m\n",
       "\u001b[1m Row \u001b[0m│\u001b[1m S=2, R=1   \u001b[0m\u001b[1m S=2, R=2   \u001b[0m\u001b[1m S=2, R=3   \u001b[0m\u001b[1m S=2, R=4   \u001b[0m\u001b[1m S=3, R=1  \u001b[0m\u001b[1m S=3, R=2 \u001b[0m\u001b[1m S=\u001b[0m ⋯\n",
       "     │\u001b[90m Any        \u001b[0m\u001b[90m Any        \u001b[0m\u001b[90m Any        \u001b[0m\u001b[90m Any        \u001b[0m\u001b[90m Any       \u001b[0m\u001b[90m Any      \u001b[0m\u001b[90m An\u001b[0m ⋯\n",
       "─────┼──────────────────────────────────────────────────────────────────────────\n",
       "   1 │ 1.0         0.0769231   0.0769231   0.0769231   1.53846    58.0769   57 ⋯\n",
       "   2 │ 13.0        1.0         1.0         1.0         20.0       755.0     74\n",
       "   3 │ 13.0        1.0         1.0         1.0         20.0       755.0     74\n",
       "   4 │ 13.0        1.0         1.0         1.0         20.0       755.0     74\n",
       "   5 │ 0.65        0.05        0.05        0.05        1.0        37.75     37 ⋯\n",
       "   6 │ 0.0172185   0.0013245   0.0013245   0.0013245   0.0264901  1.0       9.\n",
       "   7 │ 0.00174395  0.00013415  0.00013415  0.00013415  0.002683   0.101283  1.\n",
       "   8 │ 0.00174395  0.00013415  0.00013415  0.00013415  0.002683   0.101283  1.\n",
       "   9 │ 0.147727    0.0113636   0.0113636   0.0113636   0.227273   8.57955   84 ⋯\n",
       "  10 │ 0.00251264  0.00019328  0.00019328  0.00019328  0.0038656  0.145926  1.\n",
       "  11 │ 0.00595582  0.00045814  0.00045814  0.00045814  0.0091628  0.345896  3.\n",
       "  12 │ 0.00668551  0.00051427  0.00051427  0.00051427  0.0102854  0.388274  3.\n",
       "\u001b[36m                                                               6 columns omitted\u001b[0m"
      ]
     },
     "execution_count": 65,
     "metadata": {},
     "output_type": "execute_result"
    }
   ],
   "source": [
    "bayes_df"
   ]
  },
  {
   "cell_type": "code",
   "execution_count": 66,
   "id": "recovered-debate",
   "metadata": {},
   "outputs": [],
   "source": [
    "model_sel_tab = convert(Matrix{Any},zeros(length(ABCoutputs),length(ABCoutputs)));\n",
    "for i in 1:length(ABCoutputs)\n",
    "    for j in 1:length(ABCoutputs)\n",
    "        if table[i,j]>10\n",
    "            model_sel_tab[i,j] = \"row\"\n",
    "        elseif table[i,j]<0.1\n",
    "            model_sel_tab[i,j] = \"col\"\n",
    "        end\n",
    "    end\n",
    "end\n",
    "model_sel_tab;"
   ]
  },
  {
   "cell_type": "code",
   "execution_count": 67,
   "id": "relevant-violence",
   "metadata": {},
   "outputs": [
    {
     "data": {
      "text/html": [
       "<div><div style = \"float: left;\"><span>0×12 DataFrame</span></div><div style = \"clear: both;\"></div></div><div class = \"data-frame\" style = \"overflow-x: scroll;\"><table class = \"data-frame\" style = \"margin-bottom: 6px;\"><thead><tr class = \"header\"><th class = \"rowNumber\" style = \"font-weight: bold; text-align: right;\">Row</th><th style = \"text-align: left;\">S=2, R=1</th><th style = \"text-align: left;\">S=2, R=2</th><th style = \"text-align: left;\">S=2, R=3</th><th style = \"text-align: left;\">S=2, R=4</th><th style = \"text-align: left;\">S=3, R=1</th><th style = \"text-align: left;\">S=3, R=2</th><th style = \"text-align: left;\">S=3, R=3</th><th style = \"text-align: left;\">S=3, R=4</th><th style = \"text-align: left;\">S=4, R=1</th><th style = \"text-align: left;\">S=4, R=2</th><th style = \"text-align: left;\">S=4, R=3</th><th style = \"text-align: left;\">S=4, R=4</th></tr><tr class = \"subheader headerLastRow\"><th class = \"rowNumber\" style = \"font-weight: bold; text-align: right;\"></th><th title = \"Any\" style = \"text-align: left;\">Any</th><th title = \"Any\" style = \"text-align: left;\">Any</th><th title = \"Any\" style = \"text-align: left;\">Any</th><th title = \"Any\" style = \"text-align: left;\">Any</th><th title = \"Any\" style = \"text-align: left;\">Any</th><th title = \"Any\" style = \"text-align: left;\">Any</th><th title = \"Any\" style = \"text-align: left;\">Any</th><th title = \"Any\" style = \"text-align: left;\">Any</th><th title = \"Any\" style = \"text-align: left;\">Any</th><th title = \"Any\" style = \"text-align: left;\">Any</th><th title = \"Any\" style = \"text-align: left;\">Any</th><th title = \"Any\" style = \"text-align: left;\">Any</th></tr></thead><tbody></tbody></table></div>"
      ],
      "text/latex": [
       "\\begin{tabular}{r|ccccccccc}\n",
       "\t& S=2, R=1 & S=2, R=2 & S=2, R=3 & S=2, R=4 & S=3, R=1 & S=3, R=2 & S=3, R=3 & S=3, R=4 & \\\\\n",
       "\t\\hline\n",
       "\t& Any & Any & Any & Any & Any & Any & Any & Any & \\\\\n",
       "\t\\hline\n",
       "\\end{tabular}\n"
      ],
      "text/plain": [
       "\u001b[1m0×12 DataFrame\u001b[0m\n",
       "\u001b[1m Row \u001b[0m│\u001b[1m S=2, R=1 \u001b[0m\u001b[1m S=2, R=2 \u001b[0m\u001b[1m S=2, R=3 \u001b[0m\u001b[1m S=2, R=4 \u001b[0m\u001b[1m S=3, R=1 \u001b[0m\u001b[1m S=3, R=2 \u001b[0m\u001b[1m S=3, R=3 \u001b[0m\u001b[1m S\u001b[0m ⋯\n",
       "     │\u001b[90m Any      \u001b[0m\u001b[90m Any      \u001b[0m\u001b[90m Any      \u001b[0m\u001b[90m Any      \u001b[0m\u001b[90m Any      \u001b[0m\u001b[90m Any      \u001b[0m\u001b[90m Any      \u001b[0m\u001b[90m A\u001b[0m ⋯\n",
       "─────┴──────────────────────────────────────────────────────────────────────────\n",
       "\u001b[36m                                                               5 columns omitted\u001b[0m"
      ]
     },
     "execution_count": 67,
     "metadata": {},
     "output_type": "execute_result"
    }
   ],
   "source": [
    "model_sel_df = DataFrame([[] for i in 1:length(labels)], labels)"
   ]
  },
  {
   "cell_type": "code",
   "execution_count": null,
   "id": "blessed-number",
   "metadata": {},
   "outputs": [],
   "source": []
  }
 ],
 "metadata": {
  "kernelspec": {
   "display_name": "Julia 1.8.5",
   "language": "julia",
   "name": "julia-1.8"
  },
  "language_info": {
   "file_extension": ".jl",
   "mimetype": "application/julia",
   "name": "julia",
   "version": "1.8.5"
  }
 },
 "nbformat": 4,
 "nbformat_minor": 5
}
