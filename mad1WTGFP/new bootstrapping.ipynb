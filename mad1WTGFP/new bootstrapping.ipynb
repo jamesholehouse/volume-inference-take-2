{
 "cells": [
  {
   "cell_type": "markdown",
   "id": "outstanding-project",
   "metadata": {},
   "source": [
    "# Bootstrapping for each replicate"
   ]
  },
  {
   "cell_type": "markdown",
   "id": "0f703048",
   "metadata": {},
   "source": [
    "## Data analysis: Linear model fit and volume corrected moments"
   ]
  },
  {
   "cell_type": "code",
   "execution_count": 1,
   "id": "aa1a2211",
   "metadata": {},
   "outputs": [],
   "source": [
    "using Random, Plots, Distributions, StatsBase, DataFrames, CSV, Plots.PlotMeasures"
   ]
  },
  {
   "cell_type": "code",
   "execution_count": 2,
   "id": "0807513e",
   "metadata": {},
   "outputs": [],
   "source": [
    "df = DataFrame(CSV.File(\"FISH_toShare_NoTSlabel_celldata_long_220620_simple_woMad3Outlier_withColDescription.csv\"));"
   ]
  },
  {
   "cell_type": "code",
   "execution_count": 3,
   "id": "84235298",
   "metadata": {},
   "outputs": [],
   "source": [
    "names(df);"
   ]
  },
  {
   "cell_type": "code",
   "execution_count": 4,
   "id": "4314d2be",
   "metadata": {},
   "outputs": [],
   "source": [
    "df = df[:,[:sampleID,:gene,:NucleiCount,:Compartment,:CountMethod,:RNAperCell,:Cell_Length_um]];"
   ]
  },
  {
   "cell_type": "code",
   "execution_count": 5,
   "id": "7ee07693",
   "metadata": {},
   "outputs": [],
   "source": [
    "# filter only for mad1WTGFP and NucleiCount = 1\n",
    "dfa = subset(df, :gene => g -> g.==\"mad1WTymEGFP\", :NucleiCount => n -> n.==1, :CountMethod => m -> m.==\"HybridCount\")\n",
    "# make cyto and nuc table separately.\n",
    "dfcyto = subset(dfa, :Compartment=>c->c.==\"Cytoplasm\")\n",
    "dfnuc = subset(dfa, :Compartment=>c->c.==\"Nucleus\")\n",
    "# separate the 4 different samples\n",
    "dfsN = [];dfsC = [];\n",
    "samples = unique(dfa[!,:sampleID])\n",
    "# add each to the vectors\n",
    "for i in 1:4\n",
    "    samp = samples[1]\n",
    "    dftempN = subset(dfnuc, :sampleID=>S->S.==samples[i])\n",
    "    dftempC = subset(dfcyto, :sampleID=>S->S.==samples[i])\n",
    "    push!(dfsN,dftempN)\n",
    "    push!(dfsC,dftempC)\n",
    "end"
   ]
  },
  {
   "cell_type": "code",
   "execution_count": 6,
   "id": "e69bc2bc",
   "metadata": {},
   "outputs": [],
   "source": [
    "dfsC;"
   ]
  },
  {
   "cell_type": "markdown",
   "id": "2b9d417a",
   "metadata": {},
   "source": [
    "If the moments I find differ from this then I know there's an issue! Let's collect the columns corresponding to the nuclear and cytoplasmic volumes and **counts** respectively."
   ]
  },
  {
   "cell_type": "code",
   "execution_count": 7,
   "id": "405f8b9b",
   "metadata": {},
   "outputs": [
    {
     "data": {
      "text/plain": [
       "7-element Vector{String}:\n",
       " \"sampleID\"\n",
       " \"gene\"\n",
       " \"NucleiCount\"\n",
       " \"Compartment\"\n",
       " \"CountMethod\"\n",
       " \"RNAperCell\"\n",
       " \"Cell_Length_um\""
      ]
     },
     "execution_count": 7,
     "metadata": {},
     "output_type": "execute_result"
    }
   ],
   "source": [
    "names(dfsC[1])"
   ]
  },
  {
   "cell_type": "code",
   "execution_count": 8,
   "id": "ea7653ed",
   "metadata": {},
   "outputs": [],
   "source": [
    "n_vols = [dfsN[i][!,:Cell_Length_um] for i in 1:4]\n",
    "c_vols = [dfsC[i][!,:Cell_Length_um] for i in 1:4]\n",
    "n_ints = [dfsN[i][!,:RNAperCell] for i in 1:4]\n",
    "c_ints = [dfsC[i][!,:RNAperCell] for i in 1:4];"
   ]
  },
  {
   "cell_type": "code",
   "execution_count": 9,
   "id": "d32e9d02",
   "metadata": {},
   "outputs": [
    {
     "data": {
      "text/plain": [
       "4-element Vector{Int64}:\n",
       " 387\n",
       " 527\n",
       " 659\n",
       " 582"
      ]
     },
     "execution_count": 9,
     "metadata": {},
     "output_type": "execute_result"
    }
   ],
   "source": [
    "Ns = [length(c_ints[i]) for i in 1:4]"
   ]
  },
  {
   "cell_type": "markdown",
   "id": "11d027b7",
   "metadata": {},
   "source": [
    "For the linear model fits we use the Julia package GLM. This is a very convenient and fast way to construct linear models."
   ]
  },
  {
   "cell_type": "code",
   "execution_count": 10,
   "id": "552f3e83",
   "metadata": {},
   "outputs": [],
   "source": [
    "using GLM"
   ]
  },
  {
   "cell_type": "markdown",
   "id": "e0cc9bc2",
   "metadata": {},
   "source": [
    "Perform the linear model fits. Note in the below that our fitting parameters are stored in `npar` and `cpar` in the order `[intercept, gradient]`."
   ]
  },
  {
   "cell_type": "code",
   "execution_count": 11,
   "id": "9bbfc111",
   "metadata": {},
   "outputs": [
    {
     "data": {
      "text/plain": [
       "4-element Vector{Float64}:\n",
       " 0.5992855128201802\n",
       " 0.46035560919914587\n",
       " 0.47546728120758314\n",
       " 0.3836629411182286"
      ]
     },
     "execution_count": 11,
     "metadata": {},
     "output_type": "execute_result"
    }
   ],
   "source": [
    "nlms = [lm(@formula(RNAperCell ~ Cell_Length_um), dfsN[i]) for i in 1:4]\n",
    "npars = [coef(nlms[i]) for i in 1:4]\n",
    "cs = hcat(npars...)[1,:]; ds = hcat(npars...)[2,:]\n",
    "clms = [lm(@formula(RNAperCell ~ Cell_Length_um), dfsC[i]) for i in 1:4]\n",
    "cpars = [coef(clms[i]) for i in 1:4]\n",
    "as = hcat(cpars...)[1,:]; bs = hcat(cpars...)[2,:]"
   ]
  },
  {
   "cell_type": "markdown",
   "id": "8a39fa7a",
   "metadata": {},
   "source": [
    "A quick look at the linear model fit itself will tell us some properties of the fit."
   ]
  },
  {
   "cell_type": "code",
   "execution_count": 12,
   "id": "1c63acbb",
   "metadata": {},
   "outputs": [
    {
     "data": {
      "text/plain": [
       "StatsModels.TableRegressionModel{LinearModel{GLM.LmResp{Vector{Float64}}, GLM.DensePredChol{Float64, LinearAlgebra.CholeskyPivoted{Float64, Matrix{Float64}, Vector{Int64}}}}, Matrix{Float64}}\n",
       "\n",
       "RNAperCell ~ 1 + Cell_Length_um\n",
       "\n",
       "Coefficients:\n",
       "────────────────────────────────────────────────────────────────────────────\n",
       "                    Coef.  Std. Error      t  Pr(>|t|)  Lower 95%  Upper 95%\n",
       "────────────────────────────────────────────────────────────────────────────\n",
       "(Intercept)     -3.08055    0.417281   -7.38    <1e-12  -3.90099   -2.26012\n",
       "Cell_Length_um   0.599286   0.0396632  15.11    <1e-40   0.521302   0.677269\n",
       "────────────────────────────────────────────────────────────────────────────"
      ]
     },
     "execution_count": 12,
     "metadata": {},
     "output_type": "execute_result"
    }
   ],
   "source": [
    "clms[1]"
   ]
  },
  {
   "cell_type": "markdown",
   "id": "fe494940",
   "metadata": {},
   "source": [
    "Now, to construct the volume corrected moments we first need to know the mean values for the volumes and intensities. Collect these from the data."
   ]
  },
  {
   "cell_type": "code",
   "execution_count": 13,
   "id": "f7b86a0c",
   "metadata": {},
   "outputs": [
    {
     "data": {
      "text/plain": [
       "4-element Vector{Float64}:\n",
       " 3.134501953118863\n",
       " 2.6917392659924104\n",
       " 2.9966332945174505\n",
       " 2.6474200532955323"
      ]
     },
     "execution_count": 13,
     "metadata": {},
     "output_type": "execute_result"
    }
   ],
   "source": [
    "n_vol_avgs = [mean(n_vols[i]) for i in 1:4]\n",
    "c_vol_avgs = [mean(c_vols[i]) for i in 1:4]\n",
    "n_avgs = [mean(n_ints[i]) for i in 1:4]\n",
    "c_avgs = [mean(c_ints[i]) for i in 1:4]"
   ]
  },
  {
   "cell_type": "markdown",
   "id": "cad2ffea",
   "metadata": {},
   "source": [
    "Note that even the means of the cytoplasmic can vary quite significantly between the replicates. As can the observed mean cell volumes in each experiment."
   ]
  },
  {
   "cell_type": "markdown",
   "id": "86b0a1ba",
   "metadata": {},
   "source": [
    "We know theoretically that to first order volume corrections to the means are nil. Let's just clarify this."
   ]
  },
  {
   "cell_type": "code",
   "execution_count": 14,
   "id": "ae9e3336",
   "metadata": {},
   "outputs": [
    {
     "data": {
      "text/plain": [
       "4-element Vector{Float64}:\n",
       " 0.023834434037564987\n",
       " 0.05765393980775389\n",
       " 0.043362069162107504\n",
       " 0.014548332618335925"
      ]
     },
     "execution_count": 14,
     "metadata": {},
     "output_type": "execute_result"
    }
   ],
   "source": [
    "ds"
   ]
  },
  {
   "cell_type": "code",
   "execution_count": 15,
   "id": "af7ad26b",
   "metadata": {},
   "outputs": [
    {
     "data": {
      "text/plain": [
       "4-element Vector{Float64}:\n",
       " 3.1345019531188623\n",
       " 2.691739265992408\n",
       " 2.9966332945174496\n",
       " 2.647420053295532"
      ]
     },
     "execution_count": 15,
     "metadata": {},
     "output_type": "execute_result"
    }
   ],
   "source": [
    "vc_mean_ns = [cs[i] + n_vol_avgs[i]*ds[i] for i in 1:4]\n",
    "vc_mean_cs = [as[i] + c_vol_avgs[i]*bs[i] for i in 1:4]\n",
    "# vc_mean_cs = a + c_vol_avg*b"
   ]
  },
  {
   "cell_type": "code",
   "execution_count": 16,
   "id": "6331c0e6",
   "metadata": {},
   "outputs": [],
   "source": [
    "μ20s = [moment(n_ints[i], 2, n_avgs[i]) for i in 1:4];\n",
    "μ02s = [moment(c_ints[i], 2, c_avgs[i]) for i in 1:4];\n",
    "μ20Ωs = [moment(n_vols[i], 2, n_vol_avgs[i]) for i in 1:4];\n",
    "μ02Ωs = [moment(c_vols[i], 2, c_vol_avgs[i]) for i in 1:4];"
   ]
  },
  {
   "cell_type": "code",
   "execution_count": 17,
   "id": "21e86d08",
   "metadata": {},
   "outputs": [],
   "source": [
    "μ20s_i = [μ20s[i] - ds[i]^2 * μ20Ωs[i] for i in 1:4]\n",
    "μ02s_i = [μ02s[i] - bs[i]^2 * μ02Ωs[i] for i in 1:4];"
   ]
  },
  {
   "cell_type": "markdown",
   "id": "4e37cbc0",
   "metadata": {},
   "source": [
    "Clearly the volume corrected means are simply the means if one averaged over the data. Can now store the values for the VC FF's along with the mean cyto #."
   ]
  },
  {
   "cell_type": "code",
   "execution_count": 18,
   "id": "48999c0e",
   "metadata": {},
   "outputs": [
    {
     "data": {
      "text/plain": [
       "4-element Vector{Float64}:\n",
       " 0.9290323044647567\n",
       " 1.0145322554487812\n",
       " 0.9668809113613188\n",
       " 1.0030035103497867"
      ]
     },
     "execution_count": 18,
     "metadata": {},
     "output_type": "execute_result"
    }
   ],
   "source": [
    "nuc_FFs = μ20s_i./vc_mean_ns"
   ]
  },
  {
   "cell_type": "code",
   "execution_count": 19,
   "id": "dff707ae",
   "metadata": {},
   "outputs": [
    {
     "data": {
      "text/plain": [
       "4-element Vector{Float64}:\n",
       " 0.6047897262858304\n",
       " 0.7225181988591692\n",
       " 0.6394876727899391\n",
       " 0.5918015861737597"
      ]
     },
     "execution_count": 19,
     "metadata": {},
     "output_type": "execute_result"
    }
   ],
   "source": [
    "cyto_FFs = μ02s_i./vc_mean_cs"
   ]
  },
  {
   "cell_type": "code",
   "execution_count": 20,
   "id": "d251eb27",
   "metadata": {},
   "outputs": [
    {
     "data": {
      "text/plain": [
       "4-element Vector{Float64}:\n",
       " 3.1345019531188623\n",
       " 2.691739265992408\n",
       " 2.9966332945174496\n",
       " 2.647420053295532"
      ]
     },
     "execution_count": 20,
     "metadata": {},
     "output_type": "execute_result"
    }
   ],
   "source": [
    "cyto_means = vc_mean_cs"
   ]
  },
  {
   "cell_type": "markdown",
   "id": "fundamental-eligibility",
   "metadata": {},
   "source": [
    "# Now for the bootstraps"
   ]
  },
  {
   "cell_type": "code",
   "execution_count": 21,
   "id": "charged-adjustment",
   "metadata": {},
   "outputs": [
    {
     "data": {
      "text/plain": [
       "1-element Vector{Int64}:\n",
       " 2"
      ]
     },
     "execution_count": 21,
     "metadata": {},
     "output_type": "execute_result"
    }
   ],
   "source": [
    "sample([1,2,3],1)"
   ]
  },
  {
   "cell_type": "code",
   "execution_count": 22,
   "id": "outdoor-inclusion",
   "metadata": {},
   "outputs": [
    {
     "data": {
      "text/plain": [
       "3-element Vector{Int64}:\n",
       " 1\n",
       " 2\n",
       " 4"
      ]
     },
     "execution_count": 22,
     "metadata": {},
     "output_type": "execute_result"
    }
   ],
   "source": [
    "test = [1,2,4]"
   ]
  },
  {
   "cell_type": "code",
   "execution_count": 23,
   "id": "capable-petroleum",
   "metadata": {},
   "outputs": [
    {
     "data": {
      "text/plain": [
       "2-element Vector{Int64}:\n",
       " 1\n",
       " 4"
      ]
     },
     "execution_count": 23,
     "metadata": {},
     "output_type": "execute_result"
    }
   ],
   "source": [
    "test[[1,3]]"
   ]
  },
  {
   "cell_type": "code",
   "execution_count": 24,
   "id": "dangerous-chest",
   "metadata": {},
   "outputs": [
    {
     "data": {
      "text/plain": [
       "4-element Vector{Float64}:\n",
       " 0.5992855128201802\n",
       " 0.46035560919914587\n",
       " 0.47546728120758314\n",
       " 0.3836629411182286"
      ]
     },
     "execution_count": 24,
     "metadata": {},
     "output_type": "execute_result"
    }
   ],
   "source": [
    "nlms = [lm(@formula(RNAperCell ~ Cell_Length_um), dfsN[i]) for i in 1:4]\n",
    "npars = [coef(nlms[i]) for i in 1:4]\n",
    "cs = hcat(npars...)[1,:]; ds = hcat(npars...)[2,:]\n",
    "clms = [lm(@formula(RNAperCell ~ Cell_Length_um), dfsC[i]) for i in 1:4]\n",
    "cpars = [coef(clms[i]) for i in 1:4]\n",
    "as = hcat(cpars...)[1,:]; bs = hcat(cpars...)[2,:]"
   ]
  },
  {
   "cell_type": "code",
   "execution_count": 25,
   "id": "mysterious-mount",
   "metadata": {
    "scrolled": true
   },
   "outputs": [
    {
     "data": {
      "text/plain": [
       "([2.8625658168968133, 3.0439937911320185, 2.9428325877223065, 3.0827325722427923, 2.970659241517451, 2.8716532904901366, 2.998831154003035, 3.0038807482306527, 2.8598371056342944, 2.854878638640364  …  3.0999640332746585, 2.9132393793186644, 2.945677067016692, 2.985349013367223, 2.87784174491654, 2.9831826683141123, 3.0208109162928682, 3.004921465939302, 3.0530665178391505, 3.018756058729894], [0.9579436578944963, 0.9267993329534262, 0.979094641116901, 0.953883589572603, 0.9424524711099773, 0.8851141292366296, 1.0077688189558436, 0.889647516946587, 0.9814728637391872, 0.999745074542154  …  1.0075893342256537, 0.9485906686135149, 0.8946954705888902, 0.9625165306400236, 0.9922653869078647, 0.9972986573440732, 0.9603349380988699, 0.9751122731778165, 0.9708093332281413, 1.0069749802909096], [0.6524114608759427, 0.6230196450580584, 0.6526139524611422, 0.5867614966222928, 0.6077379336722627, 0.678324201994202, 0.6631490438000137, 0.6593616984056347, 0.6537578358509494, 0.6707904145599141  …  0.6381126715341867, 0.6364778398555969, 0.6060631485244673, 0.6952859430282601, 0.739912130601941, 0.6349821481990716, 0.5832103081248843, 0.6627288896155439, 0.6468907066370868, 0.6348151285091082])"
      ]
     },
     "execution_count": 25,
     "metadata": {},
     "output_type": "execute_result"
    }
   ],
   "source": [
    "function bootstrap_samps(n_pop,c_pop,v_pop,N)\n",
    "    if length(n_pop)!=length(c_pop)\n",
    "        return error(\"args must be the same length\")\n",
    "    end\n",
    "    # make an array of all the indices\n",
    "    all_inds = collect(1:1:length(n_pop))\n",
    "    samps = [sort(sample(all_inds,N)) for i in 1:5000]\n",
    "    n_samps = [n_pop[samps[i]] for i in 1:5000]\n",
    "    c_samps = [c_pop[samps[i]] for i in 1:5000]\n",
    "    v_samps = [v_pop[samps[i]] for i in 1:5000]\n",
    "    meanCs = zeros(5000); ffNs = zeros(5000); ffCs = zeros(5000);\n",
    "    # for each bootstrapped sample we now need the vol corr moments.\n",
    "    for j in 1:5000\n",
    "        ns = n_samps[j]; cs = c_samps[j]; vs = v_samps[j];\n",
    "        dftemp = DataFrame(vol=vs,n=ns,c=cs);\n",
    "        nlm = lm(@formula(n ~ vol), dftemp);\n",
    "        npars = coef(nlm); c = npars[1]; d = npars[2];\n",
    "        clm = lm(@formula(c ~ vol), dftemp);\n",
    "        cpars = coef(clm); a = cpars[1]; b = cpars[2];\n",
    "        navg = mean(ns); cavg = mean(cs); vavg = mean(vs);\n",
    "        μ20 = moment(ns, 2, navg);\n",
    "        μ02 = moment(cs, 2, cavg);\n",
    "        μ2Ω = moment(vs, 2, vavg);\n",
    "        μ20_i = μ20 - d^2 * μ2Ω;\n",
    "        μ02_i = μ02 - b^2 * μ2Ω;\n",
    "        meanCs[j] = cavg; ffNs[j] = μ20_i/navg; ffCs[j] = μ02_i/cavg;\n",
    "    end\n",
    "    return meanCs, ffNs, ffCs\n",
    "end\n",
    "ti = 3\n",
    "test = bootstrap_samps(n_ints[3],c_ints[3],n_vols[3],Ns[3])"
   ]
  },
  {
   "cell_type": "code",
   "execution_count": 26,
   "id": "consolidated-country",
   "metadata": {},
   "outputs": [
    {
     "data": {
      "image/svg+xml": [
       "<?xml version=\"1.0\" encoding=\"utf-8\"?>\n",
       "<svg xmlns=\"http://www.w3.org/2000/svg\" xmlns:xlink=\"http://www.w3.org/1999/xlink\" width=\"600\" height=\"400\" viewBox=\"0 0 2400 1600\">\n",
       "<defs>\n",
       "  <clipPath id=\"clip440\">\n",
       "    <rect x=\"0\" y=\"0\" width=\"2400\" height=\"1600\"/>\n",
       "  </clipPath>\n",
       "</defs>\n",
       "<path clip-path=\"url(#clip440)\" d=\"M0 1600 L2400 1600 L2400 0 L0 0  Z\" fill=\"#ffffff\" fill-rule=\"evenodd\" fill-opacity=\"1\"/>\n",
       "<defs>\n",
       "  <clipPath id=\"clip441\">\n",
       "    <rect x=\"480\" y=\"0\" width=\"1681\" height=\"1600\"/>\n",
       "  </clipPath>\n",
       "</defs>\n",
       "<path clip-path=\"url(#clip440)\" d=\"M172.015 1486.45 L2352.76 1486.45 L2352.76 47.2441 L172.015 47.2441  Z\" fill=\"#ffffff\" fill-rule=\"evenodd\" fill-opacity=\"1\"/>\n",
       "<defs>\n",
       "  <clipPath id=\"clip442\">\n",
       "    <rect x=\"172\" y=\"47\" width=\"2182\" height=\"1440\"/>\n",
       "  </clipPath>\n",
       "</defs>\n",
       "<polyline clip-path=\"url(#clip442)\" style=\"stroke:#000000; stroke-linecap:round; stroke-linejoin:round; stroke-width:2; stroke-opacity:0.1; fill:none\" points=\"233.146,1486.45 233.146,47.2441 \"/>\n",
       "<polyline clip-path=\"url(#clip442)\" style=\"stroke:#000000; stroke-linecap:round; stroke-linejoin:round; stroke-width:2; stroke-opacity:0.1; fill:none\" points=\"821.283,1486.45 821.283,47.2441 \"/>\n",
       "<polyline clip-path=\"url(#clip442)\" style=\"stroke:#000000; stroke-linecap:round; stroke-linejoin:round; stroke-width:2; stroke-opacity:0.1; fill:none\" points=\"1409.42,1486.45 1409.42,47.2441 \"/>\n",
       "<polyline clip-path=\"url(#clip442)\" style=\"stroke:#000000; stroke-linecap:round; stroke-linejoin:round; stroke-width:2; stroke-opacity:0.1; fill:none\" points=\"1997.56,1486.45 1997.56,47.2441 \"/>\n",
       "<polyline clip-path=\"url(#clip440)\" style=\"stroke:#000000; stroke-linecap:round; stroke-linejoin:round; stroke-width:4; stroke-opacity:1; fill:none\" points=\"172.015,1486.45 2352.76,1486.45 \"/>\n",
       "<polyline clip-path=\"url(#clip440)\" style=\"stroke:#000000; stroke-linecap:round; stroke-linejoin:round; stroke-width:4; stroke-opacity:1; fill:none\" points=\"233.146,1486.45 233.146,1467.55 \"/>\n",
       "<polyline clip-path=\"url(#clip440)\" style=\"stroke:#000000; stroke-linecap:round; stroke-linejoin:round; stroke-width:4; stroke-opacity:1; fill:none\" points=\"821.283,1486.45 821.283,1467.55 \"/>\n",
       "<polyline clip-path=\"url(#clip440)\" style=\"stroke:#000000; stroke-linecap:round; stroke-linejoin:round; stroke-width:4; stroke-opacity:1; fill:none\" points=\"1409.42,1486.45 1409.42,1467.55 \"/>\n",
       "<polyline clip-path=\"url(#clip440)\" style=\"stroke:#000000; stroke-linecap:round; stroke-linejoin:round; stroke-width:4; stroke-opacity:1; fill:none\" points=\"1997.56,1486.45 1997.56,1467.55 \"/>\n",
       "<path clip-path=\"url(#clip440)\" d=\"M210.576 1517.37 Q206.965 1517.37 205.137 1520.93 Q203.331 1524.47 203.331 1531.6 Q203.331 1538.71 205.137 1542.27 Q206.965 1545.82 210.576 1545.82 Q214.211 1545.82 216.016 1542.27 Q217.845 1538.71 217.845 1531.6 Q217.845 1524.47 216.016 1520.93 Q214.211 1517.37 210.576 1517.37 M210.576 1513.66 Q216.387 1513.66 219.442 1518.27 Q222.521 1522.85 222.521 1531.6 Q222.521 1540.33 219.442 1544.94 Q216.387 1549.52 210.576 1549.52 Q204.766 1549.52 201.688 1544.94 Q198.632 1540.33 198.632 1531.6 Q198.632 1522.85 201.688 1518.27 Q204.766 1513.66 210.576 1513.66 Z\" fill=\"#000000\" fill-rule=\"nonzero\" fill-opacity=\"1\" /><path clip-path=\"url(#clip440)\" d=\"M230.738 1542.97 L235.623 1542.97 L235.623 1548.85 L230.738 1548.85 L230.738 1542.97 Z\" fill=\"#000000\" fill-rule=\"nonzero\" fill-opacity=\"1\" /><path clip-path=\"url(#clip440)\" d=\"M255.808 1532.44 Q252.474 1532.44 250.553 1534.22 Q248.655 1536 248.655 1539.13 Q248.655 1542.25 250.553 1544.03 Q252.474 1545.82 255.808 1545.82 Q259.141 1545.82 261.062 1544.03 Q262.984 1542.23 262.984 1539.13 Q262.984 1536 261.062 1534.22 Q259.164 1532.44 255.808 1532.44 M251.132 1530.45 Q248.123 1529.7 246.433 1527.64 Q244.766 1525.58 244.766 1522.62 Q244.766 1518.48 247.706 1516.07 Q250.669 1513.66 255.808 1513.66 Q260.97 1513.66 263.909 1516.07 Q266.849 1518.48 266.849 1522.62 Q266.849 1525.58 265.159 1527.64 Q263.493 1529.7 260.507 1530.45 Q263.886 1531.23 265.761 1533.52 Q267.659 1535.82 267.659 1539.13 Q267.659 1544.15 264.581 1546.83 Q261.525 1549.52 255.808 1549.52 Q250.09 1549.52 247.011 1546.83 Q243.956 1544.15 243.956 1539.13 Q243.956 1535.82 245.854 1533.52 Q247.752 1531.23 251.132 1530.45 M249.419 1523.06 Q249.419 1525.75 251.085 1527.25 Q252.775 1528.76 255.808 1528.76 Q258.817 1528.76 260.507 1527.25 Q262.22 1525.75 262.22 1523.06 Q262.22 1520.38 260.507 1518.87 Q258.817 1517.37 255.808 1517.37 Q252.775 1517.37 251.085 1518.87 Q249.419 1520.38 249.419 1523.06 Z\" fill=\"#000000\" fill-rule=\"nonzero\" fill-opacity=\"1\" /><path clip-path=\"url(#clip440)\" d=\"M798.76 1517.37 Q795.149 1517.37 793.32 1520.93 Q791.514 1524.47 791.514 1531.6 Q791.514 1538.71 793.32 1542.27 Q795.149 1545.82 798.76 1545.82 Q802.394 1545.82 804.199 1542.27 Q806.028 1538.71 806.028 1531.6 Q806.028 1524.47 804.199 1520.93 Q802.394 1517.37 798.76 1517.37 M798.76 1513.66 Q804.57 1513.66 807.625 1518.27 Q810.704 1522.85 810.704 1531.6 Q810.704 1540.33 807.625 1544.94 Q804.57 1549.52 798.76 1549.52 Q792.949 1549.52 789.871 1544.94 Q786.815 1540.33 786.815 1531.6 Q786.815 1522.85 789.871 1518.27 Q792.949 1513.66 798.76 1513.66 Z\" fill=\"#000000\" fill-rule=\"nonzero\" fill-opacity=\"1\" /><path clip-path=\"url(#clip440)\" d=\"M818.922 1542.97 L823.806 1542.97 L823.806 1548.85 L818.922 1548.85 L818.922 1542.97 Z\" fill=\"#000000\" fill-rule=\"nonzero\" fill-opacity=\"1\" /><path clip-path=\"url(#clip440)\" d=\"M834.13 1548.13 L834.13 1543.87 Q835.889 1544.7 837.695 1545.14 Q839.5 1545.58 841.236 1545.58 Q845.866 1545.58 848.296 1542.48 Q850.75 1539.36 851.097 1533.01 Q849.755 1535.01 847.695 1536.07 Q845.634 1537.13 843.134 1537.13 Q837.949 1537.13 834.917 1534.01 Q831.908 1530.86 831.908 1525.42 Q831.908 1520.1 835.056 1516.88 Q838.204 1513.66 843.435 1513.66 Q849.431 1513.66 852.579 1518.27 Q855.75 1522.85 855.75 1531.6 Q855.75 1539.77 851.861 1544.66 Q847.995 1549.52 841.445 1549.52 Q839.685 1549.52 837.88 1549.17 Q836.074 1548.82 834.13 1548.13 M843.435 1533.48 Q846.583 1533.48 848.412 1531.32 Q850.264 1529.17 850.264 1525.42 Q850.264 1521.7 848.412 1519.54 Q846.583 1517.37 843.435 1517.37 Q840.287 1517.37 838.435 1519.54 Q836.607 1521.7 836.607 1525.42 Q836.607 1529.17 838.435 1531.32 Q840.287 1533.48 843.435 1533.48 Z\" fill=\"#000000\" fill-rule=\"nonzero\" fill-opacity=\"1\" /><path clip-path=\"url(#clip440)\" d=\"M1376.57 1544.91 L1384.21 1544.91 L1384.21 1518.55 L1375.9 1520.21 L1375.9 1515.95 L1384.17 1514.29 L1388.84 1514.29 L1388.84 1544.91 L1396.48 1544.91 L1396.48 1548.85 L1376.57 1548.85 L1376.57 1544.91 Z\" fill=\"#000000\" fill-rule=\"nonzero\" fill-opacity=\"1\" /><path clip-path=\"url(#clip440)\" d=\"M1405.92 1542.97 L1410.81 1542.97 L1410.81 1548.85 L1405.92 1548.85 L1405.92 1542.97 Z\" fill=\"#000000\" fill-rule=\"nonzero\" fill-opacity=\"1\" /><path clip-path=\"url(#clip440)\" d=\"M1430.99 1517.37 Q1427.38 1517.37 1425.55 1520.93 Q1423.75 1524.47 1423.75 1531.6 Q1423.75 1538.71 1425.55 1542.27 Q1427.38 1545.82 1430.99 1545.82 Q1434.63 1545.82 1436.43 1542.27 Q1438.26 1538.71 1438.26 1531.6 Q1438.26 1524.47 1436.43 1520.93 Q1434.63 1517.37 1430.99 1517.37 M1430.99 1513.66 Q1436.8 1513.66 1439.86 1518.27 Q1442.94 1522.85 1442.94 1531.6 Q1442.94 1540.33 1439.86 1544.94 Q1436.8 1549.52 1430.99 1549.52 Q1425.18 1549.52 1422.1 1544.94 Q1419.05 1540.33 1419.05 1531.6 Q1419.05 1522.85 1422.1 1518.27 Q1425.18 1513.66 1430.99 1513.66 Z\" fill=\"#000000\" fill-rule=\"nonzero\" fill-opacity=\"1\" /><path clip-path=\"url(#clip440)\" d=\"M1965.32 1544.91 L1972.96 1544.91 L1972.96 1518.55 L1964.65 1520.21 L1964.65 1515.95 L1972.92 1514.29 L1977.59 1514.29 L1977.59 1544.91 L1985.23 1544.91 L1985.23 1548.85 L1965.32 1548.85 L1965.32 1544.91 Z\" fill=\"#000000\" fill-rule=\"nonzero\" fill-opacity=\"1\" /><path clip-path=\"url(#clip440)\" d=\"M1994.67 1542.97 L1999.56 1542.97 L1999.56 1548.85 L1994.67 1548.85 L1994.67 1542.97 Z\" fill=\"#000000\" fill-rule=\"nonzero\" fill-opacity=\"1\" /><path clip-path=\"url(#clip440)\" d=\"M2010.55 1544.91 L2018.19 1544.91 L2018.19 1518.55 L2009.88 1520.21 L2009.88 1515.95 L2018.15 1514.29 L2022.82 1514.29 L2022.82 1544.91 L2030.46 1544.91 L2030.46 1548.85 L2010.55 1548.85 L2010.55 1544.91 Z\" fill=\"#000000\" fill-rule=\"nonzero\" fill-opacity=\"1\" /><polyline clip-path=\"url(#clip442)\" style=\"stroke:#000000; stroke-linecap:round; stroke-linejoin:round; stroke-width:2; stroke-opacity:0.1; fill:none\" points=\"172.015,1445.72 2352.76,1445.72 \"/>\n",
       "<polyline clip-path=\"url(#clip442)\" style=\"stroke:#000000; stroke-linecap:round; stroke-linejoin:round; stroke-width:2; stroke-opacity:0.1; fill:none\" points=\"172.015,1130.69 2352.76,1130.69 \"/>\n",
       "<polyline clip-path=\"url(#clip442)\" style=\"stroke:#000000; stroke-linecap:round; stroke-linejoin:round; stroke-width:2; stroke-opacity:0.1; fill:none\" points=\"172.015,815.674 2352.76,815.674 \"/>\n",
       "<polyline clip-path=\"url(#clip442)\" style=\"stroke:#000000; stroke-linecap:round; stroke-linejoin:round; stroke-width:2; stroke-opacity:0.1; fill:none\" points=\"172.015,500.653 2352.76,500.653 \"/>\n",
       "<polyline clip-path=\"url(#clip442)\" style=\"stroke:#000000; stroke-linecap:round; stroke-linejoin:round; stroke-width:2; stroke-opacity:0.1; fill:none\" points=\"172.015,185.633 2352.76,185.633 \"/>\n",
       "<polyline clip-path=\"url(#clip440)\" style=\"stroke:#000000; stroke-linecap:round; stroke-linejoin:round; stroke-width:4; stroke-opacity:1; fill:none\" points=\"172.015,1486.45 172.015,47.2441 \"/>\n",
       "<polyline clip-path=\"url(#clip440)\" style=\"stroke:#000000; stroke-linecap:round; stroke-linejoin:round; stroke-width:4; stroke-opacity:1; fill:none\" points=\"172.015,1445.72 190.912,1445.72 \"/>\n",
       "<polyline clip-path=\"url(#clip440)\" style=\"stroke:#000000; stroke-linecap:round; stroke-linejoin:round; stroke-width:4; stroke-opacity:1; fill:none\" points=\"172.015,1130.69 190.912,1130.69 \"/>\n",
       "<polyline clip-path=\"url(#clip440)\" style=\"stroke:#000000; stroke-linecap:round; stroke-linejoin:round; stroke-width:4; stroke-opacity:1; fill:none\" points=\"172.015,815.674 190.912,815.674 \"/>\n",
       "<polyline clip-path=\"url(#clip440)\" style=\"stroke:#000000; stroke-linecap:round; stroke-linejoin:round; stroke-width:4; stroke-opacity:1; fill:none\" points=\"172.015,500.653 190.912,500.653 \"/>\n",
       "<polyline clip-path=\"url(#clip440)\" style=\"stroke:#000000; stroke-linecap:round; stroke-linejoin:round; stroke-width:4; stroke-opacity:1; fill:none\" points=\"172.015,185.633 190.912,185.633 \"/>\n",
       "<path clip-path=\"url(#clip440)\" d=\"M124.07 1431.51 Q120.459 1431.51 118.631 1435.08 Q116.825 1438.62 116.825 1445.75 Q116.825 1452.86 118.631 1456.42 Q120.459 1459.96 124.07 1459.96 Q127.705 1459.96 129.51 1456.42 Q131.339 1452.86 131.339 1445.75 Q131.339 1438.62 129.51 1435.08 Q127.705 1431.51 124.07 1431.51 M124.07 1427.81 Q129.881 1427.81 132.936 1432.42 Q136.015 1437 136.015 1445.75 Q136.015 1454.48 132.936 1459.08 Q129.881 1463.67 124.07 1463.67 Q118.26 1463.67 115.182 1459.08 Q112.126 1454.48 112.126 1445.75 Q112.126 1437 115.182 1432.42 Q118.26 1427.81 124.07 1427.81 Z\" fill=\"#000000\" fill-rule=\"nonzero\" fill-opacity=\"1\" /><path clip-path=\"url(#clip440)\" d=\"M54.5569 1144.04 L62.1958 1144.04 L62.1958 1117.67 L53.8856 1119.34 L53.8856 1115.08 L62.1495 1113.41 L66.8254 1113.41 L66.8254 1144.04 L74.4642 1144.04 L74.4642 1147.97 L54.5569 1147.97 L54.5569 1144.04 Z\" fill=\"#000000\" fill-rule=\"nonzero\" fill-opacity=\"1\" /><path clip-path=\"url(#clip440)\" d=\"M93.9086 1116.49 Q90.2975 1116.49 88.4688 1120.06 Q86.6632 1123.6 86.6632 1130.73 Q86.6632 1137.84 88.4688 1141.4 Q90.2975 1144.94 93.9086 1144.94 Q97.5428 1144.94 99.3483 1141.4 Q101.177 1137.84 101.177 1130.73 Q101.177 1123.6 99.3483 1120.06 Q97.5428 1116.49 93.9086 1116.49 M93.9086 1112.79 Q99.7187 1112.79 102.774 1117.4 Q105.853 1121.98 105.853 1130.73 Q105.853 1139.46 102.774 1144.06 Q99.7187 1148.65 93.9086 1148.65 Q88.0984 1148.65 85.0197 1144.06 Q81.9642 1139.46 81.9642 1130.73 Q81.9642 1121.98 85.0197 1117.4 Q88.0984 1112.79 93.9086 1112.79 Z\" fill=\"#000000\" fill-rule=\"nonzero\" fill-opacity=\"1\" /><path clip-path=\"url(#clip440)\" d=\"M124.07 1116.49 Q120.459 1116.49 118.631 1120.06 Q116.825 1123.6 116.825 1130.73 Q116.825 1137.84 118.631 1141.4 Q120.459 1144.94 124.07 1144.94 Q127.705 1144.94 129.51 1141.4 Q131.339 1137.84 131.339 1130.73 Q131.339 1123.6 129.51 1120.06 Q127.705 1116.49 124.07 1116.49 M124.07 1112.79 Q129.881 1112.79 132.936 1117.4 Q136.015 1121.98 136.015 1130.73 Q136.015 1139.46 132.936 1144.06 Q129.881 1148.65 124.07 1148.65 Q118.26 1148.65 115.182 1144.06 Q112.126 1139.46 112.126 1130.73 Q112.126 1121.98 115.182 1117.4 Q118.26 1112.79 124.07 1112.79 Z\" fill=\"#000000\" fill-rule=\"nonzero\" fill-opacity=\"1\" /><path clip-path=\"url(#clip440)\" d=\"M57.7745 829.019 L74.0939 829.019 L74.0939 832.954 L52.1495 832.954 L52.1495 829.019 Q54.8115 826.264 59.3949 821.635 Q64.0013 816.982 65.1819 815.639 Q67.4272 813.116 68.3068 811.38 Q69.2096 809.621 69.2096 807.931 Q69.2096 805.177 67.2652 803.44 Q65.3439 801.704 62.2421 801.704 Q60.043 801.704 57.5893 802.468 Q55.1588 803.232 52.381 804.783 L52.381 800.061 Q55.2051 798.927 57.6588 798.348 Q60.1124 797.769 62.1495 797.769 Q67.5198 797.769 70.7142 800.454 Q73.9087 803.14 73.9087 807.63 Q73.9087 809.76 73.0985 811.681 Q72.3115 813.579 70.205 816.172 Q69.6263 816.843 66.5245 820.061 Q63.4226 823.255 57.7745 829.019 Z\" fill=\"#000000\" fill-rule=\"nonzero\" fill-opacity=\"1\" /><path clip-path=\"url(#clip440)\" d=\"M93.9086 801.473 Q90.2975 801.473 88.4688 805.038 Q86.6632 808.579 86.6632 815.709 Q86.6632 822.815 88.4688 826.38 Q90.2975 829.922 93.9086 829.922 Q97.5428 829.922 99.3483 826.38 Q101.177 822.815 101.177 815.709 Q101.177 808.579 99.3483 805.038 Q97.5428 801.473 93.9086 801.473 M93.9086 797.769 Q99.7187 797.769 102.774 802.376 Q105.853 806.959 105.853 815.709 Q105.853 824.436 102.774 829.042 Q99.7187 833.625 93.9086 833.625 Q88.0984 833.625 85.0197 829.042 Q81.9642 824.436 81.9642 815.709 Q81.9642 806.959 85.0197 802.376 Q88.0984 797.769 93.9086 797.769 Z\" fill=\"#000000\" fill-rule=\"nonzero\" fill-opacity=\"1\" /><path clip-path=\"url(#clip440)\" d=\"M124.07 801.473 Q120.459 801.473 118.631 805.038 Q116.825 808.579 116.825 815.709 Q116.825 822.815 118.631 826.38 Q120.459 829.922 124.07 829.922 Q127.705 829.922 129.51 826.38 Q131.339 822.815 131.339 815.709 Q131.339 808.579 129.51 805.038 Q127.705 801.473 124.07 801.473 M124.07 797.769 Q129.881 797.769 132.936 802.376 Q136.015 806.959 136.015 815.709 Q136.015 824.436 132.936 829.042 Q129.881 833.625 124.07 833.625 Q118.26 833.625 115.182 829.042 Q112.126 824.436 112.126 815.709 Q112.126 806.959 115.182 802.376 Q118.26 797.769 124.07 797.769 Z\" fill=\"#000000\" fill-rule=\"nonzero\" fill-opacity=\"1\" /><path clip-path=\"url(#clip440)\" d=\"M67.9133 499.299 Q71.2698 500.017 73.1448 502.285 Q75.0429 504.554 75.0429 507.887 Q75.0429 513.003 71.5244 515.804 Q68.0059 518.605 61.5245 518.605 Q59.3486 518.605 57.0338 518.165 Q54.7421 517.748 52.2884 516.892 L52.2884 512.378 Q54.2328 513.512 56.5477 514.091 Q58.8625 514.67 61.3856 514.67 Q65.7837 514.67 68.0754 512.933 Q70.3902 511.197 70.3902 507.887 Q70.3902 504.832 68.2374 503.119 Q66.1078 501.383 62.2884 501.383 L58.2606 501.383 L58.2606 497.54 L62.4735 497.54 Q65.9226 497.54 67.7513 496.174 Q69.58 494.785 69.58 492.193 Q69.58 489.531 67.6819 488.119 Q65.8069 486.684 62.2884 486.684 Q60.3671 486.684 58.168 487.1 Q55.969 487.517 53.3301 488.397 L53.3301 484.23 Q55.9921 483.489 58.3069 483.119 Q60.6449 482.748 62.705 482.748 Q68.0291 482.748 71.1309 485.179 Q74.2327 487.586 74.2327 491.707 Q74.2327 494.577 72.5892 496.568 Q70.9457 498.535 67.9133 499.299 Z\" fill=\"#000000\" fill-rule=\"nonzero\" fill-opacity=\"1\" /><path clip-path=\"url(#clip440)\" d=\"M93.9086 486.452 Q90.2975 486.452 88.4688 490.017 Q86.6632 493.559 86.6632 500.688 Q86.6632 507.795 88.4688 511.359 Q90.2975 514.901 93.9086 514.901 Q97.5428 514.901 99.3483 511.359 Q101.177 507.795 101.177 500.688 Q101.177 493.559 99.3483 490.017 Q97.5428 486.452 93.9086 486.452 M93.9086 482.748 Q99.7187 482.748 102.774 487.355 Q105.853 491.938 105.853 500.688 Q105.853 509.415 102.774 514.021 Q99.7187 518.605 93.9086 518.605 Q88.0984 518.605 85.0197 514.021 Q81.9642 509.415 81.9642 500.688 Q81.9642 491.938 85.0197 487.355 Q88.0984 482.748 93.9086 482.748 Z\" fill=\"#000000\" fill-rule=\"nonzero\" fill-opacity=\"1\" /><path clip-path=\"url(#clip440)\" d=\"M124.07 486.452 Q120.459 486.452 118.631 490.017 Q116.825 493.559 116.825 500.688 Q116.825 507.795 118.631 511.359 Q120.459 514.901 124.07 514.901 Q127.705 514.901 129.51 511.359 Q131.339 507.795 131.339 500.688 Q131.339 493.559 129.51 490.017 Q127.705 486.452 124.07 486.452 M124.07 482.748 Q129.881 482.748 132.936 487.355 Q136.015 491.938 136.015 500.688 Q136.015 509.415 132.936 514.021 Q129.881 518.605 124.07 518.605 Q118.26 518.605 115.182 514.021 Q112.126 509.415 112.126 500.688 Q112.126 491.938 115.182 487.355 Q118.26 482.748 124.07 482.748 Z\" fill=\"#000000\" fill-rule=\"nonzero\" fill-opacity=\"1\" /><path clip-path=\"url(#clip440)\" d=\"M66.5939 172.427 L54.7884 190.876 L66.5939 190.876 L66.5939 172.427 M65.367 168.353 L71.2466 168.353 L71.2466 190.876 L76.1772 190.876 L76.1772 194.765 L71.2466 194.765 L71.2466 202.913 L66.5939 202.913 L66.5939 194.765 L50.9921 194.765 L50.9921 190.251 L65.367 168.353 Z\" fill=\"#000000\" fill-rule=\"nonzero\" fill-opacity=\"1\" /><path clip-path=\"url(#clip440)\" d=\"M93.9086 171.431 Q90.2975 171.431 88.4688 174.996 Q86.6632 178.538 86.6632 185.667 Q86.6632 192.774 88.4688 196.339 Q90.2975 199.88 93.9086 199.88 Q97.5428 199.88 99.3483 196.339 Q101.177 192.774 101.177 185.667 Q101.177 178.538 99.3483 174.996 Q97.5428 171.431 93.9086 171.431 M93.9086 167.728 Q99.7187 167.728 102.774 172.334 Q105.853 176.917 105.853 185.667 Q105.853 194.394 102.774 199.001 Q99.7187 203.584 93.9086 203.584 Q88.0984 203.584 85.0197 199.001 Q81.9642 194.394 81.9642 185.667 Q81.9642 176.917 85.0197 172.334 Q88.0984 167.728 93.9086 167.728 Z\" fill=\"#000000\" fill-rule=\"nonzero\" fill-opacity=\"1\" /><path clip-path=\"url(#clip440)\" d=\"M124.07 171.431 Q120.459 171.431 118.631 174.996 Q116.825 178.538 116.825 185.667 Q116.825 192.774 118.631 196.339 Q120.459 199.88 124.07 199.88 Q127.705 199.88 129.51 196.339 Q131.339 192.774 131.339 185.667 Q131.339 178.538 129.51 174.996 Q127.705 171.431 124.07 171.431 M124.07 167.728 Q129.881 167.728 132.936 172.334 Q136.015 176.917 136.015 185.667 Q136.015 194.394 132.936 199.001 Q129.881 203.584 124.07 203.584 Q118.26 203.584 115.182 199.001 Q112.126 194.394 112.126 185.667 Q112.126 176.917 115.182 172.334 Q118.26 167.728 124.07 167.728 Z\" fill=\"#000000\" fill-rule=\"nonzero\" fill-opacity=\"1\" /><path clip-path=\"url(#clip442)\" d=\"M291.959 1442.57 L291.959 1445.72 L350.773 1445.72 L350.773 1442.57 L291.959 1442.57 L291.959 1442.57  Z\" fill=\"#009af9\" fill-rule=\"evenodd\" fill-opacity=\"1\"/>\n",
       "<polyline clip-path=\"url(#clip442)\" style=\"stroke:#000000; stroke-linecap:round; stroke-linejoin:round; stroke-width:4; stroke-opacity:1; fill:none\" points=\"291.959,1442.57 291.959,1445.72 350.773,1445.72 350.773,1442.57 291.959,1442.57 \"/>\n",
       "<path clip-path=\"url(#clip442)\" d=\"M350.773 1436.27 L350.773 1445.72 L409.587 1445.72 L409.587 1436.27 L350.773 1436.27 L350.773 1436.27  Z\" fill=\"#009af9\" fill-rule=\"evenodd\" fill-opacity=\"1\"/>\n",
       "<polyline clip-path=\"url(#clip442)\" style=\"stroke:#000000; stroke-linecap:round; stroke-linejoin:round; stroke-width:4; stroke-opacity:1; fill:none\" points=\"350.773,1436.27 350.773,1445.72 409.587,1445.72 409.587,1436.27 350.773,1436.27 \"/>\n",
       "<path clip-path=\"url(#clip442)\" d=\"M409.587 1436.27 L409.587 1445.72 L468.401 1445.72 L468.401 1436.27 L409.587 1436.27 L409.587 1436.27  Z\" fill=\"#009af9\" fill-rule=\"evenodd\" fill-opacity=\"1\"/>\n",
       "<polyline clip-path=\"url(#clip442)\" style=\"stroke:#000000; stroke-linecap:round; stroke-linejoin:round; stroke-width:4; stroke-opacity:1; fill:none\" points=\"409.587,1436.27 409.587,1445.72 468.401,1445.72 468.401,1436.27 409.587,1436.27 \"/>\n",
       "<path clip-path=\"url(#clip442)\" d=\"M468.401 1420.51 L468.401 1445.72 L527.214 1445.72 L527.214 1420.51 L468.401 1420.51 L468.401 1420.51  Z\" fill=\"#009af9\" fill-rule=\"evenodd\" fill-opacity=\"1\"/>\n",
       "<polyline clip-path=\"url(#clip442)\" style=\"stroke:#000000; stroke-linecap:round; stroke-linejoin:round; stroke-width:4; stroke-opacity:1; fill:none\" points=\"468.401,1420.51 468.401,1445.72 527.214,1445.72 527.214,1420.51 468.401,1420.51 \"/>\n",
       "<path clip-path=\"url(#clip442)\" d=\"M527.214 1366.96 L527.214 1445.72 L586.028 1445.72 L586.028 1366.96 L527.214 1366.96 L527.214 1366.96  Z\" fill=\"#009af9\" fill-rule=\"evenodd\" fill-opacity=\"1\"/>\n",
       "<polyline clip-path=\"url(#clip442)\" style=\"stroke:#000000; stroke-linecap:round; stroke-linejoin:round; stroke-width:4; stroke-opacity:1; fill:none\" points=\"527.214,1366.96 527.214,1445.72 586.028,1445.72 586.028,1366.96 527.214,1366.96 \"/>\n",
       "<path clip-path=\"url(#clip442)\" d=\"M586.028 1329.16 L586.028 1445.72 L644.842 1445.72 L644.842 1329.16 L586.028 1329.16 L586.028 1329.16  Z\" fill=\"#009af9\" fill-rule=\"evenodd\" fill-opacity=\"1\"/>\n",
       "<polyline clip-path=\"url(#clip442)\" style=\"stroke:#000000; stroke-linecap:round; stroke-linejoin:round; stroke-width:4; stroke-opacity:1; fill:none\" points=\"586.028,1329.16 586.028,1445.72 644.842,1445.72 644.842,1329.16 586.028,1329.16 \"/>\n",
       "<path clip-path=\"url(#clip442)\" d=\"M644.842 1269.3 L644.842 1445.72 L703.655 1445.72 L703.655 1269.3 L644.842 1269.3 L644.842 1269.3  Z\" fill=\"#009af9\" fill-rule=\"evenodd\" fill-opacity=\"1\"/>\n",
       "<polyline clip-path=\"url(#clip442)\" style=\"stroke:#000000; stroke-linecap:round; stroke-linejoin:round; stroke-width:4; stroke-opacity:1; fill:none\" points=\"644.842,1269.3 644.842,1445.72 703.655,1445.72 703.655,1269.3 644.842,1269.3 \"/>\n",
       "<path clip-path=\"url(#clip442)\" d=\"M703.655 1140.15 L703.655 1445.72 L762.469 1445.72 L762.469 1140.15 L703.655 1140.15 L703.655 1140.15  Z\" fill=\"#009af9\" fill-rule=\"evenodd\" fill-opacity=\"1\"/>\n",
       "<polyline clip-path=\"url(#clip442)\" style=\"stroke:#000000; stroke-linecap:round; stroke-linejoin:round; stroke-width:4; stroke-opacity:1; fill:none\" points=\"703.655,1140.15 703.655,1445.72 762.469,1445.72 762.469,1140.15 703.655,1140.15 \"/>\n",
       "<path clip-path=\"url(#clip442)\" d=\"M762.469 941.682 L762.469 1445.72 L821.283 1445.72 L821.283 941.682 L762.469 941.682 L762.469 941.682  Z\" fill=\"#009af9\" fill-rule=\"evenodd\" fill-opacity=\"1\"/>\n",
       "<polyline clip-path=\"url(#clip442)\" style=\"stroke:#000000; stroke-linecap:round; stroke-linejoin:round; stroke-width:4; stroke-opacity:1; fill:none\" points=\"762.469,941.682 762.469,1445.72 821.283,1445.72 821.283,941.682 762.469,941.682 \"/>\n",
       "<path clip-path=\"url(#clip442)\" d=\"M821.283 847.176 L821.283 1445.72 L880.096 1445.72 L880.096 847.176 L821.283 847.176 L821.283 847.176  Z\" fill=\"#009af9\" fill-rule=\"evenodd\" fill-opacity=\"1\"/>\n",
       "<polyline clip-path=\"url(#clip442)\" style=\"stroke:#000000; stroke-linecap:round; stroke-linejoin:round; stroke-width:4; stroke-opacity:1; fill:none\" points=\"821.283,847.176 821.283,1445.72 880.096,1445.72 880.096,847.176 821.283,847.176 \"/>\n",
       "<path clip-path=\"url(#clip442)\" d=\"M880.096 610.911 L880.096 1445.72 L938.91 1445.72 L938.91 610.911 L880.096 610.911 L880.096 610.911  Z\" fill=\"#009af9\" fill-rule=\"evenodd\" fill-opacity=\"1\"/>\n",
       "<polyline clip-path=\"url(#clip442)\" style=\"stroke:#000000; stroke-linecap:round; stroke-linejoin:round; stroke-width:4; stroke-opacity:1; fill:none\" points=\"880.096,610.911 880.096,1445.72 938.91,1445.72 938.91,610.911 880.096,610.911 \"/>\n",
       "<path clip-path=\"url(#clip442)\" d=\"M938.91 418.748 L938.91 1445.72 L997.724 1445.72 L997.724 418.748 L938.91 418.748 L938.91 418.748  Z\" fill=\"#009af9\" fill-rule=\"evenodd\" fill-opacity=\"1\"/>\n",
       "<polyline clip-path=\"url(#clip442)\" style=\"stroke:#000000; stroke-linecap:round; stroke-linejoin:round; stroke-width:4; stroke-opacity:1; fill:none\" points=\"938.91,418.748 938.91,1445.72 997.724,1445.72 997.724,418.748 938.91,418.748 \"/>\n",
       "<path clip-path=\"url(#clip442)\" d=\"M997.724 201.384 L997.724 1445.72 L1056.54 1445.72 L1056.54 201.384 L997.724 201.384 L997.724 201.384  Z\" fill=\"#009af9\" fill-rule=\"evenodd\" fill-opacity=\"1\"/>\n",
       "<polyline clip-path=\"url(#clip442)\" style=\"stroke:#000000; stroke-linecap:round; stroke-linejoin:round; stroke-width:4; stroke-opacity:1; fill:none\" points=\"997.724,201.384 997.724,1445.72 1056.54,1445.72 1056.54,201.384 997.724,201.384 \"/>\n",
       "<path clip-path=\"url(#clip442)\" d=\"M1056.54 232.886 L1056.54 1445.72 L1115.35 1445.72 L1115.35 232.886 L1056.54 232.886 L1056.54 232.886  Z\" fill=\"#009af9\" fill-rule=\"evenodd\" fill-opacity=\"1\"/>\n",
       "<polyline clip-path=\"url(#clip442)\" style=\"stroke:#000000; stroke-linecap:round; stroke-linejoin:round; stroke-width:4; stroke-opacity:1; fill:none\" points=\"1056.54,232.886 1056.54,1445.72 1115.35,1445.72 1115.35,232.886 1056.54,232.886 \"/>\n",
       "<path clip-path=\"url(#clip442)\" d=\"M1115.35 154.131 L1115.35 1445.72 L1174.16 1445.72 L1174.16 154.131 L1115.35 154.131 L1115.35 154.131  Z\" fill=\"#009af9\" fill-rule=\"evenodd\" fill-opacity=\"1\"/>\n",
       "<polyline clip-path=\"url(#clip442)\" style=\"stroke:#000000; stroke-linecap:round; stroke-linejoin:round; stroke-width:4; stroke-opacity:1; fill:none\" points=\"1115.35,154.131 1115.35,1445.72 1174.16,1445.72 1174.16,154.131 1115.35,154.131 \"/>\n",
       "<path clip-path=\"url(#clip442)\" d=\"M1174.16 87.9763 L1174.16 1445.72 L1232.98 1445.72 L1232.98 87.9763 L1174.16 87.9763 L1174.16 87.9763  Z\" fill=\"#009af9\" fill-rule=\"evenodd\" fill-opacity=\"1\"/>\n",
       "<polyline clip-path=\"url(#clip442)\" style=\"stroke:#000000; stroke-linecap:round; stroke-linejoin:round; stroke-width:4; stroke-opacity:1; fill:none\" points=\"1174.16,87.9763 1174.16,1445.72 1232.98,1445.72 1232.98,87.9763 1174.16,87.9763 \"/>\n",
       "<path clip-path=\"url(#clip442)\" d=\"M1232.98 135.229 L1232.98 1445.72 L1291.79 1445.72 L1291.79 135.229 L1232.98 135.229 L1232.98 135.229  Z\" fill=\"#009af9\" fill-rule=\"evenodd\" fill-opacity=\"1\"/>\n",
       "<polyline clip-path=\"url(#clip442)\" style=\"stroke:#000000; stroke-linecap:round; stroke-linejoin:round; stroke-width:4; stroke-opacity:1; fill:none\" points=\"1232.98,135.229 1232.98,1445.72 1291.79,1445.72 1291.79,135.229 1232.98,135.229 \"/>\n",
       "<path clip-path=\"url(#clip442)\" d=\"M1291.79 289.59 L1291.79 1445.72 L1350.61 1445.72 L1350.61 289.59 L1291.79 289.59 L1291.79 289.59  Z\" fill=\"#009af9\" fill-rule=\"evenodd\" fill-opacity=\"1\"/>\n",
       "<polyline clip-path=\"url(#clip442)\" style=\"stroke:#000000; stroke-linecap:round; stroke-linejoin:round; stroke-width:4; stroke-opacity:1; fill:none\" points=\"1291.79,289.59 1291.79,1445.72 1350.61,1445.72 1350.61,289.59 1291.79,289.59 \"/>\n",
       "<path clip-path=\"url(#clip442)\" d=\"M1350.61 374.645 L1350.61 1445.72 L1409.42 1445.72 L1409.42 374.645 L1350.61 374.645 L1350.61 374.645  Z\" fill=\"#009af9\" fill-rule=\"evenodd\" fill-opacity=\"1\"/>\n",
       "<polyline clip-path=\"url(#clip442)\" style=\"stroke:#000000; stroke-linecap:round; stroke-linejoin:round; stroke-width:4; stroke-opacity:1; fill:none\" points=\"1350.61,374.645 1350.61,1445.72 1409.42,1445.72 1409.42,374.645 1350.61,374.645 \"/>\n",
       "<path clip-path=\"url(#clip442)\" d=\"M1409.42 569.958 L1409.42 1445.72 L1468.23 1445.72 L1468.23 569.958 L1409.42 569.958 L1409.42 569.958  Z\" fill=\"#009af9\" fill-rule=\"evenodd\" fill-opacity=\"1\"/>\n",
       "<polyline clip-path=\"url(#clip442)\" style=\"stroke:#000000; stroke-linecap:round; stroke-linejoin:round; stroke-width:4; stroke-opacity:1; fill:none\" points=\"1409.42,569.958 1409.42,1445.72 1468.23,1445.72 1468.23,569.958 1409.42,569.958 \"/>\n",
       "<path clip-path=\"url(#clip442)\" d=\"M1468.23 680.215 L1468.23 1445.72 L1527.05 1445.72 L1527.05 680.215 L1468.23 680.215 L1468.23 680.215  Z\" fill=\"#009af9\" fill-rule=\"evenodd\" fill-opacity=\"1\"/>\n",
       "<polyline clip-path=\"url(#clip442)\" style=\"stroke:#000000; stroke-linecap:round; stroke-linejoin:round; stroke-width:4; stroke-opacity:1; fill:none\" points=\"1468.23,680.215 1468.23,1445.72 1527.05,1445.72 1527.05,680.215 1468.23,680.215 \"/>\n",
       "<path clip-path=\"url(#clip442)\" d=\"M1527.05 894.429 L1527.05 1445.72 L1585.86 1445.72 L1585.86 894.429 L1527.05 894.429 L1527.05 894.429  Z\" fill=\"#009af9\" fill-rule=\"evenodd\" fill-opacity=\"1\"/>\n",
       "<polyline clip-path=\"url(#clip442)\" style=\"stroke:#000000; stroke-linecap:round; stroke-linejoin:round; stroke-width:4; stroke-opacity:1; fill:none\" points=\"1527.05,894.429 1527.05,1445.72 1585.86,1445.72 1585.86,894.429 1527.05,894.429 \"/>\n",
       "<path clip-path=\"url(#clip442)\" d=\"M1585.86 1042.49 L1585.86 1445.72 L1644.67 1445.72 L1644.67 1042.49 L1585.86 1042.49 L1585.86 1042.49  Z\" fill=\"#009af9\" fill-rule=\"evenodd\" fill-opacity=\"1\"/>\n",
       "<polyline clip-path=\"url(#clip442)\" style=\"stroke:#000000; stroke-linecap:round; stroke-linejoin:round; stroke-width:4; stroke-opacity:1; fill:none\" points=\"1585.86,1042.49 1585.86,1445.72 1644.67,1445.72 1644.67,1042.49 1585.86,1042.49 \"/>\n",
       "<path clip-path=\"url(#clip442)\" d=\"M1644.67 1212.6 L1644.67 1445.72 L1703.49 1445.72 L1703.49 1212.6 L1644.67 1212.6 L1644.67 1212.6  Z\" fill=\"#009af9\" fill-rule=\"evenodd\" fill-opacity=\"1\"/>\n",
       "<polyline clip-path=\"url(#clip442)\" style=\"stroke:#000000; stroke-linecap:round; stroke-linejoin:round; stroke-width:4; stroke-opacity:1; fill:none\" points=\"1644.67,1212.6 1644.67,1445.72 1703.49,1445.72 1703.49,1212.6 1644.67,1212.6 \"/>\n",
       "<path clip-path=\"url(#clip442)\" d=\"M1703.49 1234.65 L1703.49 1445.72 L1762.3 1445.72 L1762.3 1234.65 L1703.49 1234.65 L1703.49 1234.65  Z\" fill=\"#009af9\" fill-rule=\"evenodd\" fill-opacity=\"1\"/>\n",
       "<polyline clip-path=\"url(#clip442)\" style=\"stroke:#000000; stroke-linecap:round; stroke-linejoin:round; stroke-width:4; stroke-opacity:1; fill:none\" points=\"1703.49,1234.65 1703.49,1445.72 1762.3,1445.72 1762.3,1234.65 1703.49,1234.65 \"/>\n",
       "<path clip-path=\"url(#clip442)\" d=\"M1762.3 1316.56 L1762.3 1445.72 L1821.12 1445.72 L1821.12 1316.56 L1762.3 1316.56 L1762.3 1316.56  Z\" fill=\"#009af9\" fill-rule=\"evenodd\" fill-opacity=\"1\"/>\n",
       "<polyline clip-path=\"url(#clip442)\" style=\"stroke:#000000; stroke-linecap:round; stroke-linejoin:round; stroke-width:4; stroke-opacity:1; fill:none\" points=\"1762.3,1316.56 1762.3,1445.72 1821.12,1445.72 1821.12,1316.56 1762.3,1316.56 \"/>\n",
       "<path clip-path=\"url(#clip442)\" d=\"M1821.12 1373.26 L1821.12 1445.72 L1879.93 1445.72 L1879.93 1373.26 L1821.12 1373.26 L1821.12 1373.26  Z\" fill=\"#009af9\" fill-rule=\"evenodd\" fill-opacity=\"1\"/>\n",
       "<polyline clip-path=\"url(#clip442)\" style=\"stroke:#000000; stroke-linecap:round; stroke-linejoin:round; stroke-width:4; stroke-opacity:1; fill:none\" points=\"1821.12,1373.26 1821.12,1445.72 1879.93,1445.72 1879.93,1373.26 1821.12,1373.26 \"/>\n",
       "<path clip-path=\"url(#clip442)\" d=\"M1879.93 1379.56 L1879.93 1445.72 L1938.74 1445.72 L1938.74 1379.56 L1879.93 1379.56 L1879.93 1379.56  Z\" fill=\"#009af9\" fill-rule=\"evenodd\" fill-opacity=\"1\"/>\n",
       "<polyline clip-path=\"url(#clip442)\" style=\"stroke:#000000; stroke-linecap:round; stroke-linejoin:round; stroke-width:4; stroke-opacity:1; fill:none\" points=\"1879.93,1379.56 1879.93,1445.72 1938.74,1445.72 1938.74,1379.56 1879.93,1379.56 \"/>\n",
       "<path clip-path=\"url(#clip442)\" d=\"M1938.74 1373.26 L1938.74 1445.72 L1997.56 1445.72 L1997.56 1373.26 L1938.74 1373.26 L1938.74 1373.26  Z\" fill=\"#009af9\" fill-rule=\"evenodd\" fill-opacity=\"1\"/>\n",
       "<polyline clip-path=\"url(#clip442)\" style=\"stroke:#000000; stroke-linecap:round; stroke-linejoin:round; stroke-width:4; stroke-opacity:1; fill:none\" points=\"1938.74,1373.26 1938.74,1445.72 1997.56,1445.72 1997.56,1373.26 1938.74,1373.26 \"/>\n",
       "<path clip-path=\"url(#clip442)\" d=\"M1997.56 1436.27 L1997.56 1445.72 L2056.37 1445.72 L2056.37 1436.27 L1997.56 1436.27 L1997.56 1436.27  Z\" fill=\"#009af9\" fill-rule=\"evenodd\" fill-opacity=\"1\"/>\n",
       "<polyline clip-path=\"url(#clip442)\" style=\"stroke:#000000; stroke-linecap:round; stroke-linejoin:round; stroke-width:4; stroke-opacity:1; fill:none\" points=\"1997.56,1436.27 1997.56,1445.72 2056.37,1445.72 2056.37,1436.27 1997.56,1436.27 \"/>\n",
       "<path clip-path=\"url(#clip442)\" d=\"M2056.37 1429.96 L2056.37 1445.72 L2115.18 1445.72 L2115.18 1429.96 L2056.37 1429.96 L2056.37 1429.96  Z\" fill=\"#009af9\" fill-rule=\"evenodd\" fill-opacity=\"1\"/>\n",
       "<polyline clip-path=\"url(#clip442)\" style=\"stroke:#000000; stroke-linecap:round; stroke-linejoin:round; stroke-width:4; stroke-opacity:1; fill:none\" points=\"2056.37,1429.96 2056.37,1445.72 2115.18,1445.72 2115.18,1429.96 2056.37,1429.96 \"/>\n",
       "<path clip-path=\"url(#clip442)\" d=\"M2115.18 1439.42 L2115.18 1445.72 L2174 1445.72 L2174 1439.42 L2115.18 1439.42 L2115.18 1439.42  Z\" fill=\"#009af9\" fill-rule=\"evenodd\" fill-opacity=\"1\"/>\n",
       "<polyline clip-path=\"url(#clip442)\" style=\"stroke:#000000; stroke-linecap:round; stroke-linejoin:round; stroke-width:4; stroke-opacity:1; fill:none\" points=\"2115.18,1439.42 2115.18,1445.72 2174,1445.72 2174,1439.42 2115.18,1439.42 \"/>\n",
       "<path clip-path=\"url(#clip442)\" d=\"M2174 1439.42 L2174 1445.72 L2232.81 1445.72 L2232.81 1439.42 L2174 1439.42 L2174 1439.42  Z\" fill=\"#009af9\" fill-rule=\"evenodd\" fill-opacity=\"1\"/>\n",
       "<polyline clip-path=\"url(#clip442)\" style=\"stroke:#000000; stroke-linecap:round; stroke-linejoin:round; stroke-width:4; stroke-opacity:1; fill:none\" points=\"2174,1439.42 2174,1445.72 2232.81,1445.72 2232.81,1439.42 2174,1439.42 \"/>\n",
       "<circle clip-path=\"url(#clip442)\" style=\"fill:#009af9; stroke:none; fill-opacity:0\" cx=\"321.366\" cy=\"1442.57\" r=\"2\"/>\n",
       "<circle clip-path=\"url(#clip442)\" style=\"fill:#009af9; stroke:none; fill-opacity:0\" cx=\"380.18\" cy=\"1436.27\" r=\"2\"/>\n",
       "<circle clip-path=\"url(#clip442)\" style=\"fill:#009af9; stroke:none; fill-opacity:0\" cx=\"438.994\" cy=\"1436.27\" r=\"2\"/>\n",
       "<circle clip-path=\"url(#clip442)\" style=\"fill:#009af9; stroke:none; fill-opacity:0\" cx=\"497.807\" cy=\"1420.51\" r=\"2\"/>\n",
       "<circle clip-path=\"url(#clip442)\" style=\"fill:#009af9; stroke:none; fill-opacity:0\" cx=\"556.621\" cy=\"1366.96\" r=\"2\"/>\n",
       "<circle clip-path=\"url(#clip442)\" style=\"fill:#009af9; stroke:none; fill-opacity:0\" cx=\"615.435\" cy=\"1329.16\" r=\"2\"/>\n",
       "<circle clip-path=\"url(#clip442)\" style=\"fill:#009af9; stroke:none; fill-opacity:0\" cx=\"674.248\" cy=\"1269.3\" r=\"2\"/>\n",
       "<circle clip-path=\"url(#clip442)\" style=\"fill:#009af9; stroke:none; fill-opacity:0\" cx=\"733.062\" cy=\"1140.15\" r=\"2\"/>\n",
       "<circle clip-path=\"url(#clip442)\" style=\"fill:#009af9; stroke:none; fill-opacity:0\" cx=\"791.876\" cy=\"941.682\" r=\"2\"/>\n",
       "<circle clip-path=\"url(#clip442)\" style=\"fill:#009af9; stroke:none; fill-opacity:0\" cx=\"850.69\" cy=\"847.176\" r=\"2\"/>\n",
       "<circle clip-path=\"url(#clip442)\" style=\"fill:#009af9; stroke:none; fill-opacity:0\" cx=\"909.503\" cy=\"610.911\" r=\"2\"/>\n",
       "<circle clip-path=\"url(#clip442)\" style=\"fill:#009af9; stroke:none; fill-opacity:0\" cx=\"968.317\" cy=\"418.748\" r=\"2\"/>\n",
       "<circle clip-path=\"url(#clip442)\" style=\"fill:#009af9; stroke:none; fill-opacity:0\" cx=\"1027.13\" cy=\"201.384\" r=\"2\"/>\n",
       "<circle clip-path=\"url(#clip442)\" style=\"fill:#009af9; stroke:none; fill-opacity:0\" cx=\"1085.94\" cy=\"232.886\" r=\"2\"/>\n",
       "<circle clip-path=\"url(#clip442)\" style=\"fill:#009af9; stroke:none; fill-opacity:0\" cx=\"1144.76\" cy=\"154.131\" r=\"2\"/>\n",
       "<circle clip-path=\"url(#clip442)\" style=\"fill:#009af9; stroke:none; fill-opacity:0\" cx=\"1203.57\" cy=\"87.9763\" r=\"2\"/>\n",
       "<circle clip-path=\"url(#clip442)\" style=\"fill:#009af9; stroke:none; fill-opacity:0\" cx=\"1262.39\" cy=\"135.229\" r=\"2\"/>\n",
       "<circle clip-path=\"url(#clip442)\" style=\"fill:#009af9; stroke:none; fill-opacity:0\" cx=\"1321.2\" cy=\"289.59\" r=\"2\"/>\n",
       "<circle clip-path=\"url(#clip442)\" style=\"fill:#009af9; stroke:none; fill-opacity:0\" cx=\"1380.01\" cy=\"374.645\" r=\"2\"/>\n",
       "<circle clip-path=\"url(#clip442)\" style=\"fill:#009af9; stroke:none; fill-opacity:0\" cx=\"1438.83\" cy=\"569.958\" r=\"2\"/>\n",
       "<circle clip-path=\"url(#clip442)\" style=\"fill:#009af9; stroke:none; fill-opacity:0\" cx=\"1497.64\" cy=\"680.215\" r=\"2\"/>\n",
       "<circle clip-path=\"url(#clip442)\" style=\"fill:#009af9; stroke:none; fill-opacity:0\" cx=\"1556.45\" cy=\"894.429\" r=\"2\"/>\n",
       "<circle clip-path=\"url(#clip442)\" style=\"fill:#009af9; stroke:none; fill-opacity:0\" cx=\"1615.27\" cy=\"1042.49\" r=\"2\"/>\n",
       "<circle clip-path=\"url(#clip442)\" style=\"fill:#009af9; stroke:none; fill-opacity:0\" cx=\"1674.08\" cy=\"1212.6\" r=\"2\"/>\n",
       "<circle clip-path=\"url(#clip442)\" style=\"fill:#009af9; stroke:none; fill-opacity:0\" cx=\"1732.89\" cy=\"1234.65\" r=\"2\"/>\n",
       "<circle clip-path=\"url(#clip442)\" style=\"fill:#009af9; stroke:none; fill-opacity:0\" cx=\"1791.71\" cy=\"1316.56\" r=\"2\"/>\n",
       "<circle clip-path=\"url(#clip442)\" style=\"fill:#009af9; stroke:none; fill-opacity:0\" cx=\"1850.52\" cy=\"1373.26\" r=\"2\"/>\n",
       "<circle clip-path=\"url(#clip442)\" style=\"fill:#009af9; stroke:none; fill-opacity:0\" cx=\"1909.34\" cy=\"1379.56\" r=\"2\"/>\n",
       "<circle clip-path=\"url(#clip442)\" style=\"fill:#009af9; stroke:none; fill-opacity:0\" cx=\"1968.15\" cy=\"1373.26\" r=\"2\"/>\n",
       "<circle clip-path=\"url(#clip442)\" style=\"fill:#009af9; stroke:none; fill-opacity:0\" cx=\"2026.96\" cy=\"1436.27\" r=\"2\"/>\n",
       "<circle clip-path=\"url(#clip442)\" style=\"fill:#009af9; stroke:none; fill-opacity:0\" cx=\"2085.78\" cy=\"1429.96\" r=\"2\"/>\n",
       "<circle clip-path=\"url(#clip442)\" style=\"fill:#009af9; stroke:none; fill-opacity:0\" cx=\"2144.59\" cy=\"1439.42\" r=\"2\"/>\n",
       "<circle clip-path=\"url(#clip442)\" style=\"fill:#009af9; stroke:none; fill-opacity:0\" cx=\"2203.4\" cy=\"1439.42\" r=\"2\"/>\n",
       "<path clip-path=\"url(#clip440)\" d=\"M2009.56 198.898 L2280.06 198.898 L2280.06 95.2176 L2009.56 95.2176  Z\" fill=\"#ffffff\" fill-rule=\"evenodd\" fill-opacity=\"1\"/>\n",
       "<polyline clip-path=\"url(#clip440)\" style=\"stroke:#000000; stroke-linecap:round; stroke-linejoin:round; stroke-width:4; stroke-opacity:1; fill:none\" points=\"2009.56,198.898 2280.06,198.898 2280.06,95.2176 2009.56,95.2176 2009.56,198.898 \"/>\n",
       "<path clip-path=\"url(#clip440)\" d=\"M2033.79 167.794 L2179.17 167.794 L2179.17 126.322 L2033.79 126.322 L2033.79 167.794  Z\" fill=\"#009af9\" fill-rule=\"evenodd\" fill-opacity=\"1\"/>\n",
       "<polyline clip-path=\"url(#clip440)\" style=\"stroke:#000000; stroke-linecap:round; stroke-linejoin:round; stroke-width:4; stroke-opacity:1; fill:none\" points=\"2033.79,167.794 2179.17,167.794 2179.17,126.322 2033.79,126.322 2033.79,167.794 \"/>\n",
       "<path clip-path=\"url(#clip440)\" d=\"M2217.25 166.745 Q2215.44 171.375 2213.73 172.787 Q2212.01 174.199 2209.14 174.199 L2205.74 174.199 L2205.74 170.634 L2208.24 170.634 Q2210 170.634 2210.97 169.8 Q2211.95 168.967 2213.13 165.865 L2213.89 163.921 L2203.4 138.412 L2207.92 138.412 L2216.02 158.689 L2224.12 138.412 L2228.64 138.412 L2217.25 166.745 Z\" fill=\"#000000\" fill-rule=\"nonzero\" fill-opacity=\"1\" /><path clip-path=\"url(#clip440)\" d=\"M2235.93 160.402 L2243.57 160.402 L2243.57 134.037 L2235.26 135.703 L2235.26 131.444 L2243.52 129.778 L2248.2 129.778 L2248.2 160.402 L2255.83 160.402 L2255.83 164.338 L2235.93 164.338 L2235.93 160.402 Z\" fill=\"#000000\" fill-rule=\"nonzero\" fill-opacity=\"1\" /></svg>\n"
      ]
     },
     "execution_count": 26,
     "metadata": {},
     "output_type": "execute_result"
    }
   ],
   "source": [
    "histogram(test[2])"
   ]
  },
  {
   "cell_type": "code",
   "execution_count": 27,
   "id": "dedicated-expert",
   "metadata": {},
   "outputs": [
    {
     "data": {
      "image/svg+xml": [
       "<?xml version=\"1.0\" encoding=\"utf-8\"?>\n",
       "<svg xmlns=\"http://www.w3.org/2000/svg\" xmlns:xlink=\"http://www.w3.org/1999/xlink\" width=\"600\" height=\"400\" viewBox=\"0 0 2400 1600\">\n",
       "<defs>\n",
       "  <clipPath id=\"clip480\">\n",
       "    <rect x=\"0\" y=\"0\" width=\"2400\" height=\"1600\"/>\n",
       "  </clipPath>\n",
       "</defs>\n",
       "<path clip-path=\"url(#clip480)\" d=\"M0 1600 L2400 1600 L2400 0 L0 0  Z\" fill=\"#ffffff\" fill-rule=\"evenodd\" fill-opacity=\"1\"/>\n",
       "<defs>\n",
       "  <clipPath id=\"clip481\">\n",
       "    <rect x=\"480\" y=\"0\" width=\"1681\" height=\"1600\"/>\n",
       "  </clipPath>\n",
       "</defs>\n",
       "<path clip-path=\"url(#clip480)\" d=\"M172.015 1486.45 L2352.76 1486.45 L2352.76 47.2441 L172.015 47.2441  Z\" fill=\"#ffffff\" fill-rule=\"evenodd\" fill-opacity=\"1\"/>\n",
       "<defs>\n",
       "  <clipPath id=\"clip482\">\n",
       "    <rect x=\"172\" y=\"47\" width=\"2182\" height=\"1440\"/>\n",
       "  </clipPath>\n",
       "</defs>\n",
       "<polyline clip-path=\"url(#clip482)\" style=\"stroke:#000000; stroke-linecap:round; stroke-linejoin:round; stroke-width:2; stroke-opacity:0.1; fill:none\" points=\"217.311,1486.45 217.311,47.2441 \"/>\n",
       "<polyline clip-path=\"url(#clip482)\" style=\"stroke:#000000; stroke-linecap:round; stroke-linejoin:round; stroke-width:2; stroke-opacity:0.1; fill:none\" points=\"590.552,1486.45 590.552,47.2441 \"/>\n",
       "<polyline clip-path=\"url(#clip482)\" style=\"stroke:#000000; stroke-linecap:round; stroke-linejoin:round; stroke-width:2; stroke-opacity:0.1; fill:none\" points=\"963.793,1486.45 963.793,47.2441 \"/>\n",
       "<polyline clip-path=\"url(#clip482)\" style=\"stroke:#000000; stroke-linecap:round; stroke-linejoin:round; stroke-width:2; stroke-opacity:0.1; fill:none\" points=\"1337.03,1486.45 1337.03,47.2441 \"/>\n",
       "<polyline clip-path=\"url(#clip482)\" style=\"stroke:#000000; stroke-linecap:round; stroke-linejoin:round; stroke-width:2; stroke-opacity:0.1; fill:none\" points=\"1710.27,1486.45 1710.27,47.2441 \"/>\n",
       "<polyline clip-path=\"url(#clip482)\" style=\"stroke:#000000; stroke-linecap:round; stroke-linejoin:round; stroke-width:2; stroke-opacity:0.1; fill:none\" points=\"2083.51,1486.45 2083.51,47.2441 \"/>\n",
       "<polyline clip-path=\"url(#clip480)\" style=\"stroke:#000000; stroke-linecap:round; stroke-linejoin:round; stroke-width:4; stroke-opacity:1; fill:none\" points=\"172.015,1486.45 2352.76,1486.45 \"/>\n",
       "<polyline clip-path=\"url(#clip480)\" style=\"stroke:#000000; stroke-linecap:round; stroke-linejoin:round; stroke-width:4; stroke-opacity:1; fill:none\" points=\"217.311,1486.45 217.311,1467.55 \"/>\n",
       "<polyline clip-path=\"url(#clip480)\" style=\"stroke:#000000; stroke-linecap:round; stroke-linejoin:round; stroke-width:4; stroke-opacity:1; fill:none\" points=\"590.552,1486.45 590.552,1467.55 \"/>\n",
       "<polyline clip-path=\"url(#clip480)\" style=\"stroke:#000000; stroke-linecap:round; stroke-linejoin:round; stroke-width:4; stroke-opacity:1; fill:none\" points=\"963.793,1486.45 963.793,1467.55 \"/>\n",
       "<polyline clip-path=\"url(#clip480)\" style=\"stroke:#000000; stroke-linecap:round; stroke-linejoin:round; stroke-width:4; stroke-opacity:1; fill:none\" points=\"1337.03,1486.45 1337.03,1467.55 \"/>\n",
       "<polyline clip-path=\"url(#clip480)\" style=\"stroke:#000000; stroke-linecap:round; stroke-linejoin:round; stroke-width:4; stroke-opacity:1; fill:none\" points=\"1710.27,1486.45 1710.27,1467.55 \"/>\n",
       "<polyline clip-path=\"url(#clip480)\" style=\"stroke:#000000; stroke-linecap:round; stroke-linejoin:round; stroke-width:4; stroke-opacity:1; fill:none\" points=\"2083.51,1486.45 2083.51,1467.55 \"/>\n",
       "<path clip-path=\"url(#clip480)\" d=\"M179.615 1517.37 Q176.004 1517.37 174.175 1520.93 Q172.369 1524.47 172.369 1531.6 Q172.369 1538.71 174.175 1542.27 Q176.004 1545.82 179.615 1545.82 Q183.249 1545.82 185.055 1542.27 Q186.883 1538.71 186.883 1531.6 Q186.883 1524.47 185.055 1520.93 Q183.249 1517.37 179.615 1517.37 M179.615 1513.66 Q185.425 1513.66 188.48 1518.27 Q191.559 1522.85 191.559 1531.6 Q191.559 1540.33 188.48 1544.94 Q185.425 1549.52 179.615 1549.52 Q173.805 1549.52 170.726 1544.94 Q167.67 1540.33 167.67 1531.6 Q167.67 1522.85 170.726 1518.27 Q173.805 1513.66 179.615 1513.66 Z\" fill=\"#000000\" fill-rule=\"nonzero\" fill-opacity=\"1\" /><path clip-path=\"url(#clip480)\" d=\"M199.777 1542.97 L204.661 1542.97 L204.661 1548.85 L199.777 1548.85 L199.777 1542.97 Z\" fill=\"#000000\" fill-rule=\"nonzero\" fill-opacity=\"1\" /><path clip-path=\"url(#clip480)\" d=\"M214.892 1514.29 L233.249 1514.29 L233.249 1518.22 L219.175 1518.22 L219.175 1526.7 Q220.193 1526.35 221.212 1526.19 Q222.23 1526 223.249 1526 Q229.036 1526 232.415 1529.17 Q235.795 1532.34 235.795 1537.76 Q235.795 1543.34 232.323 1546.44 Q228.851 1549.52 222.531 1549.52 Q220.355 1549.52 218.087 1549.15 Q215.841 1548.78 213.434 1548.04 L213.434 1543.34 Q215.517 1544.47 217.74 1545.03 Q219.962 1545.58 222.439 1545.58 Q226.443 1545.58 228.781 1543.48 Q231.119 1541.37 231.119 1537.76 Q231.119 1534.15 228.781 1532.04 Q226.443 1529.94 222.439 1529.94 Q220.564 1529.94 218.689 1530.35 Q216.837 1530.77 214.892 1531.65 L214.892 1514.29 Z\" fill=\"#000000\" fill-rule=\"nonzero\" fill-opacity=\"1\" /><path clip-path=\"url(#clip480)\" d=\"M255.008 1517.37 Q251.397 1517.37 249.568 1520.93 Q247.763 1524.47 247.763 1531.6 Q247.763 1538.71 249.568 1542.27 Q251.397 1545.82 255.008 1545.82 Q258.642 1545.82 260.448 1542.27 Q262.276 1538.71 262.276 1531.6 Q262.276 1524.47 260.448 1520.93 Q258.642 1517.37 255.008 1517.37 M255.008 1513.66 Q260.818 1513.66 263.874 1518.27 Q266.952 1522.85 266.952 1531.6 Q266.952 1540.33 263.874 1544.94 Q260.818 1549.52 255.008 1549.52 Q249.198 1549.52 246.119 1544.94 Q243.063 1540.33 243.063 1531.6 Q243.063 1522.85 246.119 1518.27 Q249.198 1513.66 255.008 1513.66 Z\" fill=\"#000000\" fill-rule=\"nonzero\" fill-opacity=\"1\" /><path clip-path=\"url(#clip480)\" d=\"M553.353 1517.37 Q549.742 1517.37 547.913 1520.93 Q546.108 1524.47 546.108 1531.6 Q546.108 1538.71 547.913 1542.27 Q549.742 1545.82 553.353 1545.82 Q556.987 1545.82 558.793 1542.27 Q560.622 1538.71 560.622 1531.6 Q560.622 1524.47 558.793 1520.93 Q556.987 1517.37 553.353 1517.37 M553.353 1513.66 Q559.163 1513.66 562.219 1518.27 Q565.298 1522.85 565.298 1531.6 Q565.298 1540.33 562.219 1544.94 Q559.163 1549.52 553.353 1549.52 Q547.543 1549.52 544.464 1544.94 Q541.409 1540.33 541.409 1531.6 Q541.409 1522.85 544.464 1518.27 Q547.543 1513.66 553.353 1513.66 Z\" fill=\"#000000\" fill-rule=\"nonzero\" fill-opacity=\"1\" /><path clip-path=\"url(#clip480)\" d=\"M573.515 1542.97 L578.399 1542.97 L578.399 1548.85 L573.515 1548.85 L573.515 1542.97 Z\" fill=\"#000000\" fill-rule=\"nonzero\" fill-opacity=\"1\" /><path clip-path=\"url(#clip480)\" d=\"M588.631 1514.29 L606.987 1514.29 L606.987 1518.22 L592.913 1518.22 L592.913 1526.7 Q593.932 1526.35 594.95 1526.19 Q595.969 1526 596.987 1526 Q602.774 1526 606.154 1529.17 Q609.533 1532.34 609.533 1537.76 Q609.533 1543.34 606.061 1546.44 Q602.589 1549.52 596.27 1549.52 Q594.094 1549.52 591.825 1549.15 Q589.58 1548.78 587.172 1548.04 L587.172 1543.34 Q589.256 1544.47 591.478 1545.03 Q593.7 1545.58 596.177 1545.58 Q600.182 1545.58 602.52 1543.48 Q604.858 1541.37 604.858 1537.76 Q604.858 1534.15 602.52 1532.04 Q600.182 1529.94 596.177 1529.94 Q594.302 1529.94 592.427 1530.35 Q590.575 1530.77 588.631 1531.65 L588.631 1514.29 Z\" fill=\"#000000\" fill-rule=\"nonzero\" fill-opacity=\"1\" /><path clip-path=\"url(#clip480)\" d=\"M618.793 1514.29 L637.149 1514.29 L637.149 1518.22 L623.075 1518.22 L623.075 1526.7 Q624.094 1526.35 625.112 1526.19 Q626.131 1526 627.149 1526 Q632.936 1526 636.316 1529.17 Q639.695 1532.34 639.695 1537.76 Q639.695 1543.34 636.223 1546.44 Q632.751 1549.52 626.431 1549.52 Q624.256 1549.52 621.987 1549.15 Q619.742 1548.78 617.334 1548.04 L617.334 1543.34 Q619.418 1544.47 621.64 1545.03 Q623.862 1545.58 626.339 1545.58 Q630.343 1545.58 632.681 1543.48 Q635.019 1541.37 635.019 1537.76 Q635.019 1534.15 632.681 1532.04 Q630.343 1529.94 626.339 1529.94 Q624.464 1529.94 622.589 1530.35 Q620.737 1530.77 618.793 1531.65 L618.793 1514.29 Z\" fill=\"#000000\" fill-rule=\"nonzero\" fill-opacity=\"1\" /><path clip-path=\"url(#clip480)\" d=\"M926.096 1517.37 Q922.485 1517.37 920.656 1520.93 Q918.851 1524.47 918.851 1531.6 Q918.851 1538.71 920.656 1542.27 Q922.485 1545.82 926.096 1545.82 Q929.73 1545.82 931.536 1542.27 Q933.365 1538.71 933.365 1531.6 Q933.365 1524.47 931.536 1520.93 Q929.73 1517.37 926.096 1517.37 M926.096 1513.66 Q931.906 1513.66 934.962 1518.27 Q938.041 1522.85 938.041 1531.6 Q938.041 1540.33 934.962 1544.94 Q931.906 1549.52 926.096 1549.52 Q920.286 1549.52 917.207 1544.94 Q914.152 1540.33 914.152 1531.6 Q914.152 1522.85 917.207 1518.27 Q920.286 1513.66 926.096 1513.66 Z\" fill=\"#000000\" fill-rule=\"nonzero\" fill-opacity=\"1\" /><path clip-path=\"url(#clip480)\" d=\"M946.258 1542.97 L951.142 1542.97 L951.142 1548.85 L946.258 1548.85 L946.258 1542.97 Z\" fill=\"#000000\" fill-rule=\"nonzero\" fill-opacity=\"1\" /><path clip-path=\"url(#clip480)\" d=\"M971.906 1529.7 Q968.758 1529.7 966.906 1531.86 Q965.077 1534.01 965.077 1537.76 Q965.077 1541.49 966.906 1543.66 Q968.758 1545.82 971.906 1545.82 Q975.054 1545.82 976.883 1543.66 Q978.735 1541.49 978.735 1537.76 Q978.735 1534.01 976.883 1531.86 Q975.054 1529.7 971.906 1529.7 M981.189 1515.05 L981.189 1519.31 Q979.429 1518.48 977.624 1518.04 Q975.841 1517.6 974.082 1517.6 Q969.452 1517.6 966.999 1520.72 Q964.568 1523.85 964.221 1530.17 Q965.587 1528.15 967.647 1527.09 Q969.707 1526 972.184 1526 Q977.392 1526 980.401 1529.17 Q983.434 1532.32 983.434 1537.76 Q983.434 1543.08 980.286 1546.3 Q977.138 1549.52 971.906 1549.52 Q965.911 1549.52 962.74 1544.94 Q959.568 1540.33 959.568 1531.6 Q959.568 1523.41 963.457 1518.55 Q967.346 1513.66 973.897 1513.66 Q975.656 1513.66 977.439 1514.01 Q979.244 1514.36 981.189 1515.05 Z\" fill=\"#000000\" fill-rule=\"nonzero\" fill-opacity=\"1\" /><path clip-path=\"url(#clip480)\" d=\"M1001.49 1517.37 Q997.878 1517.37 996.05 1520.93 Q994.244 1524.47 994.244 1531.6 Q994.244 1538.71 996.05 1542.27 Q997.878 1545.82 1001.49 1545.82 Q1005.12 1545.82 1006.93 1542.27 Q1008.76 1538.71 1008.76 1531.6 Q1008.76 1524.47 1006.93 1520.93 Q1005.12 1517.37 1001.49 1517.37 M1001.49 1513.66 Q1007.3 1513.66 1010.36 1518.27 Q1013.43 1522.85 1013.43 1531.6 Q1013.43 1540.33 1010.36 1544.94 Q1007.3 1549.52 1001.49 1549.52 Q995.679 1549.52 992.6 1544.94 Q989.545 1540.33 989.545 1531.6 Q989.545 1522.85 992.6 1518.27 Q995.679 1513.66 1001.49 1513.66 Z\" fill=\"#000000\" fill-rule=\"nonzero\" fill-opacity=\"1\" /><path clip-path=\"url(#clip480)\" d=\"M1299.83 1517.37 Q1296.22 1517.37 1294.39 1520.93 Q1292.59 1524.47 1292.59 1531.6 Q1292.59 1538.71 1294.39 1542.27 Q1296.22 1545.82 1299.83 1545.82 Q1303.47 1545.82 1305.27 1542.27 Q1307.1 1538.71 1307.1 1531.6 Q1307.1 1524.47 1305.27 1520.93 Q1303.47 1517.37 1299.83 1517.37 M1299.83 1513.66 Q1305.64 1513.66 1308.7 1518.27 Q1311.78 1522.85 1311.78 1531.6 Q1311.78 1540.33 1308.7 1544.94 Q1305.64 1549.52 1299.83 1549.52 Q1294.02 1549.52 1290.95 1544.94 Q1287.89 1540.33 1287.89 1531.6 Q1287.89 1522.85 1290.95 1518.27 Q1294.02 1513.66 1299.83 1513.66 Z\" fill=\"#000000\" fill-rule=\"nonzero\" fill-opacity=\"1\" /><path clip-path=\"url(#clip480)\" d=\"M1320 1542.97 L1324.88 1542.97 L1324.88 1548.85 L1320 1548.85 L1320 1542.97 Z\" fill=\"#000000\" fill-rule=\"nonzero\" fill-opacity=\"1\" /><path clip-path=\"url(#clip480)\" d=\"M1345.64 1529.7 Q1342.5 1529.7 1340.64 1531.86 Q1338.82 1534.01 1338.82 1537.76 Q1338.82 1541.49 1340.64 1543.66 Q1342.5 1545.82 1345.64 1545.82 Q1348.79 1545.82 1350.62 1543.66 Q1352.47 1541.49 1352.47 1537.76 Q1352.47 1534.01 1350.62 1531.86 Q1348.79 1529.7 1345.64 1529.7 M1354.93 1515.05 L1354.93 1519.31 Q1353.17 1518.48 1351.36 1518.04 Q1349.58 1517.6 1347.82 1517.6 Q1343.19 1517.6 1340.74 1520.72 Q1338.31 1523.85 1337.96 1530.17 Q1339.33 1528.15 1341.39 1527.09 Q1343.45 1526 1345.92 1526 Q1351.13 1526 1354.14 1529.17 Q1357.17 1532.32 1357.17 1537.76 Q1357.17 1543.08 1354.02 1546.3 Q1350.88 1549.52 1345.64 1549.52 Q1339.65 1549.52 1336.48 1544.94 Q1333.31 1540.33 1333.31 1531.6 Q1333.31 1523.41 1337.2 1518.55 Q1341.08 1513.66 1347.64 1513.66 Q1349.39 1513.66 1351.18 1514.01 Q1352.98 1514.36 1354.93 1515.05 Z\" fill=\"#000000\" fill-rule=\"nonzero\" fill-opacity=\"1\" /><path clip-path=\"url(#clip480)\" d=\"M1365.27 1514.29 L1383.63 1514.29 L1383.63 1518.22 L1369.56 1518.22 L1369.56 1526.7 Q1370.57 1526.35 1371.59 1526.19 Q1372.61 1526 1373.63 1526 Q1379.42 1526 1382.8 1529.17 Q1386.18 1532.34 1386.18 1537.76 Q1386.18 1543.34 1382.7 1546.44 Q1379.23 1549.52 1372.91 1549.52 Q1370.74 1549.52 1368.47 1549.15 Q1366.22 1548.78 1363.82 1548.04 L1363.82 1543.34 Q1365.9 1544.47 1368.12 1545.03 Q1370.34 1545.58 1372.82 1545.58 Q1376.82 1545.58 1379.16 1543.48 Q1381.5 1541.37 1381.5 1537.76 Q1381.5 1534.15 1379.16 1532.04 Q1376.82 1529.94 1372.82 1529.94 Q1370.95 1529.94 1369.07 1530.35 Q1367.22 1530.77 1365.27 1531.65 L1365.27 1514.29 Z\" fill=\"#000000\" fill-rule=\"nonzero\" fill-opacity=\"1\" /><path clip-path=\"url(#clip480)\" d=\"M1672.58 1517.37 Q1668.97 1517.37 1667.14 1520.93 Q1665.33 1524.47 1665.33 1531.6 Q1665.33 1538.71 1667.14 1542.27 Q1668.97 1545.82 1672.58 1545.82 Q1676.21 1545.82 1678.02 1542.27 Q1679.85 1538.71 1679.85 1531.6 Q1679.85 1524.47 1678.02 1520.93 Q1676.21 1517.37 1672.58 1517.37 M1672.58 1513.66 Q1678.39 1513.66 1681.44 1518.27 Q1684.52 1522.85 1684.52 1531.6 Q1684.52 1540.33 1681.44 1544.94 Q1678.39 1549.52 1672.58 1549.52 Q1666.77 1549.52 1663.69 1544.94 Q1660.63 1540.33 1660.63 1531.6 Q1660.63 1522.85 1663.69 1518.27 Q1666.77 1513.66 1672.58 1513.66 Z\" fill=\"#000000\" fill-rule=\"nonzero\" fill-opacity=\"1\" /><path clip-path=\"url(#clip480)\" d=\"M1692.74 1542.97 L1697.62 1542.97 L1697.62 1548.85 L1692.74 1548.85 L1692.74 1542.97 Z\" fill=\"#000000\" fill-rule=\"nonzero\" fill-opacity=\"1\" /><path clip-path=\"url(#clip480)\" d=\"M1706.63 1514.29 L1728.85 1514.29 L1728.85 1516.28 L1716.3 1548.85 L1711.42 1548.85 L1723.23 1518.22 L1706.63 1518.22 L1706.63 1514.29 Z\" fill=\"#000000\" fill-rule=\"nonzero\" fill-opacity=\"1\" /><path clip-path=\"url(#clip480)\" d=\"M1747.97 1517.37 Q1744.36 1517.37 1742.53 1520.93 Q1740.73 1524.47 1740.73 1531.6 Q1740.73 1538.71 1742.53 1542.27 Q1744.36 1545.82 1747.97 1545.82 Q1751.61 1545.82 1753.41 1542.27 Q1755.24 1538.71 1755.24 1531.6 Q1755.24 1524.47 1753.41 1520.93 Q1751.61 1517.37 1747.97 1517.37 M1747.97 1513.66 Q1753.78 1513.66 1756.84 1518.27 Q1759.92 1522.85 1759.92 1531.6 Q1759.92 1540.33 1756.84 1544.94 Q1753.78 1549.52 1747.97 1549.52 Q1742.16 1549.52 1739.08 1544.94 Q1736.03 1540.33 1736.03 1531.6 Q1736.03 1522.85 1739.08 1518.27 Q1742.16 1513.66 1747.97 1513.66 Z\" fill=\"#000000\" fill-rule=\"nonzero\" fill-opacity=\"1\" /><path clip-path=\"url(#clip480)\" d=\"M2046.32 1517.37 Q2042.71 1517.37 2040.88 1520.93 Q2039.07 1524.47 2039.07 1531.6 Q2039.07 1538.71 2040.88 1542.27 Q2042.71 1545.82 2046.32 1545.82 Q2049.95 1545.82 2051.76 1542.27 Q2053.58 1538.71 2053.58 1531.6 Q2053.58 1524.47 2051.76 1520.93 Q2049.95 1517.37 2046.32 1517.37 M2046.32 1513.66 Q2052.13 1513.66 2055.18 1518.27 Q2058.26 1522.85 2058.26 1531.6 Q2058.26 1540.33 2055.18 1544.94 Q2052.13 1549.52 2046.32 1549.52 Q2040.51 1549.52 2037.43 1544.94 Q2034.37 1540.33 2034.37 1531.6 Q2034.37 1522.85 2037.43 1518.27 Q2040.51 1513.66 2046.32 1513.66 Z\" fill=\"#000000\" fill-rule=\"nonzero\" fill-opacity=\"1\" /><path clip-path=\"url(#clip480)\" d=\"M2066.48 1542.97 L2071.36 1542.97 L2071.36 1548.85 L2066.48 1548.85 L2066.48 1542.97 Z\" fill=\"#000000\" fill-rule=\"nonzero\" fill-opacity=\"1\" /><path clip-path=\"url(#clip480)\" d=\"M2080.37 1514.29 L2102.59 1514.29 L2102.59 1516.28 L2090.04 1548.85 L2085.16 1548.85 L2096.96 1518.22 L2080.37 1518.22 L2080.37 1514.29 Z\" fill=\"#000000\" fill-rule=\"nonzero\" fill-opacity=\"1\" /><path clip-path=\"url(#clip480)\" d=\"M2111.76 1514.29 L2130.11 1514.29 L2130.11 1518.22 L2116.04 1518.22 L2116.04 1526.7 Q2117.06 1526.35 2118.07 1526.19 Q2119.09 1526 2120.11 1526 Q2125.9 1526 2129.28 1529.17 Q2132.66 1532.34 2132.66 1537.76 Q2132.66 1543.34 2129.19 1546.44 Q2125.71 1549.52 2119.39 1549.52 Q2117.22 1549.52 2114.95 1549.15 Q2112.7 1548.78 2110.3 1548.04 L2110.3 1543.34 Q2112.38 1544.47 2114.6 1545.03 Q2116.82 1545.58 2119.3 1545.58 Q2123.31 1545.58 2125.64 1543.48 Q2127.98 1541.37 2127.98 1537.76 Q2127.98 1534.15 2125.64 1532.04 Q2123.31 1529.94 2119.3 1529.94 Q2117.43 1529.94 2115.55 1530.35 Q2113.7 1530.77 2111.76 1531.65 L2111.76 1514.29 Z\" fill=\"#000000\" fill-rule=\"nonzero\" fill-opacity=\"1\" /><polyline clip-path=\"url(#clip482)\" style=\"stroke:#000000; stroke-linecap:round; stroke-linejoin:round; stroke-width:2; stroke-opacity:0.1; fill:none\" points=\"172.015,1445.72 2352.76,1445.72 \"/>\n",
       "<polyline clip-path=\"url(#clip482)\" style=\"stroke:#000000; stroke-linecap:round; stroke-linejoin:round; stroke-width:2; stroke-opacity:0.1; fill:none\" points=\"172.015,1198.85 2352.76,1198.85 \"/>\n",
       "<polyline clip-path=\"url(#clip482)\" style=\"stroke:#000000; stroke-linecap:round; stroke-linejoin:round; stroke-width:2; stroke-opacity:0.1; fill:none\" points=\"172.015,951.992 2352.76,951.992 \"/>\n",
       "<polyline clip-path=\"url(#clip482)\" style=\"stroke:#000000; stroke-linecap:round; stroke-linejoin:round; stroke-width:2; stroke-opacity:0.1; fill:none\" points=\"172.015,705.131 2352.76,705.131 \"/>\n",
       "<polyline clip-path=\"url(#clip482)\" style=\"stroke:#000000; stroke-linecap:round; stroke-linejoin:round; stroke-width:2; stroke-opacity:0.1; fill:none\" points=\"172.015,458.269 2352.76,458.269 \"/>\n",
       "<polyline clip-path=\"url(#clip482)\" style=\"stroke:#000000; stroke-linecap:round; stroke-linejoin:round; stroke-width:2; stroke-opacity:0.1; fill:none\" points=\"172.015,211.407 2352.76,211.407 \"/>\n",
       "<polyline clip-path=\"url(#clip480)\" style=\"stroke:#000000; stroke-linecap:round; stroke-linejoin:round; stroke-width:4; stroke-opacity:1; fill:none\" points=\"172.015,1486.45 172.015,47.2441 \"/>\n",
       "<polyline clip-path=\"url(#clip480)\" style=\"stroke:#000000; stroke-linecap:round; stroke-linejoin:round; stroke-width:4; stroke-opacity:1; fill:none\" points=\"172.015,1445.72 190.912,1445.72 \"/>\n",
       "<polyline clip-path=\"url(#clip480)\" style=\"stroke:#000000; stroke-linecap:round; stroke-linejoin:round; stroke-width:4; stroke-opacity:1; fill:none\" points=\"172.015,1198.85 190.912,1198.85 \"/>\n",
       "<polyline clip-path=\"url(#clip480)\" style=\"stroke:#000000; stroke-linecap:round; stroke-linejoin:round; stroke-width:4; stroke-opacity:1; fill:none\" points=\"172.015,951.992 190.912,951.992 \"/>\n",
       "<polyline clip-path=\"url(#clip480)\" style=\"stroke:#000000; stroke-linecap:round; stroke-linejoin:round; stroke-width:4; stroke-opacity:1; fill:none\" points=\"172.015,705.131 190.912,705.131 \"/>\n",
       "<polyline clip-path=\"url(#clip480)\" style=\"stroke:#000000; stroke-linecap:round; stroke-linejoin:round; stroke-width:4; stroke-opacity:1; fill:none\" points=\"172.015,458.269 190.912,458.269 \"/>\n",
       "<polyline clip-path=\"url(#clip480)\" style=\"stroke:#000000; stroke-linecap:round; stroke-linejoin:round; stroke-width:4; stroke-opacity:1; fill:none\" points=\"172.015,211.407 190.912,211.407 \"/>\n",
       "<path clip-path=\"url(#clip480)\" d=\"M124.07 1431.51 Q120.459 1431.51 118.631 1435.08 Q116.825 1438.62 116.825 1445.75 Q116.825 1452.86 118.631 1456.42 Q120.459 1459.96 124.07 1459.96 Q127.705 1459.96 129.51 1456.42 Q131.339 1452.86 131.339 1445.75 Q131.339 1438.62 129.51 1435.08 Q127.705 1431.51 124.07 1431.51 M124.07 1427.81 Q129.881 1427.81 132.936 1432.42 Q136.015 1437 136.015 1445.75 Q136.015 1454.48 132.936 1459.08 Q129.881 1463.67 124.07 1463.67 Q118.26 1463.67 115.182 1459.08 Q112.126 1454.48 112.126 1445.75 Q112.126 1437 115.182 1432.42 Q118.26 1427.81 124.07 1427.81 Z\" fill=\"#000000\" fill-rule=\"nonzero\" fill-opacity=\"1\" /><path clip-path=\"url(#clip480)\" d=\"M54.5569 1212.2 L62.1958 1212.2 L62.1958 1185.83 L53.8856 1187.5 L53.8856 1183.24 L62.1495 1181.57 L66.8254 1181.57 L66.8254 1212.2 L74.4642 1212.2 L74.4642 1216.13 L54.5569 1216.13 L54.5569 1212.2 Z\" fill=\"#000000\" fill-rule=\"nonzero\" fill-opacity=\"1\" /><path clip-path=\"url(#clip480)\" d=\"M93.9086 1184.65 Q90.2975 1184.65 88.4688 1188.22 Q86.6632 1191.76 86.6632 1198.89 Q86.6632 1206 88.4688 1209.56 Q90.2975 1213.1 93.9086 1213.1 Q97.5428 1213.1 99.3483 1209.56 Q101.177 1206 101.177 1198.89 Q101.177 1191.76 99.3483 1188.22 Q97.5428 1184.65 93.9086 1184.65 M93.9086 1180.95 Q99.7187 1180.95 102.774 1185.56 Q105.853 1190.14 105.853 1198.89 Q105.853 1207.62 102.774 1212.22 Q99.7187 1216.81 93.9086 1216.81 Q88.0984 1216.81 85.0197 1212.22 Q81.9642 1207.62 81.9642 1198.89 Q81.9642 1190.14 85.0197 1185.56 Q88.0984 1180.95 93.9086 1180.95 Z\" fill=\"#000000\" fill-rule=\"nonzero\" fill-opacity=\"1\" /><path clip-path=\"url(#clip480)\" d=\"M124.07 1184.65 Q120.459 1184.65 118.631 1188.22 Q116.825 1191.76 116.825 1198.89 Q116.825 1206 118.631 1209.56 Q120.459 1213.1 124.07 1213.1 Q127.705 1213.1 129.51 1209.56 Q131.339 1206 131.339 1198.89 Q131.339 1191.76 129.51 1188.22 Q127.705 1184.65 124.07 1184.65 M124.07 1180.95 Q129.881 1180.95 132.936 1185.56 Q136.015 1190.14 136.015 1198.89 Q136.015 1207.62 132.936 1212.22 Q129.881 1216.81 124.07 1216.81 Q118.26 1216.81 115.182 1212.22 Q112.126 1207.62 112.126 1198.89 Q112.126 1190.14 115.182 1185.56 Q118.26 1180.95 124.07 1180.95 Z\" fill=\"#000000\" fill-rule=\"nonzero\" fill-opacity=\"1\" /><path clip-path=\"url(#clip480)\" d=\"M57.7745 965.337 L74.0939 965.337 L74.0939 969.272 L52.1495 969.272 L52.1495 965.337 Q54.8115 962.582 59.3949 957.953 Q64.0013 953.3 65.1819 951.958 Q67.4272 949.434 68.3068 947.698 Q69.2096 945.939 69.2096 944.249 Q69.2096 941.495 67.2652 939.759 Q65.3439 938.022 62.2421 938.022 Q60.043 938.022 57.5893 938.786 Q55.1588 939.55 52.381 941.101 L52.381 936.379 Q55.2051 935.245 57.6588 934.666 Q60.1124 934.087 62.1495 934.087 Q67.5198 934.087 70.7142 936.772 Q73.9087 939.458 73.9087 943.948 Q73.9087 946.078 73.0985 947.999 Q72.3115 949.897 70.205 952.49 Q69.6263 953.161 66.5245 956.379 Q63.4226 959.573 57.7745 965.337 Z\" fill=\"#000000\" fill-rule=\"nonzero\" fill-opacity=\"1\" /><path clip-path=\"url(#clip480)\" d=\"M93.9086 937.791 Q90.2975 937.791 88.4688 941.356 Q86.6632 944.897 86.6632 952.027 Q86.6632 959.133 88.4688 962.698 Q90.2975 966.24 93.9086 966.24 Q97.5428 966.24 99.3483 962.698 Q101.177 959.133 101.177 952.027 Q101.177 944.897 99.3483 941.356 Q97.5428 937.791 93.9086 937.791 M93.9086 934.087 Q99.7187 934.087 102.774 938.694 Q105.853 943.277 105.853 952.027 Q105.853 960.754 102.774 965.36 Q99.7187 969.944 93.9086 969.944 Q88.0984 969.944 85.0197 965.36 Q81.9642 960.754 81.9642 952.027 Q81.9642 943.277 85.0197 938.694 Q88.0984 934.087 93.9086 934.087 Z\" fill=\"#000000\" fill-rule=\"nonzero\" fill-opacity=\"1\" /><path clip-path=\"url(#clip480)\" d=\"M124.07 937.791 Q120.459 937.791 118.631 941.356 Q116.825 944.897 116.825 952.027 Q116.825 959.133 118.631 962.698 Q120.459 966.24 124.07 966.24 Q127.705 966.24 129.51 962.698 Q131.339 959.133 131.339 952.027 Q131.339 944.897 129.51 941.356 Q127.705 937.791 124.07 937.791 M124.07 934.087 Q129.881 934.087 132.936 938.694 Q136.015 943.277 136.015 952.027 Q136.015 960.754 132.936 965.36 Q129.881 969.944 124.07 969.944 Q118.26 969.944 115.182 965.36 Q112.126 960.754 112.126 952.027 Q112.126 943.277 115.182 938.694 Q118.26 934.087 124.07 934.087 Z\" fill=\"#000000\" fill-rule=\"nonzero\" fill-opacity=\"1\" /><path clip-path=\"url(#clip480)\" d=\"M67.9133 703.776 Q71.2698 704.494 73.1448 706.762 Q75.0429 709.031 75.0429 712.364 Q75.0429 717.48 71.5244 720.281 Q68.0059 723.082 61.5245 723.082 Q59.3486 723.082 57.0338 722.642 Q54.7421 722.225 52.2884 721.369 L52.2884 716.855 Q54.2328 717.989 56.5477 718.568 Q58.8625 719.147 61.3856 719.147 Q65.7837 719.147 68.0754 717.411 Q70.3902 715.674 70.3902 712.364 Q70.3902 709.309 68.2374 707.596 Q66.1078 705.86 62.2884 705.86 L58.2606 705.86 L58.2606 702.017 L62.4735 702.017 Q65.9226 702.017 67.7513 700.651 Q69.58 699.263 69.58 696.67 Q69.58 694.008 67.6819 692.596 Q65.8069 691.161 62.2884 691.161 Q60.3671 691.161 58.168 691.577 Q55.969 691.994 53.3301 692.874 L53.3301 688.707 Q55.9921 687.966 58.3069 687.596 Q60.6449 687.226 62.705 687.226 Q68.0291 687.226 71.1309 689.656 Q74.2327 692.063 74.2327 696.184 Q74.2327 699.054 72.5892 701.045 Q70.9457 703.013 67.9133 703.776 Z\" fill=\"#000000\" fill-rule=\"nonzero\" fill-opacity=\"1\" /><path clip-path=\"url(#clip480)\" d=\"M93.9086 690.929 Q90.2975 690.929 88.4688 694.494 Q86.6632 698.036 86.6632 705.165 Q86.6632 712.272 88.4688 715.837 Q90.2975 719.378 93.9086 719.378 Q97.5428 719.378 99.3483 715.837 Q101.177 712.272 101.177 705.165 Q101.177 698.036 99.3483 694.494 Q97.5428 690.929 93.9086 690.929 M93.9086 687.226 Q99.7187 687.226 102.774 691.832 Q105.853 696.415 105.853 705.165 Q105.853 713.892 102.774 718.499 Q99.7187 723.082 93.9086 723.082 Q88.0984 723.082 85.0197 718.499 Q81.9642 713.892 81.9642 705.165 Q81.9642 696.415 85.0197 691.832 Q88.0984 687.226 93.9086 687.226 Z\" fill=\"#000000\" fill-rule=\"nonzero\" fill-opacity=\"1\" /><path clip-path=\"url(#clip480)\" d=\"M124.07 690.929 Q120.459 690.929 118.631 694.494 Q116.825 698.036 116.825 705.165 Q116.825 712.272 118.631 715.837 Q120.459 719.378 124.07 719.378 Q127.705 719.378 129.51 715.837 Q131.339 712.272 131.339 705.165 Q131.339 698.036 129.51 694.494 Q127.705 690.929 124.07 690.929 M124.07 687.226 Q129.881 687.226 132.936 691.832 Q136.015 696.415 136.015 705.165 Q136.015 713.892 132.936 718.499 Q129.881 723.082 124.07 723.082 Q118.26 723.082 115.182 718.499 Q112.126 713.892 112.126 705.165 Q112.126 696.415 115.182 691.832 Q118.26 687.226 124.07 687.226 Z\" fill=\"#000000\" fill-rule=\"nonzero\" fill-opacity=\"1\" /><path clip-path=\"url(#clip480)\" d=\"M66.5939 445.063 L54.7884 463.512 L66.5939 463.512 L66.5939 445.063 M65.367 440.989 L71.2466 440.989 L71.2466 463.512 L76.1772 463.512 L76.1772 467.401 L71.2466 467.401 L71.2466 475.549 L66.5939 475.549 L66.5939 467.401 L50.9921 467.401 L50.9921 462.887 L65.367 440.989 Z\" fill=\"#000000\" fill-rule=\"nonzero\" fill-opacity=\"1\" /><path clip-path=\"url(#clip480)\" d=\"M93.9086 444.068 Q90.2975 444.068 88.4688 447.632 Q86.6632 451.174 86.6632 458.304 Q86.6632 465.41 88.4688 468.975 Q90.2975 472.516 93.9086 472.516 Q97.5428 472.516 99.3483 468.975 Q101.177 465.41 101.177 458.304 Q101.177 451.174 99.3483 447.632 Q97.5428 444.068 93.9086 444.068 M93.9086 440.364 Q99.7187 440.364 102.774 444.97 Q105.853 449.554 105.853 458.304 Q105.853 467.03 102.774 471.637 Q99.7187 476.22 93.9086 476.22 Q88.0984 476.22 85.0197 471.637 Q81.9642 467.03 81.9642 458.304 Q81.9642 449.554 85.0197 444.97 Q88.0984 440.364 93.9086 440.364 Z\" fill=\"#000000\" fill-rule=\"nonzero\" fill-opacity=\"1\" /><path clip-path=\"url(#clip480)\" d=\"M124.07 444.068 Q120.459 444.068 118.631 447.632 Q116.825 451.174 116.825 458.304 Q116.825 465.41 118.631 468.975 Q120.459 472.516 124.07 472.516 Q127.705 472.516 129.51 468.975 Q131.339 465.41 131.339 458.304 Q131.339 451.174 129.51 447.632 Q127.705 444.068 124.07 444.068 M124.07 440.364 Q129.881 440.364 132.936 444.97 Q136.015 449.554 136.015 458.304 Q136.015 467.03 132.936 471.637 Q129.881 476.22 124.07 476.22 Q118.26 476.22 115.182 471.637 Q112.126 467.03 112.126 458.304 Q112.126 449.554 115.182 444.97 Q118.26 440.364 124.07 440.364 Z\" fill=\"#000000\" fill-rule=\"nonzero\" fill-opacity=\"1\" /><path clip-path=\"url(#clip480)\" d=\"M53.793 194.127 L72.1494 194.127 L72.1494 198.062 L58.0754 198.062 L58.0754 206.534 Q59.0939 206.187 60.1124 206.025 Q61.131 205.84 62.1495 205.84 Q67.9365 205.84 71.3161 209.011 Q74.6957 212.183 74.6957 217.599 Q74.6957 223.178 71.2235 226.28 Q67.7513 229.358 61.4319 229.358 Q59.256 229.358 56.9875 228.988 Q54.7421 228.618 52.3347 227.877 L52.3347 223.178 Q54.418 224.312 56.6402 224.868 Q58.8625 225.423 61.3393 225.423 Q65.3439 225.423 67.6819 223.317 Q70.0198 221.21 70.0198 217.599 Q70.0198 213.988 67.6819 211.882 Q65.3439 209.775 61.3393 209.775 Q59.4643 209.775 57.5893 210.192 Q55.7375 210.609 53.793 211.488 L53.793 194.127 Z\" fill=\"#000000\" fill-rule=\"nonzero\" fill-opacity=\"1\" /><path clip-path=\"url(#clip480)\" d=\"M93.9086 197.206 Q90.2975 197.206 88.4688 200.771 Q86.6632 204.312 86.6632 211.442 Q86.6632 218.548 88.4688 222.113 Q90.2975 225.655 93.9086 225.655 Q97.5428 225.655 99.3483 222.113 Q101.177 218.548 101.177 211.442 Q101.177 204.312 99.3483 200.771 Q97.5428 197.206 93.9086 197.206 M93.9086 193.502 Q99.7187 193.502 102.774 198.109 Q105.853 202.692 105.853 211.442 Q105.853 220.169 102.774 224.775 Q99.7187 229.358 93.9086 229.358 Q88.0984 229.358 85.0197 224.775 Q81.9642 220.169 81.9642 211.442 Q81.9642 202.692 85.0197 198.109 Q88.0984 193.502 93.9086 193.502 Z\" fill=\"#000000\" fill-rule=\"nonzero\" fill-opacity=\"1\" /><path clip-path=\"url(#clip480)\" d=\"M124.07 197.206 Q120.459 197.206 118.631 200.771 Q116.825 204.312 116.825 211.442 Q116.825 218.548 118.631 222.113 Q120.459 225.655 124.07 225.655 Q127.705 225.655 129.51 222.113 Q131.339 218.548 131.339 211.442 Q131.339 204.312 129.51 200.771 Q127.705 197.206 124.07 197.206 M124.07 193.502 Q129.881 193.502 132.936 198.109 Q136.015 202.692 136.015 211.442 Q136.015 220.169 132.936 224.775 Q129.881 229.358 124.07 229.358 Q118.26 229.358 115.182 224.775 Q112.126 220.169 112.126 211.442 Q112.126 202.692 115.182 198.109 Q118.26 193.502 124.07 193.502 Z\" fill=\"#000000\" fill-rule=\"nonzero\" fill-opacity=\"1\" /><path clip-path=\"url(#clip482)\" d=\"M291.959 1443.25 L291.959 1445.72 L366.608 1445.72 L366.608 1443.25 L291.959 1443.25 L291.959 1443.25  Z\" fill=\"#009af9\" fill-rule=\"evenodd\" fill-opacity=\"1\"/>\n",
       "<polyline clip-path=\"url(#clip482)\" style=\"stroke:#000000; stroke-linecap:round; stroke-linejoin:round; stroke-width:4; stroke-opacity:1; fill:none\" points=\"291.959,1443.25 291.959,1445.72 366.608,1445.72 366.608,1443.25 291.959,1443.25 \"/>\n",
       "<path clip-path=\"url(#clip482)\" d=\"M366.608 1440.78 L366.608 1445.72 L441.256 1445.72 L441.256 1440.78 L366.608 1440.78 L366.608 1440.78  Z\" fill=\"#009af9\" fill-rule=\"evenodd\" fill-opacity=\"1\"/>\n",
       "<polyline clip-path=\"url(#clip482)\" style=\"stroke:#000000; stroke-linecap:round; stroke-linejoin:round; stroke-width:4; stroke-opacity:1; fill:none\" points=\"366.608,1440.78 366.608,1445.72 441.256,1445.72 441.256,1440.78 366.608,1440.78 \"/>\n",
       "<path clip-path=\"url(#clip482)\" d=\"M441.256 1433.37 L441.256 1445.72 L515.904 1445.72 L515.904 1433.37 L441.256 1433.37 L441.256 1433.37  Z\" fill=\"#009af9\" fill-rule=\"evenodd\" fill-opacity=\"1\"/>\n",
       "<polyline clip-path=\"url(#clip482)\" style=\"stroke:#000000; stroke-linecap:round; stroke-linejoin:round; stroke-width:4; stroke-opacity:1; fill:none\" points=\"441.256,1433.37 441.256,1445.72 515.904,1445.72 515.904,1433.37 441.256,1433.37 \"/>\n",
       "<path clip-path=\"url(#clip482)\" d=\"M515.904 1401.28 L515.904 1445.72 L590.552 1445.72 L590.552 1401.28 L515.904 1401.28 L515.904 1401.28  Z\" fill=\"#009af9\" fill-rule=\"evenodd\" fill-opacity=\"1\"/>\n",
       "<polyline clip-path=\"url(#clip482)\" style=\"stroke:#000000; stroke-linecap:round; stroke-linejoin:round; stroke-width:4; stroke-opacity:1; fill:none\" points=\"515.904,1401.28 515.904,1445.72 590.552,1445.72 590.552,1401.28 515.904,1401.28 \"/>\n",
       "<path clip-path=\"url(#clip482)\" d=\"M590.552 1364.25 L590.552 1445.72 L665.2 1445.72 L665.2 1364.25 L590.552 1364.25 L590.552 1364.25  Z\" fill=\"#009af9\" fill-rule=\"evenodd\" fill-opacity=\"1\"/>\n",
       "<polyline clip-path=\"url(#clip482)\" style=\"stroke:#000000; stroke-linecap:round; stroke-linejoin:round; stroke-width:4; stroke-opacity:1; fill:none\" points=\"590.552,1364.25 590.552,1445.72 665.2,1445.72 665.2,1364.25 590.552,1364.25 \"/>\n",
       "<path clip-path=\"url(#clip482)\" d=\"M665.2 1280.32 L665.2 1445.72 L739.848 1445.72 L739.848 1280.32 L665.2 1280.32 L665.2 1280.32  Z\" fill=\"#009af9\" fill-rule=\"evenodd\" fill-opacity=\"1\"/>\n",
       "<polyline clip-path=\"url(#clip482)\" style=\"stroke:#000000; stroke-linecap:round; stroke-linejoin:round; stroke-width:4; stroke-opacity:1; fill:none\" points=\"665.2,1280.32 665.2,1445.72 739.848,1445.72 739.848,1280.32 665.2,1280.32 \"/>\n",
       "<path clip-path=\"url(#clip482)\" d=\"M739.848 1151.95 L739.848 1445.72 L814.496 1445.72 L814.496 1151.95 L739.848 1151.95 L739.848 1151.95  Z\" fill=\"#009af9\" fill-rule=\"evenodd\" fill-opacity=\"1\"/>\n",
       "<polyline clip-path=\"url(#clip482)\" style=\"stroke:#000000; stroke-linecap:round; stroke-linejoin:round; stroke-width:4; stroke-opacity:1; fill:none\" points=\"739.848,1151.95 739.848,1445.72 814.496,1445.72 814.496,1151.95 739.848,1151.95 \"/>\n",
       "<path clip-path=\"url(#clip482)\" d=\"M814.496 917.432 L814.496 1445.72 L889.145 1445.72 L889.145 917.432 L814.496 917.432 L814.496 917.432  Z\" fill=\"#009af9\" fill-rule=\"evenodd\" fill-opacity=\"1\"/>\n",
       "<polyline clip-path=\"url(#clip482)\" style=\"stroke:#000000; stroke-linecap:round; stroke-linejoin:round; stroke-width:4; stroke-opacity:1; fill:none\" points=\"814.496,917.432 814.496,1445.72 889.145,1445.72 889.145,917.432 814.496,917.432 \"/>\n",
       "<path clip-path=\"url(#clip482)\" d=\"M889.145 685.382 L889.145 1445.72 L963.793 1445.72 L963.793 685.382 L889.145 685.382 L889.145 685.382  Z\" fill=\"#009af9\" fill-rule=\"evenodd\" fill-opacity=\"1\"/>\n",
       "<polyline clip-path=\"url(#clip482)\" style=\"stroke:#000000; stroke-linecap:round; stroke-linejoin:round; stroke-width:4; stroke-opacity:1; fill:none\" points=\"889.145,685.382 889.145,1445.72 963.793,1445.72 963.793,685.382 889.145,685.382 \"/>\n",
       "<path clip-path=\"url(#clip482)\" d=\"M963.793 497.767 L963.793 1445.72 L1038.44 1445.72 L1038.44 497.767 L963.793 497.767 L963.793 497.767  Z\" fill=\"#009af9\" fill-rule=\"evenodd\" fill-opacity=\"1\"/>\n",
       "<polyline clip-path=\"url(#clip482)\" style=\"stroke:#000000; stroke-linecap:round; stroke-linejoin:round; stroke-width:4; stroke-opacity:1; fill:none\" points=\"963.793,497.767 963.793,1445.72 1038.44,1445.72 1038.44,497.767 963.793,497.767 \"/>\n",
       "<path clip-path=\"url(#clip482)\" d=\"M1038.44 282.997 L1038.44 1445.72 L1113.09 1445.72 L1113.09 282.997 L1038.44 282.997 L1038.44 282.997  Z\" fill=\"#009af9\" fill-rule=\"evenodd\" fill-opacity=\"1\"/>\n",
       "<polyline clip-path=\"url(#clip482)\" style=\"stroke:#000000; stroke-linecap:round; stroke-linejoin:round; stroke-width:4; stroke-opacity:1; fill:none\" points=\"1038.44,282.997 1038.44,1445.72 1113.09,1445.72 1113.09,282.997 1038.44,282.997 \"/>\n",
       "<path clip-path=\"url(#clip482)\" d=\"M1113.09 134.88 L1113.09 1445.72 L1187.74 1445.72 L1187.74 134.88 L1113.09 134.88 L1113.09 134.88  Z\" fill=\"#009af9\" fill-rule=\"evenodd\" fill-opacity=\"1\"/>\n",
       "<polyline clip-path=\"url(#clip482)\" style=\"stroke:#000000; stroke-linecap:round; stroke-linejoin:round; stroke-width:4; stroke-opacity:1; fill:none\" points=\"1113.09,134.88 1113.09,1445.72 1187.74,1445.72 1187.74,134.88 1113.09,134.88 \"/>\n",
       "<path clip-path=\"url(#clip482)\" d=\"M1187.74 87.9763 L1187.74 1445.72 L1262.39 1445.72 L1262.39 87.9763 L1187.74 87.9763 L1187.74 87.9763  Z\" fill=\"#009af9\" fill-rule=\"evenodd\" fill-opacity=\"1\"/>\n",
       "<polyline clip-path=\"url(#clip482)\" style=\"stroke:#000000; stroke-linecap:round; stroke-linejoin:round; stroke-width:4; stroke-opacity:1; fill:none\" points=\"1187.74,87.9763 1187.74,1445.72 1262.39,1445.72 1262.39,87.9763 1187.74,87.9763 \"/>\n",
       "<path clip-path=\"url(#clip482)\" d=\"M1262.39 169.441 L1262.39 1445.72 L1337.03 1445.72 L1337.03 169.441 L1262.39 169.441 L1262.39 169.441  Z\" fill=\"#009af9\" fill-rule=\"evenodd\" fill-opacity=\"1\"/>\n",
       "<polyline clip-path=\"url(#clip482)\" style=\"stroke:#000000; stroke-linecap:round; stroke-linejoin:round; stroke-width:4; stroke-opacity:1; fill:none\" points=\"1262.39,169.441 1262.39,1445.72 1337.03,1445.72 1337.03,169.441 1262.39,169.441 \"/>\n",
       "<path clip-path=\"url(#clip482)\" d=\"M1337.03 389.148 L1337.03 1445.72 L1411.68 1445.72 L1411.68 389.148 L1337.03 389.148 L1337.03 389.148  Z\" fill=\"#009af9\" fill-rule=\"evenodd\" fill-opacity=\"1\"/>\n",
       "<polyline clip-path=\"url(#clip482)\" style=\"stroke:#000000; stroke-linecap:round; stroke-linejoin:round; stroke-width:4; stroke-opacity:1; fill:none\" points=\"1337.03,389.148 1337.03,1445.72 1411.68,1445.72 1411.68,389.148 1337.03,389.148 \"/>\n",
       "<path clip-path=\"url(#clip482)\" d=\"M1411.68 349.65 L1411.68 1445.72 L1486.33 1445.72 L1486.33 349.65 L1411.68 349.65 L1411.68 349.65  Z\" fill=\"#009af9\" fill-rule=\"evenodd\" fill-opacity=\"1\"/>\n",
       "<polyline clip-path=\"url(#clip482)\" style=\"stroke:#000000; stroke-linecap:round; stroke-linejoin:round; stroke-width:4; stroke-opacity:1; fill:none\" points=\"1411.68,349.65 1411.68,1445.72 1486.33,1445.72 1486.33,349.65 1411.68,349.65 \"/>\n",
       "<path clip-path=\"url(#clip482)\" d=\"M1486.33 682.913 L1486.33 1445.72 L1560.98 1445.72 L1560.98 682.913 L1486.33 682.913 L1486.33 682.913  Z\" fill=\"#009af9\" fill-rule=\"evenodd\" fill-opacity=\"1\"/>\n",
       "<polyline clip-path=\"url(#clip482)\" style=\"stroke:#000000; stroke-linecap:round; stroke-linejoin:round; stroke-width:4; stroke-opacity:1; fill:none\" points=\"1486.33,682.913 1486.33,1445.72 1560.98,1445.72 1560.98,682.913 1486.33,682.913 \"/>\n",
       "<path clip-path=\"url(#clip482)\" d=\"M1560.98 937.181 L1560.98 1445.72 L1635.63 1445.72 L1635.63 937.181 L1560.98 937.181 L1560.98 937.181  Z\" fill=\"#009af9\" fill-rule=\"evenodd\" fill-opacity=\"1\"/>\n",
       "<polyline clip-path=\"url(#clip482)\" style=\"stroke:#000000; stroke-linecap:round; stroke-linejoin:round; stroke-width:4; stroke-opacity:1; fill:none\" points=\"1560.98,937.181 1560.98,1445.72 1635.63,1445.72 1635.63,937.181 1560.98,937.181 \"/>\n",
       "<path clip-path=\"url(#clip482)\" d=\"M1635.63 1033.46 L1635.63 1445.72 L1710.27 1445.72 L1710.27 1033.46 L1635.63 1033.46 L1635.63 1033.46  Z\" fill=\"#009af9\" fill-rule=\"evenodd\" fill-opacity=\"1\"/>\n",
       "<polyline clip-path=\"url(#clip482)\" style=\"stroke:#000000; stroke-linecap:round; stroke-linejoin:round; stroke-width:4; stroke-opacity:1; fill:none\" points=\"1635.63,1033.46 1635.63,1445.72 1710.27,1445.72 1710.27,1033.46 1635.63,1033.46 \"/>\n",
       "<path clip-path=\"url(#clip482)\" d=\"M1710.27 1203.79 L1710.27 1445.72 L1784.92 1445.72 L1784.92 1203.79 L1710.27 1203.79 L1710.27 1203.79  Z\" fill=\"#009af9\" fill-rule=\"evenodd\" fill-opacity=\"1\"/>\n",
       "<polyline clip-path=\"url(#clip482)\" style=\"stroke:#000000; stroke-linecap:round; stroke-linejoin:round; stroke-width:4; stroke-opacity:1; fill:none\" points=\"1710.27,1203.79 1710.27,1445.72 1784.92,1445.72 1784.92,1203.79 1710.27,1203.79 \"/>\n",
       "<path clip-path=\"url(#clip482)\" d=\"M1784.92 1307.47 L1784.92 1445.72 L1859.57 1445.72 L1859.57 1307.47 L1784.92 1307.47 L1784.92 1307.47  Z\" fill=\"#009af9\" fill-rule=\"evenodd\" fill-opacity=\"1\"/>\n",
       "<polyline clip-path=\"url(#clip482)\" style=\"stroke:#000000; stroke-linecap:round; stroke-linejoin:round; stroke-width:4; stroke-opacity:1; fill:none\" points=\"1784.92,1307.47 1784.92,1445.72 1859.57,1445.72 1859.57,1307.47 1784.92,1307.47 \"/>\n",
       "<path clip-path=\"url(#clip482)\" d=\"M1859.57 1356.85 L1859.57 1445.72 L1934.22 1445.72 L1934.22 1356.85 L1859.57 1356.85 L1859.57 1356.85  Z\" fill=\"#009af9\" fill-rule=\"evenodd\" fill-opacity=\"1\"/>\n",
       "<polyline clip-path=\"url(#clip482)\" style=\"stroke:#000000; stroke-linecap:round; stroke-linejoin:round; stroke-width:4; stroke-opacity:1; fill:none\" points=\"1859.57,1356.85 1859.57,1445.72 1934.22,1445.72 1934.22,1356.85 1859.57,1356.85 \"/>\n",
       "<path clip-path=\"url(#clip482)\" d=\"M1934.22 1391.41 L1934.22 1445.72 L2008.87 1445.72 L2008.87 1391.41 L1934.22 1391.41 L1934.22 1391.41  Z\" fill=\"#009af9\" fill-rule=\"evenodd\" fill-opacity=\"1\"/>\n",
       "<polyline clip-path=\"url(#clip482)\" style=\"stroke:#000000; stroke-linecap:round; stroke-linejoin:round; stroke-width:4; stroke-opacity:1; fill:none\" points=\"1934.22,1391.41 1934.22,1445.72 2008.87,1445.72 2008.87,1391.41 1934.22,1391.41 \"/>\n",
       "<path clip-path=\"url(#clip482)\" d=\"M2008.87 1435.84 L2008.87 1445.72 L2083.51 1445.72 L2083.51 1435.84 L2008.87 1435.84 L2008.87 1435.84  Z\" fill=\"#009af9\" fill-rule=\"evenodd\" fill-opacity=\"1\"/>\n",
       "<polyline clip-path=\"url(#clip482)\" style=\"stroke:#000000; stroke-linecap:round; stroke-linejoin:round; stroke-width:4; stroke-opacity:1; fill:none\" points=\"2008.87,1435.84 2008.87,1445.72 2083.51,1445.72 2083.51,1435.84 2008.87,1435.84 \"/>\n",
       "<path clip-path=\"url(#clip482)\" d=\"M2083.51 1430.9 L2083.51 1445.72 L2158.16 1445.72 L2158.16 1430.9 L2083.51 1430.9 L2083.51 1430.9  Z\" fill=\"#009af9\" fill-rule=\"evenodd\" fill-opacity=\"1\"/>\n",
       "<polyline clip-path=\"url(#clip482)\" style=\"stroke:#000000; stroke-linecap:round; stroke-linejoin:round; stroke-width:4; stroke-opacity:1; fill:none\" points=\"2083.51,1430.9 2083.51,1445.72 2158.16,1445.72 2158.16,1430.9 2083.51,1430.9 \"/>\n",
       "<path clip-path=\"url(#clip482)\" d=\"M2158.16 1435.84 L2158.16 1445.72 L2232.81 1445.72 L2232.81 1435.84 L2158.16 1435.84 L2158.16 1435.84  Z\" fill=\"#009af9\" fill-rule=\"evenodd\" fill-opacity=\"1\"/>\n",
       "<polyline clip-path=\"url(#clip482)\" style=\"stroke:#000000; stroke-linecap:round; stroke-linejoin:round; stroke-width:4; stroke-opacity:1; fill:none\" points=\"2158.16,1435.84 2158.16,1445.72 2232.81,1445.72 2232.81,1435.84 2158.16,1435.84 \"/>\n",
       "<circle clip-path=\"url(#clip482)\" style=\"fill:#009af9; stroke:none; fill-opacity:0\" cx=\"329.284\" cy=\"1443.25\" r=\"2\"/>\n",
       "<circle clip-path=\"url(#clip482)\" style=\"fill:#009af9; stroke:none; fill-opacity:0\" cx=\"403.932\" cy=\"1440.78\" r=\"2\"/>\n",
       "<circle clip-path=\"url(#clip482)\" style=\"fill:#009af9; stroke:none; fill-opacity:0\" cx=\"478.58\" cy=\"1433.37\" r=\"2\"/>\n",
       "<circle clip-path=\"url(#clip482)\" style=\"fill:#009af9; stroke:none; fill-opacity:0\" cx=\"553.228\" cy=\"1401.28\" r=\"2\"/>\n",
       "<circle clip-path=\"url(#clip482)\" style=\"fill:#009af9; stroke:none; fill-opacity:0\" cx=\"627.876\" cy=\"1364.25\" r=\"2\"/>\n",
       "<circle clip-path=\"url(#clip482)\" style=\"fill:#009af9; stroke:none; fill-opacity:0\" cx=\"702.524\" cy=\"1280.32\" r=\"2\"/>\n",
       "<circle clip-path=\"url(#clip482)\" style=\"fill:#009af9; stroke:none; fill-opacity:0\" cx=\"777.172\" cy=\"1151.95\" r=\"2\"/>\n",
       "<circle clip-path=\"url(#clip482)\" style=\"fill:#009af9; stroke:none; fill-opacity:0\" cx=\"851.821\" cy=\"917.432\" r=\"2\"/>\n",
       "<circle clip-path=\"url(#clip482)\" style=\"fill:#009af9; stroke:none; fill-opacity:0\" cx=\"926.469\" cy=\"685.382\" r=\"2\"/>\n",
       "<circle clip-path=\"url(#clip482)\" style=\"fill:#009af9; stroke:none; fill-opacity:0\" cx=\"1001.12\" cy=\"497.767\" r=\"2\"/>\n",
       "<circle clip-path=\"url(#clip482)\" style=\"fill:#009af9; stroke:none; fill-opacity:0\" cx=\"1075.76\" cy=\"282.997\" r=\"2\"/>\n",
       "<circle clip-path=\"url(#clip482)\" style=\"fill:#009af9; stroke:none; fill-opacity:0\" cx=\"1150.41\" cy=\"134.88\" r=\"2\"/>\n",
       "<circle clip-path=\"url(#clip482)\" style=\"fill:#009af9; stroke:none; fill-opacity:0\" cx=\"1225.06\" cy=\"87.9763\" r=\"2\"/>\n",
       "<circle clip-path=\"url(#clip482)\" style=\"fill:#009af9; stroke:none; fill-opacity:0\" cx=\"1299.71\" cy=\"169.441\" r=\"2\"/>\n",
       "<circle clip-path=\"url(#clip482)\" style=\"fill:#009af9; stroke:none; fill-opacity:0\" cx=\"1374.36\" cy=\"389.148\" r=\"2\"/>\n",
       "<circle clip-path=\"url(#clip482)\" style=\"fill:#009af9; stroke:none; fill-opacity:0\" cx=\"1449.01\" cy=\"349.65\" r=\"2\"/>\n",
       "<circle clip-path=\"url(#clip482)\" style=\"fill:#009af9; stroke:none; fill-opacity:0\" cx=\"1523.65\" cy=\"682.913\" r=\"2\"/>\n",
       "<circle clip-path=\"url(#clip482)\" style=\"fill:#009af9; stroke:none; fill-opacity:0\" cx=\"1598.3\" cy=\"937.181\" r=\"2\"/>\n",
       "<circle clip-path=\"url(#clip482)\" style=\"fill:#009af9; stroke:none; fill-opacity:0\" cx=\"1672.95\" cy=\"1033.46\" r=\"2\"/>\n",
       "<circle clip-path=\"url(#clip482)\" style=\"fill:#009af9; stroke:none; fill-opacity:0\" cx=\"1747.6\" cy=\"1203.79\" r=\"2\"/>\n",
       "<circle clip-path=\"url(#clip482)\" style=\"fill:#009af9; stroke:none; fill-opacity:0\" cx=\"1822.25\" cy=\"1307.47\" r=\"2\"/>\n",
       "<circle clip-path=\"url(#clip482)\" style=\"fill:#009af9; stroke:none; fill-opacity:0\" cx=\"1896.89\" cy=\"1356.85\" r=\"2\"/>\n",
       "<circle clip-path=\"url(#clip482)\" style=\"fill:#009af9; stroke:none; fill-opacity:0\" cx=\"1971.54\" cy=\"1391.41\" r=\"2\"/>\n",
       "<circle clip-path=\"url(#clip482)\" style=\"fill:#009af9; stroke:none; fill-opacity:0\" cx=\"2046.19\" cy=\"1435.84\" r=\"2\"/>\n",
       "<circle clip-path=\"url(#clip482)\" style=\"fill:#009af9; stroke:none; fill-opacity:0\" cx=\"2120.84\" cy=\"1430.9\" r=\"2\"/>\n",
       "<circle clip-path=\"url(#clip482)\" style=\"fill:#009af9; stroke:none; fill-opacity:0\" cx=\"2195.49\" cy=\"1435.84\" r=\"2\"/>\n",
       "<path clip-path=\"url(#clip480)\" d=\"M2009.56 198.898 L2280.06 198.898 L2280.06 95.2176 L2009.56 95.2176  Z\" fill=\"#ffffff\" fill-rule=\"evenodd\" fill-opacity=\"1\"/>\n",
       "<polyline clip-path=\"url(#clip480)\" style=\"stroke:#000000; stroke-linecap:round; stroke-linejoin:round; stroke-width:4; stroke-opacity:1; fill:none\" points=\"2009.56,198.898 2280.06,198.898 2280.06,95.2176 2009.56,95.2176 2009.56,198.898 \"/>\n",
       "<path clip-path=\"url(#clip480)\" d=\"M2033.79 167.794 L2179.17 167.794 L2179.17 126.322 L2033.79 126.322 L2033.79 167.794  Z\" fill=\"#009af9\" fill-rule=\"evenodd\" fill-opacity=\"1\"/>\n",
       "<polyline clip-path=\"url(#clip480)\" style=\"stroke:#000000; stroke-linecap:round; stroke-linejoin:round; stroke-width:4; stroke-opacity:1; fill:none\" points=\"2033.79,167.794 2179.17,167.794 2179.17,126.322 2033.79,126.322 2033.79,167.794 \"/>\n",
       "<path clip-path=\"url(#clip480)\" d=\"M2217.25 166.745 Q2215.44 171.375 2213.73 172.787 Q2212.01 174.199 2209.14 174.199 L2205.74 174.199 L2205.74 170.634 L2208.24 170.634 Q2210 170.634 2210.97 169.8 Q2211.95 168.967 2213.13 165.865 L2213.89 163.921 L2203.4 138.412 L2207.92 138.412 L2216.02 158.689 L2224.12 138.412 L2228.64 138.412 L2217.25 166.745 Z\" fill=\"#000000\" fill-rule=\"nonzero\" fill-opacity=\"1\" /><path clip-path=\"url(#clip480)\" d=\"M2235.93 160.402 L2243.57 160.402 L2243.57 134.037 L2235.26 135.703 L2235.26 131.444 L2243.52 129.778 L2248.2 129.778 L2248.2 160.402 L2255.83 160.402 L2255.83 164.338 L2235.93 164.338 L2235.93 160.402 Z\" fill=\"#000000\" fill-rule=\"nonzero\" fill-opacity=\"1\" /></svg>\n"
      ]
     },
     "execution_count": 27,
     "metadata": {},
     "output_type": "execute_result"
    }
   ],
   "source": [
    "histogram(test[3])"
   ]
  },
  {
   "cell_type": "markdown",
   "id": "boring-variety",
   "metadata": {},
   "source": [
    "## Can now see the bootstrapped stds for everything"
   ]
  },
  {
   "cell_type": "code",
   "execution_count": 28,
   "id": "potential-campaign",
   "metadata": {},
   "outputs": [
    {
     "data": {
      "text/plain": [
       "3-element Vector{Float64}:\n",
       " 0.0038327127122864263\n",
       " 0.002095013097897998\n",
       " 0.0011322590151972766"
      ]
     },
     "execution_count": 28,
     "metadata": {},
     "output_type": "execute_result"
    }
   ],
   "source": [
    "bs1samp = bootstrap_samps(n_ints[1],c_ints[1],n_vols[1],Ns[1])\n",
    "c1var = var(bs1samp[1]); ffn1var = var(bs1samp[2]); ffc1var = var(bs1samp[3]);\n",
    "[c1var,ffn1var,ffc1var].^1/2"
   ]
  },
  {
   "cell_type": "code",
   "execution_count": 29,
   "id": "vulnerable-cisco",
   "metadata": {},
   "outputs": [
    {
     "data": {
      "text/plain": [
       "3-element Vector{Float64}:\n",
       " 0.002475496424200744\n",
       " 0.001915755675209527\n",
       " 0.0014699431394119165"
      ]
     },
     "execution_count": 29,
     "metadata": {},
     "output_type": "execute_result"
    }
   ],
   "source": [
    "bs2samp = bootstrap_samps(n_ints[2],c_ints[2],n_vols[2],Ns[2])\n",
    "c2var = var(bs2samp[1]); ffn2var = var(bs2samp[2]); ffc2var = var(bs2samp[3]);\n",
    "[c2var,ffn2var,ffc2var].^1/2"
   ]
  },
  {
   "cell_type": "code",
   "execution_count": 30,
   "id": "suspended-tonight",
   "metadata": {},
   "outputs": [
    {
     "data": {
      "text/plain": [
       "3-element Vector{Float64}:\n",
       " 0.0019830545675007067\n",
       " 0.001042348405011056\n",
       " 0.0006186530662015493"
      ]
     },
     "execution_count": 30,
     "metadata": {},
     "output_type": "execute_result"
    }
   ],
   "source": [
    "bs3samp = bootstrap_samps(n_ints[3],c_ints[3],n_vols[3],Ns[3])\n",
    "c3var = var(bs3samp[1]); ffn3var = var(bs3samp[2]); ffc3var = var(bs3samp[3]);\n",
    "[c3var,ffn3var,ffc3var].^1/2"
   ]
  },
  {
   "cell_type": "code",
   "execution_count": 31,
   "id": "indie-collins",
   "metadata": {},
   "outputs": [
    {
     "data": {
      "text/plain": [
       "3-element Vector{Float64}:\n",
       " 0.0017705768660112938\n",
       " 0.0018367479303938985\n",
       " 0.0005673307548332065"
      ]
     },
     "execution_count": 31,
     "metadata": {},
     "output_type": "execute_result"
    }
   ],
   "source": [
    "bs4samp = bootstrap_samps(n_ints[4],c_ints[4],n_vols[4],Ns[4])\n",
    "c4var = var(bs4samp[1]); ffn4var = var(bs4samp[2]); ffc4var = var(bs4samp[3]);\n",
    "[c4var,ffn4var,ffc4var].^1/2"
   ]
  },
  {
   "cell_type": "code",
   "execution_count": null,
   "id": "western-wireless",
   "metadata": {},
   "outputs": [],
   "source": []
  },
  {
   "cell_type": "code",
   "execution_count": null,
   "id": "coral-startup",
   "metadata": {},
   "outputs": [],
   "source": []
  },
  {
   "cell_type": "code",
   "execution_count": null,
   "id": "consolidated-stewart",
   "metadata": {},
   "outputs": [],
   "source": []
  },
  {
   "cell_type": "code",
   "execution_count": null,
   "id": "micro-beatles",
   "metadata": {},
   "outputs": [],
   "source": []
  },
  {
   "cell_type": "code",
   "execution_count": null,
   "id": "bf50ce3f",
   "metadata": {},
   "outputs": [],
   "source": []
  }
 ],
 "metadata": {
  "kernelspec": {
   "display_name": "Julia 1.8.5",
   "language": "julia",
   "name": "julia-1.8"
  },
  "language_info": {
   "file_extension": ".jl",
   "mimetype": "application/julia",
   "name": "julia",
   "version": "1.8.5"
  }
 },
 "nbformat": 4,
 "nbformat_minor": 5
}
