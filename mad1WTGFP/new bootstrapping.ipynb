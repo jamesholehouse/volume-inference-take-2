{
 "cells": [
  {
   "cell_type": "markdown",
   "id": "outstanding-project",
   "metadata": {},
   "source": [
    "# Bootstrapping for each replicate"
   ]
  },
  {
   "cell_type": "markdown",
   "id": "0f703048",
   "metadata": {},
   "source": [
    "## Data analysis: Linear model fit and volume corrected moments"
   ]
  },
  {
   "cell_type": "code",
   "execution_count": 1,
   "id": "aa1a2211",
   "metadata": {},
   "outputs": [],
   "source": [
    "using Random, Plots, Distributions, StatsBase, DataFrames, CSV, Plots.PlotMeasures"
   ]
  },
  {
   "cell_type": "code",
   "execution_count": 2,
   "id": "0807513e",
   "metadata": {},
   "outputs": [],
   "source": [
    "df = DataFrame(CSV.File(\"FISH_toShare_NoTSlabel_celldata_long_220620_simple_woMad3Outlier_withColDescription.csv\"));"
   ]
  },
  {
   "cell_type": "code",
   "execution_count": 3,
   "id": "84235298",
   "metadata": {},
   "outputs": [],
   "source": [
    "names(df);"
   ]
  },
  {
   "cell_type": "code",
   "execution_count": 4,
   "id": "4314d2be",
   "metadata": {},
   "outputs": [],
   "source": [
    "df = df[:,[:sampleID,:gene,:NucleiCount,:Compartment,:CountMethod,:RNAperCell,:Cell_Length_um]];"
   ]
  },
  {
   "cell_type": "code",
   "execution_count": 5,
   "id": "7ee07693",
   "metadata": {},
   "outputs": [],
   "source": [
    "# filter only for mad1WTGFP and NucleiCount = 1\n",
    "dfa = subset(df, :gene => g -> g.==\"mad1WTymEGFP\", :NucleiCount => n -> n.==1)\n",
    "# make cyto and nuc table separately.\n",
    "dfcyto = subset(dfa, :Compartment=>c->c.==\"Cytoplasm\")\n",
    "dfnuc = subset(dfa, :Compartment=>c->c.==\"Nucleus\")\n",
    "# separate the 4 different samples\n",
    "dfsN = [];dfsC = [];\n",
    "samples = unique(dfa[!,:sampleID])\n",
    "# add each to the vectors\n",
    "for i in 1:4\n",
    "    samp = samples[1]\n",
    "    dftempN = subset(dfnuc, :sampleID=>S->S.==samples[i])\n",
    "    dftempC = subset(dfcyto, :sampleID=>S->S.==samples[i])\n",
    "    push!(dfsN,dftempN)\n",
    "    push!(dfsC,dftempC)\n",
    "end"
   ]
  },
  {
   "cell_type": "code",
   "execution_count": 6,
   "id": "e69bc2bc",
   "metadata": {},
   "outputs": [],
   "source": [
    "dfsC;"
   ]
  },
  {
   "cell_type": "markdown",
   "id": "2b9d417a",
   "metadata": {},
   "source": [
    "If the moments I find differ from this then I know there's an issue! Let's collect the columns corresponding to the nuclear and cytoplasmic volumes and **counts** respectively."
   ]
  },
  {
   "cell_type": "code",
   "execution_count": 7,
   "id": "405f8b9b",
   "metadata": {},
   "outputs": [
    {
     "data": {
      "text/plain": [
       "7-element Vector{String}:\n",
       " \"sampleID\"\n",
       " \"gene\"\n",
       " \"NucleiCount\"\n",
       " \"Compartment\"\n",
       " \"CountMethod\"\n",
       " \"RNAperCell\"\n",
       " \"Cell_Length_um\""
      ]
     },
     "execution_count": 7,
     "metadata": {},
     "output_type": "execute_result"
    }
   ],
   "source": [
    "names(dfsC[1])"
   ]
  },
  {
   "cell_type": "code",
   "execution_count": 8,
   "id": "ea7653ed",
   "metadata": {},
   "outputs": [],
   "source": [
    "n_vols = [dfsN[i][!,:Cell_Length_um] for i in 1:4]\n",
    "c_vols = [dfsC[i][!,:Cell_Length_um] for i in 1:4]\n",
    "n_ints = [dfsN[i][!,:RNAperCell] for i in 1:4]\n",
    "c_ints = [dfsC[i][!,:RNAperCell] for i in 1:4];"
   ]
  },
  {
   "cell_type": "code",
   "execution_count": 32,
   "id": "d32e9d02",
   "metadata": {},
   "outputs": [
    {
     "data": {
      "text/plain": [
       "4-element Vector{Int64}:\n",
       " 1161\n",
       " 1581\n",
       " 1977\n",
       " 1746"
      ]
     },
     "execution_count": 32,
     "metadata": {},
     "output_type": "execute_result"
    }
   ],
   "source": [
    "Ns = [length(c_ints[i]) for i in 1:4]"
   ]
  },
  {
   "cell_type": "markdown",
   "id": "11d027b7",
   "metadata": {},
   "source": [
    "For the linear model fits we use the Julia package GLM. This is a very convenient and fast way to construct linear models."
   ]
  },
  {
   "cell_type": "code",
   "execution_count": 10,
   "id": "552f3e83",
   "metadata": {},
   "outputs": [],
   "source": [
    "using GLM"
   ]
  },
  {
   "cell_type": "markdown",
   "id": "e0cc9bc2",
   "metadata": {},
   "source": [
    "Perform the linear model fits. Note in the below that our fitting parameters are stored in `npar` and `cpar` in the order `[intercept, gradient]`."
   ]
  },
  {
   "cell_type": "code",
   "execution_count": 11,
   "id": "9bbfc111",
   "metadata": {},
   "outputs": [
    {
     "data": {
      "text/plain": [
       "4-element Vector{Float64}:\n",
       " 0.6037905581610079\n",
       " 0.46608863627967206\n",
       " 0.4796026025612281\n",
       " 0.37971856092997336"
      ]
     },
     "execution_count": 11,
     "metadata": {},
     "output_type": "execute_result"
    }
   ],
   "source": [
    "nlms = [lm(@formula(RNAperCell ~ Cell_Length_um), dfsN[i]) for i in 1:4]\n",
    "npars = [coef(nlms[i]) for i in 1:4]\n",
    "cs = hcat(npars...)[1,:]; ds = hcat(npars...)[2,:]\n",
    "clms = [lm(@formula(RNAperCell ~ Cell_Length_um), dfsC[i]) for i in 1:4]\n",
    "cpars = [coef(clms[i]) for i in 1:4]\n",
    "as = hcat(cpars...)[1,:]; bs = hcat(cpars...)[2,:]"
   ]
  },
  {
   "cell_type": "markdown",
   "id": "8a39fa7a",
   "metadata": {},
   "source": [
    "A quick look at the linear model fit itself will tell us some properties of the fit."
   ]
  },
  {
   "cell_type": "code",
   "execution_count": 12,
   "id": "1c63acbb",
   "metadata": {},
   "outputs": [
    {
     "data": {
      "text/plain": [
       "StatsModels.TableRegressionModel{LinearModel{GLM.LmResp{Vector{Float64}}, GLM.DensePredChol{Float64, LinearAlgebra.CholeskyPivoted{Float64, Matrix{Float64}, Vector{Int64}}}}, Matrix{Float64}}\n",
       "\n",
       "RNAperCell ~ 1 + Cell_Length_um\n",
       "\n",
       "Coefficients:\n",
       "─────────────────────────────────────────────────────────────────────────────\n",
       "                    Coef.  Std. Error       t  Pr(>|t|)  Lower 95%  Upper 95%\n",
       "─────────────────────────────────────────────────────────────────────────────\n",
       "(Intercept)     -3.16679    0.240588   -13.16    <1e-36  -3.63882   -2.69475\n",
       "Cell_Length_um   0.603791   0.0228683   26.40    <1e-99   0.558923   0.648658\n",
       "─────────────────────────────────────────────────────────────────────────────"
      ]
     },
     "execution_count": 12,
     "metadata": {},
     "output_type": "execute_result"
    }
   ],
   "source": [
    "clms[1]"
   ]
  },
  {
   "cell_type": "markdown",
   "id": "fe494940",
   "metadata": {},
   "source": [
    "Now, to construct the volume corrected moments we first need to know the mean values for the volumes and intensities. Collect these from the data."
   ]
  },
  {
   "cell_type": "code",
   "execution_count": 13,
   "id": "f7b86a0c",
   "metadata": {},
   "outputs": [
    {
     "data": {
      "text/plain": [
       "4-element Vector{Float64}:\n",
       " 3.094988234996555\n",
       " 2.6687301433055026\n",
       " 2.9580443633353566\n",
       " 2.610546234022337"
      ]
     },
     "execution_count": 13,
     "metadata": {},
     "output_type": "execute_result"
    }
   ],
   "source": [
    "n_vol_avgs = [mean(n_vols[i]) for i in 1:4]\n",
    "c_vol_avgs = [mean(c_vols[i]) for i in 1:4]\n",
    "n_avgs = [mean(n_ints[i]) for i in 1:4]\n",
    "c_avgs = [mean(c_ints[i]) for i in 1:4]"
   ]
  },
  {
   "cell_type": "markdown",
   "id": "cad2ffea",
   "metadata": {},
   "source": [
    "Note that even the means of the cytoplasmic can vary quite significantly between the replicates. As can the observed mean cell volumes in each experiment."
   ]
  },
  {
   "cell_type": "markdown",
   "id": "86b0a1ba",
   "metadata": {},
   "source": [
    "We know theoretically that to first order volume corrections to the means are nil. Let's just clarify this."
   ]
  },
  {
   "cell_type": "code",
   "execution_count": 14,
   "id": "ae9e3336",
   "metadata": {},
   "outputs": [
    {
     "data": {
      "text/plain": [
       "4-element Vector{Float64}:\n",
       " 0.024634400218522125\n",
       " 0.05869752331164149\n",
       " 0.04127424654051097\n",
       " 0.01671396006187003"
      ]
     },
     "execution_count": 14,
     "metadata": {},
     "output_type": "execute_result"
    }
   ],
   "source": [
    "ds"
   ]
  },
  {
   "cell_type": "code",
   "execution_count": 15,
   "id": "af7ad26b",
   "metadata": {},
   "outputs": [
    {
     "data": {
      "text/plain": [
       "4-element Vector{Float64}:\n",
       " 3.094988234996555\n",
       " 2.668730143305501\n",
       " 2.958044363335355\n",
       " 2.610546234022334"
      ]
     },
     "execution_count": 15,
     "metadata": {},
     "output_type": "execute_result"
    }
   ],
   "source": [
    "vc_mean_ns = [cs[i] + n_vol_avgs[i]*ds[i] for i in 1:4]\n",
    "vc_mean_cs = [as[i] + c_vol_avgs[i]*bs[i] for i in 1:4]\n",
    "# vc_mean_cs = a + c_vol_avg*b"
   ]
  },
  {
   "cell_type": "code",
   "execution_count": 16,
   "id": "6331c0e6",
   "metadata": {},
   "outputs": [],
   "source": [
    "μ20s = [moment(n_ints[i], 2, n_avgs[i]) for i in 1:4];\n",
    "μ02s = [moment(c_ints[i], 2, c_avgs[i]) for i in 1:4];\n",
    "μ20Ωs = [moment(n_vols[i], 2, n_vol_avgs[i]) for i in 1:4];\n",
    "μ02Ωs = [moment(c_vols[i], 2, c_vol_avgs[i]) for i in 1:4];"
   ]
  },
  {
   "cell_type": "code",
   "execution_count": 17,
   "id": "21e86d08",
   "metadata": {},
   "outputs": [],
   "source": [
    "μ20s_i = [μ20s[i] - ds[i]^2 * μ20Ωs[i] for i in 1:4]\n",
    "μ02s_i = [μ02s[i] - bs[i]^2 * μ02Ωs[i] for i in 1:4];"
   ]
  },
  {
   "cell_type": "markdown",
   "id": "4e37cbc0",
   "metadata": {},
   "source": [
    "Clearly the volume corrected means are simply the means if one averaged over the data. Can now store the values for the VC FF's along with the mean cyto #."
   ]
  },
  {
   "cell_type": "code",
   "execution_count": 18,
   "id": "48999c0e",
   "metadata": {},
   "outputs": [
    {
     "data": {
      "text/plain": [
       "4-element Vector{Float64}:\n",
       " 0.9558150606258131\n",
       " 0.9926999917678184\n",
       " 0.9744213797386199\n",
       " 0.997142602245176"
      ]
     },
     "execution_count": 18,
     "metadata": {},
     "output_type": "execute_result"
    }
   ],
   "source": [
    "nuc_FFs = μ20s_i./vc_mean_ns"
   ]
  },
  {
   "cell_type": "code",
   "execution_count": 19,
   "id": "dff707ae",
   "metadata": {},
   "outputs": [
    {
     "data": {
      "text/plain": [
       "4-element Vector{Float64}:\n",
       " 0.6129543833434689\n",
       " 0.7557568194063666\n",
       " 0.6613100531460392\n",
       " 0.5879024967862935"
      ]
     },
     "execution_count": 19,
     "metadata": {},
     "output_type": "execute_result"
    }
   ],
   "source": [
    "cyto_FFs = μ02s_i./vc_mean_cs"
   ]
  },
  {
   "cell_type": "code",
   "execution_count": 20,
   "id": "d251eb27",
   "metadata": {},
   "outputs": [
    {
     "data": {
      "text/plain": [
       "4-element Vector{Float64}:\n",
       " 3.094988234996555\n",
       " 2.668730143305501\n",
       " 2.958044363335355\n",
       " 2.610546234022334"
      ]
     },
     "execution_count": 20,
     "metadata": {},
     "output_type": "execute_result"
    }
   ],
   "source": [
    "cyto_means = vc_mean_cs"
   ]
  },
  {
   "cell_type": "markdown",
   "id": "fundamental-eligibility",
   "metadata": {},
   "source": [
    "# Now for the bootstraps"
   ]
  },
  {
   "cell_type": "code",
   "execution_count": 21,
   "id": "charged-adjustment",
   "metadata": {},
   "outputs": [
    {
     "data": {
      "text/plain": [
       "1-element Vector{Int64}:\n",
       " 3"
      ]
     },
     "execution_count": 21,
     "metadata": {},
     "output_type": "execute_result"
    }
   ],
   "source": [
    "sample([1,2,3],1)"
   ]
  },
  {
   "cell_type": "code",
   "execution_count": 22,
   "id": "outdoor-inclusion",
   "metadata": {},
   "outputs": [
    {
     "data": {
      "text/plain": [
       "3-element Vector{Int64}:\n",
       " 1\n",
       " 2\n",
       " 4"
      ]
     },
     "execution_count": 22,
     "metadata": {},
     "output_type": "execute_result"
    }
   ],
   "source": [
    "test = [1,2,4]"
   ]
  },
  {
   "cell_type": "code",
   "execution_count": 23,
   "id": "capable-petroleum",
   "metadata": {},
   "outputs": [
    {
     "data": {
      "text/plain": [
       "2-element Vector{Int64}:\n",
       " 1\n",
       " 4"
      ]
     },
     "execution_count": 23,
     "metadata": {},
     "output_type": "execute_result"
    }
   ],
   "source": [
    "test[[1,3]]"
   ]
  },
  {
   "cell_type": "code",
   "execution_count": 24,
   "id": "dangerous-chest",
   "metadata": {},
   "outputs": [
    {
     "data": {
      "text/plain": [
       "4-element Vector{Float64}:\n",
       " 0.6037905581610079\n",
       " 0.46608863627967206\n",
       " 0.4796026025612281\n",
       " 0.37971856092997336"
      ]
     },
     "execution_count": 24,
     "metadata": {},
     "output_type": "execute_result"
    }
   ],
   "source": [
    "nlms = [lm(@formula(RNAperCell ~ Cell_Length_um), dfsN[i]) for i in 1:4]\n",
    "npars = [coef(nlms[i]) for i in 1:4]\n",
    "cs = hcat(npars...)[1,:]; ds = hcat(npars...)[2,:]\n",
    "clms = [lm(@formula(RNAperCell ~ Cell_Length_um), dfsC[i]) for i in 1:4]\n",
    "cpars = [coef(clms[i]) for i in 1:4]\n",
    "as = hcat(cpars...)[1,:]; bs = hcat(cpars...)[2,:]"
   ]
  },
  {
   "cell_type": "code",
   "execution_count": 25,
   "id": "mysterious-mount",
   "metadata": {
    "scrolled": true
   },
   "outputs": [
    {
     "data": {
      "text/plain": [
       "([2.9745887980510877, 2.984431363901872, 2.888064062489125, 2.9260402231446645, 2.9951410746757716, 3.02082730578604, 2.9864822079291855, 2.953047938226606, 2.902172644996965, 2.957106755398078  …  3.018251696054122, 2.9687033480091047, 2.9836170399109765, 2.974730394433485, 2.9079929328973195, 2.886607414041477, 2.912417373208902, 2.9024643065457765, 2.9313579371279714, 2.9058491947991905], [0.8932110691673079, 0.9862105882714282, 0.9922532016904746, 1.0130060188037089, 1.026486209872651, 1.0262297285011484, 0.9576510466962921, 0.9870059373656768, 0.9634811513575993, 0.9846824570804463  …  0.9093213158560675, 0.9416915907009894, 0.9514818363787845, 0.955087072351182, 0.9889519771047394, 0.9563125984649726, 0.9634741105299447, 0.9782829130369042, 0.9875338245040018, 0.9156765138464096], [0.616872248140305, 0.6896571708698329, 0.6979730404336275, 0.6711041377118443, 0.6523483889907429, 0.6177152078637216, 0.620740931166628, 0.6534749448812519, 0.6875832584460211, 0.6524681661382491  …  0.6320604239131554, 0.6825528363462497, 0.6773299643879446, 0.6452394909250035, 0.6574862999702225, 0.6741195950286212, 0.6611199330484548, 0.661377732461178, 0.654856666751188, 0.6596861694075831])"
      ]
     },
     "execution_count": 25,
     "metadata": {},
     "output_type": "execute_result"
    }
   ],
   "source": [
    "function bootstrap_samps(n_pop,c_pop,v_pop,N)\n",
    "    if length(n_pop)!=length(c_pop)\n",
    "        return error(\"args must be the same length\")\n",
    "    end\n",
    "    # make an array of all the indices\n",
    "    all_inds = collect(1:1:length(n_pop))\n",
    "    samps = [sort(sample(all_inds,N)) for i in 1:5000]\n",
    "    n_samps = [n_pop[samps[i]] for i in 1:5000]\n",
    "    c_samps = [c_pop[samps[i]] for i in 1:5000]\n",
    "    v_samps = [v_pop[samps[i]] for i in 1:5000]\n",
    "    meanCs = zeros(5000); ffNs = zeros(5000); ffCs = zeros(5000);\n",
    "    # for each bootstrapped sample we now need the vol corr moments.\n",
    "    for j in 1:5000\n",
    "        ns = n_samps[j]; cs = c_samps[j]; vs = v_samps[j];\n",
    "        dftemp = DataFrame(vol=vs,n=ns,c=cs);\n",
    "        nlm = lm(@formula(n ~ vol), dftemp);\n",
    "        npars = coef(nlm); c = npars[1]; d = npars[2];\n",
    "        clm = lm(@formula(c ~ vol), dftemp);\n",
    "        cpars = coef(clm); a = cpars[1]; b = cpars[2];\n",
    "        navg = mean(ns); cavg = mean(cs); vavg = mean(vs);\n",
    "        μ20 = moment(ns, 2, navg);\n",
    "        μ02 = moment(cs, 2, cavg);\n",
    "        μ2Ω = moment(vs, 2, vavg);\n",
    "        μ20_i = μ20 - d^2 * μ2Ω;\n",
    "        μ02_i = μ02 - b^2 * μ2Ω;\n",
    "        meanCs[j] = cavg; ffNs[j] = μ20_i/navg; ffCs[j] = μ02_i/cavg;\n",
    "    end\n",
    "    return meanCs, ffNs, ffCs\n",
    "end\n",
    "ti = 3\n",
    "test = bootstrap_samps(n_ints[3],c_ints[3],n_vols[3],Ns[3])"
   ]
  },
  {
   "cell_type": "code",
   "execution_count": 26,
   "id": "consolidated-country",
   "metadata": {},
   "outputs": [
    {
     "data": {
      "image/svg+xml": [
       "<?xml version=\"1.0\" encoding=\"utf-8\"?>\n",
       "<svg xmlns=\"http://www.w3.org/2000/svg\" xmlns:xlink=\"http://www.w3.org/1999/xlink\" width=\"600\" height=\"400\" viewBox=\"0 0 2400 1600\">\n",
       "<defs>\n",
       "  <clipPath id=\"clip260\">\n",
       "    <rect x=\"0\" y=\"0\" width=\"2400\" height=\"1600\"/>\n",
       "  </clipPath>\n",
       "</defs>\n",
       "<path clip-path=\"url(#clip260)\" d=\"M0 1600 L2400 1600 L2400 0 L0 0  Z\" fill=\"#ffffff\" fill-rule=\"evenodd\" fill-opacity=\"1\"/>\n",
       "<defs>\n",
       "  <clipPath id=\"clip261\">\n",
       "    <rect x=\"480\" y=\"0\" width=\"1681\" height=\"1600\"/>\n",
       "  </clipPath>\n",
       "</defs>\n",
       "<path clip-path=\"url(#clip260)\" d=\"M170.857 1486.45 L2352.76 1486.45 L2352.76 47.2441 L170.857 47.2441  Z\" fill=\"#ffffff\" fill-rule=\"evenodd\" fill-opacity=\"1\"/>\n",
       "<defs>\n",
       "  <clipPath id=\"clip262\">\n",
       "    <rect x=\"170\" y=\"47\" width=\"2183\" height=\"1440\"/>\n",
       "  </clipPath>\n",
       "</defs>\n",
       "<polyline clip-path=\"url(#clip262)\" style=\"stroke:#000000; stroke-linecap:round; stroke-linejoin:round; stroke-width:2; stroke-opacity:0.1; fill:none\" points=\"440.241,1486.45 440.241,47.2441 \"/>\n",
       "<polyline clip-path=\"url(#clip262)\" style=\"stroke:#000000; stroke-linecap:round; stroke-linejoin:round; stroke-width:2; stroke-opacity:0.1; fill:none\" points=\"938.16,1486.45 938.16,47.2441 \"/>\n",
       "<polyline clip-path=\"url(#clip262)\" style=\"stroke:#000000; stroke-linecap:round; stroke-linejoin:round; stroke-width:2; stroke-opacity:0.1; fill:none\" points=\"1436.08,1486.45 1436.08,47.2441 \"/>\n",
       "<polyline clip-path=\"url(#clip262)\" style=\"stroke:#000000; stroke-linecap:round; stroke-linejoin:round; stroke-width:2; stroke-opacity:0.1; fill:none\" points=\"1934,1486.45 1934,47.2441 \"/>\n",
       "<polyline clip-path=\"url(#clip260)\" style=\"stroke:#000000; stroke-linecap:round; stroke-linejoin:round; stroke-width:4; stroke-opacity:1; fill:none\" points=\"170.857,1486.45 2352.76,1486.45 \"/>\n",
       "<polyline clip-path=\"url(#clip260)\" style=\"stroke:#000000; stroke-linecap:round; stroke-linejoin:round; stroke-width:4; stroke-opacity:1; fill:none\" points=\"440.241,1486.45 440.241,1467.55 \"/>\n",
       "<polyline clip-path=\"url(#clip260)\" style=\"stroke:#000000; stroke-linecap:round; stroke-linejoin:round; stroke-width:4; stroke-opacity:1; fill:none\" points=\"938.16,1486.45 938.16,1467.55 \"/>\n",
       "<polyline clip-path=\"url(#clip260)\" style=\"stroke:#000000; stroke-linecap:round; stroke-linejoin:round; stroke-width:4; stroke-opacity:1; fill:none\" points=\"1436.08,1486.45 1436.08,1467.55 \"/>\n",
       "<polyline clip-path=\"url(#clip260)\" style=\"stroke:#000000; stroke-linecap:round; stroke-linejoin:round; stroke-width:4; stroke-opacity:1; fill:none\" points=\"1934,1486.45 1934,1467.55 \"/>\n",
       "<path clip-path=\"url(#clip260)\" d=\"M402.545 1517.37 Q398.934 1517.37 397.105 1520.93 Q395.299 1524.47 395.299 1531.6 Q395.299 1538.71 397.105 1542.27 Q398.934 1545.82 402.545 1545.82 Q406.179 1545.82 407.984 1542.27 Q409.813 1538.71 409.813 1531.6 Q409.813 1524.47 407.984 1520.93 Q406.179 1517.37 402.545 1517.37 M402.545 1513.66 Q408.355 1513.66 411.41 1518.27 Q414.489 1522.85 414.489 1531.6 Q414.489 1540.33 411.41 1544.94 Q408.355 1549.52 402.545 1549.52 Q396.735 1549.52 393.656 1544.94 Q390.6 1540.33 390.6 1531.6 Q390.6 1522.85 393.656 1518.27 Q396.735 1513.66 402.545 1513.66 Z\" fill=\"#000000\" fill-rule=\"nonzero\" fill-opacity=\"1\" /><path clip-path=\"url(#clip260)\" d=\"M422.707 1542.97 L427.591 1542.97 L427.591 1548.85 L422.707 1548.85 L422.707 1542.97 Z\" fill=\"#000000\" fill-rule=\"nonzero\" fill-opacity=\"1\" /><path clip-path=\"url(#clip260)\" d=\"M437.915 1548.13 L437.915 1543.87 Q439.674 1544.7 441.48 1545.14 Q443.285 1545.58 445.021 1545.58 Q449.651 1545.58 452.081 1542.48 Q454.535 1539.36 454.882 1533.01 Q453.54 1535.01 451.48 1536.07 Q449.419 1537.13 446.919 1537.13 Q441.734 1537.13 438.702 1534.01 Q435.693 1530.86 435.693 1525.42 Q435.693 1520.1 438.841 1516.88 Q441.989 1513.66 447.22 1513.66 Q453.216 1513.66 456.364 1518.27 Q459.535 1522.85 459.535 1531.6 Q459.535 1539.77 455.646 1544.66 Q451.781 1549.52 445.23 1549.52 Q443.47 1549.52 441.665 1549.17 Q439.859 1548.82 437.915 1548.13 M447.22 1533.48 Q450.369 1533.48 452.197 1531.32 Q454.049 1529.17 454.049 1525.42 Q454.049 1521.7 452.197 1519.54 Q450.369 1517.37 447.22 1517.37 Q444.072 1517.37 442.22 1519.54 Q440.392 1521.7 440.392 1525.42 Q440.392 1529.17 442.22 1531.32 Q444.072 1533.48 447.22 1533.48 Z\" fill=\"#000000\" fill-rule=\"nonzero\" fill-opacity=\"1\" /><path clip-path=\"url(#clip260)\" d=\"M477.938 1517.37 Q474.327 1517.37 472.498 1520.93 Q470.692 1524.47 470.692 1531.6 Q470.692 1538.71 472.498 1542.27 Q474.327 1545.82 477.938 1545.82 Q481.572 1545.82 483.378 1542.27 Q485.206 1538.71 485.206 1531.6 Q485.206 1524.47 483.378 1520.93 Q481.572 1517.37 477.938 1517.37 M477.938 1513.66 Q483.748 1513.66 486.803 1518.27 Q489.882 1522.85 489.882 1531.6 Q489.882 1540.33 486.803 1544.94 Q483.748 1549.52 477.938 1549.52 Q472.128 1549.52 469.049 1544.94 Q465.993 1540.33 465.993 1531.6 Q465.993 1522.85 469.049 1518.27 Q472.128 1513.66 477.938 1513.66 Z\" fill=\"#000000\" fill-rule=\"nonzero\" fill-opacity=\"1\" /><path clip-path=\"url(#clip260)\" d=\"M900.961 1517.37 Q897.35 1517.37 895.521 1520.93 Q893.715 1524.47 893.715 1531.6 Q893.715 1538.71 895.521 1542.27 Q897.35 1545.82 900.961 1545.82 Q904.595 1545.82 906.401 1542.27 Q908.229 1538.71 908.229 1531.6 Q908.229 1524.47 906.401 1520.93 Q904.595 1517.37 900.961 1517.37 M900.961 1513.66 Q906.771 1513.66 909.826 1518.27 Q912.905 1522.85 912.905 1531.6 Q912.905 1540.33 909.826 1544.94 Q906.771 1549.52 900.961 1549.52 Q895.151 1549.52 892.072 1544.94 Q889.016 1540.33 889.016 1531.6 Q889.016 1522.85 892.072 1518.27 Q895.151 1513.66 900.961 1513.66 Z\" fill=\"#000000\" fill-rule=\"nonzero\" fill-opacity=\"1\" /><path clip-path=\"url(#clip260)\" d=\"M921.123 1542.97 L926.007 1542.97 L926.007 1548.85 L921.123 1548.85 L921.123 1542.97 Z\" fill=\"#000000\" fill-rule=\"nonzero\" fill-opacity=\"1\" /><path clip-path=\"url(#clip260)\" d=\"M936.331 1548.13 L936.331 1543.87 Q938.09 1544.7 939.896 1545.14 Q941.701 1545.58 943.437 1545.58 Q948.067 1545.58 950.498 1542.48 Q952.951 1539.36 953.298 1533.01 Q951.956 1535.01 949.896 1536.07 Q947.836 1537.13 945.336 1537.13 Q940.15 1537.13 937.118 1534.01 Q934.109 1530.86 934.109 1525.42 Q934.109 1520.1 937.257 1516.88 Q940.405 1513.66 945.636 1513.66 Q951.632 1513.66 954.78 1518.27 Q957.951 1522.85 957.951 1531.6 Q957.951 1539.77 954.062 1544.66 Q950.197 1549.52 943.646 1549.52 Q941.887 1549.52 940.081 1549.17 Q938.275 1548.82 936.331 1548.13 M945.636 1533.48 Q948.785 1533.48 950.613 1531.32 Q952.465 1529.17 952.465 1525.42 Q952.465 1521.7 950.613 1519.54 Q948.785 1517.37 945.636 1517.37 Q942.488 1517.37 940.637 1519.54 Q938.808 1521.7 938.808 1525.42 Q938.808 1529.17 940.637 1531.32 Q942.488 1533.48 945.636 1533.48 Z\" fill=\"#000000\" fill-rule=\"nonzero\" fill-opacity=\"1\" /><path clip-path=\"url(#clip260)\" d=\"M966.4 1514.29 L984.757 1514.29 L984.757 1518.22 L970.683 1518.22 L970.683 1526.7 Q971.701 1526.35 972.72 1526.19 Q973.738 1526 974.757 1526 Q980.544 1526 983.923 1529.17 Q987.303 1532.34 987.303 1537.76 Q987.303 1543.34 983.831 1546.44 Q980.359 1549.52 974.039 1549.52 Q971.863 1549.52 969.595 1549.15 Q967.349 1548.78 964.942 1548.04 L964.942 1543.34 Q967.025 1544.47 969.247 1545.03 Q971.47 1545.58 973.947 1545.58 Q977.951 1545.58 980.289 1543.48 Q982.627 1541.37 982.627 1537.76 Q982.627 1534.15 980.289 1532.04 Q977.951 1529.94 973.947 1529.94 Q972.072 1529.94 970.197 1530.35 Q968.345 1530.77 966.4 1531.65 L966.4 1514.29 Z\" fill=\"#000000\" fill-rule=\"nonzero\" fill-opacity=\"1\" /><path clip-path=\"url(#clip260)\" d=\"M1388.15 1544.91 L1395.79 1544.91 L1395.79 1518.55 L1387.48 1520.21 L1387.48 1515.95 L1395.74 1514.29 L1400.42 1514.29 L1400.42 1544.91 L1408.06 1544.91 L1408.06 1548.85 L1388.15 1548.85 L1388.15 1544.91 Z\" fill=\"#000000\" fill-rule=\"nonzero\" fill-opacity=\"1\" /><path clip-path=\"url(#clip260)\" d=\"M1417.5 1542.97 L1422.39 1542.97 L1422.39 1548.85 L1417.5 1548.85 L1417.5 1542.97 Z\" fill=\"#000000\" fill-rule=\"nonzero\" fill-opacity=\"1\" /><path clip-path=\"url(#clip260)\" d=\"M1442.57 1517.37 Q1438.96 1517.37 1437.13 1520.93 Q1435.33 1524.47 1435.33 1531.6 Q1435.33 1538.71 1437.13 1542.27 Q1438.96 1545.82 1442.57 1545.82 Q1446.21 1545.82 1448.01 1542.27 Q1449.84 1538.71 1449.84 1531.6 Q1449.84 1524.47 1448.01 1520.93 Q1446.21 1517.37 1442.57 1517.37 M1442.57 1513.66 Q1448.38 1513.66 1451.44 1518.27 Q1454.52 1522.85 1454.52 1531.6 Q1454.52 1540.33 1451.44 1544.94 Q1448.38 1549.52 1442.57 1549.52 Q1436.76 1549.52 1433.68 1544.94 Q1430.63 1540.33 1430.63 1531.6 Q1430.63 1522.85 1433.68 1518.27 Q1436.76 1513.66 1442.57 1513.66 Z\" fill=\"#000000\" fill-rule=\"nonzero\" fill-opacity=\"1\" /><path clip-path=\"url(#clip260)\" d=\"M1472.73 1517.37 Q1469.12 1517.37 1467.29 1520.93 Q1465.49 1524.47 1465.49 1531.6 Q1465.49 1538.71 1467.29 1542.27 Q1469.12 1545.82 1472.73 1545.82 Q1476.37 1545.82 1478.17 1542.27 Q1480 1538.71 1480 1531.6 Q1480 1524.47 1478.17 1520.93 Q1476.37 1517.37 1472.73 1517.37 M1472.73 1513.66 Q1478.54 1513.66 1481.6 1518.27 Q1484.68 1522.85 1484.68 1531.6 Q1484.68 1540.33 1481.6 1544.94 Q1478.54 1549.52 1472.73 1549.52 Q1466.92 1549.52 1463.84 1544.94 Q1460.79 1540.33 1460.79 1531.6 Q1460.79 1522.85 1463.84 1518.27 Q1466.92 1513.66 1472.73 1513.66 Z\" fill=\"#000000\" fill-rule=\"nonzero\" fill-opacity=\"1\" /><path clip-path=\"url(#clip260)\" d=\"M1886.57 1544.91 L1894.21 1544.91 L1894.21 1518.55 L1885.89 1520.21 L1885.89 1515.95 L1894.16 1514.29 L1898.83 1514.29 L1898.83 1544.91 L1906.47 1544.91 L1906.47 1548.85 L1886.57 1548.85 L1886.57 1544.91 Z\" fill=\"#000000\" fill-rule=\"nonzero\" fill-opacity=\"1\" /><path clip-path=\"url(#clip260)\" d=\"M1915.92 1542.97 L1920.8 1542.97 L1920.8 1548.85 L1915.92 1548.85 L1915.92 1542.97 Z\" fill=\"#000000\" fill-rule=\"nonzero\" fill-opacity=\"1\" /><path clip-path=\"url(#clip260)\" d=\"M1940.99 1517.37 Q1937.38 1517.37 1935.55 1520.93 Q1933.74 1524.47 1933.74 1531.6 Q1933.74 1538.71 1935.55 1542.27 Q1937.38 1545.82 1940.99 1545.82 Q1944.62 1545.82 1946.43 1542.27 Q1948.26 1538.71 1948.26 1531.6 Q1948.26 1524.47 1946.43 1520.93 Q1944.62 1517.37 1940.99 1517.37 M1940.99 1513.66 Q1946.8 1513.66 1949.85 1518.27 Q1952.93 1522.85 1952.93 1531.6 Q1952.93 1540.33 1949.85 1544.94 Q1946.8 1549.52 1940.99 1549.52 Q1935.18 1549.52 1932.1 1544.94 Q1929.04 1540.33 1929.04 1531.6 Q1929.04 1522.85 1932.1 1518.27 Q1935.18 1513.66 1940.99 1513.66 Z\" fill=\"#000000\" fill-rule=\"nonzero\" fill-opacity=\"1\" /><path clip-path=\"url(#clip260)\" d=\"M1961.2 1514.29 L1979.55 1514.29 L1979.55 1518.22 L1965.48 1518.22 L1965.48 1526.7 Q1966.5 1526.35 1967.51 1526.19 Q1968.53 1526 1969.55 1526 Q1975.34 1526 1978.72 1529.17 Q1982.1 1532.34 1982.1 1537.76 Q1982.1 1543.34 1978.63 1546.44 Q1975.15 1549.52 1968.83 1549.52 Q1966.66 1549.52 1964.39 1549.15 Q1962.14 1548.78 1959.74 1548.04 L1959.74 1543.34 Q1961.82 1544.47 1964.04 1545.03 Q1966.26 1545.58 1968.74 1545.58 Q1972.75 1545.58 1975.08 1543.48 Q1977.42 1541.37 1977.42 1537.76 Q1977.42 1534.15 1975.08 1532.04 Q1972.75 1529.94 1968.74 1529.94 Q1966.87 1529.94 1964.99 1530.35 Q1963.14 1530.77 1961.2 1531.65 L1961.2 1514.29 Z\" fill=\"#000000\" fill-rule=\"nonzero\" fill-opacity=\"1\" /><polyline clip-path=\"url(#clip262)\" style=\"stroke:#000000; stroke-linecap:round; stroke-linejoin:round; stroke-width:2; stroke-opacity:0.1; fill:none\" points=\"170.857,1445.72 2352.76,1445.72 \"/>\n",
       "<polyline clip-path=\"url(#clip262)\" style=\"stroke:#000000; stroke-linecap:round; stroke-linejoin:round; stroke-width:2; stroke-opacity:0.1; fill:none\" points=\"170.857,1069.61 2352.76,1069.61 \"/>\n",
       "<polyline clip-path=\"url(#clip262)\" style=\"stroke:#000000; stroke-linecap:round; stroke-linejoin:round; stroke-width:2; stroke-opacity:0.1; fill:none\" points=\"170.857,693.505 2352.76,693.505 \"/>\n",
       "<polyline clip-path=\"url(#clip262)\" style=\"stroke:#000000; stroke-linecap:round; stroke-linejoin:round; stroke-width:2; stroke-opacity:0.1; fill:none\" points=\"170.857,317.4 2352.76,317.4 \"/>\n",
       "<polyline clip-path=\"url(#clip260)\" style=\"stroke:#000000; stroke-linecap:round; stroke-linejoin:round; stroke-width:4; stroke-opacity:1; fill:none\" points=\"170.857,1486.45 170.857,47.2441 \"/>\n",
       "<polyline clip-path=\"url(#clip260)\" style=\"stroke:#000000; stroke-linecap:round; stroke-linejoin:round; stroke-width:4; stroke-opacity:1; fill:none\" points=\"170.857,1445.72 189.755,1445.72 \"/>\n",
       "<polyline clip-path=\"url(#clip260)\" style=\"stroke:#000000; stroke-linecap:round; stroke-linejoin:round; stroke-width:4; stroke-opacity:1; fill:none\" points=\"170.857,1069.61 189.755,1069.61 \"/>\n",
       "<polyline clip-path=\"url(#clip260)\" style=\"stroke:#000000; stroke-linecap:round; stroke-linejoin:round; stroke-width:4; stroke-opacity:1; fill:none\" points=\"170.857,693.505 189.755,693.505 \"/>\n",
       "<polyline clip-path=\"url(#clip260)\" style=\"stroke:#000000; stroke-linecap:round; stroke-linejoin:round; stroke-width:4; stroke-opacity:1; fill:none\" points=\"170.857,317.4 189.755,317.4 \"/>\n",
       "<path clip-path=\"url(#clip260)\" d=\"M122.913 1431.51 Q119.302 1431.51 117.473 1435.08 Q115.668 1438.62 115.668 1445.75 Q115.668 1452.86 117.473 1456.42 Q119.302 1459.96 122.913 1459.96 Q126.547 1459.96 128.353 1456.42 Q130.182 1452.86 130.182 1445.75 Q130.182 1438.62 128.353 1435.08 Q126.547 1431.51 122.913 1431.51 M122.913 1427.81 Q128.723 1427.81 131.779 1432.42 Q134.857 1437 134.857 1445.75 Q134.857 1454.48 131.779 1459.08 Q128.723 1463.67 122.913 1463.67 Q117.103 1463.67 114.024 1459.08 Q110.969 1454.48 110.969 1445.75 Q110.969 1437 114.024 1432.42 Q117.103 1427.81 122.913 1427.81 Z\" fill=\"#000000\" fill-rule=\"nonzero\" fill-opacity=\"1\" /><path clip-path=\"url(#clip260)\" d=\"M53.3995 1082.96 L61.0384 1082.96 L61.0384 1056.59 L52.7282 1058.26 L52.7282 1054 L60.9921 1052.33 L65.668 1052.33 L65.668 1082.96 L73.3068 1082.96 L73.3068 1086.89 L53.3995 1086.89 L53.3995 1082.96 Z\" fill=\"#000000\" fill-rule=\"nonzero\" fill-opacity=\"1\" /><path clip-path=\"url(#clip260)\" d=\"M92.7512 1055.41 Q89.1401 1055.41 87.3114 1058.97 Q85.5058 1062.52 85.5058 1069.65 Q85.5058 1076.75 87.3114 1080.32 Q89.1401 1083.86 92.7512 1083.86 Q96.3854 1083.86 98.1909 1080.32 Q100.02 1076.75 100.02 1069.65 Q100.02 1062.52 98.1909 1058.97 Q96.3854 1055.41 92.7512 1055.41 M92.7512 1051.71 Q98.5613 1051.71 101.617 1056.31 Q104.696 1060.9 104.696 1069.65 Q104.696 1078.37 101.617 1082.98 Q98.5613 1087.56 92.7512 1087.56 Q86.941 1087.56 83.8623 1082.98 Q80.8068 1078.37 80.8068 1069.65 Q80.8068 1060.9 83.8623 1056.31 Q86.941 1051.71 92.7512 1051.71 Z\" fill=\"#000000\" fill-rule=\"nonzero\" fill-opacity=\"1\" /><path clip-path=\"url(#clip260)\" d=\"M122.913 1055.41 Q119.302 1055.41 117.473 1058.97 Q115.668 1062.52 115.668 1069.65 Q115.668 1076.75 117.473 1080.32 Q119.302 1083.86 122.913 1083.86 Q126.547 1083.86 128.353 1080.32 Q130.182 1076.75 130.182 1069.65 Q130.182 1062.52 128.353 1058.97 Q126.547 1055.41 122.913 1055.41 M122.913 1051.71 Q128.723 1051.71 131.779 1056.31 Q134.857 1060.9 134.857 1069.65 Q134.857 1078.37 131.779 1082.98 Q128.723 1087.56 122.913 1087.56 Q117.103 1087.56 114.024 1082.98 Q110.969 1078.37 110.969 1069.65 Q110.969 1060.9 114.024 1056.31 Q117.103 1051.71 122.913 1051.71 Z\" fill=\"#000000\" fill-rule=\"nonzero\" fill-opacity=\"1\" /><path clip-path=\"url(#clip260)\" d=\"M56.6171 706.85 L72.9365 706.85 L72.9365 710.785 L50.9921 710.785 L50.9921 706.85 Q53.6541 704.096 58.2375 699.466 Q62.8439 694.813 64.0245 693.471 Q66.2698 690.948 67.1494 689.212 Q68.0522 687.452 68.0522 685.762 Q68.0522 683.008 66.1078 681.272 Q64.1865 679.536 61.0847 679.536 Q58.8856 679.536 56.4319 680.3 Q54.0014 681.063 51.2236 682.614 L51.2236 677.892 Q54.0477 676.758 56.5014 676.179 Q58.955 675.6 60.9921 675.6 Q66.3624 675.6 69.5568 678.286 Q72.7513 680.971 72.7513 685.462 Q72.7513 687.591 71.9411 689.512 Q71.1541 691.411 69.0476 694.003 Q68.4689 694.674 65.367 697.892 Q62.2652 701.086 56.6171 706.85 Z\" fill=\"#000000\" fill-rule=\"nonzero\" fill-opacity=\"1\" /><path clip-path=\"url(#clip260)\" d=\"M92.7512 679.304 Q89.1401 679.304 87.3114 682.869 Q85.5058 686.411 85.5058 693.54 Q85.5058 700.647 87.3114 704.211 Q89.1401 707.753 92.7512 707.753 Q96.3854 707.753 98.1909 704.211 Q100.02 700.647 100.02 693.54 Q100.02 686.411 98.1909 682.869 Q96.3854 679.304 92.7512 679.304 M92.7512 675.6 Q98.5613 675.6 101.617 680.207 Q104.696 684.79 104.696 693.54 Q104.696 702.267 101.617 706.873 Q98.5613 711.457 92.7512 711.457 Q86.941 711.457 83.8623 706.873 Q80.8068 702.267 80.8068 693.54 Q80.8068 684.79 83.8623 680.207 Q86.941 675.6 92.7512 675.6 Z\" fill=\"#000000\" fill-rule=\"nonzero\" fill-opacity=\"1\" /><path clip-path=\"url(#clip260)\" d=\"M122.913 679.304 Q119.302 679.304 117.473 682.869 Q115.668 686.411 115.668 693.54 Q115.668 700.647 117.473 704.211 Q119.302 707.753 122.913 707.753 Q126.547 707.753 128.353 704.211 Q130.182 700.647 130.182 693.54 Q130.182 686.411 128.353 682.869 Q126.547 679.304 122.913 679.304 M122.913 675.6 Q128.723 675.6 131.779 680.207 Q134.857 684.79 134.857 693.54 Q134.857 702.267 131.779 706.873 Q128.723 711.457 122.913 711.457 Q117.103 711.457 114.024 706.873 Q110.969 702.267 110.969 693.54 Q110.969 684.79 114.024 680.207 Q117.103 675.6 122.913 675.6 Z\" fill=\"#000000\" fill-rule=\"nonzero\" fill-opacity=\"1\" /><path clip-path=\"url(#clip260)\" d=\"M66.7559 316.046 Q70.1124 316.764 71.9874 319.032 Q73.8855 321.301 73.8855 324.634 Q73.8855 329.75 70.367 332.551 Q66.8485 335.352 60.3671 335.352 Q58.1912 335.352 55.8764 334.912 Q53.5847 334.495 51.131 333.639 L51.131 329.125 Q53.0754 330.259 55.3903 330.838 Q57.7051 331.417 60.2282 331.417 Q64.6263 331.417 66.918 329.68 Q69.2328 327.944 69.2328 324.634 Q69.2328 321.579 67.08 319.866 Q64.9504 318.13 61.131 318.13 L57.1032 318.13 L57.1032 314.287 L61.3161 314.287 Q64.7652 314.287 66.5939 312.921 Q68.4226 311.532 68.4226 308.94 Q68.4226 306.278 66.5245 304.866 Q64.6495 303.431 61.131 303.431 Q59.2097 303.431 57.0106 303.847 Q54.8115 304.264 52.1727 305.144 L52.1727 300.977 Q54.8347 300.236 57.1495 299.866 Q59.4875 299.495 61.5476 299.495 Q66.8717 299.495 69.9735 301.926 Q73.0753 304.333 73.0753 308.454 Q73.0753 311.324 71.4318 313.315 Q69.7883 315.282 66.7559 316.046 Z\" fill=\"#000000\" fill-rule=\"nonzero\" fill-opacity=\"1\" /><path clip-path=\"url(#clip260)\" d=\"M92.7512 303.199 Q89.1401 303.199 87.3114 306.764 Q85.5058 310.306 85.5058 317.435 Q85.5058 324.542 87.3114 328.106 Q89.1401 331.648 92.7512 331.648 Q96.3854 331.648 98.1909 328.106 Q100.02 324.542 100.02 317.435 Q100.02 310.306 98.1909 306.764 Q96.3854 303.199 92.7512 303.199 M92.7512 299.495 Q98.5613 299.495 101.617 304.102 Q104.696 308.685 104.696 317.435 Q104.696 326.162 101.617 330.768 Q98.5613 335.352 92.7512 335.352 Q86.941 335.352 83.8623 330.768 Q80.8068 326.162 80.8068 317.435 Q80.8068 308.685 83.8623 304.102 Q86.941 299.495 92.7512 299.495 Z\" fill=\"#000000\" fill-rule=\"nonzero\" fill-opacity=\"1\" /><path clip-path=\"url(#clip260)\" d=\"M122.913 303.199 Q119.302 303.199 117.473 306.764 Q115.668 310.306 115.668 317.435 Q115.668 324.542 117.473 328.106 Q119.302 331.648 122.913 331.648 Q126.547 331.648 128.353 328.106 Q130.182 324.542 130.182 317.435 Q130.182 310.306 128.353 306.764 Q126.547 303.199 122.913 303.199 M122.913 299.495 Q128.723 299.495 131.779 304.102 Q134.857 308.685 134.857 317.435 Q134.857 326.162 131.779 330.768 Q128.723 335.352 122.913 335.352 Q117.103 335.352 114.024 330.768 Q110.969 326.162 110.969 317.435 Q110.969 308.685 114.024 304.102 Q117.103 299.495 122.913 299.495 Z\" fill=\"#000000\" fill-rule=\"nonzero\" fill-opacity=\"1\" /><path clip-path=\"url(#clip262)\" d=\"M290.866 1434.43 L290.866 1445.72 L340.658 1445.72 L340.658 1434.43 L290.866 1434.43 L290.866 1434.43  Z\" fill=\"#009af9\" fill-rule=\"evenodd\" fill-opacity=\"1\"/>\n",
       "<polyline clip-path=\"url(#clip262)\" style=\"stroke:#000000; stroke-linecap:round; stroke-linejoin:round; stroke-width:4; stroke-opacity:1; fill:none\" points=\"290.866,1434.43 290.866,1445.72 340.658,1445.72 340.658,1434.43 290.866,1434.43 \"/>\n",
       "<path clip-path=\"url(#clip262)\" d=\"M340.658 1438.19 L340.658 1445.72 L390.449 1445.72 L390.449 1438.19 L340.658 1438.19 L340.658 1438.19  Z\" fill=\"#009af9\" fill-rule=\"evenodd\" fill-opacity=\"1\"/>\n",
       "<polyline clip-path=\"url(#clip262)\" style=\"stroke:#000000; stroke-linecap:round; stroke-linejoin:round; stroke-width:4; stroke-opacity:1; fill:none\" points=\"340.658,1438.19 340.658,1445.72 390.449,1445.72 390.449,1438.19 340.658,1438.19 \"/>\n",
       "<path clip-path=\"url(#clip262)\" d=\"M390.449 1408.11 L390.449 1445.72 L440.241 1445.72 L440.241 1408.11 L390.449 1408.11 L390.449 1408.11  Z\" fill=\"#009af9\" fill-rule=\"evenodd\" fill-opacity=\"1\"/>\n",
       "<polyline clip-path=\"url(#clip262)\" style=\"stroke:#000000; stroke-linecap:round; stroke-linejoin:round; stroke-width:4; stroke-opacity:1; fill:none\" points=\"390.449,1408.11 390.449,1445.72 440.241,1445.72 440.241,1408.11 390.449,1408.11 \"/>\n",
       "<path clip-path=\"url(#clip262)\" d=\"M440.241 1396.82 L440.241 1445.72 L490.033 1445.72 L490.033 1396.82 L440.241 1396.82 L440.241 1396.82  Z\" fill=\"#009af9\" fill-rule=\"evenodd\" fill-opacity=\"1\"/>\n",
       "<polyline clip-path=\"url(#clip262)\" style=\"stroke:#000000; stroke-linecap:round; stroke-linejoin:round; stroke-width:4; stroke-opacity:1; fill:none\" points=\"440.241,1396.82 440.241,1445.72 490.033,1445.72 490.033,1396.82 440.241,1396.82 \"/>\n",
       "<path clip-path=\"url(#clip262)\" d=\"M490.033 1359.21 L490.033 1445.72 L539.825 1445.72 L539.825 1359.21 L490.033 1359.21 L490.033 1359.21  Z\" fill=\"#009af9\" fill-rule=\"evenodd\" fill-opacity=\"1\"/>\n",
       "<polyline clip-path=\"url(#clip262)\" style=\"stroke:#000000; stroke-linecap:round; stroke-linejoin:round; stroke-width:4; stroke-opacity:1; fill:none\" points=\"490.033,1359.21 490.033,1445.72 539.825,1445.72 539.825,1359.21 490.033,1359.21 \"/>\n",
       "<path clip-path=\"url(#clip262)\" d=\"M539.825 1325.36 L539.825 1445.72 L589.617 1445.72 L589.617 1325.36 L539.825 1325.36 L539.825 1325.36  Z\" fill=\"#009af9\" fill-rule=\"evenodd\" fill-opacity=\"1\"/>\n",
       "<polyline clip-path=\"url(#clip262)\" style=\"stroke:#000000; stroke-linecap:round; stroke-linejoin:round; stroke-width:4; stroke-opacity:1; fill:none\" points=\"539.825,1325.36 539.825,1445.72 589.617,1445.72 589.617,1325.36 539.825,1325.36 \"/>\n",
       "<path clip-path=\"url(#clip262)\" d=\"M589.617 1321.6 L589.617 1445.72 L639.409 1445.72 L639.409 1321.6 L589.617 1321.6 L589.617 1321.6  Z\" fill=\"#009af9\" fill-rule=\"evenodd\" fill-opacity=\"1\"/>\n",
       "<polyline clip-path=\"url(#clip262)\" style=\"stroke:#000000; stroke-linecap:round; stroke-linejoin:round; stroke-width:4; stroke-opacity:1; fill:none\" points=\"589.617,1321.6 589.617,1445.72 639.409,1445.72 639.409,1321.6 589.617,1321.6 \"/>\n",
       "<path clip-path=\"url(#clip262)\" d=\"M639.409 1178.68 L639.409 1445.72 L689.2 1445.72 L689.2 1178.68 L639.409 1178.68 L639.409 1178.68  Z\" fill=\"#009af9\" fill-rule=\"evenodd\" fill-opacity=\"1\"/>\n",
       "<polyline clip-path=\"url(#clip262)\" style=\"stroke:#000000; stroke-linecap:round; stroke-linejoin:round; stroke-width:4; stroke-opacity:1; fill:none\" points=\"639.409,1178.68 639.409,1445.72 689.2,1445.72 689.2,1178.68 639.409,1178.68 \"/>\n",
       "<path clip-path=\"url(#clip262)\" d=\"M689.2 1084.65 L689.2 1445.72 L738.992 1445.72 L738.992 1084.65 L689.2 1084.65 L689.2 1084.65  Z\" fill=\"#009af9\" fill-rule=\"evenodd\" fill-opacity=\"1\"/>\n",
       "<polyline clip-path=\"url(#clip262)\" style=\"stroke:#000000; stroke-linecap:round; stroke-linejoin:round; stroke-width:4; stroke-opacity:1; fill:none\" points=\"689.2,1084.65 689.2,1445.72 738.992,1445.72 738.992,1084.65 689.2,1084.65 \"/>\n",
       "<path clip-path=\"url(#clip262)\" d=\"M738.992 956.779 L738.992 1445.72 L788.784 1445.72 L788.784 956.779 L738.992 956.779 L738.992 956.779  Z\" fill=\"#009af9\" fill-rule=\"evenodd\" fill-opacity=\"1\"/>\n",
       "<polyline clip-path=\"url(#clip262)\" style=\"stroke:#000000; stroke-linecap:round; stroke-linejoin:round; stroke-width:4; stroke-opacity:1; fill:none\" points=\"738.992,956.779 738.992,1445.72 788.784,1445.72 788.784,956.779 738.992,956.779 \"/>\n",
       "<path clip-path=\"url(#clip262)\" d=\"M788.784 768.727 L788.784 1445.72 L838.576 1445.72 L838.576 768.727 L788.784 768.727 L788.784 768.727  Z\" fill=\"#009af9\" fill-rule=\"evenodd\" fill-opacity=\"1\"/>\n",
       "<polyline clip-path=\"url(#clip262)\" style=\"stroke:#000000; stroke-linecap:round; stroke-linejoin:round; stroke-width:4; stroke-opacity:1; fill:none\" points=\"788.784,768.727 788.784,1445.72 838.576,1445.72 838.576,768.727 788.784,768.727 \"/>\n",
       "<path clip-path=\"url(#clip262)\" d=\"M838.576 712.311 L838.576 1445.72 L888.368 1445.72 L888.368 712.311 L838.576 712.311 L838.576 712.311  Z\" fill=\"#009af9\" fill-rule=\"evenodd\" fill-opacity=\"1\"/>\n",
       "<polyline clip-path=\"url(#clip262)\" style=\"stroke:#000000; stroke-linecap:round; stroke-linejoin:round; stroke-width:4; stroke-opacity:1; fill:none\" points=\"838.576,712.311 838.576,1445.72 888.368,1445.72 888.368,712.311 838.576,712.311 \"/>\n",
       "<path clip-path=\"url(#clip262)\" d=\"M888.368 550.586 L888.368 1445.72 L938.16 1445.72 L938.16 550.586 L888.368 550.586 L888.368 550.586  Z\" fill=\"#009af9\" fill-rule=\"evenodd\" fill-opacity=\"1\"/>\n",
       "<polyline clip-path=\"url(#clip262)\" style=\"stroke:#000000; stroke-linecap:round; stroke-linejoin:round; stroke-width:4; stroke-opacity:1; fill:none\" points=\"888.368,550.586 888.368,1445.72 938.16,1445.72 938.16,550.586 888.368,550.586 \"/>\n",
       "<path clip-path=\"url(#clip262)\" d=\"M938.16 355.011 L938.16 1445.72 L987.952 1445.72 L987.952 355.011 L938.16 355.011 L938.16 355.011  Z\" fill=\"#009af9\" fill-rule=\"evenodd\" fill-opacity=\"1\"/>\n",
       "<polyline clip-path=\"url(#clip262)\" style=\"stroke:#000000; stroke-linecap:round; stroke-linejoin:round; stroke-width:4; stroke-opacity:1; fill:none\" points=\"938.16,355.011 938.16,1445.72 987.952,1445.72 987.952,355.011 938.16,355.011 \"/>\n",
       "<path clip-path=\"url(#clip262)\" d=\"M987.952 332.445 L987.952 1445.72 L1037.74 1445.72 L1037.74 332.445 L987.952 332.445 L987.952 332.445  Z\" fill=\"#009af9\" fill-rule=\"evenodd\" fill-opacity=\"1\"/>\n",
       "<polyline clip-path=\"url(#clip262)\" style=\"stroke:#000000; stroke-linecap:round; stroke-linejoin:round; stroke-width:4; stroke-opacity:1; fill:none\" points=\"987.952,332.445 987.952,1445.72 1037.74,1445.72 1037.74,332.445 987.952,332.445 \"/>\n",
       "<path clip-path=\"url(#clip262)\" d=\"M1037.74 189.525 L1037.74 1445.72 L1087.54 1445.72 L1087.54 189.525 L1037.74 189.525 L1037.74 189.525  Z\" fill=\"#009af9\" fill-rule=\"evenodd\" fill-opacity=\"1\"/>\n",
       "<polyline clip-path=\"url(#clip262)\" style=\"stroke:#000000; stroke-linecap:round; stroke-linejoin:round; stroke-width:4; stroke-opacity:1; fill:none\" points=\"1037.74,189.525 1037.74,1445.72 1087.54,1445.72 1087.54,189.525 1037.74,189.525 \"/>\n",
       "<path clip-path=\"url(#clip262)\" d=\"M1087.54 87.9763 L1087.54 1445.72 L1137.33 1445.72 L1137.33 87.9763 L1087.54 87.9763 L1087.54 87.9763  Z\" fill=\"#009af9\" fill-rule=\"evenodd\" fill-opacity=\"1\"/>\n",
       "<polyline clip-path=\"url(#clip262)\" style=\"stroke:#000000; stroke-linecap:round; stroke-linejoin:round; stroke-width:4; stroke-opacity:1; fill:none\" points=\"1087.54,87.9763 1087.54,1445.72 1137.33,1445.72 1137.33,87.9763 1087.54,87.9763 \"/>\n",
       "<path clip-path=\"url(#clip262)\" d=\"M1137.33 163.197 L1137.33 1445.72 L1187.12 1445.72 L1187.12 163.197 L1137.33 163.197 L1137.33 163.197  Z\" fill=\"#009af9\" fill-rule=\"evenodd\" fill-opacity=\"1\"/>\n",
       "<polyline clip-path=\"url(#clip262)\" style=\"stroke:#000000; stroke-linecap:round; stroke-linejoin:round; stroke-width:4; stroke-opacity:1; fill:none\" points=\"1137.33,163.197 1137.33,1445.72 1187.12,1445.72 1187.12,163.197 1137.33,163.197 \"/>\n",
       "<path clip-path=\"url(#clip262)\" d=\"M1187.12 151.914 L1187.12 1445.72 L1236.91 1445.72 L1236.91 151.914 L1187.12 151.914 L1187.12 151.914  Z\" fill=\"#009af9\" fill-rule=\"evenodd\" fill-opacity=\"1\"/>\n",
       "<polyline clip-path=\"url(#clip262)\" style=\"stroke:#000000; stroke-linecap:round; stroke-linejoin:round; stroke-width:4; stroke-opacity:1; fill:none\" points=\"1187.12,151.914 1187.12,1445.72 1236.91,1445.72 1236.91,151.914 1187.12,151.914 \"/>\n",
       "<path clip-path=\"url(#clip262)\" d=\"M1236.91 166.958 L1236.91 1445.72 L1286.7 1445.72 L1286.7 166.958 L1236.91 166.958 L1236.91 166.958  Z\" fill=\"#009af9\" fill-rule=\"evenodd\" fill-opacity=\"1\"/>\n",
       "<polyline clip-path=\"url(#clip262)\" style=\"stroke:#000000; stroke-linecap:round; stroke-linejoin:round; stroke-width:4; stroke-opacity:1; fill:none\" points=\"1236.91,166.958 1236.91,1445.72 1286.7,1445.72 1286.7,166.958 1236.91,166.958 \"/>\n",
       "<path clip-path=\"url(#clip262)\" d=\"M1286.7 343.728 L1286.7 1445.72 L1336.49 1445.72 L1336.49 343.728 L1286.7 343.728 L1286.7 343.728  Z\" fill=\"#009af9\" fill-rule=\"evenodd\" fill-opacity=\"1\"/>\n",
       "<polyline clip-path=\"url(#clip262)\" style=\"stroke:#000000; stroke-linecap:round; stroke-linejoin:round; stroke-width:4; stroke-opacity:1; fill:none\" points=\"1286.7,343.728 1286.7,1445.72 1336.49,1445.72 1336.49,343.728 1286.7,343.728 \"/>\n",
       "<path clip-path=\"url(#clip262)\" d=\"M1336.49 403.905 L1336.49 1445.72 L1386.29 1445.72 L1386.29 403.905 L1336.49 403.905 L1336.49 403.905  Z\" fill=\"#009af9\" fill-rule=\"evenodd\" fill-opacity=\"1\"/>\n",
       "<polyline clip-path=\"url(#clip262)\" style=\"stroke:#000000; stroke-linecap:round; stroke-linejoin:round; stroke-width:4; stroke-opacity:1; fill:none\" points=\"1336.49,403.905 1336.49,1445.72 1386.29,1445.72 1386.29,403.905 1336.49,403.905 \"/>\n",
       "<path clip-path=\"url(#clip262)\" d=\"M1386.29 486.648 L1386.29 1445.72 L1436.08 1445.72 L1436.08 486.648 L1386.29 486.648 L1386.29 486.648  Z\" fill=\"#009af9\" fill-rule=\"evenodd\" fill-opacity=\"1\"/>\n",
       "<polyline clip-path=\"url(#clip262)\" style=\"stroke:#000000; stroke-linecap:round; stroke-linejoin:round; stroke-width:4; stroke-opacity:1; fill:none\" points=\"1386.29,486.648 1386.29,1445.72 1436.08,1445.72 1436.08,486.648 1386.29,486.648 \"/>\n",
       "<path clip-path=\"url(#clip262)\" d=\"M1436.08 663.417 L1436.08 1445.72 L1485.87 1445.72 L1485.87 663.417 L1436.08 663.417 L1436.08 663.417  Z\" fill=\"#009af9\" fill-rule=\"evenodd\" fill-opacity=\"1\"/>\n",
       "<polyline clip-path=\"url(#clip262)\" style=\"stroke:#000000; stroke-linecap:round; stroke-linejoin:round; stroke-width:4; stroke-opacity:1; fill:none\" points=\"1436.08,663.417 1436.08,1445.72 1485.87,1445.72 1485.87,663.417 1436.08,663.417 \"/>\n",
       "<path clip-path=\"url(#clip262)\" d=\"M1485.87 858.992 L1485.87 1445.72 L1535.66 1445.72 L1535.66 858.992 L1485.87 858.992 L1485.87 858.992  Z\" fill=\"#009af9\" fill-rule=\"evenodd\" fill-opacity=\"1\"/>\n",
       "<polyline clip-path=\"url(#clip262)\" style=\"stroke:#000000; stroke-linecap:round; stroke-linejoin:round; stroke-width:4; stroke-opacity:1; fill:none\" points=\"1485.87,858.992 1485.87,1445.72 1535.66,1445.72 1535.66,858.992 1485.87,858.992 \"/>\n",
       "<path clip-path=\"url(#clip262)\" d=\"M1535.66 1009.43 L1535.66 1445.72 L1585.45 1445.72 L1585.45 1009.43 L1535.66 1009.43 L1535.66 1009.43  Z\" fill=\"#009af9\" fill-rule=\"evenodd\" fill-opacity=\"1\"/>\n",
       "<polyline clip-path=\"url(#clip262)\" style=\"stroke:#000000; stroke-linecap:round; stroke-linejoin:round; stroke-width:4; stroke-opacity:1; fill:none\" points=\"1535.66,1009.43 1535.66,1445.72 1585.45,1445.72 1585.45,1009.43 1535.66,1009.43 \"/>\n",
       "<path clip-path=\"url(#clip262)\" d=\"M1585.45 1039.52 L1585.45 1445.72 L1635.25 1445.72 L1635.25 1039.52 L1585.45 1039.52 L1585.45 1039.52  Z\" fill=\"#009af9\" fill-rule=\"evenodd\" fill-opacity=\"1\"/>\n",
       "<polyline clip-path=\"url(#clip262)\" style=\"stroke:#000000; stroke-linecap:round; stroke-linejoin:round; stroke-width:4; stroke-opacity:1; fill:none\" points=\"1585.45,1039.52 1585.45,1445.72 1635.25,1445.72 1635.25,1039.52 1585.45,1039.52 \"/>\n",
       "<path clip-path=\"url(#clip262)\" d=\"M1635.25 1178.68 L1635.25 1445.72 L1685.04 1445.72 L1685.04 1178.68 L1635.25 1178.68 L1635.25 1178.68  Z\" fill=\"#009af9\" fill-rule=\"evenodd\" fill-opacity=\"1\"/>\n",
       "<polyline clip-path=\"url(#clip262)\" style=\"stroke:#000000; stroke-linecap:round; stroke-linejoin:round; stroke-width:4; stroke-opacity:1; fill:none\" points=\"1635.25,1178.68 1635.25,1445.72 1685.04,1445.72 1685.04,1178.68 1635.25,1178.68 \"/>\n",
       "<path clip-path=\"url(#clip262)\" d=\"M1685.04 1208.77 L1685.04 1445.72 L1734.83 1445.72 L1734.83 1208.77 L1685.04 1208.77 L1685.04 1208.77  Z\" fill=\"#009af9\" fill-rule=\"evenodd\" fill-opacity=\"1\"/>\n",
       "<polyline clip-path=\"url(#clip262)\" style=\"stroke:#000000; stroke-linecap:round; stroke-linejoin:round; stroke-width:4; stroke-opacity:1; fill:none\" points=\"1685.04,1208.77 1685.04,1445.72 1734.83,1445.72 1734.83,1208.77 1685.04,1208.77 \"/>\n",
       "<path clip-path=\"url(#clip262)\" d=\"M1734.83 1268.95 L1734.83 1445.72 L1784.62 1445.72 L1784.62 1268.95 L1734.83 1268.95 L1734.83 1268.95  Z\" fill=\"#009af9\" fill-rule=\"evenodd\" fill-opacity=\"1\"/>\n",
       "<polyline clip-path=\"url(#clip262)\" style=\"stroke:#000000; stroke-linecap:round; stroke-linejoin:round; stroke-width:4; stroke-opacity:1; fill:none\" points=\"1734.83,1268.95 1734.83,1445.72 1784.62,1445.72 1784.62,1268.95 1734.83,1268.95 \"/>\n",
       "<path clip-path=\"url(#clip262)\" d=\"M1784.62 1355.45 L1784.62 1445.72 L1834.41 1445.72 L1834.41 1355.45 L1784.62 1355.45 L1784.62 1355.45  Z\" fill=\"#009af9\" fill-rule=\"evenodd\" fill-opacity=\"1\"/>\n",
       "<polyline clip-path=\"url(#clip262)\" style=\"stroke:#000000; stroke-linecap:round; stroke-linejoin:round; stroke-width:4; stroke-opacity:1; fill:none\" points=\"1784.62,1355.45 1784.62,1445.72 1834.41,1445.72 1834.41,1355.45 1784.62,1355.45 \"/>\n",
       "<path clip-path=\"url(#clip262)\" d=\"M1834.41 1370.49 L1834.41 1445.72 L1884.2 1445.72 L1884.2 1370.49 L1834.41 1370.49 L1834.41 1370.49  Z\" fill=\"#009af9\" fill-rule=\"evenodd\" fill-opacity=\"1\"/>\n",
       "<polyline clip-path=\"url(#clip262)\" style=\"stroke:#000000; stroke-linecap:round; stroke-linejoin:round; stroke-width:4; stroke-opacity:1; fill:none\" points=\"1834.41,1370.49 1834.41,1445.72 1884.2,1445.72 1884.2,1370.49 1834.41,1370.49 \"/>\n",
       "<path clip-path=\"url(#clip262)\" d=\"M1884.2 1400.58 L1884.2 1445.72 L1934 1445.72 L1934 1400.58 L1884.2 1400.58 L1884.2 1400.58  Z\" fill=\"#009af9\" fill-rule=\"evenodd\" fill-opacity=\"1\"/>\n",
       "<polyline clip-path=\"url(#clip262)\" style=\"stroke:#000000; stroke-linecap:round; stroke-linejoin:round; stroke-width:4; stroke-opacity:1; fill:none\" points=\"1884.2,1400.58 1884.2,1445.72 1934,1445.72 1934,1400.58 1884.2,1400.58 \"/>\n",
       "<path clip-path=\"url(#clip262)\" d=\"M1934 1411.87 L1934 1445.72 L1983.79 1445.72 L1983.79 1411.87 L1934 1411.87 L1934 1411.87  Z\" fill=\"#009af9\" fill-rule=\"evenodd\" fill-opacity=\"1\"/>\n",
       "<polyline clip-path=\"url(#clip262)\" style=\"stroke:#000000; stroke-linecap:round; stroke-linejoin:round; stroke-width:4; stroke-opacity:1; fill:none\" points=\"1934,1411.87 1934,1445.72 1983.79,1445.72 1983.79,1411.87 1934,1411.87 \"/>\n",
       "<path clip-path=\"url(#clip262)\" d=\"M1983.79 1434.43 L1983.79 1445.72 L2033.58 1445.72 L2033.58 1434.43 L1983.79 1434.43 L1983.79 1434.43  Z\" fill=\"#009af9\" fill-rule=\"evenodd\" fill-opacity=\"1\"/>\n",
       "<polyline clip-path=\"url(#clip262)\" style=\"stroke:#000000; stroke-linecap:round; stroke-linejoin:round; stroke-width:4; stroke-opacity:1; fill:none\" points=\"1983.79,1434.43 1983.79,1445.72 2033.58,1445.72 2033.58,1434.43 1983.79,1434.43 \"/>\n",
       "<path clip-path=\"url(#clip262)\" d=\"M2033.58 1434.43 L2033.58 1445.72 L2083.37 1445.72 L2083.37 1434.43 L2033.58 1434.43 L2033.58 1434.43  Z\" fill=\"#009af9\" fill-rule=\"evenodd\" fill-opacity=\"1\"/>\n",
       "<polyline clip-path=\"url(#clip262)\" style=\"stroke:#000000; stroke-linecap:round; stroke-linejoin:round; stroke-width:4; stroke-opacity:1; fill:none\" points=\"2033.58,1434.43 2033.58,1445.72 2083.37,1445.72 2083.37,1434.43 2033.58,1434.43 \"/>\n",
       "<path clip-path=\"url(#clip262)\" d=\"M2083.37 1445.72 L2083.37 1445.72 L2133.16 1445.72 L2133.16 1445.72 L2083.37 1445.72 L2083.37 1445.72  Z\" fill=\"#009af9\" fill-rule=\"evenodd\" fill-opacity=\"1\"/>\n",
       "<polyline clip-path=\"url(#clip262)\" style=\"stroke:#000000; stroke-linecap:round; stroke-linejoin:round; stroke-width:4; stroke-opacity:1; fill:none\" points=\"2083.37,1445.72 2083.37,1445.72 2133.16,1445.72 2083.37,1445.72 \"/>\n",
       "<path clip-path=\"url(#clip262)\" d=\"M2133.16 1438.19 L2133.16 1445.72 L2182.96 1445.72 L2182.96 1438.19 L2133.16 1438.19 L2133.16 1438.19  Z\" fill=\"#009af9\" fill-rule=\"evenodd\" fill-opacity=\"1\"/>\n",
       "<polyline clip-path=\"url(#clip262)\" style=\"stroke:#000000; stroke-linecap:round; stroke-linejoin:round; stroke-width:4; stroke-opacity:1; fill:none\" points=\"2133.16,1438.19 2133.16,1445.72 2182.96,1445.72 2182.96,1438.19 2133.16,1438.19 \"/>\n",
       "<path clip-path=\"url(#clip262)\" d=\"M2182.96 1441.95 L2182.96 1445.72 L2232.75 1445.72 L2232.75 1441.95 L2182.96 1441.95 L2182.96 1441.95  Z\" fill=\"#009af9\" fill-rule=\"evenodd\" fill-opacity=\"1\"/>\n",
       "<polyline clip-path=\"url(#clip262)\" style=\"stroke:#000000; stroke-linecap:round; stroke-linejoin:round; stroke-width:4; stroke-opacity:1; fill:none\" points=\"2182.96,1441.95 2182.96,1445.72 2232.75,1445.72 2232.75,1441.95 2182.96,1441.95 \"/>\n",
       "<circle clip-path=\"url(#clip262)\" style=\"fill:#009af9; stroke:none; fill-opacity:0\" cx=\"315.762\" cy=\"1434.43\" r=\"2\"/>\n",
       "<circle clip-path=\"url(#clip262)\" style=\"fill:#009af9; stroke:none; fill-opacity:0\" cx=\"365.553\" cy=\"1438.19\" r=\"2\"/>\n",
       "<circle clip-path=\"url(#clip262)\" style=\"fill:#009af9; stroke:none; fill-opacity:0\" cx=\"415.345\" cy=\"1408.11\" r=\"2\"/>\n",
       "<circle clip-path=\"url(#clip262)\" style=\"fill:#009af9; stroke:none; fill-opacity:0\" cx=\"465.137\" cy=\"1396.82\" r=\"2\"/>\n",
       "<circle clip-path=\"url(#clip262)\" style=\"fill:#009af9; stroke:none; fill-opacity:0\" cx=\"514.929\" cy=\"1359.21\" r=\"2\"/>\n",
       "<circle clip-path=\"url(#clip262)\" style=\"fill:#009af9; stroke:none; fill-opacity:0\" cx=\"564.721\" cy=\"1325.36\" r=\"2\"/>\n",
       "<circle clip-path=\"url(#clip262)\" style=\"fill:#009af9; stroke:none; fill-opacity:0\" cx=\"614.513\" cy=\"1321.6\" r=\"2\"/>\n",
       "<circle clip-path=\"url(#clip262)\" style=\"fill:#009af9; stroke:none; fill-opacity:0\" cx=\"664.305\" cy=\"1178.68\" r=\"2\"/>\n",
       "<circle clip-path=\"url(#clip262)\" style=\"fill:#009af9; stroke:none; fill-opacity:0\" cx=\"714.096\" cy=\"1084.65\" r=\"2\"/>\n",
       "<circle clip-path=\"url(#clip262)\" style=\"fill:#009af9; stroke:none; fill-opacity:0\" cx=\"763.888\" cy=\"956.779\" r=\"2\"/>\n",
       "<circle clip-path=\"url(#clip262)\" style=\"fill:#009af9; stroke:none; fill-opacity:0\" cx=\"813.68\" cy=\"768.727\" r=\"2\"/>\n",
       "<circle clip-path=\"url(#clip262)\" style=\"fill:#009af9; stroke:none; fill-opacity:0\" cx=\"863.472\" cy=\"712.311\" r=\"2\"/>\n",
       "<circle clip-path=\"url(#clip262)\" style=\"fill:#009af9; stroke:none; fill-opacity:0\" cx=\"913.264\" cy=\"550.586\" r=\"2\"/>\n",
       "<circle clip-path=\"url(#clip262)\" style=\"fill:#009af9; stroke:none; fill-opacity:0\" cx=\"963.056\" cy=\"355.011\" r=\"2\"/>\n",
       "<circle clip-path=\"url(#clip262)\" style=\"fill:#009af9; stroke:none; fill-opacity:0\" cx=\"1012.85\" cy=\"332.445\" r=\"2\"/>\n",
       "<circle clip-path=\"url(#clip262)\" style=\"fill:#009af9; stroke:none; fill-opacity:0\" cx=\"1062.64\" cy=\"189.525\" r=\"2\"/>\n",
       "<circle clip-path=\"url(#clip262)\" style=\"fill:#009af9; stroke:none; fill-opacity:0\" cx=\"1112.43\" cy=\"87.9763\" r=\"2\"/>\n",
       "<circle clip-path=\"url(#clip262)\" style=\"fill:#009af9; stroke:none; fill-opacity:0\" cx=\"1162.22\" cy=\"163.197\" r=\"2\"/>\n",
       "<circle clip-path=\"url(#clip262)\" style=\"fill:#009af9; stroke:none; fill-opacity:0\" cx=\"1212.01\" cy=\"151.914\" r=\"2\"/>\n",
       "<circle clip-path=\"url(#clip262)\" style=\"fill:#009af9; stroke:none; fill-opacity:0\" cx=\"1261.81\" cy=\"166.958\" r=\"2\"/>\n",
       "<circle clip-path=\"url(#clip262)\" style=\"fill:#009af9; stroke:none; fill-opacity:0\" cx=\"1311.6\" cy=\"343.728\" r=\"2\"/>\n",
       "<circle clip-path=\"url(#clip262)\" style=\"fill:#009af9; stroke:none; fill-opacity:0\" cx=\"1361.39\" cy=\"403.905\" r=\"2\"/>\n",
       "<circle clip-path=\"url(#clip262)\" style=\"fill:#009af9; stroke:none; fill-opacity:0\" cx=\"1411.18\" cy=\"486.648\" r=\"2\"/>\n",
       "<circle clip-path=\"url(#clip262)\" style=\"fill:#009af9; stroke:none; fill-opacity:0\" cx=\"1460.97\" cy=\"663.417\" r=\"2\"/>\n",
       "<circle clip-path=\"url(#clip262)\" style=\"fill:#009af9; stroke:none; fill-opacity:0\" cx=\"1510.77\" cy=\"858.992\" r=\"2\"/>\n",
       "<circle clip-path=\"url(#clip262)\" style=\"fill:#009af9; stroke:none; fill-opacity:0\" cx=\"1560.56\" cy=\"1009.43\" r=\"2\"/>\n",
       "<circle clip-path=\"url(#clip262)\" style=\"fill:#009af9; stroke:none; fill-opacity:0\" cx=\"1610.35\" cy=\"1039.52\" r=\"2\"/>\n",
       "<circle clip-path=\"url(#clip262)\" style=\"fill:#009af9; stroke:none; fill-opacity:0\" cx=\"1660.14\" cy=\"1178.68\" r=\"2\"/>\n",
       "<circle clip-path=\"url(#clip262)\" style=\"fill:#009af9; stroke:none; fill-opacity:0\" cx=\"1709.93\" cy=\"1208.77\" r=\"2\"/>\n",
       "<circle clip-path=\"url(#clip262)\" style=\"fill:#009af9; stroke:none; fill-opacity:0\" cx=\"1759.73\" cy=\"1268.95\" r=\"2\"/>\n",
       "<circle clip-path=\"url(#clip262)\" style=\"fill:#009af9; stroke:none; fill-opacity:0\" cx=\"1809.52\" cy=\"1355.45\" r=\"2\"/>\n",
       "<circle clip-path=\"url(#clip262)\" style=\"fill:#009af9; stroke:none; fill-opacity:0\" cx=\"1859.31\" cy=\"1370.49\" r=\"2\"/>\n",
       "<circle clip-path=\"url(#clip262)\" style=\"fill:#009af9; stroke:none; fill-opacity:0\" cx=\"1909.1\" cy=\"1400.58\" r=\"2\"/>\n",
       "<circle clip-path=\"url(#clip262)\" style=\"fill:#009af9; stroke:none; fill-opacity:0\" cx=\"1958.89\" cy=\"1411.87\" r=\"2\"/>\n",
       "<circle clip-path=\"url(#clip262)\" style=\"fill:#009af9; stroke:none; fill-opacity:0\" cx=\"2008.68\" cy=\"1434.43\" r=\"2\"/>\n",
       "<circle clip-path=\"url(#clip262)\" style=\"fill:#009af9; stroke:none; fill-opacity:0\" cx=\"2058.48\" cy=\"1434.43\" r=\"2\"/>\n",
       "<circle clip-path=\"url(#clip262)\" style=\"fill:#009af9; stroke:none; fill-opacity:0\" cx=\"2108.27\" cy=\"1445.72\" r=\"2\"/>\n",
       "<circle clip-path=\"url(#clip262)\" style=\"fill:#009af9; stroke:none; fill-opacity:0\" cx=\"2158.06\" cy=\"1438.19\" r=\"2\"/>\n",
       "<circle clip-path=\"url(#clip262)\" style=\"fill:#009af9; stroke:none; fill-opacity:0\" cx=\"2207.85\" cy=\"1441.95\" r=\"2\"/>\n",
       "<path clip-path=\"url(#clip260)\" d=\"M2009.41 198.898 L2280.03 198.898 L2280.03 95.2176 L2009.41 95.2176  Z\" fill=\"#ffffff\" fill-rule=\"evenodd\" fill-opacity=\"1\"/>\n",
       "<polyline clip-path=\"url(#clip260)\" style=\"stroke:#000000; stroke-linecap:round; stroke-linejoin:round; stroke-width:4; stroke-opacity:1; fill:none\" points=\"2009.41,198.898 2280.03,198.898 2280.03,95.2176 2009.41,95.2176 2009.41,198.898 \"/>\n",
       "<path clip-path=\"url(#clip260)\" d=\"M2033.65 167.794 L2179.11 167.794 L2179.11 126.322 L2033.65 126.322 L2033.65 167.794  Z\" fill=\"#009af9\" fill-rule=\"evenodd\" fill-opacity=\"1\"/>\n",
       "<polyline clip-path=\"url(#clip260)\" style=\"stroke:#000000; stroke-linecap:round; stroke-linejoin:round; stroke-width:4; stroke-opacity:1; fill:none\" points=\"2033.65,167.794 2179.11,167.794 2179.11,126.322 2033.65,126.322 2033.65,167.794 \"/>\n",
       "<path clip-path=\"url(#clip260)\" d=\"M2217.19 166.745 Q2215.39 171.375 2213.68 172.787 Q2211.96 174.199 2209.09 174.199 L2205.69 174.199 L2205.69 170.634 L2208.19 170.634 Q2209.95 170.634 2210.92 169.8 Q2211.89 168.967 2213.07 165.865 L2213.84 163.921 L2203.35 138.412 L2207.87 138.412 L2215.97 158.689 L2224.07 138.412 L2228.58 138.412 L2217.19 166.745 Z\" fill=\"#000000\" fill-rule=\"nonzero\" fill-opacity=\"1\" /><path clip-path=\"url(#clip260)\" d=\"M2235.88 160.402 L2243.51 160.402 L2243.51 134.037 L2235.2 135.703 L2235.2 131.444 L2243.47 129.778 L2248.14 129.778 L2248.14 160.402 L2255.78 160.402 L2255.78 164.338 L2235.88 164.338 L2235.88 160.402 Z\" fill=\"#000000\" fill-rule=\"nonzero\" fill-opacity=\"1\" /></svg>\n"
      ]
     },
     "execution_count": 26,
     "metadata": {},
     "output_type": "execute_result"
    }
   ],
   "source": [
    "histogram(test[2])"
   ]
  },
  {
   "cell_type": "code",
   "execution_count": 27,
   "id": "dedicated-expert",
   "metadata": {},
   "outputs": [
    {
     "data": {
      "image/svg+xml": [
       "<?xml version=\"1.0\" encoding=\"utf-8\"?>\n",
       "<svg xmlns=\"http://www.w3.org/2000/svg\" xmlns:xlink=\"http://www.w3.org/1999/xlink\" width=\"600\" height=\"400\" viewBox=\"0 0 2400 1600\">\n",
       "<defs>\n",
       "  <clipPath id=\"clip300\">\n",
       "    <rect x=\"0\" y=\"0\" width=\"2400\" height=\"1600\"/>\n",
       "  </clipPath>\n",
       "</defs>\n",
       "<path clip-path=\"url(#clip300)\" d=\"M0 1600 L2400 1600 L2400 0 L0 0  Z\" fill=\"#ffffff\" fill-rule=\"evenodd\" fill-opacity=\"1\"/>\n",
       "<defs>\n",
       "  <clipPath id=\"clip301\">\n",
       "    <rect x=\"480\" y=\"0\" width=\"1681\" height=\"1600\"/>\n",
       "  </clipPath>\n",
       "</defs>\n",
       "<path clip-path=\"url(#clip300)\" d=\"M172.015 1486.45 L2352.76 1486.45 L2352.76 47.2441 L172.015 47.2441  Z\" fill=\"#ffffff\" fill-rule=\"evenodd\" fill-opacity=\"1\"/>\n",
       "<defs>\n",
       "  <clipPath id=\"clip302\">\n",
       "    <rect x=\"172\" y=\"47\" width=\"2182\" height=\"1440\"/>\n",
       "  </clipPath>\n",
       "</defs>\n",
       "<polyline clip-path=\"url(#clip302)\" style=\"stroke:#000000; stroke-linecap:round; stroke-linejoin:round; stroke-width:2; stroke-opacity:0.1; fill:none\" points=\"527.214,1486.45 527.214,47.2441 \"/>\n",
       "<polyline clip-path=\"url(#clip302)\" style=\"stroke:#000000; stroke-linecap:round; stroke-linejoin:round; stroke-width:2; stroke-opacity:0.1; fill:none\" points=\"1115.35,1486.45 1115.35,47.2441 \"/>\n",
       "<polyline clip-path=\"url(#clip302)\" style=\"stroke:#000000; stroke-linecap:round; stroke-linejoin:round; stroke-width:2; stroke-opacity:0.1; fill:none\" points=\"1703.49,1486.45 1703.49,47.2441 \"/>\n",
       "<polyline clip-path=\"url(#clip302)\" style=\"stroke:#000000; stroke-linecap:round; stroke-linejoin:round; stroke-width:2; stroke-opacity:0.1; fill:none\" points=\"2291.62,1486.45 2291.62,47.2441 \"/>\n",
       "<polyline clip-path=\"url(#clip300)\" style=\"stroke:#000000; stroke-linecap:round; stroke-linejoin:round; stroke-width:4; stroke-opacity:1; fill:none\" points=\"172.015,1486.45 2352.76,1486.45 \"/>\n",
       "<polyline clip-path=\"url(#clip300)\" style=\"stroke:#000000; stroke-linecap:round; stroke-linejoin:round; stroke-width:4; stroke-opacity:1; fill:none\" points=\"527.214,1486.45 527.214,1467.55 \"/>\n",
       "<polyline clip-path=\"url(#clip300)\" style=\"stroke:#000000; stroke-linecap:round; stroke-linejoin:round; stroke-width:4; stroke-opacity:1; fill:none\" points=\"1115.35,1486.45 1115.35,1467.55 \"/>\n",
       "<polyline clip-path=\"url(#clip300)\" style=\"stroke:#000000; stroke-linecap:round; stroke-linejoin:round; stroke-width:4; stroke-opacity:1; fill:none\" points=\"1703.49,1486.45 1703.49,1467.55 \"/>\n",
       "<polyline clip-path=\"url(#clip300)\" style=\"stroke:#000000; stroke-linecap:round; stroke-linejoin:round; stroke-width:4; stroke-opacity:1; fill:none\" points=\"2291.62,1486.45 2291.62,1467.55 \"/>\n",
       "<path clip-path=\"url(#clip300)\" d=\"M489.518 1517.37 Q485.907 1517.37 484.078 1520.93 Q482.272 1524.47 482.272 1531.6 Q482.272 1538.71 484.078 1542.27 Q485.907 1545.82 489.518 1545.82 Q493.152 1545.82 494.957 1542.27 Q496.786 1538.71 496.786 1531.6 Q496.786 1524.47 494.957 1520.93 Q493.152 1517.37 489.518 1517.37 M489.518 1513.66 Q495.328 1513.66 498.383 1518.27 Q501.462 1522.85 501.462 1531.6 Q501.462 1540.33 498.383 1544.94 Q495.328 1549.52 489.518 1549.52 Q483.708 1549.52 480.629 1544.94 Q477.573 1540.33 477.573 1531.6 Q477.573 1522.85 480.629 1518.27 Q483.708 1513.66 489.518 1513.66 Z\" fill=\"#000000\" fill-rule=\"nonzero\" fill-opacity=\"1\" /><path clip-path=\"url(#clip300)\" d=\"M509.68 1542.97 L514.564 1542.97 L514.564 1548.85 L509.68 1548.85 L509.68 1542.97 Z\" fill=\"#000000\" fill-rule=\"nonzero\" fill-opacity=\"1\" /><path clip-path=\"url(#clip300)\" d=\"M535.328 1529.7 Q532.179 1529.7 530.328 1531.86 Q528.499 1534.01 528.499 1537.76 Q528.499 1541.49 530.328 1543.66 Q532.179 1545.82 535.328 1545.82 Q538.476 1545.82 540.304 1543.66 Q542.156 1541.49 542.156 1537.76 Q542.156 1534.01 540.304 1531.86 Q538.476 1529.7 535.328 1529.7 M544.61 1515.05 L544.61 1519.31 Q542.851 1518.48 541.045 1518.04 Q539.263 1517.6 537.504 1517.6 Q532.874 1517.6 530.42 1520.72 Q527.99 1523.85 527.642 1530.17 Q529.008 1528.15 531.068 1527.09 Q533.129 1526 535.605 1526 Q540.814 1526 543.823 1529.17 Q546.855 1532.32 546.855 1537.76 Q546.855 1543.08 543.707 1546.3 Q540.559 1549.52 535.328 1549.52 Q529.332 1549.52 526.161 1544.94 Q522.99 1540.33 522.99 1531.6 Q522.99 1523.41 526.879 1518.55 Q530.767 1513.66 537.318 1513.66 Q539.078 1513.66 540.86 1514.01 Q542.666 1514.36 544.61 1515.05 Z\" fill=\"#000000\" fill-rule=\"nonzero\" fill-opacity=\"1\" /><path clip-path=\"url(#clip300)\" d=\"M564.911 1517.37 Q561.3 1517.37 559.471 1520.93 Q557.665 1524.47 557.665 1531.6 Q557.665 1538.71 559.471 1542.27 Q561.3 1545.82 564.911 1545.82 Q568.545 1545.82 570.351 1542.27 Q572.179 1538.71 572.179 1531.6 Q572.179 1524.47 570.351 1520.93 Q568.545 1517.37 564.911 1517.37 M564.911 1513.66 Q570.721 1513.66 573.776 1518.27 Q576.855 1522.85 576.855 1531.6 Q576.855 1540.33 573.776 1544.94 Q570.721 1549.52 564.911 1549.52 Q559.101 1549.52 556.022 1544.94 Q552.966 1540.33 552.966 1531.6 Q552.966 1522.85 556.022 1518.27 Q559.101 1513.66 564.911 1513.66 Z\" fill=\"#000000\" fill-rule=\"nonzero\" fill-opacity=\"1\" /><path clip-path=\"url(#clip300)\" d=\"M1078.15 1517.37 Q1074.54 1517.37 1072.71 1520.93 Q1070.91 1524.47 1070.91 1531.6 Q1070.91 1538.71 1072.71 1542.27 Q1074.54 1545.82 1078.15 1545.82 Q1081.79 1545.82 1083.59 1542.27 Q1085.42 1538.71 1085.42 1531.6 Q1085.42 1524.47 1083.59 1520.93 Q1081.79 1517.37 1078.15 1517.37 M1078.15 1513.66 Q1083.96 1513.66 1087.02 1518.27 Q1090.1 1522.85 1090.1 1531.6 Q1090.1 1540.33 1087.02 1544.94 Q1083.96 1549.52 1078.15 1549.52 Q1072.34 1549.52 1069.26 1544.94 Q1066.21 1540.33 1066.21 1531.6 Q1066.21 1522.85 1069.26 1518.27 Q1072.34 1513.66 1078.15 1513.66 Z\" fill=\"#000000\" fill-rule=\"nonzero\" fill-opacity=\"1\" /><path clip-path=\"url(#clip300)\" d=\"M1098.31 1542.97 L1103.2 1542.97 L1103.2 1548.85 L1098.31 1548.85 L1098.31 1542.97 Z\" fill=\"#000000\" fill-rule=\"nonzero\" fill-opacity=\"1\" /><path clip-path=\"url(#clip300)\" d=\"M1123.96 1529.7 Q1120.81 1529.7 1118.96 1531.86 Q1117.13 1534.01 1117.13 1537.76 Q1117.13 1541.49 1118.96 1543.66 Q1120.81 1545.82 1123.96 1545.82 Q1127.11 1545.82 1128.94 1543.66 Q1130.79 1541.49 1130.79 1537.76 Q1130.79 1534.01 1128.94 1531.86 Q1127.11 1529.7 1123.96 1529.7 M1133.24 1515.05 L1133.24 1519.31 Q1131.49 1518.48 1129.68 1518.04 Q1127.9 1517.6 1126.14 1517.6 Q1121.51 1517.6 1119.05 1520.72 Q1116.62 1523.85 1116.28 1530.17 Q1117.64 1528.15 1119.7 1527.09 Q1121.76 1526 1124.24 1526 Q1129.45 1526 1132.46 1529.17 Q1135.49 1532.32 1135.49 1537.76 Q1135.49 1543.08 1132.34 1546.3 Q1129.19 1549.52 1123.96 1549.52 Q1117.97 1549.52 1114.8 1544.94 Q1111.62 1540.33 1111.62 1531.6 Q1111.62 1523.41 1115.51 1518.55 Q1119.4 1513.66 1125.95 1513.66 Q1127.71 1513.66 1129.49 1514.01 Q1131.3 1514.36 1133.24 1515.05 Z\" fill=\"#000000\" fill-rule=\"nonzero\" fill-opacity=\"1\" /><path clip-path=\"url(#clip300)\" d=\"M1143.59 1514.29 L1161.95 1514.29 L1161.95 1518.22 L1147.87 1518.22 L1147.87 1526.7 Q1148.89 1526.35 1149.91 1526.19 Q1150.93 1526 1151.95 1526 Q1157.74 1526 1161.11 1529.17 Q1164.49 1532.34 1164.49 1537.76 Q1164.49 1543.34 1161.02 1546.44 Q1157.55 1549.52 1151.23 1549.52 Q1149.05 1549.52 1146.79 1549.15 Q1144.54 1548.78 1142.13 1548.04 L1142.13 1543.34 Q1144.22 1544.47 1146.44 1545.03 Q1148.66 1545.58 1151.14 1545.58 Q1155.14 1545.58 1157.48 1543.48 Q1159.82 1541.37 1159.82 1537.76 Q1159.82 1534.15 1157.48 1532.04 Q1155.14 1529.94 1151.14 1529.94 Q1149.26 1529.94 1147.39 1530.35 Q1145.54 1530.77 1143.59 1531.65 L1143.59 1514.29 Z\" fill=\"#000000\" fill-rule=\"nonzero\" fill-opacity=\"1\" /><path clip-path=\"url(#clip300)\" d=\"M1665.79 1517.37 Q1662.18 1517.37 1660.35 1520.93 Q1658.55 1524.47 1658.55 1531.6 Q1658.55 1538.71 1660.35 1542.27 Q1662.18 1545.82 1665.79 1545.82 Q1669.43 1545.82 1671.23 1542.27 Q1673.06 1538.71 1673.06 1531.6 Q1673.06 1524.47 1671.23 1520.93 Q1669.43 1517.37 1665.79 1517.37 M1665.79 1513.66 Q1671.6 1513.66 1674.66 1518.27 Q1677.74 1522.85 1677.74 1531.6 Q1677.74 1540.33 1674.66 1544.94 Q1671.6 1549.52 1665.79 1549.52 Q1659.98 1549.52 1656.9 1544.94 Q1653.85 1540.33 1653.85 1531.6 Q1653.85 1522.85 1656.9 1518.27 Q1659.98 1513.66 1665.79 1513.66 Z\" fill=\"#000000\" fill-rule=\"nonzero\" fill-opacity=\"1\" /><path clip-path=\"url(#clip300)\" d=\"M1685.95 1542.97 L1690.84 1542.97 L1690.84 1548.85 L1685.95 1548.85 L1685.95 1542.97 Z\" fill=\"#000000\" fill-rule=\"nonzero\" fill-opacity=\"1\" /><path clip-path=\"url(#clip300)\" d=\"M1699.84 1514.29 L1722.06 1514.29 L1722.06 1516.28 L1709.52 1548.85 L1704.63 1548.85 L1716.44 1518.22 L1699.84 1518.22 L1699.84 1514.29 Z\" fill=\"#000000\" fill-rule=\"nonzero\" fill-opacity=\"1\" /><path clip-path=\"url(#clip300)\" d=\"M1741.18 1517.37 Q1737.57 1517.37 1735.74 1520.93 Q1733.94 1524.47 1733.94 1531.6 Q1733.94 1538.71 1735.74 1542.27 Q1737.57 1545.82 1741.18 1545.82 Q1744.82 1545.82 1746.62 1542.27 Q1748.45 1538.71 1748.45 1531.6 Q1748.45 1524.47 1746.62 1520.93 Q1744.82 1517.37 1741.18 1517.37 M1741.18 1513.66 Q1746.99 1513.66 1750.05 1518.27 Q1753.13 1522.85 1753.13 1531.6 Q1753.13 1540.33 1750.05 1544.94 Q1746.99 1549.52 1741.18 1549.52 Q1735.37 1549.52 1732.3 1544.94 Q1729.24 1540.33 1729.24 1531.6 Q1729.24 1522.85 1732.3 1518.27 Q1735.37 1513.66 1741.18 1513.66 Z\" fill=\"#000000\" fill-rule=\"nonzero\" fill-opacity=\"1\" /><path clip-path=\"url(#clip300)\" d=\"M2254.43 1517.37 Q2250.81 1517.37 2248.99 1520.93 Q2247.18 1524.47 2247.18 1531.6 Q2247.18 1538.71 2248.99 1542.27 Q2250.81 1545.82 2254.43 1545.82 Q2258.06 1545.82 2259.87 1542.27 Q2261.69 1538.71 2261.69 1531.6 Q2261.69 1524.47 2259.87 1520.93 Q2258.06 1517.37 2254.43 1517.37 M2254.43 1513.66 Q2260.24 1513.66 2263.29 1518.27 Q2266.37 1522.85 2266.37 1531.6 Q2266.37 1540.33 2263.29 1544.94 Q2260.24 1549.52 2254.43 1549.52 Q2248.62 1549.52 2245.54 1544.94 Q2242.48 1540.33 2242.48 1531.6 Q2242.48 1522.85 2245.54 1518.27 Q2248.62 1513.66 2254.43 1513.66 Z\" fill=\"#000000\" fill-rule=\"nonzero\" fill-opacity=\"1\" /><path clip-path=\"url(#clip300)\" d=\"M2274.59 1542.97 L2279.47 1542.97 L2279.47 1548.85 L2274.59 1548.85 L2274.59 1542.97 Z\" fill=\"#000000\" fill-rule=\"nonzero\" fill-opacity=\"1\" /><path clip-path=\"url(#clip300)\" d=\"M2288.48 1514.29 L2310.7 1514.29 L2310.7 1516.28 L2298.15 1548.85 L2293.27 1548.85 L2305.07 1518.22 L2288.48 1518.22 L2288.48 1514.29 Z\" fill=\"#000000\" fill-rule=\"nonzero\" fill-opacity=\"1\" /><path clip-path=\"url(#clip300)\" d=\"M2319.87 1514.29 L2338.22 1514.29 L2338.22 1518.22 L2324.15 1518.22 L2324.15 1526.7 Q2325.17 1526.35 2326.18 1526.19 Q2327.2 1526 2328.22 1526 Q2334.01 1526 2337.39 1529.17 Q2340.77 1532.34 2340.77 1537.76 Q2340.77 1543.34 2337.3 1546.44 Q2333.82 1549.52 2327.5 1549.52 Q2325.33 1549.52 2323.06 1549.15 Q2320.81 1548.78 2318.41 1548.04 L2318.41 1543.34 Q2320.49 1544.47 2322.71 1545.03 Q2324.93 1545.58 2327.41 1545.58 Q2331.42 1545.58 2333.75 1543.48 Q2336.09 1541.37 2336.09 1537.76 Q2336.09 1534.15 2333.75 1532.04 Q2331.42 1529.94 2327.41 1529.94 Q2325.54 1529.94 2323.66 1530.35 Q2321.81 1530.77 2319.87 1531.65 L2319.87 1514.29 Z\" fill=\"#000000\" fill-rule=\"nonzero\" fill-opacity=\"1\" /><polyline clip-path=\"url(#clip302)\" style=\"stroke:#000000; stroke-linecap:round; stroke-linejoin:round; stroke-width:2; stroke-opacity:0.1; fill:none\" points=\"172.015,1445.72 2352.76,1445.72 \"/>\n",
       "<polyline clip-path=\"url(#clip302)\" style=\"stroke:#000000; stroke-linecap:round; stroke-linejoin:round; stroke-width:2; stroke-opacity:0.1; fill:none\" points=\"172.015,1170.31 2352.76,1170.31 \"/>\n",
       "<polyline clip-path=\"url(#clip302)\" style=\"stroke:#000000; stroke-linecap:round; stroke-linejoin:round; stroke-width:2; stroke-opacity:0.1; fill:none\" points=\"172.015,894.909 2352.76,894.909 \"/>\n",
       "<polyline clip-path=\"url(#clip302)\" style=\"stroke:#000000; stroke-linecap:round; stroke-linejoin:round; stroke-width:2; stroke-opacity:0.1; fill:none\" points=\"172.015,619.505 2352.76,619.505 \"/>\n",
       "<polyline clip-path=\"url(#clip302)\" style=\"stroke:#000000; stroke-linecap:round; stroke-linejoin:round; stroke-width:2; stroke-opacity:0.1; fill:none\" points=\"172.015,344.102 2352.76,344.102 \"/>\n",
       "<polyline clip-path=\"url(#clip302)\" style=\"stroke:#000000; stroke-linecap:round; stroke-linejoin:round; stroke-width:2; stroke-opacity:0.1; fill:none\" points=\"172.015,68.698 2352.76,68.698 \"/>\n",
       "<polyline clip-path=\"url(#clip300)\" style=\"stroke:#000000; stroke-linecap:round; stroke-linejoin:round; stroke-width:4; stroke-opacity:1; fill:none\" points=\"172.015,1486.45 172.015,47.2441 \"/>\n",
       "<polyline clip-path=\"url(#clip300)\" style=\"stroke:#000000; stroke-linecap:round; stroke-linejoin:round; stroke-width:4; stroke-opacity:1; fill:none\" points=\"172.015,1445.72 190.912,1445.72 \"/>\n",
       "<polyline clip-path=\"url(#clip300)\" style=\"stroke:#000000; stroke-linecap:round; stroke-linejoin:round; stroke-width:4; stroke-opacity:1; fill:none\" points=\"172.015,1170.31 190.912,1170.31 \"/>\n",
       "<polyline clip-path=\"url(#clip300)\" style=\"stroke:#000000; stroke-linecap:round; stroke-linejoin:round; stroke-width:4; stroke-opacity:1; fill:none\" points=\"172.015,894.909 190.912,894.909 \"/>\n",
       "<polyline clip-path=\"url(#clip300)\" style=\"stroke:#000000; stroke-linecap:round; stroke-linejoin:round; stroke-width:4; stroke-opacity:1; fill:none\" points=\"172.015,619.505 190.912,619.505 \"/>\n",
       "<polyline clip-path=\"url(#clip300)\" style=\"stroke:#000000; stroke-linecap:round; stroke-linejoin:round; stroke-width:4; stroke-opacity:1; fill:none\" points=\"172.015,344.102 190.912,344.102 \"/>\n",
       "<polyline clip-path=\"url(#clip300)\" style=\"stroke:#000000; stroke-linecap:round; stroke-linejoin:round; stroke-width:4; stroke-opacity:1; fill:none\" points=\"172.015,68.698 190.912,68.698 \"/>\n",
       "<path clip-path=\"url(#clip300)\" d=\"M124.07 1431.51 Q120.459 1431.51 118.631 1435.08 Q116.825 1438.62 116.825 1445.75 Q116.825 1452.86 118.631 1456.42 Q120.459 1459.96 124.07 1459.96 Q127.705 1459.96 129.51 1456.42 Q131.339 1452.86 131.339 1445.75 Q131.339 1438.62 129.51 1435.08 Q127.705 1431.51 124.07 1431.51 M124.07 1427.81 Q129.881 1427.81 132.936 1432.42 Q136.015 1437 136.015 1445.75 Q136.015 1454.48 132.936 1459.08 Q129.881 1463.67 124.07 1463.67 Q118.26 1463.67 115.182 1459.08 Q112.126 1454.48 112.126 1445.75 Q112.126 1437 115.182 1432.42 Q118.26 1427.81 124.07 1427.81 Z\" fill=\"#000000\" fill-rule=\"nonzero\" fill-opacity=\"1\" /><path clip-path=\"url(#clip300)\" d=\"M54.5569 1183.66 L62.1958 1183.66 L62.1958 1157.29 L53.8856 1158.96 L53.8856 1154.7 L62.1495 1153.03 L66.8254 1153.03 L66.8254 1183.66 L74.4642 1183.66 L74.4642 1187.59 L54.5569 1187.59 L54.5569 1183.66 Z\" fill=\"#000000\" fill-rule=\"nonzero\" fill-opacity=\"1\" /><path clip-path=\"url(#clip300)\" d=\"M93.9086 1156.11 Q90.2975 1156.11 88.4688 1159.68 Q86.6632 1163.22 86.6632 1170.35 Q86.6632 1177.45 88.4688 1181.02 Q90.2975 1184.56 93.9086 1184.56 Q97.5428 1184.56 99.3483 1181.02 Q101.177 1177.45 101.177 1170.35 Q101.177 1163.22 99.3483 1159.68 Q97.5428 1156.11 93.9086 1156.11 M93.9086 1152.41 Q99.7187 1152.41 102.774 1157.01 Q105.853 1161.6 105.853 1170.35 Q105.853 1179.07 102.774 1183.68 Q99.7187 1188.26 93.9086 1188.26 Q88.0984 1188.26 85.0197 1183.68 Q81.9642 1179.07 81.9642 1170.35 Q81.9642 1161.6 85.0197 1157.01 Q88.0984 1152.41 93.9086 1152.41 Z\" fill=\"#000000\" fill-rule=\"nonzero\" fill-opacity=\"1\" /><path clip-path=\"url(#clip300)\" d=\"M124.07 1156.11 Q120.459 1156.11 118.631 1159.68 Q116.825 1163.22 116.825 1170.35 Q116.825 1177.45 118.631 1181.02 Q120.459 1184.56 124.07 1184.56 Q127.705 1184.56 129.51 1181.02 Q131.339 1177.45 131.339 1170.35 Q131.339 1163.22 129.51 1159.68 Q127.705 1156.11 124.07 1156.11 M124.07 1152.41 Q129.881 1152.41 132.936 1157.01 Q136.015 1161.6 136.015 1170.35 Q136.015 1179.07 132.936 1183.68 Q129.881 1188.26 124.07 1188.26 Q118.26 1188.26 115.182 1183.68 Q112.126 1179.07 112.126 1170.35 Q112.126 1161.6 115.182 1157.01 Q118.26 1152.41 124.07 1152.41 Z\" fill=\"#000000\" fill-rule=\"nonzero\" fill-opacity=\"1\" /><path clip-path=\"url(#clip300)\" d=\"M57.7745 908.253 L74.0939 908.253 L74.0939 912.189 L52.1495 912.189 L52.1495 908.253 Q54.8115 905.499 59.3949 900.869 Q64.0013 896.216 65.1819 894.874 Q67.4272 892.351 68.3068 890.615 Q69.2096 888.855 69.2096 887.166 Q69.2096 884.411 67.2652 882.675 Q65.3439 880.939 62.2421 880.939 Q60.043 880.939 57.5893 881.703 Q55.1588 882.467 52.381 884.017 L52.381 879.295 Q55.2051 878.161 57.6588 877.582 Q60.1124 877.004 62.1495 877.004 Q67.5198 877.004 70.7142 879.689 Q73.9087 882.374 73.9087 886.865 Q73.9087 888.994 73.0985 890.916 Q72.3115 892.814 70.205 895.406 Q69.6263 896.078 66.5245 899.295 Q63.4226 902.49 57.7745 908.253 Z\" fill=\"#000000\" fill-rule=\"nonzero\" fill-opacity=\"1\" /><path clip-path=\"url(#clip300)\" d=\"M93.9086 880.707 Q90.2975 880.707 88.4688 884.272 Q86.6632 887.814 86.6632 894.943 Q86.6632 902.05 88.4688 905.615 Q90.2975 909.156 93.9086 909.156 Q97.5428 909.156 99.3483 905.615 Q101.177 902.05 101.177 894.943 Q101.177 887.814 99.3483 884.272 Q97.5428 880.707 93.9086 880.707 M93.9086 877.004 Q99.7187 877.004 102.774 881.61 Q105.853 886.193 105.853 894.943 Q105.853 903.67 102.774 908.277 Q99.7187 912.86 93.9086 912.86 Q88.0984 912.86 85.0197 908.277 Q81.9642 903.67 81.9642 894.943 Q81.9642 886.193 85.0197 881.61 Q88.0984 877.004 93.9086 877.004 Z\" fill=\"#000000\" fill-rule=\"nonzero\" fill-opacity=\"1\" /><path clip-path=\"url(#clip300)\" d=\"M124.07 880.707 Q120.459 880.707 118.631 884.272 Q116.825 887.814 116.825 894.943 Q116.825 902.05 118.631 905.615 Q120.459 909.156 124.07 909.156 Q127.705 909.156 129.51 905.615 Q131.339 902.05 131.339 894.943 Q131.339 887.814 129.51 884.272 Q127.705 880.707 124.07 880.707 M124.07 877.004 Q129.881 877.004 132.936 881.61 Q136.015 886.193 136.015 894.943 Q136.015 903.67 132.936 908.277 Q129.881 912.86 124.07 912.86 Q118.26 912.86 115.182 908.277 Q112.126 903.67 112.126 894.943 Q112.126 886.193 115.182 881.61 Q118.26 877.004 124.07 877.004 Z\" fill=\"#000000\" fill-rule=\"nonzero\" fill-opacity=\"1\" /><path clip-path=\"url(#clip300)\" d=\"M67.9133 618.151 Q71.2698 618.869 73.1448 621.137 Q75.0429 623.406 75.0429 626.739 Q75.0429 631.855 71.5244 634.655 Q68.0059 637.456 61.5245 637.456 Q59.3486 637.456 57.0338 637.017 Q54.7421 636.6 52.2884 635.743 L52.2884 631.23 Q54.2328 632.364 56.5477 632.943 Q58.8625 633.521 61.3856 633.521 Q65.7837 633.521 68.0754 631.785 Q70.3902 630.049 70.3902 626.739 Q70.3902 623.683 68.2374 621.97 Q66.1078 620.234 62.2884 620.234 L58.2606 620.234 L58.2606 616.392 L62.4735 616.392 Q65.9226 616.392 67.7513 615.026 Q69.58 613.637 69.58 611.044 Q69.58 608.382 67.6819 606.97 Q65.8069 605.535 62.2884 605.535 Q60.3671 605.535 58.168 605.952 Q55.969 606.369 53.3301 607.248 L53.3301 603.082 Q55.9921 602.341 58.3069 601.97 Q60.6449 601.6 62.705 601.6 Q68.0291 601.6 71.1309 604.031 Q74.2327 606.438 74.2327 610.558 Q74.2327 613.429 72.5892 615.419 Q70.9457 617.387 67.9133 618.151 Z\" fill=\"#000000\" fill-rule=\"nonzero\" fill-opacity=\"1\" /><path clip-path=\"url(#clip300)\" d=\"M93.9086 605.304 Q90.2975 605.304 88.4688 608.869 Q86.6632 612.41 86.6632 619.54 Q86.6632 626.646 88.4688 630.211 Q90.2975 633.753 93.9086 633.753 Q97.5428 633.753 99.3483 630.211 Q101.177 626.646 101.177 619.54 Q101.177 612.41 99.3483 608.869 Q97.5428 605.304 93.9086 605.304 M93.9086 601.6 Q99.7187 601.6 102.774 606.207 Q105.853 610.79 105.853 619.54 Q105.853 628.267 102.774 632.873 Q99.7187 637.456 93.9086 637.456 Q88.0984 637.456 85.0197 632.873 Q81.9642 628.267 81.9642 619.54 Q81.9642 610.79 85.0197 606.207 Q88.0984 601.6 93.9086 601.6 Z\" fill=\"#000000\" fill-rule=\"nonzero\" fill-opacity=\"1\" /><path clip-path=\"url(#clip300)\" d=\"M124.07 605.304 Q120.459 605.304 118.631 608.869 Q116.825 612.41 116.825 619.54 Q116.825 626.646 118.631 630.211 Q120.459 633.753 124.07 633.753 Q127.705 633.753 129.51 630.211 Q131.339 626.646 131.339 619.54 Q131.339 612.41 129.51 608.869 Q127.705 605.304 124.07 605.304 M124.07 601.6 Q129.881 601.6 132.936 606.207 Q136.015 610.79 136.015 619.54 Q136.015 628.267 132.936 632.873 Q129.881 637.456 124.07 637.456 Q118.26 637.456 115.182 632.873 Q112.126 628.267 112.126 619.54 Q112.126 610.79 115.182 606.207 Q118.26 601.6 124.07 601.6 Z\" fill=\"#000000\" fill-rule=\"nonzero\" fill-opacity=\"1\" /><path clip-path=\"url(#clip300)\" d=\"M66.5939 330.896 L54.7884 349.345 L66.5939 349.345 L66.5939 330.896 M65.367 326.822 L71.2466 326.822 L71.2466 349.345 L76.1772 349.345 L76.1772 353.233 L71.2466 353.233 L71.2466 361.382 L66.5939 361.382 L66.5939 353.233 L50.9921 353.233 L50.9921 348.72 L65.367 326.822 Z\" fill=\"#000000\" fill-rule=\"nonzero\" fill-opacity=\"1\" /><path clip-path=\"url(#clip300)\" d=\"M93.9086 329.9 Q90.2975 329.9 88.4688 333.465 Q86.6632 337.007 86.6632 344.136 Q86.6632 351.243 88.4688 354.808 Q90.2975 358.349 93.9086 358.349 Q97.5428 358.349 99.3483 354.808 Q101.177 351.243 101.177 344.136 Q101.177 337.007 99.3483 333.465 Q97.5428 329.9 93.9086 329.9 M93.9086 326.197 Q99.7187 326.197 102.774 330.803 Q105.853 335.386 105.853 344.136 Q105.853 352.863 102.774 357.47 Q99.7187 362.053 93.9086 362.053 Q88.0984 362.053 85.0197 357.47 Q81.9642 352.863 81.9642 344.136 Q81.9642 335.386 85.0197 330.803 Q88.0984 326.197 93.9086 326.197 Z\" fill=\"#000000\" fill-rule=\"nonzero\" fill-opacity=\"1\" /><path clip-path=\"url(#clip300)\" d=\"M124.07 329.9 Q120.459 329.9 118.631 333.465 Q116.825 337.007 116.825 344.136 Q116.825 351.243 118.631 354.808 Q120.459 358.349 124.07 358.349 Q127.705 358.349 129.51 354.808 Q131.339 351.243 131.339 344.136 Q131.339 337.007 129.51 333.465 Q127.705 329.9 124.07 329.9 M124.07 326.197 Q129.881 326.197 132.936 330.803 Q136.015 335.386 136.015 344.136 Q136.015 352.863 132.936 357.47 Q129.881 362.053 124.07 362.053 Q118.26 362.053 115.182 357.47 Q112.126 352.863 112.126 344.136 Q112.126 335.386 115.182 330.803 Q118.26 326.197 124.07 326.197 Z\" fill=\"#000000\" fill-rule=\"nonzero\" fill-opacity=\"1\" /><path clip-path=\"url(#clip300)\" d=\"M53.793 51.418 L72.1494 51.418 L72.1494 55.3532 L58.0754 55.3532 L58.0754 63.8254 Q59.0939 63.4782 60.1124 63.3161 Q61.131 63.1309 62.1495 63.1309 Q67.9365 63.1309 71.3161 66.3022 Q74.6957 69.4735 74.6957 74.8901 Q74.6957 80.4688 71.2235 83.5706 Q67.7513 86.6493 61.4319 86.6493 Q59.256 86.6493 56.9875 86.279 Q54.7421 85.9086 52.3347 85.1678 L52.3347 80.4688 Q54.418 81.6031 56.6402 82.1586 Q58.8625 82.7142 61.3393 82.7142 Q65.3439 82.7142 67.6819 80.6077 Q70.0198 78.5012 70.0198 74.8901 Q70.0198 71.279 67.6819 69.1726 Q65.3439 67.0661 61.3393 67.0661 Q59.4643 67.0661 57.5893 67.4828 Q55.7375 67.8994 53.793 68.779 L53.793 51.418 Z\" fill=\"#000000\" fill-rule=\"nonzero\" fill-opacity=\"1\" /><path clip-path=\"url(#clip300)\" d=\"M93.9086 54.4967 Q90.2975 54.4967 88.4688 58.0615 Q86.6632 61.6032 86.6632 68.7328 Q86.6632 75.8392 88.4688 79.404 Q90.2975 82.9456 93.9086 82.9456 Q97.5428 82.9456 99.3483 79.404 Q101.177 75.8392 101.177 68.7328 Q101.177 61.6032 99.3483 58.0615 Q97.5428 54.4967 93.9086 54.4967 M93.9086 50.793 Q99.7187 50.793 102.774 55.3995 Q105.853 59.9828 105.853 68.7328 Q105.853 77.4596 102.774 82.066 Q99.7187 86.6493 93.9086 86.6493 Q88.0984 86.6493 85.0197 82.066 Q81.9642 77.4596 81.9642 68.7328 Q81.9642 59.9828 85.0197 55.3995 Q88.0984 50.793 93.9086 50.793 Z\" fill=\"#000000\" fill-rule=\"nonzero\" fill-opacity=\"1\" /><path clip-path=\"url(#clip300)\" d=\"M124.07 54.4967 Q120.459 54.4967 118.631 58.0615 Q116.825 61.6032 116.825 68.7328 Q116.825 75.8392 118.631 79.404 Q120.459 82.9456 124.07 82.9456 Q127.705 82.9456 129.51 79.404 Q131.339 75.8392 131.339 68.7328 Q131.339 61.6032 129.51 58.0615 Q127.705 54.4967 124.07 54.4967 M124.07 50.793 Q129.881 50.793 132.936 55.3995 Q136.015 59.9828 136.015 68.7328 Q136.015 77.4596 132.936 82.066 Q129.881 86.6493 124.07 86.6493 Q118.26 86.6493 115.182 82.066 Q112.126 77.4596 112.126 68.7328 Q112.126 59.9828 115.182 55.3995 Q118.26 50.793 124.07 50.793 Z\" fill=\"#000000\" fill-rule=\"nonzero\" fill-opacity=\"1\" /><path clip-path=\"url(#clip302)\" d=\"M291.959 1442.96 L291.959 1445.72 L350.773 1445.72 L350.773 1442.96 L291.959 1442.96 L291.959 1442.96  Z\" fill=\"#009af9\" fill-rule=\"evenodd\" fill-opacity=\"1\"/>\n",
       "<polyline clip-path=\"url(#clip302)\" style=\"stroke:#000000; stroke-linecap:round; stroke-linejoin:round; stroke-width:4; stroke-opacity:1; fill:none\" points=\"291.959,1442.96 291.959,1445.72 350.773,1445.72 350.773,1442.96 291.959,1442.96 \"/>\n",
       "<path clip-path=\"url(#clip302)\" d=\"M350.773 1442.96 L350.773 1445.72 L409.587 1445.72 L409.587 1442.96 L350.773 1442.96 L350.773 1442.96  Z\" fill=\"#009af9\" fill-rule=\"evenodd\" fill-opacity=\"1\"/>\n",
       "<polyline clip-path=\"url(#clip302)\" style=\"stroke:#000000; stroke-linecap:round; stroke-linejoin:round; stroke-width:4; stroke-opacity:1; fill:none\" points=\"350.773,1442.96 350.773,1445.72 409.587,1445.72 409.587,1442.96 350.773,1442.96 \"/>\n",
       "<path clip-path=\"url(#clip302)\" d=\"M409.587 1437.45 L409.587 1445.72 L468.401 1445.72 L468.401 1437.45 L409.587 1437.45 L409.587 1437.45  Z\" fill=\"#009af9\" fill-rule=\"evenodd\" fill-opacity=\"1\"/>\n",
       "<polyline clip-path=\"url(#clip302)\" style=\"stroke:#000000; stroke-linecap:round; stroke-linejoin:round; stroke-width:4; stroke-opacity:1; fill:none\" points=\"409.587,1437.45 409.587,1445.72 468.401,1445.72 468.401,1437.45 409.587,1437.45 \"/>\n",
       "<path clip-path=\"url(#clip302)\" d=\"M468.401 1429.19 L468.401 1445.72 L527.214 1445.72 L527.214 1429.19 L468.401 1429.19 L468.401 1429.19  Z\" fill=\"#009af9\" fill-rule=\"evenodd\" fill-opacity=\"1\"/>\n",
       "<polyline clip-path=\"url(#clip302)\" style=\"stroke:#000000; stroke-linecap:round; stroke-linejoin:round; stroke-width:4; stroke-opacity:1; fill:none\" points=\"468.401,1429.19 468.401,1445.72 527.214,1445.72 527.214,1429.19 468.401,1429.19 \"/>\n",
       "<path clip-path=\"url(#clip302)\" d=\"M527.214 1412.67 L527.214 1445.72 L586.028 1445.72 L586.028 1412.67 L527.214 1412.67 L527.214 1412.67  Z\" fill=\"#009af9\" fill-rule=\"evenodd\" fill-opacity=\"1\"/>\n",
       "<polyline clip-path=\"url(#clip302)\" style=\"stroke:#000000; stroke-linecap:round; stroke-linejoin:round; stroke-width:4; stroke-opacity:1; fill:none\" points=\"527.214,1412.67 527.214,1445.72 586.028,1445.72 586.028,1412.67 527.214,1412.67 \"/>\n",
       "<path clip-path=\"url(#clip302)\" d=\"M586.028 1396.14 L586.028 1445.72 L644.842 1445.72 L644.842 1396.14 L586.028 1396.14 L586.028 1396.14  Z\" fill=\"#009af9\" fill-rule=\"evenodd\" fill-opacity=\"1\"/>\n",
       "<polyline clip-path=\"url(#clip302)\" style=\"stroke:#000000; stroke-linecap:round; stroke-linejoin:round; stroke-width:4; stroke-opacity:1; fill:none\" points=\"586.028,1396.14 586.028,1445.72 644.842,1445.72 644.842,1396.14 586.028,1396.14 \"/>\n",
       "<path clip-path=\"url(#clip302)\" d=\"M644.842 1313.52 L644.842 1445.72 L703.655 1445.72 L703.655 1313.52 L644.842 1313.52 L644.842 1313.52  Z\" fill=\"#009af9\" fill-rule=\"evenodd\" fill-opacity=\"1\"/>\n",
       "<polyline clip-path=\"url(#clip302)\" style=\"stroke:#000000; stroke-linecap:round; stroke-linejoin:round; stroke-width:4; stroke-opacity:1; fill:none\" points=\"644.842,1313.52 644.842,1445.72 703.655,1445.72 703.655,1313.52 644.842,1313.52 \"/>\n",
       "<path clip-path=\"url(#clip302)\" d=\"M703.655 1239.16 L703.655 1445.72 L762.469 1445.72 L762.469 1239.16 L703.655 1239.16 L703.655 1239.16  Z\" fill=\"#009af9\" fill-rule=\"evenodd\" fill-opacity=\"1\"/>\n",
       "<polyline clip-path=\"url(#clip302)\" style=\"stroke:#000000; stroke-linecap:round; stroke-linejoin:round; stroke-width:4; stroke-opacity:1; fill:none\" points=\"703.655,1239.16 703.655,1445.72 762.469,1445.72 762.469,1239.16 703.655,1239.16 \"/>\n",
       "<path clip-path=\"url(#clip302)\" d=\"M762.469 1129 L762.469 1445.72 L821.283 1445.72 L821.283 1129 L762.469 1129 L762.469 1129  Z\" fill=\"#009af9\" fill-rule=\"evenodd\" fill-opacity=\"1\"/>\n",
       "<polyline clip-path=\"url(#clip302)\" style=\"stroke:#000000; stroke-linecap:round; stroke-linejoin:round; stroke-width:4; stroke-opacity:1; fill:none\" points=\"762.469,1129 762.469,1445.72 821.283,1445.72 821.283,1129 762.469,1129 \"/>\n",
       "<path clip-path=\"url(#clip302)\" d=\"M821.283 1060.15 L821.283 1445.72 L880.096 1445.72 L880.096 1060.15 L821.283 1060.15 L821.283 1060.15  Z\" fill=\"#009af9\" fill-rule=\"evenodd\" fill-opacity=\"1\"/>\n",
       "<polyline clip-path=\"url(#clip302)\" style=\"stroke:#000000; stroke-linecap:round; stroke-linejoin:round; stroke-width:4; stroke-opacity:1; fill:none\" points=\"821.283,1060.15 821.283,1445.72 880.096,1445.72 880.096,1060.15 821.283,1060.15 \"/>\n",
       "<path clip-path=\"url(#clip302)\" d=\"M880.096 892.155 L880.096 1445.72 L938.91 1445.72 L938.91 892.155 L880.096 892.155 L880.096 892.155  Z\" fill=\"#009af9\" fill-rule=\"evenodd\" fill-opacity=\"1\"/>\n",
       "<polyline clip-path=\"url(#clip302)\" style=\"stroke:#000000; stroke-linecap:round; stroke-linejoin:round; stroke-width:4; stroke-opacity:1; fill:none\" points=\"880.096,892.155 880.096,1445.72 938.91,1445.72 938.91,892.155 880.096,892.155 \"/>\n",
       "<path clip-path=\"url(#clip302)\" d=\"M938.91 743.437 L938.91 1445.72 L997.724 1445.72 L997.724 743.437 L938.91 743.437 L938.91 743.437  Z\" fill=\"#009af9\" fill-rule=\"evenodd\" fill-opacity=\"1\"/>\n",
       "<polyline clip-path=\"url(#clip302)\" style=\"stroke:#000000; stroke-linecap:round; stroke-linejoin:round; stroke-width:4; stroke-opacity:1; fill:none\" points=\"938.91,743.437 938.91,1445.72 997.724,1445.72 997.724,743.437 938.91,743.437 \"/>\n",
       "<path clip-path=\"url(#clip302)\" d=\"M997.724 473.541 L997.724 1445.72 L1056.54 1445.72 L1056.54 473.541 L997.724 473.541 L997.724 473.541  Z\" fill=\"#009af9\" fill-rule=\"evenodd\" fill-opacity=\"1\"/>\n",
       "<polyline clip-path=\"url(#clip302)\" style=\"stroke:#000000; stroke-linecap:round; stroke-linejoin:round; stroke-width:4; stroke-opacity:1; fill:none\" points=\"997.724,473.541 997.724,1445.72 1056.54,1445.72 1056.54,473.541 997.724,473.541 \"/>\n",
       "<path clip-path=\"url(#clip302)\" d=\"M1056.54 388.166 L1056.54 1445.72 L1115.35 1445.72 L1115.35 388.166 L1056.54 388.166 L1056.54 388.166  Z\" fill=\"#009af9\" fill-rule=\"evenodd\" fill-opacity=\"1\"/>\n",
       "<polyline clip-path=\"url(#clip302)\" style=\"stroke:#000000; stroke-linecap:round; stroke-linejoin:round; stroke-width:4; stroke-opacity:1; fill:none\" points=\"1056.54,388.166 1056.54,1445.72 1115.35,1445.72 1115.35,388.166 1056.54,388.166 \"/>\n",
       "<path clip-path=\"url(#clip302)\" d=\"M1115.35 300.037 L1115.35 1445.72 L1174.16 1445.72 L1174.16 300.037 L1115.35 300.037 L1115.35 300.037  Z\" fill=\"#009af9\" fill-rule=\"evenodd\" fill-opacity=\"1\"/>\n",
       "<polyline clip-path=\"url(#clip302)\" style=\"stroke:#000000; stroke-linecap:round; stroke-linejoin:round; stroke-width:4; stroke-opacity:1; fill:none\" points=\"1115.35,300.037 1115.35,1445.72 1174.16,1445.72 1174.16,300.037 1115.35,300.037 \"/>\n",
       "<path clip-path=\"url(#clip302)\" d=\"M1174.16 87.9763 L1174.16 1445.72 L1232.98 1445.72 L1232.98 87.9763 L1174.16 87.9763 L1174.16 87.9763  Z\" fill=\"#009af9\" fill-rule=\"evenodd\" fill-opacity=\"1\"/>\n",
       "<polyline clip-path=\"url(#clip302)\" style=\"stroke:#000000; stroke-linecap:round; stroke-linejoin:round; stroke-width:4; stroke-opacity:1; fill:none\" points=\"1174.16,87.9763 1174.16,1445.72 1232.98,1445.72 1232.98,87.9763 1174.16,87.9763 \"/>\n",
       "<path clip-path=\"url(#clip302)\" d=\"M1232.98 289.021 L1232.98 1445.72 L1291.79 1445.72 L1291.79 289.021 L1232.98 289.021 L1232.98 289.021  Z\" fill=\"#009af9\" fill-rule=\"evenodd\" fill-opacity=\"1\"/>\n",
       "<polyline clip-path=\"url(#clip302)\" style=\"stroke:#000000; stroke-linecap:round; stroke-linejoin:round; stroke-width:4; stroke-opacity:1; fill:none\" points=\"1232.98,289.021 1232.98,1445.72 1291.79,1445.72 1291.79,289.021 1232.98,289.021 \"/>\n",
       "<path clip-path=\"url(#clip302)\" d=\"M1291.79 382.658 L1291.79 1445.72 L1350.61 1445.72 L1350.61 382.658 L1291.79 382.658 L1291.79 382.658  Z\" fill=\"#009af9\" fill-rule=\"evenodd\" fill-opacity=\"1\"/>\n",
       "<polyline clip-path=\"url(#clip302)\" style=\"stroke:#000000; stroke-linecap:round; stroke-linejoin:round; stroke-width:4; stroke-opacity:1; fill:none\" points=\"1291.79,382.658 1291.79,1445.72 1350.61,1445.72 1350.61,382.658 1291.79,382.658 \"/>\n",
       "<path clip-path=\"url(#clip302)\" d=\"M1350.61 341.348 L1350.61 1445.72 L1409.42 1445.72 L1409.42 341.348 L1350.61 341.348 L1350.61 341.348  Z\" fill=\"#009af9\" fill-rule=\"evenodd\" fill-opacity=\"1\"/>\n",
       "<polyline clip-path=\"url(#clip302)\" style=\"stroke:#000000; stroke-linecap:round; stroke-linejoin:round; stroke-width:4; stroke-opacity:1; fill:none\" points=\"1350.61,341.348 1350.61,1445.72 1409.42,1445.72 1409.42,341.348 1350.61,341.348 \"/>\n",
       "<path clip-path=\"url(#clip302)\" d=\"M1409.42 597.473 L1409.42 1445.72 L1468.23 1445.72 L1468.23 597.473 L1409.42 597.473 L1409.42 597.473  Z\" fill=\"#009af9\" fill-rule=\"evenodd\" fill-opacity=\"1\"/>\n",
       "<polyline clip-path=\"url(#clip302)\" style=\"stroke:#000000; stroke-linecap:round; stroke-linejoin:round; stroke-width:4; stroke-opacity:1; fill:none\" points=\"1409.42,597.473 1409.42,1445.72 1468.23,1445.72 1468.23,597.473 1409.42,597.473 \"/>\n",
       "<path clip-path=\"url(#clip302)\" d=\"M1468.23 633.275 L1468.23 1445.72 L1527.05 1445.72 L1527.05 633.275 L1468.23 633.275 L1468.23 633.275  Z\" fill=\"#009af9\" fill-rule=\"evenodd\" fill-opacity=\"1\"/>\n",
       "<polyline clip-path=\"url(#clip302)\" style=\"stroke:#000000; stroke-linecap:round; stroke-linejoin:round; stroke-width:4; stroke-opacity:1; fill:none\" points=\"1468.23,633.275 1468.23,1445.72 1527.05,1445.72 1527.05,633.275 1468.23,633.275 \"/>\n",
       "<path clip-path=\"url(#clip302)\" d=\"M1527.05 859.106 L1527.05 1445.72 L1585.86 1445.72 L1585.86 859.106 L1527.05 859.106 L1527.05 859.106  Z\" fill=\"#009af9\" fill-rule=\"evenodd\" fill-opacity=\"1\"/>\n",
       "<polyline clip-path=\"url(#clip302)\" style=\"stroke:#000000; stroke-linecap:round; stroke-linejoin:round; stroke-width:4; stroke-opacity:1; fill:none\" points=\"1527.05,859.106 1527.05,1445.72 1585.86,1445.72 1585.86,859.106 1527.05,859.106 \"/>\n",
       "<path clip-path=\"url(#clip302)\" d=\"M1585.86 1038.12 L1585.86 1445.72 L1644.67 1445.72 L1644.67 1038.12 L1585.86 1038.12 L1585.86 1038.12  Z\" fill=\"#009af9\" fill-rule=\"evenodd\" fill-opacity=\"1\"/>\n",
       "<polyline clip-path=\"url(#clip302)\" style=\"stroke:#000000; stroke-linecap:round; stroke-linejoin:round; stroke-width:4; stroke-opacity:1; fill:none\" points=\"1585.86,1038.12 1585.86,1445.72 1644.67,1445.72 1644.67,1038.12 1585.86,1038.12 \"/>\n",
       "<path clip-path=\"url(#clip302)\" d=\"M1644.67 1186.84 L1644.67 1445.72 L1703.49 1445.72 L1703.49 1186.84 L1644.67 1186.84 L1644.67 1186.84  Z\" fill=\"#009af9\" fill-rule=\"evenodd\" fill-opacity=\"1\"/>\n",
       "<polyline clip-path=\"url(#clip302)\" style=\"stroke:#000000; stroke-linecap:round; stroke-linejoin:round; stroke-width:4; stroke-opacity:1; fill:none\" points=\"1644.67,1186.84 1644.67,1445.72 1703.49,1445.72 1703.49,1186.84 1644.67,1186.84 \"/>\n",
       "<path clip-path=\"url(#clip302)\" d=\"M1703.49 1225.39 L1703.49 1445.72 L1762.3 1445.72 L1762.3 1225.39 L1703.49 1225.39 L1703.49 1225.39  Z\" fill=\"#009af9\" fill-rule=\"evenodd\" fill-opacity=\"1\"/>\n",
       "<polyline clip-path=\"url(#clip302)\" style=\"stroke:#000000; stroke-linecap:round; stroke-linejoin:round; stroke-width:4; stroke-opacity:1; fill:none\" points=\"1703.49,1225.39 1703.49,1445.72 1762.3,1445.72 1762.3,1225.39 1703.49,1225.39 \"/>\n",
       "<path clip-path=\"url(#clip302)\" d=\"M1762.3 1313.52 L1762.3 1445.72 L1821.12 1445.72 L1821.12 1313.52 L1762.3 1313.52 L1762.3 1313.52  Z\" fill=\"#009af9\" fill-rule=\"evenodd\" fill-opacity=\"1\"/>\n",
       "<polyline clip-path=\"url(#clip302)\" style=\"stroke:#000000; stroke-linecap:round; stroke-linejoin:round; stroke-width:4; stroke-opacity:1; fill:none\" points=\"1762.3,1313.52 1762.3,1445.72 1821.12,1445.72 1821.12,1313.52 1762.3,1313.52 \"/>\n",
       "<path clip-path=\"url(#clip302)\" d=\"M1821.12 1352.08 L1821.12 1445.72 L1879.93 1445.72 L1879.93 1352.08 L1821.12 1352.08 L1821.12 1352.08  Z\" fill=\"#009af9\" fill-rule=\"evenodd\" fill-opacity=\"1\"/>\n",
       "<polyline clip-path=\"url(#clip302)\" style=\"stroke:#000000; stroke-linecap:round; stroke-linejoin:round; stroke-width:4; stroke-opacity:1; fill:none\" points=\"1821.12,1352.08 1821.12,1445.72 1879.93,1445.72 1879.93,1352.08 1821.12,1352.08 \"/>\n",
       "<path clip-path=\"url(#clip302)\" d=\"M1879.93 1379.62 L1879.93 1445.72 L1938.74 1445.72 L1938.74 1379.62 L1879.93 1379.62 L1879.93 1379.62  Z\" fill=\"#009af9\" fill-rule=\"evenodd\" fill-opacity=\"1\"/>\n",
       "<polyline clip-path=\"url(#clip302)\" style=\"stroke:#000000; stroke-linecap:round; stroke-linejoin:round; stroke-width:4; stroke-opacity:1; fill:none\" points=\"1879.93,1379.62 1879.93,1445.72 1938.74,1445.72 1938.74,1379.62 1879.93,1379.62 \"/>\n",
       "<path clip-path=\"url(#clip302)\" d=\"M1938.74 1423.68 L1938.74 1445.72 L1997.56 1445.72 L1997.56 1423.68 L1938.74 1423.68 L1938.74 1423.68  Z\" fill=\"#009af9\" fill-rule=\"evenodd\" fill-opacity=\"1\"/>\n",
       "<polyline clip-path=\"url(#clip302)\" style=\"stroke:#000000; stroke-linecap:round; stroke-linejoin:round; stroke-width:4; stroke-opacity:1; fill:none\" points=\"1938.74,1423.68 1938.74,1445.72 1997.56,1445.72 1997.56,1423.68 1938.74,1423.68 \"/>\n",
       "<path clip-path=\"url(#clip302)\" d=\"M1997.56 1412.67 L1997.56 1445.72 L2056.37 1445.72 L2056.37 1412.67 L1997.56 1412.67 L1997.56 1412.67  Z\" fill=\"#009af9\" fill-rule=\"evenodd\" fill-opacity=\"1\"/>\n",
       "<polyline clip-path=\"url(#clip302)\" style=\"stroke:#000000; stroke-linecap:round; stroke-linejoin:round; stroke-width:4; stroke-opacity:1; fill:none\" points=\"1997.56,1412.67 1997.56,1445.72 2056.37,1445.72 2056.37,1412.67 1997.56,1412.67 \"/>\n",
       "<path clip-path=\"url(#clip302)\" d=\"M2056.37 1431.95 L2056.37 1445.72 L2115.18 1445.72 L2115.18 1431.95 L2056.37 1431.95 L2056.37 1431.95  Z\" fill=\"#009af9\" fill-rule=\"evenodd\" fill-opacity=\"1\"/>\n",
       "<polyline clip-path=\"url(#clip302)\" style=\"stroke:#000000; stroke-linecap:round; stroke-linejoin:round; stroke-width:4; stroke-opacity:1; fill:none\" points=\"2056.37,1431.95 2056.37,1445.72 2115.18,1445.72 2115.18,1431.95 2056.37,1431.95 \"/>\n",
       "<path clip-path=\"url(#clip302)\" d=\"M2115.18 1442.96 L2115.18 1445.72 L2174 1445.72 L2174 1442.96 L2115.18 1442.96 L2115.18 1442.96  Z\" fill=\"#009af9\" fill-rule=\"evenodd\" fill-opacity=\"1\"/>\n",
       "<polyline clip-path=\"url(#clip302)\" style=\"stroke:#000000; stroke-linecap:round; stroke-linejoin:round; stroke-width:4; stroke-opacity:1; fill:none\" points=\"2115.18,1442.96 2115.18,1445.72 2174,1445.72 2174,1442.96 2115.18,1442.96 \"/>\n",
       "<path clip-path=\"url(#clip302)\" d=\"M2174 1440.21 L2174 1445.72 L2232.81 1445.72 L2232.81 1440.21 L2174 1440.21 L2174 1440.21  Z\" fill=\"#009af9\" fill-rule=\"evenodd\" fill-opacity=\"1\"/>\n",
       "<polyline clip-path=\"url(#clip302)\" style=\"stroke:#000000; stroke-linecap:round; stroke-linejoin:round; stroke-width:4; stroke-opacity:1; fill:none\" points=\"2174,1440.21 2174,1445.72 2232.81,1445.72 2232.81,1440.21 2174,1440.21 \"/>\n",
       "<circle clip-path=\"url(#clip302)\" style=\"fill:#009af9; stroke:none; fill-opacity:0\" cx=\"321.366\" cy=\"1442.96\" r=\"2\"/>\n",
       "<circle clip-path=\"url(#clip302)\" style=\"fill:#009af9; stroke:none; fill-opacity:0\" cx=\"380.18\" cy=\"1442.96\" r=\"2\"/>\n",
       "<circle clip-path=\"url(#clip302)\" style=\"fill:#009af9; stroke:none; fill-opacity:0\" cx=\"438.994\" cy=\"1437.45\" r=\"2\"/>\n",
       "<circle clip-path=\"url(#clip302)\" style=\"fill:#009af9; stroke:none; fill-opacity:0\" cx=\"497.807\" cy=\"1429.19\" r=\"2\"/>\n",
       "<circle clip-path=\"url(#clip302)\" style=\"fill:#009af9; stroke:none; fill-opacity:0\" cx=\"556.621\" cy=\"1412.67\" r=\"2\"/>\n",
       "<circle clip-path=\"url(#clip302)\" style=\"fill:#009af9; stroke:none; fill-opacity:0\" cx=\"615.435\" cy=\"1396.14\" r=\"2\"/>\n",
       "<circle clip-path=\"url(#clip302)\" style=\"fill:#009af9; stroke:none; fill-opacity:0\" cx=\"674.248\" cy=\"1313.52\" r=\"2\"/>\n",
       "<circle clip-path=\"url(#clip302)\" style=\"fill:#009af9; stroke:none; fill-opacity:0\" cx=\"733.062\" cy=\"1239.16\" r=\"2\"/>\n",
       "<circle clip-path=\"url(#clip302)\" style=\"fill:#009af9; stroke:none; fill-opacity:0\" cx=\"791.876\" cy=\"1129\" r=\"2\"/>\n",
       "<circle clip-path=\"url(#clip302)\" style=\"fill:#009af9; stroke:none; fill-opacity:0\" cx=\"850.69\" cy=\"1060.15\" r=\"2\"/>\n",
       "<circle clip-path=\"url(#clip302)\" style=\"fill:#009af9; stroke:none; fill-opacity:0\" cx=\"909.503\" cy=\"892.155\" r=\"2\"/>\n",
       "<circle clip-path=\"url(#clip302)\" style=\"fill:#009af9; stroke:none; fill-opacity:0\" cx=\"968.317\" cy=\"743.437\" r=\"2\"/>\n",
       "<circle clip-path=\"url(#clip302)\" style=\"fill:#009af9; stroke:none; fill-opacity:0\" cx=\"1027.13\" cy=\"473.541\" r=\"2\"/>\n",
       "<circle clip-path=\"url(#clip302)\" style=\"fill:#009af9; stroke:none; fill-opacity:0\" cx=\"1085.94\" cy=\"388.166\" r=\"2\"/>\n",
       "<circle clip-path=\"url(#clip302)\" style=\"fill:#009af9; stroke:none; fill-opacity:0\" cx=\"1144.76\" cy=\"300.037\" r=\"2\"/>\n",
       "<circle clip-path=\"url(#clip302)\" style=\"fill:#009af9; stroke:none; fill-opacity:0\" cx=\"1203.57\" cy=\"87.9763\" r=\"2\"/>\n",
       "<circle clip-path=\"url(#clip302)\" style=\"fill:#009af9; stroke:none; fill-opacity:0\" cx=\"1262.39\" cy=\"289.021\" r=\"2\"/>\n",
       "<circle clip-path=\"url(#clip302)\" style=\"fill:#009af9; stroke:none; fill-opacity:0\" cx=\"1321.2\" cy=\"382.658\" r=\"2\"/>\n",
       "<circle clip-path=\"url(#clip302)\" style=\"fill:#009af9; stroke:none; fill-opacity:0\" cx=\"1380.01\" cy=\"341.348\" r=\"2\"/>\n",
       "<circle clip-path=\"url(#clip302)\" style=\"fill:#009af9; stroke:none; fill-opacity:0\" cx=\"1438.83\" cy=\"597.473\" r=\"2\"/>\n",
       "<circle clip-path=\"url(#clip302)\" style=\"fill:#009af9; stroke:none; fill-opacity:0\" cx=\"1497.64\" cy=\"633.275\" r=\"2\"/>\n",
       "<circle clip-path=\"url(#clip302)\" style=\"fill:#009af9; stroke:none; fill-opacity:0\" cx=\"1556.45\" cy=\"859.106\" r=\"2\"/>\n",
       "<circle clip-path=\"url(#clip302)\" style=\"fill:#009af9; stroke:none; fill-opacity:0\" cx=\"1615.27\" cy=\"1038.12\" r=\"2\"/>\n",
       "<circle clip-path=\"url(#clip302)\" style=\"fill:#009af9; stroke:none; fill-opacity:0\" cx=\"1674.08\" cy=\"1186.84\" r=\"2\"/>\n",
       "<circle clip-path=\"url(#clip302)\" style=\"fill:#009af9; stroke:none; fill-opacity:0\" cx=\"1732.89\" cy=\"1225.39\" r=\"2\"/>\n",
       "<circle clip-path=\"url(#clip302)\" style=\"fill:#009af9; stroke:none; fill-opacity:0\" cx=\"1791.71\" cy=\"1313.52\" r=\"2\"/>\n",
       "<circle clip-path=\"url(#clip302)\" style=\"fill:#009af9; stroke:none; fill-opacity:0\" cx=\"1850.52\" cy=\"1352.08\" r=\"2\"/>\n",
       "<circle clip-path=\"url(#clip302)\" style=\"fill:#009af9; stroke:none; fill-opacity:0\" cx=\"1909.34\" cy=\"1379.62\" r=\"2\"/>\n",
       "<circle clip-path=\"url(#clip302)\" style=\"fill:#009af9; stroke:none; fill-opacity:0\" cx=\"1968.15\" cy=\"1423.68\" r=\"2\"/>\n",
       "<circle clip-path=\"url(#clip302)\" style=\"fill:#009af9; stroke:none; fill-opacity:0\" cx=\"2026.96\" cy=\"1412.67\" r=\"2\"/>\n",
       "<circle clip-path=\"url(#clip302)\" style=\"fill:#009af9; stroke:none; fill-opacity:0\" cx=\"2085.78\" cy=\"1431.95\" r=\"2\"/>\n",
       "<circle clip-path=\"url(#clip302)\" style=\"fill:#009af9; stroke:none; fill-opacity:0\" cx=\"2144.59\" cy=\"1442.96\" r=\"2\"/>\n",
       "<circle clip-path=\"url(#clip302)\" style=\"fill:#009af9; stroke:none; fill-opacity:0\" cx=\"2203.4\" cy=\"1440.21\" r=\"2\"/>\n",
       "<path clip-path=\"url(#clip300)\" d=\"M2009.56 198.898 L2280.06 198.898 L2280.06 95.2176 L2009.56 95.2176  Z\" fill=\"#ffffff\" fill-rule=\"evenodd\" fill-opacity=\"1\"/>\n",
       "<polyline clip-path=\"url(#clip300)\" style=\"stroke:#000000; stroke-linecap:round; stroke-linejoin:round; stroke-width:4; stroke-opacity:1; fill:none\" points=\"2009.56,198.898 2280.06,198.898 2280.06,95.2176 2009.56,95.2176 2009.56,198.898 \"/>\n",
       "<path clip-path=\"url(#clip300)\" d=\"M2033.79 167.794 L2179.17 167.794 L2179.17 126.322 L2033.79 126.322 L2033.79 167.794  Z\" fill=\"#009af9\" fill-rule=\"evenodd\" fill-opacity=\"1\"/>\n",
       "<polyline clip-path=\"url(#clip300)\" style=\"stroke:#000000; stroke-linecap:round; stroke-linejoin:round; stroke-width:4; stroke-opacity:1; fill:none\" points=\"2033.79,167.794 2179.17,167.794 2179.17,126.322 2033.79,126.322 2033.79,167.794 \"/>\n",
       "<path clip-path=\"url(#clip300)\" d=\"M2217.25 166.745 Q2215.44 171.375 2213.73 172.787 Q2212.01 174.199 2209.14 174.199 L2205.74 174.199 L2205.74 170.634 L2208.24 170.634 Q2210 170.634 2210.97 169.8 Q2211.95 168.967 2213.13 165.865 L2213.89 163.921 L2203.4 138.412 L2207.92 138.412 L2216.02 158.689 L2224.12 138.412 L2228.64 138.412 L2217.25 166.745 Z\" fill=\"#000000\" fill-rule=\"nonzero\" fill-opacity=\"1\" /><path clip-path=\"url(#clip300)\" d=\"M2235.93 160.402 L2243.57 160.402 L2243.57 134.037 L2235.26 135.703 L2235.26 131.444 L2243.52 129.778 L2248.2 129.778 L2248.2 160.402 L2255.83 160.402 L2255.83 164.338 L2235.93 164.338 L2235.93 160.402 Z\" fill=\"#000000\" fill-rule=\"nonzero\" fill-opacity=\"1\" /></svg>\n"
      ]
     },
     "execution_count": 27,
     "metadata": {},
     "output_type": "execute_result"
    }
   ],
   "source": [
    "histogram(test[3])"
   ]
  },
  {
   "cell_type": "markdown",
   "id": "boring-variety",
   "metadata": {},
   "source": [
    "## Can now see the bootstrapped stds for everything"
   ]
  },
  {
   "cell_type": "code",
   "execution_count": 35,
   "id": "potential-campaign",
   "metadata": {},
   "outputs": [
    {
     "data": {
      "text/plain": [
       "3-element Vector{Float64}:\n",
       " 0.0012944543324093665\n",
       " 0.0008691122893669178\n",
       " 0.00035717750319579696"
      ]
     },
     "execution_count": 35,
     "metadata": {},
     "output_type": "execute_result"
    }
   ],
   "source": [
    "bs1samp = bootstrap_samps(n_ints[1],c_ints[1],n_vols[1],Ns[1])\n",
    "c1var = var(bs1samp[1]); ffn1var = var(bs1samp[2]); ffc1var = var(bs1samp[3]);\n",
    "[c1var,ffn1var,ffc1var].^1/2"
   ]
  },
  {
   "cell_type": "code",
   "execution_count": 36,
   "id": "vulnerable-cisco",
   "metadata": {},
   "outputs": [
    {
     "data": {
      "text/plain": [
       "3-element Vector{Float64}:\n",
       " 0.0008812115899727333\n",
       " 0.0005759451133844373\n",
       " 0.0005468310855073908"
      ]
     },
     "execution_count": 36,
     "metadata": {},
     "output_type": "execute_result"
    }
   ],
   "source": [
    "bs2samp = bootstrap_samps(n_ints[2],c_ints[2],n_vols[2],Ns[2])\n",
    "c2var = var(bs2samp[1]); ffn2var = var(bs2samp[2]); ffc2var = var(bs2samp[3]);\n",
    "[c2var,ffn2var,ffc2var].^1/2"
   ]
  },
  {
   "cell_type": "code",
   "execution_count": 37,
   "id": "suspended-tonight",
   "metadata": {},
   "outputs": [
    {
     "data": {
      "text/plain": [
       "3-element Vector{Float64}:\n",
       " 0.0006792175099262512\n",
       " 0.00038133491212896805\n",
       " 0.00023854006755847325"
      ]
     },
     "execution_count": 37,
     "metadata": {},
     "output_type": "execute_result"
    }
   ],
   "source": [
    "bs3samp = bootstrap_samps(n_ints[3],c_ints[3],n_vols[3],Ns[3])\n",
    "c3var = var(bs3samp[1]); ffn3var = var(bs3samp[2]); ffc3var = var(bs3samp[3]);\n",
    "[c3var,ffn3var,ffc3var].^1/2"
   ]
  },
  {
   "cell_type": "code",
   "execution_count": 38,
   "id": "indie-collins",
   "metadata": {},
   "outputs": [
    {
     "data": {
      "text/plain": [
       "3-element Vector{Float64}:\n",
       " 0.0005545604525713435\n",
       " 0.0005586469600258649\n",
       " 0.000180552223878075"
      ]
     },
     "execution_count": 38,
     "metadata": {},
     "output_type": "execute_result"
    }
   ],
   "source": [
    "bs4samp = bootstrap_samps(n_ints[4],c_ints[4],n_vols[4],Ns[4])\n",
    "c4var = var(bs4samp[1]); ffn4var = var(bs4samp[2]); ffc4var = var(bs4samp[3]);\n",
    "[c4var,ffn4var,ffc4var].^1/2"
   ]
  },
  {
   "cell_type": "code",
   "execution_count": null,
   "id": "western-wireless",
   "metadata": {},
   "outputs": [],
   "source": []
  },
  {
   "cell_type": "code",
   "execution_count": null,
   "id": "coral-startup",
   "metadata": {},
   "outputs": [],
   "source": []
  },
  {
   "cell_type": "code",
   "execution_count": null,
   "id": "consolidated-stewart",
   "metadata": {},
   "outputs": [],
   "source": []
  },
  {
   "cell_type": "code",
   "execution_count": null,
   "id": "micro-beatles",
   "metadata": {},
   "outputs": [],
   "source": []
  }
 ],
 "metadata": {
  "kernelspec": {
   "display_name": "Julia 1.8.5",
   "language": "julia",
   "name": "julia-1.8"
  },
  "language_info": {
   "file_extension": ".jl",
   "mimetype": "application/julia",
   "name": "julia",
   "version": "1.8.5"
  }
 },
 "nbformat": 4,
 "nbformat_minor": 5
}
