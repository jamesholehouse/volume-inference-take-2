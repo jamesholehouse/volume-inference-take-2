{
 "cells": [
  {
   "cell_type": "markdown",
   "id": "outstanding-project",
   "metadata": {},
   "source": [
    "# Bootstrapping for each replicate"
   ]
  },
  {
   "cell_type": "markdown",
   "id": "0f703048",
   "metadata": {},
   "source": [
    "## Data analysis: Linear model fit and volume corrected moments"
   ]
  },
  {
   "cell_type": "code",
   "execution_count": 3,
   "id": "aa1a2211",
   "metadata": {},
   "outputs": [],
   "source": [
    "using Random, Plots, Distributions, StatsBase, DataFrames, CSV, Plots.PlotMeasures"
   ]
  },
  {
   "cell_type": "code",
   "execution_count": 12,
   "id": "0807513e",
   "metadata": {},
   "outputs": [],
   "source": [
    "df = DataFrame(CSV.File(\"FISH_toShare_NoTSlabel_celldata_long_220620_simple_woMad3Outlier_withColDescription.csv\"));"
   ]
  },
  {
   "cell_type": "code",
   "execution_count": 13,
   "id": "84235298",
   "metadata": {},
   "outputs": [],
   "source": [
    "names(df);"
   ]
  },
  {
   "cell_type": "code",
   "execution_count": 14,
   "id": "4314d2be",
   "metadata": {},
   "outputs": [],
   "source": [
    "df = df[:,[:sampleID,:gene,:NucleiCount,:Compartment,:CountMethod,:RNAperCell,:Cell_Length_um]];"
   ]
  },
  {
   "cell_type": "code",
   "execution_count": 15,
   "id": "7ee07693",
   "metadata": {},
   "outputs": [],
   "source": [
    "# filter only for mad1WTGFP and NucleiCount = 1\n",
    "dfa = subset(df, :gene => g -> g.==\"mad1WTymEGFP\", :NucleiCount => n -> n.==1)\n",
    "# make cyto and nuc table separately.\n",
    "dfcyto = subset(dfa, :Compartment=>c->c.==\"Cytoplasm\")\n",
    "dfnuc = subset(dfa, :Compartment=>c->c.==\"Nucleus\")\n",
    "# separate the 4 different samples\n",
    "dfsN = [];dfsC = [];\n",
    "samples = unique(dfa[!,:sampleID])\n",
    "# add each to the vectors\n",
    "for i in 1:4\n",
    "    samp = samples[1]\n",
    "    dftempN = subset(dfnuc, :sampleID=>S->S.==samples[i])\n",
    "    dftempC = subset(dfcyto, :sampleID=>S->S.==samples[i])\n",
    "    push!(dfsN,dftempN)\n",
    "    push!(dfsC,dftempC)\n",
    "end"
   ]
  },
  {
   "cell_type": "code",
   "execution_count": 16,
   "id": "e69bc2bc",
   "metadata": {},
   "outputs": [],
   "source": [
    "dfsC;"
   ]
  },
  {
   "cell_type": "markdown",
   "id": "2b9d417a",
   "metadata": {},
   "source": [
    "If the moments I find differ from this then I know there's an issue! Let's collect the columns corresponding to the nuclear and cytoplasmic volumes and **counts** respectively."
   ]
  },
  {
   "cell_type": "code",
   "execution_count": 17,
   "id": "405f8b9b",
   "metadata": {},
   "outputs": [
    {
     "data": {
      "text/plain": [
       "7-element Vector{String}:\n",
       " \"sampleID\"\n",
       " \"gene\"\n",
       " \"NucleiCount\"\n",
       " \"Compartment\"\n",
       " \"CountMethod\"\n",
       " \"RNAperCell\"\n",
       " \"Cell_Length_um\""
      ]
     },
     "execution_count": 17,
     "metadata": {},
     "output_type": "execute_result"
    }
   ],
   "source": [
    "names(dfsC[1])"
   ]
  },
  {
   "cell_type": "code",
   "execution_count": 18,
   "id": "ea7653ed",
   "metadata": {},
   "outputs": [],
   "source": [
    "n_vols = [dfsN[i][!,:Cell_Length_um] for i in 1:4]\n",
    "c_vols = [dfsC[i][!,:Cell_Length_um] for i in 1:4]\n",
    "n_ints = [dfsN[i][!,:RNAperCell] for i in 1:4]\n",
    "c_ints = [dfsC[i][!,:RNAperCell] for i in 1:4];"
   ]
  },
  {
   "cell_type": "code",
   "execution_count": 19,
   "id": "d32e9d02",
   "metadata": {},
   "outputs": [],
   "source": [
    "Ns = [length(c_ints[i]) for i in 1:4];"
   ]
  },
  {
   "cell_type": "markdown",
   "id": "11d027b7",
   "metadata": {},
   "source": [
    "For the linear model fits we use the Julia package GLM. This is a very convenient and fast way to construct linear models."
   ]
  },
  {
   "cell_type": "code",
   "execution_count": 20,
   "id": "552f3e83",
   "metadata": {},
   "outputs": [],
   "source": [
    "using GLM"
   ]
  },
  {
   "cell_type": "markdown",
   "id": "e0cc9bc2",
   "metadata": {},
   "source": [
    "Perform the linear model fits. Note in the below that our fitting parameters are stored in `npar` and `cpar` in the order `[intercept, gradient]`."
   ]
  },
  {
   "cell_type": "code",
   "execution_count": 21,
   "id": "9bbfc111",
   "metadata": {},
   "outputs": [
    {
     "data": {
      "text/plain": [
       "4-element Vector{Float64}:\n",
       " 0.6037905581610079\n",
       " 0.46608863627967206\n",
       " 0.4796026025612281\n",
       " 0.37971856092997336"
      ]
     },
     "execution_count": 21,
     "metadata": {},
     "output_type": "execute_result"
    }
   ],
   "source": [
    "nlms = [lm(@formula(RNAperCell ~ Cell_Length_um), dfsN[i]) for i in 1:4]\n",
    "npars = [coef(nlms[i]) for i in 1:4]\n",
    "cs = hcat(npars...)[1,:]; ds = hcat(npars...)[2,:]\n",
    "clms = [lm(@formula(RNAperCell ~ Cell_Length_um), dfsC[i]) for i in 1:4]\n",
    "cpars = [coef(clms[i]) for i in 1:4]\n",
    "as = hcat(cpars...)[1,:]; bs = hcat(cpars...)[2,:]"
   ]
  },
  {
   "cell_type": "markdown",
   "id": "8a39fa7a",
   "metadata": {},
   "source": [
    "A quick look at the linear model fit itself will tell us some properties of the fit."
   ]
  },
  {
   "cell_type": "code",
   "execution_count": 22,
   "id": "1c63acbb",
   "metadata": {},
   "outputs": [
    {
     "data": {
      "text/plain": [
       "StatsModels.TableRegressionModel{LinearModel{GLM.LmResp{Vector{Float64}}, GLM.DensePredChol{Float64, LinearAlgebra.CholeskyPivoted{Float64, Matrix{Float64}, Vector{Int64}}}}, Matrix{Float64}}\n",
       "\n",
       "RNAperCell ~ 1 + Cell_Length_um\n",
       "\n",
       "Coefficients:\n",
       "─────────────────────────────────────────────────────────────────────────────\n",
       "                    Coef.  Std. Error       t  Pr(>|t|)  Lower 95%  Upper 95%\n",
       "─────────────────────────────────────────────────────────────────────────────\n",
       "(Intercept)     -3.16679    0.240588   -13.16    <1e-36  -3.63882   -2.69475\n",
       "Cell_Length_um   0.603791   0.0228683   26.40    <1e-99   0.558923   0.648658\n",
       "─────────────────────────────────────────────────────────────────────────────"
      ]
     },
     "execution_count": 22,
     "metadata": {},
     "output_type": "execute_result"
    }
   ],
   "source": [
    "clms[1]"
   ]
  },
  {
   "cell_type": "markdown",
   "id": "fe494940",
   "metadata": {},
   "source": [
    "Now, to construct the volume corrected moments we first need to know the mean values for the volumes and intensities. Collect these from the data."
   ]
  },
  {
   "cell_type": "code",
   "execution_count": 23,
   "id": "f7b86a0c",
   "metadata": {},
   "outputs": [
    {
     "data": {
      "text/plain": [
       "4-element Vector{Float64}:\n",
       " 3.094988234996555\n",
       " 2.6687301433055026\n",
       " 2.9580443633353566\n",
       " 2.610546234022337"
      ]
     },
     "execution_count": 23,
     "metadata": {},
     "output_type": "execute_result"
    }
   ],
   "source": [
    "n_vol_avgs = [mean(n_vols[i]) for i in 1:4]\n",
    "c_vol_avgs = [mean(c_vols[i]) for i in 1:4]\n",
    "n_avgs = [mean(n_ints[i]) for i in 1:4]\n",
    "c_avgs = [mean(c_ints[i]) for i in 1:4]"
   ]
  },
  {
   "cell_type": "markdown",
   "id": "cad2ffea",
   "metadata": {},
   "source": [
    "Note that even the means of the cytoplasmic can vary quite significantly between the replicates. As can the observed mean cell volumes in each experiment."
   ]
  },
  {
   "cell_type": "markdown",
   "id": "86b0a1ba",
   "metadata": {},
   "source": [
    "We know theoretically that to first order volume corrections to the means are nil. Let's just clarify this."
   ]
  },
  {
   "cell_type": "code",
   "execution_count": 24,
   "id": "ae9e3336",
   "metadata": {},
   "outputs": [
    {
     "data": {
      "text/plain": [
       "4-element Vector{Float64}:\n",
       " 0.024634400218522125\n",
       " 0.05869752331164149\n",
       " 0.04127424654051097\n",
       " 0.01671396006187003"
      ]
     },
     "execution_count": 24,
     "metadata": {},
     "output_type": "execute_result"
    }
   ],
   "source": [
    "ds"
   ]
  },
  {
   "cell_type": "code",
   "execution_count": 25,
   "id": "af7ad26b",
   "metadata": {},
   "outputs": [
    {
     "data": {
      "text/plain": [
       "4-element Vector{Float64}:\n",
       " 3.094988234996555\n",
       " 2.668730143305501\n",
       " 2.958044363335355\n",
       " 2.610546234022334"
      ]
     },
     "execution_count": 25,
     "metadata": {},
     "output_type": "execute_result"
    }
   ],
   "source": [
    "vc_mean_ns = [cs[i] + n_vol_avgs[i]*ds[i] for i in 1:4]\n",
    "vc_mean_cs = [as[i] + c_vol_avgs[i]*bs[i] for i in 1:4]\n",
    "# vc_mean_cs = a + c_vol_avg*b"
   ]
  },
  {
   "cell_type": "code",
   "execution_count": 26,
   "id": "6331c0e6",
   "metadata": {},
   "outputs": [],
   "source": [
    "μ20s = [moment(n_ints[i], 2, n_avgs[i]) for i in 1:4];\n",
    "μ02s = [moment(c_ints[i], 2, c_avgs[i]) for i in 1:4];\n",
    "μ20Ωs = [moment(n_vols[i], 2, n_vol_avgs[i]) for i in 1:4];\n",
    "μ02Ωs = [moment(c_vols[i], 2, c_vol_avgs[i]) for i in 1:4];"
   ]
  },
  {
   "cell_type": "code",
   "execution_count": 27,
   "id": "21e86d08",
   "metadata": {},
   "outputs": [],
   "source": [
    "μ20s_i = [μ20s[i] - ds[i]^2 * μ20Ωs[i] for i in 1:4]\n",
    "μ02s_i = [μ02s[i] - bs[i]^2 * μ02Ωs[i] for i in 1:4];"
   ]
  },
  {
   "cell_type": "markdown",
   "id": "4e37cbc0",
   "metadata": {},
   "source": [
    "Clearly the volume corrected means are simply the means if one averaged over the data. Can now store the values for the VC FF's along with the mean cyto #."
   ]
  },
  {
   "cell_type": "code",
   "execution_count": 28,
   "id": "48999c0e",
   "metadata": {},
   "outputs": [
    {
     "data": {
      "text/plain": [
       "4-element Vector{Float64}:\n",
       " 0.9558150606258131\n",
       " 0.9926999917678184\n",
       " 0.9744213797386199\n",
       " 0.997142602245176"
      ]
     },
     "execution_count": 28,
     "metadata": {},
     "output_type": "execute_result"
    }
   ],
   "source": [
    "nuc_FFs = μ20s_i./vc_mean_ns"
   ]
  },
  {
   "cell_type": "code",
   "execution_count": 29,
   "id": "dff707ae",
   "metadata": {},
   "outputs": [
    {
     "data": {
      "text/plain": [
       "4-element Vector{Float64}:\n",
       " 0.6129543833434689\n",
       " 0.7557568194063666\n",
       " 0.6613100531460392\n",
       " 0.5879024967862935"
      ]
     },
     "execution_count": 29,
     "metadata": {},
     "output_type": "execute_result"
    }
   ],
   "source": [
    "cyto_FFs = μ02s_i./vc_mean_cs"
   ]
  },
  {
   "cell_type": "code",
   "execution_count": 30,
   "id": "d251eb27",
   "metadata": {},
   "outputs": [
    {
     "data": {
      "text/plain": [
       "4-element Vector{Float64}:\n",
       " 3.094988234996555\n",
       " 2.668730143305501\n",
       " 2.958044363335355\n",
       " 2.610546234022334"
      ]
     },
     "execution_count": 30,
     "metadata": {},
     "output_type": "execute_result"
    }
   ],
   "source": [
    "cyto_means = vc_mean_cs"
   ]
  },
  {
   "cell_type": "markdown",
   "id": "fundamental-eligibility",
   "metadata": {},
   "source": [
    "# Now for the bootstraps"
   ]
  },
  {
   "cell_type": "code",
   "execution_count": 31,
   "id": "charged-adjustment",
   "metadata": {},
   "outputs": [
    {
     "data": {
      "text/plain": [
       "1-element Vector{Int64}:\n",
       " 1"
      ]
     },
     "execution_count": 31,
     "metadata": {},
     "output_type": "execute_result"
    }
   ],
   "source": [
    "sample([1,2,3],1)"
   ]
  },
  {
   "cell_type": "code",
   "execution_count": 32,
   "id": "outdoor-inclusion",
   "metadata": {},
   "outputs": [
    {
     "data": {
      "text/plain": [
       "3-element Vector{Int64}:\n",
       " 1\n",
       " 2\n",
       " 4"
      ]
     },
     "execution_count": 32,
     "metadata": {},
     "output_type": "execute_result"
    }
   ],
   "source": [
    "test = [1,2,4]"
   ]
  },
  {
   "cell_type": "code",
   "execution_count": 33,
   "id": "capable-petroleum",
   "metadata": {},
   "outputs": [
    {
     "data": {
      "text/plain": [
       "2-element Vector{Int64}:\n",
       " 1\n",
       " 4"
      ]
     },
     "execution_count": 33,
     "metadata": {},
     "output_type": "execute_result"
    }
   ],
   "source": [
    "test[[1,3]]"
   ]
  },
  {
   "cell_type": "code",
   "execution_count": null,
   "id": "dangerous-chest",
   "metadata": {},
   "outputs": [],
   "source": [
    "nlms = [lm(@formula(RNAperCell ~ Cell_Length_um), dfsN[i]) for i in 1:4]\n",
    "npars = [coef(nlms[i]) for i in 1:4]\n",
    "cs = hcat(npars...)[1,:]; ds = hcat(npars...)[2,:]\n",
    "clms = [lm(@formula(RNAperCell ~ Cell_Length_um), dfsC[i]) for i in 1:4]\n",
    "cpars = [coef(clms[i]) for i in 1:4]\n",
    "as = hcat(cpars...)[1,:]; bs = hcat(cpars...)[2,:]"
   ]
  },
  {
   "cell_type": "code",
   "execution_count": 67,
   "id": "mysterious-mount",
   "metadata": {
    "scrolled": true
   },
   "outputs": [
    {
     "data": {
      "text/plain": [
       "([2.999257260125949, 2.9868183372513917, 2.9636880402367227, 2.9324747372756708, 2.932389966552352, 3.022164696837127, 2.9282858887137078, 2.9540644179969653, 2.9477042943707636, 2.936651488265048  …  3.0706890119312096, 2.974553326049064, 2.932405692726859, 2.978674355313606, 2.9580700753970666, 2.969438209607486, 2.8860261438148713, 2.93944613293829, 2.9575725953995953, 2.974057167148204], [0.960977492633324, 0.9516611027984391, 0.9664219923047034, 0.9711054470318671, 0.9610007774260575, 0.9507164421630734, 0.9266674824618082, 0.936608123918636, 0.9484498689117954, 0.9768579624009208  …  0.9776602723310677, 0.9786388913603165, 0.9512609950110915, 0.9576807725082215, 0.973301338521062, 0.9820266776963988, 0.9589289983515014, 1.0239767548963579, 0.9625402853528937, 0.9644524100445278], [0.662897350751163, 0.6587729241846684, 0.6533436091733598, 0.6558102774192841, 0.6639117601107475, 0.6997488303206039, 0.6520771624318812, 0.6477442782618903, 0.7080464664025722, 0.6659756883981464  …  0.6429615067984695, 0.6427515303172565, 0.6538280432981811, 0.6542368448166925, 0.6845617078402987, 0.674724796210796, 0.6898131758628795, 0.6743486584771917, 0.6746748897219159, 0.6483901914172706])"
      ]
     },
     "execution_count": 67,
     "metadata": {},
     "output_type": "execute_result"
    }
   ],
   "source": [
    "function bootstrap_samps(n_pop,c_pop,v_pop,N)\n",
    "    if length(n_pop)!=length(c_pop)\n",
    "        return error(\"args must be the same length\")\n",
    "    end\n",
    "    # make an array of all the indices\n",
    "    all_inds = collect(1:1:length(n_pop))\n",
    "    samps = [sort(sample(all_inds,N)) for i in 1:5000]\n",
    "    n_samps = [n_pop[samps[i]] for i in 1:5000]\n",
    "    c_samps = [c_pop[samps[i]] for i in 1:5000]\n",
    "    v_samps = [v_pop[samps[i]] for i in 1:5000]\n",
    "    meanCs = zeros(5000); ffNs = zeros(5000); ffCs = zeros(5000);\n",
    "    # for each bootstrapped sample we now need the vol corr moments.\n",
    "    for j in 1:5000\n",
    "        ns = n_samps[j]; cs = c_samps[j]; vs = v_samps[j];\n",
    "        dftemp = DataFrame(vol=vs,n=ns,c=cs);\n",
    "        nlm = lm(@formula(n ~ vol), dftemp);\n",
    "        npars = coef(nlm); c = npars[1]; d = npars[2];\n",
    "        clm = lm(@formula(c ~ vol), dftemp);\n",
    "        cpars = coef(clm); a = cpars[1]; b = cpars[2];\n",
    "        navg = mean(ns); cavg = mean(cs); vavg = mean(vs);\n",
    "        μ20 = moment(ns, 2, navg);\n",
    "        μ02 = moment(cs, 2, cavg);\n",
    "        μ2Ω = moment(vs, 2, vavg);\n",
    "        μ20_i = μ20 - d^2 * μ2Ω;\n",
    "        μ02_i = μ02 - b^2 * μ2Ω;\n",
    "        meanCs[j] = cavg; ffNs[j] = μ20_i/navg; ffCs[j] = μ02_i/cavg;\n",
    "    end\n",
    "    return meanCs, ffNs, ffCs\n",
    "end\n",
    "ti = 3\n",
    "test = bootstrap_samps(n_ints[3],c_ints[3],n_vols[3],Ns[3])"
   ]
  },
  {
   "cell_type": "code",
   "execution_count": 68,
   "id": "consolidated-country",
   "metadata": {},
   "outputs": [
    {
     "data": {
      "image/svg+xml": [
       "<?xml version=\"1.0\" encoding=\"utf-8\"?>\n",
       "<svg xmlns=\"http://www.w3.org/2000/svg\" xmlns:xlink=\"http://www.w3.org/1999/xlink\" width=\"600\" height=\"400\" viewBox=\"0 0 2400 1600\">\n",
       "<defs>\n",
       "  <clipPath id=\"clip790\">\n",
       "    <rect x=\"0\" y=\"0\" width=\"2400\" height=\"1600\"/>\n",
       "  </clipPath>\n",
       "</defs>\n",
       "<path clip-path=\"url(#clip790)\" d=\"M0 1600 L2400 1600 L2400 0 L0 0  Z\" fill=\"#ffffff\" fill-rule=\"evenodd\" fill-opacity=\"1\"/>\n",
       "<defs>\n",
       "  <clipPath id=\"clip791\">\n",
       "    <rect x=\"480\" y=\"0\" width=\"1681\" height=\"1600\"/>\n",
       "  </clipPath>\n",
       "</defs>\n",
       "<path clip-path=\"url(#clip790)\" d=\"M170.857 1486.45 L2352.76 1486.45 L2352.76 47.2441 L170.857 47.2441  Z\" fill=\"#ffffff\" fill-rule=\"evenodd\" fill-opacity=\"1\"/>\n",
       "<defs>\n",
       "  <clipPath id=\"clip792\">\n",
       "    <rect x=\"170\" y=\"47\" width=\"2183\" height=\"1440\"/>\n",
       "  </clipPath>\n",
       "</defs>\n",
       "<polyline clip-path=\"url(#clip792)\" style=\"stroke:#000000; stroke-linecap:round; stroke-linejoin:round; stroke-width:2; stroke-opacity:0.1; fill:none\" points=\"522.042,1486.45 522.042,47.2441 \"/>\n",
       "<polyline clip-path=\"url(#clip792)\" style=\"stroke:#000000; stroke-linecap:round; stroke-linejoin:round; stroke-width:2; stroke-opacity:0.1; fill:none\" points=\"984.395,1486.45 984.395,47.2441 \"/>\n",
       "<polyline clip-path=\"url(#clip792)\" style=\"stroke:#000000; stroke-linecap:round; stroke-linejoin:round; stroke-width:2; stroke-opacity:0.1; fill:none\" points=\"1446.75,1486.45 1446.75,47.2441 \"/>\n",
       "<polyline clip-path=\"url(#clip792)\" style=\"stroke:#000000; stroke-linecap:round; stroke-linejoin:round; stroke-width:2; stroke-opacity:0.1; fill:none\" points=\"1909.1,1486.45 1909.1,47.2441 \"/>\n",
       "<polyline clip-path=\"url(#clip790)\" style=\"stroke:#000000; stroke-linecap:round; stroke-linejoin:round; stroke-width:4; stroke-opacity:1; fill:none\" points=\"170.857,1486.45 2352.76,1486.45 \"/>\n",
       "<polyline clip-path=\"url(#clip790)\" style=\"stroke:#000000; stroke-linecap:round; stroke-linejoin:round; stroke-width:4; stroke-opacity:1; fill:none\" points=\"522.042,1486.45 522.042,1467.55 \"/>\n",
       "<polyline clip-path=\"url(#clip790)\" style=\"stroke:#000000; stroke-linecap:round; stroke-linejoin:round; stroke-width:4; stroke-opacity:1; fill:none\" points=\"984.395,1486.45 984.395,1467.55 \"/>\n",
       "<polyline clip-path=\"url(#clip790)\" style=\"stroke:#000000; stroke-linecap:round; stroke-linejoin:round; stroke-width:4; stroke-opacity:1; fill:none\" points=\"1446.75,1486.45 1446.75,1467.55 \"/>\n",
       "<polyline clip-path=\"url(#clip790)\" style=\"stroke:#000000; stroke-linecap:round; stroke-linejoin:round; stroke-width:4; stroke-opacity:1; fill:none\" points=\"1909.1,1486.45 1909.1,1467.55 \"/>\n",
       "<path clip-path=\"url(#clip790)\" d=\"M484.346 1517.37 Q480.734 1517.37 478.906 1520.93 Q477.1 1524.47 477.1 1531.6 Q477.1 1538.71 478.906 1542.27 Q480.734 1545.82 484.346 1545.82 Q487.98 1545.82 489.785 1542.27 Q491.614 1538.71 491.614 1531.6 Q491.614 1524.47 489.785 1520.93 Q487.98 1517.37 484.346 1517.37 M484.346 1513.66 Q490.156 1513.66 493.211 1518.27 Q496.29 1522.85 496.29 1531.6 Q496.29 1540.33 493.211 1544.94 Q490.156 1549.52 484.346 1549.52 Q478.535 1549.52 475.457 1544.94 Q472.401 1540.33 472.401 1531.6 Q472.401 1522.85 475.457 1518.27 Q478.535 1513.66 484.346 1513.66 Z\" fill=\"#000000\" fill-rule=\"nonzero\" fill-opacity=\"1\" /><path clip-path=\"url(#clip790)\" d=\"M504.508 1542.97 L509.392 1542.97 L509.392 1548.85 L504.508 1548.85 L504.508 1542.97 Z\" fill=\"#000000\" fill-rule=\"nonzero\" fill-opacity=\"1\" /><path clip-path=\"url(#clip790)\" d=\"M519.716 1548.13 L519.716 1543.87 Q521.475 1544.7 523.281 1545.14 Q525.086 1545.58 526.822 1545.58 Q531.452 1545.58 533.882 1542.48 Q536.336 1539.36 536.683 1533.01 Q535.341 1535.01 533.28 1536.07 Q531.22 1537.13 528.72 1537.13 Q523.535 1537.13 520.503 1534.01 Q517.494 1530.86 517.494 1525.42 Q517.494 1520.1 520.642 1516.88 Q523.79 1513.66 529.021 1513.66 Q535.017 1513.66 538.165 1518.27 Q541.336 1522.85 541.336 1531.6 Q541.336 1539.77 537.447 1544.66 Q533.581 1549.52 527.031 1549.52 Q525.271 1549.52 523.466 1549.17 Q521.66 1548.82 519.716 1548.13 M529.021 1533.48 Q532.169 1533.48 533.998 1531.32 Q535.85 1529.17 535.85 1525.42 Q535.85 1521.7 533.998 1519.54 Q532.169 1517.37 529.021 1517.37 Q525.873 1517.37 524.021 1519.54 Q522.193 1521.7 522.193 1525.42 Q522.193 1529.17 524.021 1531.32 Q525.873 1533.48 529.021 1533.48 Z\" fill=\"#000000\" fill-rule=\"nonzero\" fill-opacity=\"1\" /><path clip-path=\"url(#clip790)\" d=\"M559.739 1517.37 Q556.128 1517.37 554.299 1520.93 Q552.493 1524.47 552.493 1531.6 Q552.493 1538.71 554.299 1542.27 Q556.128 1545.82 559.739 1545.82 Q563.373 1545.82 565.178 1542.27 Q567.007 1538.71 567.007 1531.6 Q567.007 1524.47 565.178 1520.93 Q563.373 1517.37 559.739 1517.37 M559.739 1513.66 Q565.549 1513.66 568.604 1518.27 Q571.683 1522.85 571.683 1531.6 Q571.683 1540.33 568.604 1544.94 Q565.549 1549.52 559.739 1549.52 Q553.929 1549.52 550.85 1544.94 Q547.794 1540.33 547.794 1531.6 Q547.794 1522.85 550.85 1518.27 Q553.929 1513.66 559.739 1513.66 Z\" fill=\"#000000\" fill-rule=\"nonzero\" fill-opacity=\"1\" /><path clip-path=\"url(#clip790)\" d=\"M947.196 1517.37 Q943.585 1517.37 941.756 1520.93 Q939.951 1524.47 939.951 1531.6 Q939.951 1538.71 941.756 1542.27 Q943.585 1545.82 947.196 1545.82 Q950.83 1545.82 952.636 1542.27 Q954.465 1538.71 954.465 1531.6 Q954.465 1524.47 952.636 1520.93 Q950.83 1517.37 947.196 1517.37 M947.196 1513.66 Q953.006 1513.66 956.062 1518.27 Q959.14 1522.85 959.14 1531.6 Q959.14 1540.33 956.062 1544.94 Q953.006 1549.52 947.196 1549.52 Q941.386 1549.52 938.307 1544.94 Q935.252 1540.33 935.252 1531.6 Q935.252 1522.85 938.307 1518.27 Q941.386 1513.66 947.196 1513.66 Z\" fill=\"#000000\" fill-rule=\"nonzero\" fill-opacity=\"1\" /><path clip-path=\"url(#clip790)\" d=\"M967.358 1542.97 L972.242 1542.97 L972.242 1548.85 L967.358 1548.85 L967.358 1542.97 Z\" fill=\"#000000\" fill-rule=\"nonzero\" fill-opacity=\"1\" /><path clip-path=\"url(#clip790)\" d=\"M982.566 1548.13 L982.566 1543.87 Q984.326 1544.7 986.131 1545.14 Q987.937 1545.58 989.673 1545.58 Q994.302 1545.58 996.733 1542.48 Q999.187 1539.36 999.534 1533.01 Q998.191 1535.01 996.131 1536.07 Q994.071 1537.13 991.571 1537.13 Q986.386 1537.13 983.353 1534.01 Q980.344 1530.86 980.344 1525.42 Q980.344 1520.1 983.492 1516.88 Q986.64 1513.66 991.872 1513.66 Q997.867 1513.66 1001.02 1518.27 Q1004.19 1522.85 1004.19 1531.6 Q1004.19 1539.77 1000.3 1544.66 Q996.432 1549.52 989.881 1549.52 Q988.122 1549.52 986.316 1549.17 Q984.511 1548.82 982.566 1548.13 M991.872 1533.48 Q995.02 1533.48 996.849 1531.32 Q998.7 1529.17 998.7 1525.42 Q998.7 1521.7 996.849 1519.54 Q995.02 1517.37 991.872 1517.37 Q988.724 1517.37 986.872 1519.54 Q985.043 1521.7 985.043 1525.42 Q985.043 1529.17 986.872 1531.32 Q988.724 1533.48 991.872 1533.48 Z\" fill=\"#000000\" fill-rule=\"nonzero\" fill-opacity=\"1\" /><path clip-path=\"url(#clip790)\" d=\"M1012.64 1514.29 L1030.99 1514.29 L1030.99 1518.22 L1016.92 1518.22 L1016.92 1526.7 Q1017.94 1526.35 1018.95 1526.19 Q1019.97 1526 1020.99 1526 Q1026.78 1526 1030.16 1529.17 Q1033.54 1532.34 1033.54 1537.76 Q1033.54 1543.34 1030.07 1546.44 Q1026.59 1549.52 1020.27 1549.52 Q1018.1 1549.52 1015.83 1549.15 Q1013.58 1548.78 1011.18 1548.04 L1011.18 1543.34 Q1013.26 1544.47 1015.48 1545.03 Q1017.7 1545.58 1020.18 1545.58 Q1024.19 1545.58 1026.52 1543.48 Q1028.86 1541.37 1028.86 1537.76 Q1028.86 1534.15 1026.52 1532.04 Q1024.19 1529.94 1020.18 1529.94 Q1018.31 1529.94 1016.43 1530.35 Q1014.58 1530.77 1012.64 1531.65 L1012.64 1514.29 Z\" fill=\"#000000\" fill-rule=\"nonzero\" fill-opacity=\"1\" /><path clip-path=\"url(#clip790)\" d=\"M1398.82 1544.91 L1406.46 1544.91 L1406.46 1518.55 L1398.15 1520.21 L1398.15 1515.95 L1406.41 1514.29 L1411.09 1514.29 L1411.09 1544.91 L1418.73 1544.91 L1418.73 1548.85 L1398.82 1548.85 L1398.82 1544.91 Z\" fill=\"#000000\" fill-rule=\"nonzero\" fill-opacity=\"1\" /><path clip-path=\"url(#clip790)\" d=\"M1428.17 1542.97 L1433.06 1542.97 L1433.06 1548.85 L1428.17 1548.85 L1428.17 1542.97 Z\" fill=\"#000000\" fill-rule=\"nonzero\" fill-opacity=\"1\" /><path clip-path=\"url(#clip790)\" d=\"M1453.24 1517.37 Q1449.63 1517.37 1447.8 1520.93 Q1446 1524.47 1446 1531.6 Q1446 1538.71 1447.8 1542.27 Q1449.63 1545.82 1453.24 1545.82 Q1456.88 1545.82 1458.68 1542.27 Q1460.51 1538.71 1460.51 1531.6 Q1460.51 1524.47 1458.68 1520.93 Q1456.88 1517.37 1453.24 1517.37 M1453.24 1513.66 Q1459.05 1513.66 1462.11 1518.27 Q1465.19 1522.85 1465.19 1531.6 Q1465.19 1540.33 1462.11 1544.94 Q1459.05 1549.52 1453.24 1549.52 Q1447.43 1549.52 1444.35 1544.94 Q1441.3 1540.33 1441.3 1531.6 Q1441.3 1522.85 1444.35 1518.27 Q1447.43 1513.66 1453.24 1513.66 Z\" fill=\"#000000\" fill-rule=\"nonzero\" fill-opacity=\"1\" /><path clip-path=\"url(#clip790)\" d=\"M1483.4 1517.37 Q1479.79 1517.37 1477.96 1520.93 Q1476.16 1524.47 1476.16 1531.6 Q1476.16 1538.71 1477.96 1542.27 Q1479.79 1545.82 1483.4 1545.82 Q1487.04 1545.82 1488.84 1542.27 Q1490.67 1538.71 1490.67 1531.6 Q1490.67 1524.47 1488.84 1520.93 Q1487.04 1517.37 1483.4 1517.37 M1483.4 1513.66 Q1489.21 1513.66 1492.27 1518.27 Q1495.35 1522.85 1495.35 1531.6 Q1495.35 1540.33 1492.27 1544.94 Q1489.21 1549.52 1483.4 1549.52 Q1477.59 1549.52 1474.51 1544.94 Q1471.46 1540.33 1471.46 1531.6 Q1471.46 1522.85 1474.51 1518.27 Q1477.59 1513.66 1483.4 1513.66 Z\" fill=\"#000000\" fill-rule=\"nonzero\" fill-opacity=\"1\" /><path clip-path=\"url(#clip790)\" d=\"M1861.67 1544.91 L1869.31 1544.91 L1869.31 1518.55 L1861 1520.21 L1861 1515.95 L1869.26 1514.29 L1873.94 1514.29 L1873.94 1544.91 L1881.58 1544.91 L1881.58 1548.85 L1861.67 1548.85 L1861.67 1544.91 Z\" fill=\"#000000\" fill-rule=\"nonzero\" fill-opacity=\"1\" /><path clip-path=\"url(#clip790)\" d=\"M1891.02 1542.97 L1895.91 1542.97 L1895.91 1548.85 L1891.02 1548.85 L1891.02 1542.97 Z\" fill=\"#000000\" fill-rule=\"nonzero\" fill-opacity=\"1\" /><path clip-path=\"url(#clip790)\" d=\"M1916.09 1517.37 Q1912.48 1517.37 1910.65 1520.93 Q1908.85 1524.47 1908.85 1531.6 Q1908.85 1538.71 1910.65 1542.27 Q1912.48 1545.82 1916.09 1545.82 Q1919.73 1545.82 1921.53 1542.27 Q1923.36 1538.71 1923.36 1531.6 Q1923.36 1524.47 1921.53 1520.93 Q1919.73 1517.37 1916.09 1517.37 M1916.09 1513.66 Q1921.9 1513.66 1924.96 1518.27 Q1928.04 1522.85 1928.04 1531.6 Q1928.04 1540.33 1924.96 1544.94 Q1921.9 1549.52 1916.09 1549.52 Q1910.28 1549.52 1907.2 1544.94 Q1904.15 1540.33 1904.15 1531.6 Q1904.15 1522.85 1907.2 1518.27 Q1910.28 1513.66 1916.09 1513.66 Z\" fill=\"#000000\" fill-rule=\"nonzero\" fill-opacity=\"1\" /><path clip-path=\"url(#clip790)\" d=\"M1936.3 1514.29 L1954.66 1514.29 L1954.66 1518.22 L1940.58 1518.22 L1940.58 1526.7 Q1941.6 1526.35 1942.62 1526.19 Q1943.64 1526 1944.66 1526 Q1950.44 1526 1953.82 1529.17 Q1957.2 1532.34 1957.2 1537.76 Q1957.2 1543.34 1953.73 1546.44 Q1950.26 1549.52 1943.94 1549.52 Q1941.76 1549.52 1939.49 1549.15 Q1937.25 1548.78 1934.84 1548.04 L1934.84 1543.34 Q1936.92 1544.47 1939.15 1545.03 Q1941.37 1545.58 1943.85 1545.58 Q1947.85 1545.58 1950.19 1543.48 Q1952.53 1541.37 1952.53 1537.76 Q1952.53 1534.15 1950.19 1532.04 Q1947.85 1529.94 1943.85 1529.94 Q1941.97 1529.94 1940.1 1530.35 Q1938.24 1530.77 1936.3 1531.65 L1936.3 1514.29 Z\" fill=\"#000000\" fill-rule=\"nonzero\" fill-opacity=\"1\" /><polyline clip-path=\"url(#clip792)\" style=\"stroke:#000000; stroke-linecap:round; stroke-linejoin:round; stroke-width:2; stroke-opacity:0.1; fill:none\" points=\"170.857,1445.72 2352.76,1445.72 \"/>\n",
       "<polyline clip-path=\"url(#clip792)\" style=\"stroke:#000000; stroke-linecap:round; stroke-linejoin:round; stroke-width:2; stroke-opacity:0.1; fill:none\" points=\"170.857,1081.71 2352.76,1081.71 \"/>\n",
       "<polyline clip-path=\"url(#clip792)\" style=\"stroke:#000000; stroke-linecap:round; stroke-linejoin:round; stroke-width:2; stroke-opacity:0.1; fill:none\" points=\"170.857,717.705 2352.76,717.705 \"/>\n",
       "<polyline clip-path=\"url(#clip792)\" style=\"stroke:#000000; stroke-linecap:round; stroke-linejoin:round; stroke-width:2; stroke-opacity:0.1; fill:none\" points=\"170.857,353.7 2352.76,353.7 \"/>\n",
       "<polyline clip-path=\"url(#clip790)\" style=\"stroke:#000000; stroke-linecap:round; stroke-linejoin:round; stroke-width:4; stroke-opacity:1; fill:none\" points=\"170.857,1486.45 170.857,47.2441 \"/>\n",
       "<polyline clip-path=\"url(#clip790)\" style=\"stroke:#000000; stroke-linecap:round; stroke-linejoin:round; stroke-width:4; stroke-opacity:1; fill:none\" points=\"170.857,1445.72 189.755,1445.72 \"/>\n",
       "<polyline clip-path=\"url(#clip790)\" style=\"stroke:#000000; stroke-linecap:round; stroke-linejoin:round; stroke-width:4; stroke-opacity:1; fill:none\" points=\"170.857,1081.71 189.755,1081.71 \"/>\n",
       "<polyline clip-path=\"url(#clip790)\" style=\"stroke:#000000; stroke-linecap:round; stroke-linejoin:round; stroke-width:4; stroke-opacity:1; fill:none\" points=\"170.857,717.705 189.755,717.705 \"/>\n",
       "<polyline clip-path=\"url(#clip790)\" style=\"stroke:#000000; stroke-linecap:round; stroke-linejoin:round; stroke-width:4; stroke-opacity:1; fill:none\" points=\"170.857,353.7 189.755,353.7 \"/>\n",
       "<path clip-path=\"url(#clip790)\" d=\"M122.913 1431.51 Q119.302 1431.51 117.473 1435.08 Q115.668 1438.62 115.668 1445.75 Q115.668 1452.86 117.473 1456.42 Q119.302 1459.96 122.913 1459.96 Q126.547 1459.96 128.353 1456.42 Q130.182 1452.86 130.182 1445.75 Q130.182 1438.62 128.353 1435.08 Q126.547 1431.51 122.913 1431.51 M122.913 1427.81 Q128.723 1427.81 131.779 1432.42 Q134.857 1437 134.857 1445.75 Q134.857 1454.48 131.779 1459.08 Q128.723 1463.67 122.913 1463.67 Q117.103 1463.67 114.024 1459.08 Q110.969 1454.48 110.969 1445.75 Q110.969 1437 114.024 1432.42 Q117.103 1427.81 122.913 1427.81 Z\" fill=\"#000000\" fill-rule=\"nonzero\" fill-opacity=\"1\" /><path clip-path=\"url(#clip790)\" d=\"M53.3995 1095.06 L61.0384 1095.06 L61.0384 1068.69 L52.7282 1070.36 L52.7282 1066.1 L60.9921 1064.43 L65.668 1064.43 L65.668 1095.06 L73.3068 1095.06 L73.3068 1098.99 L53.3995 1098.99 L53.3995 1095.06 Z\" fill=\"#000000\" fill-rule=\"nonzero\" fill-opacity=\"1\" /><path clip-path=\"url(#clip790)\" d=\"M92.7512 1067.51 Q89.1401 1067.51 87.3114 1071.07 Q85.5058 1074.62 85.5058 1081.75 Q85.5058 1088.85 87.3114 1092.42 Q89.1401 1095.96 92.7512 1095.96 Q96.3854 1095.96 98.1909 1092.42 Q100.02 1088.85 100.02 1081.75 Q100.02 1074.62 98.1909 1071.07 Q96.3854 1067.51 92.7512 1067.51 M92.7512 1063.81 Q98.5613 1063.81 101.617 1068.41 Q104.696 1073 104.696 1081.75 Q104.696 1090.47 101.617 1095.08 Q98.5613 1099.66 92.7512 1099.66 Q86.941 1099.66 83.8623 1095.08 Q80.8068 1090.47 80.8068 1081.75 Q80.8068 1073 83.8623 1068.41 Q86.941 1063.81 92.7512 1063.81 Z\" fill=\"#000000\" fill-rule=\"nonzero\" fill-opacity=\"1\" /><path clip-path=\"url(#clip790)\" d=\"M122.913 1067.51 Q119.302 1067.51 117.473 1071.07 Q115.668 1074.62 115.668 1081.75 Q115.668 1088.85 117.473 1092.42 Q119.302 1095.96 122.913 1095.96 Q126.547 1095.96 128.353 1092.42 Q130.182 1088.85 130.182 1081.75 Q130.182 1074.62 128.353 1071.07 Q126.547 1067.51 122.913 1067.51 M122.913 1063.81 Q128.723 1063.81 131.779 1068.41 Q134.857 1073 134.857 1081.75 Q134.857 1090.47 131.779 1095.08 Q128.723 1099.66 122.913 1099.66 Q117.103 1099.66 114.024 1095.08 Q110.969 1090.47 110.969 1081.75 Q110.969 1073 114.024 1068.41 Q117.103 1063.81 122.913 1063.81 Z\" fill=\"#000000\" fill-rule=\"nonzero\" fill-opacity=\"1\" /><path clip-path=\"url(#clip790)\" d=\"M56.6171 731.05 L72.9365 731.05 L72.9365 734.985 L50.9921 734.985 L50.9921 731.05 Q53.6541 728.296 58.2375 723.666 Q62.8439 719.013 64.0245 717.671 Q66.2698 715.147 67.1494 713.411 Q68.0522 711.652 68.0522 709.962 Q68.0522 707.208 66.1078 705.472 Q64.1865 703.735 61.0847 703.735 Q58.8856 703.735 56.4319 704.499 Q54.0014 705.263 51.2236 706.814 L51.2236 702.092 Q54.0477 700.958 56.5014 700.379 Q58.955 699.8 60.9921 699.8 Q66.3624 699.8 69.5568 702.485 Q72.7513 705.171 72.7513 709.661 Q72.7513 711.791 71.9411 713.712 Q71.1541 715.61 69.0476 718.203 Q68.4689 718.874 65.367 722.092 Q62.2652 725.286 56.6171 731.05 Z\" fill=\"#000000\" fill-rule=\"nonzero\" fill-opacity=\"1\" /><path clip-path=\"url(#clip790)\" d=\"M92.7512 703.504 Q89.1401 703.504 87.3114 707.069 Q85.5058 710.61 85.5058 717.74 Q85.5058 724.846 87.3114 728.411 Q89.1401 731.953 92.7512 731.953 Q96.3854 731.953 98.1909 728.411 Q100.02 724.846 100.02 717.74 Q100.02 710.61 98.1909 707.069 Q96.3854 703.504 92.7512 703.504 M92.7512 699.8 Q98.5613 699.8 101.617 704.407 Q104.696 708.99 104.696 717.74 Q104.696 726.467 101.617 731.073 Q98.5613 735.657 92.7512 735.657 Q86.941 735.657 83.8623 731.073 Q80.8068 726.467 80.8068 717.74 Q80.8068 708.99 83.8623 704.407 Q86.941 699.8 92.7512 699.8 Z\" fill=\"#000000\" fill-rule=\"nonzero\" fill-opacity=\"1\" /><path clip-path=\"url(#clip790)\" d=\"M122.913 703.504 Q119.302 703.504 117.473 707.069 Q115.668 710.61 115.668 717.74 Q115.668 724.846 117.473 728.411 Q119.302 731.953 122.913 731.953 Q126.547 731.953 128.353 728.411 Q130.182 724.846 130.182 717.74 Q130.182 710.61 128.353 707.069 Q126.547 703.504 122.913 703.504 M122.913 699.8 Q128.723 699.8 131.779 704.407 Q134.857 708.99 134.857 717.74 Q134.857 726.467 131.779 731.073 Q128.723 735.657 122.913 735.657 Q117.103 735.657 114.024 731.073 Q110.969 726.467 110.969 717.74 Q110.969 708.99 114.024 704.407 Q117.103 699.8 122.913 699.8 Z\" fill=\"#000000\" fill-rule=\"nonzero\" fill-opacity=\"1\" /><path clip-path=\"url(#clip790)\" d=\"M66.7559 352.346 Q70.1124 353.064 71.9874 355.332 Q73.8855 357.601 73.8855 360.934 Q73.8855 366.05 70.367 368.85 Q66.8485 371.651 60.3671 371.651 Q58.1912 371.651 55.8764 371.212 Q53.5847 370.795 51.131 369.938 L51.131 365.425 Q53.0754 366.559 55.3903 367.138 Q57.7051 367.716 60.2282 367.716 Q64.6263 367.716 66.918 365.98 Q69.2328 364.244 69.2328 360.934 Q69.2328 357.878 67.08 356.165 Q64.9504 354.429 61.131 354.429 L57.1032 354.429 L57.1032 350.587 L61.3161 350.587 Q64.7652 350.587 66.5939 349.221 Q68.4226 347.832 68.4226 345.239 Q68.4226 342.577 66.5245 341.165 Q64.6495 339.73 61.131 339.73 Q59.2097 339.73 57.0106 340.147 Q54.8115 340.564 52.1727 341.443 L52.1727 337.277 Q54.8347 336.536 57.1495 336.165 Q59.4875 335.795 61.5476 335.795 Q66.8717 335.795 69.9735 338.226 Q73.0753 340.633 73.0753 344.753 Q73.0753 347.624 71.4318 349.614 Q69.7883 351.582 66.7559 352.346 Z\" fill=\"#000000\" fill-rule=\"nonzero\" fill-opacity=\"1\" /><path clip-path=\"url(#clip790)\" d=\"M92.7512 339.499 Q89.1401 339.499 87.3114 343.064 Q85.5058 346.605 85.5058 353.735 Q85.5058 360.841 87.3114 364.406 Q89.1401 367.948 92.7512 367.948 Q96.3854 367.948 98.1909 364.406 Q100.02 360.841 100.02 353.735 Q100.02 346.605 98.1909 343.064 Q96.3854 339.499 92.7512 339.499 M92.7512 335.795 Q98.5613 335.795 101.617 340.402 Q104.696 344.985 104.696 353.735 Q104.696 362.462 101.617 367.068 Q98.5613 371.651 92.7512 371.651 Q86.941 371.651 83.8623 367.068 Q80.8068 362.462 80.8068 353.735 Q80.8068 344.985 83.8623 340.402 Q86.941 335.795 92.7512 335.795 Z\" fill=\"#000000\" fill-rule=\"nonzero\" fill-opacity=\"1\" /><path clip-path=\"url(#clip790)\" d=\"M122.913 339.499 Q119.302 339.499 117.473 343.064 Q115.668 346.605 115.668 353.735 Q115.668 360.841 117.473 364.406 Q119.302 367.948 122.913 367.948 Q126.547 367.948 128.353 364.406 Q130.182 360.841 130.182 353.735 Q130.182 346.605 128.353 343.064 Q126.547 339.499 122.913 339.499 M122.913 335.795 Q128.723 335.795 131.779 340.402 Q134.857 344.985 134.857 353.735 Q134.857 362.462 131.779 367.068 Q128.723 371.651 122.913 371.651 Q117.103 371.651 114.024 367.068 Q110.969 362.462 110.969 353.735 Q110.969 344.985 114.024 340.402 Q117.103 335.795 122.913 335.795 Z\" fill=\"#000000\" fill-rule=\"nonzero\" fill-opacity=\"1\" /><path clip-path=\"url(#clip792)\" d=\"M290.866 1442.08 L290.866 1445.72 L337.101 1445.72 L337.101 1442.08 L290.866 1442.08 L290.866 1442.08  Z\" fill=\"#009af9\" fill-rule=\"evenodd\" fill-opacity=\"1\"/>\n",
       "<polyline clip-path=\"url(#clip792)\" style=\"stroke:#000000; stroke-linecap:round; stroke-linejoin:round; stroke-width:4; stroke-opacity:1; fill:none\" points=\"290.866,1442.08 290.866,1445.72 337.101,1445.72 337.101,1442.08 290.866,1442.08 \"/>\n",
       "<path clip-path=\"url(#clip792)\" d=\"M337.101 1445.72 L337.101 1445.72 L383.336 1445.72 L383.336 1445.72 L337.101 1445.72 L337.101 1445.72  Z\" fill=\"#009af9\" fill-rule=\"evenodd\" fill-opacity=\"1\"/>\n",
       "<polyline clip-path=\"url(#clip792)\" style=\"stroke:#000000; stroke-linecap:round; stroke-linejoin:round; stroke-width:4; stroke-opacity:1; fill:none\" points=\"337.101,1445.72 337.101,1445.72 383.336,1445.72 337.101,1445.72 \"/>\n",
       "<path clip-path=\"url(#clip792)\" d=\"M383.336 1442.08 L383.336 1445.72 L429.572 1445.72 L429.572 1442.08 L383.336 1442.08 L383.336 1442.08  Z\" fill=\"#009af9\" fill-rule=\"evenodd\" fill-opacity=\"1\"/>\n",
       "<polyline clip-path=\"url(#clip792)\" style=\"stroke:#000000; stroke-linecap:round; stroke-linejoin:round; stroke-width:4; stroke-opacity:1; fill:none\" points=\"383.336,1442.08 383.336,1445.72 429.572,1445.72 429.572,1442.08 383.336,1442.08 \"/>\n",
       "<path clip-path=\"url(#clip792)\" d=\"M429.572 1431.16 L429.572 1445.72 L475.807 1445.72 L475.807 1431.16 L429.572 1431.16 L429.572 1431.16  Z\" fill=\"#009af9\" fill-rule=\"evenodd\" fill-opacity=\"1\"/>\n",
       "<polyline clip-path=\"url(#clip792)\" style=\"stroke:#000000; stroke-linecap:round; stroke-linejoin:round; stroke-width:4; stroke-opacity:1; fill:none\" points=\"429.572,1431.16 429.572,1445.72 475.807,1445.72 475.807,1431.16 429.572,1431.16 \"/>\n",
       "<path clip-path=\"url(#clip792)\" d=\"M475.807 1423.88 L475.807 1445.72 L522.042 1445.72 L522.042 1423.88 L475.807 1423.88 L475.807 1423.88  Z\" fill=\"#009af9\" fill-rule=\"evenodd\" fill-opacity=\"1\"/>\n",
       "<polyline clip-path=\"url(#clip792)\" style=\"stroke:#000000; stroke-linecap:round; stroke-linejoin:round; stroke-width:4; stroke-opacity:1; fill:none\" points=\"475.807,1423.88 475.807,1445.72 522.042,1445.72 522.042,1423.88 475.807,1423.88 \"/>\n",
       "<path clip-path=\"url(#clip792)\" d=\"M522.042 1416.6 L522.042 1445.72 L568.277 1445.72 L568.277 1416.6 L522.042 1416.6 L522.042 1416.6  Z\" fill=\"#009af9\" fill-rule=\"evenodd\" fill-opacity=\"1\"/>\n",
       "<polyline clip-path=\"url(#clip792)\" style=\"stroke:#000000; stroke-linecap:round; stroke-linejoin:round; stroke-width:4; stroke-opacity:1; fill:none\" points=\"522.042,1416.6 522.042,1445.72 568.277,1445.72 568.277,1416.6 522.042,1416.6 \"/>\n",
       "<path clip-path=\"url(#clip792)\" d=\"M568.277 1402.04 L568.277 1445.72 L614.513 1445.72 L614.513 1402.04 L568.277 1402.04 L568.277 1402.04  Z\" fill=\"#009af9\" fill-rule=\"evenodd\" fill-opacity=\"1\"/>\n",
       "<polyline clip-path=\"url(#clip792)\" style=\"stroke:#000000; stroke-linecap:round; stroke-linejoin:round; stroke-width:4; stroke-opacity:1; fill:none\" points=\"568.277,1402.04 568.277,1445.72 614.513,1445.72 614.513,1402.04 568.277,1402.04 \"/>\n",
       "<path clip-path=\"url(#clip792)\" d=\"M614.513 1311.03 L614.513 1445.72 L660.748 1445.72 L660.748 1311.03 L614.513 1311.03 L614.513 1311.03  Z\" fill=\"#009af9\" fill-rule=\"evenodd\" fill-opacity=\"1\"/>\n",
       "<polyline clip-path=\"url(#clip792)\" style=\"stroke:#000000; stroke-linecap:round; stroke-linejoin:round; stroke-width:4; stroke-opacity:1; fill:none\" points=\"614.513,1311.03 614.513,1445.72 660.748,1445.72 660.748,1311.03 614.513,1311.03 \"/>\n",
       "<path clip-path=\"url(#clip792)\" d=\"M660.748 1263.71 L660.748 1445.72 L706.983 1445.72 L706.983 1263.71 L660.748 1263.71 L660.748 1263.71  Z\" fill=\"#009af9\" fill-rule=\"evenodd\" fill-opacity=\"1\"/>\n",
       "<polyline clip-path=\"url(#clip792)\" style=\"stroke:#000000; stroke-linecap:round; stroke-linejoin:round; stroke-width:4; stroke-opacity:1; fill:none\" points=\"660.748,1263.71 660.748,1445.72 706.983,1445.72 706.983,1263.71 660.748,1263.71 \"/>\n",
       "<path clip-path=\"url(#clip792)\" d=\"M706.983 1154.51 L706.983 1445.72 L753.219 1445.72 L753.219 1154.51 L706.983 1154.51 L706.983 1154.51  Z\" fill=\"#009af9\" fill-rule=\"evenodd\" fill-opacity=\"1\"/>\n",
       "<polyline clip-path=\"url(#clip792)\" style=\"stroke:#000000; stroke-linecap:round; stroke-linejoin:round; stroke-width:4; stroke-opacity:1; fill:none\" points=\"706.983,1154.51 706.983,1445.72 753.219,1445.72 753.219,1154.51 706.983,1154.51 \"/>\n",
       "<path clip-path=\"url(#clip792)\" d=\"M753.219 1129.03 L753.219 1445.72 L799.454 1445.72 L799.454 1129.03 L753.219 1129.03 L753.219 1129.03  Z\" fill=\"#009af9\" fill-rule=\"evenodd\" fill-opacity=\"1\"/>\n",
       "<polyline clip-path=\"url(#clip792)\" style=\"stroke:#000000; stroke-linecap:round; stroke-linejoin:round; stroke-width:4; stroke-opacity:1; fill:none\" points=\"753.219,1129.03 753.219,1445.72 799.454,1445.72 799.454,1129.03 753.219,1129.03 \"/>\n",
       "<path clip-path=\"url(#clip792)\" d=\"M799.454 1012.55 L799.454 1445.72 L845.689 1445.72 L845.689 1012.55 L799.454 1012.55 L799.454 1012.55  Z\" fill=\"#009af9\" fill-rule=\"evenodd\" fill-opacity=\"1\"/>\n",
       "<polyline clip-path=\"url(#clip792)\" style=\"stroke:#000000; stroke-linecap:round; stroke-linejoin:round; stroke-width:4; stroke-opacity:1; fill:none\" points=\"799.454,1012.55 799.454,1445.72 845.689,1445.72 845.689,1012.55 799.454,1012.55 \"/>\n",
       "<path clip-path=\"url(#clip792)\" d=\"M845.689 859.667 L845.689 1445.72 L891.924 1445.72 L891.924 859.667 L845.689 859.667 L845.689 859.667  Z\" fill=\"#009af9\" fill-rule=\"evenodd\" fill-opacity=\"1\"/>\n",
       "<polyline clip-path=\"url(#clip792)\" style=\"stroke:#000000; stroke-linecap:round; stroke-linejoin:round; stroke-width:4; stroke-opacity:1; fill:none\" points=\"845.689,859.667 845.689,1445.72 891.924,1445.72 891.924,859.667 845.689,859.667 \"/>\n",
       "<path clip-path=\"url(#clip792)\" d=\"M891.924 772.306 L891.924 1445.72 L938.16 1445.72 L938.16 772.306 L891.924 772.306 L891.924 772.306  Z\" fill=\"#009af9\" fill-rule=\"evenodd\" fill-opacity=\"1\"/>\n",
       "<polyline clip-path=\"url(#clip792)\" style=\"stroke:#000000; stroke-linecap:round; stroke-linejoin:round; stroke-width:4; stroke-opacity:1; fill:none\" points=\"891.924,772.306 891.924,1445.72 938.16,1445.72 938.16,772.306 891.924,772.306 \"/>\n",
       "<path clip-path=\"url(#clip792)\" d=\"M938.16 615.784 L938.16 1445.72 L984.395 1445.72 L984.395 615.784 L938.16 615.784 L938.16 615.784  Z\" fill=\"#009af9\" fill-rule=\"evenodd\" fill-opacity=\"1\"/>\n",
       "<polyline clip-path=\"url(#clip792)\" style=\"stroke:#000000; stroke-linecap:round; stroke-linejoin:round; stroke-width:4; stroke-opacity:1; fill:none\" points=\"938.16,615.784 938.16,1445.72 984.395,1445.72 984.395,615.784 938.16,615.784 \"/>\n",
       "<path clip-path=\"url(#clip792)\" d=\"M984.395 342.78 L984.395 1445.72 L1030.63 1445.72 L1030.63 342.78 L984.395 342.78 L984.395 342.78  Z\" fill=\"#009af9\" fill-rule=\"evenodd\" fill-opacity=\"1\"/>\n",
       "<polyline clip-path=\"url(#clip792)\" style=\"stroke:#000000; stroke-linecap:round; stroke-linejoin:round; stroke-width:4; stroke-opacity:1; fill:none\" points=\"984.395,342.78 984.395,1445.72 1030.63,1445.72 1030.63,342.78 984.395,342.78 \"/>\n",
       "<path clip-path=\"url(#clip792)\" d=\"M1030.63 331.86 L1030.63 1445.72 L1076.87 1445.72 L1076.87 331.86 L1030.63 331.86 L1030.63 331.86  Z\" fill=\"#009af9\" fill-rule=\"evenodd\" fill-opacity=\"1\"/>\n",
       "<polyline clip-path=\"url(#clip792)\" style=\"stroke:#000000; stroke-linecap:round; stroke-linejoin:round; stroke-width:4; stroke-opacity:1; fill:none\" points=\"1030.63,331.86 1030.63,1445.72 1076.87,1445.72 1076.87,331.86 1030.63,331.86 \"/>\n",
       "<path clip-path=\"url(#clip792)\" d=\"M1076.87 175.338 L1076.87 1445.72 L1123.1 1445.72 L1123.1 175.338 L1076.87 175.338 L1076.87 175.338  Z\" fill=\"#009af9\" fill-rule=\"evenodd\" fill-opacity=\"1\"/>\n",
       "<polyline clip-path=\"url(#clip792)\" style=\"stroke:#000000; stroke-linecap:round; stroke-linejoin:round; stroke-width:4; stroke-opacity:1; fill:none\" points=\"1076.87,175.338 1076.87,1445.72 1123.1,1445.72 1123.1,175.338 1076.87,175.338 \"/>\n",
       "<path clip-path=\"url(#clip792)\" d=\"M1123.1 168.057 L1123.1 1445.72 L1169.34 1445.72 L1169.34 168.057 L1123.1 168.057 L1123.1 168.057  Z\" fill=\"#009af9\" fill-rule=\"evenodd\" fill-opacity=\"1\"/>\n",
       "<polyline clip-path=\"url(#clip792)\" style=\"stroke:#000000; stroke-linecap:round; stroke-linejoin:round; stroke-width:4; stroke-opacity:1; fill:none\" points=\"1123.1,168.057 1123.1,1445.72 1169.34,1445.72 1169.34,168.057 1123.1,168.057 \"/>\n",
       "<path clip-path=\"url(#clip792)\" d=\"M1169.34 164.417 L1169.34 1445.72 L1215.57 1445.72 L1215.57 164.417 L1169.34 164.417 L1169.34 164.417  Z\" fill=\"#009af9\" fill-rule=\"evenodd\" fill-opacity=\"1\"/>\n",
       "<polyline clip-path=\"url(#clip792)\" style=\"stroke:#000000; stroke-linecap:round; stroke-linejoin:round; stroke-width:4; stroke-opacity:1; fill:none\" points=\"1169.34,164.417 1169.34,1445.72 1215.57,1445.72 1215.57,164.417 1169.34,164.417 \"/>\n",
       "<path clip-path=\"url(#clip792)\" d=\"M1215.57 87.9763 L1215.57 1445.72 L1261.81 1445.72 L1261.81 87.9763 L1215.57 87.9763 L1215.57 87.9763  Z\" fill=\"#009af9\" fill-rule=\"evenodd\" fill-opacity=\"1\"/>\n",
       "<polyline clip-path=\"url(#clip792)\" style=\"stroke:#000000; stroke-linecap:round; stroke-linejoin:round; stroke-width:4; stroke-opacity:1; fill:none\" points=\"1215.57,87.9763 1215.57,1445.72 1261.81,1445.72 1261.81,87.9763 1215.57,87.9763 \"/>\n",
       "<path clip-path=\"url(#clip792)\" d=\"M1261.81 149.857 L1261.81 1445.72 L1308.04 1445.72 L1308.04 149.857 L1261.81 149.857 L1261.81 149.857  Z\" fill=\"#009af9\" fill-rule=\"evenodd\" fill-opacity=\"1\"/>\n",
       "<polyline clip-path=\"url(#clip792)\" style=\"stroke:#000000; stroke-linecap:round; stroke-linejoin:round; stroke-width:4; stroke-opacity:1; fill:none\" points=\"1261.81,149.857 1261.81,1445.72 1308.04,1445.72 1308.04,149.857 1261.81,149.857 \"/>\n",
       "<path clip-path=\"url(#clip792)\" d=\"M1308.04 335.5 L1308.04 1445.72 L1354.28 1445.72 L1354.28 335.5 L1308.04 335.5 L1308.04 335.5  Z\" fill=\"#009af9\" fill-rule=\"evenodd\" fill-opacity=\"1\"/>\n",
       "<polyline clip-path=\"url(#clip792)\" style=\"stroke:#000000; stroke-linecap:round; stroke-linejoin:round; stroke-width:4; stroke-opacity:1; fill:none\" points=\"1308.04,335.5 1308.04,1445.72 1354.28,1445.72 1354.28,335.5 1308.04,335.5 \"/>\n",
       "<path clip-path=\"url(#clip792)\" d=\"M1354.28 612.144 L1354.28 1445.72 L1400.51 1445.72 L1400.51 612.144 L1354.28 612.144 L1354.28 612.144  Z\" fill=\"#009af9\" fill-rule=\"evenodd\" fill-opacity=\"1\"/>\n",
       "<polyline clip-path=\"url(#clip792)\" style=\"stroke:#000000; stroke-linecap:round; stroke-linejoin:round; stroke-width:4; stroke-opacity:1; fill:none\" points=\"1354.28,612.144 1354.28,1445.72 1400.51,1445.72 1400.51,612.144 1354.28,612.144 \"/>\n",
       "<path clip-path=\"url(#clip792)\" d=\"M1400.51 557.543 L1400.51 1445.72 L1446.75 1445.72 L1446.75 557.543 L1400.51 557.543 L1400.51 557.543  Z\" fill=\"#009af9\" fill-rule=\"evenodd\" fill-opacity=\"1\"/>\n",
       "<polyline clip-path=\"url(#clip792)\" style=\"stroke:#000000; stroke-linecap:round; stroke-linejoin:round; stroke-width:4; stroke-opacity:1; fill:none\" points=\"1400.51,557.543 1400.51,1445.72 1446.75,1445.72 1446.75,557.543 1400.51,557.543 \"/>\n",
       "<path clip-path=\"url(#clip792)\" d=\"M1446.75 746.826 L1446.75 1445.72 L1492.98 1445.72 L1492.98 746.826 L1446.75 746.826 L1446.75 746.826  Z\" fill=\"#009af9\" fill-rule=\"evenodd\" fill-opacity=\"1\"/>\n",
       "<polyline clip-path=\"url(#clip792)\" style=\"stroke:#000000; stroke-linecap:round; stroke-linejoin:round; stroke-width:4; stroke-opacity:1; fill:none\" points=\"1446.75,746.826 1446.75,1445.72 1492.98,1445.72 1492.98,746.826 1446.75,746.826 \"/>\n",
       "<path clip-path=\"url(#clip792)\" d=\"M1492.98 856.027 L1492.98 1445.72 L1539.22 1445.72 L1539.22 856.027 L1492.98 856.027 L1492.98 856.027  Z\" fill=\"#009af9\" fill-rule=\"evenodd\" fill-opacity=\"1\"/>\n",
       "<polyline clip-path=\"url(#clip792)\" style=\"stroke:#000000; stroke-linecap:round; stroke-linejoin:round; stroke-width:4; stroke-opacity:1; fill:none\" points=\"1492.98,856.027 1492.98,1445.72 1539.22,1445.72 1539.22,856.027 1492.98,856.027 \"/>\n",
       "<path clip-path=\"url(#clip792)\" d=\"M1539.22 950.669 L1539.22 1445.72 L1585.45 1445.72 L1585.45 950.669 L1539.22 950.669 L1539.22 950.669  Z\" fill=\"#009af9\" fill-rule=\"evenodd\" fill-opacity=\"1\"/>\n",
       "<polyline clip-path=\"url(#clip792)\" style=\"stroke:#000000; stroke-linecap:round; stroke-linejoin:round; stroke-width:4; stroke-opacity:1; fill:none\" points=\"1539.22,950.669 1539.22,1445.72 1585.45,1445.72 1585.45,950.669 1539.22,950.669 \"/>\n",
       "<path clip-path=\"url(#clip792)\" d=\"M1585.45 1052.59 L1585.45 1445.72 L1631.69 1445.72 L1631.69 1052.59 L1585.45 1052.59 L1585.45 1052.59  Z\" fill=\"#009af9\" fill-rule=\"evenodd\" fill-opacity=\"1\"/>\n",
       "<polyline clip-path=\"url(#clip792)\" style=\"stroke:#000000; stroke-linecap:round; stroke-linejoin:round; stroke-width:4; stroke-opacity:1; fill:none\" points=\"1585.45,1052.59 1585.45,1445.72 1631.69,1445.72 1631.69,1052.59 1585.45,1052.59 \"/>\n",
       "<path clip-path=\"url(#clip792)\" d=\"M1631.69 1183.63 L1631.69 1445.72 L1677.92 1445.72 L1677.92 1183.63 L1631.69 1183.63 L1631.69 1183.63  Z\" fill=\"#009af9\" fill-rule=\"evenodd\" fill-opacity=\"1\"/>\n",
       "<polyline clip-path=\"url(#clip792)\" style=\"stroke:#000000; stroke-linecap:round; stroke-linejoin:round; stroke-width:4; stroke-opacity:1; fill:none\" points=\"1631.69,1183.63 1631.69,1445.72 1677.92,1445.72 1677.92,1183.63 1631.69,1183.63 \"/>\n",
       "<path clip-path=\"url(#clip792)\" d=\"M1677.92 1209.11 L1677.92 1445.72 L1724.16 1445.72 L1724.16 1209.11 L1677.92 1209.11 L1677.92 1209.11  Z\" fill=\"#009af9\" fill-rule=\"evenodd\" fill-opacity=\"1\"/>\n",
       "<polyline clip-path=\"url(#clip792)\" style=\"stroke:#000000; stroke-linecap:round; stroke-linejoin:round; stroke-width:4; stroke-opacity:1; fill:none\" points=\"1677.92,1209.11 1677.92,1445.72 1724.16,1445.72 1724.16,1209.11 1677.92,1209.11 \"/>\n",
       "<path clip-path=\"url(#clip792)\" d=\"M1724.16 1311.03 L1724.16 1445.72 L1770.39 1445.72 L1770.39 1311.03 L1724.16 1311.03 L1724.16 1311.03  Z\" fill=\"#009af9\" fill-rule=\"evenodd\" fill-opacity=\"1\"/>\n",
       "<polyline clip-path=\"url(#clip792)\" style=\"stroke:#000000; stroke-linecap:round; stroke-linejoin:round; stroke-width:4; stroke-opacity:1; fill:none\" points=\"1724.16,1311.03 1724.16,1445.72 1770.39,1445.72 1770.39,1311.03 1724.16,1311.03 \"/>\n",
       "<path clip-path=\"url(#clip792)\" d=\"M1770.39 1369.27 L1770.39 1445.72 L1816.63 1445.72 L1816.63 1369.27 L1770.39 1369.27 L1770.39 1369.27  Z\" fill=\"#009af9\" fill-rule=\"evenodd\" fill-opacity=\"1\"/>\n",
       "<polyline clip-path=\"url(#clip792)\" style=\"stroke:#000000; stroke-linecap:round; stroke-linejoin:round; stroke-width:4; stroke-opacity:1; fill:none\" points=\"1770.39,1369.27 1770.39,1445.72 1816.63,1445.72 1816.63,1369.27 1770.39,1369.27 \"/>\n",
       "<path clip-path=\"url(#clip792)\" d=\"M1816.63 1358.35 L1816.63 1445.72 L1862.87 1445.72 L1862.87 1358.35 L1816.63 1358.35 L1816.63 1358.35  Z\" fill=\"#009af9\" fill-rule=\"evenodd\" fill-opacity=\"1\"/>\n",
       "<polyline clip-path=\"url(#clip792)\" style=\"stroke:#000000; stroke-linecap:round; stroke-linejoin:round; stroke-width:4; stroke-opacity:1; fill:none\" points=\"1816.63,1358.35 1816.63,1445.72 1862.87,1445.72 1862.87,1358.35 1816.63,1358.35 \"/>\n",
       "<path clip-path=\"url(#clip792)\" d=\"M1862.87 1387.47 L1862.87 1445.72 L1909.1 1445.72 L1909.1 1387.47 L1862.87 1387.47 L1862.87 1387.47  Z\" fill=\"#009af9\" fill-rule=\"evenodd\" fill-opacity=\"1\"/>\n",
       "<polyline clip-path=\"url(#clip792)\" style=\"stroke:#000000; stroke-linecap:round; stroke-linejoin:round; stroke-width:4; stroke-opacity:1; fill:none\" points=\"1862.87,1387.47 1862.87,1445.72 1909.1,1445.72 1909.1,1387.47 1862.87,1387.47 \"/>\n",
       "<path clip-path=\"url(#clip792)\" d=\"M1909.1 1402.04 L1909.1 1445.72 L1955.34 1445.72 L1955.34 1402.04 L1909.1 1402.04 L1909.1 1402.04  Z\" fill=\"#009af9\" fill-rule=\"evenodd\" fill-opacity=\"1\"/>\n",
       "<polyline clip-path=\"url(#clip792)\" style=\"stroke:#000000; stroke-linecap:round; stroke-linejoin:round; stroke-width:4; stroke-opacity:1; fill:none\" points=\"1909.1,1402.04 1909.1,1445.72 1955.34,1445.72 1955.34,1402.04 1909.1,1402.04 \"/>\n",
       "<path clip-path=\"url(#clip792)\" d=\"M1955.34 1434.8 L1955.34 1445.72 L2001.57 1445.72 L2001.57 1434.8 L1955.34 1434.8 L1955.34 1434.8  Z\" fill=\"#009af9\" fill-rule=\"evenodd\" fill-opacity=\"1\"/>\n",
       "<polyline clip-path=\"url(#clip792)\" style=\"stroke:#000000; stroke-linecap:round; stroke-linejoin:round; stroke-width:4; stroke-opacity:1; fill:none\" points=\"1955.34,1434.8 1955.34,1445.72 2001.57,1445.72 2001.57,1434.8 1955.34,1434.8 \"/>\n",
       "<path clip-path=\"url(#clip792)\" d=\"M2001.57 1442.08 L2001.57 1445.72 L2047.81 1445.72 L2047.81 1442.08 L2001.57 1442.08 L2001.57 1442.08  Z\" fill=\"#009af9\" fill-rule=\"evenodd\" fill-opacity=\"1\"/>\n",
       "<polyline clip-path=\"url(#clip792)\" style=\"stroke:#000000; stroke-linecap:round; stroke-linejoin:round; stroke-width:4; stroke-opacity:1; fill:none\" points=\"2001.57,1442.08 2001.57,1445.72 2047.81,1445.72 2047.81,1442.08 2001.57,1442.08 \"/>\n",
       "<path clip-path=\"url(#clip792)\" d=\"M2047.81 1438.44 L2047.81 1445.72 L2094.04 1445.72 L2094.04 1438.44 L2047.81 1438.44 L2047.81 1438.44  Z\" fill=\"#009af9\" fill-rule=\"evenodd\" fill-opacity=\"1\"/>\n",
       "<polyline clip-path=\"url(#clip792)\" style=\"stroke:#000000; stroke-linecap:round; stroke-linejoin:round; stroke-width:4; stroke-opacity:1; fill:none\" points=\"2047.81,1438.44 2047.81,1445.72 2094.04,1445.72 2094.04,1438.44 2047.81,1438.44 \"/>\n",
       "<path clip-path=\"url(#clip792)\" d=\"M2094.04 1445.72 L2094.04 1445.72 L2140.28 1445.72 L2140.28 1445.72 L2094.04 1445.72 L2094.04 1445.72  Z\" fill=\"#009af9\" fill-rule=\"evenodd\" fill-opacity=\"1\"/>\n",
       "<polyline clip-path=\"url(#clip792)\" style=\"stroke:#000000; stroke-linecap:round; stroke-linejoin:round; stroke-width:4; stroke-opacity:1; fill:none\" points=\"2094.04,1445.72 2094.04,1445.72 2140.28,1445.72 2094.04,1445.72 \"/>\n",
       "<path clip-path=\"url(#clip792)\" d=\"M2140.28 1442.08 L2140.28 1445.72 L2186.51 1445.72 L2186.51 1442.08 L2140.28 1442.08 L2140.28 1442.08  Z\" fill=\"#009af9\" fill-rule=\"evenodd\" fill-opacity=\"1\"/>\n",
       "<polyline clip-path=\"url(#clip792)\" style=\"stroke:#000000; stroke-linecap:round; stroke-linejoin:round; stroke-width:4; stroke-opacity:1; fill:none\" points=\"2140.28,1442.08 2140.28,1445.72 2186.51,1445.72 2186.51,1442.08 2140.28,1442.08 \"/>\n",
       "<path clip-path=\"url(#clip792)\" d=\"M2186.51 1442.08 L2186.51 1445.72 L2232.75 1445.72 L2232.75 1442.08 L2186.51 1442.08 L2186.51 1442.08  Z\" fill=\"#009af9\" fill-rule=\"evenodd\" fill-opacity=\"1\"/>\n",
       "<polyline clip-path=\"url(#clip792)\" style=\"stroke:#000000; stroke-linecap:round; stroke-linejoin:round; stroke-width:4; stroke-opacity:1; fill:none\" points=\"2186.51,1442.08 2186.51,1445.72 2232.75,1445.72 2232.75,1442.08 2186.51,1442.08 \"/>\n",
       "<circle clip-path=\"url(#clip792)\" style=\"fill:#009af9; stroke:none; fill-opacity:0\" cx=\"313.983\" cy=\"1442.08\" r=\"2\"/>\n",
       "<circle clip-path=\"url(#clip792)\" style=\"fill:#009af9; stroke:none; fill-opacity:0\" cx=\"360.219\" cy=\"1445.72\" r=\"2\"/>\n",
       "<circle clip-path=\"url(#clip792)\" style=\"fill:#009af9; stroke:none; fill-opacity:0\" cx=\"406.454\" cy=\"1442.08\" r=\"2\"/>\n",
       "<circle clip-path=\"url(#clip792)\" style=\"fill:#009af9; stroke:none; fill-opacity:0\" cx=\"452.689\" cy=\"1431.16\" r=\"2\"/>\n",
       "<circle clip-path=\"url(#clip792)\" style=\"fill:#009af9; stroke:none; fill-opacity:0\" cx=\"498.924\" cy=\"1423.88\" r=\"2\"/>\n",
       "<circle clip-path=\"url(#clip792)\" style=\"fill:#009af9; stroke:none; fill-opacity:0\" cx=\"545.16\" cy=\"1416.6\" r=\"2\"/>\n",
       "<circle clip-path=\"url(#clip792)\" style=\"fill:#009af9; stroke:none; fill-opacity:0\" cx=\"591.395\" cy=\"1402.04\" r=\"2\"/>\n",
       "<circle clip-path=\"url(#clip792)\" style=\"fill:#009af9; stroke:none; fill-opacity:0\" cx=\"637.63\" cy=\"1311.03\" r=\"2\"/>\n",
       "<circle clip-path=\"url(#clip792)\" style=\"fill:#009af9; stroke:none; fill-opacity:0\" cx=\"683.866\" cy=\"1263.71\" r=\"2\"/>\n",
       "<circle clip-path=\"url(#clip792)\" style=\"fill:#009af9; stroke:none; fill-opacity:0\" cx=\"730.101\" cy=\"1154.51\" r=\"2\"/>\n",
       "<circle clip-path=\"url(#clip792)\" style=\"fill:#009af9; stroke:none; fill-opacity:0\" cx=\"776.336\" cy=\"1129.03\" r=\"2\"/>\n",
       "<circle clip-path=\"url(#clip792)\" style=\"fill:#009af9; stroke:none; fill-opacity:0\" cx=\"822.571\" cy=\"1012.55\" r=\"2\"/>\n",
       "<circle clip-path=\"url(#clip792)\" style=\"fill:#009af9; stroke:none; fill-opacity:0\" cx=\"868.807\" cy=\"859.667\" r=\"2\"/>\n",
       "<circle clip-path=\"url(#clip792)\" style=\"fill:#009af9; stroke:none; fill-opacity:0\" cx=\"915.042\" cy=\"772.306\" r=\"2\"/>\n",
       "<circle clip-path=\"url(#clip792)\" style=\"fill:#009af9; stroke:none; fill-opacity:0\" cx=\"961.277\" cy=\"615.784\" r=\"2\"/>\n",
       "<circle clip-path=\"url(#clip792)\" style=\"fill:#009af9; stroke:none; fill-opacity:0\" cx=\"1007.51\" cy=\"342.78\" r=\"2\"/>\n",
       "<circle clip-path=\"url(#clip792)\" style=\"fill:#009af9; stroke:none; fill-opacity:0\" cx=\"1053.75\" cy=\"331.86\" r=\"2\"/>\n",
       "<circle clip-path=\"url(#clip792)\" style=\"fill:#009af9; stroke:none; fill-opacity:0\" cx=\"1099.98\" cy=\"175.338\" r=\"2\"/>\n",
       "<circle clip-path=\"url(#clip792)\" style=\"fill:#009af9; stroke:none; fill-opacity:0\" cx=\"1146.22\" cy=\"168.057\" r=\"2\"/>\n",
       "<circle clip-path=\"url(#clip792)\" style=\"fill:#009af9; stroke:none; fill-opacity:0\" cx=\"1192.45\" cy=\"164.417\" r=\"2\"/>\n",
       "<circle clip-path=\"url(#clip792)\" style=\"fill:#009af9; stroke:none; fill-opacity:0\" cx=\"1238.69\" cy=\"87.9763\" r=\"2\"/>\n",
       "<circle clip-path=\"url(#clip792)\" style=\"fill:#009af9; stroke:none; fill-opacity:0\" cx=\"1284.92\" cy=\"149.857\" r=\"2\"/>\n",
       "<circle clip-path=\"url(#clip792)\" style=\"fill:#009af9; stroke:none; fill-opacity:0\" cx=\"1331.16\" cy=\"335.5\" r=\"2\"/>\n",
       "<circle clip-path=\"url(#clip792)\" style=\"fill:#009af9; stroke:none; fill-opacity:0\" cx=\"1377.39\" cy=\"612.144\" r=\"2\"/>\n",
       "<circle clip-path=\"url(#clip792)\" style=\"fill:#009af9; stroke:none; fill-opacity:0\" cx=\"1423.63\" cy=\"557.543\" r=\"2\"/>\n",
       "<circle clip-path=\"url(#clip792)\" style=\"fill:#009af9; stroke:none; fill-opacity:0\" cx=\"1469.87\" cy=\"746.826\" r=\"2\"/>\n",
       "<circle clip-path=\"url(#clip792)\" style=\"fill:#009af9; stroke:none; fill-opacity:0\" cx=\"1516.1\" cy=\"856.027\" r=\"2\"/>\n",
       "<circle clip-path=\"url(#clip792)\" style=\"fill:#009af9; stroke:none; fill-opacity:0\" cx=\"1562.34\" cy=\"950.669\" r=\"2\"/>\n",
       "<circle clip-path=\"url(#clip792)\" style=\"fill:#009af9; stroke:none; fill-opacity:0\" cx=\"1608.57\" cy=\"1052.59\" r=\"2\"/>\n",
       "<circle clip-path=\"url(#clip792)\" style=\"fill:#009af9; stroke:none; fill-opacity:0\" cx=\"1654.81\" cy=\"1183.63\" r=\"2\"/>\n",
       "<circle clip-path=\"url(#clip792)\" style=\"fill:#009af9; stroke:none; fill-opacity:0\" cx=\"1701.04\" cy=\"1209.11\" r=\"2\"/>\n",
       "<circle clip-path=\"url(#clip792)\" style=\"fill:#009af9; stroke:none; fill-opacity:0\" cx=\"1747.28\" cy=\"1311.03\" r=\"2\"/>\n",
       "<circle clip-path=\"url(#clip792)\" style=\"fill:#009af9; stroke:none; fill-opacity:0\" cx=\"1793.51\" cy=\"1369.27\" r=\"2\"/>\n",
       "<circle clip-path=\"url(#clip792)\" style=\"fill:#009af9; stroke:none; fill-opacity:0\" cx=\"1839.75\" cy=\"1358.35\" r=\"2\"/>\n",
       "<circle clip-path=\"url(#clip792)\" style=\"fill:#009af9; stroke:none; fill-opacity:0\" cx=\"1885.98\" cy=\"1387.47\" r=\"2\"/>\n",
       "<circle clip-path=\"url(#clip792)\" style=\"fill:#009af9; stroke:none; fill-opacity:0\" cx=\"1932.22\" cy=\"1402.04\" r=\"2\"/>\n",
       "<circle clip-path=\"url(#clip792)\" style=\"fill:#009af9; stroke:none; fill-opacity:0\" cx=\"1978.45\" cy=\"1434.8\" r=\"2\"/>\n",
       "<circle clip-path=\"url(#clip792)\" style=\"fill:#009af9; stroke:none; fill-opacity:0\" cx=\"2024.69\" cy=\"1442.08\" r=\"2\"/>\n",
       "<circle clip-path=\"url(#clip792)\" style=\"fill:#009af9; stroke:none; fill-opacity:0\" cx=\"2070.92\" cy=\"1438.44\" r=\"2\"/>\n",
       "<circle clip-path=\"url(#clip792)\" style=\"fill:#009af9; stroke:none; fill-opacity:0\" cx=\"2117.16\" cy=\"1445.72\" r=\"2\"/>\n",
       "<circle clip-path=\"url(#clip792)\" style=\"fill:#009af9; stroke:none; fill-opacity:0\" cx=\"2163.39\" cy=\"1442.08\" r=\"2\"/>\n",
       "<circle clip-path=\"url(#clip792)\" style=\"fill:#009af9; stroke:none; fill-opacity:0\" cx=\"2209.63\" cy=\"1442.08\" r=\"2\"/>\n",
       "<path clip-path=\"url(#clip790)\" d=\"M2009.41 198.898 L2280.03 198.898 L2280.03 95.2176 L2009.41 95.2176  Z\" fill=\"#ffffff\" fill-rule=\"evenodd\" fill-opacity=\"1\"/>\n",
       "<polyline clip-path=\"url(#clip790)\" style=\"stroke:#000000; stroke-linecap:round; stroke-linejoin:round; stroke-width:4; stroke-opacity:1; fill:none\" points=\"2009.41,198.898 2280.03,198.898 2280.03,95.2176 2009.41,95.2176 2009.41,198.898 \"/>\n",
       "<path clip-path=\"url(#clip790)\" d=\"M2033.65 167.794 L2179.11 167.794 L2179.11 126.322 L2033.65 126.322 L2033.65 167.794  Z\" fill=\"#009af9\" fill-rule=\"evenodd\" fill-opacity=\"1\"/>\n",
       "<polyline clip-path=\"url(#clip790)\" style=\"stroke:#000000; stroke-linecap:round; stroke-linejoin:round; stroke-width:4; stroke-opacity:1; fill:none\" points=\"2033.65,167.794 2179.11,167.794 2179.11,126.322 2033.65,126.322 2033.65,167.794 \"/>\n",
       "<path clip-path=\"url(#clip790)\" d=\"M2217.19 166.745 Q2215.39 171.375 2213.68 172.787 Q2211.96 174.199 2209.09 174.199 L2205.69 174.199 L2205.69 170.634 L2208.19 170.634 Q2209.95 170.634 2210.92 169.8 Q2211.89 168.967 2213.07 165.865 L2213.84 163.921 L2203.35 138.412 L2207.87 138.412 L2215.97 158.689 L2224.07 138.412 L2228.58 138.412 L2217.19 166.745 Z\" fill=\"#000000\" fill-rule=\"nonzero\" fill-opacity=\"1\" /><path clip-path=\"url(#clip790)\" d=\"M2235.88 160.402 L2243.51 160.402 L2243.51 134.037 L2235.2 135.703 L2235.2 131.444 L2243.47 129.778 L2248.14 129.778 L2248.14 160.402 L2255.78 160.402 L2255.78 164.338 L2235.88 164.338 L2235.88 160.402 Z\" fill=\"#000000\" fill-rule=\"nonzero\" fill-opacity=\"1\" /></svg>\n"
      ]
     },
     "execution_count": 68,
     "metadata": {},
     "output_type": "execute_result"
    }
   ],
   "source": [
    "histogram(test[2])"
   ]
  },
  {
   "cell_type": "code",
   "execution_count": 69,
   "id": "dedicated-expert",
   "metadata": {},
   "outputs": [
    {
     "data": {
      "image/svg+xml": [
       "<?xml version=\"1.0\" encoding=\"utf-8\"?>\n",
       "<svg xmlns=\"http://www.w3.org/2000/svg\" xmlns:xlink=\"http://www.w3.org/1999/xlink\" width=\"600\" height=\"400\" viewBox=\"0 0 2400 1600\">\n",
       "<defs>\n",
       "  <clipPath id=\"clip830\">\n",
       "    <rect x=\"0\" y=\"0\" width=\"2400\" height=\"1600\"/>\n",
       "  </clipPath>\n",
       "</defs>\n",
       "<path clip-path=\"url(#clip830)\" d=\"M0 1600 L2400 1600 L2400 0 L0 0  Z\" fill=\"#ffffff\" fill-rule=\"evenodd\" fill-opacity=\"1\"/>\n",
       "<defs>\n",
       "  <clipPath id=\"clip831\">\n",
       "    <rect x=\"480\" y=\"0\" width=\"1681\" height=\"1600\"/>\n",
       "  </clipPath>\n",
       "</defs>\n",
       "<path clip-path=\"url(#clip830)\" d=\"M172.015 1486.45 L2352.76 1486.45 L2352.76 47.2441 L172.015 47.2441  Z\" fill=\"#ffffff\" fill-rule=\"evenodd\" fill-opacity=\"1\"/>\n",
       "<defs>\n",
       "  <clipPath id=\"clip832\">\n",
       "    <rect x=\"172\" y=\"47\" width=\"2182\" height=\"1440\"/>\n",
       "  </clipPath>\n",
       "</defs>\n",
       "<polyline clip-path=\"url(#clip832)\" style=\"stroke:#000000; stroke-linecap:round; stroke-linejoin:round; stroke-width:2; stroke-opacity:0.1; fill:none\" points=\"561.522,1486.45 561.522,47.2441 \"/>\n",
       "<polyline clip-path=\"url(#clip832)\" style=\"stroke:#000000; stroke-linecap:round; stroke-linejoin:round; stroke-width:2; stroke-opacity:0.1; fill:none\" points=\"1100.65,1486.45 1100.65,47.2441 \"/>\n",
       "<polyline clip-path=\"url(#clip832)\" style=\"stroke:#000000; stroke-linecap:round; stroke-linejoin:round; stroke-width:2; stroke-opacity:0.1; fill:none\" points=\"1639.77,1486.45 1639.77,47.2441 \"/>\n",
       "<polyline clip-path=\"url(#clip832)\" style=\"stroke:#000000; stroke-linecap:round; stroke-linejoin:round; stroke-width:2; stroke-opacity:0.1; fill:none\" points=\"2178.9,1486.45 2178.9,47.2441 \"/>\n",
       "<polyline clip-path=\"url(#clip830)\" style=\"stroke:#000000; stroke-linecap:round; stroke-linejoin:round; stroke-width:4; stroke-opacity:1; fill:none\" points=\"172.015,1486.45 2352.76,1486.45 \"/>\n",
       "<polyline clip-path=\"url(#clip830)\" style=\"stroke:#000000; stroke-linecap:round; stroke-linejoin:round; stroke-width:4; stroke-opacity:1; fill:none\" points=\"561.522,1486.45 561.522,1467.55 \"/>\n",
       "<polyline clip-path=\"url(#clip830)\" style=\"stroke:#000000; stroke-linecap:round; stroke-linejoin:round; stroke-width:4; stroke-opacity:1; fill:none\" points=\"1100.65,1486.45 1100.65,1467.55 \"/>\n",
       "<polyline clip-path=\"url(#clip830)\" style=\"stroke:#000000; stroke-linecap:round; stroke-linejoin:round; stroke-width:4; stroke-opacity:1; fill:none\" points=\"1639.77,1486.45 1639.77,1467.55 \"/>\n",
       "<polyline clip-path=\"url(#clip830)\" style=\"stroke:#000000; stroke-linecap:round; stroke-linejoin:round; stroke-width:4; stroke-opacity:1; fill:none\" points=\"2178.9,1486.45 2178.9,1467.55 \"/>\n",
       "<path clip-path=\"url(#clip830)\" d=\"M523.826 1517.37 Q520.215 1517.37 518.386 1520.93 Q516.58 1524.47 516.58 1531.6 Q516.58 1538.71 518.386 1542.27 Q520.215 1545.82 523.826 1545.82 Q527.46 1545.82 529.265 1542.27 Q531.094 1538.71 531.094 1531.6 Q531.094 1524.47 529.265 1520.93 Q527.46 1517.37 523.826 1517.37 M523.826 1513.66 Q529.636 1513.66 532.691 1518.27 Q535.77 1522.85 535.77 1531.6 Q535.77 1540.33 532.691 1544.94 Q529.636 1549.52 523.826 1549.52 Q518.015 1549.52 514.937 1544.94 Q511.881 1540.33 511.881 1531.6 Q511.881 1522.85 514.937 1518.27 Q518.015 1513.66 523.826 1513.66 Z\" fill=\"#000000\" fill-rule=\"nonzero\" fill-opacity=\"1\" /><path clip-path=\"url(#clip830)\" d=\"M543.988 1542.97 L548.872 1542.97 L548.872 1548.85 L543.988 1548.85 L543.988 1542.97 Z\" fill=\"#000000\" fill-rule=\"nonzero\" fill-opacity=\"1\" /><path clip-path=\"url(#clip830)\" d=\"M569.636 1529.7 Q566.487 1529.7 564.636 1531.86 Q562.807 1534.01 562.807 1537.76 Q562.807 1541.49 564.636 1543.66 Q566.487 1545.82 569.636 1545.82 Q572.784 1545.82 574.612 1543.66 Q576.464 1541.49 576.464 1537.76 Q576.464 1534.01 574.612 1531.86 Q572.784 1529.7 569.636 1529.7 M578.918 1515.05 L578.918 1519.31 Q577.159 1518.48 575.353 1518.04 Q573.571 1517.6 571.812 1517.6 Q567.182 1517.6 564.728 1520.72 Q562.298 1523.85 561.95 1530.17 Q563.316 1528.15 565.376 1527.09 Q567.437 1526 569.913 1526 Q575.122 1526 578.131 1529.17 Q581.163 1532.32 581.163 1537.76 Q581.163 1543.08 578.015 1546.3 Q574.867 1549.52 569.636 1549.52 Q563.64 1549.52 560.469 1544.94 Q557.298 1540.33 557.298 1531.6 Q557.298 1523.41 561.187 1518.55 Q565.075 1513.66 571.626 1513.66 Q573.386 1513.66 575.168 1514.01 Q576.974 1514.36 578.918 1515.05 Z\" fill=\"#000000\" fill-rule=\"nonzero\" fill-opacity=\"1\" /><path clip-path=\"url(#clip830)\" d=\"M599.219 1517.37 Q595.608 1517.37 593.779 1520.93 Q591.973 1524.47 591.973 1531.6 Q591.973 1538.71 593.779 1542.27 Q595.608 1545.82 599.219 1545.82 Q602.853 1545.82 604.659 1542.27 Q606.487 1538.71 606.487 1531.6 Q606.487 1524.47 604.659 1520.93 Q602.853 1517.37 599.219 1517.37 M599.219 1513.66 Q605.029 1513.66 608.084 1518.27 Q611.163 1522.85 611.163 1531.6 Q611.163 1540.33 608.084 1544.94 Q605.029 1549.52 599.219 1549.52 Q593.409 1549.52 590.33 1544.94 Q587.274 1540.33 587.274 1531.6 Q587.274 1522.85 590.33 1518.27 Q593.409 1513.66 599.219 1513.66 Z\" fill=\"#000000\" fill-rule=\"nonzero\" fill-opacity=\"1\" /><path clip-path=\"url(#clip830)\" d=\"M1063.45 1517.37 Q1059.84 1517.37 1058.01 1520.93 Q1056.2 1524.47 1056.2 1531.6 Q1056.2 1538.71 1058.01 1542.27 Q1059.84 1545.82 1063.45 1545.82 Q1067.08 1545.82 1068.89 1542.27 Q1070.72 1538.71 1070.72 1531.6 Q1070.72 1524.47 1068.89 1520.93 Q1067.08 1517.37 1063.45 1517.37 M1063.45 1513.66 Q1069.26 1513.66 1072.31 1518.27 Q1075.39 1522.85 1075.39 1531.6 Q1075.39 1540.33 1072.31 1544.94 Q1069.26 1549.52 1063.45 1549.52 Q1057.64 1549.52 1054.56 1544.94 Q1051.5 1540.33 1051.5 1531.6 Q1051.5 1522.85 1054.56 1518.27 Q1057.64 1513.66 1063.45 1513.66 Z\" fill=\"#000000\" fill-rule=\"nonzero\" fill-opacity=\"1\" /><path clip-path=\"url(#clip830)\" d=\"M1083.61 1542.97 L1088.49 1542.97 L1088.49 1548.85 L1083.61 1548.85 L1083.61 1542.97 Z\" fill=\"#000000\" fill-rule=\"nonzero\" fill-opacity=\"1\" /><path clip-path=\"url(#clip830)\" d=\"M1109.26 1529.7 Q1106.11 1529.7 1104.26 1531.86 Q1102.43 1534.01 1102.43 1537.76 Q1102.43 1541.49 1104.26 1543.66 Q1106.11 1545.82 1109.26 1545.82 Q1112.41 1545.82 1114.24 1543.66 Q1116.09 1541.49 1116.09 1537.76 Q1116.09 1534.01 1114.24 1531.86 Q1112.41 1529.7 1109.26 1529.7 M1118.54 1515.05 L1118.54 1519.31 Q1116.78 1518.48 1114.98 1518.04 Q1113.19 1517.6 1111.43 1517.6 Q1106.81 1517.6 1104.35 1520.72 Q1101.92 1523.85 1101.57 1530.17 Q1102.94 1528.15 1105 1527.09 Q1107.06 1526 1109.54 1526 Q1114.74 1526 1117.75 1529.17 Q1120.79 1532.32 1120.79 1537.76 Q1120.79 1543.08 1117.64 1546.3 Q1114.49 1549.52 1109.26 1549.52 Q1103.26 1549.52 1100.09 1544.94 Q1096.92 1540.33 1096.92 1531.6 Q1096.92 1523.41 1100.81 1518.55 Q1104.7 1513.66 1111.25 1513.66 Q1113.01 1513.66 1114.79 1514.01 Q1116.6 1514.36 1118.54 1515.05 Z\" fill=\"#000000\" fill-rule=\"nonzero\" fill-opacity=\"1\" /><path clip-path=\"url(#clip830)\" d=\"M1128.89 1514.29 L1147.24 1514.29 L1147.24 1518.22 L1133.17 1518.22 L1133.17 1526.7 Q1134.19 1526.35 1135.21 1526.19 Q1136.23 1526 1137.24 1526 Q1143.03 1526 1146.41 1529.17 Q1149.79 1532.34 1149.79 1537.76 Q1149.79 1543.34 1146.32 1546.44 Q1142.85 1549.52 1136.53 1549.52 Q1134.35 1549.52 1132.08 1549.15 Q1129.84 1548.78 1127.43 1548.04 L1127.43 1543.34 Q1129.51 1544.47 1131.74 1545.03 Q1133.96 1545.58 1136.43 1545.58 Q1140.44 1545.58 1142.78 1543.48 Q1145.12 1541.37 1145.12 1537.76 Q1145.12 1534.15 1142.78 1532.04 Q1140.44 1529.94 1136.43 1529.94 Q1134.56 1529.94 1132.68 1530.35 Q1130.83 1530.77 1128.89 1531.65 L1128.89 1514.29 Z\" fill=\"#000000\" fill-rule=\"nonzero\" fill-opacity=\"1\" /><path clip-path=\"url(#clip830)\" d=\"M1602.08 1517.37 Q1598.47 1517.37 1596.64 1520.93 Q1594.83 1524.47 1594.83 1531.6 Q1594.83 1538.71 1596.64 1542.27 Q1598.47 1545.82 1602.08 1545.82 Q1605.71 1545.82 1607.52 1542.27 Q1609.35 1538.71 1609.35 1531.6 Q1609.35 1524.47 1607.52 1520.93 Q1605.71 1517.37 1602.08 1517.37 M1602.08 1513.66 Q1607.89 1513.66 1610.94 1518.27 Q1614.02 1522.85 1614.02 1531.6 Q1614.02 1540.33 1610.94 1544.94 Q1607.89 1549.52 1602.08 1549.52 Q1596.27 1549.52 1593.19 1544.94 Q1590.13 1540.33 1590.13 1531.6 Q1590.13 1522.85 1593.19 1518.27 Q1596.27 1513.66 1602.08 1513.66 Z\" fill=\"#000000\" fill-rule=\"nonzero\" fill-opacity=\"1\" /><path clip-path=\"url(#clip830)\" d=\"M1622.24 1542.97 L1627.12 1542.97 L1627.12 1548.85 L1622.24 1548.85 L1622.24 1542.97 Z\" fill=\"#000000\" fill-rule=\"nonzero\" fill-opacity=\"1\" /><path clip-path=\"url(#clip830)\" d=\"M1636.13 1514.29 L1658.35 1514.29 L1658.35 1516.28 L1645.8 1548.85 L1640.92 1548.85 L1652.72 1518.22 L1636.13 1518.22 L1636.13 1514.29 Z\" fill=\"#000000\" fill-rule=\"nonzero\" fill-opacity=\"1\" /><path clip-path=\"url(#clip830)\" d=\"M1677.47 1517.37 Q1673.86 1517.37 1672.03 1520.93 Q1670.22 1524.47 1670.22 1531.6 Q1670.22 1538.71 1672.03 1542.27 Q1673.86 1545.82 1677.47 1545.82 Q1681.1 1545.82 1682.91 1542.27 Q1684.74 1538.71 1684.74 1531.6 Q1684.74 1524.47 1682.91 1520.93 Q1681.1 1517.37 1677.47 1517.37 M1677.47 1513.66 Q1683.28 1513.66 1686.34 1518.27 Q1689.41 1522.85 1689.41 1531.6 Q1689.41 1540.33 1686.34 1544.94 Q1683.28 1549.52 1677.47 1549.52 Q1671.66 1549.52 1668.58 1544.94 Q1665.53 1540.33 1665.53 1531.6 Q1665.53 1522.85 1668.58 1518.27 Q1671.66 1513.66 1677.47 1513.66 Z\" fill=\"#000000\" fill-rule=\"nonzero\" fill-opacity=\"1\" /><path clip-path=\"url(#clip830)\" d=\"M2141.7 1517.37 Q2138.09 1517.37 2136.26 1520.93 Q2134.45 1524.47 2134.45 1531.6 Q2134.45 1538.71 2136.26 1542.27 Q2138.09 1545.82 2141.7 1545.82 Q2145.33 1545.82 2147.14 1542.27 Q2148.97 1538.71 2148.97 1531.6 Q2148.97 1524.47 2147.14 1520.93 Q2145.33 1517.37 2141.7 1517.37 M2141.7 1513.66 Q2147.51 1513.66 2150.57 1518.27 Q2153.64 1522.85 2153.64 1531.6 Q2153.64 1540.33 2150.57 1544.94 Q2147.51 1549.52 2141.7 1549.52 Q2135.89 1549.52 2132.81 1544.94 Q2129.76 1540.33 2129.76 1531.6 Q2129.76 1522.85 2132.81 1518.27 Q2135.89 1513.66 2141.7 1513.66 Z\" fill=\"#000000\" fill-rule=\"nonzero\" fill-opacity=\"1\" /><path clip-path=\"url(#clip830)\" d=\"M2161.86 1542.97 L2166.75 1542.97 L2166.75 1548.85 L2161.86 1548.85 L2161.86 1542.97 Z\" fill=\"#000000\" fill-rule=\"nonzero\" fill-opacity=\"1\" /><path clip-path=\"url(#clip830)\" d=\"M2175.75 1514.29 L2197.97 1514.29 L2197.97 1516.28 L2185.43 1548.85 L2180.54 1548.85 L2192.35 1518.22 L2175.75 1518.22 L2175.75 1514.29 Z\" fill=\"#000000\" fill-rule=\"nonzero\" fill-opacity=\"1\" /><path clip-path=\"url(#clip830)\" d=\"M2207.14 1514.29 L2225.5 1514.29 L2225.5 1518.22 L2211.42 1518.22 L2211.42 1526.7 Q2212.44 1526.35 2213.46 1526.19 Q2214.48 1526 2215.5 1526 Q2221.28 1526 2224.66 1529.17 Q2228.04 1532.34 2228.04 1537.76 Q2228.04 1543.34 2224.57 1546.44 Q2221.1 1549.52 2214.78 1549.52 Q2212.6 1549.52 2210.33 1549.15 Q2208.09 1548.78 2205.68 1548.04 L2205.68 1543.34 Q2207.76 1544.47 2209.99 1545.03 Q2212.21 1545.58 2214.69 1545.58 Q2218.69 1545.58 2221.03 1543.48 Q2223.37 1541.37 2223.37 1537.76 Q2223.37 1534.15 2221.03 1532.04 Q2218.69 1529.94 2214.69 1529.94 Q2212.81 1529.94 2210.94 1530.35 Q2209.08 1530.77 2207.14 1531.65 L2207.14 1514.29 Z\" fill=\"#000000\" fill-rule=\"nonzero\" fill-opacity=\"1\" /><polyline clip-path=\"url(#clip832)\" style=\"stroke:#000000; stroke-linecap:round; stroke-linejoin:round; stroke-width:2; stroke-opacity:0.1; fill:none\" points=\"172.015,1445.72 2352.76,1445.72 \"/>\n",
       "<polyline clip-path=\"url(#clip832)\" style=\"stroke:#000000; stroke-linecap:round; stroke-linejoin:round; stroke-width:2; stroke-opacity:0.1; fill:none\" points=\"172.015,1154.36 2352.76,1154.36 \"/>\n",
       "<polyline clip-path=\"url(#clip832)\" style=\"stroke:#000000; stroke-linecap:round; stroke-linejoin:round; stroke-width:2; stroke-opacity:0.1; fill:none\" points=\"172.015,862.995 2352.76,862.995 \"/>\n",
       "<polyline clip-path=\"url(#clip832)\" style=\"stroke:#000000; stroke-linecap:round; stroke-linejoin:round; stroke-width:2; stroke-opacity:0.1; fill:none\" points=\"172.015,571.635 2352.76,571.635 \"/>\n",
       "<polyline clip-path=\"url(#clip832)\" style=\"stroke:#000000; stroke-linecap:round; stroke-linejoin:round; stroke-width:2; stroke-opacity:0.1; fill:none\" points=\"172.015,280.274 2352.76,280.274 \"/>\n",
       "<polyline clip-path=\"url(#clip830)\" style=\"stroke:#000000; stroke-linecap:round; stroke-linejoin:round; stroke-width:4; stroke-opacity:1; fill:none\" points=\"172.015,1486.45 172.015,47.2441 \"/>\n",
       "<polyline clip-path=\"url(#clip830)\" style=\"stroke:#000000; stroke-linecap:round; stroke-linejoin:round; stroke-width:4; stroke-opacity:1; fill:none\" points=\"172.015,1445.72 190.912,1445.72 \"/>\n",
       "<polyline clip-path=\"url(#clip830)\" style=\"stroke:#000000; stroke-linecap:round; stroke-linejoin:round; stroke-width:4; stroke-opacity:1; fill:none\" points=\"172.015,1154.36 190.912,1154.36 \"/>\n",
       "<polyline clip-path=\"url(#clip830)\" style=\"stroke:#000000; stroke-linecap:round; stroke-linejoin:round; stroke-width:4; stroke-opacity:1; fill:none\" points=\"172.015,862.995 190.912,862.995 \"/>\n",
       "<polyline clip-path=\"url(#clip830)\" style=\"stroke:#000000; stroke-linecap:round; stroke-linejoin:round; stroke-width:4; stroke-opacity:1; fill:none\" points=\"172.015,571.635 190.912,571.635 \"/>\n",
       "<polyline clip-path=\"url(#clip830)\" style=\"stroke:#000000; stroke-linecap:round; stroke-linejoin:round; stroke-width:4; stroke-opacity:1; fill:none\" points=\"172.015,280.274 190.912,280.274 \"/>\n",
       "<path clip-path=\"url(#clip830)\" d=\"M124.07 1431.51 Q120.459 1431.51 118.631 1435.08 Q116.825 1438.62 116.825 1445.75 Q116.825 1452.86 118.631 1456.42 Q120.459 1459.96 124.07 1459.96 Q127.705 1459.96 129.51 1456.42 Q131.339 1452.86 131.339 1445.75 Q131.339 1438.62 129.51 1435.08 Q127.705 1431.51 124.07 1431.51 M124.07 1427.81 Q129.881 1427.81 132.936 1432.42 Q136.015 1437 136.015 1445.75 Q136.015 1454.48 132.936 1459.08 Q129.881 1463.67 124.07 1463.67 Q118.26 1463.67 115.182 1459.08 Q112.126 1454.48 112.126 1445.75 Q112.126 1437 115.182 1432.42 Q118.26 1427.81 124.07 1427.81 Z\" fill=\"#000000\" fill-rule=\"nonzero\" fill-opacity=\"1\" /><path clip-path=\"url(#clip830)\" d=\"M54.5569 1167.7 L62.1958 1167.7 L62.1958 1141.33 L53.8856 1143 L53.8856 1138.74 L62.1495 1137.08 L66.8254 1137.08 L66.8254 1167.7 L74.4642 1167.7 L74.4642 1171.64 L54.5569 1171.64 L54.5569 1167.7 Z\" fill=\"#000000\" fill-rule=\"nonzero\" fill-opacity=\"1\" /><path clip-path=\"url(#clip830)\" d=\"M93.9086 1140.15 Q90.2975 1140.15 88.4688 1143.72 Q86.6632 1147.26 86.6632 1154.39 Q86.6632 1161.5 88.4688 1165.06 Q90.2975 1168.6 93.9086 1168.6 Q97.5428 1168.6 99.3483 1165.06 Q101.177 1161.5 101.177 1154.39 Q101.177 1147.26 99.3483 1143.72 Q97.5428 1140.15 93.9086 1140.15 M93.9086 1136.45 Q99.7187 1136.45 102.774 1141.06 Q105.853 1145.64 105.853 1154.39 Q105.853 1163.12 102.774 1167.72 Q99.7187 1172.31 93.9086 1172.31 Q88.0984 1172.31 85.0197 1167.72 Q81.9642 1163.12 81.9642 1154.39 Q81.9642 1145.64 85.0197 1141.06 Q88.0984 1136.45 93.9086 1136.45 Z\" fill=\"#000000\" fill-rule=\"nonzero\" fill-opacity=\"1\" /><path clip-path=\"url(#clip830)\" d=\"M124.07 1140.15 Q120.459 1140.15 118.631 1143.72 Q116.825 1147.26 116.825 1154.39 Q116.825 1161.5 118.631 1165.06 Q120.459 1168.6 124.07 1168.6 Q127.705 1168.6 129.51 1165.06 Q131.339 1161.5 131.339 1154.39 Q131.339 1147.26 129.51 1143.72 Q127.705 1140.15 124.07 1140.15 M124.07 1136.45 Q129.881 1136.45 132.936 1141.06 Q136.015 1145.64 136.015 1154.39 Q136.015 1163.12 132.936 1167.72 Q129.881 1172.31 124.07 1172.31 Q118.26 1172.31 115.182 1167.72 Q112.126 1163.12 112.126 1154.39 Q112.126 1145.64 115.182 1141.06 Q118.26 1136.45 124.07 1136.45 Z\" fill=\"#000000\" fill-rule=\"nonzero\" fill-opacity=\"1\" /><path clip-path=\"url(#clip830)\" d=\"M57.7745 876.34 L74.0939 876.34 L74.0939 880.275 L52.1495 880.275 L52.1495 876.34 Q54.8115 873.585 59.3949 868.956 Q64.0013 864.303 65.1819 862.96 Q67.4272 860.437 68.3068 858.701 Q69.2096 856.942 69.2096 855.252 Q69.2096 852.497 67.2652 850.761 Q65.3439 849.025 62.2421 849.025 Q60.043 849.025 57.5893 849.789 Q55.1588 850.553 52.381 852.104 L52.381 847.382 Q55.2051 846.247 57.6588 845.669 Q60.1124 845.09 62.1495 845.09 Q67.5198 845.09 70.7142 847.775 Q73.9087 850.46 73.9087 854.951 Q73.9087 857.081 73.0985 859.002 Q72.3115 860.9 70.205 863.493 Q69.6263 864.164 66.5245 867.381 Q63.4226 870.576 57.7745 876.34 Z\" fill=\"#000000\" fill-rule=\"nonzero\" fill-opacity=\"1\" /><path clip-path=\"url(#clip830)\" d=\"M93.9086 848.794 Q90.2975 848.794 88.4688 852.358 Q86.6632 855.9 86.6632 863.03 Q86.6632 870.136 88.4688 873.701 Q90.2975 877.243 93.9086 877.243 Q97.5428 877.243 99.3483 873.701 Q101.177 870.136 101.177 863.03 Q101.177 855.9 99.3483 852.358 Q97.5428 848.794 93.9086 848.794 M93.9086 845.09 Q99.7187 845.09 102.774 849.696 Q105.853 854.28 105.853 863.03 Q105.853 871.756 102.774 876.363 Q99.7187 880.946 93.9086 880.946 Q88.0984 880.946 85.0197 876.363 Q81.9642 871.756 81.9642 863.03 Q81.9642 854.28 85.0197 849.696 Q88.0984 845.09 93.9086 845.09 Z\" fill=\"#000000\" fill-rule=\"nonzero\" fill-opacity=\"1\" /><path clip-path=\"url(#clip830)\" d=\"M124.07 848.794 Q120.459 848.794 118.631 852.358 Q116.825 855.9 116.825 863.03 Q116.825 870.136 118.631 873.701 Q120.459 877.243 124.07 877.243 Q127.705 877.243 129.51 873.701 Q131.339 870.136 131.339 863.03 Q131.339 855.9 129.51 852.358 Q127.705 848.794 124.07 848.794 M124.07 845.09 Q129.881 845.09 132.936 849.696 Q136.015 854.28 136.015 863.03 Q136.015 871.756 132.936 876.363 Q129.881 880.946 124.07 880.946 Q118.26 880.946 115.182 876.363 Q112.126 871.756 112.126 863.03 Q112.126 854.28 115.182 849.696 Q118.26 845.09 124.07 845.09 Z\" fill=\"#000000\" fill-rule=\"nonzero\" fill-opacity=\"1\" /><path clip-path=\"url(#clip830)\" d=\"M67.9133 570.28 Q71.2698 570.998 73.1448 573.266 Q75.0429 575.535 75.0429 578.868 Q75.0429 583.984 71.5244 586.785 Q68.0059 589.586 61.5245 589.586 Q59.3486 589.586 57.0338 589.146 Q54.7421 588.729 52.2884 587.873 L52.2884 583.359 Q54.2328 584.493 56.5477 585.072 Q58.8625 585.651 61.3856 585.651 Q65.7837 585.651 68.0754 583.915 Q70.3902 582.178 70.3902 578.868 Q70.3902 575.813 68.2374 574.1 Q66.1078 572.364 62.2884 572.364 L58.2606 572.364 L58.2606 568.521 L62.4735 568.521 Q65.9226 568.521 67.7513 567.155 Q69.58 565.766 69.58 563.174 Q69.58 560.512 67.6819 559.1 Q65.8069 557.665 62.2884 557.665 Q60.3671 557.665 58.168 558.081 Q55.969 558.498 53.3301 559.378 L53.3301 555.211 Q55.9921 554.47 58.3069 554.1 Q60.6449 553.73 62.705 553.73 Q68.0291 553.73 71.1309 556.16 Q74.2327 558.567 74.2327 562.688 Q74.2327 565.558 72.5892 567.549 Q70.9457 569.516 67.9133 570.28 Z\" fill=\"#000000\" fill-rule=\"nonzero\" fill-opacity=\"1\" /><path clip-path=\"url(#clip830)\" d=\"M93.9086 557.433 Q90.2975 557.433 88.4688 560.998 Q86.6632 564.54 86.6632 571.669 Q86.6632 578.776 88.4688 582.34 Q90.2975 585.882 93.9086 585.882 Q97.5428 585.882 99.3483 582.34 Q101.177 578.776 101.177 571.669 Q101.177 564.54 99.3483 560.998 Q97.5428 557.433 93.9086 557.433 M93.9086 553.73 Q99.7187 553.73 102.774 558.336 Q105.853 562.919 105.853 571.669 Q105.853 580.396 102.774 585.003 Q99.7187 589.586 93.9086 589.586 Q88.0984 589.586 85.0197 585.003 Q81.9642 580.396 81.9642 571.669 Q81.9642 562.919 85.0197 558.336 Q88.0984 553.73 93.9086 553.73 Z\" fill=\"#000000\" fill-rule=\"nonzero\" fill-opacity=\"1\" /><path clip-path=\"url(#clip830)\" d=\"M124.07 557.433 Q120.459 557.433 118.631 560.998 Q116.825 564.54 116.825 571.669 Q116.825 578.776 118.631 582.34 Q120.459 585.882 124.07 585.882 Q127.705 585.882 129.51 582.34 Q131.339 578.776 131.339 571.669 Q131.339 564.54 129.51 560.998 Q127.705 557.433 124.07 557.433 M124.07 553.73 Q129.881 553.73 132.936 558.336 Q136.015 562.919 136.015 571.669 Q136.015 580.396 132.936 585.003 Q129.881 589.586 124.07 589.586 Q118.26 589.586 115.182 585.003 Q112.126 580.396 112.126 571.669 Q112.126 562.919 115.182 558.336 Q118.26 553.73 124.07 553.73 Z\" fill=\"#000000\" fill-rule=\"nonzero\" fill-opacity=\"1\" /><path clip-path=\"url(#clip830)\" d=\"M66.5939 267.068 L54.7884 285.517 L66.5939 285.517 L66.5939 267.068 M65.367 262.994 L71.2466 262.994 L71.2466 285.517 L76.1772 285.517 L76.1772 289.406 L71.2466 289.406 L71.2466 297.554 L66.5939 297.554 L66.5939 289.406 L50.9921 289.406 L50.9921 284.892 L65.367 262.994 Z\" fill=\"#000000\" fill-rule=\"nonzero\" fill-opacity=\"1\" /><path clip-path=\"url(#clip830)\" d=\"M93.9086 266.073 Q90.2975 266.073 88.4688 269.638 Q86.6632 273.179 86.6632 280.309 Q86.6632 287.415 88.4688 290.98 Q90.2975 294.522 93.9086 294.522 Q97.5428 294.522 99.3483 290.98 Q101.177 287.415 101.177 280.309 Q101.177 273.179 99.3483 269.638 Q97.5428 266.073 93.9086 266.073 M93.9086 262.369 Q99.7187 262.369 102.774 266.976 Q105.853 271.559 105.853 280.309 Q105.853 289.036 102.774 293.642 Q99.7187 298.225 93.9086 298.225 Q88.0984 298.225 85.0197 293.642 Q81.9642 289.036 81.9642 280.309 Q81.9642 271.559 85.0197 266.976 Q88.0984 262.369 93.9086 262.369 Z\" fill=\"#000000\" fill-rule=\"nonzero\" fill-opacity=\"1\" /><path clip-path=\"url(#clip830)\" d=\"M124.07 266.073 Q120.459 266.073 118.631 269.638 Q116.825 273.179 116.825 280.309 Q116.825 287.415 118.631 290.98 Q120.459 294.522 124.07 294.522 Q127.705 294.522 129.51 290.98 Q131.339 287.415 131.339 280.309 Q131.339 273.179 129.51 269.638 Q127.705 266.073 124.07 266.073 M124.07 262.369 Q129.881 262.369 132.936 266.976 Q136.015 271.559 136.015 280.309 Q136.015 289.036 132.936 293.642 Q129.881 298.225 124.07 298.225 Q118.26 298.225 115.182 293.642 Q112.126 289.036 112.126 280.309 Q112.126 271.559 115.182 266.976 Q118.26 262.369 124.07 262.369 Z\" fill=\"#000000\" fill-rule=\"nonzero\" fill-opacity=\"1\" /><path clip-path=\"url(#clip832)\" d=\"M291.959 1442.8 L291.959 1445.72 L345.872 1445.72 L345.872 1442.8 L291.959 1442.8 L291.959 1442.8  Z\" fill=\"#009af9\" fill-rule=\"evenodd\" fill-opacity=\"1\"/>\n",
       "<polyline clip-path=\"url(#clip832)\" style=\"stroke:#000000; stroke-linecap:round; stroke-linejoin:round; stroke-width:4; stroke-opacity:1; fill:none\" points=\"291.959,1442.8 291.959,1445.72 345.872,1445.72 345.872,1442.8 291.959,1442.8 \"/>\n",
       "<path clip-path=\"url(#clip832)\" d=\"M345.872 1442.8 L345.872 1445.72 L399.785 1445.72 L399.785 1442.8 L345.872 1442.8 L345.872 1442.8  Z\" fill=\"#009af9\" fill-rule=\"evenodd\" fill-opacity=\"1\"/>\n",
       "<polyline clip-path=\"url(#clip832)\" style=\"stroke:#000000; stroke-linecap:round; stroke-linejoin:round; stroke-width:4; stroke-opacity:1; fill:none\" points=\"345.872,1442.8 345.872,1445.72 399.785,1445.72 399.785,1442.8 345.872,1442.8 \"/>\n",
       "<path clip-path=\"url(#clip832)\" d=\"M399.785 1445.72 L399.785 1445.72 L453.697 1445.72 L453.697 1445.72 L399.785 1445.72 L399.785 1445.72  Z\" fill=\"#009af9\" fill-rule=\"evenodd\" fill-opacity=\"1\"/>\n",
       "<polyline clip-path=\"url(#clip832)\" style=\"stroke:#000000; stroke-linecap:round; stroke-linejoin:round; stroke-width:4; stroke-opacity:1; fill:none\" points=\"399.785,1445.72 399.785,1445.72 453.697,1445.72 399.785,1445.72 \"/>\n",
       "<path clip-path=\"url(#clip832)\" d=\"M453.697 1439.89 L453.697 1445.72 L507.61 1445.72 L507.61 1439.89 L453.697 1439.89 L453.697 1439.89  Z\" fill=\"#009af9\" fill-rule=\"evenodd\" fill-opacity=\"1\"/>\n",
       "<polyline clip-path=\"url(#clip832)\" style=\"stroke:#000000; stroke-linecap:round; stroke-linejoin:round; stroke-width:4; stroke-opacity:1; fill:none\" points=\"453.697,1439.89 453.697,1445.72 507.61,1445.72 507.61,1439.89 453.697,1439.89 \"/>\n",
       "<path clip-path=\"url(#clip832)\" d=\"M507.61 1425.32 L507.61 1445.72 L561.522 1445.72 L561.522 1425.32 L507.61 1425.32 L507.61 1425.32  Z\" fill=\"#009af9\" fill-rule=\"evenodd\" fill-opacity=\"1\"/>\n",
       "<polyline clip-path=\"url(#clip832)\" style=\"stroke:#000000; stroke-linecap:round; stroke-linejoin:round; stroke-width:4; stroke-opacity:1; fill:none\" points=\"507.61,1425.32 507.61,1445.72 561.522,1445.72 561.522,1425.32 507.61,1425.32 \"/>\n",
       "<path clip-path=\"url(#clip832)\" d=\"M561.522 1410.75 L561.522 1445.72 L615.435 1445.72 L615.435 1410.75 L561.522 1410.75 L561.522 1410.75  Z\" fill=\"#009af9\" fill-rule=\"evenodd\" fill-opacity=\"1\"/>\n",
       "<polyline clip-path=\"url(#clip832)\" style=\"stroke:#000000; stroke-linecap:round; stroke-linejoin:round; stroke-width:4; stroke-opacity:1; fill:none\" points=\"561.522,1410.75 561.522,1445.72 615.435,1445.72 615.435,1410.75 561.522,1410.75 \"/>\n",
       "<path clip-path=\"url(#clip832)\" d=\"M615.435 1355.39 L615.435 1445.72 L669.347 1445.72 L669.347 1355.39 L615.435 1355.39 L615.435 1355.39  Z\" fill=\"#009af9\" fill-rule=\"evenodd\" fill-opacity=\"1\"/>\n",
       "<polyline clip-path=\"url(#clip832)\" style=\"stroke:#000000; stroke-linecap:round; stroke-linejoin:round; stroke-width:4; stroke-opacity:1; fill:none\" points=\"615.435,1355.39 615.435,1445.72 669.347,1445.72 669.347,1355.39 615.435,1355.39 \"/>\n",
       "<path clip-path=\"url(#clip832)\" d=\"M669.347 1326.26 L669.347 1445.72 L723.26 1445.72 L723.26 1326.26 L669.347 1326.26 L669.347 1326.26  Z\" fill=\"#009af9\" fill-rule=\"evenodd\" fill-opacity=\"1\"/>\n",
       "<polyline clip-path=\"url(#clip832)\" style=\"stroke:#000000; stroke-linecap:round; stroke-linejoin:round; stroke-width:4; stroke-opacity:1; fill:none\" points=\"669.347,1326.26 669.347,1445.72 723.26,1445.72 723.26,1326.26 669.347,1326.26 \"/>\n",
       "<path clip-path=\"url(#clip832)\" d=\"M723.26 1259.25 L723.26 1445.72 L777.172 1445.72 L777.172 1259.25 L723.26 1259.25 L723.26 1259.25  Z\" fill=\"#009af9\" fill-rule=\"evenodd\" fill-opacity=\"1\"/>\n",
       "<polyline clip-path=\"url(#clip832)\" style=\"stroke:#000000; stroke-linecap:round; stroke-linejoin:round; stroke-width:4; stroke-opacity:1; fill:none\" points=\"723.26,1259.25 723.26,1445.72 777.172,1445.72 777.172,1259.25 723.26,1259.25 \"/>\n",
       "<path clip-path=\"url(#clip832)\" d=\"M777.172 1160.18 L777.172 1445.72 L831.085 1445.72 L831.085 1160.18 L777.172 1160.18 L777.172 1160.18  Z\" fill=\"#009af9\" fill-rule=\"evenodd\" fill-opacity=\"1\"/>\n",
       "<polyline clip-path=\"url(#clip832)\" style=\"stroke:#000000; stroke-linecap:round; stroke-linejoin:round; stroke-width:4; stroke-opacity:1; fill:none\" points=\"777.172,1160.18 777.172,1445.72 831.085,1445.72 831.085,1160.18 777.172,1160.18 \"/>\n",
       "<path clip-path=\"url(#clip832)\" d=\"M831.085 999.934 L831.085 1445.72 L884.998 1445.72 L884.998 999.934 L831.085 999.934 L831.085 999.934  Z\" fill=\"#009af9\" fill-rule=\"evenodd\" fill-opacity=\"1\"/>\n",
       "<polyline clip-path=\"url(#clip832)\" style=\"stroke:#000000; stroke-linecap:round; stroke-linejoin:round; stroke-width:4; stroke-opacity:1; fill:none\" points=\"831.085,999.934 831.085,1445.72 884.998,1445.72 884.998,999.934 831.085,999.934 \"/>\n",
       "<path clip-path=\"url(#clip832)\" d=\"M884.998 895.045 L884.998 1445.72 L938.91 1445.72 L938.91 895.045 L884.998 895.045 L884.998 895.045  Z\" fill=\"#009af9\" fill-rule=\"evenodd\" fill-opacity=\"1\"/>\n",
       "<polyline clip-path=\"url(#clip832)\" style=\"stroke:#000000; stroke-linecap:round; stroke-linejoin:round; stroke-width:4; stroke-opacity:1; fill:none\" points=\"884.998,895.045 884.998,1445.72 938.91,1445.72 938.91,895.045 884.998,895.045 \"/>\n",
       "<path clip-path=\"url(#clip832)\" d=\"M938.91 647.388 L938.91 1445.72 L992.823 1445.72 L992.823 647.388 L938.91 647.388 L938.91 647.388  Z\" fill=\"#009af9\" fill-rule=\"evenodd\" fill-opacity=\"1\"/>\n",
       "<polyline clip-path=\"url(#clip832)\" style=\"stroke:#000000; stroke-linecap:round; stroke-linejoin:round; stroke-width:4; stroke-opacity:1; fill:none\" points=\"938.91,647.388 938.91,1445.72 992.823,1445.72 992.823,647.388 938.91,647.388 \"/>\n",
       "<path clip-path=\"url(#clip832)\" d=\"M992.823 492.967 L992.823 1445.72 L1046.74 1445.72 L1046.74 492.967 L992.823 492.967 L992.823 492.967  Z\" fill=\"#009af9\" fill-rule=\"evenodd\" fill-opacity=\"1\"/>\n",
       "<polyline clip-path=\"url(#clip832)\" style=\"stroke:#000000; stroke-linecap:round; stroke-linejoin:round; stroke-width:4; stroke-opacity:1; fill:none\" points=\"992.823,492.967 992.823,1445.72 1046.74,1445.72 1046.74,492.967 992.823,492.967 \"/>\n",
       "<path clip-path=\"url(#clip832)\" d=\"M1046.74 286.101 L1046.74 1445.72 L1100.65 1445.72 L1100.65 286.101 L1046.74 286.101 L1046.74 286.101  Z\" fill=\"#009af9\" fill-rule=\"evenodd\" fill-opacity=\"1\"/>\n",
       "<polyline clip-path=\"url(#clip832)\" style=\"stroke:#000000; stroke-linecap:round; stroke-linejoin:round; stroke-width:4; stroke-opacity:1; fill:none\" points=\"1046.74,286.101 1046.74,1445.72 1100.65,1445.72 1100.65,286.101 1046.74,286.101 \"/>\n",
       "<path clip-path=\"url(#clip832)\" d=\"M1100.65 274.447 L1100.65 1445.72 L1154.56 1445.72 L1154.56 274.447 L1100.65 274.447 L1100.65 274.447  Z\" fill=\"#009af9\" fill-rule=\"evenodd\" fill-opacity=\"1\"/>\n",
       "<polyline clip-path=\"url(#clip832)\" style=\"stroke:#000000; stroke-linecap:round; stroke-linejoin:round; stroke-width:4; stroke-opacity:1; fill:none\" points=\"1100.65,274.447 1100.65,1445.72 1154.56,1445.72 1154.56,274.447 1100.65,274.447 \"/>\n",
       "<path clip-path=\"url(#clip832)\" d=\"M1154.56 146.248 L1154.56 1445.72 L1208.47 1445.72 L1208.47 146.248 L1154.56 146.248 L1154.56 146.248  Z\" fill=\"#009af9\" fill-rule=\"evenodd\" fill-opacity=\"1\"/>\n",
       "<polyline clip-path=\"url(#clip832)\" style=\"stroke:#000000; stroke-linecap:round; stroke-linejoin:round; stroke-width:4; stroke-opacity:1; fill:none\" points=\"1154.56,146.248 1154.56,1445.72 1208.47,1445.72 1208.47,146.248 1154.56,146.248 \"/>\n",
       "<path clip-path=\"url(#clip832)\" d=\"M1208.47 87.9763 L1208.47 1445.72 L1262.39 1445.72 L1262.39 87.9763 L1208.47 87.9763 L1208.47 87.9763  Z\" fill=\"#009af9\" fill-rule=\"evenodd\" fill-opacity=\"1\"/>\n",
       "<polyline clip-path=\"url(#clip832)\" style=\"stroke:#000000; stroke-linecap:round; stroke-linejoin:round; stroke-width:4; stroke-opacity:1; fill:none\" points=\"1208.47,87.9763 1208.47,1445.72 1262.39,1445.72 1262.39,87.9763 1208.47,87.9763 \"/>\n",
       "<path clip-path=\"url(#clip832)\" d=\"M1262.39 236.57 L1262.39 1445.72 L1316.3 1445.72 L1316.3 236.57 L1262.39 236.57 L1262.39 236.57  Z\" fill=\"#009af9\" fill-rule=\"evenodd\" fill-opacity=\"1\"/>\n",
       "<polyline clip-path=\"url(#clip832)\" style=\"stroke:#000000; stroke-linecap:round; stroke-linejoin:round; stroke-width:4; stroke-opacity:1; fill:none\" points=\"1262.39,236.57 1262.39,1445.72 1316.3,1445.72 1316.3,236.57 1262.39,236.57 \"/>\n",
       "<path clip-path=\"url(#clip832)\" d=\"M1316.3 184.125 L1316.3 1445.72 L1370.21 1445.72 L1370.21 184.125 L1316.3 184.125 L1316.3 184.125  Z\" fill=\"#009af9\" fill-rule=\"evenodd\" fill-opacity=\"1\"/>\n",
       "<polyline clip-path=\"url(#clip832)\" style=\"stroke:#000000; stroke-linecap:round; stroke-linejoin:round; stroke-width:4; stroke-opacity:1; fill:none\" points=\"1316.3,184.125 1316.3,1445.72 1370.21,1445.72 1370.21,184.125 1316.3,184.125 \"/>\n",
       "<path clip-path=\"url(#clip832)\" d=\"M1370.21 574.548 L1370.21 1445.72 L1424.12 1445.72 L1424.12 574.548 L1370.21 574.548 L1370.21 574.548  Z\" fill=\"#009af9\" fill-rule=\"evenodd\" fill-opacity=\"1\"/>\n",
       "<polyline clip-path=\"url(#clip832)\" style=\"stroke:#000000; stroke-linecap:round; stroke-linejoin:round; stroke-width:4; stroke-opacity:1; fill:none\" points=\"1370.21,574.548 1370.21,1445.72 1424.12,1445.72 1424.12,574.548 1370.21,574.548 \"/>\n",
       "<path clip-path=\"url(#clip832)\" d=\"M1424.12 685.265 L1424.12 1445.72 L1478.04 1445.72 L1478.04 685.265 L1424.12 685.265 L1424.12 685.265  Z\" fill=\"#009af9\" fill-rule=\"evenodd\" fill-opacity=\"1\"/>\n",
       "<polyline clip-path=\"url(#clip832)\" style=\"stroke:#000000; stroke-linecap:round; stroke-linejoin:round; stroke-width:4; stroke-opacity:1; fill:none\" points=\"1424.12,685.265 1424.12,1445.72 1478.04,1445.72 1478.04,685.265 1424.12,685.265 \"/>\n",
       "<path clip-path=\"url(#clip832)\" d=\"M1478.04 857.168 L1478.04 1445.72 L1531.95 1445.72 L1531.95 857.168 L1478.04 857.168 L1478.04 857.168  Z\" fill=\"#009af9\" fill-rule=\"evenodd\" fill-opacity=\"1\"/>\n",
       "<polyline clip-path=\"url(#clip832)\" style=\"stroke:#000000; stroke-linecap:round; stroke-linejoin:round; stroke-width:4; stroke-opacity:1; fill:none\" points=\"1478.04,857.168 1478.04,1445.72 1531.95,1445.72 1531.95,857.168 1478.04,857.168 \"/>\n",
       "<path clip-path=\"url(#clip832)\" d=\"M1531.95 1011.59 L1531.95 1445.72 L1585.86 1445.72 L1585.86 1011.59 L1531.95 1011.59 L1531.95 1011.59  Z\" fill=\"#009af9\" fill-rule=\"evenodd\" fill-opacity=\"1\"/>\n",
       "<polyline clip-path=\"url(#clip832)\" style=\"stroke:#000000; stroke-linecap:round; stroke-linejoin:round; stroke-width:4; stroke-opacity:1; fill:none\" points=\"1531.95,1011.59 1531.95,1445.72 1585.86,1445.72 1585.86,1011.59 1531.95,1011.59 \"/>\n",
       "<path clip-path=\"url(#clip832)\" d=\"M1585.86 1157.27 L1585.86 1445.72 L1639.77 1445.72 L1639.77 1157.27 L1585.86 1157.27 L1585.86 1157.27  Z\" fill=\"#009af9\" fill-rule=\"evenodd\" fill-opacity=\"1\"/>\n",
       "<polyline clip-path=\"url(#clip832)\" style=\"stroke:#000000; stroke-linecap:round; stroke-linejoin:round; stroke-width:4; stroke-opacity:1; fill:none\" points=\"1585.86,1157.27 1585.86,1445.72 1639.77,1445.72 1639.77,1157.27 1585.86,1157.27 \"/>\n",
       "<path clip-path=\"url(#clip832)\" d=\"M1639.77 1186.4 L1639.77 1445.72 L1693.69 1445.72 L1693.69 1186.4 L1639.77 1186.4 L1639.77 1186.4  Z\" fill=\"#009af9\" fill-rule=\"evenodd\" fill-opacity=\"1\"/>\n",
       "<polyline clip-path=\"url(#clip832)\" style=\"stroke:#000000; stroke-linecap:round; stroke-linejoin:round; stroke-width:4; stroke-opacity:1; fill:none\" points=\"1639.77,1186.4 1639.77,1445.72 1693.69,1445.72 1693.69,1186.4 1639.77,1186.4 \"/>\n",
       "<path clip-path=\"url(#clip832)\" d=\"M1693.69 1285.47 L1693.69 1445.72 L1747.6 1445.72 L1747.6 1285.47 L1693.69 1285.47 L1693.69 1285.47  Z\" fill=\"#009af9\" fill-rule=\"evenodd\" fill-opacity=\"1\"/>\n",
       "<polyline clip-path=\"url(#clip832)\" style=\"stroke:#000000; stroke-linecap:round; stroke-linejoin:round; stroke-width:4; stroke-opacity:1; fill:none\" points=\"1693.69,1285.47 1693.69,1445.72 1747.6,1445.72 1747.6,1285.47 1693.69,1285.47 \"/>\n",
       "<path clip-path=\"url(#clip832)\" d=\"M1747.6 1335 L1747.6 1445.72 L1801.51 1445.72 L1801.51 1335 L1747.6 1335 L1747.6 1335  Z\" fill=\"#009af9\" fill-rule=\"evenodd\" fill-opacity=\"1\"/>\n",
       "<polyline clip-path=\"url(#clip832)\" style=\"stroke:#000000; stroke-linecap:round; stroke-linejoin:round; stroke-width:4; stroke-opacity:1; fill:none\" points=\"1747.6,1335 1747.6,1445.72 1801.51,1445.72 1801.51,1335 1747.6,1335 \"/>\n",
       "<path clip-path=\"url(#clip832)\" d=\"M1801.51 1384.53 L1801.51 1445.72 L1855.42 1445.72 L1855.42 1384.53 L1801.51 1384.53 L1801.51 1384.53  Z\" fill=\"#009af9\" fill-rule=\"evenodd\" fill-opacity=\"1\"/>\n",
       "<polyline clip-path=\"url(#clip832)\" style=\"stroke:#000000; stroke-linecap:round; stroke-linejoin:round; stroke-width:4; stroke-opacity:1; fill:none\" points=\"1801.51,1384.53 1801.51,1445.72 1855.42,1445.72 1855.42,1384.53 1801.51,1384.53 \"/>\n",
       "<path clip-path=\"url(#clip832)\" d=\"M1855.42 1416.58 L1855.42 1445.72 L1909.34 1445.72 L1909.34 1416.58 L1855.42 1416.58 L1855.42 1416.58  Z\" fill=\"#009af9\" fill-rule=\"evenodd\" fill-opacity=\"1\"/>\n",
       "<polyline clip-path=\"url(#clip832)\" style=\"stroke:#000000; stroke-linecap:round; stroke-linejoin:round; stroke-width:4; stroke-opacity:1; fill:none\" points=\"1855.42,1416.58 1855.42,1445.72 1909.34,1445.72 1909.34,1416.58 1855.42,1416.58 \"/>\n",
       "<path clip-path=\"url(#clip832)\" d=\"M1909.34 1434.06 L1909.34 1445.72 L1963.25 1445.72 L1963.25 1434.06 L1909.34 1434.06 L1909.34 1434.06  Z\" fill=\"#009af9\" fill-rule=\"evenodd\" fill-opacity=\"1\"/>\n",
       "<polyline clip-path=\"url(#clip832)\" style=\"stroke:#000000; stroke-linecap:round; stroke-linejoin:round; stroke-width:4; stroke-opacity:1; fill:none\" points=\"1909.34,1434.06 1909.34,1445.72 1963.25,1445.72 1963.25,1434.06 1909.34,1434.06 \"/>\n",
       "<path clip-path=\"url(#clip832)\" d=\"M1963.25 1434.06 L1963.25 1445.72 L2017.16 1445.72 L2017.16 1434.06 L1963.25 1434.06 L1963.25 1434.06  Z\" fill=\"#009af9\" fill-rule=\"evenodd\" fill-opacity=\"1\"/>\n",
       "<polyline clip-path=\"url(#clip832)\" style=\"stroke:#000000; stroke-linecap:round; stroke-linejoin:round; stroke-width:4; stroke-opacity:1; fill:none\" points=\"1963.25,1434.06 1963.25,1445.72 2017.16,1445.72 2017.16,1434.06 1963.25,1434.06 \"/>\n",
       "<path clip-path=\"url(#clip832)\" d=\"M2017.16 1434.06 L2017.16 1445.72 L2071.07 1445.72 L2071.07 1434.06 L2017.16 1434.06 L2017.16 1434.06  Z\" fill=\"#009af9\" fill-rule=\"evenodd\" fill-opacity=\"1\"/>\n",
       "<polyline clip-path=\"url(#clip832)\" style=\"stroke:#000000; stroke-linecap:round; stroke-linejoin:round; stroke-width:4; stroke-opacity:1; fill:none\" points=\"2017.16,1434.06 2017.16,1445.72 2071.07,1445.72 2071.07,1434.06 2017.16,1434.06 \"/>\n",
       "<path clip-path=\"url(#clip832)\" d=\"M2071.07 1439.89 L2071.07 1445.72 L2124.99 1445.72 L2124.99 1439.89 L2071.07 1439.89 L2071.07 1439.89  Z\" fill=\"#009af9\" fill-rule=\"evenodd\" fill-opacity=\"1\"/>\n",
       "<polyline clip-path=\"url(#clip832)\" style=\"stroke:#000000; stroke-linecap:round; stroke-linejoin:round; stroke-width:4; stroke-opacity:1; fill:none\" points=\"2071.07,1439.89 2071.07,1445.72 2124.99,1445.72 2124.99,1439.89 2071.07,1439.89 \"/>\n",
       "<path clip-path=\"url(#clip832)\" d=\"M2124.99 1442.8 L2124.99 1445.72 L2178.9 1445.72 L2178.9 1442.8 L2124.99 1442.8 L2124.99 1442.8  Z\" fill=\"#009af9\" fill-rule=\"evenodd\" fill-opacity=\"1\"/>\n",
       "<polyline clip-path=\"url(#clip832)\" style=\"stroke:#000000; stroke-linecap:round; stroke-linejoin:round; stroke-width:4; stroke-opacity:1; fill:none\" points=\"2124.99,1442.8 2124.99,1445.72 2178.9,1445.72 2178.9,1442.8 2124.99,1442.8 \"/>\n",
       "<path clip-path=\"url(#clip832)\" d=\"M2178.9 1439.89 L2178.9 1445.72 L2232.81 1445.72 L2232.81 1439.89 L2178.9 1439.89 L2178.9 1439.89  Z\" fill=\"#009af9\" fill-rule=\"evenodd\" fill-opacity=\"1\"/>\n",
       "<polyline clip-path=\"url(#clip832)\" style=\"stroke:#000000; stroke-linecap:round; stroke-linejoin:round; stroke-width:4; stroke-opacity:1; fill:none\" points=\"2178.9,1439.89 2178.9,1445.72 2232.81,1445.72 2232.81,1439.89 2178.9,1439.89 \"/>\n",
       "<circle clip-path=\"url(#clip832)\" style=\"fill:#009af9; stroke:none; fill-opacity:0\" cx=\"318.916\" cy=\"1442.8\" r=\"2\"/>\n",
       "<circle clip-path=\"url(#clip832)\" style=\"fill:#009af9; stroke:none; fill-opacity:0\" cx=\"372.828\" cy=\"1442.8\" r=\"2\"/>\n",
       "<circle clip-path=\"url(#clip832)\" style=\"fill:#009af9; stroke:none; fill-opacity:0\" cx=\"426.741\" cy=\"1445.72\" r=\"2\"/>\n",
       "<circle clip-path=\"url(#clip832)\" style=\"fill:#009af9; stroke:none; fill-opacity:0\" cx=\"480.653\" cy=\"1439.89\" r=\"2\"/>\n",
       "<circle clip-path=\"url(#clip832)\" style=\"fill:#009af9; stroke:none; fill-opacity:0\" cx=\"534.566\" cy=\"1425.32\" r=\"2\"/>\n",
       "<circle clip-path=\"url(#clip832)\" style=\"fill:#009af9; stroke:none; fill-opacity:0\" cx=\"588.478\" cy=\"1410.75\" r=\"2\"/>\n",
       "<circle clip-path=\"url(#clip832)\" style=\"fill:#009af9; stroke:none; fill-opacity:0\" cx=\"642.391\" cy=\"1355.39\" r=\"2\"/>\n",
       "<circle clip-path=\"url(#clip832)\" style=\"fill:#009af9; stroke:none; fill-opacity:0\" cx=\"696.304\" cy=\"1326.26\" r=\"2\"/>\n",
       "<circle clip-path=\"url(#clip832)\" style=\"fill:#009af9; stroke:none; fill-opacity:0\" cx=\"750.216\" cy=\"1259.25\" r=\"2\"/>\n",
       "<circle clip-path=\"url(#clip832)\" style=\"fill:#009af9; stroke:none; fill-opacity:0\" cx=\"804.129\" cy=\"1160.18\" r=\"2\"/>\n",
       "<circle clip-path=\"url(#clip832)\" style=\"fill:#009af9; stroke:none; fill-opacity:0\" cx=\"858.041\" cy=\"999.934\" r=\"2\"/>\n",
       "<circle clip-path=\"url(#clip832)\" style=\"fill:#009af9; stroke:none; fill-opacity:0\" cx=\"911.954\" cy=\"895.045\" r=\"2\"/>\n",
       "<circle clip-path=\"url(#clip832)\" style=\"fill:#009af9; stroke:none; fill-opacity:0\" cx=\"965.866\" cy=\"647.388\" r=\"2\"/>\n",
       "<circle clip-path=\"url(#clip832)\" style=\"fill:#009af9; stroke:none; fill-opacity:0\" cx=\"1019.78\" cy=\"492.967\" r=\"2\"/>\n",
       "<circle clip-path=\"url(#clip832)\" style=\"fill:#009af9; stroke:none; fill-opacity:0\" cx=\"1073.69\" cy=\"286.101\" r=\"2\"/>\n",
       "<circle clip-path=\"url(#clip832)\" style=\"fill:#009af9; stroke:none; fill-opacity:0\" cx=\"1127.6\" cy=\"274.447\" r=\"2\"/>\n",
       "<circle clip-path=\"url(#clip832)\" style=\"fill:#009af9; stroke:none; fill-opacity:0\" cx=\"1181.52\" cy=\"146.248\" r=\"2\"/>\n",
       "<circle clip-path=\"url(#clip832)\" style=\"fill:#009af9; stroke:none; fill-opacity:0\" cx=\"1235.43\" cy=\"87.9763\" r=\"2\"/>\n",
       "<circle clip-path=\"url(#clip832)\" style=\"fill:#009af9; stroke:none; fill-opacity:0\" cx=\"1289.34\" cy=\"236.57\" r=\"2\"/>\n",
       "<circle clip-path=\"url(#clip832)\" style=\"fill:#009af9; stroke:none; fill-opacity:0\" cx=\"1343.25\" cy=\"184.125\" r=\"2\"/>\n",
       "<circle clip-path=\"url(#clip832)\" style=\"fill:#009af9; stroke:none; fill-opacity:0\" cx=\"1397.17\" cy=\"574.548\" r=\"2\"/>\n",
       "<circle clip-path=\"url(#clip832)\" style=\"fill:#009af9; stroke:none; fill-opacity:0\" cx=\"1451.08\" cy=\"685.265\" r=\"2\"/>\n",
       "<circle clip-path=\"url(#clip832)\" style=\"fill:#009af9; stroke:none; fill-opacity:0\" cx=\"1504.99\" cy=\"857.168\" r=\"2\"/>\n",
       "<circle clip-path=\"url(#clip832)\" style=\"fill:#009af9; stroke:none; fill-opacity:0\" cx=\"1558.9\" cy=\"1011.59\" r=\"2\"/>\n",
       "<circle clip-path=\"url(#clip832)\" style=\"fill:#009af9; stroke:none; fill-opacity:0\" cx=\"1612.82\" cy=\"1157.27\" r=\"2\"/>\n",
       "<circle clip-path=\"url(#clip832)\" style=\"fill:#009af9; stroke:none; fill-opacity:0\" cx=\"1666.73\" cy=\"1186.4\" r=\"2\"/>\n",
       "<circle clip-path=\"url(#clip832)\" style=\"fill:#009af9; stroke:none; fill-opacity:0\" cx=\"1720.64\" cy=\"1285.47\" r=\"2\"/>\n",
       "<circle clip-path=\"url(#clip832)\" style=\"fill:#009af9; stroke:none; fill-opacity:0\" cx=\"1774.55\" cy=\"1335\" r=\"2\"/>\n",
       "<circle clip-path=\"url(#clip832)\" style=\"fill:#009af9; stroke:none; fill-opacity:0\" cx=\"1828.47\" cy=\"1384.53\" r=\"2\"/>\n",
       "<circle clip-path=\"url(#clip832)\" style=\"fill:#009af9; stroke:none; fill-opacity:0\" cx=\"1882.38\" cy=\"1416.58\" r=\"2\"/>\n",
       "<circle clip-path=\"url(#clip832)\" style=\"fill:#009af9; stroke:none; fill-opacity:0\" cx=\"1936.29\" cy=\"1434.06\" r=\"2\"/>\n",
       "<circle clip-path=\"url(#clip832)\" style=\"fill:#009af9; stroke:none; fill-opacity:0\" cx=\"1990.2\" cy=\"1434.06\" r=\"2\"/>\n",
       "<circle clip-path=\"url(#clip832)\" style=\"fill:#009af9; stroke:none; fill-opacity:0\" cx=\"2044.12\" cy=\"1434.06\" r=\"2\"/>\n",
       "<circle clip-path=\"url(#clip832)\" style=\"fill:#009af9; stroke:none; fill-opacity:0\" cx=\"2098.03\" cy=\"1439.89\" r=\"2\"/>\n",
       "<circle clip-path=\"url(#clip832)\" style=\"fill:#009af9; stroke:none; fill-opacity:0\" cx=\"2151.94\" cy=\"1442.8\" r=\"2\"/>\n",
       "<circle clip-path=\"url(#clip832)\" style=\"fill:#009af9; stroke:none; fill-opacity:0\" cx=\"2205.85\" cy=\"1439.89\" r=\"2\"/>\n",
       "<path clip-path=\"url(#clip830)\" d=\"M2009.56 198.898 L2280.06 198.898 L2280.06 95.2176 L2009.56 95.2176  Z\" fill=\"#ffffff\" fill-rule=\"evenodd\" fill-opacity=\"1\"/>\n",
       "<polyline clip-path=\"url(#clip830)\" style=\"stroke:#000000; stroke-linecap:round; stroke-linejoin:round; stroke-width:4; stroke-opacity:1; fill:none\" points=\"2009.56,198.898 2280.06,198.898 2280.06,95.2176 2009.56,95.2176 2009.56,198.898 \"/>\n",
       "<path clip-path=\"url(#clip830)\" d=\"M2033.79 167.794 L2179.17 167.794 L2179.17 126.322 L2033.79 126.322 L2033.79 167.794  Z\" fill=\"#009af9\" fill-rule=\"evenodd\" fill-opacity=\"1\"/>\n",
       "<polyline clip-path=\"url(#clip830)\" style=\"stroke:#000000; stroke-linecap:round; stroke-linejoin:round; stroke-width:4; stroke-opacity:1; fill:none\" points=\"2033.79,167.794 2179.17,167.794 2179.17,126.322 2033.79,126.322 2033.79,167.794 \"/>\n",
       "<path clip-path=\"url(#clip830)\" d=\"M2217.25 166.745 Q2215.44 171.375 2213.73 172.787 Q2212.01 174.199 2209.14 174.199 L2205.74 174.199 L2205.74 170.634 L2208.24 170.634 Q2210 170.634 2210.97 169.8 Q2211.95 168.967 2213.13 165.865 L2213.89 163.921 L2203.4 138.412 L2207.92 138.412 L2216.02 158.689 L2224.12 138.412 L2228.64 138.412 L2217.25 166.745 Z\" fill=\"#000000\" fill-rule=\"nonzero\" fill-opacity=\"1\" /><path clip-path=\"url(#clip830)\" d=\"M2235.93 160.402 L2243.57 160.402 L2243.57 134.037 L2235.26 135.703 L2235.26 131.444 L2243.52 129.778 L2248.2 129.778 L2248.2 160.402 L2255.83 160.402 L2255.83 164.338 L2235.93 164.338 L2235.93 160.402 Z\" fill=\"#000000\" fill-rule=\"nonzero\" fill-opacity=\"1\" /></svg>\n"
      ]
     },
     "execution_count": 69,
     "metadata": {},
     "output_type": "execute_result"
    }
   ],
   "source": [
    "histogram(test[3])"
   ]
  },
  {
   "cell_type": "markdown",
   "id": "funny-reliance",
   "metadata": {},
   "source": [
    "## Can now see the bootstrapped stds for everything"
   ]
  },
  {
   "cell_type": "code",
   "execution_count": 64,
   "id": "encouraging-broadcast",
   "metadata": {},
   "outputs": [
    {
     "data": {
      "text/plain": [
       "3-element Vector{Float64}:\n",
       " 0.0024232302518907493\n",
       " 0.0017131418176906308\n",
       " 0.0007676142410842768"
      ]
     },
     "execution_count": 64,
     "metadata": {},
     "output_type": "execute_result"
    }
   ],
   "source": [
    "bs1samp = bootstrap_samps(n_ints[1],c_ints[1],n_vols[1],Ns[1])\n",
    "c1var = var(bs1samp[1]); ffn1var = var(bs1samp[2]); ffc1var = var(bs1samp[3]);\n",
    "[c1var,ffn1var,ffc1var]"
   ]
  },
  {
   "cell_type": "code",
   "execution_count": 65,
   "id": "underlying-maple",
   "metadata": {},
   "outputs": [
    {
     "data": {
      "text/plain": [
       "3-element Vector{Float64}:\n",
       " 0.0016933340090880228\n",
       " 0.0010920348153093727\n",
       " 0.0010949806765001573"
      ]
     },
     "execution_count": 65,
     "metadata": {},
     "output_type": "execute_result"
    }
   ],
   "source": [
    "bs2samp = bootstrap_samps(n_ints[2],c_ints[2],n_vols[2],Ns[2])\n",
    "c2var = var(bs2samp[1]); ffn2var = var(bs2samp[2]); ffc2var = var(bs2samp[3]);\n",
    "[c2var,ffn2var,ffc2var]"
   ]
  },
  {
   "cell_type": "code",
   "execution_count": 66,
   "id": "coastal-arctic",
   "metadata": {},
   "outputs": [
    {
     "data": {
      "text/plain": [
       "3-element Vector{Float64}:\n",
       " 0.0013396063285292645\n",
       " 0.000805005411438038\n",
       " 0.0004844988006061333"
      ]
     },
     "execution_count": 66,
     "metadata": {},
     "output_type": "execute_result"
    }
   ],
   "source": [
    "bs3samp = bootstrap_samps(n_ints[3],c_ints[3],n_vols[3],Ns[3])\n",
    "c3var = var(bs3samp[1]); ffn3var = var(bs3samp[2]); ffc3var = var(bs3samp[3]);\n",
    "[c3var,ffn3var,ffc3var]"
   ]
  },
  {
   "cell_type": "code",
   "execution_count": null,
   "id": "shared-belief",
   "metadata": {},
   "outputs": [],
   "source": [
    "bs1samp = bootstrap_samps(n_ints[1],c_ints[1],n_vols[1],Ns[1])\n",
    "c1var = var(bs1samp[1]); ffn1var = var(bs1samp[2]); ffc1var = var(bs1samp[3]);\n",
    "[c1var,ffn1var,ffc1var]"
   ]
  }
 ],
 "metadata": {
  "kernelspec": {
   "display_name": "Julia 1.8.5",
   "language": "julia",
   "name": "julia-1.8"
  },
  "language_info": {
   "file_extension": ".jl",
   "mimetype": "application/julia",
   "name": "julia",
   "version": "1.8.5"
  }
 },
 "nbformat": 4,
 "nbformat_minor": 5
}
