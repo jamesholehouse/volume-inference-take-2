{
 "cells": [
  {
   "cell_type": "markdown",
   "id": "0f703048",
   "metadata": {},
   "source": [
    "## Data analysis: Linear model fit and volume corrected moments"
   ]
  },
  {
   "cell_type": "code",
   "execution_count": 1,
   "id": "aa1a2211",
   "metadata": {},
   "outputs": [],
   "source": [
    "using Random, Plots, Distributions, StatsBase, DataFrames, CSV, Plots.PlotMeasures"
   ]
  },
  {
   "cell_type": "code",
   "execution_count": 2,
   "id": "0807513e",
   "metadata": {},
   "outputs": [],
   "source": [
    "df = DataFrame(CSV.File(\"FISH_toShare_NoTSlabel_celldata_long_220620_simple_woMad3Outlier_withColDescription.csv\"));"
   ]
  },
  {
   "cell_type": "code",
   "execution_count": 3,
   "id": "84235298",
   "metadata": {},
   "outputs": [],
   "source": [
    "names(df);"
   ]
  },
  {
   "cell_type": "code",
   "execution_count": 4,
   "id": "4314d2be",
   "metadata": {},
   "outputs": [],
   "source": [
    "df = df[:,[:sampleID,:gene,:NucleiCount,:Compartment,:CountMethod,:RNAperCell,:Cell_Length_um]];"
   ]
  },
  {
   "cell_type": "code",
   "execution_count": 5,
   "id": "7ee07693",
   "metadata": {},
   "outputs": [],
   "source": [
    "# filter only for mad1WTGFP and NucleiCount = 1\n",
    "dfa = subset(df, :gene => g -> g.==\"mad1WTymEGFP\", :NucleiCount => n -> n.==1)\n",
    "# make cyto and nuc table separately.\n",
    "dfcyto = subset(dfa, :Compartment=>c->c.==\"Cytoplasm\")\n",
    "dfnuc = subset(dfa, :Compartment=>c->c.==\"Nucleus\")\n",
    "# separate the 4 different samples\n",
    "dfsN = [];dfsC = [];\n",
    "samples = unique(dfa[!,:sampleID])\n",
    "# add each to the vectors\n",
    "for i in 1:4\n",
    "    samp = samples[1]\n",
    "    dftempN = subset(dfnuc, :sampleID=>S->S.==samples[i])\n",
    "    dftempC = subset(dfcyto, :sampleID=>S->S.==samples[i])\n",
    "    push!(dfsN,dftempN)\n",
    "    push!(dfsC,dftempC)\n",
    "end"
   ]
  },
  {
   "cell_type": "code",
   "execution_count": 6,
   "id": "e69bc2bc",
   "metadata": {},
   "outputs": [],
   "source": [
    "dfsC;"
   ]
  },
  {
   "cell_type": "markdown",
   "id": "2b9d417a",
   "metadata": {},
   "source": [
    "If the moments I find differ from this then I know there's an issue! Let's collect the columns corresponding to the nuclear and cytoplasmic volumes and **counts** respectively."
   ]
  },
  {
   "cell_type": "code",
   "execution_count": 7,
   "id": "405f8b9b",
   "metadata": {},
   "outputs": [
    {
     "data": {
      "text/plain": [
       "7-element Vector{String}:\n",
       " \"sampleID\"\n",
       " \"gene\"\n",
       " \"NucleiCount\"\n",
       " \"Compartment\"\n",
       " \"CountMethod\"\n",
       " \"RNAperCell\"\n",
       " \"Cell_Length_um\""
      ]
     },
     "execution_count": 7,
     "metadata": {},
     "output_type": "execute_result"
    }
   ],
   "source": [
    "names(dfsC[1])"
   ]
  },
  {
   "cell_type": "code",
   "execution_count": 8,
   "id": "ea7653ed",
   "metadata": {},
   "outputs": [],
   "source": [
    "n_vols = [dfsN[i][!,:Cell_Length_um] for i in 1:4]\n",
    "c_vols = [dfsC[i][!,:Cell_Length_um] for i in 1:4]\n",
    "n_ints = [dfsN[i][!,:RNAperCell] for i in 1:4]\n",
    "c_ints = [dfsC[i][!,:RNAperCell] for i in 1:4];"
   ]
  },
  {
   "cell_type": "code",
   "execution_count": 9,
   "id": "d32e9d02",
   "metadata": {},
   "outputs": [],
   "source": [
    "Ns = [length(c_ints[i]) for i in 1:4];"
   ]
  },
  {
   "cell_type": "markdown",
   "id": "11d027b7",
   "metadata": {},
   "source": [
    "For the linear model fits we use the Julia package GLM. This is a very convenient and fast way to construct linear models."
   ]
  },
  {
   "cell_type": "code",
   "execution_count": 10,
   "id": "552f3e83",
   "metadata": {},
   "outputs": [],
   "source": [
    "using GLM"
   ]
  },
  {
   "cell_type": "markdown",
   "id": "e0cc9bc2",
   "metadata": {},
   "source": [
    "Perform the linear model fits. Note in the below that our fitting parameters are stored in `npar` and `cpar` in the order `[intercept, gradient]`."
   ]
  },
  {
   "cell_type": "code",
   "execution_count": 11,
   "id": "9bbfc111",
   "metadata": {},
   "outputs": [
    {
     "data": {
      "text/plain": [
       "4-element Vector{Float64}:\n",
       " 0.6037905581610079\n",
       " 0.46608863627967206\n",
       " 0.4796026025612281\n",
       " 0.37971856092997336"
      ]
     },
     "execution_count": 11,
     "metadata": {},
     "output_type": "execute_result"
    }
   ],
   "source": [
    "nlms = [lm(@formula(RNAperCell ~ Cell_Length_um), dfsN[i]) for i in 1:4]\n",
    "npars = [coef(nlms[i]) for i in 1:4]\n",
    "cs = hcat(npars...)[1,:]; ds = hcat(npars...)[2,:]\n",
    "clms = [lm(@formula(RNAperCell ~ Cell_Length_um), dfsC[i]) for i in 1:4]\n",
    "cpars = [coef(clms[i]) for i in 1:4]\n",
    "as = hcat(cpars...)[1,:]; bs = hcat(cpars...)[2,:]"
   ]
  },
  {
   "cell_type": "markdown",
   "id": "8a39fa7a",
   "metadata": {},
   "source": [
    "A quick look at the linear model fit itself will tell us some properties of the fit."
   ]
  },
  {
   "cell_type": "code",
   "execution_count": 12,
   "id": "1c63acbb",
   "metadata": {},
   "outputs": [
    {
     "data": {
      "text/plain": [
       "StatsModels.TableRegressionModel{LinearModel{GLM.LmResp{Vector{Float64}}, GLM.DensePredChol{Float64, LinearAlgebra.CholeskyPivoted{Float64, Matrix{Float64}, Vector{Int64}}}}, Matrix{Float64}}\n",
       "\n",
       "RNAperCell ~ 1 + Cell_Length_um\n",
       "\n",
       "Coefficients:\n",
       "─────────────────────────────────────────────────────────────────────────────\n",
       "                    Coef.  Std. Error       t  Pr(>|t|)  Lower 95%  Upper 95%\n",
       "─────────────────────────────────────────────────────────────────────────────\n",
       "(Intercept)     -3.16679    0.240588   -13.16    <1e-36  -3.63882   -2.69475\n",
       "Cell_Length_um   0.603791   0.0228683   26.40    <1e-99   0.558923   0.648658\n",
       "─────────────────────────────────────────────────────────────────────────────"
      ]
     },
     "execution_count": 12,
     "metadata": {},
     "output_type": "execute_result"
    }
   ],
   "source": [
    "clms[1]"
   ]
  },
  {
   "cell_type": "markdown",
   "id": "fe494940",
   "metadata": {},
   "source": [
    "Now, to construct the volume corrected moments we first need to know the mean values for the volumes and intensities. Collect these from the data."
   ]
  },
  {
   "cell_type": "code",
   "execution_count": 13,
   "id": "f7b86a0c",
   "metadata": {},
   "outputs": [
    {
     "data": {
      "text/plain": [
       "4-element Vector{Float64}:\n",
       " 3.094988234996555\n",
       " 2.6687301433055026\n",
       " 2.9580443633353566\n",
       " 2.610546234022337"
      ]
     },
     "execution_count": 13,
     "metadata": {},
     "output_type": "execute_result"
    }
   ],
   "source": [
    "n_vol_avgs = [mean(n_vols[i]) for i in 1:4]\n",
    "c_vol_avgs = [mean(c_vols[i]) for i in 1:4]\n",
    "n_avgs = [mean(n_ints[i]) for i in 1:4]\n",
    "c_avgs = [mean(c_ints[i]) for i in 1:4]"
   ]
  },
  {
   "cell_type": "markdown",
   "id": "cad2ffea",
   "metadata": {},
   "source": [
    "Note that even the means of the cytoplasmic can vary quite significantly between the replicates. As can the observed mean cell volumes in each experiment."
   ]
  },
  {
   "cell_type": "markdown",
   "id": "86b0a1ba",
   "metadata": {},
   "source": [
    "We know theoretically that to first order volume corrections to the means are nil. Let's just clarify this."
   ]
  },
  {
   "cell_type": "code",
   "execution_count": 14,
   "id": "ae9e3336",
   "metadata": {},
   "outputs": [
    {
     "data": {
      "text/plain": [
       "4-element Vector{Float64}:\n",
       " 0.024634400218522125\n",
       " 0.05869752331164149\n",
       " 0.04127424654051097\n",
       " 0.01671396006187003"
      ]
     },
     "execution_count": 14,
     "metadata": {},
     "output_type": "execute_result"
    }
   ],
   "source": [
    "ds"
   ]
  },
  {
   "cell_type": "code",
   "execution_count": 15,
   "id": "af7ad26b",
   "metadata": {},
   "outputs": [
    {
     "data": {
      "text/plain": [
       "4-element Vector{Float64}:\n",
       " 3.094988234996555\n",
       " 2.668730143305501\n",
       " 2.958044363335355\n",
       " 2.610546234022334"
      ]
     },
     "execution_count": 15,
     "metadata": {},
     "output_type": "execute_result"
    }
   ],
   "source": [
    "vc_mean_ns = [cs[i] + n_vol_avgs[i]*ds[i] for i in 1:4]\n",
    "vc_mean_cs = [as[i] + c_vol_avgs[i]*bs[i] for i in 1:4]\n",
    "# vc_mean_cs = a + c_vol_avg*b"
   ]
  },
  {
   "cell_type": "code",
   "execution_count": 16,
   "id": "6331c0e6",
   "metadata": {},
   "outputs": [],
   "source": [
    "μ20s = [moment(n_ints[i], 2, n_avgs[i]) for i in 1:4];\n",
    "μ02s = [moment(c_ints[i], 2, c_avgs[i]) for i in 1:4];\n",
    "μ20Ωs = [moment(n_vols[i], 2, n_vol_avgs[i]) for i in 1:4];\n",
    "μ02Ωs = [moment(c_vols[i], 2, c_vol_avgs[i]) for i in 1:4];"
   ]
  },
  {
   "cell_type": "code",
   "execution_count": 17,
   "id": "21e86d08",
   "metadata": {},
   "outputs": [],
   "source": [
    "μ20s_i = [μ20s[i] - ds[i]^2 * μ20Ωs[i] for i in 1:4]\n",
    "μ02s_i = [μ02s[i] - bs[i]^2 * μ02Ωs[i] for i in 1:4];"
   ]
  },
  {
   "cell_type": "markdown",
   "id": "4e37cbc0",
   "metadata": {},
   "source": [
    "Clearly the volume corrected means are simply the means if one averaged over the data. Can now store the values for the VC FF's along with the mean cyto #."
   ]
  },
  {
   "cell_type": "code",
   "execution_count": 18,
   "id": "48999c0e",
   "metadata": {},
   "outputs": [
    {
     "data": {
      "text/plain": [
       "4-element Vector{Float64}:\n",
       " 0.9558150606258131\n",
       " 0.9926999917678184\n",
       " 0.9744213797386199\n",
       " 0.997142602245176"
      ]
     },
     "execution_count": 18,
     "metadata": {},
     "output_type": "execute_result"
    }
   ],
   "source": [
    "nuc_FFs = μ20s_i./vc_mean_ns"
   ]
  },
  {
   "cell_type": "code",
   "execution_count": 19,
   "id": "dff707ae",
   "metadata": {},
   "outputs": [
    {
     "data": {
      "text/plain": [
       "4-element Vector{Float64}:\n",
       " 0.6129543833434689\n",
       " 0.7557568194063666\n",
       " 0.6613100531460392\n",
       " 0.5879024967862935"
      ]
     },
     "execution_count": 19,
     "metadata": {},
     "output_type": "execute_result"
    }
   ],
   "source": [
    "cyto_FFs = μ02s_i./vc_mean_cs"
   ]
  },
  {
   "cell_type": "code",
   "execution_count": 20,
   "id": "d251eb27",
   "metadata": {},
   "outputs": [
    {
     "data": {
      "text/plain": [
       "4-element Vector{Float64}:\n",
       " 3.094988234996555\n",
       " 2.668730143305501\n",
       " 2.958044363335355\n",
       " 2.610546234022334"
      ]
     },
     "execution_count": 20,
     "metadata": {},
     "output_type": "execute_result"
    }
   ],
   "source": [
    "cyto_means = vc_mean_cs"
   ]
  },
  {
   "cell_type": "markdown",
   "id": "601a3028",
   "metadata": {},
   "source": [
    "# Now for the ABC..."
   ]
  },
  {
   "cell_type": "code",
   "execution_count": 21,
   "id": "9b680b0a",
   "metadata": {},
   "outputs": [],
   "source": [
    "using Random, Plots, LaTeXStrings, Distributions, StatsBase, DataFrames, CSV, Plots.PlotMeasures, Revise, GpABC, JLD2, FileIO"
   ]
  },
  {
   "cell_type": "code",
   "execution_count": 22,
   "id": "fb1b0f9e",
   "metadata": {},
   "outputs": [
    {
     "data": {
      "text/plain": [
       "1.0"
      ]
     },
     "execution_count": 22,
     "metadata": {},
     "output_type": "execute_result"
    }
   ],
   "source": [
    "hypars = [3,3]; # [S,R]\n",
    "# pf defined for the priors (see SI).\n",
    "pf = (hypars[1]-1)/2"
   ]
  },
  {
   "cell_type": "code",
   "execution_count": 23,
   "id": "ffa29b4f",
   "metadata": {},
   "outputs": [],
   "source": [
    "Plots.theme(:dao)\n",
    "Plots.gr_cbar_width[] = 0.01;"
   ]
  },
  {
   "cell_type": "code",
   "execution_count": 24,
   "id": "e0c8fe24",
   "metadata": {},
   "outputs": [
    {
     "name": "stderr",
     "output_type": "stream",
     "text": [
      "WARNING: replacing module SSAnonVD.\n"
     ]
    }
   ],
   "source": [
    "Revise.track(\"/users/jamesh/GitHub/volume-inference-take-2/SSA-basic.jl\")\n",
    "include(\"/users/jamesh/GitHub/volume-inference-take-2/SSA-basic.jl\")\n",
    "using .SSAnonVD"
   ]
  },
  {
   "cell_type": "code",
   "execution_count": 25,
   "id": "6b682f17",
   "metadata": {},
   "outputs": [
    {
     "data": {
      "image/svg+xml": [
       "<?xml version=\"1.0\" encoding=\"UTF-8\"?>\n",
       "<!DOCTYPE svg PUBLIC \"-//W3C//DTD SVG 1.1//EN\"\n",
       " \"http://www.w3.org/Graphics/SVG/1.1/DTD/svg11.dtd\">\n",
       "<svg xmlns=\"http://www.w3.org/2000/svg\" version=\"1.1\"\n",
       "     width=\"175mm\" height=\"25mm\" viewBox=\"0 0 7 1\" stroke=\"none\"\n",
       "     preserveAspectRatio=\"none\" shape-rendering=\"crispEdges\">\n",
       "<defs>\n",
       "    <pattern id=\"pat_1M4TQz\" width=\".2\" height=\".2\"\n",
       "             patternUnits=\"userSpaceOnUse\" >\n",
       "        <path d=\"M.1,0h.1v.1h-.2v.1h.1z\" fill=\"#999\" opacity=\".5\" />\n",
       "    </pattern>\n",
       "</defs>\n",
       "<rect width=\"7\" height=\"1\" fill=\"url(#pat_1M4TQz)\" />\n",
       "<path d=\"M1,0v1h-1z\" fill=\"#7EC7E2\" />\n",
       "<path d=\"M0,0h1v1h-1z\" fill=\"#7EC7E2\" fill-opacity=\"1\" />\n",
       "<path d=\"M2,0v1h-1z\" fill=\"#359B7C\" />\n",
       "<path d=\"M1,0h1v1h-1z\" fill=\"#359B7C\" fill-opacity=\"1\" />\n",
       "<path d=\"M3,0v1h-1z\" fill=\"#4B8633\" />\n",
       "<path d=\"M2,0h1v1h-1z\" fill=\"#4B8633\" fill-opacity=\"1\" />\n",
       "<path d=\"M4,0v1h-1z\" fill=\"#C0B65A\" />\n",
       "<path d=\"M3,0h1v1h-1z\" fill=\"#C0B65A\" fill-opacity=\"1\" />\n",
       "<path d=\"M5,0v1h-1z\" fill=\"#D18377\" />\n",
       "<path d=\"M4,0h1v1h-1z\" fill=\"#D18377\" fill-opacity=\"1\" />\n",
       "<path d=\"M6,0v1h-1z\" fill=\"#922C5A\" />\n",
       "<path d=\"M5,0h1v1h-1z\" fill=\"#922C5A\" fill-opacity=\"1\" />\n",
       "<path d=\"M7,0v1h-1z\" fill=\"#AA4499\" />\n",
       "<path d=\"M6,0h1v1h-1z\" fill=\"#AA4499\" fill-opacity=\"1\" />\n",
       "</svg>"
      ],
      "text/plain": [
       "7-element Array{RGBA{Float64},1} with eltype RGBA{Float64}:\n",
       " RGBA{Float64}(0.49523809523809526,0.7809523809523811,0.8857142857142857,1.0)\n",
       " RGBA{Float64}(0.20952380952380956,0.6095238095238096,0.48571428571428577,1.0)\n",
       " RGBA{Float64}(0.29523809523809535,0.5238095238095238,0.2,1.0)\n",
       " RGBA{Float64}(0.7523809523809524,0.7142857142857142,0.35238095238095235,1.0)\n",
       " RGBA{Float64}(0.819047619047619,0.5142857142857142,0.4666666666666667,1.0)\n",
       " RGBA{Float64}(0.5714285714285715,0.17142857142857154,0.35238095238095246,1.0)\n",
       " RGBA{Float64}(0.6666666666666666,0.26666666666666666,0.6,1.0)"
      ]
     },
     "execution_count": 25,
     "metadata": {},
     "output_type": "execute_result"
    }
   ],
   "source": [
    "pal = cgrad(:tol_muted);\n",
    "cpal = [pal[i] for i in 1/7:1/7:1.0]\n",
    "population_colors = cpal"
   ]
  },
  {
   "cell_type": "code",
   "execution_count": 26,
   "id": "2257d9bc",
   "metadata": {},
   "outputs": [],
   "source": [
    "tdeg = 1;\n",
    "texpt(kA,kB,kC,S,R) = 1/kC;\n",
    "tinit(kA,kB,kC,S,R) = (1/kB)+(S-1)/kA;"
   ]
  },
  {
   "cell_type": "code",
   "execution_count": 27,
   "id": "65cdc12b",
   "metadata": {},
   "outputs": [
    {
     "data": {
      "text/plain": [
       "sim_time (generic function with 1 method)"
      ]
     },
     "execution_count": 27,
     "metadata": {},
     "output_type": "execute_result"
    }
   ],
   "source": [
    "function sim_time(pars)\n",
    "    kA, kB, kC = pars;\n",
    "    return 10*maximum([1,texpt(pars...,hypars...),tinit(pars...,hypars...)])\n",
    "end"
   ]
  },
  {
   "cell_type": "code",
   "execution_count": 28,
   "id": "11458f3f",
   "metadata": {},
   "outputs": [
    {
     "data": {
      "text/plain": [
       "new_distance (generic function with 2 methods)"
      ]
     },
     "execution_count": 28,
     "metadata": {},
     "output_type": "execute_result"
    }
   ],
   "source": [
    "function new_distance(traj1::Matrix, traj2::Matrix)\n",
    "    return sum([bs_vec[i]^(-1)*((traj1[i]-traj2[i])/traj2[i])^2 for i in 1:length(traj1)])\n",
    "end\n",
    "function new_distance(traj1::Vector, traj2::Vector)\n",
    "    return sum([bs_vec[i]^(-1)*((traj1[i]-traj2[i])/traj2[i])^2 for i in 1:length(traj1)])\n",
    "end"
   ]
  },
  {
   "cell_type": "markdown",
   "id": "11949904",
   "metadata": {},
   "source": [
    "## Sample 1 of 4"
   ]
  },
  {
   "cell_type": "code",
   "execution_count": 29,
   "id": "54656ab2",
   "metadata": {},
   "outputs": [],
   "source": [
    "sn = 1;\n",
    "bs_vec = [0.00242,0.00171,0.00077];"
   ]
  },
  {
   "cell_type": "code",
   "execution_count": 30,
   "id": "dbed702d",
   "metadata": {},
   "outputs": [
    {
     "data": {
      "text/plain": [
       "simulator_fn_1 (generic function with 1 method)"
      ]
     },
     "execution_count": 30,
     "metadata": {},
     "output_type": "execute_result"
    }
   ],
   "source": [
    "function simulator_fn_1(pars)\n",
    "    op = SSA(Ns[1], pars, hypars, sim_time(pars), sim_time(pars));\n",
    "    nuc_pop = op[1][:,2];\n",
    "    cyto_pop = op[2][:,2];\n",
    "    nuc_FF = var(nuc_pop)/mean(nuc_pop);\n",
    "    cyto_mean = 2*mean(cyto_pop);\n",
    "    cyto_FF = var(cyto_pop)/mean(cyto_pop);\n",
    "    # return the moments of interest\n",
    "    return reshape([cyto_mean, nuc_FF, cyto_FF],(3,1))\n",
    "end"
   ]
  },
  {
   "cell_type": "markdown",
   "id": "d1d62a4a",
   "metadata": {},
   "source": [
    "Let's look at the value of the objective function for something close to an optimum value. This informs what our threshold schedule for the ABC will be."
   ]
  },
  {
   "cell_type": "code",
   "execution_count": 31,
   "id": "dcb155ba",
   "metadata": {},
   "outputs": [
    {
     "data": {
      "text/plain": [
       "53.16667890451389"
      ]
     },
     "execution_count": 31,
     "metadata": {},
     "output_type": "execute_result"
    }
   ],
   "source": [
    "new_distance(simulator_fn_1([2.54,3.64,20.0]),reshape([cyto_means[sn],nuc_FFs[sn],cyto_FFs[sn]],(3,1)))"
   ]
  },
  {
   "cell_type": "code",
   "execution_count": 32,
   "id": "6a1a68d9",
   "metadata": {},
   "outputs": [
    {
     "data": {
      "text/plain": [
       "9-element Vector{Float64}:\n",
       " 500.0\n",
       " 200.0\n",
       "  70.0\n",
       "  40.0\n",
       "  20.0\n",
       "  10.0\n",
       "   5.0\n",
       "   2.0\n",
       "   1.0"
      ]
     },
     "execution_count": 32,
     "metadata": {},
     "output_type": "execute_result"
    }
   ],
   "source": [
    "# ABC priors\n",
    "priors_1 = [Uniform(pf*0.5,pf*10.5), Uniform(0.5, 40.5), Uniform(20,400)]\n",
    "\n",
    "# number of particles\n",
    "n_particles = 1000\n",
    "\n",
    "# ABC hpars\n",
    "threshold_schedule_1 = [500.0,200.0,70.0,40.0,20.0,10.0,5.0,2.0,1.0]"
   ]
  },
  {
   "cell_type": "code",
   "execution_count": null,
   "id": "162f4cb0",
   "metadata": {},
   "outputs": [
    {
     "name": "stderr",
     "output_type": "stream",
     "text": [
      "\u001b[36m\u001b[1m[ \u001b[22m\u001b[39m\u001b[36m\u001b[1mInfo: \u001b[22m\u001b[39mGpABC rejection simulation. ϵ = 500.0.\n",
      "\u001b[36m\u001b[1m[ \u001b[22m\u001b[39m\u001b[36m\u001b[1mInfo: \u001b[22m\u001b[39mGpABC rejection simulation. Accepted 769/1000 particles.\n",
      "\u001b[36m\u001b[1m[ \u001b[22m\u001b[39m\u001b[36m\u001b[1mInfo: \u001b[22m\u001b[39mGpABC SMC simulation ϵ = 200.0\n",
      "\u001b[36m\u001b[1m[ \u001b[22m\u001b[39m\u001b[36m\u001b[1mInfo: \u001b[22m\u001b[39mGpABC SMC simulation accepted 606/1000 particles.\n",
      "\u001b[36m\u001b[1m[ \u001b[22m\u001b[39m\u001b[36m\u001b[1mInfo: \u001b[22m\u001b[39mGpABC SMC simulation ϵ = 70.0\n",
      "\u001b[36m\u001b[1m[ \u001b[22m\u001b[39m\u001b[36m\u001b[1mInfo: \u001b[22m\u001b[39mGpABC SMC simulation accepted 457/1000 particles.\n",
      "\u001b[36m\u001b[1m[ \u001b[22m\u001b[39m\u001b[36m\u001b[1mInfo: \u001b[22m\u001b[39mGpABC SMC simulation accepted 906/2000 particles.\n",
      "\u001b[36m\u001b[1m[ \u001b[22m\u001b[39m\u001b[36m\u001b[1mInfo: \u001b[22m\u001b[39mGpABC SMC simulation ϵ = 40.0\n",
      "\u001b[36m\u001b[1m[ \u001b[22m\u001b[39m\u001b[36m\u001b[1mInfo: \u001b[22m\u001b[39mGpABC SMC simulation accepted 462/1000 particles.\n",
      "\u001b[36m\u001b[1m[ \u001b[22m\u001b[39m\u001b[36m\u001b[1mInfo: \u001b[22m\u001b[39mGpABC SMC simulation accepted 900/2000 particles.\n",
      "\u001b[36m\u001b[1m[ \u001b[22m\u001b[39m\u001b[36m\u001b[1mInfo: \u001b[22m\u001b[39mGpABC SMC simulation ϵ = 20.0\n",
      "\u001b[36m\u001b[1m[ \u001b[22m\u001b[39m\u001b[36m\u001b[1mInfo: \u001b[22m\u001b[39mGpABC SMC simulation accepted 407/1000 particles.\n",
      "\u001b[36m\u001b[1m[ \u001b[22m\u001b[39m\u001b[36m\u001b[1mInfo: \u001b[22m\u001b[39mGpABC SMC simulation accepted 829/2000 particles.\n",
      "\u001b[36m\u001b[1m[ \u001b[22m\u001b[39m\u001b[36m\u001b[1mInfo: \u001b[22m\u001b[39mGpABC SMC simulation ϵ = 10.0\n",
      "\u001b[36m\u001b[1m[ \u001b[22m\u001b[39m\u001b[36m\u001b[1mInfo: \u001b[22m\u001b[39mGpABC SMC simulation accepted 255/1000 particles.\n",
      "\u001b[36m\u001b[1m[ \u001b[22m\u001b[39m\u001b[36m\u001b[1mInfo: \u001b[22m\u001b[39mGpABC SMC simulation accepted 516/2000 particles.\n",
      "\u001b[36m\u001b[1m[ \u001b[22m\u001b[39m\u001b[36m\u001b[1mInfo: \u001b[22m\u001b[39mGpABC SMC simulation accepted 785/3000 particles.\n",
      "\u001b[36m\u001b[1m[ \u001b[22m\u001b[39m\u001b[36m\u001b[1mInfo: \u001b[22m\u001b[39mGpABC SMC simulation ϵ = 5.0\n",
      "\u001b[36m\u001b[1m[ \u001b[22m\u001b[39m\u001b[36m\u001b[1mInfo: \u001b[22m\u001b[39mGpABC SMC simulation accepted 189/1000 particles.\n",
      "\u001b[36m\u001b[1m[ \u001b[22m\u001b[39m\u001b[36m\u001b[1mInfo: \u001b[22m\u001b[39mGpABC SMC simulation accepted 369/2000 particles.\n",
      "\u001b[36m\u001b[1m[ \u001b[22m\u001b[39m\u001b[36m\u001b[1mInfo: \u001b[22m\u001b[39mGpABC SMC simulation accepted 544/3000 particles.\n",
      "\u001b[36m\u001b[1m[ \u001b[22m\u001b[39m\u001b[36m\u001b[1mInfo: \u001b[22m\u001b[39mGpABC SMC simulation accepted 728/4000 particles.\n",
      "\u001b[36m\u001b[1m[ \u001b[22m\u001b[39m\u001b[36m\u001b[1mInfo: \u001b[22m\u001b[39mGpABC SMC simulation accepted 894/5000 particles.\n",
      "\u001b[36m\u001b[1m[ \u001b[22m\u001b[39m\u001b[36m\u001b[1mInfo: \u001b[22m\u001b[39mGpABC SMC simulation ϵ = 2.0\n",
      "\u001b[36m\u001b[1m[ \u001b[22m\u001b[39m\u001b[36m\u001b[1mInfo: \u001b[22m\u001b[39mGpABC SMC simulation accepted 72/1000 particles.\n",
      "\u001b[36m\u001b[1m[ \u001b[22m\u001b[39m\u001b[36m\u001b[1mInfo: \u001b[22m\u001b[39mGpABC SMC simulation accepted 137/2000 particles.\n",
      "\u001b[36m\u001b[1m[ \u001b[22m\u001b[39m\u001b[36m\u001b[1mInfo: \u001b[22m\u001b[39mGpABC SMC simulation accepted 217/3000 particles.\n",
      "\u001b[36m\u001b[1m[ \u001b[22m\u001b[39m\u001b[36m\u001b[1mInfo: \u001b[22m\u001b[39mGpABC SMC simulation accepted 292/4000 particles.\n",
      "\u001b[36m\u001b[1m[ \u001b[22m\u001b[39m\u001b[36m\u001b[1mInfo: \u001b[22m\u001b[39mGpABC SMC simulation accepted 359/5000 particles.\n",
      "\u001b[36m\u001b[1m[ \u001b[22m\u001b[39m\u001b[36m\u001b[1mInfo: \u001b[22m\u001b[39mGpABC SMC simulation accepted 433/6000 particles.\n",
      "\u001b[36m\u001b[1m[ \u001b[22m\u001b[39m\u001b[36m\u001b[1mInfo: \u001b[22m\u001b[39mGpABC SMC simulation accepted 495/7000 particles.\n",
      "\u001b[36m\u001b[1m[ \u001b[22m\u001b[39m\u001b[36m\u001b[1mInfo: \u001b[22m\u001b[39mGpABC SMC simulation accepted 570/8000 particles.\n",
      "\u001b[36m\u001b[1m[ \u001b[22m\u001b[39m\u001b[36m\u001b[1mInfo: \u001b[22m\u001b[39mGpABC SMC simulation accepted 640/9000 particles.\n",
      "\u001b[36m\u001b[1m[ \u001b[22m\u001b[39m\u001b[36m\u001b[1mInfo: \u001b[22m\u001b[39mGpABC SMC simulation accepted 716/10000 particles.\n",
      "\u001b[36m\u001b[1m[ \u001b[22m\u001b[39m\u001b[36m\u001b[1mInfo: \u001b[22m\u001b[39mGpABC SMC simulation accepted 789/11000 particles.\n",
      "\u001b[36m\u001b[1m[ \u001b[22m\u001b[39m\u001b[36m\u001b[1mInfo: \u001b[22m\u001b[39mGpABC SMC simulation accepted 855/12000 particles.\n",
      "\u001b[36m\u001b[1m[ \u001b[22m\u001b[39m\u001b[36m\u001b[1mInfo: \u001b[22m\u001b[39mGpABC SMC simulation accepted 924/13000 particles.\n",
      "\u001b[36m\u001b[1m[ \u001b[22m\u001b[39m\u001b[36m\u001b[1mInfo: \u001b[22m\u001b[39mGpABC SMC simulation accepted 995/14000 particles.\n",
      "\u001b[36m\u001b[1m[ \u001b[22m\u001b[39m\u001b[36m\u001b[1mInfo: \u001b[22m\u001b[39mGpABC SMC simulation ϵ = 1.0\n",
      "\u001b[36m\u001b[1m[ \u001b[22m\u001b[39m\u001b[36m\u001b[1mInfo: \u001b[22m\u001b[39mGpABC SMC simulation accepted 10/1000 particles.\n",
      "\u001b[36m\u001b[1m[ \u001b[22m\u001b[39m\u001b[36m\u001b[1mInfo: \u001b[22m\u001b[39mGpABC SMC simulation accepted 22/2000 particles.\n",
      "\u001b[36m\u001b[1m[ \u001b[22m\u001b[39m\u001b[36m\u001b[1mInfo: \u001b[22m\u001b[39mGpABC SMC simulation accepted 39/3000 particles.\n",
      "\u001b[36m\u001b[1m[ \u001b[22m\u001b[39m\u001b[36m\u001b[1mInfo: \u001b[22m\u001b[39mGpABC SMC simulation accepted 54/4000 particles.\n",
      "\u001b[36m\u001b[1m[ \u001b[22m\u001b[39m\u001b[36m\u001b[1mInfo: \u001b[22m\u001b[39mGpABC SMC simulation accepted 70/5000 particles.\n"
     ]
    }
   ],
   "source": [
    "sim_abcsmc_res_1 = SimulatedABCSMC(reshape([cyto_means[sn],nuc_FFs[sn],cyto_FFs[sn]],(3,1)),\n",
    "    simulator_fn_1,\n",
    "    priors_1,\n",
    "    threshold_schedule_1,\n",
    "    n_particles; \n",
    "    max_iter=convert(Int, 2e5),\n",
    "    distance_function = new_distance,\n",
    "    write_progress=true);"
   ]
  },
  {
   "cell_type": "code",
   "execution_count": null,
   "id": "0e741e3e",
   "metadata": {},
   "outputs": [],
   "source": [
    "plot(sim_abcsmc_res_1)"
   ]
  },
  {
   "cell_type": "code",
   "execution_count": null,
   "id": "f921d9e6",
   "metadata": {},
   "outputs": [],
   "source": [
    "save(\"./jld2-res/S$(hypars[1])R$(hypars[2])_mad1WTGFP_samp1.jld2\", \"ABC\", sim_abcsmc_res_1)"
   ]
  },
  {
   "cell_type": "code",
   "execution_count": null,
   "id": "819c30aa",
   "metadata": {},
   "outputs": [],
   "source": []
  },
  {
   "cell_type": "markdown",
   "id": "e8a19385",
   "metadata": {},
   "source": [
    "## Sample 2 of 4"
   ]
  },
  {
   "cell_type": "code",
   "execution_count": null,
   "id": "df74b392",
   "metadata": {},
   "outputs": [],
   "source": [
    "sn = 2;\n",
    "bs_vec = [0.00169,0.00109,0.00109];"
   ]
  },
  {
   "cell_type": "code",
   "execution_count": null,
   "id": "8643d13c",
   "metadata": {},
   "outputs": [],
   "source": [
    "function simulator_fn_2(pars)\n",
    "    op = SSA(Ns[2], pars, hypars, sim_time(pars), sim_time(pars));\n",
    "    nuc_pop = op[1][:,2];\n",
    "    cyto_pop = op[2][:,2];\n",
    "    nuc_FF = var(nuc_pop)/mean(nuc_pop);\n",
    "    cyto_mean = 2*mean(cyto_pop);\n",
    "    cyto_FF = var(cyto_pop)/mean(cyto_pop);\n",
    "    # return the moments of interest\n",
    "    return reshape([cyto_mean, nuc_FF, cyto_FF],(3,1))\n",
    "end"
   ]
  },
  {
   "cell_type": "markdown",
   "id": "d9c3388e",
   "metadata": {},
   "source": [
    "Let's look at the value of the objective function for something close to an optimum value. This informs what our threshold schedule for the ABC will be."
   ]
  },
  {
   "cell_type": "code",
   "execution_count": null,
   "id": "35bd2268",
   "metadata": {},
   "outputs": [],
   "source": [
    "new_distance(simulator_fn_2([2.54,3.64,20.0]),reshape([cyto_means[sn],nuc_FFs[sn],cyto_FFs[sn]],(3,1)))"
   ]
  },
  {
   "cell_type": "code",
   "execution_count": null,
   "id": "clear-wichita",
   "metadata": {},
   "outputs": [],
   "source": [
    "# ABC priors\n",
    "priors_2 = [Uniform(pf*0.5,pf*10.5), Uniform(0.5, 150.0), Uniform(20,1000.0)]\n",
    "\n",
    "# number of particles\n",
    "n_particles = 1000\n",
    "\n",
    "# ABC hpars\n",
    "threshold_schedule_2 = [500.0,200.0,70.0,40.0,20.0,10.0,5.0,2.0]"
   ]
  },
  {
   "cell_type": "code",
   "execution_count": null,
   "id": "9ad3ca43",
   "metadata": {},
   "outputs": [],
   "source": [
    "sim_abcsmc_res_2 = SimulatedABCSMC(reshape([cyto_means[sn],nuc_FFs[sn],cyto_FFs[sn]],(3,1)),\n",
    "    simulator_fn_2,\n",
    "    priors_2,\n",
    "    threshold_schedule_2,\n",
    "    n_particles; \n",
    "    max_iter=convert(Int, 2e5),\n",
    "    distance_function = new_distance,\n",
    "    write_progress=true);"
   ]
  },
  {
   "cell_type": "code",
   "execution_count": null,
   "id": "400a2587",
   "metadata": {},
   "outputs": [],
   "source": [
    "plot(sim_abcsmc_res_2)"
   ]
  },
  {
   "cell_type": "code",
   "execution_count": null,
   "id": "30ea610e",
   "metadata": {},
   "outputs": [],
   "source": [
    "save(\"./jld2-res/S$(hypars[1])R$(hypars[2])_mad1WTGFP_samp2.jld2\", \"ABC\", sim_abcsmc_res_2)"
   ]
  },
  {
   "cell_type": "code",
   "execution_count": null,
   "id": "247aa498",
   "metadata": {},
   "outputs": [],
   "source": []
  },
  {
   "cell_type": "markdown",
   "id": "b4371c5c",
   "metadata": {},
   "source": [
    "## Sample 3 of 4"
   ]
  },
  {
   "cell_type": "code",
   "execution_count": null,
   "id": "27f47625",
   "metadata": {},
   "outputs": [],
   "source": [
    "sn = 3;\n",
    "bs_vec = [0.00135,0.00079,0.00049];"
   ]
  },
  {
   "cell_type": "code",
   "execution_count": null,
   "id": "0cef5c4a",
   "metadata": {},
   "outputs": [],
   "source": [
    "function simulator_fn_3(pars)\n",
    "    op = SSA(Ns[3], pars, hypars, sim_time(pars), sim_time(pars));\n",
    "    nuc_pop = op[1][:,2];\n",
    "    cyto_pop = op[2][:,2];\n",
    "    nuc_FF = var(nuc_pop)/mean(nuc_pop);\n",
    "    cyto_mean = 2*mean(cyto_pop);\n",
    "    cyto_FF = var(cyto_pop)/mean(cyto_pop);\n",
    "    # return the moments of interest\n",
    "    return reshape([cyto_mean, nuc_FF, cyto_FF],(3,1))\n",
    "end"
   ]
  },
  {
   "cell_type": "markdown",
   "id": "8d565acb",
   "metadata": {},
   "source": [
    "Let's look at the value of the objective function for something close to an optimum value. This informs what our threshold schedule for the ABC will be."
   ]
  },
  {
   "cell_type": "code",
   "execution_count": null,
   "id": "634442bb",
   "metadata": {},
   "outputs": [],
   "source": [
    "new_distance(simulator_fn_3([2.54,3.64,20.0]),reshape([cyto_means[sn],nuc_FFs[sn],cyto_FFs[sn]],(3,1)))"
   ]
  },
  {
   "cell_type": "code",
   "execution_count": null,
   "id": "signed-special",
   "metadata": {},
   "outputs": [],
   "source": [
    "# ABC priors\n",
    "priors_3 = [Uniform(pf*0.5,pf*10.5), Uniform(0.5, 40.5), Uniform(20,220)]\n",
    "\n",
    "# number of particles\n",
    "n_particles = 1000\n",
    "\n",
    "# ABC hpars\n",
    "threshold_schedule_3 = [500.0,200.0,70.0,40.0,20.0,10.0,5.0,2.0]"
   ]
  },
  {
   "cell_type": "code",
   "execution_count": null,
   "id": "dc1beaf9",
   "metadata": {},
   "outputs": [],
   "source": [
    "sim_abcsmc_res_3 = SimulatedABCSMC(reshape([cyto_means[sn],nuc_FFs[sn],cyto_FFs[sn]],(3,1)),\n",
    "    simulator_fn_3,\n",
    "    priors_3,\n",
    "    threshold_schedule_3,\n",
    "    n_particles; \n",
    "    max_iter=convert(Int, 2e5),\n",
    "    distance_function = new_distance,\n",
    "    write_progress=true);"
   ]
  },
  {
   "cell_type": "code",
   "execution_count": null,
   "id": "7f8cb15d",
   "metadata": {},
   "outputs": [],
   "source": [
    "plot(sim_abcsmc_res_3)"
   ]
  },
  {
   "cell_type": "code",
   "execution_count": null,
   "id": "21dd8a08",
   "metadata": {},
   "outputs": [],
   "source": [
    "save(\"./jld2-res/S$(hypars[1])R$(hypars[2])_mad1WTGFP_samp3.jld2\", \"ABC\", sim_abcsmc_res_3)"
   ]
  },
  {
   "cell_type": "code",
   "execution_count": null,
   "id": "6ee9da8b",
   "metadata": {},
   "outputs": [],
   "source": []
  },
  {
   "cell_type": "markdown",
   "id": "907170f9",
   "metadata": {},
   "source": [
    "## Sample 4 of 4"
   ]
  },
  {
   "cell_type": "code",
   "execution_count": null,
   "id": "3cc645ce",
   "metadata": {},
   "outputs": [],
   "source": [
    "sn = 4;\n",
    "bs_vec = [0.001099,0.001136,0.000364];"
   ]
  },
  {
   "cell_type": "code",
   "execution_count": null,
   "id": "f18e16b2",
   "metadata": {},
   "outputs": [],
   "source": [
    "function simulator_fn_4(pars)\n",
    "    op = SSA(Ns[4], pars, hypars, sim_time(pars), sim_time(pars));\n",
    "    nuc_pop = op[1][:,2];\n",
    "    cyto_pop = op[2][:,2];\n",
    "    nuc_FF = var(nuc_pop)/mean(nuc_pop);\n",
    "    cyto_mean = 2*mean(cyto_pop);\n",
    "    cyto_FF = var(cyto_pop)/mean(cyto_pop);\n",
    "    # return the moments of interest\n",
    "    return reshape([cyto_mean, nuc_FF, cyto_FF],(3,1))\n",
    "end"
   ]
  },
  {
   "cell_type": "markdown",
   "id": "5aa90d9c",
   "metadata": {},
   "source": [
    "Let's look at the value of the objective function for something close to an optimum value. This informs what our threshold schedule for the ABC will be."
   ]
  },
  {
   "cell_type": "code",
   "execution_count": null,
   "id": "ad2822a5",
   "metadata": {},
   "outputs": [],
   "source": [
    "new_distance(simulator_fn_1([2.54,3.64,20.0]),reshape([cyto_means[sn],nuc_FFs[sn],cyto_FFs[sn]],(3,1)))"
   ]
  },
  {
   "cell_type": "code",
   "execution_count": null,
   "id": "african-auction",
   "metadata": {},
   "outputs": [],
   "source": [
    "# ABC priors\n",
    "priors_4 = [Uniform(pf*0.5,pf*10.5), Uniform(0.5, 40.5), Uniform(20,500)]\n",
    "\n",
    "# number of particles\n",
    "n_particles = 1000\n",
    "\n",
    "# ABC hpars\n",
    "threshold_schedule_4 = [500.0,200.0,70.0,40.0,20.0,10.0,5.0,2.0]"
   ]
  },
  {
   "cell_type": "code",
   "execution_count": null,
   "id": "aa41616d",
   "metadata": {},
   "outputs": [],
   "source": [
    "sim_abcsmc_res_4 = SimulatedABCSMC(reshape([cyto_means[sn],nuc_FFs[sn],cyto_FFs[sn]],(3,1)),\n",
    "    simulator_fn_4,\n",
    "    priors_4,\n",
    "    threshold_schedule_4,\n",
    "    n_particles; \n",
    "    max_iter=convert(Int, 2e5),\n",
    "    distance_function = new_distance,\n",
    "    write_progress=true);"
   ]
  },
  {
   "cell_type": "code",
   "execution_count": null,
   "id": "83b9268e",
   "metadata": {},
   "outputs": [],
   "source": [
    "plot(sim_abcsmc_res_4)"
   ]
  },
  {
   "cell_type": "code",
   "execution_count": null,
   "id": "07def827",
   "metadata": {},
   "outputs": [],
   "source": [
    "save(\"./jld2-res/S$(hypars[1])R$(hypars[2])_mad1WTGFP_samp4.jld2\", \"ABC\", sim_abcsmc_res_4)"
   ]
  },
  {
   "cell_type": "code",
   "execution_count": null,
   "id": "c690a834",
   "metadata": {},
   "outputs": [],
   "source": []
  },
  {
   "cell_type": "code",
   "execution_count": null,
   "id": "younger-hamilton",
   "metadata": {},
   "outputs": [],
   "source": []
  },
  {
   "cell_type": "code",
   "execution_count": null,
   "id": "golden-coaching",
   "metadata": {},
   "outputs": [],
   "source": []
  },
  {
   "cell_type": "code",
   "execution_count": null,
   "id": "severe-belgium",
   "metadata": {},
   "outputs": [],
   "source": []
  }
 ],
 "metadata": {
  "kernelspec": {
   "display_name": "Julia 1.8.5",
   "language": "julia",
   "name": "julia-1.8"
  },
  "language_info": {
   "file_extension": ".jl",
   "mimetype": "application/julia",
   "name": "julia",
   "version": "1.8.5"
  }
 },
 "nbformat": 4,
 "nbformat_minor": 5
}
