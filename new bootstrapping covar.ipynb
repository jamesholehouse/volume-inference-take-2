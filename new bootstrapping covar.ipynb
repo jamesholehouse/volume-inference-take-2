{
 "cells": [
  {
   "cell_type": "markdown",
   "id": "outstanding-project",
   "metadata": {},
   "source": [
    "# Bootstrapping for each replicate"
   ]
  },
  {
   "cell_type": "markdown",
   "id": "0f703048",
   "metadata": {},
   "source": [
    "## Data analysis: Linear model fit and volume corrected moments"
   ]
  },
  {
   "cell_type": "code",
   "execution_count": 2,
   "id": "aa1a2211",
   "metadata": {},
   "outputs": [],
   "source": [
    "using Random, Plots, Distributions, StatsBase, DataFrames, CSV, Plots.PlotMeasures"
   ]
  },
  {
   "cell_type": "code",
   "execution_count": 68,
   "id": "0807513e",
   "metadata": {},
   "outputs": [],
   "source": [
    "df = DataFrame(CSV.File(\"./mad1WTGFP/FISH_toShare_NoTSlabel_celldata_long_220620_simple_woMad3Outlier_withColDescription.csv\"));"
   ]
  },
  {
   "cell_type": "code",
   "execution_count": 69,
   "id": "84235298",
   "metadata": {},
   "outputs": [],
   "source": [
    "names(df);"
   ]
  },
  {
   "cell_type": "code",
   "execution_count": 70,
   "id": "4314d2be",
   "metadata": {},
   "outputs": [],
   "source": [
    "df = df[:,[:gene,:NucleiCount,:Compartment,:CountMethod,:RNAperCell,:Cell_Length_um]];"
   ]
  },
  {
   "cell_type": "code",
   "execution_count": 71,
   "id": "acceptable-guitar",
   "metadata": {},
   "outputs": [
    {
     "data": {
      "text/plain": [
       "10-element Vector{String31}:\n",
       " \"cdc13endog\"\n",
       " \"mad1endog\"\n",
       " \"rpb1endog\"\n",
       " \"mad1WTymEGFP\"\n",
       " \"mad2WTymEGFP\"\n",
       " \"bub1WTymEGFP\"\n",
       " \"mad3WTymEGFP\"\n",
       " \"sep1WTymEGFP-hph\"\n",
       " \"SPAC27D709cWTymEGFP-hph\"\n",
       " \"SPAC2H1001WTymEGFP-hph\""
      ]
     },
     "execution_count": 71,
     "metadata": {},
     "output_type": "execute_result"
    }
   ],
   "source": [
    "genes"
   ]
  },
  {
   "cell_type": "code",
   "execution_count": 72,
   "id": "7ee07693",
   "metadata": {},
   "outputs": [],
   "source": [
    "# filter NucleiCount = 1\n",
    "dfa = subset(df,:NucleiCount => n -> n.==1)\n",
    "# make cyto and nuc table separately.\n",
    "dfcyto = subset(dfa, :Compartment=>c->c.==\"Cytoplasm\")\n",
    "dfnuc = subset(dfa, :Compartment=>c->c.==\"Nucleus\")\n",
    "# separate the 7 different genes\n",
    "dfsN = []; dfsC = [];\n",
    "genes = unique(dfa[!,:gene])\n",
    "# add each to the vectors\n",
    "for i in 1:10\n",
    "    dftempN = subset(dfnuc, :gene=>S->S.==genes[i])\n",
    "    dftempC = subset(dfcyto, :gene=>S->S.==genes[i])\n",
    "    push!(dfsN,dftempN)\n",
    "    push!(dfsC,dftempC)\n",
    "end"
   ]
  },
  {
   "cell_type": "code",
   "execution_count": 73,
   "id": "e69bc2bc",
   "metadata": {},
   "outputs": [
    {
     "data": {
      "text/plain": [
       "7-element Vector{Any}:\n",
       " \u001b[1m4146×6 DataFrame\u001b[0m\n",
       "\u001b[1m  Row \u001b[0m│\u001b[1m gene      \u001b[0m\u001b[1m NucleiCount \u001b[0m\u001b[1m Compartment \u001b[0m\u001b[1m CountMethod    \u001b[0m\u001b[1m RNAperCell \u001b[0m\u001b[1m Cell_\u001b[0m ⋯\n",
       "      │\u001b[90m String31  \u001b[0m\u001b[90m Int64       \u001b[0m\u001b[90m String15    \u001b[0m\u001b[90m String15       \u001b[0m\u001b[90m Float64    \u001b[0m\u001b[90m Float\u001b[0m ⋯\n",
       "──────┼─────────────────────────────────────────────────────────────────────────\n",
       "    1 │ mad1endog            1  Nucleus      SpotCount          0.0            ⋯\n",
       "    2 │ mad1endog            1  Nucleus      IntensityCount     0.0\n",
       "    3 │ mad1endog            1  Nucleus      HybridCount        0.0\n",
       "    4 │ mad1endog            1  Nucleus      SpotCount          0.0\n",
       "    5 │ mad1endog            1  Nucleus      IntensityCount     0.0            ⋯\n",
       "    6 │ mad1endog            1  Nucleus      HybridCount        0.0\n",
       "    7 │ mad1endog            1  Nucleus      SpotCount          0.0\n",
       "    8 │ mad1endog            1  Nucleus      IntensityCount     0.0\n",
       "    9 │ mad1endog            1  Nucleus      HybridCount        0.0            ⋯\n",
       "   10 │ mad1endog            1  Nucleus      SpotCount          1.0\n",
       "   11 │ mad1endog            1  Nucleus      IntensityCount     1.25936\n",
       "  ⋮   │     ⋮           ⋮            ⋮             ⋮             ⋮             ⋱\n",
       " 4137 │ mad1endog            1  Nucleus      HybridCount        0.0\n",
       " 4138 │ mad1endog            1  Nucleus      SpotCount          0.0            ⋯\n",
       " 4139 │ mad1endog            1  Nucleus      IntensityCount     0.0\n",
       " 4140 │ mad1endog            1  Nucleus      HybridCount        0.0\n",
       " 4141 │ mad1endog            1  Nucleus      SpotCount          0.0\n",
       " 4142 │ mad1endog            1  Nucleus      IntensityCount     0.0            ⋯\n",
       " 4143 │ mad1endog            1  Nucleus      HybridCount        0.0\n",
       " 4144 │ mad1endog            1  Nucleus      SpotCount          0.0\n",
       " 4145 │ mad1endog            1  Nucleus      IntensityCount     0.0\n",
       " 4146 │ mad1endog            1  Nucleus      HybridCount        0.0            ⋯\n",
       "\u001b[36m                                                  1 column and 4125 rows omitted\u001b[0m\n",
       " \u001b[1m4275×6 DataFrame\u001b[0m\n",
       "\u001b[1m  Row \u001b[0m│\u001b[1m gene      \u001b[0m\u001b[1m NucleiCount \u001b[0m\u001b[1m Compartment \u001b[0m\u001b[1m CountMethod    \u001b[0m\u001b[1m RNAperCell \u001b[0m\u001b[1m Cell_\u001b[0m ⋯\n",
       "      │\u001b[90m String31  \u001b[0m\u001b[90m Int64       \u001b[0m\u001b[90m String15    \u001b[0m\u001b[90m String15       \u001b[0m\u001b[90m Float64    \u001b[0m\u001b[90m Float\u001b[0m ⋯\n",
       "──────┼─────────────────────────────────────────────────────────────────────────\n",
       "    1 │ rpb1endog            1  Nucleus      SpotCount          2.0            ⋯\n",
       "    2 │ rpb1endog            1  Nucleus      IntensityCount     3.89098\n",
       "    3 │ rpb1endog            1  Nucleus      HybridCount        4.2731\n",
       "    4 │ rpb1endog            1  Nucleus      SpotCount          2.0\n",
       "    5 │ rpb1endog            1  Nucleus      IntensityCount     5.24224        ⋯\n",
       "    6 │ rpb1endog            1  Nucleus      HybridCount        5.16741\n",
       "    7 │ rpb1endog            1  Nucleus      SpotCount          2.0\n",
       "    8 │ rpb1endog            1  Nucleus      IntensityCount     2.16446\n",
       "    9 │ rpb1endog            1  Nucleus      HybridCount        2.0            ⋯\n",
       "   10 │ rpb1endog            1  Nucleus      SpotCount          1.0\n",
       "   11 │ rpb1endog            1  Nucleus      IntensityCount     3.06518\n",
       "  ⋮   │     ⋮           ⋮            ⋮             ⋮             ⋮             ⋱\n",
       " 4266 │ rpb1endog            1  Nucleus      HybridCount        3.0\n",
       " 4267 │ rpb1endog            1  Nucleus      SpotCount          1.0            ⋯\n",
       " 4268 │ rpb1endog            1  Nucleus      IntensityCount     1.30614\n",
       " 4269 │ rpb1endog            1  Nucleus      HybridCount        1.0\n",
       " 4270 │ rpb1endog            1  Nucleus      SpotCount          2.0\n",
       " 4271 │ rpb1endog            1  Nucleus      IntensityCount     4.18538        ⋯\n",
       " 4272 │ rpb1endog            1  Nucleus      HybridCount        4.01537\n",
       " 4273 │ rpb1endog            1  Nucleus      SpotCount          3.0\n",
       " 4274 │ rpb1endog            1  Nucleus      IntensityCount     4.84272\n",
       " 4275 │ rpb1endog            1  Nucleus      HybridCount        4.27846        ⋯\n",
       "\u001b[36m                                                  1 column and 4254 rows omitted\u001b[0m\n",
       " \u001b[1m6465×6 DataFrame\u001b[0m\n",
       "\u001b[1m  Row \u001b[0m│\u001b[1m gene         \u001b[0m\u001b[1m NucleiCount \u001b[0m\u001b[1m Compartment \u001b[0m\u001b[1m CountMethod    \u001b[0m\u001b[1m RNAperCell \u001b[0m\u001b[1m Ce\u001b[0m ⋯\n",
       "      │\u001b[90m String31     \u001b[0m\u001b[90m Int64       \u001b[0m\u001b[90m String15    \u001b[0m\u001b[90m String15       \u001b[0m\u001b[90m Float64    \u001b[0m\u001b[90m Fl\u001b[0m ⋯\n",
       "──────┼─────────────────────────────────────────────────────────────────────────\n",
       "    1 │ mad1WTymEGFP            1  Nucleus      SpotCount         0.0          ⋯\n",
       "    2 │ mad1WTymEGFP            1  Nucleus      IntensityCount    0.0\n",
       "    3 │ mad1WTymEGFP            1  Nucleus      HybridCount       0.0\n",
       "    4 │ mad1WTymEGFP            1  Nucleus      SpotCount         0.0\n",
       "    5 │ mad1WTymEGFP            1  Nucleus      IntensityCount    0.0          ⋯\n",
       "    6 │ mad1WTymEGFP            1  Nucleus      HybridCount       0.0\n",
       "    7 │ mad1WTymEGFP            1  Nucleus      SpotCount         1.0\n",
       "    8 │ mad1WTymEGFP            1  Nucleus      IntensityCount    0.710783\n",
       "    9 │ mad1WTymEGFP            1  Nucleus      HybridCount       1.0          ⋯\n",
       "   10 │ mad1WTymEGFP            1  Nucleus      SpotCount         0.0\n",
       "   11 │ mad1WTymEGFP            1  Nucleus      IntensityCount    0.0\n",
       "  ⋮   │      ⋮             ⋮            ⋮             ⋮             ⋮          ⋱\n",
       " 6456 │ mad1WTymEGFP            1  Nucleus      HybridCount       0.0\n",
       " 6457 │ mad1WTymEGFP            1  Nucleus      SpotCount         0.0          ⋯\n",
       " 6458 │ mad1WTymEGFP            1  Nucleus      IntensityCount    0.0\n",
       " 6459 │ mad1WTymEGFP            1  Nucleus      HybridCount       0.0\n",
       " 6460 │ mad1WTymEGFP            1  Nucleus      SpotCount         0.0\n",
       " 6461 │ mad1WTymEGFP            1  Nucleus      IntensityCount    0.0          ⋯\n",
       " 6462 │ mad1WTymEGFP            1  Nucleus      HybridCount       0.0\n",
       " 6463 │ mad1WTymEGFP            1  Nucleus      SpotCount         0.0\n",
       " 6464 │ mad1WTymEGFP            1  Nucleus      IntensityCount    0.0\n",
       " 6465 │ mad1WTymEGFP            1  Nucleus      HybridCount       0.0          ⋯\n",
       "\u001b[36m                                                  1 column and 6444 rows omitted\u001b[0m\n",
       " \u001b[1m9192×6 DataFrame\u001b[0m\n",
       "\u001b[1m  Row \u001b[0m│\u001b[1m gene         \u001b[0m\u001b[1m NucleiCount \u001b[0m\u001b[1m Compartment \u001b[0m\u001b[1m CountMethod    \u001b[0m\u001b[1m RNAperCell \u001b[0m\u001b[1m Ce\u001b[0m ⋯\n",
       "      │\u001b[90m String31     \u001b[0m\u001b[90m Int64       \u001b[0m\u001b[90m String15    \u001b[0m\u001b[90m String15       \u001b[0m\u001b[90m Float64    \u001b[0m\u001b[90m Fl\u001b[0m ⋯\n",
       "──────┼─────────────────────────────────────────────────────────────────────────\n",
       "    1 │ mad2WTymEGFP            1  Nucleus      SpotCount         1.0          ⋯\n",
       "    2 │ mad2WTymEGFP            1  Nucleus      IntensityCount    1.19859\n",
       "    3 │ mad2WTymEGFP            1  Nucleus      HybridCount       1.0\n",
       "    4 │ mad2WTymEGFP            1  Nucleus      SpotCount         2.0\n",
       "    5 │ mad2WTymEGFP            1  Nucleus      IntensityCount    2.09639      ⋯\n",
       "    6 │ mad2WTymEGFP            1  Nucleus      HybridCount       2.0\n",
       "    7 │ mad2WTymEGFP            1  Nucleus      SpotCount         1.0\n",
       "    8 │ mad2WTymEGFP            1  Nucleus      IntensityCount    0.993561\n",
       "    9 │ mad2WTymEGFP            1  Nucleus      HybridCount       1.0          ⋯\n",
       "   10 │ mad2WTymEGFP            1  Nucleus      SpotCount         1.0\n",
       "   11 │ mad2WTymEGFP            1  Nucleus      IntensityCount    0.989971\n",
       "  ⋮   │      ⋮             ⋮            ⋮             ⋮             ⋮          ⋱\n",
       " 9183 │ mad2WTymEGFP            1  Nucleus      HybridCount       1.0\n",
       " 9184 │ mad2WTymEGFP            1  Nucleus      SpotCount         0.0          ⋯\n",
       " 9185 │ mad2WTymEGFP            1  Nucleus      IntensityCount    0.0\n",
       " 9186 │ mad2WTymEGFP            1  Nucleus      HybridCount       0.0\n",
       " 9187 │ mad2WTymEGFP            1  Nucleus      SpotCount         1.0\n",
       " 9188 │ mad2WTymEGFP            1  Nucleus      IntensityCount    0.608864     ⋯\n",
       " 9189 │ mad2WTymEGFP            1  Nucleus      HybridCount       1.0\n",
       " 9190 │ mad2WTymEGFP            1  Nucleus      SpotCount         2.0\n",
       " 9191 │ mad2WTymEGFP            1  Nucleus      IntensityCount    1.45834\n",
       " 9192 │ mad2WTymEGFP            1  Nucleus      HybridCount       2.0          ⋯\n",
       "\u001b[36m                                                  1 column and 9171 rows omitted\u001b[0m\n",
       " \u001b[1m3426×6 DataFrame\u001b[0m\n",
       "\u001b[1m  Row \u001b[0m│\u001b[1m gene         \u001b[0m\u001b[1m NucleiCount \u001b[0m\u001b[1m Compartment \u001b[0m\u001b[1m CountMethod    \u001b[0m\u001b[1m RNAperCell \u001b[0m\u001b[1m Ce\u001b[0m ⋯\n",
       "      │\u001b[90m String31     \u001b[0m\u001b[90m Int64       \u001b[0m\u001b[90m String15    \u001b[0m\u001b[90m String15       \u001b[0m\u001b[90m Float64    \u001b[0m\u001b[90m Fl\u001b[0m ⋯\n",
       "──────┼─────────────────────────────────────────────────────────────────────────\n",
       "    1 │ bub1WTymEGFP            1  Nucleus      SpotCount         0.0          ⋯\n",
       "    2 │ bub1WTymEGFP            1  Nucleus      IntensityCount    0.0\n",
       "    3 │ bub1WTymEGFP            1  Nucleus      HybridCount       0.0\n",
       "    4 │ bub1WTymEGFP            1  Nucleus      SpotCount         0.0\n",
       "    5 │ bub1WTymEGFP            1  Nucleus      IntensityCount    0.0          ⋯\n",
       "    6 │ bub1WTymEGFP            1  Nucleus      HybridCount       0.0\n",
       "    7 │ bub1WTymEGFP            1  Nucleus      SpotCount         1.0\n",
       "    8 │ bub1WTymEGFP            1  Nucleus      IntensityCount    1.51909\n",
       "    9 │ bub1WTymEGFP            1  Nucleus      HybridCount       1.0          ⋯\n",
       "   10 │ bub1WTymEGFP            1  Nucleus      SpotCount         0.0\n",
       "   11 │ bub1WTymEGFP            1  Nucleus      IntensityCount    0.0\n",
       "  ⋮   │      ⋮             ⋮            ⋮             ⋮             ⋮          ⋱\n",
       " 3417 │ bub1WTymEGFP            1  Nucleus      HybridCount       1.0\n",
       " 3418 │ bub1WTymEGFP            1  Nucleus      SpotCount         0.0          ⋯\n",
       " 3419 │ bub1WTymEGFP            1  Nucleus      IntensityCount    0.0\n",
       " 3420 │ bub1WTymEGFP            1  Nucleus      HybridCount       0.0\n",
       " 3421 │ bub1WTymEGFP            1  Nucleus      SpotCount         1.0\n",
       " 3422 │ bub1WTymEGFP            1  Nucleus      IntensityCount    1.18815      ⋯\n",
       " 3423 │ bub1WTymEGFP            1  Nucleus      HybridCount       1.0\n",
       " 3424 │ bub1WTymEGFP            1  Nucleus      SpotCount         1.0\n",
       " 3425 │ bub1WTymEGFP            1  Nucleus      IntensityCount    0.758413\n",
       " 3426 │ bub1WTymEGFP            1  Nucleus      HybridCount       1.0          ⋯\n",
       "\u001b[36m                                                  1 column and 3405 rows omitted\u001b[0m\n",
       " \u001b[1m7980×6 DataFrame\u001b[0m\n",
       "\u001b[1m  Row \u001b[0m│\u001b[1m gene         \u001b[0m\u001b[1m NucleiCount \u001b[0m\u001b[1m Compartment \u001b[0m\u001b[1m CountMethod    \u001b[0m\u001b[1m RNAperCell \u001b[0m\u001b[1m Ce\u001b[0m ⋯\n",
       "      │\u001b[90m String31     \u001b[0m\u001b[90m Int64       \u001b[0m\u001b[90m String15    \u001b[0m\u001b[90m String15       \u001b[0m\u001b[90m Float64    \u001b[0m\u001b[90m Fl\u001b[0m ⋯\n",
       "──────┼─────────────────────────────────────────────────────────────────────────\n",
       "    1 │ mad3WTymEGFP            1  Nucleus      SpotCount         0.0          ⋯\n",
       "    2 │ mad3WTymEGFP            1  Nucleus      IntensityCount    0.0\n",
       "    3 │ mad3WTymEGFP            1  Nucleus      HybridCount       0.0\n",
       "    4 │ mad3WTymEGFP            1  Nucleus      SpotCount         1.0\n",
       "    5 │ mad3WTymEGFP            1  Nucleus      IntensityCount    1.50399      ⋯\n",
       "    6 │ mad3WTymEGFP            1  Nucleus      HybridCount       1.0\n",
       "    7 │ mad3WTymEGFP            1  Nucleus      SpotCount         1.0\n",
       "    8 │ mad3WTymEGFP            1  Nucleus      IntensityCount    2.12514\n",
       "    9 │ mad3WTymEGFP            1  Nucleus      HybridCount       2.12514      ⋯\n",
       "   10 │ mad3WTymEGFP            1  Nucleus      SpotCount         0.0\n",
       "   11 │ mad3WTymEGFP            1  Nucleus      IntensityCount    0.0\n",
       "  ⋮   │      ⋮             ⋮            ⋮             ⋮             ⋮          ⋱\n",
       " 7971 │ mad3WTymEGFP            1  Nucleus      HybridCount       0.0\n",
       " 7972 │ mad3WTymEGFP            1  Nucleus      SpotCount         0.0          ⋯\n",
       " 7973 │ mad3WTymEGFP            1  Nucleus      IntensityCount    0.0\n",
       " 7974 │ mad3WTymEGFP            1  Nucleus      HybridCount       0.0\n",
       " 7975 │ mad3WTymEGFP            1  Nucleus      SpotCount         1.0\n",
       " 7976 │ mad3WTymEGFP            1  Nucleus      IntensityCount    1.23367      ⋯\n",
       " 7977 │ mad3WTymEGFP            1  Nucleus      HybridCount       1.0\n",
       " 7978 │ mad3WTymEGFP            1  Nucleus      SpotCount         1.0\n",
       " 7979 │ mad3WTymEGFP            1  Nucleus      IntensityCount    0.526445\n",
       " 7980 │ mad3WTymEGFP            1  Nucleus      HybridCount       1.0          ⋯\n",
       "\u001b[36m                                                  1 column and 7959 rows omitted\u001b[0m\n",
       " \u001b[1m1767×6 DataFrame\u001b[0m\n",
       "\u001b[1m  Row \u001b[0m│\u001b[1m gene             \u001b[0m\u001b[1m NucleiCount \u001b[0m\u001b[1m Compartment \u001b[0m\u001b[1m CountMethod    \u001b[0m\u001b[1m RNAperCell\u001b[0m ⋯\n",
       "      │\u001b[90m String31         \u001b[0m\u001b[90m Int64       \u001b[0m\u001b[90m String15    \u001b[0m\u001b[90m String15       \u001b[0m\u001b[90m Float64   \u001b[0m ⋯\n",
       "──────┼─────────────────────────────────────────────────────────────────────────\n",
       "    1 │ sep1WTymEGFP-hph            1  Nucleus      SpotCount          0.0     ⋯\n",
       "    2 │ sep1WTymEGFP-hph            1  Nucleus      IntensityCount     0.0\n",
       "    3 │ sep1WTymEGFP-hph            1  Nucleus      HybridCount        0.0\n",
       "    4 │ sep1WTymEGFP-hph            1  Nucleus      SpotCount          1.0\n",
       "    5 │ sep1WTymEGFP-hph            1  Nucleus      IntensityCount     3.00521 ⋯\n",
       "    6 │ sep1WTymEGFP-hph            1  Nucleus      HybridCount        3.00521\n",
       "    7 │ sep1WTymEGFP-hph            1  Nucleus      SpotCount          2.0\n",
       "    8 │ sep1WTymEGFP-hph            1  Nucleus      IntensityCount     4.75095\n",
       "    9 │ sep1WTymEGFP-hph            1  Nucleus      HybridCount        4.75095 ⋯\n",
       "   10 │ sep1WTymEGFP-hph            1  Nucleus      SpotCount          0.0\n",
       "   11 │ sep1WTymEGFP-hph            1  Nucleus      IntensityCount     0.0\n",
       "  ⋮   │        ⋮               ⋮            ⋮             ⋮             ⋮      ⋱\n",
       " 1758 │ sep1WTymEGFP-hph            1  Nucleus      HybridCount        3.12764\n",
       " 1759 │ sep1WTymEGFP-hph            1  Nucleus      SpotCount          1.0     ⋯\n",
       " 1760 │ sep1WTymEGFP-hph            1  Nucleus      IntensityCount     1.28997\n",
       " 1761 │ sep1WTymEGFP-hph            1  Nucleus      HybridCount        1.0\n",
       " 1762 │ sep1WTymEGFP-hph            1  Nucleus      SpotCount          1.0\n",
       " 1763 │ sep1WTymEGFP-hph            1  Nucleus      IntensityCount     0.73595 ⋯\n",
       " 1764 │ sep1WTymEGFP-hph            1  Nucleus      HybridCount        1.0\n",
       " 1765 │ sep1WTymEGFP-hph            1  Nucleus      SpotCount          2.0\n",
       " 1766 │ sep1WTymEGFP-hph            1  Nucleus      IntensityCount     2.28117\n",
       " 1767 │ sep1WTymEGFP-hph            1  Nucleus      HybridCount        2.0     ⋯\n",
       "\u001b[36m                                                  1 column and 1746 rows omitted\u001b[0m"
      ]
     },
     "execution_count": 73,
     "metadata": {},
     "output_type": "execute_result"
    }
   ],
   "source": [
    "dfsC = dfsC[[2,3,4,5,6,7,8]] # don't want cdc or SPACs\n",
    "dfsN = dfsN[[2,3,4,5,6,7,8]] # don't want cdc or SPACs"
   ]
  },
  {
   "cell_type": "markdown",
   "id": "2b9d417a",
   "metadata": {},
   "source": [
    "If the moments I find differ from this then I know there's an issue! Let's collect the columns corresponding to the nuclear and cytoplasmic volumes and **counts** respectively."
   ]
  },
  {
   "cell_type": "code",
   "execution_count": 74,
   "id": "405f8b9b",
   "metadata": {},
   "outputs": [
    {
     "data": {
      "text/plain": [
       "6-element Vector{String}:\n",
       " \"gene\"\n",
       " \"NucleiCount\"\n",
       " \"Compartment\"\n",
       " \"CountMethod\"\n",
       " \"RNAperCell\"\n",
       " \"Cell_Length_um\""
      ]
     },
     "execution_count": 74,
     "metadata": {},
     "output_type": "execute_result"
    }
   ],
   "source": [
    "names(dfsC[1])"
   ]
  },
  {
   "cell_type": "code",
   "execution_count": 75,
   "id": "ea7653ed",
   "metadata": {},
   "outputs": [],
   "source": [
    "n_vols = [dfsN[i][!,:Cell_Length_um] for i in 1:length(dfsN)]\n",
    "c_vols = [dfsC[i][!,:Cell_Length_um] for i in 1:length(dfsN)]\n",
    "n_ints = [dfsN[i][!,:RNAperCell] for i in 1:length(dfsN)]\n",
    "c_ints = [dfsC[i][!,:RNAperCell] for i in 1:length(dfsN)];"
   ]
  },
  {
   "cell_type": "code",
   "execution_count": 76,
   "id": "d32e9d02",
   "metadata": {},
   "outputs": [
    {
     "data": {
      "text/plain": [
       "7-element Vector{Int64}:\n",
       " 4146\n",
       " 4275\n",
       " 6465\n",
       " 9192\n",
       " 3426\n",
       " 7980\n",
       " 1767"
      ]
     },
     "execution_count": 76,
     "metadata": {},
     "output_type": "execute_result"
    }
   ],
   "source": [
    "Ns = [length(c_ints[i]) for i in 1:length(dfsN)]"
   ]
  },
  {
   "cell_type": "markdown",
   "id": "11d027b7",
   "metadata": {},
   "source": [
    "For the linear model fits we use the Julia package GLM. This is a very convenient and fast way to construct linear models."
   ]
  },
  {
   "cell_type": "code",
   "execution_count": 77,
   "id": "552f3e83",
   "metadata": {},
   "outputs": [],
   "source": [
    "using GLM"
   ]
  },
  {
   "cell_type": "markdown",
   "id": "e0cc9bc2",
   "metadata": {},
   "source": [
    "Perform the linear model fits. Note in the below that our fitting parameters are stored in `npar` and `cpar` in the order `[intercept, gradient]`."
   ]
  },
  {
   "cell_type": "code",
   "execution_count": 78,
   "id": "9bbfc111",
   "metadata": {},
   "outputs": [
    {
     "data": {
      "text/plain": [
       "7-element Vector{Float64}:\n",
       " 0.3027547144895288\n",
       " 1.862936344101668\n",
       " 0.4486839874995193\n",
       " 0.4733008577390787\n",
       " 0.3872917294645617\n",
       " 0.5636688403707902\n",
       " 0.33229267946068464"
      ]
     },
     "execution_count": 78,
     "metadata": {},
     "output_type": "execute_result"
    }
   ],
   "source": [
    "nlms = [lm(@formula(RNAperCell ~ Cell_Length_um), dfsN[i]) for i in 1:length(dfsN)]\n",
    "npars = [coef(nlms[i]) for i in 1:length(dfsN)]\n",
    "cs = hcat(npars...)[1,:]; ds = hcat(npars...)[2,:]\n",
    "clms = [lm(@formula(RNAperCell ~ Cell_Length_um), dfsC[i]) for i in 1:length(dfsN)]\n",
    "cpars = [coef(clms[i]) for i in 1:length(dfsN)]\n",
    "as = hcat(cpars...)[1,:]; bs = hcat(cpars...)[2,:]"
   ]
  },
  {
   "cell_type": "markdown",
   "id": "8a39fa7a",
   "metadata": {},
   "source": [
    "A quick look at the linear model fit itself will tell us some properties of the fit."
   ]
  },
  {
   "cell_type": "code",
   "execution_count": 79,
   "id": "1c63acbb",
   "metadata": {},
   "outputs": [
    {
     "data": {
      "text/plain": [
       "StatsModels.TableRegressionModel{LinearModel{GLM.LmResp{Vector{Float64}}, GLM.DensePredChol{Float64, LinearAlgebra.CholeskyPivoted{Float64, Matrix{Float64}, Vector{Int64}}}}, Matrix{Float64}}\n",
       "\n",
       "RNAperCell ~ 1 + Cell_Length_um\n",
       "\n",
       "Coefficients:\n",
       "─────────────────────────────────────────────────────────────────────────────\n",
       "                    Coef.  Std. Error       t  Pr(>|t|)  Lower 95%  Upper 95%\n",
       "─────────────────────────────────────────────────────────────────────────────\n",
       "(Intercept)     -1.04726    0.0966759  -10.83    <1e-26  -1.23679   -0.85772\n",
       "Cell_Length_um   0.302755   0.0104471   28.98    <1e-99   0.282273   0.323237\n",
       "─────────────────────────────────────────────────────────────────────────────"
      ]
     },
     "execution_count": 79,
     "metadata": {},
     "output_type": "execute_result"
    }
   ],
   "source": [
    "clms[1]"
   ]
  },
  {
   "cell_type": "markdown",
   "id": "fe494940",
   "metadata": {},
   "source": [
    "Now, to construct the volume corrected moments we first need to know the mean values for the volumes and intensities. Collect these from the data."
   ]
  },
  {
   "cell_type": "code",
   "execution_count": 80,
   "id": "f7b86a0c",
   "metadata": {},
   "outputs": [
    {
     "data": {
      "text/plain": [
       "7-element Vector{Float64}:\n",
       "  1.7151718625745296\n",
       " 17.610967268107835\n",
       "  2.818037297496365\n",
       "  2.853951370509465\n",
       "  4.341669328347927\n",
       "  3.471709988317795\n",
       "  5.38877324092077"
      ]
     },
     "execution_count": 80,
     "metadata": {},
     "output_type": "execute_result"
    }
   ],
   "source": [
    "n_vol_avgs = [mean(n_vols[i]) for i in 1:length(dfsN)]\n",
    "c_vol_avgs = [mean(c_vols[i]) for i in 1:length(dfsN)]\n",
    "n_avgs = [mean(n_ints[i]) for i in 1:length(dfsN)]\n",
    "c_avgs = [mean(c_ints[i]) for i in 1:length(dfsN)]"
   ]
  },
  {
   "cell_type": "markdown",
   "id": "cad2ffea",
   "metadata": {},
   "source": [
    "Note that even the means of the cytoplasmic can vary quite significantly between the replicates. As can the observed mean cell volumes in each experiment."
   ]
  },
  {
   "cell_type": "markdown",
   "id": "86b0a1ba",
   "metadata": {},
   "source": [
    "We know theoretically that to first order volume corrections to the means are nil. Let's just clarify this."
   ]
  },
  {
   "cell_type": "code",
   "execution_count": 81,
   "id": "ae9e3336",
   "metadata": {},
   "outputs": [
    {
     "data": {
      "text/plain": [
       "7-element Vector{Float64}:\n",
       "  0.023980893063671654\n",
       "  0.07916482934427854\n",
       "  0.03721835148155214\n",
       "  0.05860329908418444\n",
       "  0.014392613422049557\n",
       "  0.025157783464598515\n",
       " -0.07699645804600715"
      ]
     },
     "execution_count": 81,
     "metadata": {},
     "output_type": "execute_result"
    }
   ],
   "source": [
    "ds"
   ]
  },
  {
   "cell_type": "code",
   "execution_count": 82,
   "id": "af7ad26b",
   "metadata": {},
   "outputs": [
    {
     "data": {
      "text/plain": [
       "7-element Vector{Float64}:\n",
       "  1.7151718625745302\n",
       " 17.61096726810785\n",
       "  2.8180372974963643\n",
       "  2.853951370509466\n",
       "  4.341669328347927\n",
       "  3.4717099883177935\n",
       "  5.388773240920772"
      ]
     },
     "execution_count": 82,
     "metadata": {},
     "output_type": "execute_result"
    }
   ],
   "source": [
    "vc_mean_ns = [cs[i] + n_vol_avgs[i]*ds[i] for i in 1:length(dfsN)]\n",
    "vc_mean_cs = [as[i] + c_vol_avgs[i]*bs[i] for i in 1:length(dfsN)]\n",
    "# vc_mean_cs = a + c_vol_avg*b"
   ]
  },
  {
   "cell_type": "code",
   "execution_count": 83,
   "id": "6331c0e6",
   "metadata": {},
   "outputs": [],
   "source": [
    "μ20s = [moment(n_ints[i], 2, n_avgs[i]) for i in 1:length(dfsN)];\n",
    "μ02s = [moment(c_ints[i], 2, c_avgs[i]) for i in 1:length(dfsN)];\n",
    "μ2Ωs = [moment(n_vols[i], 2, n_vol_avgs[i]) for i in 1:length(dfsN)];"
   ]
  },
  {
   "cell_type": "code",
   "execution_count": 84,
   "id": "21e86d08",
   "metadata": {},
   "outputs": [],
   "source": [
    "μ20s_i = [μ20s[i] - ds[i]^2 * μ20Ωs[i] for i in 1:length(dfsN)]\n",
    "μ02s_i = [μ02s[i] - bs[i]^2 * μ02Ωs[i] for i in 1:length(dfsN)];"
   ]
  },
  {
   "cell_type": "code",
   "execution_count": 85,
   "id": "arctic-realtor",
   "metadata": {},
   "outputs": [
    {
     "data": {
      "text/plain": [
       "7-element Vector{Float64}:\n",
       " -0.10095622435350413\n",
       "  0.04742611860024876\n",
       " -0.08693640723020321\n",
       " -0.259091630280019\n",
       " -0.14074223584828016\n",
       " -0.08221160809740848\n",
       " -0.1619172598908808"
      ]
     },
     "execution_count": 85,
     "metadata": {},
     "output_type": "execute_result"
    }
   ],
   "source": [
    "μ11s = [(sum(n_ints[i].*c_ints[i])/length(n_ints[i])) - n_avgs[i]*c_avgs[i] for i in 1:length(dfsN)]\n",
    "μ11s_i = [μ11s[i] - ds[i]*bs[i] * μ2Ωs[i] for i in 1:length(dfsN)]"
   ]
  },
  {
   "cell_type": "markdown",
   "id": "fundamental-eligibility",
   "metadata": {},
   "source": [
    "# Now for the bootstraps"
   ]
  },
  {
   "cell_type": "code",
   "execution_count": 89,
   "id": "mysterious-mount",
   "metadata": {
    "scrolled": true
   },
   "outputs": [],
   "source": [
    "function bootstrap_samps(n_pop,c_pop,v_pop,N)\n",
    "    if length(n_pop)!=length(c_pop)\n",
    "        return error(\"args must be the same length\")\n",
    "    end\n",
    "    # make an array of all the indices\n",
    "    all_inds = collect(1:1:length(n_pop))\n",
    "    samps = [sort(sample(all_inds,N)) for i in 1:5000]\n",
    "    n_samps = [n_pop[samps[i]] for i in 1:5000]\n",
    "    c_samps = [c_pop[samps[i]] for i in 1:5000]\n",
    "    v_samps = [v_pop[samps[i]] for i in 1:5000]\n",
    "    cvs = zeros(5000)\n",
    "    # for each bootstrapped sample we now need the vol corr moments.\n",
    "    for j in 1:5000\n",
    "        ns = n_samps[j]; cs = c_samps[j]; vs = v_samps[j];\n",
    "        dftemp = DataFrame(vol=vs,n=ns,c=cs);\n",
    "        nlm = lm(@formula(n ~ vol), dftemp);\n",
    "        npars = coef(nlm); c = npars[1]; d = npars[2];\n",
    "        clm = lm(@formula(c ~ vol), dftemp);\n",
    "        cpars = coef(clm); a = cpars[1]; b = cpars[2];\n",
    "        navg = mean(ns); cavg = mean(cs); vavg = mean(vs);\n",
    "        μ2Ω = moment(vs, 2, vavg);\n",
    "        μ11s = (sum(ns.*cs)/length(ns)) - navg*cavg;\n",
    "        cvi = μ11s - d*b * μ2Ω\n",
    "        cvs[j] = cvi;\n",
    "    end\n",
    "    return cvs\n",
    "end\n",
    "ti = 3\n",
    "test = bootstrap_samps(n_ints[3],c_ints[3],n_vols[3],Ns[3]);"
   ]
  },
  {
   "cell_type": "markdown",
   "id": "boring-variety",
   "metadata": {},
   "source": [
    "## Can now see the bootstrapped stds for everything"
   ]
  },
  {
   "cell_type": "code",
   "execution_count": 90,
   "id": "animal-discrimination",
   "metadata": {
    "scrolled": true
   },
   "outputs": [
    {
     "data": {
      "text/plain": [
       "7-element Vector{Vector{Float64}}:\n",
       " [-0.08950982999387508, -0.09994604799368317, -0.10011619554089504, -0.09093169863247835, -0.09307110935983891, -0.09633602104692267, -0.09005073134534951, -0.09700923003147315, -0.09059171334707126, -0.09861181748342165  …  -0.07737622725038948, -0.08759033731543922, -0.0833191927038524, -0.1117831742584103, -0.09686480066849223, -0.10629347010466325, -0.09697831380595097, -0.0924848398275984, -0.09971368783250878, -0.11067677916954492]\n",
       " [-0.04531226436912372, 0.07189650712435203, -0.0029967777298349207, 0.09791493212713243, -0.027995165307633407, 0.02925145521458805, 0.1000203581259243, 0.0006719041725510855, -0.008905679436224112, 0.06914353300291493  …  -0.004686216300367141, 0.16735888142791433, 0.17320030078579357, 0.11492755728152304, 0.32536247635313553, -0.12020828569002895, 0.07074218981895164, -0.15553974545240523, 0.1548124282378303, 0.03351706450008568]\n",
       " [-0.07689423551284276, -0.09853835341108395, -0.09220076559104737, -0.08796906081109296, -0.08279608417530056, -0.07377233609908877, -0.08172123896799814, -0.09730985898110729, -0.0910058831433459, -0.07974250486759027  …  -0.08456391692143121, -0.08176746633773763, -0.09070688394963121, -0.07771869370708423, -0.09185740133636033, -0.08655386405779103, -0.0810103460975168, -0.09011987946149548, -0.08513342626228651, -0.09337579930777151]\n",
       " [-0.230902939030185, -0.27603885519095145, -0.2724118680516477, -0.2563188758916981, -0.25350067959536815, -0.2485421800978664, -0.25172698566717655, -0.2535441189439798, -0.2537229192462226, -0.24774430027111072  …  -0.2721710509692073, -0.2831269065657128, -0.26073750362613024, -0.28460953220307195, -0.259380019001482, -0.252824313413882, -0.286193126033929, -0.25186605698615816, -0.273098916954823, -0.2650640547169765]\n",
       " [-0.1313255794753271, -0.15778579960968087, -0.12110199749633446, -0.1577783269301625, -0.15095585545984574, -0.16512796886075853, -0.12218342384525108, -0.1474358861339387, -0.1046877891928714, -0.1084468952766165  …  -0.11440040269202945, -0.13940244746429384, -0.18161550649058655, -0.14060342065059533, -0.14725781265660742, -0.1527938531622297, -0.16046080475897234, -0.1341234826714522, -0.13770938558750734, -0.15239692730062923]\n",
       " [-0.07116547066024756, -0.09945801537675855, -0.07939702272077058, -0.08899616918190333, -0.09587008089512346, -0.08569256927291839, -0.0656455875465555, -0.09486420063194584, -0.1031238315667524, -0.07843342862211429  …  -0.07797988359430984, -0.07017563314371286, -0.07109764057287414, -0.07908795655490719, -0.07560054930457497, -0.07602000452024164, -0.07893801865582245, -0.0875829425550856, -0.07057612058004568, -0.07277370371732643]\n",
       " [-0.16565110629573357, -0.09863432200918387, -0.1369443989452172, -0.0987640673037154, -0.13212906706268485, -0.08483512658029077, -0.09826176346838021, -0.15358716915253218, -0.1556904732980979, -0.13013770077954803  …  -0.15186791416979054, -0.19942276474842147, -0.2198295179656453, -0.20224578300972262, -0.17535718678914225, -0.20680838699915427, -0.12936982251399068, -0.11601257621607129, -0.11012965397032425, -0.19339504618115658]"
      ]
     },
     "execution_count": 90,
     "metadata": {},
     "output_type": "execute_result"
    }
   ],
   "source": [
    "bssamps = [bootstrap_samps(n_ints[i],c_ints[i],n_vols[i],Ns[i]) for i in 1:length(n_ints)]"
   ]
  },
  {
   "cell_type": "code",
   "execution_count": 109,
   "id": "familiar-rainbow",
   "metadata": {},
   "outputs": [
    {
     "data": {
      "image/svg+xml": [
       "<?xml version=\"1.0\" encoding=\"utf-8\"?>\n",
       "<svg xmlns=\"http://www.w3.org/2000/svg\" xmlns:xlink=\"http://www.w3.org/1999/xlink\" width=\"600\" height=\"400\" viewBox=\"0 0 2400 1600\">\n",
       "<defs>\n",
       "  <clipPath id=\"clip650\">\n",
       "    <rect x=\"0\" y=\"0\" width=\"2400\" height=\"1600\"/>\n",
       "  </clipPath>\n",
       "</defs>\n",
       "<path clip-path=\"url(#clip650)\" d=\"M0 1600 L2400 1600 L2400 0 L0 0  Z\" fill=\"#ffffff\" fill-rule=\"evenodd\" fill-opacity=\"1\"/>\n",
       "<defs>\n",
       "  <clipPath id=\"clip651\">\n",
       "    <rect x=\"480\" y=\"0\" width=\"1681\" height=\"1600\"/>\n",
       "  </clipPath>\n",
       "</defs>\n",
       "<path clip-path=\"url(#clip650)\" d=\"M172.015 1486.45 L2352.76 1486.45 L2352.76 47.2441 L172.015 47.2441  Z\" fill=\"#ffffff\" fill-rule=\"evenodd\" fill-opacity=\"1\"/>\n",
       "<defs>\n",
       "  <clipPath id=\"clip652\">\n",
       "    <rect x=\"172\" y=\"47\" width=\"2182\" height=\"1440\"/>\n",
       "  </clipPath>\n",
       "</defs>\n",
       "<polyline clip-path=\"url(#clip652)\" style=\"stroke:#000000; stroke-linecap:round; stroke-linejoin:round; stroke-width:2; stroke-opacity:0.1; fill:none\" points=\"236.507,1486.45 236.507,47.2441 \"/>\n",
       "<polyline clip-path=\"url(#clip652)\" style=\"stroke:#000000; stroke-linecap:round; stroke-linejoin:round; stroke-width:2; stroke-opacity:0.1; fill:none\" points=\"513.771,1486.45 513.771,47.2441 \"/>\n",
       "<polyline clip-path=\"url(#clip652)\" style=\"stroke:#000000; stroke-linecap:round; stroke-linejoin:round; stroke-width:2; stroke-opacity:0.1; fill:none\" points=\"791.036,1486.45 791.036,47.2441 \"/>\n",
       "<polyline clip-path=\"url(#clip652)\" style=\"stroke:#000000; stroke-linecap:round; stroke-linejoin:round; stroke-width:2; stroke-opacity:0.1; fill:none\" points=\"1068.3,1486.45 1068.3,47.2441 \"/>\n",
       "<polyline clip-path=\"url(#clip652)\" style=\"stroke:#000000; stroke-linecap:round; stroke-linejoin:round; stroke-width:2; stroke-opacity:0.1; fill:none\" points=\"1345.56,1486.45 1345.56,47.2441 \"/>\n",
       "<polyline clip-path=\"url(#clip652)\" style=\"stroke:#000000; stroke-linecap:round; stroke-linejoin:round; stroke-width:2; stroke-opacity:0.1; fill:none\" points=\"1622.83,1486.45 1622.83,47.2441 \"/>\n",
       "<polyline clip-path=\"url(#clip652)\" style=\"stroke:#000000; stroke-linecap:round; stroke-linejoin:round; stroke-width:2; stroke-opacity:0.1; fill:none\" points=\"1900.09,1486.45 1900.09,47.2441 \"/>\n",
       "<polyline clip-path=\"url(#clip652)\" style=\"stroke:#000000; stroke-linecap:round; stroke-linejoin:round; stroke-width:2; stroke-opacity:0.1; fill:none\" points=\"2177.36,1486.45 2177.36,47.2441 \"/>\n",
       "<polyline clip-path=\"url(#clip650)\" style=\"stroke:#000000; stroke-linecap:round; stroke-linejoin:round; stroke-width:4; stroke-opacity:1; fill:none\" points=\"172.015,1486.45 2352.76,1486.45 \"/>\n",
       "<polyline clip-path=\"url(#clip650)\" style=\"stroke:#000000; stroke-linecap:round; stroke-linejoin:round; stroke-width:4; stroke-opacity:1; fill:none\" points=\"236.507,1486.45 236.507,1467.55 \"/>\n",
       "<polyline clip-path=\"url(#clip650)\" style=\"stroke:#000000; stroke-linecap:round; stroke-linejoin:round; stroke-width:4; stroke-opacity:1; fill:none\" points=\"513.771,1486.45 513.771,1467.55 \"/>\n",
       "<polyline clip-path=\"url(#clip650)\" style=\"stroke:#000000; stroke-linecap:round; stroke-linejoin:round; stroke-width:4; stroke-opacity:1; fill:none\" points=\"791.036,1486.45 791.036,1467.55 \"/>\n",
       "<polyline clip-path=\"url(#clip650)\" style=\"stroke:#000000; stroke-linecap:round; stroke-linejoin:round; stroke-width:4; stroke-opacity:1; fill:none\" points=\"1068.3,1486.45 1068.3,1467.55 \"/>\n",
       "<polyline clip-path=\"url(#clip650)\" style=\"stroke:#000000; stroke-linecap:round; stroke-linejoin:round; stroke-width:4; stroke-opacity:1; fill:none\" points=\"1345.56,1486.45 1345.56,1467.55 \"/>\n",
       "<polyline clip-path=\"url(#clip650)\" style=\"stroke:#000000; stroke-linecap:round; stroke-linejoin:round; stroke-width:4; stroke-opacity:1; fill:none\" points=\"1622.83,1486.45 1622.83,1467.55 \"/>\n",
       "<polyline clip-path=\"url(#clip650)\" style=\"stroke:#000000; stroke-linecap:round; stroke-linejoin:round; stroke-width:4; stroke-opacity:1; fill:none\" points=\"1900.09,1486.45 1900.09,1467.55 \"/>\n",
       "<polyline clip-path=\"url(#clip650)\" style=\"stroke:#000000; stroke-linecap:round; stroke-linejoin:round; stroke-width:4; stroke-opacity:1; fill:none\" points=\"2177.36,1486.45 2177.36,1467.55 \"/>\n",
       "<path clip-path=\"url(#clip650)\" d=\"M167.711 1532.02 L197.386 1532.02 L197.386 1535.95 L167.711 1535.95 L167.711 1532.02 Z\" fill=\"#000000\" fill-rule=\"nonzero\" fill-opacity=\"1\" /><path clip-path=\"url(#clip650)\" d=\"M217.479 1517.37 Q213.868 1517.37 212.039 1520.93 Q210.234 1524.47 210.234 1531.6 Q210.234 1538.71 212.039 1542.27 Q213.868 1545.82 217.479 1545.82 Q221.113 1545.82 222.919 1542.27 Q224.747 1538.71 224.747 1531.6 Q224.747 1524.47 222.919 1520.93 Q221.113 1517.37 217.479 1517.37 M217.479 1513.66 Q223.289 1513.66 226.345 1518.27 Q229.423 1522.85 229.423 1531.6 Q229.423 1540.33 226.345 1544.94 Q223.289 1549.52 217.479 1549.52 Q211.669 1549.52 208.59 1544.94 Q205.534 1540.33 205.534 1531.6 Q205.534 1522.85 208.59 1518.27 Q211.669 1513.66 217.479 1513.66 Z\" fill=\"#000000\" fill-rule=\"nonzero\" fill-opacity=\"1\" /><path clip-path=\"url(#clip650)\" d=\"M237.641 1542.97 L242.525 1542.97 L242.525 1548.85 L237.641 1548.85 L237.641 1542.97 Z\" fill=\"#000000\" fill-rule=\"nonzero\" fill-opacity=\"1\" /><path clip-path=\"url(#clip650)\" d=\"M253.52 1544.91 L261.159 1544.91 L261.159 1518.55 L252.849 1520.21 L252.849 1515.95 L261.113 1514.29 L265.789 1514.29 L265.789 1544.91 L273.428 1544.91 L273.428 1548.85 L253.52 1548.85 L253.52 1544.91 Z\" fill=\"#000000\" fill-rule=\"nonzero\" fill-opacity=\"1\" /><path clip-path=\"url(#clip650)\" d=\"M295.719 1518.36 L283.914 1536.81 L295.719 1536.81 L295.719 1518.36 M294.492 1514.29 L300.372 1514.29 L300.372 1536.81 L305.302 1536.81 L305.302 1540.7 L300.372 1540.7 L300.372 1548.85 L295.719 1548.85 L295.719 1540.7 L280.117 1540.7 L280.117 1536.19 L294.492 1514.29 Z\" fill=\"#000000\" fill-rule=\"nonzero\" fill-opacity=\"1\" /><path clip-path=\"url(#clip650)\" d=\"M445.542 1532.02 L475.218 1532.02 L475.218 1535.95 L445.542 1535.95 L445.542 1532.02 Z\" fill=\"#000000\" fill-rule=\"nonzero\" fill-opacity=\"1\" /><path clip-path=\"url(#clip650)\" d=\"M495.311 1517.37 Q491.699 1517.37 489.871 1520.93 Q488.065 1524.47 488.065 1531.6 Q488.065 1538.71 489.871 1542.27 Q491.699 1545.82 495.311 1545.82 Q498.945 1545.82 500.75 1542.27 Q502.579 1538.71 502.579 1531.6 Q502.579 1524.47 500.75 1520.93 Q498.945 1517.37 495.311 1517.37 M495.311 1513.66 Q501.121 1513.66 504.176 1518.27 Q507.255 1522.85 507.255 1531.6 Q507.255 1540.33 504.176 1544.94 Q501.121 1549.52 495.311 1549.52 Q489.5 1549.52 486.422 1544.94 Q483.366 1540.33 483.366 1531.6 Q483.366 1522.85 486.422 1518.27 Q489.5 1513.66 495.311 1513.66 Z\" fill=\"#000000\" fill-rule=\"nonzero\" fill-opacity=\"1\" /><path clip-path=\"url(#clip650)\" d=\"M515.472 1542.97 L520.357 1542.97 L520.357 1548.85 L515.472 1548.85 L515.472 1542.97 Z\" fill=\"#000000\" fill-rule=\"nonzero\" fill-opacity=\"1\" /><path clip-path=\"url(#clip650)\" d=\"M531.352 1544.91 L538.991 1544.91 L538.991 1518.55 L530.681 1520.21 L530.681 1515.95 L538.945 1514.29 L543.62 1514.29 L543.62 1544.91 L551.259 1544.91 L551.259 1548.85 L531.352 1548.85 L531.352 1544.91 Z\" fill=\"#000000\" fill-rule=\"nonzero\" fill-opacity=\"1\" /><path clip-path=\"url(#clip650)\" d=\"M574.87 1530.21 Q578.227 1530.93 580.102 1533.2 Q582 1535.47 582 1538.8 Q582 1543.92 578.481 1546.72 Q574.963 1549.52 568.481 1549.52 Q566.306 1549.52 563.991 1549.08 Q561.699 1548.66 559.245 1547.81 L559.245 1543.29 Q561.19 1544.43 563.505 1545.01 Q565.819 1545.58 568.343 1545.58 Q572.741 1545.58 575.032 1543.85 Q577.347 1542.11 577.347 1538.8 Q577.347 1535.75 575.194 1534.03 Q573.065 1532.3 569.245 1532.3 L565.218 1532.3 L565.218 1528.45 L569.431 1528.45 Q572.88 1528.45 574.708 1527.09 Q576.537 1525.7 576.537 1523.11 Q576.537 1520.45 574.639 1519.03 Q572.764 1517.6 569.245 1517.6 Q567.324 1517.6 565.125 1518.01 Q562.926 1518.43 560.287 1519.31 L560.287 1515.14 Q562.949 1514.4 565.264 1514.03 Q567.602 1513.66 569.662 1513.66 Q574.986 1513.66 578.088 1516.09 Q581.19 1518.5 581.19 1522.62 Q581.19 1525.49 579.546 1527.48 Q577.903 1529.45 574.87 1530.21 Z\" fill=\"#000000\" fill-rule=\"nonzero\" fill-opacity=\"1\" /><path clip-path=\"url(#clip650)\" d=\"M723.281 1532.02 L752.957 1532.02 L752.957 1535.95 L723.281 1535.95 L723.281 1532.02 Z\" fill=\"#000000\" fill-rule=\"nonzero\" fill-opacity=\"1\" /><path clip-path=\"url(#clip650)\" d=\"M773.05 1517.37 Q769.439 1517.37 767.61 1520.93 Q765.804 1524.47 765.804 1531.6 Q765.804 1538.71 767.61 1542.27 Q769.439 1545.82 773.05 1545.82 Q776.684 1545.82 778.489 1542.27 Q780.318 1538.71 780.318 1531.6 Q780.318 1524.47 778.489 1520.93 Q776.684 1517.37 773.05 1517.37 M773.05 1513.66 Q778.86 1513.66 781.915 1518.27 Q784.994 1522.85 784.994 1531.6 Q784.994 1540.33 781.915 1544.94 Q778.86 1549.52 773.05 1549.52 Q767.239 1549.52 764.161 1544.94 Q761.105 1540.33 761.105 1531.6 Q761.105 1522.85 764.161 1518.27 Q767.239 1513.66 773.05 1513.66 Z\" fill=\"#000000\" fill-rule=\"nonzero\" fill-opacity=\"1\" /><path clip-path=\"url(#clip650)\" d=\"M793.212 1542.97 L798.096 1542.97 L798.096 1548.85 L793.212 1548.85 L793.212 1542.97 Z\" fill=\"#000000\" fill-rule=\"nonzero\" fill-opacity=\"1\" /><path clip-path=\"url(#clip650)\" d=\"M809.091 1544.91 L816.73 1544.91 L816.73 1518.55 L808.42 1520.21 L808.42 1515.95 L816.684 1514.29 L821.36 1514.29 L821.36 1544.91 L828.998 1544.91 L828.998 1548.85 L809.091 1548.85 L809.091 1544.91 Z\" fill=\"#000000\" fill-rule=\"nonzero\" fill-opacity=\"1\" /><path clip-path=\"url(#clip650)\" d=\"M842.471 1544.91 L858.79 1544.91 L858.79 1548.85 L836.846 1548.85 L836.846 1544.91 Q839.508 1542.16 844.091 1537.53 Q848.697 1532.88 849.878 1531.53 Q852.123 1529.01 853.003 1527.27 Q853.906 1525.51 853.906 1523.82 Q853.906 1521.07 851.961 1519.33 Q850.04 1517.6 846.938 1517.6 Q844.739 1517.6 842.285 1518.36 Q839.855 1519.13 837.077 1520.68 L837.077 1515.95 Q839.901 1514.82 842.355 1514.24 Q844.808 1513.66 846.846 1513.66 Q852.216 1513.66 855.41 1516.35 Q858.605 1519.03 858.605 1523.52 Q858.605 1525.65 857.795 1527.57 Q857.008 1529.47 854.901 1532.07 Q854.322 1532.74 851.221 1535.95 Q848.119 1539.15 842.471 1544.91 Z\" fill=\"#000000\" fill-rule=\"nonzero\" fill-opacity=\"1\" /><path clip-path=\"url(#clip650)\" d=\"M1000.36 1532.02 L1030.04 1532.02 L1030.04 1535.95 L1000.36 1535.95 L1000.36 1532.02 Z\" fill=\"#000000\" fill-rule=\"nonzero\" fill-opacity=\"1\" /><path clip-path=\"url(#clip650)\" d=\"M1050.13 1517.37 Q1046.52 1517.37 1044.69 1520.93 Q1042.88 1524.47 1042.88 1531.6 Q1042.88 1538.71 1044.69 1542.27 Q1046.52 1545.82 1050.13 1545.82 Q1053.76 1545.82 1055.57 1542.27 Q1057.4 1538.71 1057.4 1531.6 Q1057.4 1524.47 1055.57 1520.93 Q1053.76 1517.37 1050.13 1517.37 M1050.13 1513.66 Q1055.94 1513.66 1058.99 1518.27 Q1062.07 1522.85 1062.07 1531.6 Q1062.07 1540.33 1058.99 1544.94 Q1055.94 1549.52 1050.13 1549.52 Q1044.32 1549.52 1041.24 1544.94 Q1038.18 1540.33 1038.18 1531.6 Q1038.18 1522.85 1041.24 1518.27 Q1044.32 1513.66 1050.13 1513.66 Z\" fill=\"#000000\" fill-rule=\"nonzero\" fill-opacity=\"1\" /><path clip-path=\"url(#clip650)\" d=\"M1070.29 1542.97 L1075.18 1542.97 L1075.18 1548.85 L1070.29 1548.85 L1070.29 1542.97 Z\" fill=\"#000000\" fill-rule=\"nonzero\" fill-opacity=\"1\" /><path clip-path=\"url(#clip650)\" d=\"M1086.17 1544.91 L1093.81 1544.91 L1093.81 1518.55 L1085.5 1520.21 L1085.5 1515.95 L1093.76 1514.29 L1098.44 1514.29 L1098.44 1544.91 L1106.08 1544.91 L1106.08 1548.85 L1086.17 1548.85 L1086.17 1544.91 Z\" fill=\"#000000\" fill-rule=\"nonzero\" fill-opacity=\"1\" /><path clip-path=\"url(#clip650)\" d=\"M1116.33 1544.91 L1123.97 1544.91 L1123.97 1518.55 L1115.66 1520.21 L1115.66 1515.95 L1123.92 1514.29 L1128.6 1514.29 L1128.6 1544.91 L1136.24 1544.91 L1136.24 1548.85 L1116.33 1548.85 L1116.33 1544.91 Z\" fill=\"#000000\" fill-rule=\"nonzero\" fill-opacity=\"1\" /><path clip-path=\"url(#clip650)\" d=\"M1277.01 1532.02 L1306.69 1532.02 L1306.69 1535.95 L1277.01 1535.95 L1277.01 1532.02 Z\" fill=\"#000000\" fill-rule=\"nonzero\" fill-opacity=\"1\" /><path clip-path=\"url(#clip650)\" d=\"M1326.78 1517.37 Q1323.17 1517.37 1321.34 1520.93 Q1319.53 1524.47 1319.53 1531.6 Q1319.53 1538.71 1321.34 1542.27 Q1323.17 1545.82 1326.78 1545.82 Q1330.41 1545.82 1332.22 1542.27 Q1334.05 1538.71 1334.05 1531.6 Q1334.05 1524.47 1332.22 1520.93 Q1330.41 1517.37 1326.78 1517.37 M1326.78 1513.66 Q1332.59 1513.66 1335.65 1518.27 Q1338.72 1522.85 1338.72 1531.6 Q1338.72 1540.33 1335.65 1544.94 Q1332.59 1549.52 1326.78 1549.52 Q1320.97 1549.52 1317.89 1544.94 Q1314.84 1540.33 1314.84 1531.6 Q1314.84 1522.85 1317.89 1518.27 Q1320.97 1513.66 1326.78 1513.66 Z\" fill=\"#000000\" fill-rule=\"nonzero\" fill-opacity=\"1\" /><path clip-path=\"url(#clip650)\" d=\"M1346.94 1542.97 L1351.83 1542.97 L1351.83 1548.85 L1346.94 1548.85 L1346.94 1542.97 Z\" fill=\"#000000\" fill-rule=\"nonzero\" fill-opacity=\"1\" /><path clip-path=\"url(#clip650)\" d=\"M1362.82 1544.91 L1370.46 1544.91 L1370.46 1518.55 L1362.15 1520.21 L1362.15 1515.95 L1370.41 1514.29 L1375.09 1514.29 L1375.09 1544.91 L1382.73 1544.91 L1382.73 1548.85 L1362.82 1548.85 L1362.82 1544.91 Z\" fill=\"#000000\" fill-rule=\"nonzero\" fill-opacity=\"1\" /><path clip-path=\"url(#clip650)\" d=\"M1402.17 1517.37 Q1398.56 1517.37 1396.73 1520.93 Q1394.93 1524.47 1394.93 1531.6 Q1394.93 1538.71 1396.73 1542.27 Q1398.56 1545.82 1402.17 1545.82 Q1405.81 1545.82 1407.61 1542.27 Q1409.44 1538.71 1409.44 1531.6 Q1409.44 1524.47 1407.61 1520.93 Q1405.81 1517.37 1402.17 1517.37 M1402.17 1513.66 Q1407.98 1513.66 1411.04 1518.27 Q1414.12 1522.85 1414.12 1531.6 Q1414.12 1540.33 1411.04 1544.94 Q1407.98 1549.52 1402.17 1549.52 Q1396.36 1549.52 1393.28 1544.94 Q1390.23 1540.33 1390.23 1531.6 Q1390.23 1522.85 1393.28 1518.27 Q1396.36 1513.66 1402.17 1513.66 Z\" fill=\"#000000\" fill-rule=\"nonzero\" fill-opacity=\"1\" /><path clip-path=\"url(#clip650)\" d=\"M1554.37 1532.02 L1584.04 1532.02 L1584.04 1535.95 L1554.37 1535.95 L1554.37 1532.02 Z\" fill=\"#000000\" fill-rule=\"nonzero\" fill-opacity=\"1\" /><path clip-path=\"url(#clip650)\" d=\"M1604.14 1517.37 Q1600.53 1517.37 1598.7 1520.93 Q1596.89 1524.47 1596.89 1531.6 Q1596.89 1538.71 1598.7 1542.27 Q1600.53 1545.82 1604.14 1545.82 Q1607.77 1545.82 1609.58 1542.27 Q1611.41 1538.71 1611.41 1531.6 Q1611.41 1524.47 1609.58 1520.93 Q1607.77 1517.37 1604.14 1517.37 M1604.14 1513.66 Q1609.95 1513.66 1613 1518.27 Q1616.08 1522.85 1616.08 1531.6 Q1616.08 1540.33 1613 1544.94 Q1609.95 1549.52 1604.14 1549.52 Q1598.33 1549.52 1595.25 1544.94 Q1592.19 1540.33 1592.19 1531.6 Q1592.19 1522.85 1595.25 1518.27 Q1598.33 1513.66 1604.14 1513.66 Z\" fill=\"#000000\" fill-rule=\"nonzero\" fill-opacity=\"1\" /><path clip-path=\"url(#clip650)\" d=\"M1624.3 1542.97 L1629.18 1542.97 L1629.18 1548.85 L1624.3 1548.85 L1624.3 1542.97 Z\" fill=\"#000000\" fill-rule=\"nonzero\" fill-opacity=\"1\" /><path clip-path=\"url(#clip650)\" d=\"M1649.37 1517.37 Q1645.76 1517.37 1643.93 1520.93 Q1642.12 1524.47 1642.12 1531.6 Q1642.12 1538.71 1643.93 1542.27 Q1645.76 1545.82 1649.37 1545.82 Q1653 1545.82 1654.81 1542.27 Q1656.64 1538.71 1656.64 1531.6 Q1656.64 1524.47 1654.81 1520.93 Q1653 1517.37 1649.37 1517.37 M1649.37 1513.66 Q1655.18 1513.66 1658.23 1518.27 Q1661.31 1522.85 1661.31 1531.6 Q1661.31 1540.33 1658.23 1544.94 Q1655.18 1549.52 1649.37 1549.52 Q1643.56 1549.52 1640.48 1544.94 Q1637.42 1540.33 1637.42 1531.6 Q1637.42 1522.85 1640.48 1518.27 Q1643.56 1513.66 1649.37 1513.66 Z\" fill=\"#000000\" fill-rule=\"nonzero\" fill-opacity=\"1\" /><path clip-path=\"url(#clip650)\" d=\"M1669.67 1548.13 L1669.67 1543.87 Q1671.43 1544.7 1673.23 1545.14 Q1675.04 1545.58 1676.78 1545.58 Q1681.41 1545.58 1683.84 1542.48 Q1686.29 1539.36 1686.64 1533.01 Q1685.29 1535.01 1683.23 1536.07 Q1681.17 1537.13 1678.67 1537.13 Q1673.49 1537.13 1670.46 1534.01 Q1667.45 1530.86 1667.45 1525.42 Q1667.45 1520.1 1670.6 1516.88 Q1673.74 1513.66 1678.97 1513.66 Q1684.97 1513.66 1688.12 1518.27 Q1691.29 1522.85 1691.29 1531.6 Q1691.29 1539.77 1687.4 1544.66 Q1683.53 1549.52 1676.98 1549.52 Q1675.22 1549.52 1673.42 1549.17 Q1671.61 1548.82 1669.67 1548.13 M1678.97 1533.48 Q1682.12 1533.48 1683.95 1531.32 Q1685.8 1529.17 1685.8 1525.42 Q1685.8 1521.7 1683.95 1519.54 Q1682.12 1517.37 1678.97 1517.37 Q1675.83 1517.37 1673.97 1519.54 Q1672.15 1521.7 1672.15 1525.42 Q1672.15 1529.17 1673.97 1531.32 Q1675.83 1533.48 1678.97 1533.48 Z\" fill=\"#000000\" fill-rule=\"nonzero\" fill-opacity=\"1\" /><path clip-path=\"url(#clip650)\" d=\"M1831.59 1532.02 L1861.26 1532.02 L1861.26 1535.95 L1831.59 1535.95 L1831.59 1532.02 Z\" fill=\"#000000\" fill-rule=\"nonzero\" fill-opacity=\"1\" /><path clip-path=\"url(#clip650)\" d=\"M1881.36 1517.37 Q1877.74 1517.37 1875.92 1520.93 Q1874.11 1524.47 1874.11 1531.6 Q1874.11 1538.71 1875.92 1542.27 Q1877.74 1545.82 1881.36 1545.82 Q1884.99 1545.82 1886.8 1542.27 Q1888.62 1538.71 1888.62 1531.6 Q1888.62 1524.47 1886.8 1520.93 Q1884.99 1517.37 1881.36 1517.37 M1881.36 1513.66 Q1887.17 1513.66 1890.22 1518.27 Q1893.3 1522.85 1893.3 1531.6 Q1893.3 1540.33 1890.22 1544.94 Q1887.17 1549.52 1881.36 1549.52 Q1875.55 1549.52 1872.47 1544.94 Q1869.41 1540.33 1869.41 1531.6 Q1869.41 1522.85 1872.47 1518.27 Q1875.55 1513.66 1881.36 1513.66 Z\" fill=\"#000000\" fill-rule=\"nonzero\" fill-opacity=\"1\" /><path clip-path=\"url(#clip650)\" d=\"M1901.52 1542.97 L1906.4 1542.97 L1906.4 1548.85 L1901.52 1548.85 L1901.52 1542.97 Z\" fill=\"#000000\" fill-rule=\"nonzero\" fill-opacity=\"1\" /><path clip-path=\"url(#clip650)\" d=\"M1926.59 1517.37 Q1922.98 1517.37 1921.15 1520.93 Q1919.34 1524.47 1919.34 1531.6 Q1919.34 1538.71 1921.15 1542.27 Q1922.98 1545.82 1926.59 1545.82 Q1930.22 1545.82 1932.03 1542.27 Q1933.86 1538.71 1933.86 1531.6 Q1933.86 1524.47 1932.03 1520.93 Q1930.22 1517.37 1926.59 1517.37 M1926.59 1513.66 Q1932.4 1513.66 1935.45 1518.27 Q1938.53 1522.85 1938.53 1531.6 Q1938.53 1540.33 1935.45 1544.94 Q1932.4 1549.52 1926.59 1549.52 Q1920.78 1549.52 1917.7 1544.94 Q1914.64 1540.33 1914.64 1531.6 Q1914.64 1522.85 1917.7 1518.27 Q1920.78 1513.66 1926.59 1513.66 Z\" fill=\"#000000\" fill-rule=\"nonzero\" fill-opacity=\"1\" /><path clip-path=\"url(#clip650)\" d=\"M1956.75 1532.44 Q1953.42 1532.44 1951.49 1534.22 Q1949.6 1536 1949.6 1539.13 Q1949.6 1542.25 1951.49 1544.03 Q1953.42 1545.82 1956.75 1545.82 Q1960.08 1545.82 1962 1544.03 Q1963.92 1542.23 1963.92 1539.13 Q1963.92 1536 1962 1534.22 Q1960.11 1532.44 1956.75 1532.44 M1952.07 1530.45 Q1949.06 1529.7 1947.37 1527.64 Q1945.71 1525.58 1945.71 1522.62 Q1945.71 1518.48 1948.65 1516.07 Q1951.61 1513.66 1956.75 1513.66 Q1961.91 1513.66 1964.85 1516.07 Q1967.79 1518.48 1967.79 1522.62 Q1967.79 1525.58 1966.1 1527.64 Q1964.43 1529.7 1961.45 1530.45 Q1964.83 1531.23 1966.7 1533.52 Q1968.6 1535.82 1968.6 1539.13 Q1968.6 1544.15 1965.52 1546.83 Q1962.47 1549.52 1956.75 1549.52 Q1951.03 1549.52 1947.95 1546.83 Q1944.9 1544.15 1944.9 1539.13 Q1944.9 1535.82 1946.79 1533.52 Q1948.69 1531.23 1952.07 1530.45 M1950.36 1523.06 Q1950.36 1525.75 1952.03 1527.25 Q1953.72 1528.76 1956.75 1528.76 Q1959.76 1528.76 1961.45 1527.25 Q1963.16 1525.75 1963.16 1523.06 Q1963.16 1520.38 1961.45 1518.87 Q1959.76 1517.37 1956.75 1517.37 Q1953.72 1517.37 1952.03 1518.87 Q1950.36 1520.38 1950.36 1523.06 Z\" fill=\"#000000\" fill-rule=\"nonzero\" fill-opacity=\"1\" /><path clip-path=\"url(#clip650)\" d=\"M2109.26 1532.02 L2138.93 1532.02 L2138.93 1535.95 L2109.26 1535.95 L2109.26 1532.02 Z\" fill=\"#000000\" fill-rule=\"nonzero\" fill-opacity=\"1\" /><path clip-path=\"url(#clip650)\" d=\"M2159.03 1517.37 Q2155.41 1517.37 2153.59 1520.93 Q2151.78 1524.47 2151.78 1531.6 Q2151.78 1538.71 2153.59 1542.27 Q2155.41 1545.82 2159.03 1545.82 Q2162.66 1545.82 2164.46 1542.27 Q2166.29 1538.71 2166.29 1531.6 Q2166.29 1524.47 2164.46 1520.93 Q2162.66 1517.37 2159.03 1517.37 M2159.03 1513.66 Q2164.84 1513.66 2167.89 1518.27 Q2170.97 1522.85 2170.97 1531.6 Q2170.97 1540.33 2167.89 1544.94 Q2164.84 1549.52 2159.03 1549.52 Q2153.21 1549.52 2150.14 1544.94 Q2147.08 1540.33 2147.08 1531.6 Q2147.08 1522.85 2150.14 1518.27 Q2153.21 1513.66 2159.03 1513.66 Z\" fill=\"#000000\" fill-rule=\"nonzero\" fill-opacity=\"1\" /><path clip-path=\"url(#clip650)\" d=\"M2179.19 1542.97 L2184.07 1542.97 L2184.07 1548.85 L2179.19 1548.85 L2179.19 1542.97 Z\" fill=\"#000000\" fill-rule=\"nonzero\" fill-opacity=\"1\" /><path clip-path=\"url(#clip650)\" d=\"M2204.26 1517.37 Q2200.65 1517.37 2198.82 1520.93 Q2197.01 1524.47 2197.01 1531.6 Q2197.01 1538.71 2198.82 1542.27 Q2200.65 1545.82 2204.26 1545.82 Q2207.89 1545.82 2209.7 1542.27 Q2211.52 1538.71 2211.52 1531.6 Q2211.52 1524.47 2209.7 1520.93 Q2207.89 1517.37 2204.26 1517.37 M2204.26 1513.66 Q2210.07 1513.66 2213.12 1518.27 Q2216.2 1522.85 2216.2 1531.6 Q2216.2 1540.33 2213.12 1544.94 Q2210.07 1549.52 2204.26 1549.52 Q2198.45 1549.52 2195.37 1544.94 Q2192.31 1540.33 2192.31 1531.6 Q2192.31 1522.85 2195.37 1518.27 Q2198.45 1513.66 2204.26 1513.66 Z\" fill=\"#000000\" fill-rule=\"nonzero\" fill-opacity=\"1\" /><path clip-path=\"url(#clip650)\" d=\"M2223.24 1514.29 L2245.46 1514.29 L2245.46 1516.28 L2232.91 1548.85 L2228.03 1548.85 L2239.83 1518.22 L2223.24 1518.22 L2223.24 1514.29 Z\" fill=\"#000000\" fill-rule=\"nonzero\" fill-opacity=\"1\" /><polyline clip-path=\"url(#clip652)\" style=\"stroke:#000000; stroke-linecap:round; stroke-linejoin:round; stroke-width:2; stroke-opacity:0.1; fill:none\" points=\"172.015,1445.72 2352.76,1445.72 \"/>\n",
       "<polyline clip-path=\"url(#clip652)\" style=\"stroke:#000000; stroke-linecap:round; stroke-linejoin:round; stroke-width:2; stroke-opacity:0.1; fill:none\" points=\"172.015,1140.61 2352.76,1140.61 \"/>\n",
       "<polyline clip-path=\"url(#clip652)\" style=\"stroke:#000000; stroke-linecap:round; stroke-linejoin:round; stroke-width:2; stroke-opacity:0.1; fill:none\" points=\"172.015,835.496 2352.76,835.496 \"/>\n",
       "<polyline clip-path=\"url(#clip652)\" style=\"stroke:#000000; stroke-linecap:round; stroke-linejoin:round; stroke-width:2; stroke-opacity:0.1; fill:none\" points=\"172.015,530.386 2352.76,530.386 \"/>\n",
       "<polyline clip-path=\"url(#clip652)\" style=\"stroke:#000000; stroke-linecap:round; stroke-linejoin:round; stroke-width:2; stroke-opacity:0.1; fill:none\" points=\"172.015,225.276 2352.76,225.276 \"/>\n",
       "<polyline clip-path=\"url(#clip650)\" style=\"stroke:#000000; stroke-linecap:round; stroke-linejoin:round; stroke-width:4; stroke-opacity:1; fill:none\" points=\"172.015,1486.45 172.015,47.2441 \"/>\n",
       "<polyline clip-path=\"url(#clip650)\" style=\"stroke:#000000; stroke-linecap:round; stroke-linejoin:round; stroke-width:4; stroke-opacity:1; fill:none\" points=\"172.015,1445.72 190.912,1445.72 \"/>\n",
       "<polyline clip-path=\"url(#clip650)\" style=\"stroke:#000000; stroke-linecap:round; stroke-linejoin:round; stroke-width:4; stroke-opacity:1; fill:none\" points=\"172.015,1140.61 190.912,1140.61 \"/>\n",
       "<polyline clip-path=\"url(#clip650)\" style=\"stroke:#000000; stroke-linecap:round; stroke-linejoin:round; stroke-width:4; stroke-opacity:1; fill:none\" points=\"172.015,835.496 190.912,835.496 \"/>\n",
       "<polyline clip-path=\"url(#clip650)\" style=\"stroke:#000000; stroke-linecap:round; stroke-linejoin:round; stroke-width:4; stroke-opacity:1; fill:none\" points=\"172.015,530.386 190.912,530.386 \"/>\n",
       "<polyline clip-path=\"url(#clip650)\" style=\"stroke:#000000; stroke-linecap:round; stroke-linejoin:round; stroke-width:4; stroke-opacity:1; fill:none\" points=\"172.015,225.276 190.912,225.276 \"/>\n",
       "<path clip-path=\"url(#clip650)\" d=\"M124.07 1431.51 Q120.459 1431.51 118.631 1435.08 Q116.825 1438.62 116.825 1445.75 Q116.825 1452.86 118.631 1456.42 Q120.459 1459.96 124.07 1459.96 Q127.705 1459.96 129.51 1456.42 Q131.339 1452.86 131.339 1445.75 Q131.339 1438.62 129.51 1435.08 Q127.705 1431.51 124.07 1431.51 M124.07 1427.81 Q129.881 1427.81 132.936 1432.42 Q136.015 1437 136.015 1445.75 Q136.015 1454.48 132.936 1459.08 Q129.881 1463.67 124.07 1463.67 Q118.26 1463.67 115.182 1459.08 Q112.126 1454.48 112.126 1445.75 Q112.126 1437 115.182 1432.42 Q118.26 1427.81 124.07 1427.81 Z\" fill=\"#000000\" fill-rule=\"nonzero\" fill-opacity=\"1\" /><path clip-path=\"url(#clip650)\" d=\"M54.5569 1153.95 L62.1958 1153.95 L62.1958 1127.58 L53.8856 1129.25 L53.8856 1124.99 L62.1495 1123.33 L66.8254 1123.33 L66.8254 1153.95 L74.4642 1153.95 L74.4642 1157.89 L54.5569 1157.89 L54.5569 1153.95 Z\" fill=\"#000000\" fill-rule=\"nonzero\" fill-opacity=\"1\" /><path clip-path=\"url(#clip650)\" d=\"M93.9086 1126.4 Q90.2975 1126.4 88.4688 1129.97 Q86.6632 1133.51 86.6632 1140.64 Q86.6632 1147.75 88.4688 1151.31 Q90.2975 1154.85 93.9086 1154.85 Q97.5428 1154.85 99.3483 1151.31 Q101.177 1147.75 101.177 1140.64 Q101.177 1133.51 99.3483 1129.97 Q97.5428 1126.4 93.9086 1126.4 M93.9086 1122.7 Q99.7187 1122.7 102.774 1127.31 Q105.853 1131.89 105.853 1140.64 Q105.853 1149.37 102.774 1153.97 Q99.7187 1158.56 93.9086 1158.56 Q88.0984 1158.56 85.0197 1153.97 Q81.9642 1149.37 81.9642 1140.64 Q81.9642 1131.89 85.0197 1127.31 Q88.0984 1122.7 93.9086 1122.7 Z\" fill=\"#000000\" fill-rule=\"nonzero\" fill-opacity=\"1\" /><path clip-path=\"url(#clip650)\" d=\"M124.07 1126.4 Q120.459 1126.4 118.631 1129.97 Q116.825 1133.51 116.825 1140.64 Q116.825 1147.75 118.631 1151.31 Q120.459 1154.85 124.07 1154.85 Q127.705 1154.85 129.51 1151.31 Q131.339 1147.75 131.339 1140.64 Q131.339 1133.51 129.51 1129.97 Q127.705 1126.4 124.07 1126.4 M124.07 1122.7 Q129.881 1122.7 132.936 1127.31 Q136.015 1131.89 136.015 1140.64 Q136.015 1149.37 132.936 1153.97 Q129.881 1158.56 124.07 1158.56 Q118.26 1158.56 115.182 1153.97 Q112.126 1149.37 112.126 1140.64 Q112.126 1131.89 115.182 1127.31 Q118.26 1122.7 124.07 1122.7 Z\" fill=\"#000000\" fill-rule=\"nonzero\" fill-opacity=\"1\" /><path clip-path=\"url(#clip650)\" d=\"M57.7745 848.841 L74.0939 848.841 L74.0939 852.776 L52.1495 852.776 L52.1495 848.841 Q54.8115 846.086 59.3949 841.456 Q64.0013 836.804 65.1819 835.461 Q67.4272 832.938 68.3068 831.202 Q69.2096 829.443 69.2096 827.753 Q69.2096 824.998 67.2652 823.262 Q65.3439 821.526 62.2421 821.526 Q60.043 821.526 57.5893 822.29 Q55.1588 823.054 52.381 824.605 L52.381 819.882 Q55.2051 818.748 57.6588 818.169 Q60.1124 817.591 62.1495 817.591 Q67.5198 817.591 70.7142 820.276 Q73.9087 822.961 73.9087 827.452 Q73.9087 829.581 73.0985 831.503 Q72.3115 833.401 70.205 835.993 Q69.6263 836.665 66.5245 839.882 Q63.4226 843.077 57.7745 848.841 Z\" fill=\"#000000\" fill-rule=\"nonzero\" fill-opacity=\"1\" /><path clip-path=\"url(#clip650)\" d=\"M93.9086 821.294 Q90.2975 821.294 88.4688 824.859 Q86.6632 828.401 86.6632 835.53 Q86.6632 842.637 88.4688 846.202 Q90.2975 849.743 93.9086 849.743 Q97.5428 849.743 99.3483 846.202 Q101.177 842.637 101.177 835.53 Q101.177 828.401 99.3483 824.859 Q97.5428 821.294 93.9086 821.294 M93.9086 817.591 Q99.7187 817.591 102.774 822.197 Q105.853 826.78 105.853 835.53 Q105.853 844.257 102.774 848.864 Q99.7187 853.447 93.9086 853.447 Q88.0984 853.447 85.0197 848.864 Q81.9642 844.257 81.9642 835.53 Q81.9642 826.78 85.0197 822.197 Q88.0984 817.591 93.9086 817.591 Z\" fill=\"#000000\" fill-rule=\"nonzero\" fill-opacity=\"1\" /><path clip-path=\"url(#clip650)\" d=\"M124.07 821.294 Q120.459 821.294 118.631 824.859 Q116.825 828.401 116.825 835.53 Q116.825 842.637 118.631 846.202 Q120.459 849.743 124.07 849.743 Q127.705 849.743 129.51 846.202 Q131.339 842.637 131.339 835.53 Q131.339 828.401 129.51 824.859 Q127.705 821.294 124.07 821.294 M124.07 817.591 Q129.881 817.591 132.936 822.197 Q136.015 826.78 136.015 835.53 Q136.015 844.257 132.936 848.864 Q129.881 853.447 124.07 853.447 Q118.26 853.447 115.182 848.864 Q112.126 844.257 112.126 835.53 Q112.126 826.78 115.182 822.197 Q118.26 817.591 124.07 817.591 Z\" fill=\"#000000\" fill-rule=\"nonzero\" fill-opacity=\"1\" /><path clip-path=\"url(#clip650)\" d=\"M67.9133 529.032 Q71.2698 529.749 73.1448 532.018 Q75.0429 534.286 75.0429 537.62 Q75.0429 542.735 71.5244 545.536 Q68.0059 548.337 61.5245 548.337 Q59.3486 548.337 57.0338 547.897 Q54.7421 547.481 52.2884 546.624 L52.2884 542.11 Q54.2328 543.244 56.5477 543.823 Q58.8625 544.402 61.3856 544.402 Q65.7837 544.402 68.0754 542.666 Q70.3902 540.93 70.3902 537.62 Q70.3902 534.564 68.2374 532.851 Q66.1078 531.115 62.2884 531.115 L58.2606 531.115 L58.2606 527.272 L62.4735 527.272 Q65.9226 527.272 67.7513 525.907 Q69.58 524.518 69.58 521.925 Q69.58 519.263 67.6819 517.851 Q65.8069 516.416 62.2884 516.416 Q60.3671 516.416 58.168 516.833 Q55.969 517.249 53.3301 518.129 L53.3301 513.962 Q55.9921 513.221 58.3069 512.851 Q60.6449 512.481 62.705 512.481 Q68.0291 512.481 71.1309 514.911 Q74.2327 517.319 74.2327 521.439 Q74.2327 524.309 72.5892 526.3 Q70.9457 528.268 67.9133 529.032 Z\" fill=\"#000000\" fill-rule=\"nonzero\" fill-opacity=\"1\" /><path clip-path=\"url(#clip650)\" d=\"M93.9086 516.184 Q90.2975 516.184 88.4688 519.749 Q86.6632 523.291 86.6632 530.42 Q86.6632 537.527 88.4688 541.092 Q90.2975 544.633 93.9086 544.633 Q97.5428 544.633 99.3483 541.092 Q101.177 537.527 101.177 530.42 Q101.177 523.291 99.3483 519.749 Q97.5428 516.184 93.9086 516.184 M93.9086 512.481 Q99.7187 512.481 102.774 517.087 Q105.853 521.671 105.853 530.42 Q105.853 539.147 102.774 543.754 Q99.7187 548.337 93.9086 548.337 Q88.0984 548.337 85.0197 543.754 Q81.9642 539.147 81.9642 530.42 Q81.9642 521.671 85.0197 517.087 Q88.0984 512.481 93.9086 512.481 Z\" fill=\"#000000\" fill-rule=\"nonzero\" fill-opacity=\"1\" /><path clip-path=\"url(#clip650)\" d=\"M124.07 516.184 Q120.459 516.184 118.631 519.749 Q116.825 523.291 116.825 530.42 Q116.825 537.527 118.631 541.092 Q120.459 544.633 124.07 544.633 Q127.705 544.633 129.51 541.092 Q131.339 537.527 131.339 530.42 Q131.339 523.291 129.51 519.749 Q127.705 516.184 124.07 516.184 M124.07 512.481 Q129.881 512.481 132.936 517.087 Q136.015 521.671 136.015 530.42 Q136.015 539.147 132.936 543.754 Q129.881 548.337 124.07 548.337 Q118.26 548.337 115.182 543.754 Q112.126 539.147 112.126 530.42 Q112.126 521.671 115.182 517.087 Q118.26 512.481 124.07 512.481 Z\" fill=\"#000000\" fill-rule=\"nonzero\" fill-opacity=\"1\" /><path clip-path=\"url(#clip650)\" d=\"M66.5939 212.07 L54.7884 230.519 L66.5939 230.519 L66.5939 212.07 M65.367 207.996 L71.2466 207.996 L71.2466 230.519 L76.1772 230.519 L76.1772 234.408 L71.2466 234.408 L71.2466 242.556 L66.5939 242.556 L66.5939 234.408 L50.9921 234.408 L50.9921 229.894 L65.367 207.996 Z\" fill=\"#000000\" fill-rule=\"nonzero\" fill-opacity=\"1\" /><path clip-path=\"url(#clip650)\" d=\"M93.9086 211.074 Q90.2975 211.074 88.4688 214.639 Q86.6632 218.181 86.6632 225.31 Q86.6632 232.417 88.4688 235.982 Q90.2975 239.523 93.9086 239.523 Q97.5428 239.523 99.3483 235.982 Q101.177 232.417 101.177 225.31 Q101.177 218.181 99.3483 214.639 Q97.5428 211.074 93.9086 211.074 M93.9086 207.371 Q99.7187 207.371 102.774 211.977 Q105.853 216.561 105.853 225.31 Q105.853 234.037 102.774 238.644 Q99.7187 243.227 93.9086 243.227 Q88.0984 243.227 85.0197 238.644 Q81.9642 234.037 81.9642 225.31 Q81.9642 216.561 85.0197 211.977 Q88.0984 207.371 93.9086 207.371 Z\" fill=\"#000000\" fill-rule=\"nonzero\" fill-opacity=\"1\" /><path clip-path=\"url(#clip650)\" d=\"M124.07 211.074 Q120.459 211.074 118.631 214.639 Q116.825 218.181 116.825 225.31 Q116.825 232.417 118.631 235.982 Q120.459 239.523 124.07 239.523 Q127.705 239.523 129.51 235.982 Q131.339 232.417 131.339 225.31 Q131.339 218.181 129.51 214.639 Q127.705 211.074 124.07 211.074 M124.07 207.371 Q129.881 207.371 132.936 211.977 Q136.015 216.561 136.015 225.31 Q136.015 234.037 132.936 238.644 Q129.881 243.227 124.07 243.227 Q118.26 243.227 115.182 238.644 Q112.126 234.037 112.126 225.31 Q112.126 216.561 115.182 211.977 Q118.26 207.371 124.07 207.371 Z\" fill=\"#000000\" fill-rule=\"nonzero\" fill-opacity=\"1\" /><path clip-path=\"url(#clip652)\" d=\"M291.959 1442.66 L291.959 1445.72 L347.412 1445.72 L347.412 1442.66 L291.959 1442.66 L291.959 1442.66  Z\" fill=\"#009af9\" fill-rule=\"evenodd\" fill-opacity=\"1\"/>\n",
       "<polyline clip-path=\"url(#clip652)\" style=\"stroke:#000000; stroke-linecap:round; stroke-linejoin:round; stroke-width:4; stroke-opacity:1; fill:none\" points=\"291.959,1442.66 291.959,1445.72 347.412,1445.72 347.412,1442.66 291.959,1442.66 \"/>\n",
       "<path clip-path=\"url(#clip652)\" d=\"M347.412 1445.72 L347.412 1445.72 L402.865 1445.72 L402.865 1445.72 L347.412 1445.72 L347.412 1445.72  Z\" fill=\"#009af9\" fill-rule=\"evenodd\" fill-opacity=\"1\"/>\n",
       "<polyline clip-path=\"url(#clip652)\" style=\"stroke:#000000; stroke-linecap:round; stroke-linejoin:round; stroke-width:4; stroke-opacity:1; fill:none\" points=\"347.412,1445.72 347.412,1445.72 402.865,1445.72 347.412,1445.72 \"/>\n",
       "<path clip-path=\"url(#clip652)\" d=\"M402.865 1445.72 L402.865 1445.72 L458.318 1445.72 L458.318 1445.72 L402.865 1445.72 L402.865 1445.72  Z\" fill=\"#009af9\" fill-rule=\"evenodd\" fill-opacity=\"1\"/>\n",
       "<polyline clip-path=\"url(#clip652)\" style=\"stroke:#000000; stroke-linecap:round; stroke-linejoin:round; stroke-width:4; stroke-opacity:1; fill:none\" points=\"402.865,1445.72 402.865,1445.72 458.318,1445.72 402.865,1445.72 \"/>\n",
       "<path clip-path=\"url(#clip652)\" d=\"M458.318 1439.61 L458.318 1445.72 L513.771 1445.72 L513.771 1439.61 L458.318 1439.61 L458.318 1439.61  Z\" fill=\"#009af9\" fill-rule=\"evenodd\" fill-opacity=\"1\"/>\n",
       "<polyline clip-path=\"url(#clip652)\" style=\"stroke:#000000; stroke-linecap:round; stroke-linejoin:round; stroke-width:4; stroke-opacity:1; fill:none\" points=\"458.318,1439.61 458.318,1445.72 513.771,1445.72 513.771,1439.61 458.318,1439.61 \"/>\n",
       "<path clip-path=\"url(#clip652)\" d=\"M513.771 1430.46 L513.771 1445.72 L569.224 1445.72 L569.224 1430.46 L513.771 1430.46 L513.771 1430.46  Z\" fill=\"#009af9\" fill-rule=\"evenodd\" fill-opacity=\"1\"/>\n",
       "<polyline clip-path=\"url(#clip652)\" style=\"stroke:#000000; stroke-linecap:round; stroke-linejoin:round; stroke-width:4; stroke-opacity:1; fill:none\" points=\"513.771,1430.46 513.771,1445.72 569.224,1445.72 569.224,1430.46 513.771,1430.46 \"/>\n",
       "<path clip-path=\"url(#clip652)\" d=\"M569.224 1427.41 L569.224 1445.72 L624.677 1445.72 L624.677 1427.41 L569.224 1427.41 L569.224 1427.41  Z\" fill=\"#009af9\" fill-rule=\"evenodd\" fill-opacity=\"1\"/>\n",
       "<polyline clip-path=\"url(#clip652)\" style=\"stroke:#000000; stroke-linecap:round; stroke-linejoin:round; stroke-width:4; stroke-opacity:1; fill:none\" points=\"569.224,1427.41 569.224,1445.72 624.677,1445.72 624.677,1427.41 569.224,1427.41 \"/>\n",
       "<path clip-path=\"url(#clip652)\" d=\"M624.677 1424.36 L624.677 1445.72 L680.13 1445.72 L680.13 1424.36 L624.677 1424.36 L624.677 1424.36  Z\" fill=\"#009af9\" fill-rule=\"evenodd\" fill-opacity=\"1\"/>\n",
       "<polyline clip-path=\"url(#clip652)\" style=\"stroke:#000000; stroke-linecap:round; stroke-linejoin:round; stroke-width:4; stroke-opacity:1; fill:none\" points=\"624.677,1424.36 624.677,1445.72 680.13,1445.72 680.13,1424.36 624.677,1424.36 \"/>\n",
       "<path clip-path=\"url(#clip652)\" d=\"M680.13 1384.69 L680.13 1445.72 L735.583 1445.72 L735.583 1384.69 L680.13 1384.69 L680.13 1384.69  Z\" fill=\"#009af9\" fill-rule=\"evenodd\" fill-opacity=\"1\"/>\n",
       "<polyline clip-path=\"url(#clip652)\" style=\"stroke:#000000; stroke-linecap:round; stroke-linejoin:round; stroke-width:4; stroke-opacity:1; fill:none\" points=\"680.13,1384.69 680.13,1445.72 735.583,1445.72 735.583,1384.69 680.13,1384.69 \"/>\n",
       "<path clip-path=\"url(#clip652)\" d=\"M735.583 1341.98 L735.583 1445.72 L791.036 1445.72 L791.036 1341.98 L735.583 1341.98 L735.583 1341.98  Z\" fill=\"#009af9\" fill-rule=\"evenodd\" fill-opacity=\"1\"/>\n",
       "<polyline clip-path=\"url(#clip652)\" style=\"stroke:#000000; stroke-linecap:round; stroke-linejoin:round; stroke-width:4; stroke-opacity:1; fill:none\" points=\"735.583,1341.98 735.583,1445.72 791.036,1445.72 791.036,1341.98 735.583,1341.98 \"/>\n",
       "<path clip-path=\"url(#clip652)\" d=\"M791.036 1314.52 L791.036 1445.72 L846.489 1445.72 L846.489 1314.52 L791.036 1314.52 L791.036 1314.52  Z\" fill=\"#009af9\" fill-rule=\"evenodd\" fill-opacity=\"1\"/>\n",
       "<polyline clip-path=\"url(#clip652)\" style=\"stroke:#000000; stroke-linecap:round; stroke-linejoin:round; stroke-width:4; stroke-opacity:1; fill:none\" points=\"791.036,1314.52 791.036,1445.72 846.489,1445.72 846.489,1314.52 791.036,1314.52 \"/>\n",
       "<path clip-path=\"url(#clip652)\" d=\"M846.489 1161.96 L846.489 1445.72 L901.941 1445.72 L901.941 1161.96 L846.489 1161.96 L846.489 1161.96  Z\" fill=\"#009af9\" fill-rule=\"evenodd\" fill-opacity=\"1\"/>\n",
       "<polyline clip-path=\"url(#clip652)\" style=\"stroke:#000000; stroke-linecap:round; stroke-linejoin:round; stroke-width:4; stroke-opacity:1; fill:none\" points=\"846.489,1161.96 846.489,1445.72 901.941,1445.72 901.941,1161.96 846.489,1161.96 \"/>\n",
       "<path clip-path=\"url(#clip652)\" d=\"M901.941 1055.17 L901.941 1445.72 L957.394 1445.72 L957.394 1055.17 L901.941 1055.17 L901.941 1055.17  Z\" fill=\"#009af9\" fill-rule=\"evenodd\" fill-opacity=\"1\"/>\n",
       "<polyline clip-path=\"url(#clip652)\" style=\"stroke:#000000; stroke-linecap:round; stroke-linejoin:round; stroke-width:4; stroke-opacity:1; fill:none\" points=\"901.941,1055.17 901.941,1445.72 957.394,1445.72 957.394,1055.17 901.941,1055.17 \"/>\n",
       "<path clip-path=\"url(#clip652)\" d=\"M957.394 887.364 L957.394 1445.72 L1012.85 1445.72 L1012.85 887.364 L957.394 887.364 L957.394 887.364  Z\" fill=\"#009af9\" fill-rule=\"evenodd\" fill-opacity=\"1\"/>\n",
       "<polyline clip-path=\"url(#clip652)\" style=\"stroke:#000000; stroke-linecap:round; stroke-linejoin:round; stroke-width:4; stroke-opacity:1; fill:none\" points=\"957.394,887.364 957.394,1445.72 1012.85,1445.72 1012.85,887.364 957.394,887.364 \"/>\n",
       "<path clip-path=\"url(#clip652)\" d=\"M1012.85 762.269 L1012.85 1445.72 L1068.3 1445.72 L1068.3 762.269 L1012.85 762.269 L1012.85 762.269  Z\" fill=\"#009af9\" fill-rule=\"evenodd\" fill-opacity=\"1\"/>\n",
       "<polyline clip-path=\"url(#clip652)\" style=\"stroke:#000000; stroke-linecap:round; stroke-linejoin:round; stroke-width:4; stroke-opacity:1; fill:none\" points=\"1012.85,762.269 1012.85,1445.72 1068.3,1445.72 1068.3,762.269 1012.85,762.269 \"/>\n",
       "<path clip-path=\"url(#clip652)\" d=\"M1068.3 542.59 L1068.3 1445.72 L1123.75 1445.72 L1123.75 542.59 L1068.3 542.59 L1068.3 542.59  Z\" fill=\"#009af9\" fill-rule=\"evenodd\" fill-opacity=\"1\"/>\n",
       "<polyline clip-path=\"url(#clip652)\" style=\"stroke:#000000; stroke-linecap:round; stroke-linejoin:round; stroke-width:4; stroke-opacity:1; fill:none\" points=\"1068.3,542.59 1068.3,1445.72 1123.75,1445.72 1123.75,542.59 1068.3,542.59 \"/>\n",
       "<path clip-path=\"url(#clip652)\" d=\"M1123.75 292.4 L1123.75 1445.72 L1179.21 1445.72 L1179.21 292.4 L1123.75 292.4 L1123.75 292.4  Z\" fill=\"#009af9\" fill-rule=\"evenodd\" fill-opacity=\"1\"/>\n",
       "<polyline clip-path=\"url(#clip652)\" style=\"stroke:#000000; stroke-linecap:round; stroke-linejoin:round; stroke-width:4; stroke-opacity:1; fill:none\" points=\"1123.75,292.4 1123.75,1445.72 1179.21,1445.72 1179.21,292.4 1123.75,292.4 \"/>\n",
       "<path clip-path=\"url(#clip652)\" d=\"M1179.21 167.305 L1179.21 1445.72 L1234.66 1445.72 L1234.66 167.305 L1179.21 167.305 L1179.21 167.305  Z\" fill=\"#009af9\" fill-rule=\"evenodd\" fill-opacity=\"1\"/>\n",
       "<polyline clip-path=\"url(#clip652)\" style=\"stroke:#000000; stroke-linecap:round; stroke-linejoin:round; stroke-width:4; stroke-opacity:1; fill:none\" points=\"1179.21,167.305 1179.21,1445.72 1234.66,1445.72 1234.66,167.305 1179.21,167.305 \"/>\n",
       "<path clip-path=\"url(#clip652)\" d=\"M1234.66 118.487 L1234.66 1445.72 L1290.11 1445.72 L1290.11 118.487 L1234.66 118.487 L1234.66 118.487  Z\" fill=\"#009af9\" fill-rule=\"evenodd\" fill-opacity=\"1\"/>\n",
       "<polyline clip-path=\"url(#clip652)\" style=\"stroke:#000000; stroke-linecap:round; stroke-linejoin:round; stroke-width:4; stroke-opacity:1; fill:none\" points=\"1234.66,118.487 1234.66,1445.72 1290.11,1445.72 1290.11,118.487 1234.66,118.487 \"/>\n",
       "<path clip-path=\"url(#clip652)\" d=\"M1290.11 97.1296 L1290.11 1445.72 L1345.56 1445.72 L1345.56 97.1296 L1290.11 97.1296 L1290.11 97.1296  Z\" fill=\"#009af9\" fill-rule=\"evenodd\" fill-opacity=\"1\"/>\n",
       "<polyline clip-path=\"url(#clip652)\" style=\"stroke:#000000; stroke-linecap:round; stroke-linejoin:round; stroke-width:4; stroke-opacity:1; fill:none\" points=\"1290.11,97.1296 1290.11,1445.72 1345.56,1445.72 1345.56,97.1296 1290.11,97.1296 \"/>\n",
       "<path clip-path=\"url(#clip652)\" d=\"M1345.56 87.9763 L1345.56 1445.72 L1401.02 1445.72 L1401.02 87.9763 L1345.56 87.9763 L1345.56 87.9763  Z\" fill=\"#009af9\" fill-rule=\"evenodd\" fill-opacity=\"1\"/>\n",
       "<polyline clip-path=\"url(#clip652)\" style=\"stroke:#000000; stroke-linecap:round; stroke-linejoin:round; stroke-width:4; stroke-opacity:1; fill:none\" points=\"1345.56,87.9763 1345.56,1445.72 1401.02,1445.72 1401.02,87.9763 1345.56,87.9763 \"/>\n",
       "<path clip-path=\"url(#clip652)\" d=\"M1401.02 234.429 L1401.02 1445.72 L1456.47 1445.72 L1456.47 234.429 L1401.02 234.429 L1401.02 234.429  Z\" fill=\"#009af9\" fill-rule=\"evenodd\" fill-opacity=\"1\"/>\n",
       "<polyline clip-path=\"url(#clip652)\" style=\"stroke:#000000; stroke-linecap:round; stroke-linejoin:round; stroke-width:4; stroke-opacity:1; fill:none\" points=\"1401.02,234.429 1401.02,1445.72 1456.47,1445.72 1456.47,234.429 1401.02,234.429 \"/>\n",
       "<path clip-path=\"url(#clip652)\" d=\"M1456.47 316.809 L1456.47 1445.72 L1511.92 1445.72 L1511.92 316.809 L1456.47 316.809 L1456.47 316.809  Z\" fill=\"#009af9\" fill-rule=\"evenodd\" fill-opacity=\"1\"/>\n",
       "<polyline clip-path=\"url(#clip652)\" style=\"stroke:#000000; stroke-linecap:round; stroke-linejoin:round; stroke-width:4; stroke-opacity:1; fill:none\" points=\"1456.47,316.809 1456.47,1445.72 1511.92,1445.72 1511.92,316.809 1456.47,316.809 \"/>\n",
       "<path clip-path=\"url(#clip652)\" d=\"M1511.92 496.824 L1511.92 1445.72 L1567.38 1445.72 L1567.38 496.824 L1511.92 496.824 L1511.92 496.824  Z\" fill=\"#009af9\" fill-rule=\"evenodd\" fill-opacity=\"1\"/>\n",
       "<polyline clip-path=\"url(#clip652)\" style=\"stroke:#000000; stroke-linecap:round; stroke-linejoin:round; stroke-width:4; stroke-opacity:1; fill:none\" points=\"1511.92,496.824 1511.92,1445.72 1567.38,1445.72 1567.38,496.824 1511.92,496.824 \"/>\n",
       "<path clip-path=\"url(#clip652)\" d=\"M1567.38 768.372 L1567.38 1445.72 L1622.83 1445.72 L1622.83 768.372 L1567.38 768.372 L1567.38 768.372  Z\" fill=\"#009af9\" fill-rule=\"evenodd\" fill-opacity=\"1\"/>\n",
       "<polyline clip-path=\"url(#clip652)\" style=\"stroke:#000000; stroke-linecap:round; stroke-linejoin:round; stroke-width:4; stroke-opacity:1; fill:none\" points=\"1567.38,768.372 1567.38,1445.72 1622.83,1445.72 1622.83,768.372 1567.38,768.372 \"/>\n",
       "<path clip-path=\"url(#clip652)\" d=\"M1622.83 945.335 L1622.83 1445.72 L1678.28 1445.72 L1678.28 945.335 L1622.83 945.335 L1622.83 945.335  Z\" fill=\"#009af9\" fill-rule=\"evenodd\" fill-opacity=\"1\"/>\n",
       "<polyline clip-path=\"url(#clip652)\" style=\"stroke:#000000; stroke-linecap:round; stroke-linejoin:round; stroke-width:4; stroke-opacity:1; fill:none\" points=\"1622.83,945.335 1622.83,1445.72 1678.28,1445.72 1678.28,945.335 1622.83,945.335 \"/>\n",
       "<path clip-path=\"url(#clip652)\" d=\"M1678.28 1039.92 L1678.28 1445.72 L1733.74 1445.72 L1733.74 1039.92 L1678.28 1039.92 L1678.28 1039.92  Z\" fill=\"#009af9\" fill-rule=\"evenodd\" fill-opacity=\"1\"/>\n",
       "<polyline clip-path=\"url(#clip652)\" style=\"stroke:#000000; stroke-linecap:round; stroke-linejoin:round; stroke-width:4; stroke-opacity:1; fill:none\" points=\"1678.28,1039.92 1678.28,1445.72 1733.74,1445.72 1733.74,1039.92 1678.28,1039.92 \"/>\n",
       "<path clip-path=\"url(#clip652)\" d=\"M1733.74 1131.45 L1733.74 1445.72 L1789.19 1445.72 L1789.19 1131.45 L1733.74 1131.45 L1733.74 1131.45  Z\" fill=\"#009af9\" fill-rule=\"evenodd\" fill-opacity=\"1\"/>\n",
       "<polyline clip-path=\"url(#clip652)\" style=\"stroke:#000000; stroke-linecap:round; stroke-linejoin:round; stroke-width:4; stroke-opacity:1; fill:none\" points=\"1733.74,1131.45 1733.74,1445.72 1789.19,1445.72 1789.19,1131.45 1733.74,1131.45 \"/>\n",
       "<path clip-path=\"url(#clip652)\" d=\"M1789.19 1232.14 L1789.19 1445.72 L1844.64 1445.72 L1844.64 1232.14 L1789.19 1232.14 L1789.19 1232.14  Z\" fill=\"#009af9\" fill-rule=\"evenodd\" fill-opacity=\"1\"/>\n",
       "<polyline clip-path=\"url(#clip652)\" style=\"stroke:#000000; stroke-linecap:round; stroke-linejoin:round; stroke-width:4; stroke-opacity:1; fill:none\" points=\"1789.19,1232.14 1789.19,1445.72 1844.64,1445.72 1844.64,1232.14 1789.19,1232.14 \"/>\n",
       "<path clip-path=\"url(#clip652)\" d=\"M1844.64 1357.23 L1844.64 1445.72 L1900.09 1445.72 L1900.09 1357.23 L1844.64 1357.23 L1844.64 1357.23  Z\" fill=\"#009af9\" fill-rule=\"evenodd\" fill-opacity=\"1\"/>\n",
       "<polyline clip-path=\"url(#clip652)\" style=\"stroke:#000000; stroke-linecap:round; stroke-linejoin:round; stroke-width:4; stroke-opacity:1; fill:none\" points=\"1844.64,1357.23 1844.64,1445.72 1900.09,1445.72 1900.09,1357.23 1844.64,1357.23 \"/>\n",
       "<path clip-path=\"url(#clip652)\" d=\"M1900.09 1384.69 L1900.09 1445.72 L1955.55 1445.72 L1955.55 1384.69 L1900.09 1384.69 L1900.09 1384.69  Z\" fill=\"#009af9\" fill-rule=\"evenodd\" fill-opacity=\"1\"/>\n",
       "<polyline clip-path=\"url(#clip652)\" style=\"stroke:#000000; stroke-linecap:round; stroke-linejoin:round; stroke-width:4; stroke-opacity:1; fill:none\" points=\"1900.09,1384.69 1900.09,1445.72 1955.55,1445.72 1955.55,1384.69 1900.09,1384.69 \"/>\n",
       "<path clip-path=\"url(#clip652)\" d=\"M1955.55 1409.1 L1955.55 1445.72 L2011 1445.72 L2011 1409.1 L1955.55 1409.1 L1955.55 1409.1  Z\" fill=\"#009af9\" fill-rule=\"evenodd\" fill-opacity=\"1\"/>\n",
       "<polyline clip-path=\"url(#clip652)\" style=\"stroke:#000000; stroke-linecap:round; stroke-linejoin:round; stroke-width:4; stroke-opacity:1; fill:none\" points=\"1955.55,1409.1 1955.55,1445.72 2011,1445.72 2011,1409.1 1955.55,1409.1 \"/>\n",
       "<path clip-path=\"url(#clip652)\" d=\"M2011 1430.46 L2011 1445.72 L2066.45 1445.72 L2066.45 1430.46 L2011 1430.46 L2011 1430.46  Z\" fill=\"#009af9\" fill-rule=\"evenodd\" fill-opacity=\"1\"/>\n",
       "<polyline clip-path=\"url(#clip652)\" style=\"stroke:#000000; stroke-linecap:round; stroke-linejoin:round; stroke-width:4; stroke-opacity:1; fill:none\" points=\"2011,1430.46 2011,1445.72 2066.45,1445.72 2066.45,1430.46 2011,1430.46 \"/>\n",
       "<path clip-path=\"url(#clip652)\" d=\"M2066.45 1442.66 L2066.45 1445.72 L2121.91 1445.72 L2121.91 1442.66 L2066.45 1442.66 L2066.45 1442.66  Z\" fill=\"#009af9\" fill-rule=\"evenodd\" fill-opacity=\"1\"/>\n",
       "<polyline clip-path=\"url(#clip652)\" style=\"stroke:#000000; stroke-linecap:round; stroke-linejoin:round; stroke-width:4; stroke-opacity:1; fill:none\" points=\"2066.45,1442.66 2066.45,1445.72 2121.91,1445.72 2121.91,1442.66 2066.45,1442.66 \"/>\n",
       "<path clip-path=\"url(#clip652)\" d=\"M2121.91 1442.66 L2121.91 1445.72 L2177.36 1445.72 L2177.36 1442.66 L2121.91 1442.66 L2121.91 1442.66  Z\" fill=\"#009af9\" fill-rule=\"evenodd\" fill-opacity=\"1\"/>\n",
       "<polyline clip-path=\"url(#clip652)\" style=\"stroke:#000000; stroke-linecap:round; stroke-linejoin:round; stroke-width:4; stroke-opacity:1; fill:none\" points=\"2121.91,1442.66 2121.91,1445.72 2177.36,1445.72 2177.36,1442.66 2121.91,1442.66 \"/>\n",
       "<path clip-path=\"url(#clip652)\" d=\"M2177.36 1442.66 L2177.36 1445.72 L2232.81 1445.72 L2232.81 1442.66 L2177.36 1442.66 L2177.36 1442.66  Z\" fill=\"#009af9\" fill-rule=\"evenodd\" fill-opacity=\"1\"/>\n",
       "<polyline clip-path=\"url(#clip652)\" style=\"stroke:#000000; stroke-linecap:round; stroke-linejoin:round; stroke-width:4; stroke-opacity:1; fill:none\" points=\"2177.36,1442.66 2177.36,1445.72 2232.81,1445.72 2232.81,1442.66 2177.36,1442.66 \"/>\n",
       "<circle clip-path=\"url(#clip652)\" style=\"fill:#009af9; stroke:none; fill-opacity:0\" cx=\"319.686\" cy=\"1442.66\" r=\"2\"/>\n",
       "<circle clip-path=\"url(#clip652)\" style=\"fill:#009af9; stroke:none; fill-opacity:0\" cx=\"375.139\" cy=\"1445.72\" r=\"2\"/>\n",
       "<circle clip-path=\"url(#clip652)\" style=\"fill:#009af9; stroke:none; fill-opacity:0\" cx=\"430.592\" cy=\"1445.72\" r=\"2\"/>\n",
       "<circle clip-path=\"url(#clip652)\" style=\"fill:#009af9; stroke:none; fill-opacity:0\" cx=\"486.045\" cy=\"1439.61\" r=\"2\"/>\n",
       "<circle clip-path=\"url(#clip652)\" style=\"fill:#009af9; stroke:none; fill-opacity:0\" cx=\"541.498\" cy=\"1430.46\" r=\"2\"/>\n",
       "<circle clip-path=\"url(#clip652)\" style=\"fill:#009af9; stroke:none; fill-opacity:0\" cx=\"596.95\" cy=\"1427.41\" r=\"2\"/>\n",
       "<circle clip-path=\"url(#clip652)\" style=\"fill:#009af9; stroke:none; fill-opacity:0\" cx=\"652.403\" cy=\"1424.36\" r=\"2\"/>\n",
       "<circle clip-path=\"url(#clip652)\" style=\"fill:#009af9; stroke:none; fill-opacity:0\" cx=\"707.856\" cy=\"1384.69\" r=\"2\"/>\n",
       "<circle clip-path=\"url(#clip652)\" style=\"fill:#009af9; stroke:none; fill-opacity:0\" cx=\"763.309\" cy=\"1341.98\" r=\"2\"/>\n",
       "<circle clip-path=\"url(#clip652)\" style=\"fill:#009af9; stroke:none; fill-opacity:0\" cx=\"818.762\" cy=\"1314.52\" r=\"2\"/>\n",
       "<circle clip-path=\"url(#clip652)\" style=\"fill:#009af9; stroke:none; fill-opacity:0\" cx=\"874.215\" cy=\"1161.96\" r=\"2\"/>\n",
       "<circle clip-path=\"url(#clip652)\" style=\"fill:#009af9; stroke:none; fill-opacity:0\" cx=\"929.668\" cy=\"1055.17\" r=\"2\"/>\n",
       "<circle clip-path=\"url(#clip652)\" style=\"fill:#009af9; stroke:none; fill-opacity:0\" cx=\"985.121\" cy=\"887.364\" r=\"2\"/>\n",
       "<circle clip-path=\"url(#clip652)\" style=\"fill:#009af9; stroke:none; fill-opacity:0\" cx=\"1040.57\" cy=\"762.269\" r=\"2\"/>\n",
       "<circle clip-path=\"url(#clip652)\" style=\"fill:#009af9; stroke:none; fill-opacity:0\" cx=\"1096.03\" cy=\"542.59\" r=\"2\"/>\n",
       "<circle clip-path=\"url(#clip652)\" style=\"fill:#009af9; stroke:none; fill-opacity:0\" cx=\"1151.48\" cy=\"292.4\" r=\"2\"/>\n",
       "<circle clip-path=\"url(#clip652)\" style=\"fill:#009af9; stroke:none; fill-opacity:0\" cx=\"1206.93\" cy=\"167.305\" r=\"2\"/>\n",
       "<circle clip-path=\"url(#clip652)\" style=\"fill:#009af9; stroke:none; fill-opacity:0\" cx=\"1262.39\" cy=\"118.487\" r=\"2\"/>\n",
       "<circle clip-path=\"url(#clip652)\" style=\"fill:#009af9; stroke:none; fill-opacity:0\" cx=\"1317.84\" cy=\"97.1296\" r=\"2\"/>\n",
       "<circle clip-path=\"url(#clip652)\" style=\"fill:#009af9; stroke:none; fill-opacity:0\" cx=\"1373.29\" cy=\"87.9763\" r=\"2\"/>\n",
       "<circle clip-path=\"url(#clip652)\" style=\"fill:#009af9; stroke:none; fill-opacity:0\" cx=\"1428.74\" cy=\"234.429\" r=\"2\"/>\n",
       "<circle clip-path=\"url(#clip652)\" style=\"fill:#009af9; stroke:none; fill-opacity:0\" cx=\"1484.2\" cy=\"316.809\" r=\"2\"/>\n",
       "<circle clip-path=\"url(#clip652)\" style=\"fill:#009af9; stroke:none; fill-opacity:0\" cx=\"1539.65\" cy=\"496.824\" r=\"2\"/>\n",
       "<circle clip-path=\"url(#clip652)\" style=\"fill:#009af9; stroke:none; fill-opacity:0\" cx=\"1595.1\" cy=\"768.372\" r=\"2\"/>\n",
       "<circle clip-path=\"url(#clip652)\" style=\"fill:#009af9; stroke:none; fill-opacity:0\" cx=\"1650.56\" cy=\"945.335\" r=\"2\"/>\n",
       "<circle clip-path=\"url(#clip652)\" style=\"fill:#009af9; stroke:none; fill-opacity:0\" cx=\"1706.01\" cy=\"1039.92\" r=\"2\"/>\n",
       "<circle clip-path=\"url(#clip652)\" style=\"fill:#009af9; stroke:none; fill-opacity:0\" cx=\"1761.46\" cy=\"1131.45\" r=\"2\"/>\n",
       "<circle clip-path=\"url(#clip652)\" style=\"fill:#009af9; stroke:none; fill-opacity:0\" cx=\"1816.91\" cy=\"1232.14\" r=\"2\"/>\n",
       "<circle clip-path=\"url(#clip652)\" style=\"fill:#009af9; stroke:none; fill-opacity:0\" cx=\"1872.37\" cy=\"1357.23\" r=\"2\"/>\n",
       "<circle clip-path=\"url(#clip652)\" style=\"fill:#009af9; stroke:none; fill-opacity:0\" cx=\"1927.82\" cy=\"1384.69\" r=\"2\"/>\n",
       "<circle clip-path=\"url(#clip652)\" style=\"fill:#009af9; stroke:none; fill-opacity:0\" cx=\"1983.27\" cy=\"1409.1\" r=\"2\"/>\n",
       "<circle clip-path=\"url(#clip652)\" style=\"fill:#009af9; stroke:none; fill-opacity:0\" cx=\"2038.73\" cy=\"1430.46\" r=\"2\"/>\n",
       "<circle clip-path=\"url(#clip652)\" style=\"fill:#009af9; stroke:none; fill-opacity:0\" cx=\"2094.18\" cy=\"1442.66\" r=\"2\"/>\n",
       "<circle clip-path=\"url(#clip652)\" style=\"fill:#009af9; stroke:none; fill-opacity:0\" cx=\"2149.63\" cy=\"1442.66\" r=\"2\"/>\n",
       "<circle clip-path=\"url(#clip652)\" style=\"fill:#009af9; stroke:none; fill-opacity:0\" cx=\"2205.08\" cy=\"1442.66\" r=\"2\"/>\n",
       "</svg>\n"
      ]
     },
     "execution_count": 109,
     "metadata": {},
     "output_type": "execute_result"
    }
   ],
   "source": [
    "histogram(bssamps[1], legend = :none)"
   ]
  },
  {
   "cell_type": "code",
   "execution_count": 99,
   "id": "damaged-delta",
   "metadata": {},
   "outputs": [
    {
     "data": {
      "image/svg+xml": [
       "<?xml version=\"1.0\" encoding=\"utf-8\"?>\n",
       "<svg xmlns=\"http://www.w3.org/2000/svg\" xmlns:xlink=\"http://www.w3.org/1999/xlink\" width=\"600\" height=\"400\" viewBox=\"0 0 2400 1600\">\n",
       "<defs>\n",
       "  <clipPath id=\"clip290\">\n",
       "    <rect x=\"0\" y=\"0\" width=\"2400\" height=\"1600\"/>\n",
       "  </clipPath>\n",
       "</defs>\n",
       "<path clip-path=\"url(#clip290)\" d=\"M0 1600 L2400 1600 L2400 0 L0 0  Z\" fill=\"#ffffff\" fill-rule=\"evenodd\" fill-opacity=\"1\"/>\n",
       "<defs>\n",
       "  <clipPath id=\"clip291\">\n",
       "    <rect x=\"480\" y=\"0\" width=\"1681\" height=\"1600\"/>\n",
       "  </clipPath>\n",
       "</defs>\n",
       "<path clip-path=\"url(#clip290)\" d=\"M172.015 1486.45 L2352.76 1486.45 L2352.76 123.472 L172.015 123.472  Z\" fill=\"#ffffff\" fill-rule=\"evenodd\" fill-opacity=\"1\"/>\n",
       "<defs>\n",
       "  <clipPath id=\"clip292\">\n",
       "    <rect x=\"172\" y=\"123\" width=\"2182\" height=\"1364\"/>\n",
       "  </clipPath>\n",
       "</defs>\n",
       "<polyline clip-path=\"url(#clip292)\" style=\"stroke:#000000; stroke-linecap:round; stroke-linejoin:round; stroke-width:2; stroke-opacity:0.1; fill:none\" points=\"528.649,1486.45 528.649,123.472 \"/>\n",
       "<polyline clip-path=\"url(#clip292)\" style=\"stroke:#000000; stroke-linecap:round; stroke-linejoin:round; stroke-width:2; stroke-opacity:0.1; fill:none\" points=\"1002.03,1486.45 1002.03,123.472 \"/>\n",
       "<polyline clip-path=\"url(#clip292)\" style=\"stroke:#000000; stroke-linecap:round; stroke-linejoin:round; stroke-width:2; stroke-opacity:0.1; fill:none\" points=\"1475.41,1486.45 1475.41,123.472 \"/>\n",
       "<polyline clip-path=\"url(#clip292)\" style=\"stroke:#000000; stroke-linecap:round; stroke-linejoin:round; stroke-width:2; stroke-opacity:0.1; fill:none\" points=\"1948.78,1486.45 1948.78,123.472 \"/>\n",
       "<polyline clip-path=\"url(#clip290)\" style=\"stroke:#000000; stroke-linecap:round; stroke-linejoin:round; stroke-width:4; stroke-opacity:1; fill:none\" points=\"172.015,1486.45 2352.76,1486.45 \"/>\n",
       "<polyline clip-path=\"url(#clip290)\" style=\"stroke:#000000; stroke-linecap:round; stroke-linejoin:round; stroke-width:4; stroke-opacity:1; fill:none\" points=\"528.649,1486.45 528.649,1467.55 \"/>\n",
       "<polyline clip-path=\"url(#clip290)\" style=\"stroke:#000000; stroke-linecap:round; stroke-linejoin:round; stroke-width:4; stroke-opacity:1; fill:none\" points=\"1002.03,1486.45 1002.03,1467.55 \"/>\n",
       "<polyline clip-path=\"url(#clip290)\" style=\"stroke:#000000; stroke-linecap:round; stroke-linejoin:round; stroke-width:4; stroke-opacity:1; fill:none\" points=\"1475.41,1486.45 1475.41,1467.55 \"/>\n",
       "<polyline clip-path=\"url(#clip290)\" style=\"stroke:#000000; stroke-linecap:round; stroke-linejoin:round; stroke-width:4; stroke-opacity:1; fill:none\" points=\"1948.78,1486.45 1948.78,1467.55 \"/>\n",
       "<path clip-path=\"url(#clip290)\" d=\"M475.975 1532.02 L505.651 1532.02 L505.651 1535.95 L475.975 1535.95 L475.975 1532.02 Z\" fill=\"#000000\" fill-rule=\"nonzero\" fill-opacity=\"1\" /><path clip-path=\"url(#clip290)\" d=\"M525.744 1517.37 Q522.133 1517.37 520.304 1520.93 Q518.498 1524.47 518.498 1531.6 Q518.498 1538.71 520.304 1542.27 Q522.133 1545.82 525.744 1545.82 Q529.378 1545.82 531.183 1542.27 Q533.012 1538.71 533.012 1531.6 Q533.012 1524.47 531.183 1520.93 Q529.378 1517.37 525.744 1517.37 M525.744 1513.66 Q531.554 1513.66 534.609 1518.27 Q537.688 1522.85 537.688 1531.6 Q537.688 1540.33 534.609 1544.94 Q531.554 1549.52 525.744 1549.52 Q519.933 1549.52 516.855 1544.94 Q513.799 1540.33 513.799 1531.6 Q513.799 1522.85 516.855 1518.27 Q519.933 1513.66 525.744 1513.66 Z\" fill=\"#000000\" fill-rule=\"nonzero\" fill-opacity=\"1\" /><path clip-path=\"url(#clip290)\" d=\"M545.906 1542.97 L550.79 1542.97 L550.79 1548.85 L545.906 1548.85 L545.906 1542.97 Z\" fill=\"#000000\" fill-rule=\"nonzero\" fill-opacity=\"1\" /><path clip-path=\"url(#clip290)\" d=\"M565.003 1544.91 L581.322 1544.91 L581.322 1548.85 L559.378 1548.85 L559.378 1544.91 Q562.04 1542.16 566.623 1537.53 Q571.229 1532.88 572.41 1531.53 Q574.655 1529.01 575.535 1527.27 Q576.438 1525.51 576.438 1523.82 Q576.438 1521.07 574.493 1519.33 Q572.572 1517.6 569.47 1517.6 Q567.271 1517.6 564.817 1518.36 Q562.387 1519.13 559.609 1520.68 L559.609 1515.95 Q562.433 1514.82 564.887 1514.24 Q567.341 1513.66 569.378 1513.66 Q574.748 1513.66 577.942 1516.35 Q581.137 1519.03 581.137 1523.52 Q581.137 1525.65 580.327 1527.57 Q579.54 1529.47 577.433 1532.07 Q576.854 1532.74 573.753 1535.95 Q570.651 1539.15 565.003 1544.91 Z\" fill=\"#000000\" fill-rule=\"nonzero\" fill-opacity=\"1\" /><path clip-path=\"url(#clip290)\" d=\"M979.412 1517.37 Q975.8 1517.37 973.972 1520.93 Q972.166 1524.47 972.166 1531.6 Q972.166 1538.71 973.972 1542.27 Q975.8 1545.82 979.412 1545.82 Q983.046 1545.82 984.851 1542.27 Q986.68 1538.71 986.68 1531.6 Q986.68 1524.47 984.851 1520.93 Q983.046 1517.37 979.412 1517.37 M979.412 1513.66 Q985.222 1513.66 988.277 1518.27 Q991.356 1522.85 991.356 1531.6 Q991.356 1540.33 988.277 1544.94 Q985.222 1549.52 979.412 1549.52 Q973.601 1549.52 970.523 1544.94 Q967.467 1540.33 967.467 1531.6 Q967.467 1522.85 970.523 1518.27 Q973.601 1513.66 979.412 1513.66 Z\" fill=\"#000000\" fill-rule=\"nonzero\" fill-opacity=\"1\" /><path clip-path=\"url(#clip290)\" d=\"M999.574 1542.97 L1004.46 1542.97 L1004.46 1548.85 L999.574 1548.85 L999.574 1542.97 Z\" fill=\"#000000\" fill-rule=\"nonzero\" fill-opacity=\"1\" /><path clip-path=\"url(#clip290)\" d=\"M1024.64 1517.37 Q1021.03 1517.37 1019.2 1520.93 Q1017.4 1524.47 1017.4 1531.6 Q1017.4 1538.71 1019.2 1542.27 Q1021.03 1545.82 1024.64 1545.82 Q1028.28 1545.82 1030.08 1542.27 Q1031.91 1538.71 1031.91 1531.6 Q1031.91 1524.47 1030.08 1520.93 Q1028.28 1517.37 1024.64 1517.37 M1024.64 1513.66 Q1030.45 1513.66 1033.51 1518.27 Q1036.59 1522.85 1036.59 1531.6 Q1036.59 1540.33 1033.51 1544.94 Q1030.45 1549.52 1024.64 1549.52 Q1018.83 1549.52 1015.75 1544.94 Q1012.7 1540.33 1012.7 1531.6 Q1012.7 1522.85 1015.75 1518.27 Q1018.83 1513.66 1024.64 1513.66 Z\" fill=\"#000000\" fill-rule=\"nonzero\" fill-opacity=\"1\" /><path clip-path=\"url(#clip290)\" d=\"M1453.59 1517.37 Q1449.98 1517.37 1448.15 1520.93 Q1446.34 1524.47 1446.34 1531.6 Q1446.34 1538.71 1448.15 1542.27 Q1449.98 1545.82 1453.59 1545.82 Q1457.22 1545.82 1459.03 1542.27 Q1460.86 1538.71 1460.86 1531.6 Q1460.86 1524.47 1459.03 1520.93 Q1457.22 1517.37 1453.59 1517.37 M1453.59 1513.66 Q1459.4 1513.66 1462.45 1518.27 Q1465.53 1522.85 1465.53 1531.6 Q1465.53 1540.33 1462.45 1544.94 Q1459.4 1549.52 1453.59 1549.52 Q1447.78 1549.52 1444.7 1544.94 Q1441.64 1540.33 1441.64 1531.6 Q1441.64 1522.85 1444.7 1518.27 Q1447.78 1513.66 1453.59 1513.66 Z\" fill=\"#000000\" fill-rule=\"nonzero\" fill-opacity=\"1\" /><path clip-path=\"url(#clip290)\" d=\"M1473.75 1542.97 L1478.63 1542.97 L1478.63 1548.85 L1473.75 1548.85 L1473.75 1542.97 Z\" fill=\"#000000\" fill-rule=\"nonzero\" fill-opacity=\"1\" /><path clip-path=\"url(#clip290)\" d=\"M1492.85 1544.91 L1509.17 1544.91 L1509.17 1548.85 L1487.22 1548.85 L1487.22 1544.91 Q1489.88 1542.16 1494.47 1537.53 Q1499.07 1532.88 1500.26 1531.53 Q1502.5 1529.01 1503.38 1527.27 Q1504.28 1525.51 1504.28 1523.82 Q1504.28 1521.07 1502.34 1519.33 Q1500.42 1517.6 1497.32 1517.6 Q1495.12 1517.6 1492.66 1518.36 Q1490.23 1519.13 1487.45 1520.68 L1487.45 1515.95 Q1490.28 1514.82 1492.73 1514.24 Q1495.19 1513.66 1497.22 1513.66 Q1502.59 1513.66 1505.79 1516.35 Q1508.98 1519.03 1508.98 1523.52 Q1508.98 1525.65 1508.17 1527.57 Q1507.38 1529.47 1505.28 1532.07 Q1504.7 1532.74 1501.6 1535.95 Q1498.5 1539.15 1492.85 1544.91 Z\" fill=\"#000000\" fill-rule=\"nonzero\" fill-opacity=\"1\" /><path clip-path=\"url(#clip290)\" d=\"M1925.93 1517.37 Q1922.31 1517.37 1920.49 1520.93 Q1918.68 1524.47 1918.68 1531.6 Q1918.68 1538.71 1920.49 1542.27 Q1922.31 1545.82 1925.93 1545.82 Q1929.56 1545.82 1931.37 1542.27 Q1933.19 1538.71 1933.19 1531.6 Q1933.19 1524.47 1931.37 1520.93 Q1929.56 1517.37 1925.93 1517.37 M1925.93 1513.66 Q1931.74 1513.66 1934.79 1518.27 Q1937.87 1522.85 1937.87 1531.6 Q1937.87 1540.33 1934.79 1544.94 Q1931.74 1549.52 1925.93 1549.52 Q1920.12 1549.52 1917.04 1544.94 Q1913.98 1540.33 1913.98 1531.6 Q1913.98 1522.85 1917.04 1518.27 Q1920.12 1513.66 1925.93 1513.66 Z\" fill=\"#000000\" fill-rule=\"nonzero\" fill-opacity=\"1\" /><path clip-path=\"url(#clip290)\" d=\"M1946.09 1542.97 L1950.97 1542.97 L1950.97 1548.85 L1946.09 1548.85 L1946.09 1542.97 Z\" fill=\"#000000\" fill-rule=\"nonzero\" fill-opacity=\"1\" /><path clip-path=\"url(#clip290)\" d=\"M1974 1518.36 L1962.2 1536.81 L1974 1536.81 L1974 1518.36 M1972.78 1514.29 L1978.66 1514.29 L1978.66 1536.81 L1983.59 1536.81 L1983.59 1540.7 L1978.66 1540.7 L1978.66 1548.85 L1974 1548.85 L1974 1540.7 L1958.4 1540.7 L1958.4 1536.19 L1972.78 1514.29 Z\" fill=\"#000000\" fill-rule=\"nonzero\" fill-opacity=\"1\" /><polyline clip-path=\"url(#clip292)\" style=\"stroke:#000000; stroke-linecap:round; stroke-linejoin:round; stroke-width:2; stroke-opacity:0.1; fill:none\" points=\"172.015,1447.87 2352.76,1447.87 \"/>\n",
       "<polyline clip-path=\"url(#clip292)\" style=\"stroke:#000000; stroke-linecap:round; stroke-linejoin:round; stroke-width:2; stroke-opacity:0.1; fill:none\" points=\"172.015,1126.42 2352.76,1126.42 \"/>\n",
       "<polyline clip-path=\"url(#clip292)\" style=\"stroke:#000000; stroke-linecap:round; stroke-linejoin:round; stroke-width:2; stroke-opacity:0.1; fill:none\" points=\"172.015,804.96 2352.76,804.96 \"/>\n",
       "<polyline clip-path=\"url(#clip292)\" style=\"stroke:#000000; stroke-linecap:round; stroke-linejoin:round; stroke-width:2; stroke-opacity:0.1; fill:none\" points=\"172.015,483.503 2352.76,483.503 \"/>\n",
       "<polyline clip-path=\"url(#clip292)\" style=\"stroke:#000000; stroke-linecap:round; stroke-linejoin:round; stroke-width:2; stroke-opacity:0.1; fill:none\" points=\"172.015,162.047 2352.76,162.047 \"/>\n",
       "<polyline clip-path=\"url(#clip290)\" style=\"stroke:#000000; stroke-linecap:round; stroke-linejoin:round; stroke-width:4; stroke-opacity:1; fill:none\" points=\"172.015,1486.45 172.015,123.472 \"/>\n",
       "<polyline clip-path=\"url(#clip290)\" style=\"stroke:#000000; stroke-linecap:round; stroke-linejoin:round; stroke-width:4; stroke-opacity:1; fill:none\" points=\"172.015,1447.87 190.912,1447.87 \"/>\n",
       "<polyline clip-path=\"url(#clip290)\" style=\"stroke:#000000; stroke-linecap:round; stroke-linejoin:round; stroke-width:4; stroke-opacity:1; fill:none\" points=\"172.015,1126.42 190.912,1126.42 \"/>\n",
       "<polyline clip-path=\"url(#clip290)\" style=\"stroke:#000000; stroke-linecap:round; stroke-linejoin:round; stroke-width:4; stroke-opacity:1; fill:none\" points=\"172.015,804.96 190.912,804.96 \"/>\n",
       "<polyline clip-path=\"url(#clip290)\" style=\"stroke:#000000; stroke-linecap:round; stroke-linejoin:round; stroke-width:4; stroke-opacity:1; fill:none\" points=\"172.015,483.503 190.912,483.503 \"/>\n",
       "<polyline clip-path=\"url(#clip290)\" style=\"stroke:#000000; stroke-linecap:round; stroke-linejoin:round; stroke-width:4; stroke-opacity:1; fill:none\" points=\"172.015,162.047 190.912,162.047 \"/>\n",
       "<path clip-path=\"url(#clip290)\" d=\"M124.07 1433.67 Q120.459 1433.67 118.631 1437.24 Q116.825 1440.78 116.825 1447.91 Q116.825 1455.01 118.631 1458.58 Q120.459 1462.12 124.07 1462.12 Q127.705 1462.12 129.51 1458.58 Q131.339 1455.01 131.339 1447.91 Q131.339 1440.78 129.51 1437.24 Q127.705 1433.67 124.07 1433.67 M124.07 1429.97 Q129.881 1429.97 132.936 1434.57 Q136.015 1439.16 136.015 1447.91 Q136.015 1456.63 132.936 1461.24 Q129.881 1465.82 124.07 1465.82 Q118.26 1465.82 115.182 1461.24 Q112.126 1456.63 112.126 1447.91 Q112.126 1439.16 115.182 1434.57 Q118.26 1429.97 124.07 1429.97 Z\" fill=\"#000000\" fill-rule=\"nonzero\" fill-opacity=\"1\" /><path clip-path=\"url(#clip290)\" d=\"M54.5569 1139.76 L62.1958 1139.76 L62.1958 1113.4 L53.8856 1115.06 L53.8856 1110.8 L62.1495 1109.14 L66.8254 1109.14 L66.8254 1139.76 L74.4642 1139.76 L74.4642 1143.7 L54.5569 1143.7 L54.5569 1139.76 Z\" fill=\"#000000\" fill-rule=\"nonzero\" fill-opacity=\"1\" /><path clip-path=\"url(#clip290)\" d=\"M93.9086 1112.22 Q90.2975 1112.22 88.4688 1115.78 Q86.6632 1119.32 86.6632 1126.45 Q86.6632 1133.56 88.4688 1137.12 Q90.2975 1140.66 93.9086 1140.66 Q97.5428 1140.66 99.3483 1137.12 Q101.177 1133.56 101.177 1126.45 Q101.177 1119.32 99.3483 1115.78 Q97.5428 1112.22 93.9086 1112.22 M93.9086 1108.51 Q99.7187 1108.51 102.774 1113.12 Q105.853 1117.7 105.853 1126.45 Q105.853 1135.18 102.774 1139.78 Q99.7187 1144.37 93.9086 1144.37 Q88.0984 1144.37 85.0197 1139.78 Q81.9642 1135.18 81.9642 1126.45 Q81.9642 1117.7 85.0197 1113.12 Q88.0984 1108.51 93.9086 1108.51 Z\" fill=\"#000000\" fill-rule=\"nonzero\" fill-opacity=\"1\" /><path clip-path=\"url(#clip290)\" d=\"M124.07 1112.22 Q120.459 1112.22 118.631 1115.78 Q116.825 1119.32 116.825 1126.45 Q116.825 1133.56 118.631 1137.12 Q120.459 1140.66 124.07 1140.66 Q127.705 1140.66 129.51 1137.12 Q131.339 1133.56 131.339 1126.45 Q131.339 1119.32 129.51 1115.78 Q127.705 1112.22 124.07 1112.22 M124.07 1108.51 Q129.881 1108.51 132.936 1113.12 Q136.015 1117.7 136.015 1126.45 Q136.015 1135.18 132.936 1139.78 Q129.881 1144.37 124.07 1144.37 Q118.26 1144.37 115.182 1139.78 Q112.126 1135.18 112.126 1126.45 Q112.126 1117.7 115.182 1113.12 Q118.26 1108.51 124.07 1108.51 Z\" fill=\"#000000\" fill-rule=\"nonzero\" fill-opacity=\"1\" /><path clip-path=\"url(#clip290)\" d=\"M57.7745 818.305 L74.0939 818.305 L74.0939 822.24 L52.1495 822.24 L52.1495 818.305 Q54.8115 815.55 59.3949 810.921 Q64.0013 806.268 65.1819 804.925 Q67.4272 802.402 68.3068 800.666 Q69.2096 798.907 69.2096 797.217 Q69.2096 794.462 67.2652 792.726 Q65.3439 790.99 62.2421 790.99 Q60.043 790.99 57.5893 791.754 Q55.1588 792.518 52.381 794.069 L52.381 789.347 Q55.2051 788.212 57.6588 787.634 Q60.1124 787.055 62.1495 787.055 Q67.5198 787.055 70.7142 789.74 Q73.9087 792.425 73.9087 796.916 Q73.9087 799.046 73.0985 800.967 Q72.3115 802.865 70.205 805.458 Q69.6263 806.129 66.5245 809.347 Q63.4226 812.541 57.7745 818.305 Z\" fill=\"#000000\" fill-rule=\"nonzero\" fill-opacity=\"1\" /><path clip-path=\"url(#clip290)\" d=\"M93.9086 790.759 Q90.2975 790.759 88.4688 794.323 Q86.6632 797.865 86.6632 804.995 Q86.6632 812.101 88.4688 815.666 Q90.2975 819.208 93.9086 819.208 Q97.5428 819.208 99.3483 815.666 Q101.177 812.101 101.177 804.995 Q101.177 797.865 99.3483 794.323 Q97.5428 790.759 93.9086 790.759 M93.9086 787.055 Q99.7187 787.055 102.774 791.661 Q105.853 796.245 105.853 804.995 Q105.853 813.722 102.774 818.328 Q99.7187 822.911 93.9086 822.911 Q88.0984 822.911 85.0197 818.328 Q81.9642 813.722 81.9642 804.995 Q81.9642 796.245 85.0197 791.661 Q88.0984 787.055 93.9086 787.055 Z\" fill=\"#000000\" fill-rule=\"nonzero\" fill-opacity=\"1\" /><path clip-path=\"url(#clip290)\" d=\"M124.07 790.759 Q120.459 790.759 118.631 794.323 Q116.825 797.865 116.825 804.995 Q116.825 812.101 118.631 815.666 Q120.459 819.208 124.07 819.208 Q127.705 819.208 129.51 815.666 Q131.339 812.101 131.339 804.995 Q131.339 797.865 129.51 794.323 Q127.705 790.759 124.07 790.759 M124.07 787.055 Q129.881 787.055 132.936 791.661 Q136.015 796.245 136.015 804.995 Q136.015 813.722 132.936 818.328 Q129.881 822.911 124.07 822.911 Q118.26 822.911 115.182 818.328 Q112.126 813.722 112.126 804.995 Q112.126 796.245 115.182 791.661 Q118.26 787.055 124.07 787.055 Z\" fill=\"#000000\" fill-rule=\"nonzero\" fill-opacity=\"1\" /><path clip-path=\"url(#clip290)\" d=\"M67.9133 482.149 Q71.2698 482.867 73.1448 485.135 Q75.0429 487.404 75.0429 490.737 Q75.0429 495.853 71.5244 498.654 Q68.0059 501.455 61.5245 501.455 Q59.3486 501.455 57.0338 501.015 Q54.7421 500.598 52.2884 499.742 L52.2884 495.228 Q54.2328 496.362 56.5477 496.941 Q58.8625 497.52 61.3856 497.52 Q65.7837 497.52 68.0754 495.783 Q70.3902 494.047 70.3902 490.737 Q70.3902 487.682 68.2374 485.969 Q66.1078 484.233 62.2884 484.233 L58.2606 484.233 L58.2606 480.39 L62.4735 480.39 Q65.9226 480.39 67.7513 479.024 Q69.58 477.635 69.58 475.043 Q69.58 472.381 67.6819 470.969 Q65.8069 469.534 62.2884 469.534 Q60.3671 469.534 58.168 469.95 Q55.969 470.367 53.3301 471.247 L53.3301 467.08 Q55.9921 466.339 58.3069 465.969 Q60.6449 465.598 62.705 465.598 Q68.0291 465.598 71.1309 468.029 Q74.2327 470.436 74.2327 474.557 Q74.2327 477.427 72.5892 479.418 Q70.9457 481.385 67.9133 482.149 Z\" fill=\"#000000\" fill-rule=\"nonzero\" fill-opacity=\"1\" /><path clip-path=\"url(#clip290)\" d=\"M93.9086 469.302 Q90.2975 469.302 88.4688 472.867 Q86.6632 476.409 86.6632 483.538 Q86.6632 490.645 88.4688 494.209 Q90.2975 497.751 93.9086 497.751 Q97.5428 497.751 99.3483 494.209 Q101.177 490.645 101.177 483.538 Q101.177 476.409 99.3483 472.867 Q97.5428 469.302 93.9086 469.302 M93.9086 465.598 Q99.7187 465.598 102.774 470.205 Q105.853 474.788 105.853 483.538 Q105.853 492.265 102.774 496.871 Q99.7187 501.455 93.9086 501.455 Q88.0984 501.455 85.0197 496.871 Q81.9642 492.265 81.9642 483.538 Q81.9642 474.788 85.0197 470.205 Q88.0984 465.598 93.9086 465.598 Z\" fill=\"#000000\" fill-rule=\"nonzero\" fill-opacity=\"1\" /><path clip-path=\"url(#clip290)\" d=\"M124.07 469.302 Q120.459 469.302 118.631 472.867 Q116.825 476.409 116.825 483.538 Q116.825 490.645 118.631 494.209 Q120.459 497.751 124.07 497.751 Q127.705 497.751 129.51 494.209 Q131.339 490.645 131.339 483.538 Q131.339 476.409 129.51 472.867 Q127.705 469.302 124.07 469.302 M124.07 465.598 Q129.881 465.598 132.936 470.205 Q136.015 474.788 136.015 483.538 Q136.015 492.265 132.936 496.871 Q129.881 501.455 124.07 501.455 Q118.26 501.455 115.182 496.871 Q112.126 492.265 112.126 483.538 Q112.126 474.788 115.182 470.205 Q118.26 465.598 124.07 465.598 Z\" fill=\"#000000\" fill-rule=\"nonzero\" fill-opacity=\"1\" /><path clip-path=\"url(#clip290)\" d=\"M66.5939 148.841 L54.7884 167.29 L66.5939 167.29 L66.5939 148.841 M65.367 144.767 L71.2466 144.767 L71.2466 167.29 L76.1772 167.29 L76.1772 171.179 L71.2466 171.179 L71.2466 179.327 L66.5939 179.327 L66.5939 171.179 L50.9921 171.179 L50.9921 166.665 L65.367 144.767 Z\" fill=\"#000000\" fill-rule=\"nonzero\" fill-opacity=\"1\" /><path clip-path=\"url(#clip290)\" d=\"M93.9086 147.846 Q90.2975 147.846 88.4688 151.41 Q86.6632 154.952 86.6632 162.082 Q86.6632 169.188 88.4688 172.753 Q90.2975 176.295 93.9086 176.295 Q97.5428 176.295 99.3483 172.753 Q101.177 169.188 101.177 162.082 Q101.177 154.952 99.3483 151.41 Q97.5428 147.846 93.9086 147.846 M93.9086 144.142 Q99.7187 144.142 102.774 148.748 Q105.853 153.332 105.853 162.082 Q105.853 170.808 102.774 175.415 Q99.7187 179.998 93.9086 179.998 Q88.0984 179.998 85.0197 175.415 Q81.9642 170.808 81.9642 162.082 Q81.9642 153.332 85.0197 148.748 Q88.0984 144.142 93.9086 144.142 Z\" fill=\"#000000\" fill-rule=\"nonzero\" fill-opacity=\"1\" /><path clip-path=\"url(#clip290)\" d=\"M124.07 147.846 Q120.459 147.846 118.631 151.41 Q116.825 154.952 116.825 162.082 Q116.825 169.188 118.631 172.753 Q120.459 176.295 124.07 176.295 Q127.705 176.295 129.51 172.753 Q131.339 169.188 131.339 162.082 Q131.339 154.952 129.51 151.41 Q127.705 147.846 124.07 147.846 M124.07 144.142 Q129.881 144.142 132.936 148.748 Q136.015 153.332 136.015 162.082 Q136.015 170.808 132.936 175.415 Q129.881 179.998 124.07 179.998 Q118.26 179.998 115.182 175.415 Q112.126 170.808 112.126 162.082 Q112.126 153.332 115.182 148.748 Q118.26 144.142 124.07 144.142 Z\" fill=\"#000000\" fill-rule=\"nonzero\" fill-opacity=\"1\" /><path clip-path=\"url(#clip290)\" d=\"M631.7 34.1734 Q630.444 33.4443 628.945 33.1202 Q627.487 32.7556 625.705 32.7556 Q619.385 32.7556 615.983 36.8875 Q612.62 40.9789 612.62 48.6757 L612.62 72.576 L605.126 72.576 L605.126 27.2059 L612.62 27.2059 L612.62 34.2544 Q614.97 30.1225 618.737 28.1376 Q622.505 26.1121 627.892 26.1121 Q628.662 26.1121 629.594 26.2337 Q630.525 26.3147 631.66 26.5172 L631.7 34.1734 Z\" fill=\"#000000\" fill-rule=\"nonzero\" fill-opacity=\"1\" /><path clip-path=\"url(#clip290)\" d=\"M646.729 65.7705 L646.729 89.8329 L639.235 89.8329 L639.235 27.2059 L646.729 27.2059 L646.729 34.0924 Q649.078 30.0415 652.643 28.0971 Q656.249 26.1121 661.231 26.1121 Q669.495 26.1121 674.64 32.6746 Q679.825 39.2371 679.825 49.9314 Q679.825 60.6258 674.64 67.1883 Q669.495 73.7508 661.231 73.7508 Q656.249 73.7508 652.643 71.8063 Q649.078 69.8214 646.729 65.7705 M672.088 49.9314 Q672.088 41.7081 668.685 37.0496 Q665.323 32.3505 659.408 32.3505 Q653.494 32.3505 650.091 37.0496 Q646.729 41.7081 646.729 49.9314 Q646.729 58.1548 650.091 62.8538 Q653.494 67.5124 659.408 67.5124 Q665.323 67.5124 668.685 62.8538 Q672.088 58.1548 672.088 49.9314 Z\" fill=\"#000000\" fill-rule=\"nonzero\" fill-opacity=\"1\" /><path clip-path=\"url(#clip290)\" d=\"M724.749 49.9314 Q724.749 41.7081 721.347 37.0496 Q717.984 32.3505 712.07 32.3505 Q706.156 32.3505 702.753 37.0496 Q699.391 41.7081 699.391 49.9314 Q699.391 58.1548 702.753 62.8538 Q706.156 67.5124 712.07 67.5124 Q717.984 67.5124 721.347 62.8538 Q724.749 58.1548 724.749 49.9314 M699.391 34.0924 Q701.74 30.0415 705.305 28.0971 Q708.91 26.1121 713.893 26.1121 Q722.157 26.1121 727.301 32.6746 Q732.487 39.2371 732.487 49.9314 Q732.487 60.6258 727.301 67.1883 Q722.157 73.7508 713.893 73.7508 Q708.91 73.7508 705.305 71.8063 Q701.74 69.8214 699.391 65.7705 L699.391 72.576 L691.897 72.576 L691.897 9.54393 L699.391 9.54393 L699.391 34.0924 Z\" fill=\"#000000\" fill-rule=\"nonzero\" fill-opacity=\"1\" /><path clip-path=\"url(#clip290)\" d=\"M747.313 65.6895 L760.681 65.6895 L760.681 19.5497 L746.138 22.4663 L746.138 15.0127 L760.6 12.096 L768.783 12.096 L768.783 65.6895 L782.151 65.6895 L782.151 72.576 L747.313 72.576 L747.313 65.6895 Z\" fill=\"#000000\" fill-rule=\"nonzero\" fill-opacity=\"1\" /><path clip-path=\"url(#clip290)\" d=\"M799.529 62.2867 L808.076 62.2867 L808.076 72.576 L799.529 72.576 L799.529 62.2867 M799.529 29.6769 L808.076 29.6769 L808.076 39.9662 L799.529 39.9662 L799.529 29.6769 Z\" fill=\"#000000\" fill-rule=\"nonzero\" fill-opacity=\"1\" /><path clip-path=\"url(#clip290)\" d=\"M884.517 49.9314 Q884.517 41.7081 881.114 37.0496 Q877.752 32.3505 871.838 32.3505 Q865.923 32.3505 862.521 37.0496 Q859.158 41.7081 859.158 49.9314 Q859.158 58.1548 862.521 62.8538 Q865.923 67.5124 871.838 67.5124 Q877.752 67.5124 881.114 62.8538 Q884.517 58.1548 884.517 49.9314 M859.158 34.0924 Q861.508 30.0415 865.073 28.0971 Q868.678 26.1121 873.661 26.1121 Q881.924 26.1121 887.069 32.6746 Q892.254 39.2371 892.254 49.9314 Q892.254 60.6258 887.069 67.1883 Q881.924 73.7508 873.661 73.7508 Q868.678 73.7508 865.073 71.8063 Q861.508 69.8214 859.158 65.7705 L859.158 72.576 L851.664 72.576 L851.664 9.54393 L859.158 9.54393 L859.158 34.0924 Z\" fill=\"#000000\" fill-rule=\"nonzero\" fill-opacity=\"1\" /><path clip-path=\"url(#clip290)\" d=\"M922.19 32.4315 Q916.195 32.4315 912.711 37.1306 Q909.228 41.7891 909.228 49.9314 Q909.228 58.0738 912.671 62.7728 Q916.155 67.4314 922.19 67.4314 Q928.145 67.4314 931.629 62.7323 Q935.113 58.0333 935.113 49.9314 Q935.113 41.8701 931.629 37.1711 Q928.145 32.4315 922.19 32.4315 M922.19 26.1121 Q931.913 26.1121 937.462 32.4315 Q943.012 38.7509 943.012 49.9314 Q943.012 61.0714 937.462 67.4314 Q931.913 73.7508 922.19 73.7508 Q912.428 73.7508 906.878 67.4314 Q901.369 61.0714 901.369 49.9314 Q901.369 38.7509 906.878 32.4315 Q912.428 26.1121 922.19 26.1121 Z\" fill=\"#000000\" fill-rule=\"nonzero\" fill-opacity=\"1\" /><path clip-path=\"url(#clip290)\" d=\"M972.948 32.4315 Q966.953 32.4315 963.469 37.1306 Q959.985 41.7891 959.985 49.9314 Q959.985 58.0738 963.429 62.7728 Q966.912 67.4314 972.948 67.4314 Q978.903 67.4314 982.387 62.7323 Q985.871 58.0333 985.871 49.9314 Q985.871 41.8701 982.387 37.1711 Q978.903 32.4315 972.948 32.4315 M972.948 26.1121 Q982.67 26.1121 988.22 32.4315 Q993.77 38.7509 993.77 49.9314 Q993.77 61.0714 988.22 67.4314 Q982.67 73.7508 972.948 73.7508 Q963.186 73.7508 957.636 67.4314 Q952.127 61.0714 952.127 49.9314 Q952.127 38.7509 957.636 32.4315 Q963.186 26.1121 972.948 26.1121 Z\" fill=\"#000000\" fill-rule=\"nonzero\" fill-opacity=\"1\" /><path clip-path=\"url(#clip290)\" d=\"M1013.5 14.324 L1013.5 27.2059 L1028.85 27.2059 L1028.85 32.9987 L1013.5 32.9987 L1013.5 57.6282 Q1013.5 63.1779 1015 64.7578 Q1016.54 66.3376 1021.19 66.3376 L1028.85 66.3376 L1028.85 72.576 L1021.19 72.576 Q1012.57 72.576 1009.28 69.3758 Q1006 66.1351 1006 57.6282 L1006 32.9987 L1000.53 32.9987 L1000.53 27.2059 L1006 27.2059 L1006 14.324 L1013.5 14.324 Z\" fill=\"#000000\" fill-rule=\"nonzero\" fill-opacity=\"1\" /><path clip-path=\"url(#clip290)\" d=\"M1067.58 28.5427 L1067.58 35.5912 Q1064.42 33.9709 1061.01 33.1607 Q1057.61 32.3505 1053.97 32.3505 Q1048.42 32.3505 1045.62 34.0519 Q1042.87 35.7533 1042.87 39.156 Q1042.87 41.7486 1044.85 43.2475 Q1046.84 44.7058 1052.83 46.0426 L1055.38 46.6097 Q1063.32 48.3111 1066.65 51.4303 Q1070.01 54.509 1070.01 60.0587 Q1070.01 66.3781 1064.98 70.0644 Q1060 73.7508 1051.25 73.7508 Q1047.61 73.7508 1043.64 73.0216 Q1039.71 72.3329 1035.33 70.9151 L1035.33 63.2184 Q1039.46 65.3654 1043.47 66.4591 Q1047.48 67.5124 1051.41 67.5124 Q1056.68 67.5124 1059.52 65.73 Q1062.35 63.9071 1062.35 60.6258 Q1062.35 57.5877 1060.29 55.9673 Q1058.26 54.3469 1051.33 52.8481 L1048.74 52.2405 Q1041.81 50.7821 1038.73 47.7845 Q1035.66 44.7463 1035.66 39.4801 Q1035.66 33.0797 1040.19 29.5959 Q1044.73 26.1121 1053.08 26.1121 Q1057.21 26.1121 1060.85 26.7198 Q1064.5 27.3274 1067.58 28.5427 Z\" fill=\"#000000\" fill-rule=\"nonzero\" fill-opacity=\"1\" /><path clip-path=\"url(#clip290)\" d=\"M1089.25 14.324 L1089.25 27.2059 L1104.6 27.2059 L1104.6 32.9987 L1089.25 32.9987 L1089.25 57.6282 Q1089.25 63.1779 1090.75 64.7578 Q1092.29 66.3376 1096.95 66.3376 L1104.6 66.3376 L1104.6 72.576 L1096.95 72.576 Q1088.32 72.576 1085.04 69.3758 Q1081.76 66.1351 1081.76 57.6282 L1081.76 32.9987 L1076.29 32.9987 L1076.29 27.2059 L1081.76 27.2059 L1081.76 14.324 L1089.25 14.324 Z\" fill=\"#000000\" fill-rule=\"nonzero\" fill-opacity=\"1\" /><path clip-path=\"url(#clip290)\" d=\"M1140.7 34.1734 Q1139.44 33.4443 1137.94 33.1202 Q1136.48 32.7556 1134.7 32.7556 Q1128.38 32.7556 1124.98 36.8875 Q1121.62 40.9789 1121.62 48.6757 L1121.62 72.576 L1114.12 72.576 L1114.12 27.2059 L1121.62 27.2059 L1121.62 34.2544 Q1123.97 30.1225 1127.73 28.1376 Q1131.5 26.1121 1136.89 26.1121 Q1137.66 26.1121 1138.59 26.2337 Q1139.52 26.3147 1140.66 26.5172 L1140.7 34.1734 Z\" fill=\"#000000\" fill-rule=\"nonzero\" fill-opacity=\"1\" /><path clip-path=\"url(#clip290)\" d=\"M1169.13 49.7694 Q1160.1 49.7694 1156.62 51.8354 Q1153.13 53.9013 1153.13 58.8839 Q1153.13 62.8538 1155.73 65.2034 Q1158.36 67.5124 1162.85 67.5124 Q1169.05 67.5124 1172.78 63.1374 Q1176.55 58.7219 1176.55 51.4303 L1176.55 49.7694 L1169.13 49.7694 M1184 46.6907 L1184 72.576 L1176.55 72.576 L1176.55 65.6895 Q1173.99 69.8214 1170.19 71.8063 Q1166.38 73.7508 1160.87 73.7508 Q1153.9 73.7508 1149.77 69.8619 Q1145.68 65.9325 1145.68 59.3701 Q1145.68 51.7138 1150.78 47.825 Q1155.93 43.9361 1166.1 43.9361 L1176.55 43.9361 L1176.55 43.2069 Q1176.55 38.0623 1173.14 35.2672 Q1169.78 32.4315 1163.66 32.4315 Q1159.78 32.4315 1156.09 33.3632 Q1152.4 34.295 1149 36.1584 L1149 29.2718 Q1153.09 27.692 1156.94 26.9223 Q1160.79 26.1121 1164.43 26.1121 Q1174.28 26.1121 1179.14 31.2163 Q1184 36.3204 1184 46.6907 Z\" fill=\"#000000\" fill-rule=\"nonzero\" fill-opacity=\"1\" /><path clip-path=\"url(#clip290)\" d=\"M1206.56 65.7705 L1206.56 89.8329 L1199.07 89.8329 L1199.07 27.2059 L1206.56 27.2059 L1206.56 34.0924 Q1208.91 30.0415 1212.48 28.0971 Q1216.08 26.1121 1221.07 26.1121 Q1229.33 26.1121 1234.47 32.6746 Q1239.66 39.2371 1239.66 49.9314 Q1239.66 60.6258 1234.47 67.1883 Q1229.33 73.7508 1221.07 73.7508 Q1216.08 73.7508 1212.48 71.8063 Q1208.91 69.8214 1206.56 65.7705 M1231.92 49.9314 Q1231.92 41.7081 1228.52 37.0496 Q1225.16 32.3505 1219.24 32.3505 Q1213.33 32.3505 1209.93 37.0496 Q1206.56 41.7081 1206.56 49.9314 Q1206.56 58.1548 1209.93 62.8538 Q1213.33 67.5124 1219.24 67.5124 Q1225.16 67.5124 1228.52 62.8538 Q1231.92 58.1548 1231.92 49.9314 Z\" fill=\"#000000\" fill-rule=\"nonzero\" fill-opacity=\"1\" /><path clip-path=\"url(#clip290)\" d=\"M1259.23 65.7705 L1259.23 89.8329 L1251.73 89.8329 L1251.73 27.2059 L1259.23 27.2059 L1259.23 34.0924 Q1261.58 30.0415 1265.14 28.0971 Q1268.75 26.1121 1273.73 26.1121 Q1281.99 26.1121 1287.14 32.6746 Q1292.32 39.2371 1292.32 49.9314 Q1292.32 60.6258 1287.14 67.1883 Q1281.99 73.7508 1273.73 73.7508 Q1268.75 73.7508 1265.14 71.8063 Q1261.58 69.8214 1259.23 65.7705 M1284.58 49.9314 Q1284.58 41.7081 1281.18 37.0496 Q1277.82 32.3505 1271.9 32.3505 Q1265.99 32.3505 1262.59 37.0496 Q1259.23 41.7081 1259.23 49.9314 Q1259.23 58.1548 1262.59 62.8538 Q1265.99 67.5124 1271.9 67.5124 Q1277.82 67.5124 1281.18 62.8538 Q1284.58 58.1548 1284.58 49.9314 Z\" fill=\"#000000\" fill-rule=\"nonzero\" fill-opacity=\"1\" /><path clip-path=\"url(#clip290)\" d=\"M1343.48 48.0275 L1343.48 51.6733 L1309.21 51.6733 Q1309.7 59.3701 1313.83 63.421 Q1318 67.4314 1325.42 67.4314 Q1329.71 67.4314 1333.72 66.3781 Q1337.77 65.3249 1341.74 63.2184 L1341.74 70.267 Q1337.73 71.9684 1333.52 72.8596 Q1329.31 73.7508 1324.97 73.7508 Q1314.12 73.7508 1307.76 67.4314 Q1301.44 61.1119 1301.44 50.3365 Q1301.44 39.1965 1307.43 32.6746 Q1313.47 26.1121 1323.68 26.1121 Q1332.83 26.1121 1338.14 32.0264 Q1343.48 37.9003 1343.48 48.0275 M1336.03 45.84 Q1335.95 39.7232 1332.59 36.0774 Q1329.27 32.4315 1323.76 32.4315 Q1317.52 32.4315 1313.75 35.9558 Q1310.02 39.4801 1309.46 45.8805 L1336.03 45.84 Z\" fill=\"#000000\" fill-rule=\"nonzero\" fill-opacity=\"1\" /><path clip-path=\"url(#clip290)\" d=\"M1385.57 34.0924 L1385.57 9.54393 L1393.03 9.54393 L1393.03 72.576 L1385.57 72.576 L1385.57 65.7705 Q1383.22 69.8214 1379.62 71.8063 Q1376.05 73.7508 1371.03 73.7508 Q1362.81 73.7508 1357.62 67.1883 Q1352.48 60.6258 1352.48 49.9314 Q1352.48 39.2371 1357.62 32.6746 Q1362.81 26.1121 1371.03 26.1121 Q1376.05 26.1121 1379.62 28.0971 Q1383.22 30.0415 1385.57 34.0924 M1360.17 49.9314 Q1360.17 58.1548 1363.54 62.8538 Q1366.94 67.5124 1372.85 67.5124 Q1378.77 67.5124 1382.17 62.8538 Q1385.57 58.1548 1385.57 49.9314 Q1385.57 41.7081 1382.17 37.0496 Q1378.77 32.3505 1372.85 32.3505 Q1366.94 32.3505 1363.54 37.0496 Q1360.17 41.7081 1360.17 49.9314 Z\" fill=\"#000000\" fill-rule=\"nonzero\" fill-opacity=\"1\" /><path clip-path=\"url(#clip290)\" d=\"M1467.4 28.9478 L1467.4 35.9153 Q1464.24 34.1734 1461.04 33.3227 Q1457.88 32.4315 1454.64 32.4315 Q1447.39 32.4315 1443.38 37.0496 Q1439.37 41.6271 1439.37 49.9314 Q1439.37 58.2358 1443.38 62.8538 Q1447.39 67.4314 1454.64 67.4314 Q1457.88 67.4314 1461.04 66.5807 Q1464.24 65.6895 1467.4 63.9476 L1467.4 70.8341 Q1464.28 72.2924 1460.92 73.0216 Q1457.6 73.7508 1453.83 73.7508 Q1443.58 73.7508 1437.55 67.3098 Q1431.51 60.8689 1431.51 49.9314 Q1431.51 38.832 1437.59 32.472 Q1443.7 26.1121 1454.32 26.1121 Q1457.76 26.1121 1461.04 26.8413 Q1464.32 27.5299 1467.4 28.9478 Z\" fill=\"#000000\" fill-rule=\"nonzero\" fill-opacity=\"1\" /><path clip-path=\"url(#clip290)\" d=\"M1497.95 32.4315 Q1491.95 32.4315 1488.47 37.1306 Q1484.98 41.7891 1484.98 49.9314 Q1484.98 58.0738 1488.43 62.7728 Q1491.91 67.4314 1497.95 67.4314 Q1503.9 67.4314 1507.38 62.7323 Q1510.87 58.0333 1510.87 49.9314 Q1510.87 41.8701 1507.38 37.1711 Q1503.9 32.4315 1497.95 32.4315 M1497.95 26.1121 Q1507.67 26.1121 1513.22 32.4315 Q1518.77 38.7509 1518.77 49.9314 Q1518.77 61.0714 1513.22 67.4314 Q1507.67 73.7508 1497.95 73.7508 Q1488.18 73.7508 1482.63 67.4314 Q1477.12 61.0714 1477.12 49.9314 Q1477.12 38.7509 1482.63 32.4315 Q1488.18 26.1121 1497.95 26.1121 Z\" fill=\"#000000\" fill-rule=\"nonzero\" fill-opacity=\"1\" /><path clip-path=\"url(#clip290)\" d=\"M1525.78 27.2059 L1533.67 27.2059 L1547.85 65.2844 L1562.03 27.2059 L1569.93 27.2059 L1552.92 72.576 L1542.79 72.576 L1525.78 27.2059 Z\" fill=\"#000000\" fill-rule=\"nonzero\" fill-opacity=\"1\" /><path clip-path=\"url(#clip290)\" d=\"M1600.84 49.7694 Q1591.8 49.7694 1588.32 51.8354 Q1584.84 53.9013 1584.84 58.8839 Q1584.84 62.8538 1587.43 65.2034 Q1590.06 67.5124 1594.56 67.5124 Q1600.76 67.5124 1604.48 63.1374 Q1608.25 58.7219 1608.25 51.4303 L1608.25 49.7694 L1600.84 49.7694 M1615.71 46.6907 L1615.71 72.576 L1608.25 72.576 L1608.25 65.6895 Q1605.7 69.8214 1601.89 71.8063 Q1598.08 73.7508 1592.57 73.7508 Q1585.61 73.7508 1581.48 69.8619 Q1577.38 65.9325 1577.38 59.3701 Q1577.38 51.7138 1582.49 47.825 Q1587.63 43.9361 1597.8 43.9361 L1608.25 43.9361 L1608.25 43.2069 Q1608.25 38.0623 1604.85 35.2672 Q1601.49 32.4315 1595.37 32.4315 Q1591.48 32.4315 1587.79 33.3632 Q1584.11 34.295 1580.71 36.1584 L1580.71 29.2718 Q1584.8 27.692 1588.65 26.9223 Q1592.49 26.1121 1596.14 26.1121 Q1605.98 26.1121 1610.84 31.2163 Q1615.71 36.3204 1615.71 46.6907 Z\" fill=\"#000000\" fill-rule=\"nonzero\" fill-opacity=\"1\" /><path clip-path=\"url(#clip290)\" d=\"M1657.35 34.1734 Q1656.09 33.4443 1654.59 33.1202 Q1653.14 32.7556 1651.35 32.7556 Q1645.03 32.7556 1641.63 36.8875 Q1638.27 40.9789 1638.27 48.6757 L1638.27 72.576 L1630.77 72.576 L1630.77 27.2059 L1638.27 27.2059 L1638.27 34.2544 Q1640.62 30.1225 1644.39 28.1376 Q1648.15 26.1121 1653.54 26.1121 Q1654.31 26.1121 1655.24 26.2337 Q1656.17 26.3147 1657.31 26.5172 L1657.35 34.1734 Z\" fill=\"#000000\" fill-rule=\"nonzero\" fill-opacity=\"1\" /><path clip-path=\"url(#clip290)\" d=\"M1665.17 27.2059 L1672.62 27.2059 L1672.62 72.576 L1665.17 72.576 L1665.17 27.2059 M1665.17 9.54393 L1672.62 9.54393 L1672.62 18.9825 L1665.17 18.9825 L1665.17 9.54393 Z\" fill=\"#000000\" fill-rule=\"nonzero\" fill-opacity=\"1\" /><path clip-path=\"url(#clip290)\" d=\"M1708.84 49.7694 Q1699.8 49.7694 1696.32 51.8354 Q1692.83 53.9013 1692.83 58.8839 Q1692.83 62.8538 1695.43 65.2034 Q1698.06 67.5124 1702.56 67.5124 Q1708.75 67.5124 1712.48 63.1374 Q1716.25 58.7219 1716.25 51.4303 L1716.25 49.7694 L1708.84 49.7694 M1723.7 46.6907 L1723.7 72.576 L1716.25 72.576 L1716.25 65.6895 Q1713.7 69.8214 1709.89 71.8063 Q1706.08 73.7508 1700.57 73.7508 Q1693.6 73.7508 1689.47 69.8619 Q1685.38 65.9325 1685.38 59.3701 Q1685.38 51.7138 1690.48 47.825 Q1695.63 43.9361 1705.8 43.9361 L1716.25 43.9361 L1716.25 43.2069 Q1716.25 38.0623 1712.85 35.2672 Q1709.48 32.4315 1703.37 32.4315 Q1699.48 32.4315 1695.79 33.3632 Q1692.11 34.295 1688.7 36.1584 L1688.7 29.2718 Q1692.79 27.692 1696.64 26.9223 Q1700.49 26.1121 1704.14 26.1121 Q1713.98 26.1121 1718.84 31.2163 Q1723.7 36.3204 1723.7 46.6907 Z\" fill=\"#000000\" fill-rule=\"nonzero\" fill-opacity=\"1\" /><path clip-path=\"url(#clip290)\" d=\"M1776.77 45.1919 L1776.77 72.576 L1769.32 72.576 L1769.32 45.4349 Q1769.32 38.994 1766.8 35.7938 Q1764.29 32.5936 1759.27 32.5936 Q1753.23 32.5936 1749.75 36.4419 Q1746.27 40.2903 1746.27 46.9338 L1746.27 72.576 L1738.77 72.576 L1738.77 27.2059 L1746.27 27.2059 L1746.27 34.2544 Q1748.94 30.163 1752.54 28.1376 Q1756.19 26.1121 1760.93 26.1121 Q1768.75 26.1121 1772.76 30.9732 Q1776.77 35.7938 1776.77 45.1919 Z\" fill=\"#000000\" fill-rule=\"nonzero\" fill-opacity=\"1\" /><path clip-path=\"url(#clip290)\" d=\"M1824.29 28.9478 L1824.29 35.9153 Q1821.13 34.1734 1817.93 33.3227 Q1814.77 32.4315 1811.53 32.4315 Q1804.27 32.4315 1800.26 37.0496 Q1796.25 41.6271 1796.25 49.9314 Q1796.25 58.2358 1800.26 62.8538 Q1804.27 67.4314 1811.53 67.4314 Q1814.77 67.4314 1817.93 66.5807 Q1821.13 65.6895 1824.29 63.9476 L1824.29 70.8341 Q1821.17 72.2924 1817.8 73.0216 Q1814.48 73.7508 1810.72 73.7508 Q1800.47 73.7508 1794.43 67.3098 Q1788.4 60.8689 1788.4 49.9314 Q1788.4 38.832 1794.47 32.472 Q1800.59 26.1121 1811.2 26.1121 Q1814.65 26.1121 1817.93 26.8413 Q1821.21 27.5299 1824.29 28.9478 Z\" fill=\"#000000\" fill-rule=\"nonzero\" fill-opacity=\"1\" /><path clip-path=\"url(#clip290)\" d=\"M1876.06 48.0275 L1876.06 51.6733 L1841.79 51.6733 Q1842.27 59.3701 1846.4 63.421 Q1850.58 67.4314 1857.99 67.4314 Q1862.28 67.4314 1866.29 66.3781 Q1870.35 65.3249 1874.31 63.2184 L1874.31 70.267 Q1870.3 71.9684 1866.09 72.8596 Q1861.88 73.7508 1857.54 73.7508 Q1846.69 73.7508 1840.33 67.4314 Q1834.01 61.1119 1834.01 50.3365 Q1834.01 39.1965 1840 32.6746 Q1846.04 26.1121 1856.25 26.1121 Q1865.4 26.1121 1870.71 32.0264 Q1876.06 37.9003 1876.06 48.0275 M1868.6 45.84 Q1868.52 39.7232 1865.16 36.0774 Q1861.84 32.4315 1856.33 32.4315 Q1850.09 32.4315 1846.32 35.9558 Q1842.6 39.4801 1842.03 45.8805 L1868.6 45.84 Z\" fill=\"#000000\" fill-rule=\"nonzero\" fill-opacity=\"1\" /><path clip-path=\"url(#clip290)\" d=\"M1917.21 28.5427 L1917.21 35.5912 Q1914.05 33.9709 1910.65 33.1607 Q1907.25 32.3505 1903.6 32.3505 Q1898.05 32.3505 1895.26 34.0519 Q1892.5 35.7533 1892.5 39.156 Q1892.5 41.7486 1894.49 43.2475 Q1896.47 44.7058 1902.47 46.0426 L1905.02 46.6097 Q1912.96 48.3111 1916.28 51.4303 Q1919.64 54.509 1919.64 60.0587 Q1919.64 66.3781 1914.62 70.0644 Q1909.64 73.7508 1900.89 73.7508 Q1897.24 73.7508 1893.27 73.0216 Q1889.34 72.3329 1884.97 70.9151 L1884.97 63.2184 Q1889.1 65.3654 1893.11 66.4591 Q1897.12 67.5124 1901.05 67.5124 Q1906.32 67.5124 1909.15 65.73 Q1911.99 63.9071 1911.99 60.6258 Q1911.99 57.5877 1909.92 55.9673 Q1907.9 54.3469 1900.97 52.8481 L1898.38 52.2405 Q1891.45 50.7821 1888.37 47.7845 Q1885.29 44.7463 1885.29 39.4801 Q1885.29 33.0797 1889.83 29.5959 Q1894.37 26.1121 1902.71 26.1121 Q1906.84 26.1121 1910.49 26.7198 Q1914.14 27.3274 1917.21 28.5427 Z\" fill=\"#000000\" fill-rule=\"nonzero\" fill-opacity=\"1\" /><path clip-path=\"url(#clip292)\" d=\"M291.959 1438.23 L291.959 1447.87 L339.297 1447.87 L339.297 1438.23 L291.959 1438.23 L291.959 1438.23  Z\" fill=\"#009af9\" fill-rule=\"evenodd\" fill-opacity=\"1\"/>\n",
       "<polyline clip-path=\"url(#clip292)\" style=\"stroke:#000000; stroke-linecap:round; stroke-linejoin:round; stroke-width:4; stroke-opacity:1; fill:none\" points=\"291.959,1438.23 291.959,1447.87 339.297,1447.87 339.297,1438.23 291.959,1438.23 \"/>\n",
       "<path clip-path=\"url(#clip292)\" d=\"M339.297 1431.8 L339.297 1447.87 L386.635 1447.87 L386.635 1431.8 L339.297 1431.8 L339.297 1431.8  Z\" fill=\"#009af9\" fill-rule=\"evenodd\" fill-opacity=\"1\"/>\n",
       "<polyline clip-path=\"url(#clip292)\" style=\"stroke:#000000; stroke-linecap:round; stroke-linejoin:round; stroke-width:4; stroke-opacity:1; fill:none\" points=\"339.297,1431.8 339.297,1447.87 386.635,1447.87 386.635,1431.8 339.297,1431.8 \"/>\n",
       "<path clip-path=\"url(#clip292)\" d=\"M386.635 1431.8 L386.635 1447.87 L433.973 1447.87 L433.973 1431.8 L386.635 1431.8 L386.635 1431.8  Z\" fill=\"#009af9\" fill-rule=\"evenodd\" fill-opacity=\"1\"/>\n",
       "<polyline clip-path=\"url(#clip292)\" style=\"stroke:#000000; stroke-linecap:round; stroke-linejoin:round; stroke-width:4; stroke-opacity:1; fill:none\" points=\"386.635,1431.8 386.635,1447.87 433.973,1447.87 433.973,1431.8 386.635,1431.8 \"/>\n",
       "<path clip-path=\"url(#clip292)\" d=\"M433.973 1396.44 L433.973 1447.87 L481.311 1447.87 L481.311 1396.44 L433.973 1396.44 L433.973 1396.44  Z\" fill=\"#009af9\" fill-rule=\"evenodd\" fill-opacity=\"1\"/>\n",
       "<polyline clip-path=\"url(#clip292)\" style=\"stroke:#000000; stroke-linecap:round; stroke-linejoin:round; stroke-width:4; stroke-opacity:1; fill:none\" points=\"433.973,1396.44 433.973,1447.87 481.311,1447.87 481.311,1396.44 433.973,1396.44 \"/>\n",
       "<path clip-path=\"url(#clip292)\" d=\"M481.311 1396.44 L481.311 1447.87 L528.649 1447.87 L528.649 1396.44 L481.311 1396.44 L481.311 1396.44  Z\" fill=\"#009af9\" fill-rule=\"evenodd\" fill-opacity=\"1\"/>\n",
       "<polyline clip-path=\"url(#clip292)\" style=\"stroke:#000000; stroke-linecap:round; stroke-linejoin:round; stroke-width:4; stroke-opacity:1; fill:none\" points=\"481.311,1396.44 481.311,1447.87 528.649,1447.87 528.649,1396.44 481.311,1396.44 \"/>\n",
       "<path clip-path=\"url(#clip292)\" d=\"M528.649 1367.51 L528.649 1447.87 L575.987 1447.87 L575.987 1367.51 L528.649 1367.51 L528.649 1367.51  Z\" fill=\"#009af9\" fill-rule=\"evenodd\" fill-opacity=\"1\"/>\n",
       "<polyline clip-path=\"url(#clip292)\" style=\"stroke:#000000; stroke-linecap:round; stroke-linejoin:round; stroke-width:4; stroke-opacity:1; fill:none\" points=\"528.649,1367.51 528.649,1447.87 575.987,1447.87 575.987,1367.51 528.649,1367.51 \"/>\n",
       "<path clip-path=\"url(#clip292)\" d=\"M575.987 1322.51 L575.987 1447.87 L623.324 1447.87 L623.324 1322.51 L575.987 1322.51 L575.987 1322.51  Z\" fill=\"#009af9\" fill-rule=\"evenodd\" fill-opacity=\"1\"/>\n",
       "<polyline clip-path=\"url(#clip292)\" style=\"stroke:#000000; stroke-linecap:round; stroke-linejoin:round; stroke-width:4; stroke-opacity:1; fill:none\" points=\"575.987,1322.51 575.987,1447.87 623.324,1447.87 623.324,1322.51 575.987,1322.51 \"/>\n",
       "<path clip-path=\"url(#clip292)\" d=\"M623.324 1258.21 L623.324 1447.87 L670.662 1447.87 L670.662 1258.21 L623.324 1258.21 L623.324 1258.21  Z\" fill=\"#009af9\" fill-rule=\"evenodd\" fill-opacity=\"1\"/>\n",
       "<polyline clip-path=\"url(#clip292)\" style=\"stroke:#000000; stroke-linecap:round; stroke-linejoin:round; stroke-width:4; stroke-opacity:1; fill:none\" points=\"623.324,1258.21 623.324,1447.87 670.662,1447.87 670.662,1258.21 623.324,1258.21 \"/>\n",
       "<path clip-path=\"url(#clip292)\" d=\"M670.662 1213.21 L670.662 1447.87 L718 1447.87 L718 1213.21 L670.662 1213.21 L670.662 1213.21  Z\" fill=\"#009af9\" fill-rule=\"evenodd\" fill-opacity=\"1\"/>\n",
       "<polyline clip-path=\"url(#clip292)\" style=\"stroke:#000000; stroke-linecap:round; stroke-linejoin:round; stroke-width:4; stroke-opacity:1; fill:none\" points=\"670.662,1213.21 670.662,1447.87 718,1447.87 718,1213.21 670.662,1213.21 \"/>\n",
       "<path clip-path=\"url(#clip292)\" d=\"M718 1087.84 L718 1447.87 L765.338 1447.87 L765.338 1087.84 L718 1087.84 L718 1087.84  Z\" fill=\"#009af9\" fill-rule=\"evenodd\" fill-opacity=\"1\"/>\n",
       "<polyline clip-path=\"url(#clip292)\" style=\"stroke:#000000; stroke-linecap:round; stroke-linejoin:round; stroke-width:4; stroke-opacity:1; fill:none\" points=\"718,1087.84 718,1447.87 765.338,1447.87 765.338,1087.84 718,1087.84 \"/>\n",
       "<path clip-path=\"url(#clip292)\" d=\"M765.338 923.899 L765.338 1447.87 L812.676 1447.87 L812.676 923.899 L765.338 923.899 L765.338 923.899  Z\" fill=\"#009af9\" fill-rule=\"evenodd\" fill-opacity=\"1\"/>\n",
       "<polyline clip-path=\"url(#clip292)\" style=\"stroke:#000000; stroke-linecap:round; stroke-linejoin:round; stroke-width:4; stroke-opacity:1; fill:none\" points=\"765.338,923.899 765.338,1447.87 812.676,1447.87 812.676,923.899 765.338,923.899 \"/>\n",
       "<path clip-path=\"url(#clip292)\" d=\"M812.676 849.964 L812.676 1447.87 L860.014 1447.87 L860.014 849.964 L812.676 849.964 L812.676 849.964  Z\" fill=\"#009af9\" fill-rule=\"evenodd\" fill-opacity=\"1\"/>\n",
       "<polyline clip-path=\"url(#clip292)\" style=\"stroke:#000000; stroke-linecap:round; stroke-linejoin:round; stroke-width:4; stroke-opacity:1; fill:none\" points=\"812.676,849.964 812.676,1447.87 860.014,1447.87 860.014,849.964 812.676,849.964 \"/>\n",
       "<path clip-path=\"url(#clip292)\" d=\"M860.014 605.657 L860.014 1447.87 L907.351 1447.87 L907.351 605.657 L860.014 605.657 L860.014 605.657  Z\" fill=\"#009af9\" fill-rule=\"evenodd\" fill-opacity=\"1\"/>\n",
       "<polyline clip-path=\"url(#clip292)\" style=\"stroke:#000000; stroke-linecap:round; stroke-linejoin:round; stroke-width:4; stroke-opacity:1; fill:none\" points=\"860.014,605.657 860.014,1447.87 907.351,1447.87 907.351,605.657 860.014,605.657 \"/>\n",
       "<path clip-path=\"url(#clip292)\" d=\"M907.351 393.496 L907.351 1447.87 L954.689 1447.87 L954.689 393.496 L907.351 393.496 L907.351 393.496  Z\" fill=\"#009af9\" fill-rule=\"evenodd\" fill-opacity=\"1\"/>\n",
       "<polyline clip-path=\"url(#clip292)\" style=\"stroke:#000000; stroke-linecap:round; stroke-linejoin:round; stroke-width:4; stroke-opacity:1; fill:none\" points=\"907.351,393.496 907.351,1447.87 954.689,1447.87 954.689,393.496 907.351,393.496 \"/>\n",
       "<path clip-path=\"url(#clip292)\" d=\"M954.689 380.637 L954.689 1447.87 L1002.03 1447.87 L1002.03 380.637 L954.689 380.637 L954.689 380.637  Z\" fill=\"#009af9\" fill-rule=\"evenodd\" fill-opacity=\"1\"/>\n",
       "<polyline clip-path=\"url(#clip292)\" style=\"stroke:#000000; stroke-linecap:round; stroke-linejoin:round; stroke-width:4; stroke-opacity:1; fill:none\" points=\"954.689,380.637 954.689,1447.87 1002.03,1447.87 1002.03,380.637 954.689,380.637 \"/>\n",
       "<path clip-path=\"url(#clip292)\" d=\"M1002.03 213.48 L1002.03 1447.87 L1049.37 1447.87 L1049.37 213.48 L1002.03 213.48 L1002.03 213.48  Z\" fill=\"#009af9\" fill-rule=\"evenodd\" fill-opacity=\"1\"/>\n",
       "<polyline clip-path=\"url(#clip292)\" style=\"stroke:#000000; stroke-linecap:round; stroke-linejoin:round; stroke-width:4; stroke-opacity:1; fill:none\" points=\"1002.03,213.48 1002.03,1447.87 1049.37,1447.87 1049.37,213.48 1002.03,213.48 \"/>\n",
       "<path clip-path=\"url(#clip292)\" d=\"M1049.37 162.047 L1049.37 1447.87 L1096.7 1447.87 L1096.7 162.047 L1049.37 162.047 L1049.37 162.047  Z\" fill=\"#009af9\" fill-rule=\"evenodd\" fill-opacity=\"1\"/>\n",
       "<polyline clip-path=\"url(#clip292)\" style=\"stroke:#000000; stroke-linecap:round; stroke-linejoin:round; stroke-width:4; stroke-opacity:1; fill:none\" points=\"1049.37,162.047 1049.37,1447.87 1096.7,1447.87 1096.7,162.047 1049.37,162.047 \"/>\n",
       "<path clip-path=\"url(#clip292)\" d=\"M1096.7 184.549 L1096.7 1447.87 L1144.04 1447.87 L1144.04 184.549 L1096.7 184.549 L1096.7 184.549  Z\" fill=\"#009af9\" fill-rule=\"evenodd\" fill-opacity=\"1\"/>\n",
       "<polyline clip-path=\"url(#clip292)\" style=\"stroke:#000000; stroke-linecap:round; stroke-linejoin:round; stroke-width:4; stroke-opacity:1; fill:none\" points=\"1096.7,184.549 1096.7,1447.87 1144.04,1447.87 1144.04,184.549 1096.7,184.549 \"/>\n",
       "<path clip-path=\"url(#clip292)\" d=\"M1144.04 322.775 L1144.04 1447.87 L1191.38 1447.87 L1191.38 322.775 L1144.04 322.775 L1144.04 322.775  Z\" fill=\"#009af9\" fill-rule=\"evenodd\" fill-opacity=\"1\"/>\n",
       "<polyline clip-path=\"url(#clip292)\" style=\"stroke:#000000; stroke-linecap:round; stroke-linejoin:round; stroke-width:4; stroke-opacity:1; fill:none\" points=\"1144.04,322.775 1144.04,1447.87 1191.38,1447.87 1191.38,322.775 1144.04,322.775 \"/>\n",
       "<path clip-path=\"url(#clip292)\" d=\"M1191.38 332.419 L1191.38 1447.87 L1238.72 1447.87 L1238.72 332.419 L1191.38 332.419 L1191.38 332.419  Z\" fill=\"#009af9\" fill-rule=\"evenodd\" fill-opacity=\"1\"/>\n",
       "<polyline clip-path=\"url(#clip292)\" style=\"stroke:#000000; stroke-linecap:round; stroke-linejoin:round; stroke-width:4; stroke-opacity:1; fill:none\" points=\"1191.38,332.419 1191.38,1447.87 1238.72,1447.87 1238.72,332.419 1191.38,332.419 \"/>\n",
       "<path clip-path=\"url(#clip292)\" d=\"M1238.72 422.427 L1238.72 1447.87 L1286.05 1447.87 L1286.05 422.427 L1238.72 422.427 L1238.72 422.427  Z\" fill=\"#009af9\" fill-rule=\"evenodd\" fill-opacity=\"1\"/>\n",
       "<polyline clip-path=\"url(#clip292)\" style=\"stroke:#000000; stroke-linecap:round; stroke-linejoin:round; stroke-width:4; stroke-opacity:1; fill:none\" points=\"1238.72,422.427 1238.72,1447.87 1286.05,1447.87 1286.05,422.427 1238.72,422.427 \"/>\n",
       "<path clip-path=\"url(#clip292)\" d=\"M1286.05 534.937 L1286.05 1447.87 L1333.39 1447.87 L1333.39 534.937 L1286.05 534.937 L1286.05 534.937  Z\" fill=\"#009af9\" fill-rule=\"evenodd\" fill-opacity=\"1\"/>\n",
       "<polyline clip-path=\"url(#clip292)\" style=\"stroke:#000000; stroke-linecap:round; stroke-linejoin:round; stroke-width:4; stroke-opacity:1; fill:none\" points=\"1286.05,534.937 1286.05,1447.87 1333.39,1447.87 1333.39,534.937 1286.05,534.937 \"/>\n",
       "<path clip-path=\"url(#clip292)\" d=\"M1333.39 669.948 L1333.39 1447.87 L1380.73 1447.87 L1380.73 669.948 L1333.39 669.948 L1333.39 669.948  Z\" fill=\"#009af9\" fill-rule=\"evenodd\" fill-opacity=\"1\"/>\n",
       "<polyline clip-path=\"url(#clip292)\" style=\"stroke:#000000; stroke-linecap:round; stroke-linejoin:round; stroke-width:4; stroke-opacity:1; fill:none\" points=\"1333.39,669.948 1333.39,1447.87 1380.73,1447.87 1380.73,669.948 1333.39,669.948 \"/>\n",
       "<path clip-path=\"url(#clip292)\" d=\"M1380.73 914.255 L1380.73 1447.87 L1428.07 1447.87 L1428.07 914.255 L1380.73 914.255 L1380.73 914.255  Z\" fill=\"#009af9\" fill-rule=\"evenodd\" fill-opacity=\"1\"/>\n",
       "<polyline clip-path=\"url(#clip292)\" style=\"stroke:#000000; stroke-linecap:round; stroke-linejoin:round; stroke-width:4; stroke-opacity:1; fill:none\" points=\"1380.73,914.255 1380.73,1447.87 1428.07,1447.87 1428.07,914.255 1380.73,914.255 \"/>\n",
       "<path clip-path=\"url(#clip292)\" d=\"M1428.07 943.186 L1428.07 1447.87 L1475.41 1447.87 L1475.41 943.186 L1428.07 943.186 L1428.07 943.186  Z\" fill=\"#009af9\" fill-rule=\"evenodd\" fill-opacity=\"1\"/>\n",
       "<polyline clip-path=\"url(#clip292)\" style=\"stroke:#000000; stroke-linecap:round; stroke-linejoin:round; stroke-width:4; stroke-opacity:1; fill:none\" points=\"1428.07,943.186 1428.07,1447.87 1475.41,1447.87 1475.41,943.186 1428.07,943.186 \"/>\n",
       "<path clip-path=\"url(#clip292)\" d=\"M1475.41 1148.92 L1475.41 1447.87 L1522.74 1447.87 L1522.74 1148.92 L1475.41 1148.92 L1475.41 1148.92  Z\" fill=\"#009af9\" fill-rule=\"evenodd\" fill-opacity=\"1\"/>\n",
       "<polyline clip-path=\"url(#clip292)\" style=\"stroke:#000000; stroke-linecap:round; stroke-linejoin:round; stroke-width:4; stroke-opacity:1; fill:none\" points=\"1475.41,1148.92 1475.41,1447.87 1522.74,1447.87 1522.74,1148.92 1475.41,1148.92 \"/>\n",
       "<path clip-path=\"url(#clip292)\" d=\"M1522.74 1168.21 L1522.74 1447.87 L1570.08 1447.87 L1570.08 1168.21 L1522.74 1168.21 L1522.74 1168.21  Z\" fill=\"#009af9\" fill-rule=\"evenodd\" fill-opacity=\"1\"/>\n",
       "<polyline clip-path=\"url(#clip292)\" style=\"stroke:#000000; stroke-linecap:round; stroke-linejoin:round; stroke-width:4; stroke-opacity:1; fill:none\" points=\"1522.74,1168.21 1522.74,1447.87 1570.08,1447.87 1570.08,1168.21 1522.74,1168.21 \"/>\n",
       "<path clip-path=\"url(#clip292)\" d=\"M1570.08 1328.93 L1570.08 1447.87 L1617.42 1447.87 L1617.42 1328.93 L1570.08 1328.93 L1570.08 1328.93  Z\" fill=\"#009af9\" fill-rule=\"evenodd\" fill-opacity=\"1\"/>\n",
       "<polyline clip-path=\"url(#clip292)\" style=\"stroke:#000000; stroke-linecap:round; stroke-linejoin:round; stroke-width:4; stroke-opacity:1; fill:none\" points=\"1570.08,1328.93 1570.08,1447.87 1617.42,1447.87 1617.42,1328.93 1570.08,1328.93 \"/>\n",
       "<path clip-path=\"url(#clip292)\" d=\"M1617.42 1306.43 L1617.42 1447.87 L1664.76 1447.87 L1664.76 1306.43 L1617.42 1306.43 L1617.42 1306.43  Z\" fill=\"#009af9\" fill-rule=\"evenodd\" fill-opacity=\"1\"/>\n",
       "<polyline clip-path=\"url(#clip292)\" style=\"stroke:#000000; stroke-linecap:round; stroke-linejoin:round; stroke-width:4; stroke-opacity:1; fill:none\" points=\"1617.42,1306.43 1617.42,1447.87 1664.76,1447.87 1664.76,1306.43 1617.42,1306.43 \"/>\n",
       "<path clip-path=\"url(#clip292)\" d=\"M1664.76 1377.15 L1664.76 1447.87 L1712.09 1447.87 L1712.09 1377.15 L1664.76 1377.15 L1664.76 1377.15  Z\" fill=\"#009af9\" fill-rule=\"evenodd\" fill-opacity=\"1\"/>\n",
       "<polyline clip-path=\"url(#clip292)\" style=\"stroke:#000000; stroke-linecap:round; stroke-linejoin:round; stroke-width:4; stroke-opacity:1; fill:none\" points=\"1664.76,1377.15 1664.76,1447.87 1712.09,1447.87 1712.09,1377.15 1664.76,1377.15 \"/>\n",
       "<path clip-path=\"url(#clip292)\" d=\"M1712.09 1380.37 L1712.09 1447.87 L1759.43 1447.87 L1759.43 1380.37 L1712.09 1380.37 L1712.09 1380.37  Z\" fill=\"#009af9\" fill-rule=\"evenodd\" fill-opacity=\"1\"/>\n",
       "<polyline clip-path=\"url(#clip292)\" style=\"stroke:#000000; stroke-linecap:round; stroke-linejoin:round; stroke-width:4; stroke-opacity:1; fill:none\" points=\"1712.09,1380.37 1712.09,1447.87 1759.43,1447.87 1759.43,1380.37 1712.09,1380.37 \"/>\n",
       "<path clip-path=\"url(#clip292)\" d=\"M1759.43 1383.58 L1759.43 1447.87 L1806.77 1447.87 L1806.77 1383.58 L1759.43 1383.58 L1759.43 1383.58  Z\" fill=\"#009af9\" fill-rule=\"evenodd\" fill-opacity=\"1\"/>\n",
       "<polyline clip-path=\"url(#clip292)\" style=\"stroke:#000000; stroke-linecap:round; stroke-linejoin:round; stroke-width:4; stroke-opacity:1; fill:none\" points=\"1759.43,1383.58 1759.43,1447.87 1806.77,1447.87 1806.77,1383.58 1759.43,1383.58 \"/>\n",
       "<path clip-path=\"url(#clip292)\" d=\"M1806.77 1441.44 L1806.77 1447.87 L1854.11 1447.87 L1854.11 1441.44 L1806.77 1441.44 L1806.77 1441.44  Z\" fill=\"#009af9\" fill-rule=\"evenodd\" fill-opacity=\"1\"/>\n",
       "<polyline clip-path=\"url(#clip292)\" style=\"stroke:#000000; stroke-linecap:round; stroke-linejoin:round; stroke-width:4; stroke-opacity:1; fill:none\" points=\"1806.77,1441.44 1806.77,1447.87 1854.11,1447.87 1854.11,1441.44 1806.77,1441.44 \"/>\n",
       "<path clip-path=\"url(#clip292)\" d=\"M1854.11 1435.01 L1854.11 1447.87 L1901.45 1447.87 L1901.45 1435.01 L1854.11 1435.01 L1854.11 1435.01  Z\" fill=\"#009af9\" fill-rule=\"evenodd\" fill-opacity=\"1\"/>\n",
       "<polyline clip-path=\"url(#clip292)\" style=\"stroke:#000000; stroke-linecap:round; stroke-linejoin:round; stroke-width:4; stroke-opacity:1; fill:none\" points=\"1854.11,1435.01 1854.11,1447.87 1901.45,1447.87 1901.45,1435.01 1854.11,1435.01 \"/>\n",
       "<path clip-path=\"url(#clip292)\" d=\"M1901.45 1441.44 L1901.45 1447.87 L1948.78 1447.87 L1948.78 1441.44 L1901.45 1441.44 L1901.45 1441.44  Z\" fill=\"#009af9\" fill-rule=\"evenodd\" fill-opacity=\"1\"/>\n",
       "<polyline clip-path=\"url(#clip292)\" style=\"stroke:#000000; stroke-linecap:round; stroke-linejoin:round; stroke-width:4; stroke-opacity:1; fill:none\" points=\"1901.45,1441.44 1901.45,1447.87 1948.78,1447.87 1948.78,1441.44 1901.45,1441.44 \"/>\n",
       "<path clip-path=\"url(#clip292)\" d=\"M1948.78 1444.66 L1948.78 1447.87 L1996.12 1447.87 L1996.12 1444.66 L1948.78 1444.66 L1948.78 1444.66  Z\" fill=\"#009af9\" fill-rule=\"evenodd\" fill-opacity=\"1\"/>\n",
       "<polyline clip-path=\"url(#clip292)\" style=\"stroke:#000000; stroke-linecap:round; stroke-linejoin:round; stroke-width:4; stroke-opacity:1; fill:none\" points=\"1948.78,1444.66 1948.78,1447.87 1996.12,1447.87 1996.12,1444.66 1948.78,1444.66 \"/>\n",
       "<path clip-path=\"url(#clip292)\" d=\"M1996.12 1447.87 L1996.12 1447.87 L2043.46 1447.87 L2043.46 1447.87 L1996.12 1447.87 L1996.12 1447.87  Z\" fill=\"#009af9\" fill-rule=\"evenodd\" fill-opacity=\"1\"/>\n",
       "<polyline clip-path=\"url(#clip292)\" style=\"stroke:#000000; stroke-linecap:round; stroke-linejoin:round; stroke-width:4; stroke-opacity:1; fill:none\" points=\"1996.12,1447.87 1996.12,1447.87 2043.46,1447.87 1996.12,1447.87 \"/>\n",
       "<path clip-path=\"url(#clip292)\" d=\"M2043.46 1447.87 L2043.46 1447.87 L2090.8 1447.87 L2090.8 1447.87 L2043.46 1447.87 L2043.46 1447.87  Z\" fill=\"#009af9\" fill-rule=\"evenodd\" fill-opacity=\"1\"/>\n",
       "<polyline clip-path=\"url(#clip292)\" style=\"stroke:#000000; stroke-linecap:round; stroke-linejoin:round; stroke-width:4; stroke-opacity:1; fill:none\" points=\"2043.46,1447.87 2043.46,1447.87 2090.8,1447.87 2043.46,1447.87 \"/>\n",
       "<path clip-path=\"url(#clip292)\" d=\"M2090.8 1447.87 L2090.8 1447.87 L2138.14 1447.87 L2138.14 1447.87 L2090.8 1447.87 L2090.8 1447.87  Z\" fill=\"#009af9\" fill-rule=\"evenodd\" fill-opacity=\"1\"/>\n",
       "<polyline clip-path=\"url(#clip292)\" style=\"stroke:#000000; stroke-linecap:round; stroke-linejoin:round; stroke-width:4; stroke-opacity:1; fill:none\" points=\"2090.8,1447.87 2090.8,1447.87 2138.14,1447.87 2090.8,1447.87 \"/>\n",
       "<path clip-path=\"url(#clip292)\" d=\"M2138.14 1447.87 L2138.14 1447.87 L2185.47 1447.87 L2185.47 1447.87 L2138.14 1447.87 L2138.14 1447.87  Z\" fill=\"#009af9\" fill-rule=\"evenodd\" fill-opacity=\"1\"/>\n",
       "<polyline clip-path=\"url(#clip292)\" style=\"stroke:#000000; stroke-linecap:round; stroke-linejoin:round; stroke-width:4; stroke-opacity:1; fill:none\" points=\"2138.14,1447.87 2138.14,1447.87 2185.47,1447.87 2138.14,1447.87 \"/>\n",
       "<path clip-path=\"url(#clip292)\" d=\"M2185.47 1444.66 L2185.47 1447.87 L2232.81 1447.87 L2232.81 1444.66 L2185.47 1444.66 L2185.47 1444.66  Z\" fill=\"#009af9\" fill-rule=\"evenodd\" fill-opacity=\"1\"/>\n",
       "<polyline clip-path=\"url(#clip292)\" style=\"stroke:#000000; stroke-linecap:round; stroke-linejoin:round; stroke-width:4; stroke-opacity:1; fill:none\" points=\"2185.47,1444.66 2185.47,1447.87 2232.81,1447.87 2232.81,1444.66 2185.47,1444.66 \"/>\n",
       "<circle clip-path=\"url(#clip292)\" style=\"fill:#009af9; stroke:none; fill-opacity:0\" cx=\"315.628\" cy=\"1438.23\" r=\"2\"/>\n",
       "<circle clip-path=\"url(#clip292)\" style=\"fill:#009af9; stroke:none; fill-opacity:0\" cx=\"362.966\" cy=\"1431.8\" r=\"2\"/>\n",
       "<circle clip-path=\"url(#clip292)\" style=\"fill:#009af9; stroke:none; fill-opacity:0\" cx=\"410.304\" cy=\"1431.8\" r=\"2\"/>\n",
       "<circle clip-path=\"url(#clip292)\" style=\"fill:#009af9; stroke:none; fill-opacity:0\" cx=\"457.642\" cy=\"1396.44\" r=\"2\"/>\n",
       "<circle clip-path=\"url(#clip292)\" style=\"fill:#009af9; stroke:none; fill-opacity:0\" cx=\"504.98\" cy=\"1396.44\" r=\"2\"/>\n",
       "<circle clip-path=\"url(#clip292)\" style=\"fill:#009af9; stroke:none; fill-opacity:0\" cx=\"552.318\" cy=\"1367.51\" r=\"2\"/>\n",
       "<circle clip-path=\"url(#clip292)\" style=\"fill:#009af9; stroke:none; fill-opacity:0\" cx=\"599.655\" cy=\"1322.51\" r=\"2\"/>\n",
       "<circle clip-path=\"url(#clip292)\" style=\"fill:#009af9; stroke:none; fill-opacity:0\" cx=\"646.993\" cy=\"1258.21\" r=\"2\"/>\n",
       "<circle clip-path=\"url(#clip292)\" style=\"fill:#009af9; stroke:none; fill-opacity:0\" cx=\"694.331\" cy=\"1213.21\" r=\"2\"/>\n",
       "<circle clip-path=\"url(#clip292)\" style=\"fill:#009af9; stroke:none; fill-opacity:0\" cx=\"741.669\" cy=\"1087.84\" r=\"2\"/>\n",
       "<circle clip-path=\"url(#clip292)\" style=\"fill:#009af9; stroke:none; fill-opacity:0\" cx=\"789.007\" cy=\"923.899\" r=\"2\"/>\n",
       "<circle clip-path=\"url(#clip292)\" style=\"fill:#009af9; stroke:none; fill-opacity:0\" cx=\"836.345\" cy=\"849.964\" r=\"2\"/>\n",
       "<circle clip-path=\"url(#clip292)\" style=\"fill:#009af9; stroke:none; fill-opacity:0\" cx=\"883.683\" cy=\"605.657\" r=\"2\"/>\n",
       "<circle clip-path=\"url(#clip292)\" style=\"fill:#009af9; stroke:none; fill-opacity:0\" cx=\"931.02\" cy=\"393.496\" r=\"2\"/>\n",
       "<circle clip-path=\"url(#clip292)\" style=\"fill:#009af9; stroke:none; fill-opacity:0\" cx=\"978.358\" cy=\"380.637\" r=\"2\"/>\n",
       "<circle clip-path=\"url(#clip292)\" style=\"fill:#009af9; stroke:none; fill-opacity:0\" cx=\"1025.7\" cy=\"213.48\" r=\"2\"/>\n",
       "<circle clip-path=\"url(#clip292)\" style=\"fill:#009af9; stroke:none; fill-opacity:0\" cx=\"1073.03\" cy=\"162.047\" r=\"2\"/>\n",
       "<circle clip-path=\"url(#clip292)\" style=\"fill:#009af9; stroke:none; fill-opacity:0\" cx=\"1120.37\" cy=\"184.549\" r=\"2\"/>\n",
       "<circle clip-path=\"url(#clip292)\" style=\"fill:#009af9; stroke:none; fill-opacity:0\" cx=\"1167.71\" cy=\"322.775\" r=\"2\"/>\n",
       "<circle clip-path=\"url(#clip292)\" style=\"fill:#009af9; stroke:none; fill-opacity:0\" cx=\"1215.05\" cy=\"332.419\" r=\"2\"/>\n",
       "<circle clip-path=\"url(#clip292)\" style=\"fill:#009af9; stroke:none; fill-opacity:0\" cx=\"1262.39\" cy=\"422.427\" r=\"2\"/>\n",
       "<circle clip-path=\"url(#clip292)\" style=\"fill:#009af9; stroke:none; fill-opacity:0\" cx=\"1309.72\" cy=\"534.937\" r=\"2\"/>\n",
       "<circle clip-path=\"url(#clip292)\" style=\"fill:#009af9; stroke:none; fill-opacity:0\" cx=\"1357.06\" cy=\"669.948\" r=\"2\"/>\n",
       "<circle clip-path=\"url(#clip292)\" style=\"fill:#009af9; stroke:none; fill-opacity:0\" cx=\"1404.4\" cy=\"914.255\" r=\"2\"/>\n",
       "<circle clip-path=\"url(#clip292)\" style=\"fill:#009af9; stroke:none; fill-opacity:0\" cx=\"1451.74\" cy=\"943.186\" r=\"2\"/>\n",
       "<circle clip-path=\"url(#clip292)\" style=\"fill:#009af9; stroke:none; fill-opacity:0\" cx=\"1499.07\" cy=\"1148.92\" r=\"2\"/>\n",
       "<circle clip-path=\"url(#clip292)\" style=\"fill:#009af9; stroke:none; fill-opacity:0\" cx=\"1546.41\" cy=\"1168.21\" r=\"2\"/>\n",
       "<circle clip-path=\"url(#clip292)\" style=\"fill:#009af9; stroke:none; fill-opacity:0\" cx=\"1593.75\" cy=\"1328.93\" r=\"2\"/>\n",
       "<circle clip-path=\"url(#clip292)\" style=\"fill:#009af9; stroke:none; fill-opacity:0\" cx=\"1641.09\" cy=\"1306.43\" r=\"2\"/>\n",
       "<circle clip-path=\"url(#clip292)\" style=\"fill:#009af9; stroke:none; fill-opacity:0\" cx=\"1688.43\" cy=\"1377.15\" r=\"2\"/>\n",
       "<circle clip-path=\"url(#clip292)\" style=\"fill:#009af9; stroke:none; fill-opacity:0\" cx=\"1735.76\" cy=\"1380.37\" r=\"2\"/>\n",
       "<circle clip-path=\"url(#clip292)\" style=\"fill:#009af9; stroke:none; fill-opacity:0\" cx=\"1783.1\" cy=\"1383.58\" r=\"2\"/>\n",
       "<circle clip-path=\"url(#clip292)\" style=\"fill:#009af9; stroke:none; fill-opacity:0\" cx=\"1830.44\" cy=\"1441.44\" r=\"2\"/>\n",
       "<circle clip-path=\"url(#clip292)\" style=\"fill:#009af9; stroke:none; fill-opacity:0\" cx=\"1877.78\" cy=\"1435.01\" r=\"2\"/>\n",
       "<circle clip-path=\"url(#clip292)\" style=\"fill:#009af9; stroke:none; fill-opacity:0\" cx=\"1925.12\" cy=\"1441.44\" r=\"2\"/>\n",
       "<circle clip-path=\"url(#clip292)\" style=\"fill:#009af9; stroke:none; fill-opacity:0\" cx=\"1972.45\" cy=\"1444.66\" r=\"2\"/>\n",
       "<circle clip-path=\"url(#clip292)\" style=\"fill:#009af9; stroke:none; fill-opacity:0\" cx=\"2019.79\" cy=\"1447.87\" r=\"2\"/>\n",
       "<circle clip-path=\"url(#clip292)\" style=\"fill:#009af9; stroke:none; fill-opacity:0\" cx=\"2067.13\" cy=\"1447.87\" r=\"2\"/>\n",
       "<circle clip-path=\"url(#clip292)\" style=\"fill:#009af9; stroke:none; fill-opacity:0\" cx=\"2114.47\" cy=\"1447.87\" r=\"2\"/>\n",
       "<circle clip-path=\"url(#clip292)\" style=\"fill:#009af9; stroke:none; fill-opacity:0\" cx=\"2161.8\" cy=\"1447.87\" r=\"2\"/>\n",
       "<circle clip-path=\"url(#clip292)\" style=\"fill:#009af9; stroke:none; fill-opacity:0\" cx=\"2209.14\" cy=\"1444.66\" r=\"2\"/>\n",
       "</svg>\n"
      ]
     },
     "execution_count": 99,
     "metadata": {},
     "output_type": "execute_result"
    }
   ],
   "source": [
    "histogram(bssamps[2],title = \"rpb1: bootstrapped covariances\", legend = :none)"
   ]
  },
  {
   "cell_type": "code",
   "execution_count": 92,
   "id": "potential-campaign",
   "metadata": {},
   "outputs": [
    {
     "data": {
      "text/plain": [
       "7-element Vector{Float64}:\n",
       " 0.008802494923478303\n",
       " 0.10254842287215707\n",
       " 0.008983421645554188\n",
       " 0.014376744327739378\n",
       " 0.021334371122142454\n",
       " 0.010096614763545854\n",
       " 0.0521347371765618"
      ]
     },
     "execution_count": 92,
     "metadata": {},
     "output_type": "execute_result"
    }
   ],
   "source": [
    "cvars = [var(bssamps[i]) for i in 1:length(n_ints)]\n",
    "cvars_std = cvars.^(1/2)\n",
    "c"
   ]
  },
  {
   "cell_type": "code",
   "execution_count": 93,
   "id": "liquid-carbon",
   "metadata": {},
   "outputs": [
    {
     "data": {
      "text/plain": [
       "7-element Vector{Vector{Float64}}:\n",
       " [-0.10975871927698243, -0.10095622435350413, -0.09215372943002582]\n",
       " [-0.05512230427190831, 0.04742611860024876, 0.14997454147240583]\n",
       " [-0.0959198288757574, -0.08693640723020321, -0.07795298558464903]\n",
       " [-0.2734683746077584, -0.259091630280019, -0.24471488595227964]\n",
       " [-0.16207660697042262, -0.14074223584828016, -0.11940786472613771]\n",
       " [-0.09230822286095433, -0.08221160809740848, -0.07211499333386262]\n",
       " [-0.2140519970674426, -0.1619172598908808, -0.10978252271431899]"
      ]
     },
     "execution_count": 93,
     "metadata": {},
     "output_type": "execute_result"
    }
   ],
   "source": [
    "limits_cvars = [[μ11s_i[i]-cvars_std[i],μ11s_i[i],μ11s_i[i]+cvars_std[i]] for i in 1:length(n_ints)]"
   ]
  },
  {
   "cell_type": "code",
   "execution_count": 113,
   "id": "micro-beatles",
   "metadata": {},
   "outputs": [],
   "source": [
    "using StatsPlots"
   ]
  },
  {
   "cell_type": "code",
   "execution_count": 117,
   "id": "raised-sunglasses",
   "metadata": {},
   "outputs": [
    {
     "data": {
      "text/plain": [
       "10-element Vector{String31}:\n",
       " \"cdc13endog\"\n",
       " \"mad1endog\"\n",
       " \"rpb1endog\"\n",
       " \"mad1WTymEGFP\"\n",
       " \"mad2WTymEGFP\"\n",
       " \"bub1WTymEGFP\"\n",
       " \"mad3WTymEGFP\"\n",
       " \"sep1WTymEGFP-hph\"\n",
       " \"SPAC27D709cWTymEGFP-hph\"\n",
       " \"SPAC2H1001WTymEGFP-hph\""
      ]
     },
     "execution_count": 117,
     "metadata": {},
     "output_type": "execute_result"
    }
   ],
   "source": [
    "genes"
   ]
  },
  {
   "cell_type": "code",
   "execution_count": 128,
   "id": "compatible-mission",
   "metadata": {},
   "outputs": [],
   "source": [
    "sel_genes = genes[[2,3,4,5,6,7,8]];"
   ]
  },
  {
   "cell_type": "code",
   "execution_count": 132,
   "id": "amazing-integral",
   "metadata": {},
   "outputs": [],
   "source": [
    "all_df = DataFrame(mad1endong = bssamps[1], rpb1endog = bssamps[2], mad1WTymEGFP = bssamps[3],\n",
    "    mad2WTymEGFP = bssamps[4], bub1WTymEGFP = bssamps[5], mad3WTymEGFP = bssamps[6],\n",
    "    sep1WTymEGFP_hph = bssamps[7]);"
   ]
  },
  {
   "cell_type": "code",
   "execution_count": 136,
   "id": "guided-repository",
   "metadata": {},
   "outputs": [],
   "source": [
    "all_df;"
   ]
  },
  {
   "cell_type": "code",
   "execution_count": 141,
   "id": "differential-demographic",
   "metadata": {},
   "outputs": [
    {
     "data": {
      "text/plain": [
       "7-element Vector{String}:\n",
       " \"mad1endong\"\n",
       " \"rpb1endog\"\n",
       " \"mad1WTymEGFP\"\n",
       " \"mad2WTymEGFP\"\n",
       " \"bub1WTymEGFP\"\n",
       " \"mad3WTymEGFP\"\n",
       " \"sep1WTymEGFP_hph\""
      ]
     },
     "execution_count": 141,
     "metadata": {},
     "output_type": "execute_result"
    }
   ],
   "source": [
    "names(all_df)"
   ]
  },
  {
   "cell_type": "code",
   "execution_count": 142,
   "id": "outside-reach",
   "metadata": {},
   "outputs": [
    {
     "ename": "LoadError",
     "evalue": "MethodError: no method matching default_bandwidth(::Vector{String})\n\u001b[0mClosest candidates are:\n\u001b[0m  default_bandwidth(\u001b[91m::AbstractVector{T} where T<:Real\u001b[39m) at ~/.julia/packages/KernelDensity/bNBAQ/src/univariate.jl:32\n\u001b[0m  default_bandwidth(\u001b[91m::AbstractVector{T} where T<:Real\u001b[39m, \u001b[91m::Float64\u001b[39m) at ~/.julia/packages/KernelDensity/bNBAQ/src/univariate.jl:32\n\u001b[0m  default_bandwidth(\u001b[91m::Tuple{AbstractVector{T} where T<:Real, AbstractVector{T} where T<:Real}\u001b[39m) at ~/.julia/packages/KernelDensity/bNBAQ/src/bivariate.jl:41",
     "output_type": "error",
     "traceback": [
      "MethodError: no method matching default_bandwidth(::Vector{String})\n\u001b[0mClosest candidates are:\n\u001b[0m  default_bandwidth(\u001b[91m::AbstractVector{T} where T<:Real\u001b[39m) at ~/.julia/packages/KernelDensity/bNBAQ/src/univariate.jl:32\n\u001b[0m  default_bandwidth(\u001b[91m::AbstractVector{T} where T<:Real\u001b[39m, \u001b[91m::Float64\u001b[39m) at ~/.julia/packages/KernelDensity/bNBAQ/src/univariate.jl:32\n\u001b[0m  default_bandwidth(\u001b[91m::Tuple{AbstractVector{T} where T<:Real, AbstractVector{T} where T<:Real}\u001b[39m) at ~/.julia/packages/KernelDensity/bNBAQ/src/bivariate.jl:41",
      "",
      "Stacktrace:",
      "  [1] apply_recipe(plotattributes::AbstractDict{Symbol, Any}, #unused#::Type{Val{:violin}}, x::Any, y::Any, z::Any)",
      "    @ StatsPlots ~/.julia/packages/RecipesBase/z10lo/src/RecipesBase.jl:297",
      "  [2] _process_seriesrecipe(plt::Any, plotattributes::Any)",
      "    @ RecipesPipeline ~/.julia/packages/RecipesPipeline/XxUHt/src/series_recipe.jl:50",
      "  [3] _process_seriesrecipes!(plt::Any, kw_list::Any)",
      "    @ RecipesPipeline ~/.julia/packages/RecipesPipeline/XxUHt/src/series_recipe.jl:27",
      "  [4] recipe_pipeline!(plt::Any, plotattributes::Any, args::Any)",
      "    @ RecipesPipeline ~/.julia/packages/RecipesPipeline/XxUHt/src/RecipesPipeline.jl:99",
      "  [5] _plot!(plt::Plots.Plot, plotattributes::Any, args::Any)",
      "    @ Plots ~/.julia/packages/Plots/p3KMq/src/plot.jl:223",
      "  [6] plot(args::Any; kw::Base.Pairs{Symbol, V, Tuple{Vararg{Symbol, N}}, NamedTuple{names, T}} where {V, N, names, T<:Tuple{Vararg{Any, N}}})",
      "    @ Plots ~/.julia/packages/Plots/p3KMq/src/plot.jl:102",
      "  [7] #violin#413",
      "    @ ~/.julia/packages/RecipesBase/z10lo/src/RecipesBase.jl:427 [inlined]",
      "  [8] violin",
      "    @ ~/.julia/packages/RecipesBase/z10lo/src/RecipesBase.jl:427 [inlined]",
      "  [9] add_label(argnames::Vector{String}, f::typeof(violin), args::Vector{String}; kwargs::Base.Pairs{Symbol, Union{}, Tuple{}, NamedTuple{(), Tuple{}}})",
      "    @ StatsPlots ~/.julia/packages/StatsPlots/vq5FV/src/df.jl:181",
      " [10] add_label(argnames::Vector{String}, f::Function, args::Vector{String})",
      "    @ StatsPlots ~/.julia/packages/StatsPlots/vq5FV/src/df.jl:167",
      " [11] (::var\"#301#302\")(354::DataFrame)",
      "    @ Main ./none:0",
      " [12] top-level scope",
      "    @ In[142]:1"
     ]
    }
   ],
   "source": [
    "@df all_df violin(names(all_df))"
   ]
  },
  {
   "cell_type": "code",
   "execution_count": null,
   "id": "maritime-receiver",
   "metadata": {},
   "outputs": [],
   "source": []
  }
 ],
 "metadata": {
  "kernelspec": {
   "display_name": "Julia 1.8.5",
   "language": "julia",
   "name": "julia-1.8"
  },
  "language_info": {
   "file_extension": ".jl",
   "mimetype": "application/julia",
   "name": "julia",
   "version": "1.8.5"
  }
 },
 "nbformat": 4,
 "nbformat_minor": 5
}
