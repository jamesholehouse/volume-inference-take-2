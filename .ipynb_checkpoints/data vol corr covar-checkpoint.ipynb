{
 "cells": [
  {
   "cell_type": "code",
   "execution_count": 1,
   "id": "aa1a2211",
   "metadata": {},
   "outputs": [],
   "source": [
    "using Random, Plots, Distributions, StatsBase, DataFrames, CSV, Plots.PlotMeasures"
   ]
  },
  {
   "cell_type": "code",
   "execution_count": 2,
   "id": "0807513e",
   "metadata": {},
   "outputs": [],
   "source": [
    "df = DataFrame(CSV.File(\"./mad1WTGFP/FISH_toShare_NoTSlabel_celldata_long_220620_simple_woMad3Outlier_withColDescription.csv\"));"
   ]
  },
  {
   "cell_type": "code",
   "execution_count": 3,
   "id": "84235298",
   "metadata": {},
   "outputs": [
    {
     "data": {
      "text/plain": [
       "15-element Vector{String}:\n",
       " \"sampleID\"\n",
       " \"gene\"\n",
       " \"probe\"\n",
       " \"strain\"\n",
       " \"imageID\"\n",
       " \"CellNo\"\n",
       " \"NucleiCount\"\n",
       " \"Compartment\"\n",
       " \"CountMethod\"\n",
       " \"RNAperCell\"\n",
       " \"Cell_Pseudovol_um\"\n",
       " \"Cell_Area_um\"\n",
       " \"Cell_Length_um\"\n",
       " \"Cell_Width_um\"\n",
       " \"Nuc_Vol_um\""
      ]
     },
     "execution_count": 3,
     "metadata": {},
     "output_type": "execute_result"
    }
   ],
   "source": [
    "names(df)"
   ]
  },
  {
   "cell_type": "code",
   "execution_count": 4,
   "id": "4314d2be",
   "metadata": {},
   "outputs": [],
   "source": [
    "df = df[:,[:gene,:NucleiCount,:Compartment,:CountMethod,:RNAperCell,:Cell_Length_um]];"
   ]
  },
  {
   "cell_type": "code",
   "execution_count": 7,
   "id": "7ee07693",
   "metadata": {},
   "outputs": [],
   "source": [
    "# filter NucleiCount = 1\n",
    "dfa = subset(df,:NucleiCount => n -> n.==1)\n",
    "# make cyto and nuc table separately.\n",
    "dfcyto = subset(dfa, :Compartment=>c->c.==\"Cytoplasm\")\n",
    "dfnuc = subset(dfa, :Compartment=>c->c.==\"Nucleus\")\n",
    "# separate the 7 different genes\n",
    "dfsN = []; dfsC = [];\n",
    "genes = unique(dfa[!,:gene])\n",
    "# add each to the vectors\n",
    "for i in 1:7\n",
    "    dftempN = subset(dfnuc, :gene=>S->S.==genes[i])\n",
    "    dftempC = subset(dfcyto, :gene=>S->S.==genes[i])\n",
    "    push!(dfsN,dftempN)\n",
    "    push!(dfsC,dftempC)\n",
    "end"
   ]
  },
  {
   "cell_type": "code",
   "execution_count": 13,
   "id": "progressive-reasoning",
   "metadata": {},
   "outputs": [],
   "source": [
    "n_vols = [dfsN[i][!,:Cell_Length_um] for i in 1:length(dfsN)]\n",
    "c_vols = [dfsC[i][!,:Cell_Length_um] for i in 1:length(dfsN)]\n",
    "n_ints = [dfsN[i][!,:RNAperCell] for i in 1:length(dfsN)]\n",
    "c_ints = [dfsC[i][!,:RNAperCell] for i in 1:length(dfsN)];"
   ]
  },
  {
   "cell_type": "code",
   "execution_count": null,
   "id": "answering-drive",
   "metadata": {},
   "outputs": [],
   "source": []
  }
 ],
 "metadata": {
  "kernelspec": {
   "display_name": "Julia 1.8.5",
   "language": "julia",
   "name": "julia-1.8"
  },
  "language_info": {
   "file_extension": ".jl",
   "mimetype": "application/julia",
   "name": "julia",
   "version": "1.8.5"
  }
 },
 "nbformat": 4,
 "nbformat_minor": 5
}
